{
 "cells": [
  {
   "cell_type": "code",
   "execution_count": 1,
   "id": "ancient-climate",
   "metadata": {},
   "outputs": [],
   "source": [
    "args_pre = {\n",
    "    'det_config': 'demo/mmdetection_cfg/faster_rcnn_r50_fpn_coco.py',\n",
    "    'det_checkpoint': 'https://download.openmmlab.com/mmdetection/v2.0/faster_rcnn/faster_rcnn_r50_fpn_1x_coco/faster_rcnn_r50_fpn_1x_coco_20200130-047c8118.pth',\n",
    "    'pose_detector_config': 'configs/body/2d_kpt_sview_rgb_img/topdown_heatmap/coco/hrnet_w48_coco_256x192.py',\n",
    "    'pose_detector_checkpoint': 'https://download.openmmlab.com/mmpose/top_down/hrnet/hrnet_w48_coco_256x192-b9e0b3ab_20200708.pth',\n",
    "    'pose_lifter_config': 'configs/body/3d_kpt_sview_rgb_vid/video_pose_lift/h36m/videopose3d_h36m_243frames_fullconv_supervised.py',\n",
    "    'pose_lifter_checkpoint': '/home/ubuntu/epoch_80.pth',\n",
    "    # Flags/Optional\n",
    "#     'video_path': 'demo/resources/jeldwen-1.mp4',\n",
    "    'rebase_keypoint_height': True,\n",
    "    'norm_pose_2d': None,\n",
    "    'num_instances': -1,\n",
    "    'show': False,\n",
    "    'out_video_root': 'vis_results',\n",
    "    'device': 'cuda:0',\n",
    "    'det_cat_id': 1,\n",
    "    'bbox_thr': 0.9,\n",
    "    'kpt_thr': 0.3,\n",
    "    'use_oks_tracking': None,\n",
    "    'tracking_thr': 0.3,\n",
    "    'euro': None,\n",
    "    'radius': 8,\n",
    "    'thickness': 2,\n",
    "    'detections_2d': ''\n",
    "}\n",
    "from types import SimpleNamespace\n",
    "args = SimpleNamespace(**args_pre)"
   ]
  },
  {
   "cell_type": "code",
   "execution_count": 2,
   "id": "mobile-rochester",
   "metadata": {},
   "outputs": [],
   "source": [
    "from demo import zach_v_body3d_two_stage_video as m_2d_3d_model "
   ]
  },
  {
   "cell_type": "code",
   "execution_count": 3,
   "id": "photographic-patch",
   "metadata": {},
   "outputs": [
    {
     "name": "stdout",
     "output_type": "stream",
     "text": [
      "Stage #1: 2D pose detection.\n"
     ]
    },
    {
     "name": "stderr",
     "output_type": "stream",
     "text": [
      "WARNING:root:Can not load dataset from config. Use default CLASSES instead.\n"
     ]
    },
    {
     "name": "stdout",
     "output_type": "stream",
     "text": [
      "Initialized Model\n",
      "Video len: 1513\n"
     ]
    },
    {
     "name": "stderr",
     "output_type": "stream",
     "text": [
      "[TensorRT] ERROR: Parameter check failed at: engine.cpp::setBindingDimensions::1136, condition: profileMaxDims.d[i] >= dimensions.d[i]\n",
      "[TensorRT] ERROR: safeContext.cpp (184) - Cudnn Error in configure: 7 (CUDNN_STATUS_MAPPING_ERROR)\n",
      "[TensorRT] ERROR: FAILED_EXECUTION: std::exception\n",
      "[TensorRT] ERROR: Parameter check failed at: engine.cpp::setBindingDimensions::1136, condition: profileMaxDims.d[i] >= dimensions.d[i]\n",
      "[TensorRT] ERROR: safeContext.cpp (184) - Cudnn Error in configure: 7 (CUDNN_STATUS_MAPPING_ERROR)\n",
      "[TensorRT] ERROR: FAILED_EXECUTION: std::exception\n",
      "[TensorRT] ERROR: Parameter check failed at: engine.cpp::setBindingDimensions::1136, condition: profileMaxDims.d[i] >= dimensions.d[i]\n",
      "[TensorRT] ERROR: safeContext.cpp (184) - Cudnn Error in configure: 7 (CUDNN_STATUS_MAPPING_ERROR)\n",
      "[TensorRT] ERROR: FAILED_EXECUTION: std::exception\n",
      "[TensorRT] ERROR: Parameter check failed at: engine.cpp::setBindingDimensions::1136, condition: profileMaxDims.d[i] >= dimensions.d[i]\n",
      "[TensorRT] ERROR: safeContext.cpp (184) - Cudnn Error in configure: 7 (CUDNN_STATUS_MAPPING_ERROR)\n",
      "[TensorRT] ERROR: FAILED_EXECUTION: std::exception\n",
      "[TensorRT] ERROR: Parameter check failed at: engine.cpp::setBindingDimensions::1136, condition: profileMaxDims.d[i] >= dimensions.d[i]\n",
      "[TensorRT] ERROR: safeContext.cpp (184) - Cudnn Error in configure: 7 (CUDNN_STATUS_MAPPING_ERROR)\n",
      "[TensorRT] ERROR: FAILED_EXECUTION: std::exception\n",
      "[TensorRT] ERROR: Parameter check failed at: engine.cpp::setBindingDimensions::1136, condition: profileMaxDims.d[i] >= dimensions.d[i]\n",
      "[TensorRT] ERROR: safeContext.cpp (184) - Cudnn Error in configure: 7 (CUDNN_STATUS_MAPPING_ERROR)\n",
      "[TensorRT] ERROR: FAILED_EXECUTION: std::exception\n"
     ]
    },
    {
     "name": "stdout",
     "output_type": "stream",
     "text": [
      "Time: 0.3916623592376709\n",
      "Time: 0.024144887924194336\n",
      "Time: 0.027008771896362305\n",
      "Time: 0.029262304306030273\n",
      "Time: 0.03151750564575195\n",
      "Time: 0.035668373107910156\n"
     ]
    },
    {
     "name": "stderr",
     "output_type": "stream",
     "text": [
      "[TensorRT] ERROR: Parameter check failed at: engine.cpp::setBindingDimensions::1136, condition: profileMaxDims.d[i] >= dimensions.d[i]\n",
      "[TensorRT] ERROR: safeContext.cpp (184) - Cudnn Error in configure: 7 (CUDNN_STATUS_MAPPING_ERROR)\n",
      "[TensorRT] ERROR: FAILED_EXECUTION: std::exception\n",
      "[TensorRT] ERROR: Parameter check failed at: engine.cpp::setBindingDimensions::1136, condition: profileMaxDims.d[i] >= dimensions.d[i]\n",
      "[TensorRT] ERROR: safeContext.cpp (184) - Cudnn Error in configure: 7 (CUDNN_STATUS_MAPPING_ERROR)\n",
      "[TensorRT] ERROR: FAILED_EXECUTION: std::exception\n",
      "[TensorRT] ERROR: Parameter check failed at: engine.cpp::setBindingDimensions::1136, condition: profileMaxDims.d[i] >= dimensions.d[i]\n",
      "[TensorRT] ERROR: safeContext.cpp (184) - Cudnn Error in configure: 7 (CUDNN_STATUS_MAPPING_ERROR)\n",
      "[TensorRT] ERROR: FAILED_EXECUTION: std::exception\n",
      "[TensorRT] ERROR: Parameter check failed at: engine.cpp::setBindingDimensions::1136, condition: profileMaxDims.d[i] >= dimensions.d[i]\n",
      "[TensorRT] ERROR: safeContext.cpp (184) - Cudnn Error in configure: 7 (CUDNN_STATUS_MAPPING_ERROR)\n",
      "[TensorRT] ERROR: FAILED_EXECUTION: std::exception\n",
      "[TensorRT] ERROR: Parameter check failed at: engine.cpp::setBindingDimensions::1136, condition: profileMaxDims.d[i] >= dimensions.d[i]\n",
      "[TensorRT] ERROR: safeContext.cpp (184) - Cudnn Error in configure: 7 (CUDNN_STATUS_MAPPING_ERROR)\n",
      "[TensorRT] ERROR: FAILED_EXECUTION: std::exception\n"
     ]
    },
    {
     "name": "stdout",
     "output_type": "stream",
     "text": [
      "Time: 0.0409083366394043\n",
      "Time: 0.03905224800109863\n",
      "Time: 0.04331040382385254\n",
      "Time: 0.04485130310058594\n",
      "Time: 0.04468894004821777\n"
     ]
    },
    {
     "name": "stderr",
     "output_type": "stream",
     "text": [
      "[TensorRT] ERROR: Parameter check failed at: engine.cpp::setBindingDimensions::1136, condition: profileMaxDims.d[i] >= dimensions.d[i]\n",
      "[TensorRT] ERROR: safeContext.cpp (184) - Cudnn Error in configure: 7 (CUDNN_STATUS_MAPPING_ERROR)\n",
      "[TensorRT] ERROR: FAILED_EXECUTION: std::exception\n",
      "[TensorRT] ERROR: Parameter check failed at: engine.cpp::setBindingDimensions::1136, condition: profileMaxDims.d[i] >= dimensions.d[i]\n",
      "[TensorRT] ERROR: safeContext.cpp (184) - Cudnn Error in configure: 7 (CUDNN_STATUS_MAPPING_ERROR)\n",
      "[TensorRT] ERROR: FAILED_EXECUTION: std::exception\n",
      "[TensorRT] ERROR: Parameter check failed at: engine.cpp::setBindingDimensions::1136, condition: profileMaxDims.d[i] >= dimensions.d[i]\n",
      "[TensorRT] ERROR: safeContext.cpp (184) - Cudnn Error in configure: 7 (CUDNN_STATUS_MAPPING_ERROR)\n",
      "[TensorRT] ERROR: FAILED_EXECUTION: std::exception\n",
      "[TensorRT] ERROR: Parameter check failed at: engine.cpp::setBindingDimensions::1136, condition: profileMaxDims.d[i] >= dimensions.d[i]\n",
      "[TensorRT] ERROR: safeContext.cpp (184) - Cudnn Error in configure: 7 (CUDNN_STATUS_MAPPING_ERROR)\n",
      "[TensorRT] ERROR: FAILED_EXECUTION: std::exception\n",
      "[TensorRT] ERROR: Parameter check failed at: engine.cpp::setBindingDimensions::1136, condition: profileMaxDims.d[i] >= dimensions.d[i]\n",
      "[TensorRT] ERROR: safeContext.cpp (184) - Cudnn Error in configure: 7 (CUDNN_STATUS_MAPPING_ERROR)\n",
      "[TensorRT] ERROR: FAILED_EXECUTION: std::exception\n"
     ]
    },
    {
     "name": "stdout",
     "output_type": "stream",
     "text": [
      "Time: 0.04046487808227539\n",
      "Time: 0.045859336853027344\n",
      "Time: 0.04499101638793945\n",
      "Time: 0.04630732536315918\n",
      "Time: 0.05155611038208008\n"
     ]
    },
    {
     "name": "stderr",
     "output_type": "stream",
     "text": [
      "[TensorRT] ERROR: Parameter check failed at: engine.cpp::setBindingDimensions::1136, condition: profileMaxDims.d[i] >= dimensions.d[i]\n",
      "[TensorRT] ERROR: safeContext.cpp (184) - Cudnn Error in configure: 7 (CUDNN_STATUS_MAPPING_ERROR)\n",
      "[TensorRT] ERROR: FAILED_EXECUTION: std::exception\n",
      "[TensorRT] ERROR: Parameter check failed at: engine.cpp::setBindingDimensions::1136, condition: profileMaxDims.d[i] >= dimensions.d[i]\n",
      "[TensorRT] ERROR: safeContext.cpp (184) - Cudnn Error in configure: 7 (CUDNN_STATUS_MAPPING_ERROR)\n",
      "[TensorRT] ERROR: FAILED_EXECUTION: std::exception\n",
      "[TensorRT] ERROR: Parameter check failed at: engine.cpp::setBindingDimensions::1136, condition: profileMaxDims.d[i] >= dimensions.d[i]\n",
      "[TensorRT] ERROR: safeContext.cpp (184) - Cudnn Error in configure: 7 (CUDNN_STATUS_MAPPING_ERROR)\n",
      "[TensorRT] ERROR: FAILED_EXECUTION: std::exception\n",
      "[TensorRT] ERROR: Parameter check failed at: engine.cpp::setBindingDimensions::1136, condition: profileMaxDims.d[i] >= dimensions.d[i]\n",
      "[TensorRT] ERROR: safeContext.cpp (184) - Cudnn Error in configure: 7 (CUDNN_STATUS_MAPPING_ERROR)\n",
      "[TensorRT] ERROR: FAILED_EXECUTION: std::exception\n"
     ]
    },
    {
     "name": "stdout",
     "output_type": "stream",
     "text": [
      "Time: 0.06273961067199707\n",
      "Time: 0.06116127967834473\n",
      "Time: 0.07764697074890137\n",
      "Time: 0.05318427085876465\n"
     ]
    },
    {
     "name": "stderr",
     "output_type": "stream",
     "text": [
      "[TensorRT] ERROR: Parameter check failed at: engine.cpp::setBindingDimensions::1136, condition: profileMaxDims.d[i] >= dimensions.d[i]\n",
      "[TensorRT] ERROR: safeContext.cpp (184) - Cudnn Error in configure: 7 (CUDNN_STATUS_MAPPING_ERROR)\n",
      "[TensorRT] ERROR: FAILED_EXECUTION: std::exception\n",
      "[TensorRT] ERROR: Parameter check failed at: engine.cpp::setBindingDimensions::1136, condition: profileMaxDims.d[i] >= dimensions.d[i]\n",
      "[TensorRT] ERROR: safeContext.cpp (184) - Cudnn Error in configure: 7 (CUDNN_STATUS_MAPPING_ERROR)\n",
      "[TensorRT] ERROR: FAILED_EXECUTION: std::exception\n",
      "[TensorRT] ERROR: Parameter check failed at: engine.cpp::setBindingDimensions::1136, condition: profileMaxDims.d[i] >= dimensions.d[i]\n",
      "[TensorRT] ERROR: safeContext.cpp (184) - Cudnn Error in configure: 7 (CUDNN_STATUS_MAPPING_ERROR)\n",
      "[TensorRT] ERROR: FAILED_EXECUTION: std::exception\n",
      "[TensorRT] ERROR: Parameter check failed at: engine.cpp::setBindingDimensions::1136, condition: profileMaxDims.d[i] >= dimensions.d[i]\n",
      "[TensorRT] ERROR: safeContext.cpp (184) - Cudnn Error in configure: 7 (CUDNN_STATUS_MAPPING_ERROR)\n",
      "[TensorRT] ERROR: FAILED_EXECUTION: std::exception\n"
     ]
    },
    {
     "name": "stdout",
     "output_type": "stream",
     "text": [
      "Time: 0.05528712272644043\n",
      "Time: 0.057741641998291016\n",
      "Time: 0.06606101989746094\n",
      "Time: 0.06271767616271973\n"
     ]
    },
    {
     "name": "stderr",
     "output_type": "stream",
     "text": [
      "[TensorRT] ERROR: Parameter check failed at: engine.cpp::setBindingDimensions::1136, condition: profileMaxDims.d[i] >= dimensions.d[i]\n",
      "[TensorRT] ERROR: safeContext.cpp (184) - Cudnn Error in configure: 7 (CUDNN_STATUS_MAPPING_ERROR)\n",
      "[TensorRT] ERROR: FAILED_EXECUTION: std::exception\n",
      "[TensorRT] ERROR: Parameter check failed at: engine.cpp::setBindingDimensions::1136, condition: profileMaxDims.d[i] >= dimensions.d[i]\n",
      "[TensorRT] ERROR: safeContext.cpp (184) - Cudnn Error in configure: 7 (CUDNN_STATUS_MAPPING_ERROR)\n",
      "[TensorRT] ERROR: FAILED_EXECUTION: std::exception\n",
      "[TensorRT] ERROR: Parameter check failed at: engine.cpp::setBindingDimensions::1136, condition: profileMaxDims.d[i] >= dimensions.d[i]\n",
      "[TensorRT] ERROR: safeContext.cpp (184) - Cudnn Error in configure: 7 (CUDNN_STATUS_MAPPING_ERROR)\n",
      "[TensorRT] ERROR: FAILED_EXECUTION: std::exception\n",
      "[TensorRT] ERROR: Parameter check failed at: engine.cpp::setBindingDimensions::1136, condition: profileMaxDims.d[i] >= dimensions.d[i]\n",
      "[TensorRT] ERROR: safeContext.cpp (184) - Cudnn Error in configure: 7 (CUDNN_STATUS_MAPPING_ERROR)\n",
      "[TensorRT] ERROR: FAILED_EXECUTION: std::exception\n"
     ]
    },
    {
     "name": "stdout",
     "output_type": "stream",
     "text": [
      "Time: 0.06772947311401367\n",
      "Time: 0.05908060073852539\n",
      "Time: 0.05879473686218262\n",
      "Time: 0.05741095542907715\n"
     ]
    },
    {
     "name": "stderr",
     "output_type": "stream",
     "text": [
      "[TensorRT] ERROR: Parameter check failed at: engine.cpp::setBindingDimensions::1136, condition: profileMaxDims.d[i] >= dimensions.d[i]\n",
      "[TensorRT] ERROR: safeContext.cpp (184) - Cudnn Error in configure: 7 (CUDNN_STATUS_MAPPING_ERROR)\n",
      "[TensorRT] ERROR: FAILED_EXECUTION: std::exception\n",
      "[TensorRT] ERROR: Parameter check failed at: engine.cpp::setBindingDimensions::1136, condition: profileMaxDims.d[i] >= dimensions.d[i]\n",
      "[TensorRT] ERROR: safeContext.cpp (184) - Cudnn Error in configure: 7 (CUDNN_STATUS_MAPPING_ERROR)\n",
      "[TensorRT] ERROR: FAILED_EXECUTION: std::exception\n",
      "[TensorRT] ERROR: Parameter check failed at: engine.cpp::setBindingDimensions::1136, condition: profileMaxDims.d[i] >= dimensions.d[i]\n",
      "[TensorRT] ERROR: safeContext.cpp (184) - Cudnn Error in configure: 7 (CUDNN_STATUS_MAPPING_ERROR)\n",
      "[TensorRT] ERROR: FAILED_EXECUTION: std::exception\n",
      "[TensorRT] ERROR: Parameter check failed at: engine.cpp::setBindingDimensions::1136, condition: profileMaxDims.d[i] >= dimensions.d[i]\n",
      "[TensorRT] ERROR: safeContext.cpp (184) - Cudnn Error in configure: 7 (CUDNN_STATUS_MAPPING_ERROR)\n",
      "[TensorRT] ERROR: FAILED_EXECUTION: std::exception\n"
     ]
    },
    {
     "name": "stdout",
     "output_type": "stream",
     "text": [
      "Time: 0.06282830238342285\n",
      "Time: 0.06164741516113281\n",
      "Time: 0.058687686920166016\n",
      "Time: 0.057828664779663086\n"
     ]
    },
    {
     "name": "stderr",
     "output_type": "stream",
     "text": [
      "[TensorRT] ERROR: Parameter check failed at: engine.cpp::setBindingDimensions::1136, condition: profileMaxDims.d[i] >= dimensions.d[i]\n",
      "[TensorRT] ERROR: safeContext.cpp (184) - Cudnn Error in configure: 7 (CUDNN_STATUS_MAPPING_ERROR)\n",
      "[TensorRT] ERROR: FAILED_EXECUTION: std::exception\n",
      "[TensorRT] ERROR: Parameter check failed at: engine.cpp::setBindingDimensions::1136, condition: profileMaxDims.d[i] >= dimensions.d[i]\n",
      "[TensorRT] ERROR: safeContext.cpp (184) - Cudnn Error in configure: 7 (CUDNN_STATUS_MAPPING_ERROR)\n",
      "[TensorRT] ERROR: FAILED_EXECUTION: std::exception\n",
      "[TensorRT] ERROR: Parameter check failed at: engine.cpp::setBindingDimensions::1136, condition: profileMaxDims.d[i] >= dimensions.d[i]\n",
      "[TensorRT] ERROR: safeContext.cpp (184) - Cudnn Error in configure: 7 (CUDNN_STATUS_MAPPING_ERROR)\n",
      "[TensorRT] ERROR: FAILED_EXECUTION: std::exception\n"
     ]
    },
    {
     "name": "stdout",
     "output_type": "stream",
     "text": [
      "Time: 0.060997962951660156\n",
      "Time: 0.07116985321044922\n",
      "Time: 0.07550787925720215\n"
     ]
    },
    {
     "name": "stderr",
     "output_type": "stream",
     "text": [
      "[TensorRT] ERROR: Parameter check failed at: engine.cpp::setBindingDimensions::1136, condition: profileMaxDims.d[i] >= dimensions.d[i]\n",
      "[TensorRT] ERROR: safeContext.cpp (184) - Cudnn Error in configure: 7 (CUDNN_STATUS_MAPPING_ERROR)\n",
      "[TensorRT] ERROR: FAILED_EXECUTION: std::exception\n",
      "[TensorRT] ERROR: Parameter check failed at: engine.cpp::setBindingDimensions::1136, condition: profileMaxDims.d[i] >= dimensions.d[i]\n",
      "[TensorRT] ERROR: safeContext.cpp (184) - Cudnn Error in configure: 7 (CUDNN_STATUS_MAPPING_ERROR)\n",
      "[TensorRT] ERROR: FAILED_EXECUTION: std::exception\n",
      "[TensorRT] ERROR: Parameter check failed at: engine.cpp::setBindingDimensions::1136, condition: profileMaxDims.d[i] >= dimensions.d[i]\n",
      "[TensorRT] ERROR: safeContext.cpp (184) - Cudnn Error in configure: 7 (CUDNN_STATUS_MAPPING_ERROR)\n",
      "[TensorRT] ERROR: FAILED_EXECUTION: std::exception\n",
      "[TensorRT] ERROR: Parameter check failed at: engine.cpp::setBindingDimensions::1136, condition: profileMaxDims.d[i] >= dimensions.d[i]\n",
      "[TensorRT] ERROR: safeContext.cpp (184) - Cudnn Error in configure: 7 (CUDNN_STATUS_MAPPING_ERROR)\n",
      "[TensorRT] ERROR: FAILED_EXECUTION: std::exception\n"
     ]
    },
    {
     "name": "stdout",
     "output_type": "stream",
     "text": [
      "Time: 0.08317852020263672\n",
      "Time: 0.06433224678039551\n",
      "Time: 0.05932164192199707\n",
      "Time: 0.06860661506652832\n"
     ]
    },
    {
     "name": "stderr",
     "output_type": "stream",
     "text": [
      "[TensorRT] ERROR: Parameter check failed at: engine.cpp::setBindingDimensions::1136, condition: profileMaxDims.d[i] >= dimensions.d[i]\n",
      "[TensorRT] ERROR: safeContext.cpp (184) - Cudnn Error in configure: 7 (CUDNN_STATUS_MAPPING_ERROR)\n",
      "[TensorRT] ERROR: FAILED_EXECUTION: std::exception\n",
      "[TensorRT] ERROR: Parameter check failed at: engine.cpp::setBindingDimensions::1136, condition: profileMaxDims.d[i] >= dimensions.d[i]\n",
      "[TensorRT] ERROR: safeContext.cpp (184) - Cudnn Error in configure: 7 (CUDNN_STATUS_MAPPING_ERROR)\n",
      "[TensorRT] ERROR: FAILED_EXECUTION: std::exception\n",
      "[TensorRT] ERROR: Parameter check failed at: engine.cpp::setBindingDimensions::1136, condition: profileMaxDims.d[i] >= dimensions.d[i]\n",
      "[TensorRT] ERROR: safeContext.cpp (184) - Cudnn Error in configure: 7 (CUDNN_STATUS_MAPPING_ERROR)\n",
      "[TensorRT] ERROR: FAILED_EXECUTION: std::exception\n",
      "[TensorRT] ERROR: Parameter check failed at: engine.cpp::setBindingDimensions::1136, condition: profileMaxDims.d[i] >= dimensions.d[i]\n",
      "[TensorRT] ERROR: safeContext.cpp (184) - Cudnn Error in configure: 7 (CUDNN_STATUS_MAPPING_ERROR)\n",
      "[TensorRT] ERROR: FAILED_EXECUTION: std::exception\n"
     ]
    },
    {
     "name": "stdout",
     "output_type": "stream",
     "text": [
      "Time: 0.06001901626586914\n",
      "Time: 0.05962085723876953\n",
      "Time: 0.06204867362976074\n",
      "Time: 0.05942845344543457\n"
     ]
    },
    {
     "name": "stderr",
     "output_type": "stream",
     "text": [
      "[TensorRT] ERROR: Parameter check failed at: engine.cpp::setBindingDimensions::1136, condition: profileMaxDims.d[i] >= dimensions.d[i]\n",
      "[TensorRT] ERROR: safeContext.cpp (184) - Cudnn Error in configure: 7 (CUDNN_STATUS_MAPPING_ERROR)\n",
      "[TensorRT] ERROR: FAILED_EXECUTION: std::exception\n",
      "[TensorRT] ERROR: Parameter check failed at: engine.cpp::setBindingDimensions::1136, condition: profileMaxDims.d[i] >= dimensions.d[i]\n",
      "[TensorRT] ERROR: safeContext.cpp (184) - Cudnn Error in configure: 7 (CUDNN_STATUS_MAPPING_ERROR)\n",
      "[TensorRT] ERROR: FAILED_EXECUTION: std::exception\n"
     ]
    },
    {
     "name": "stdout",
     "output_type": "stream",
     "text": [
      "Time: 0.08870911598205566\n",
      "Time: 0.060788631439208984\n"
     ]
    },
    {
     "name": "stderr",
     "output_type": "stream",
     "text": [
      "[TensorRT] ERROR: Parameter check failed at: engine.cpp::setBindingDimensions::1136, condition: profileMaxDims.d[i] >= dimensions.d[i]\n",
      "[TensorRT] ERROR: safeContext.cpp (184) - Cudnn Error in configure: 7 (CUDNN_STATUS_MAPPING_ERROR)\n",
      "[TensorRT] ERROR: FAILED_EXECUTION: std::exception\n",
      "[TensorRT] ERROR: Parameter check failed at: engine.cpp::setBindingDimensions::1136, condition: profileMaxDims.d[i] >= dimensions.d[i]\n",
      "[TensorRT] ERROR: safeContext.cpp (184) - Cudnn Error in configure: 7 (CUDNN_STATUS_MAPPING_ERROR)\n",
      "[TensorRT] ERROR: FAILED_EXECUTION: std::exception\n",
      "[TensorRT] ERROR: Parameter check failed at: engine.cpp::setBindingDimensions::1136, condition: profileMaxDims.d[i] >= dimensions.d[i]\n",
      "[TensorRT] ERROR: safeContext.cpp (184) - Cudnn Error in configure: 7 (CUDNN_STATUS_MAPPING_ERROR)\n",
      "[TensorRT] ERROR: FAILED_EXECUTION: std::exception\n"
     ]
    },
    {
     "name": "stdout",
     "output_type": "stream",
     "text": [
      "Time: 0.22417497634887695\n",
      "Time: 0.06449055671691895\n",
      "Time: 0.08592629432678223\n"
     ]
    },
    {
     "name": "stderr",
     "output_type": "stream",
     "text": [
      "[TensorRT] ERROR: Parameter check failed at: engine.cpp::setBindingDimensions::1136, condition: profileMaxDims.d[i] >= dimensions.d[i]\n",
      "[TensorRT] ERROR: safeContext.cpp (184) - Cudnn Error in configure: 7 (CUDNN_STATUS_MAPPING_ERROR)\n",
      "[TensorRT] ERROR: FAILED_EXECUTION: std::exception\n",
      "[TensorRT] ERROR: Parameter check failed at: engine.cpp::setBindingDimensions::1136, condition: profileMaxDims.d[i] >= dimensions.d[i]\n",
      "[TensorRT] ERROR: safeContext.cpp (184) - Cudnn Error in configure: 7 (CUDNN_STATUS_MAPPING_ERROR)\n",
      "[TensorRT] ERROR: FAILED_EXECUTION: std::exception\n",
      "[TensorRT] ERROR: Parameter check failed at: engine.cpp::setBindingDimensions::1136, condition: profileMaxDims.d[i] >= dimensions.d[i]\n",
      "[TensorRT] ERROR: safeContext.cpp (184) - Cudnn Error in configure: 7 (CUDNN_STATUS_MAPPING_ERROR)\n",
      "[TensorRT] ERROR: FAILED_EXECUTION: std::exception\n"
     ]
    },
    {
     "name": "stdout",
     "output_type": "stream",
     "text": [
      "Time: 0.08015704154968262\n",
      "Time: 0.04731130599975586\n",
      "Time: 0.10783815383911133\n"
     ]
    },
    {
     "name": "stderr",
     "output_type": "stream",
     "text": [
      "[TensorRT] ERROR: Parameter check failed at: engine.cpp::setBindingDimensions::1136, condition: profileMaxDims.d[i] >= dimensions.d[i]\n",
      "[TensorRT] ERROR: safeContext.cpp (184) - Cudnn Error in configure: 7 (CUDNN_STATUS_MAPPING_ERROR)\n",
      "[TensorRT] ERROR: FAILED_EXECUTION: std::exception\n",
      "[TensorRT] ERROR: Parameter check failed at: engine.cpp::setBindingDimensions::1136, condition: profileMaxDims.d[i] >= dimensions.d[i]\n",
      "[TensorRT] ERROR: safeContext.cpp (184) - Cudnn Error in configure: 7 (CUDNN_STATUS_MAPPING_ERROR)\n",
      "[TensorRT] ERROR: FAILED_EXECUTION: std::exception\n"
     ]
    },
    {
     "name": "stdout",
     "output_type": "stream",
     "text": [
      "Time: 0.07544875144958496\n",
      "Time: 0.0696115493774414\n"
     ]
    },
    {
     "name": "stderr",
     "output_type": "stream",
     "text": [
      "[TensorRT] ERROR: Parameter check failed at: engine.cpp::setBindingDimensions::1136, condition: profileMaxDims.d[i] >= dimensions.d[i]\n",
      "[TensorRT] ERROR: safeContext.cpp (184) - Cudnn Error in configure: 7 (CUDNN_STATUS_MAPPING_ERROR)\n",
      "[TensorRT] ERROR: FAILED_EXECUTION: std::exception\n",
      "[TensorRT] ERROR: Parameter check failed at: engine.cpp::setBindingDimensions::1136, condition: profileMaxDims.d[i] >= dimensions.d[i]\n",
      "[TensorRT] ERROR: safeContext.cpp (184) - Cudnn Error in configure: 7 (CUDNN_STATUS_MAPPING_ERROR)\n",
      "[TensorRT] ERROR: FAILED_EXECUTION: std::exception\n",
      "[TensorRT] ERROR: Parameter check failed at: engine.cpp::setBindingDimensions::1136, condition: profileMaxDims.d[i] >= dimensions.d[i]\n",
      "[TensorRT] ERROR: safeContext.cpp (184) - Cudnn Error in configure: 7 (CUDNN_STATUS_MAPPING_ERROR)\n",
      "[TensorRT] ERROR: FAILED_EXECUTION: std::exception\n"
     ]
    },
    {
     "name": "stdout",
     "output_type": "stream",
     "text": [
      "Time: 0.09885096549987793\n",
      "Time: 0.03612685203552246\n",
      "Time: 0.04026055335998535\n"
     ]
    },
    {
     "name": "stderr",
     "output_type": "stream",
     "text": [
      "[TensorRT] ERROR: Parameter check failed at: engine.cpp::setBindingDimensions::1136, condition: profileMaxDims.d[i] >= dimensions.d[i]\n",
      "[TensorRT] ERROR: safeContext.cpp (184) - Cudnn Error in configure: 7 (CUDNN_STATUS_MAPPING_ERROR)\n",
      "[TensorRT] ERROR: FAILED_EXECUTION: std::exception\n",
      "[TensorRT] ERROR: Parameter check failed at: engine.cpp::setBindingDimensions::1136, condition: profileMaxDims.d[i] >= dimensions.d[i]\n",
      "[TensorRT] ERROR: safeContext.cpp (184) - Cudnn Error in configure: 7 (CUDNN_STATUS_MAPPING_ERROR)\n",
      "[TensorRT] ERROR: FAILED_EXECUTION: std::exception\n",
      "[TensorRT] ERROR: Parameter check failed at: engine.cpp::setBindingDimensions::1136, condition: profileMaxDims.d[i] >= dimensions.d[i]\n",
      "[TensorRT] ERROR: safeContext.cpp (184) - Cudnn Error in configure: 7 (CUDNN_STATUS_MAPPING_ERROR)\n",
      "[TensorRT] ERROR: FAILED_EXECUTION: std::exception\n"
     ]
    },
    {
     "name": "stdout",
     "output_type": "stream",
     "text": [
      "Time: 0.03820466995239258\n",
      "Time: 0.04964160919189453\n",
      "Time: 0.03887772560119629\n"
     ]
    },
    {
     "name": "stderr",
     "output_type": "stream",
     "text": [
      "[TensorRT] ERROR: Parameter check failed at: engine.cpp::setBindingDimensions::1136, condition: profileMaxDims.d[i] >= dimensions.d[i]\n",
      "[TensorRT] ERROR: safeContext.cpp (184) - Cudnn Error in configure: 7 (CUDNN_STATUS_MAPPING_ERROR)\n",
      "[TensorRT] ERROR: FAILED_EXECUTION: std::exception\n",
      "[TensorRT] ERROR: Parameter check failed at: engine.cpp::setBindingDimensions::1136, condition: profileMaxDims.d[i] >= dimensions.d[i]\n",
      "[TensorRT] ERROR: safeContext.cpp (184) - Cudnn Error in configure: 7 (CUDNN_STATUS_MAPPING_ERROR)\n",
      "[TensorRT] ERROR: FAILED_EXECUTION: std::exception\n",
      "[TensorRT] ERROR: Parameter check failed at: engine.cpp::setBindingDimensions::1136, condition: profileMaxDims.d[i] >= dimensions.d[i]\n",
      "[TensorRT] ERROR: safeContext.cpp (184) - Cudnn Error in configure: 7 (CUDNN_STATUS_MAPPING_ERROR)\n",
      "[TensorRT] ERROR: FAILED_EXECUTION: std::exception\n"
     ]
    },
    {
     "name": "stdout",
     "output_type": "stream",
     "text": [
      "Time: 0.03862881660461426\n",
      "Time: 0.03892946243286133\n",
      "Time: 0.06487250328063965\n"
     ]
    },
    {
     "name": "stderr",
     "output_type": "stream",
     "text": [
      "[TensorRT] ERROR: Parameter check failed at: engine.cpp::setBindingDimensions::1136, condition: profileMaxDims.d[i] >= dimensions.d[i]\n",
      "[TensorRT] ERROR: safeContext.cpp (184) - Cudnn Error in configure: 7 (CUDNN_STATUS_MAPPING_ERROR)\n",
      "[TensorRT] ERROR: FAILED_EXECUTION: std::exception\n",
      "[TensorRT] ERROR: Parameter check failed at: engine.cpp::setBindingDimensions::1136, condition: profileMaxDims.d[i] >= dimensions.d[i]\n",
      "[TensorRT] ERROR: safeContext.cpp (184) - Cudnn Error in configure: 7 (CUDNN_STATUS_MAPPING_ERROR)\n",
      "[TensorRT] ERROR: FAILED_EXECUTION: std::exception\n",
      "[TensorRT] ERROR: Parameter check failed at: engine.cpp::setBindingDimensions::1136, condition: profileMaxDims.d[i] >= dimensions.d[i]\n",
      "[TensorRT] ERROR: safeContext.cpp (184) - Cudnn Error in configure: 7 (CUDNN_STATUS_MAPPING_ERROR)\n",
      "[TensorRT] ERROR: FAILED_EXECUTION: std::exception\n"
     ]
    },
    {
     "name": "stdout",
     "output_type": "stream",
     "text": [
      "Time: 0.027500391006469727\n",
      "Time: 0.029018878936767578\n",
      "Time: 0.03082752227783203\n"
     ]
    },
    {
     "name": "stderr",
     "output_type": "stream",
     "text": [
      "[TensorRT] ERROR: Parameter check failed at: engine.cpp::setBindingDimensions::1136, condition: profileMaxDims.d[i] >= dimensions.d[i]\n",
      "[TensorRT] ERROR: safeContext.cpp (184) - Cudnn Error in configure: 7 (CUDNN_STATUS_MAPPING_ERROR)\n",
      "[TensorRT] ERROR: FAILED_EXECUTION: std::exception\n",
      "[TensorRT] ERROR: Parameter check failed at: engine.cpp::setBindingDimensions::1136, condition: profileMaxDims.d[i] >= dimensions.d[i]\n",
      "[TensorRT] ERROR: safeContext.cpp (184) - Cudnn Error in configure: 7 (CUDNN_STATUS_MAPPING_ERROR)\n",
      "[TensorRT] ERROR: FAILED_EXECUTION: std::exception\n",
      "[TensorRT] ERROR: Parameter check failed at: engine.cpp::setBindingDimensions::1136, condition: profileMaxDims.d[i] >= dimensions.d[i]\n",
      "[TensorRT] ERROR: safeContext.cpp (184) - Cudnn Error in configure: 7 (CUDNN_STATUS_MAPPING_ERROR)\n",
      "[TensorRT] ERROR: FAILED_EXECUTION: std::exception\n"
     ]
    },
    {
     "name": "stdout",
     "output_type": "stream",
     "text": [
      "Time: 0.0855865478515625\n",
      "Time: 0.03163337707519531\n",
      "Time: 0.03933286666870117\n"
     ]
    },
    {
     "name": "stderr",
     "output_type": "stream",
     "text": [
      "[TensorRT] ERROR: Parameter check failed at: engine.cpp::setBindingDimensions::1136, condition: profileMaxDims.d[i] >= dimensions.d[i]\n",
      "[TensorRT] ERROR: safeContext.cpp (184) - Cudnn Error in configure: 7 (CUDNN_STATUS_MAPPING_ERROR)\n",
      "[TensorRT] ERROR: FAILED_EXECUTION: std::exception\n",
      "[TensorRT] ERROR: Parameter check failed at: engine.cpp::setBindingDimensions::1136, condition: profileMaxDims.d[i] >= dimensions.d[i]\n",
      "[TensorRT] ERROR: safeContext.cpp (184) - Cudnn Error in configure: 7 (CUDNN_STATUS_MAPPING_ERROR)\n",
      "[TensorRT] ERROR: FAILED_EXECUTION: std::exception\n",
      "[TensorRT] ERROR: Parameter check failed at: engine.cpp::setBindingDimensions::1136, condition: profileMaxDims.d[i] >= dimensions.d[i]\n",
      "[TensorRT] ERROR: safeContext.cpp (184) - Cudnn Error in configure: 7 (CUDNN_STATUS_MAPPING_ERROR)\n",
      "[TensorRT] ERROR: FAILED_EXECUTION: std::exception\n",
      "[TensorRT] ERROR: Parameter check failed at: engine.cpp::setBindingDimensions::1136, condition: profileMaxDims.d[i] >= dimensions.d[i]\n",
      "[TensorRT] ERROR: safeContext.cpp (184) - Cudnn Error in configure: 7 (CUDNN_STATUS_MAPPING_ERROR)\n",
      "[TensorRT] ERROR: FAILED_EXECUTION: std::exception\n",
      "[TensorRT] ERROR: Parameter check failed at: engine.cpp::setBindingDimensions::1136, condition: profileMaxDims.d[i] >= dimensions.d[i]\n",
      "[TensorRT] ERROR: safeContext.cpp (184) - Cudnn Error in configure: 7 (CUDNN_STATUS_MAPPING_ERROR)\n",
      "[TensorRT] ERROR: FAILED_EXECUTION: std::exception\n"
     ]
    },
    {
     "name": "stdout",
     "output_type": "stream",
     "text": [
      "Time: 0.03299760818481445\n",
      "Time: 0.049434661865234375\n",
      "Time: 0.044120073318481445\n",
      "Time: 0.03252720832824707\n",
      "Time: 0.032837629318237305\n"
     ]
    },
    {
     "name": "stderr",
     "output_type": "stream",
     "text": [
      "[TensorRT] ERROR: Parameter check failed at: engine.cpp::setBindingDimensions::1136, condition: profileMaxDims.d[i] >= dimensions.d[i]\n",
      "[TensorRT] ERROR: safeContext.cpp (184) - Cudnn Error in configure: 7 (CUDNN_STATUS_MAPPING_ERROR)\n",
      "[TensorRT] ERROR: FAILED_EXECUTION: std::exception\n",
      "[TensorRT] ERROR: Parameter check failed at: engine.cpp::setBindingDimensions::1136, condition: profileMaxDims.d[i] >= dimensions.d[i]\n",
      "[TensorRT] ERROR: safeContext.cpp (184) - Cudnn Error in configure: 7 (CUDNN_STATUS_MAPPING_ERROR)\n",
      "[TensorRT] ERROR: FAILED_EXECUTION: std::exception\n",
      "[TensorRT] ERROR: Parameter check failed at: engine.cpp::setBindingDimensions::1136, condition: profileMaxDims.d[i] >= dimensions.d[i]\n",
      "[TensorRT] ERROR: safeContext.cpp (184) - Cudnn Error in configure: 7 (CUDNN_STATUS_MAPPING_ERROR)\n",
      "[TensorRT] ERROR: FAILED_EXECUTION: std::exception\n",
      "[TensorRT] ERROR: Parameter check failed at: engine.cpp::setBindingDimensions::1136, condition: profileMaxDims.d[i] >= dimensions.d[i]\n",
      "[TensorRT] ERROR: safeContext.cpp (184) - Cudnn Error in configure: 7 (CUDNN_STATUS_MAPPING_ERROR)\n",
      "[TensorRT] ERROR: FAILED_EXECUTION: std::exception\n",
      "[TensorRT] ERROR: Parameter check failed at: engine.cpp::setBindingDimensions::1136, condition: profileMaxDims.d[i] >= dimensions.d[i]\n",
      "[TensorRT] ERROR: safeContext.cpp (184) - Cudnn Error in configure: 7 (CUDNN_STATUS_MAPPING_ERROR)\n",
      "[TensorRT] ERROR: FAILED_EXECUTION: std::exception\n",
      "[TensorRT] ERROR: Parameter check failed at: engine.cpp::setBindingDimensions::1136, condition: profileMaxDims.d[i] >= dimensions.d[i]\n",
      "[TensorRT] ERROR: safeContext.cpp (184) - Cudnn Error in configure: 7 (CUDNN_STATUS_MAPPING_ERROR)\n",
      "[TensorRT] ERROR: FAILED_EXECUTION: std::exception\n"
     ]
    },
    {
     "name": "stdout",
     "output_type": "stream",
     "text": [
      "Time: 0.036772966384887695\n",
      "Time: 0.04591965675354004\n",
      "Time: 0.032721757888793945\n",
      "Time: 0.0334935188293457\n",
      "Time: 0.03308916091918945\n",
      "Time: 0.03925800323486328\n"
     ]
    },
    {
     "name": "stderr",
     "output_type": "stream",
     "text": [
      "[TensorRT] ERROR: Parameter check failed at: engine.cpp::setBindingDimensions::1136, condition: profileMaxDims.d[i] >= dimensions.d[i]\n",
      "[TensorRT] ERROR: safeContext.cpp (184) - Cudnn Error in configure: 7 (CUDNN_STATUS_MAPPING_ERROR)\n",
      "[TensorRT] ERROR: FAILED_EXECUTION: std::exception\n",
      "[TensorRT] ERROR: Parameter check failed at: engine.cpp::setBindingDimensions::1136, condition: profileMaxDims.d[i] >= dimensions.d[i]\n",
      "[TensorRT] ERROR: safeContext.cpp (184) - Cudnn Error in configure: 7 (CUDNN_STATUS_MAPPING_ERROR)\n",
      "[TensorRT] ERROR: FAILED_EXECUTION: std::exception\n",
      "[TensorRT] ERROR: Parameter check failed at: engine.cpp::setBindingDimensions::1136, condition: profileMaxDims.d[i] >= dimensions.d[i]\n",
      "[TensorRT] ERROR: safeContext.cpp (184) - Cudnn Error in configure: 7 (CUDNN_STATUS_MAPPING_ERROR)\n",
      "[TensorRT] ERROR: FAILED_EXECUTION: std::exception\n",
      "[TensorRT] ERROR: Parameter check failed at: engine.cpp::setBindingDimensions::1136, condition: profileMaxDims.d[i] >= dimensions.d[i]\n",
      "[TensorRT] ERROR: safeContext.cpp (184) - Cudnn Error in configure: 7 (CUDNN_STATUS_MAPPING_ERROR)\n",
      "[TensorRT] ERROR: FAILED_EXECUTION: std::exception\n",
      "[TensorRT] ERROR: Parameter check failed at: engine.cpp::setBindingDimensions::1136, condition: profileMaxDims.d[i] >= dimensions.d[i]\n",
      "[TensorRT] ERROR: safeContext.cpp (184) - Cudnn Error in configure: 7 (CUDNN_STATUS_MAPPING_ERROR)\n",
      "[TensorRT] ERROR: FAILED_EXECUTION: std::exception\n",
      "[TensorRT] ERROR: Parameter check failed at: engine.cpp::setBindingDimensions::1136, condition: profileMaxDims.d[i] >= dimensions.d[i]\n",
      "[TensorRT] ERROR: safeContext.cpp (184) - Cudnn Error in configure: 7 (CUDNN_STATUS_MAPPING_ERROR)\n",
      "[TensorRT] ERROR: FAILED_EXECUTION: std::exception\n"
     ]
    },
    {
     "name": "stdout",
     "output_type": "stream",
     "text": [
      "Time: 0.036939144134521484\n",
      "Time: 0.03646349906921387\n",
      "Time: 0.0360260009765625\n",
      "Time: 0.04412508010864258\n",
      "Time: 0.03629302978515625\n",
      "Time: 0.0364840030670166\n"
     ]
    },
    {
     "name": "stderr",
     "output_type": "stream",
     "text": [
      "[TensorRT] ERROR: Parameter check failed at: engine.cpp::setBindingDimensions::1136, condition: profileMaxDims.d[i] >= dimensions.d[i]\n",
      "[TensorRT] ERROR: safeContext.cpp (184) - Cudnn Error in configure: 7 (CUDNN_STATUS_MAPPING_ERROR)\n",
      "[TensorRT] ERROR: FAILED_EXECUTION: std::exception\n",
      "[TensorRT] ERROR: Parameter check failed at: engine.cpp::setBindingDimensions::1136, condition: profileMaxDims.d[i] >= dimensions.d[i]\n",
      "[TensorRT] ERROR: safeContext.cpp (184) - Cudnn Error in configure: 7 (CUDNN_STATUS_MAPPING_ERROR)\n",
      "[TensorRT] ERROR: FAILED_EXECUTION: std::exception\n",
      "[TensorRT] ERROR: Parameter check failed at: engine.cpp::setBindingDimensions::1136, condition: profileMaxDims.d[i] >= dimensions.d[i]\n",
      "[TensorRT] ERROR: safeContext.cpp (184) - Cudnn Error in configure: 7 (CUDNN_STATUS_MAPPING_ERROR)\n",
      "[TensorRT] ERROR: FAILED_EXECUTION: std::exception\n",
      "[TensorRT] ERROR: Parameter check failed at: engine.cpp::setBindingDimensions::1136, condition: profileMaxDims.d[i] >= dimensions.d[i]\n",
      "[TensorRT] ERROR: safeContext.cpp (184) - Cudnn Error in configure: 7 (CUDNN_STATUS_MAPPING_ERROR)\n",
      "[TensorRT] ERROR: FAILED_EXECUTION: std::exception\n",
      "[TensorRT] ERROR: Parameter check failed at: engine.cpp::setBindingDimensions::1136, condition: profileMaxDims.d[i] >= dimensions.d[i]\n",
      "[TensorRT] ERROR: safeContext.cpp (184) - Cudnn Error in configure: 7 (CUDNN_STATUS_MAPPING_ERROR)\n",
      "[TensorRT] ERROR: FAILED_EXECUTION: std::exception\n"
     ]
    },
    {
     "name": "stdout",
     "output_type": "stream",
     "text": [
      "Time: 0.04695773124694824\n",
      "Time: 0.03609752655029297\n",
      "Time: 0.03647160530090332\n",
      "Time: 0.036217689514160156\n",
      "Time: 0.037363290786743164\n"
     ]
    },
    {
     "name": "stderr",
     "output_type": "stream",
     "text": [
      "[TensorRT] ERROR: Parameter check failed at: engine.cpp::setBindingDimensions::1136, condition: profileMaxDims.d[i] >= dimensions.d[i]\n",
      "[TensorRT] ERROR: safeContext.cpp (184) - Cudnn Error in configure: 7 (CUDNN_STATUS_MAPPING_ERROR)\n",
      "[TensorRT] ERROR: FAILED_EXECUTION: std::exception\n",
      "[TensorRT] ERROR: Parameter check failed at: engine.cpp::setBindingDimensions::1136, condition: profileMaxDims.d[i] >= dimensions.d[i]\n",
      "[TensorRT] ERROR: safeContext.cpp (184) - Cudnn Error in configure: 7 (CUDNN_STATUS_MAPPING_ERROR)\n",
      "[TensorRT] ERROR: FAILED_EXECUTION: std::exception\n",
      "[TensorRT] ERROR: Parameter check failed at: engine.cpp::setBindingDimensions::1136, condition: profileMaxDims.d[i] >= dimensions.d[i]\n",
      "[TensorRT] ERROR: safeContext.cpp (184) - Cudnn Error in configure: 7 (CUDNN_STATUS_MAPPING_ERROR)\n",
      "[TensorRT] ERROR: FAILED_EXECUTION: std::exception\n",
      "[TensorRT] ERROR: Parameter check failed at: engine.cpp::setBindingDimensions::1136, condition: profileMaxDims.d[i] >= dimensions.d[i]\n",
      "[TensorRT] ERROR: safeContext.cpp (184) - Cudnn Error in configure: 7 (CUDNN_STATUS_MAPPING_ERROR)\n",
      "[TensorRT] ERROR: FAILED_EXECUTION: std::exception\n",
      "[TensorRT] ERROR: Parameter check failed at: engine.cpp::setBindingDimensions::1136, condition: profileMaxDims.d[i] >= dimensions.d[i]\n",
      "[TensorRT] ERROR: safeContext.cpp (184) - Cudnn Error in configure: 7 (CUDNN_STATUS_MAPPING_ERROR)\n",
      "[TensorRT] ERROR: FAILED_EXECUTION: std::exception\n"
     ]
    },
    {
     "name": "stdout",
     "output_type": "stream",
     "text": [
      "Time: 0.04105710983276367\n",
      "Time: 0.05337405204772949\n",
      "Time: 0.04173779487609863\n",
      "Time: 0.04267072677612305\n",
      "Time: 0.027228116989135742\n"
     ]
    },
    {
     "name": "stderr",
     "output_type": "stream",
     "text": [
      "[TensorRT] ERROR: Parameter check failed at: engine.cpp::setBindingDimensions::1136, condition: profileMaxDims.d[i] >= dimensions.d[i]\n",
      "[TensorRT] ERROR: safeContext.cpp (184) - Cudnn Error in configure: 7 (CUDNN_STATUS_MAPPING_ERROR)\n",
      "[TensorRT] ERROR: FAILED_EXECUTION: std::exception\n",
      "[TensorRT] ERROR: Parameter check failed at: engine.cpp::setBindingDimensions::1136, condition: profileMaxDims.d[i] >= dimensions.d[i]\n",
      "[TensorRT] ERROR: safeContext.cpp (184) - Cudnn Error in configure: 7 (CUDNN_STATUS_MAPPING_ERROR)\n",
      "[TensorRT] ERROR: FAILED_EXECUTION: std::exception\n",
      "[TensorRT] ERROR: Parameter check failed at: engine.cpp::setBindingDimensions::1136, condition: profileMaxDims.d[i] >= dimensions.d[i]\n",
      "[TensorRT] ERROR: safeContext.cpp (184) - Cudnn Error in configure: 7 (CUDNN_STATUS_MAPPING_ERROR)\n",
      "[TensorRT] ERROR: FAILED_EXECUTION: std::exception\n",
      "[TensorRT] ERROR: Parameter check failed at: engine.cpp::setBindingDimensions::1136, condition: profileMaxDims.d[i] >= dimensions.d[i]\n",
      "[TensorRT] ERROR: safeContext.cpp (184) - Cudnn Error in configure: 7 (CUDNN_STATUS_MAPPING_ERROR)\n",
      "[TensorRT] ERROR: FAILED_EXECUTION: std::exception\n",
      "[TensorRT] ERROR: Parameter check failed at: engine.cpp::setBindingDimensions::1136, condition: profileMaxDims.d[i] >= dimensions.d[i]\n",
      "[TensorRT] ERROR: safeContext.cpp (184) - Cudnn Error in configure: 7 (CUDNN_STATUS_MAPPING_ERROR)\n",
      "[TensorRT] ERROR: FAILED_EXECUTION: std::exception\n",
      "[TensorRT] ERROR: Parameter check failed at: engine.cpp::setBindingDimensions::1136, condition: profileMaxDims.d[i] >= dimensions.d[i]\n",
      "[TensorRT] ERROR: safeContext.cpp (184) - Cudnn Error in configure: 7 (CUDNN_STATUS_MAPPING_ERROR)\n",
      "[TensorRT] ERROR: FAILED_EXECUTION: std::exception\n"
     ]
    },
    {
     "name": "stdout",
     "output_type": "stream",
     "text": [
      "Time: 0.02846980094909668\n",
      "Time: 0.037602901458740234\n",
      "Time: 0.03147244453430176\n",
      "Time: 0.03371095657348633\n",
      "Time: 0.042211294174194336\n",
      "Idx: 100\n",
      "Time: 0.030314922332763672\n"
     ]
    },
    {
     "name": "stderr",
     "output_type": "stream",
     "text": [
      "[TensorRT] ERROR: Parameter check failed at: engine.cpp::setBindingDimensions::1136, condition: profileMaxDims.d[i] >= dimensions.d[i]\n",
      "[TensorRT] ERROR: safeContext.cpp (184) - Cudnn Error in configure: 7 (CUDNN_STATUS_MAPPING_ERROR)\n",
      "[TensorRT] ERROR: FAILED_EXECUTION: std::exception\n",
      "[TensorRT] ERROR: Parameter check failed at: engine.cpp::setBindingDimensions::1136, condition: profileMaxDims.d[i] >= dimensions.d[i]\n",
      "[TensorRT] ERROR: safeContext.cpp (184) - Cudnn Error in configure: 7 (CUDNN_STATUS_MAPPING_ERROR)\n",
      "[TensorRT] ERROR: FAILED_EXECUTION: std::exception\n",
      "[TensorRT] ERROR: Parameter check failed at: engine.cpp::setBindingDimensions::1136, condition: profileMaxDims.d[i] >= dimensions.d[i]\n",
      "[TensorRT] ERROR: safeContext.cpp (184) - Cudnn Error in configure: 7 (CUDNN_STATUS_MAPPING_ERROR)\n",
      "[TensorRT] ERROR: FAILED_EXECUTION: std::exception\n",
      "[TensorRT] ERROR: Parameter check failed at: engine.cpp::setBindingDimensions::1136, condition: profileMaxDims.d[i] >= dimensions.d[i]\n",
      "[TensorRT] ERROR: safeContext.cpp (184) - Cudnn Error in configure: 7 (CUDNN_STATUS_MAPPING_ERROR)\n",
      "[TensorRT] ERROR: FAILED_EXECUTION: std::exception\n",
      "[TensorRT] ERROR: Parameter check failed at: engine.cpp::setBindingDimensions::1136, condition: profileMaxDims.d[i] >= dimensions.d[i]\n",
      "[TensorRT] ERROR: safeContext.cpp (184) - Cudnn Error in configure: 7 (CUDNN_STATUS_MAPPING_ERROR)\n",
      "[TensorRT] ERROR: FAILED_EXECUTION: std::exception\n"
     ]
    },
    {
     "name": "stdout",
     "output_type": "stream",
     "text": [
      "Time: 0.028650760650634766\n",
      "Time: 0.03194761276245117\n",
      "Time: 0.032094717025756836\n",
      "Time: 0.035712480545043945\n",
      "Time: 0.0555112361907959\n"
     ]
    },
    {
     "name": "stderr",
     "output_type": "stream",
     "text": [
      "[TensorRT] ERROR: Parameter check failed at: engine.cpp::setBindingDimensions::1136, condition: profileMaxDims.d[i] >= dimensions.d[i]\n",
      "[TensorRT] ERROR: safeContext.cpp (184) - Cudnn Error in configure: 7 (CUDNN_STATUS_MAPPING_ERROR)\n",
      "[TensorRT] ERROR: FAILED_EXECUTION: std::exception\n",
      "[TensorRT] ERROR: Parameter check failed at: engine.cpp::setBindingDimensions::1136, condition: profileMaxDims.d[i] >= dimensions.d[i]\n",
      "[TensorRT] ERROR: safeContext.cpp (184) - Cudnn Error in configure: 7 (CUDNN_STATUS_MAPPING_ERROR)\n",
      "[TensorRT] ERROR: FAILED_EXECUTION: std::exception\n",
      "[TensorRT] ERROR: Parameter check failed at: engine.cpp::setBindingDimensions::1136, condition: profileMaxDims.d[i] >= dimensions.d[i]\n",
      "[TensorRT] ERROR: safeContext.cpp (184) - Cudnn Error in configure: 7 (CUDNN_STATUS_MAPPING_ERROR)\n",
      "[TensorRT] ERROR: FAILED_EXECUTION: std::exception\n",
      "[TensorRT] ERROR: Parameter check failed at: engine.cpp::setBindingDimensions::1136, condition: profileMaxDims.d[i] >= dimensions.d[i]\n",
      "[TensorRT] ERROR: safeContext.cpp (184) - Cudnn Error in configure: 7 (CUDNN_STATUS_MAPPING_ERROR)\n",
      "[TensorRT] ERROR: FAILED_EXECUTION: std::exception\n",
      "[TensorRT] ERROR: Parameter check failed at: engine.cpp::setBindingDimensions::1136, condition: profileMaxDims.d[i] >= dimensions.d[i]\n",
      "[TensorRT] ERROR: safeContext.cpp (184) - Cudnn Error in configure: 7 (CUDNN_STATUS_MAPPING_ERROR)\n",
      "[TensorRT] ERROR: FAILED_EXECUTION: std::exception\n",
      "[TensorRT] ERROR: Parameter check failed at: engine.cpp::setBindingDimensions::1136, condition: profileMaxDims.d[i] >= dimensions.d[i]\n",
      "[TensorRT] ERROR: safeContext.cpp (184) - Cudnn Error in configure: 7 (CUDNN_STATUS_MAPPING_ERROR)\n",
      "[TensorRT] ERROR: FAILED_EXECUTION: std::exception\n"
     ]
    },
    {
     "name": "stdout",
     "output_type": "stream",
     "text": [
      "Time: 0.06578397750854492\n",
      "Time: 0.04326272010803223\n",
      "Time: 0.03174161911010742\n",
      "Time: 0.031960248947143555\n",
      "Time: 0.03234291076660156\n",
      "Time: 0.03161811828613281\n"
     ]
    },
    {
     "name": "stderr",
     "output_type": "stream",
     "text": [
      "[TensorRT] ERROR: Parameter check failed at: engine.cpp::setBindingDimensions::1136, condition: profileMaxDims.d[i] >= dimensions.d[i]\n",
      "[TensorRT] ERROR: safeContext.cpp (184) - Cudnn Error in configure: 7 (CUDNN_STATUS_MAPPING_ERROR)\n",
      "[TensorRT] ERROR: FAILED_EXECUTION: std::exception\n",
      "[TensorRT] ERROR: Parameter check failed at: engine.cpp::setBindingDimensions::1136, condition: profileMaxDims.d[i] >= dimensions.d[i]\n",
      "[TensorRT] ERROR: safeContext.cpp (184) - Cudnn Error in configure: 7 (CUDNN_STATUS_MAPPING_ERROR)\n",
      "[TensorRT] ERROR: FAILED_EXECUTION: std::exception\n",
      "[TensorRT] ERROR: Parameter check failed at: engine.cpp::setBindingDimensions::1136, condition: profileMaxDims.d[i] >= dimensions.d[i]\n",
      "[TensorRT] ERROR: safeContext.cpp (184) - Cudnn Error in configure: 7 (CUDNN_STATUS_MAPPING_ERROR)\n",
      "[TensorRT] ERROR: FAILED_EXECUTION: std::exception\n",
      "[TensorRT] ERROR: Parameter check failed at: engine.cpp::setBindingDimensions::1136, condition: profileMaxDims.d[i] >= dimensions.d[i]\n",
      "[TensorRT] ERROR: safeContext.cpp (184) - Cudnn Error in configure: 7 (CUDNN_STATUS_MAPPING_ERROR)\n",
      "[TensorRT] ERROR: FAILED_EXECUTION: std::exception\n"
     ]
    },
    {
     "name": "stdout",
     "output_type": "stream",
     "text": [
      "Time: 0.0774531364440918\n",
      "Time: 0.06699466705322266\n",
      "Time: 0.046334266662597656\n",
      "Time: 0.03923845291137695\n",
      "Time: 0.03358054161071777\n"
     ]
    },
    {
     "name": "stderr",
     "output_type": "stream",
     "text": [
      "[TensorRT] ERROR: Parameter check failed at: engine.cpp::setBindingDimensions::1136, condition: profileMaxDims.d[i] >= dimensions.d[i]\n",
      "[TensorRT] ERROR: safeContext.cpp (184) - Cudnn Error in configure: 7 (CUDNN_STATUS_MAPPING_ERROR)\n",
      "[TensorRT] ERROR: FAILED_EXECUTION: std::exception\n",
      "[TensorRT] ERROR: Parameter check failed at: engine.cpp::setBindingDimensions::1136, condition: profileMaxDims.d[i] >= dimensions.d[i]\n",
      "[TensorRT] ERROR: safeContext.cpp (184) - Cudnn Error in configure: 7 (CUDNN_STATUS_MAPPING_ERROR)\n",
      "[TensorRT] ERROR: FAILED_EXECUTION: std::exception\n",
      "[TensorRT] ERROR: Parameter check failed at: engine.cpp::setBindingDimensions::1136, condition: profileMaxDims.d[i] >= dimensions.d[i]\n",
      "[TensorRT] ERROR: safeContext.cpp (184) - Cudnn Error in configure: 7 (CUDNN_STATUS_MAPPING_ERROR)\n",
      "[TensorRT] ERROR: FAILED_EXECUTION: std::exception\n",
      "[TensorRT] ERROR: Parameter check failed at: engine.cpp::setBindingDimensions::1136, condition: profileMaxDims.d[i] >= dimensions.d[i]\n",
      "[TensorRT] ERROR: safeContext.cpp (184) - Cudnn Error in configure: 7 (CUDNN_STATUS_MAPPING_ERROR)\n",
      "[TensorRT] ERROR: FAILED_EXECUTION: std::exception\n",
      "[TensorRT] ERROR: Parameter check failed at: engine.cpp::setBindingDimensions::1136, condition: profileMaxDims.d[i] >= dimensions.d[i]\n",
      "[TensorRT] ERROR: safeContext.cpp (184) - Cudnn Error in configure: 7 (CUDNN_STATUS_MAPPING_ERROR)\n",
      "[TensorRT] ERROR: FAILED_EXECUTION: std::exception\n",
      "[TensorRT] ERROR: Parameter check failed at: engine.cpp::setBindingDimensions::1136, condition: profileMaxDims.d[i] >= dimensions.d[i]\n",
      "[TensorRT] ERROR: safeContext.cpp (184) - Cudnn Error in configure: 7 (CUDNN_STATUS_MAPPING_ERROR)\n",
      "[TensorRT] ERROR: FAILED_EXECUTION: std::exception\n"
     ]
    },
    {
     "name": "stdout",
     "output_type": "stream",
     "text": [
      "Time: 0.044995784759521484\n",
      "Time: 0.03329658508300781\n",
      "Time: 0.03308296203613281\n",
      "Time: 0.03343534469604492\n",
      "Time: 0.04247307777404785\n",
      "Time: 0.034435272216796875\n"
     ]
    },
    {
     "name": "stderr",
     "output_type": "stream",
     "text": [
      "[TensorRT] ERROR: Parameter check failed at: engine.cpp::setBindingDimensions::1136, condition: profileMaxDims.d[i] >= dimensions.d[i]\n",
      "[TensorRT] ERROR: safeContext.cpp (184) - Cudnn Error in configure: 7 (CUDNN_STATUS_MAPPING_ERROR)\n",
      "[TensorRT] ERROR: FAILED_EXECUTION: std::exception\n",
      "[TensorRT] ERROR: Parameter check failed at: engine.cpp::setBindingDimensions::1136, condition: profileMaxDims.d[i] >= dimensions.d[i]\n",
      "[TensorRT] ERROR: safeContext.cpp (184) - Cudnn Error in configure: 7 (CUDNN_STATUS_MAPPING_ERROR)\n",
      "[TensorRT] ERROR: FAILED_EXECUTION: std::exception\n",
      "[TensorRT] ERROR: Parameter check failed at: engine.cpp::setBindingDimensions::1136, condition: profileMaxDims.d[i] >= dimensions.d[i]\n",
      "[TensorRT] ERROR: safeContext.cpp (184) - Cudnn Error in configure: 7 (CUDNN_STATUS_MAPPING_ERROR)\n",
      "[TensorRT] ERROR: FAILED_EXECUTION: std::exception\n",
      "[TensorRT] ERROR: Parameter check failed at: engine.cpp::setBindingDimensions::1136, condition: profileMaxDims.d[i] >= dimensions.d[i]\n",
      "[TensorRT] ERROR: safeContext.cpp (184) - Cudnn Error in configure: 7 (CUDNN_STATUS_MAPPING_ERROR)\n",
      "[TensorRT] ERROR: FAILED_EXECUTION: std::exception\n",
      "[TensorRT] ERROR: Parameter check failed at: engine.cpp::setBindingDimensions::1136, condition: profileMaxDims.d[i] >= dimensions.d[i]\n",
      "[TensorRT] ERROR: safeContext.cpp (184) - Cudnn Error in configure: 7 (CUDNN_STATUS_MAPPING_ERROR)\n",
      "[TensorRT] ERROR: FAILED_EXECUTION: std::exception\n",
      "[TensorRT] ERROR: Parameter check failed at: engine.cpp::setBindingDimensions::1136, condition: profileMaxDims.d[i] >= dimensions.d[i]\n",
      "[TensorRT] ERROR: safeContext.cpp (184) - Cudnn Error in configure: 7 (CUDNN_STATUS_MAPPING_ERROR)\n",
      "[TensorRT] ERROR: FAILED_EXECUTION: std::exception\n"
     ]
    },
    {
     "name": "stdout",
     "output_type": "stream",
     "text": [
      "Time: 0.03457832336425781\n",
      "Time: 0.03896784782409668\n",
      "Time: 0.03334999084472656\n",
      "Time: 0.03390693664550781\n",
      "Time: 0.04570460319519043\n"
     ]
    },
    {
     "name": "stderr",
     "output_type": "stream",
     "text": [
      "[TensorRT] ERROR: Parameter check failed at: engine.cpp::setBindingDimensions::1136, condition: profileMaxDims.d[i] >= dimensions.d[i]\n",
      "[TensorRT] ERROR: safeContext.cpp (184) - Cudnn Error in configure: 7 (CUDNN_STATUS_MAPPING_ERROR)\n",
      "[TensorRT] ERROR: FAILED_EXECUTION: std::exception\n",
      "[TensorRT] ERROR: Parameter check failed at: engine.cpp::setBindingDimensions::1136, condition: profileMaxDims.d[i] >= dimensions.d[i]\n",
      "[TensorRT] ERROR: safeContext.cpp (184) - Cudnn Error in configure: 7 (CUDNN_STATUS_MAPPING_ERROR)\n",
      "[TensorRT] ERROR: FAILED_EXECUTION: std::exception\n",
      "[TensorRT] ERROR: Parameter check failed at: engine.cpp::setBindingDimensions::1136, condition: profileMaxDims.d[i] >= dimensions.d[i]\n",
      "[TensorRT] ERROR: safeContext.cpp (184) - Cudnn Error in configure: 7 (CUDNN_STATUS_MAPPING_ERROR)\n",
      "[TensorRT] ERROR: FAILED_EXECUTION: std::exception\n",
      "[TensorRT] ERROR: Parameter check failed at: engine.cpp::setBindingDimensions::1136, condition: profileMaxDims.d[i] >= dimensions.d[i]\n",
      "[TensorRT] ERROR: safeContext.cpp (184) - Cudnn Error in configure: 7 (CUDNN_STATUS_MAPPING_ERROR)\n",
      "[TensorRT] ERROR: FAILED_EXECUTION: std::exception\n",
      "[TensorRT] ERROR: Parameter check failed at: engine.cpp::setBindingDimensions::1136, condition: profileMaxDims.d[i] >= dimensions.d[i]\n",
      "[TensorRT] ERROR: safeContext.cpp (184) - Cudnn Error in configure: 7 (CUDNN_STATUS_MAPPING_ERROR)\n",
      "[TensorRT] ERROR: FAILED_EXECUTION: std::exception\n"
     ]
    },
    {
     "name": "stdout",
     "output_type": "stream",
     "text": [
      "Time: 0.04583120346069336\n",
      "Time: 0.03595471382141113\n",
      "Time: 0.03879499435424805\n",
      "Time: 0.07764339447021484\n",
      "Time: 0.03744244575500488\n"
     ]
    },
    {
     "name": "stderr",
     "output_type": "stream",
     "text": [
      "[TensorRT] ERROR: Parameter check failed at: engine.cpp::setBindingDimensions::1136, condition: profileMaxDims.d[i] >= dimensions.d[i]\n",
      "[TensorRT] ERROR: safeContext.cpp (184) - Cudnn Error in configure: 7 (CUDNN_STATUS_MAPPING_ERROR)\n",
      "[TensorRT] ERROR: FAILED_EXECUTION: std::exception\n",
      "[TensorRT] ERROR: Parameter check failed at: engine.cpp::setBindingDimensions::1136, condition: profileMaxDims.d[i] >= dimensions.d[i]\n",
      "[TensorRT] ERROR: safeContext.cpp (184) - Cudnn Error in configure: 7 (CUDNN_STATUS_MAPPING_ERROR)\n",
      "[TensorRT] ERROR: FAILED_EXECUTION: std::exception\n",
      "[TensorRT] ERROR: Parameter check failed at: engine.cpp::setBindingDimensions::1136, condition: profileMaxDims.d[i] >= dimensions.d[i]\n",
      "[TensorRT] ERROR: safeContext.cpp (184) - Cudnn Error in configure: 7 (CUDNN_STATUS_MAPPING_ERROR)\n",
      "[TensorRT] ERROR: FAILED_EXECUTION: std::exception\n",
      "[TensorRT] ERROR: Parameter check failed at: engine.cpp::setBindingDimensions::1136, condition: profileMaxDims.d[i] >= dimensions.d[i]\n",
      "[TensorRT] ERROR: safeContext.cpp (184) - Cudnn Error in configure: 7 (CUDNN_STATUS_MAPPING_ERROR)\n",
      "[TensorRT] ERROR: FAILED_EXECUTION: std::exception\n",
      "[TensorRT] ERROR: Parameter check failed at: engine.cpp::setBindingDimensions::1136, condition: profileMaxDims.d[i] >= dimensions.d[i]\n",
      "[TensorRT] ERROR: safeContext.cpp (184) - Cudnn Error in configure: 7 (CUDNN_STATUS_MAPPING_ERROR)\n",
      "[TensorRT] ERROR: FAILED_EXECUTION: std::exception\n",
      "[TensorRT] ERROR: Parameter check failed at: engine.cpp::setBindingDimensions::1136, condition: profileMaxDims.d[i] >= dimensions.d[i]\n",
      "[TensorRT] ERROR: safeContext.cpp (184) - Cudnn Error in configure: 7 (CUDNN_STATUS_MAPPING_ERROR)\n",
      "[TensorRT] ERROR: FAILED_EXECUTION: std::exception\n"
     ]
    },
    {
     "name": "stdout",
     "output_type": "stream",
     "text": [
      "Time: 0.03404736518859863\n",
      "Time: 0.03426861763000488\n",
      "Time: 0.03411746025085449\n",
      "Time: 0.04361915588378906\n",
      "Time: 0.034026384353637695\n",
      "Time: 0.0355982780456543\n"
     ]
    },
    {
     "name": "stderr",
     "output_type": "stream",
     "text": [
      "[TensorRT] ERROR: Parameter check failed at: engine.cpp::setBindingDimensions::1136, condition: profileMaxDims.d[i] >= dimensions.d[i]\n",
      "[TensorRT] ERROR: safeContext.cpp (184) - Cudnn Error in configure: 7 (CUDNN_STATUS_MAPPING_ERROR)\n",
      "[TensorRT] ERROR: FAILED_EXECUTION: std::exception\n",
      "[TensorRT] ERROR: Parameter check failed at: engine.cpp::setBindingDimensions::1136, condition: profileMaxDims.d[i] >= dimensions.d[i]\n",
      "[TensorRT] ERROR: safeContext.cpp (184) - Cudnn Error in configure: 7 (CUDNN_STATUS_MAPPING_ERROR)\n",
      "[TensorRT] ERROR: FAILED_EXECUTION: std::exception\n",
      "[TensorRT] ERROR: Parameter check failed at: engine.cpp::setBindingDimensions::1136, condition: profileMaxDims.d[i] >= dimensions.d[i]\n",
      "[TensorRT] ERROR: safeContext.cpp (184) - Cudnn Error in configure: 7 (CUDNN_STATUS_MAPPING_ERROR)\n",
      "[TensorRT] ERROR: FAILED_EXECUTION: std::exception\n",
      "[TensorRT] ERROR: Parameter check failed at: engine.cpp::setBindingDimensions::1136, condition: profileMaxDims.d[i] >= dimensions.d[i]\n",
      "[TensorRT] ERROR: safeContext.cpp (184) - Cudnn Error in configure: 7 (CUDNN_STATUS_MAPPING_ERROR)\n",
      "[TensorRT] ERROR: FAILED_EXECUTION: std::exception\n",
      "[TensorRT] ERROR: Parameter check failed at: engine.cpp::setBindingDimensions::1136, condition: profileMaxDims.d[i] >= dimensions.d[i]\n",
      "[TensorRT] ERROR: safeContext.cpp (184) - Cudnn Error in configure: 7 (CUDNN_STATUS_MAPPING_ERROR)\n",
      "[TensorRT] ERROR: FAILED_EXECUTION: std::exception\n"
     ]
    },
    {
     "name": "stdout",
     "output_type": "stream",
     "text": [
      "Time: 0.03771018981933594\n",
      "Time: 0.040873050689697266\n",
      "Time: 0.0360257625579834\n",
      "Time: 0.0457615852355957\n",
      "Time: 0.03609204292297363\n"
     ]
    },
    {
     "name": "stderr",
     "output_type": "stream",
     "text": [
      "[TensorRT] ERROR: Parameter check failed at: engine.cpp::setBindingDimensions::1136, condition: profileMaxDims.d[i] >= dimensions.d[i]\n",
      "[TensorRT] ERROR: safeContext.cpp (184) - Cudnn Error in configure: 7 (CUDNN_STATUS_MAPPING_ERROR)\n",
      "[TensorRT] ERROR: FAILED_EXECUTION: std::exception\n",
      "[TensorRT] ERROR: Parameter check failed at: engine.cpp::setBindingDimensions::1136, condition: profileMaxDims.d[i] >= dimensions.d[i]\n",
      "[TensorRT] ERROR: safeContext.cpp (184) - Cudnn Error in configure: 7 (CUDNN_STATUS_MAPPING_ERROR)\n",
      "[TensorRT] ERROR: FAILED_EXECUTION: std::exception\n",
      "[TensorRT] ERROR: Parameter check failed at: engine.cpp::setBindingDimensions::1136, condition: profileMaxDims.d[i] >= dimensions.d[i]\n",
      "[TensorRT] ERROR: safeContext.cpp (184) - Cudnn Error in configure: 7 (CUDNN_STATUS_MAPPING_ERROR)\n",
      "[TensorRT] ERROR: FAILED_EXECUTION: std::exception\n",
      "[TensorRT] ERROR: Parameter check failed at: engine.cpp::setBindingDimensions::1136, condition: profileMaxDims.d[i] >= dimensions.d[i]\n",
      "[TensorRT] ERROR: safeContext.cpp (184) - Cudnn Error in configure: 7 (CUDNN_STATUS_MAPPING_ERROR)\n",
      "[TensorRT] ERROR: FAILED_EXECUTION: std::exception\n",
      "[TensorRT] ERROR: Parameter check failed at: engine.cpp::setBindingDimensions::1136, condition: profileMaxDims.d[i] >= dimensions.d[i]\n",
      "[TensorRT] ERROR: safeContext.cpp (184) - Cudnn Error in configure: 7 (CUDNN_STATUS_MAPPING_ERROR)\n",
      "[TensorRT] ERROR: FAILED_EXECUTION: std::exception\n"
     ]
    },
    {
     "name": "stdout",
     "output_type": "stream",
     "text": [
      "Time: 0.04273056983947754\n",
      "Time: 0.03603196144104004\n",
      "Time: 0.036469221115112305\n",
      "Time: 0.04160046577453613\n",
      "Time: 0.03650498390197754\n"
     ]
    },
    {
     "name": "stderr",
     "output_type": "stream",
     "text": [
      "[TensorRT] ERROR: Parameter check failed at: engine.cpp::setBindingDimensions::1136, condition: profileMaxDims.d[i] >= dimensions.d[i]\n",
      "[TensorRT] ERROR: safeContext.cpp (184) - Cudnn Error in configure: 7 (CUDNN_STATUS_MAPPING_ERROR)\n",
      "[TensorRT] ERROR: FAILED_EXECUTION: std::exception\n",
      "[TensorRT] ERROR: Parameter check failed at: engine.cpp::setBindingDimensions::1136, condition: profileMaxDims.d[i] >= dimensions.d[i]\n",
      "[TensorRT] ERROR: safeContext.cpp (184) - Cudnn Error in configure: 7 (CUDNN_STATUS_MAPPING_ERROR)\n",
      "[TensorRT] ERROR: FAILED_EXECUTION: std::exception\n",
      "[TensorRT] ERROR: Parameter check failed at: engine.cpp::setBindingDimensions::1136, condition: profileMaxDims.d[i] >= dimensions.d[i]\n",
      "[TensorRT] ERROR: safeContext.cpp (184) - Cudnn Error in configure: 7 (CUDNN_STATUS_MAPPING_ERROR)\n",
      "[TensorRT] ERROR: FAILED_EXECUTION: std::exception\n",
      "[TensorRT] ERROR: Parameter check failed at: engine.cpp::setBindingDimensions::1136, condition: profileMaxDims.d[i] >= dimensions.d[i]\n",
      "[TensorRT] ERROR: safeContext.cpp (184) - Cudnn Error in configure: 7 (CUDNN_STATUS_MAPPING_ERROR)\n",
      "[TensorRT] ERROR: FAILED_EXECUTION: std::exception\n"
     ]
    },
    {
     "name": "stdout",
     "output_type": "stream",
     "text": [
      "Time: 0.0552675724029541\n",
      "Time: 0.05922698974609375\n",
      "Time: 0.06282877922058105\n",
      "Time: 0.060408592224121094\n"
     ]
    },
    {
     "name": "stderr",
     "output_type": "stream",
     "text": [
      "[TensorRT] ERROR: Parameter check failed at: engine.cpp::setBindingDimensions::1136, condition: profileMaxDims.d[i] >= dimensions.d[i]\n",
      "[TensorRT] ERROR: safeContext.cpp (184) - Cudnn Error in configure: 7 (CUDNN_STATUS_MAPPING_ERROR)\n",
      "[TensorRT] ERROR: FAILED_EXECUTION: std::exception\n",
      "[TensorRT] ERROR: Parameter check failed at: engine.cpp::setBindingDimensions::1136, condition: profileMaxDims.d[i] >= dimensions.d[i]\n",
      "[TensorRT] ERROR: safeContext.cpp (184) - Cudnn Error in configure: 7 (CUDNN_STATUS_MAPPING_ERROR)\n",
      "[TensorRT] ERROR: FAILED_EXECUTION: std::exception\n",
      "[TensorRT] ERROR: Parameter check failed at: engine.cpp::setBindingDimensions::1136, condition: profileMaxDims.d[i] >= dimensions.d[i]\n",
      "[TensorRT] ERROR: safeContext.cpp (184) - Cudnn Error in configure: 7 (CUDNN_STATUS_MAPPING_ERROR)\n",
      "[TensorRT] ERROR: FAILED_EXECUTION: std::exception\n"
     ]
    },
    {
     "name": "stdout",
     "output_type": "stream",
     "text": [
      "Time: 0.053487539291381836\n",
      "Time: 0.0654139518737793\n",
      "Time: 0.0812375545501709\n"
     ]
    },
    {
     "name": "stderr",
     "output_type": "stream",
     "text": [
      "[TensorRT] ERROR: Parameter check failed at: engine.cpp::setBindingDimensions::1136, condition: profileMaxDims.d[i] >= dimensions.d[i]\n",
      "[TensorRT] ERROR: safeContext.cpp (184) - Cudnn Error in configure: 7 (CUDNN_STATUS_MAPPING_ERROR)\n",
      "[TensorRT] ERROR: FAILED_EXECUTION: std::exception\n",
      "[TensorRT] ERROR: Parameter check failed at: engine.cpp::setBindingDimensions::1136, condition: profileMaxDims.d[i] >= dimensions.d[i]\n",
      "[TensorRT] ERROR: safeContext.cpp (184) - Cudnn Error in configure: 7 (CUDNN_STATUS_MAPPING_ERROR)\n",
      "[TensorRT] ERROR: FAILED_EXECUTION: std::exception\n",
      "[TensorRT] ERROR: Parameter check failed at: engine.cpp::setBindingDimensions::1136, condition: profileMaxDims.d[i] >= dimensions.d[i]\n",
      "[TensorRT] ERROR: safeContext.cpp (184) - Cudnn Error in configure: 7 (CUDNN_STATUS_MAPPING_ERROR)\n",
      "[TensorRT] ERROR: FAILED_EXECUTION: std::exception\n",
      "[TensorRT] ERROR: Parameter check failed at: engine.cpp::setBindingDimensions::1136, condition: profileMaxDims.d[i] >= dimensions.d[i]\n",
      "[TensorRT] ERROR: safeContext.cpp (184) - Cudnn Error in configure: 7 (CUDNN_STATUS_MAPPING_ERROR)\n",
      "[TensorRT] ERROR: FAILED_EXECUTION: std::exception\n",
      "[TensorRT] ERROR: Parameter check failed at: engine.cpp::setBindingDimensions::1136, condition: profileMaxDims.d[i] >= dimensions.d[i]\n",
      "[TensorRT] ERROR: safeContext.cpp (184) - Cudnn Error in configure: 7 (CUDNN_STATUS_MAPPING_ERROR)\n",
      "[TensorRT] ERROR: FAILED_EXECUTION: std::exception\n"
     ]
    },
    {
     "name": "stdout",
     "output_type": "stream",
     "text": [
      "Time: 0.07866764068603516\n",
      "Time: 0.041330814361572266\n",
      "Time: 0.03912234306335449\n",
      "Time: 0.04154396057128906\n",
      "Time: 0.03867769241333008\n"
     ]
    },
    {
     "name": "stderr",
     "output_type": "stream",
     "text": [
      "[TensorRT] ERROR: Parameter check failed at: engine.cpp::setBindingDimensions::1136, condition: profileMaxDims.d[i] >= dimensions.d[i]\n",
      "[TensorRT] ERROR: safeContext.cpp (184) - Cudnn Error in configure: 7 (CUDNN_STATUS_MAPPING_ERROR)\n",
      "[TensorRT] ERROR: FAILED_EXECUTION: std::exception\n",
      "[TensorRT] ERROR: Parameter check failed at: engine.cpp::setBindingDimensions::1136, condition: profileMaxDims.d[i] >= dimensions.d[i]\n",
      "[TensorRT] ERROR: safeContext.cpp (184) - Cudnn Error in configure: 7 (CUDNN_STATUS_MAPPING_ERROR)\n",
      "[TensorRT] ERROR: FAILED_EXECUTION: std::exception\n",
      "[TensorRT] ERROR: Parameter check failed at: engine.cpp::setBindingDimensions::1136, condition: profileMaxDims.d[i] >= dimensions.d[i]\n",
      "[TensorRT] ERROR: safeContext.cpp (184) - Cudnn Error in configure: 7 (CUDNN_STATUS_MAPPING_ERROR)\n",
      "[TensorRT] ERROR: FAILED_EXECUTION: std::exception\n",
      "[TensorRT] ERROR: Parameter check failed at: engine.cpp::setBindingDimensions::1136, condition: profileMaxDims.d[i] >= dimensions.d[i]\n",
      "[TensorRT] ERROR: safeContext.cpp (184) - Cudnn Error in configure: 7 (CUDNN_STATUS_MAPPING_ERROR)\n",
      "[TensorRT] ERROR: FAILED_EXECUTION: std::exception\n",
      "[TensorRT] ERROR: Parameter check failed at: engine.cpp::setBindingDimensions::1136, condition: profileMaxDims.d[i] >= dimensions.d[i]\n",
      "[TensorRT] ERROR: safeContext.cpp (184) - Cudnn Error in configure: 7 (CUDNN_STATUS_MAPPING_ERROR)\n",
      "[TensorRT] ERROR: FAILED_EXECUTION: std::exception\n"
     ]
    },
    {
     "name": "stdout",
     "output_type": "stream",
     "text": [
      "Time: 0.03924751281738281\n",
      "Time: 0.038959503173828125\n",
      "Time: 0.04014849662780762\n",
      "Time: 0.038763999938964844\n",
      "Time: 0.03859305381774902\n"
     ]
    },
    {
     "name": "stderr",
     "output_type": "stream",
     "text": [
      "[TensorRT] ERROR: Parameter check failed at: engine.cpp::setBindingDimensions::1136, condition: profileMaxDims.d[i] >= dimensions.d[i]\n",
      "[TensorRT] ERROR: safeContext.cpp (184) - Cudnn Error in configure: 7 (CUDNN_STATUS_MAPPING_ERROR)\n",
      "[TensorRT] ERROR: FAILED_EXECUTION: std::exception\n",
      "[TensorRT] ERROR: Parameter check failed at: engine.cpp::setBindingDimensions::1136, condition: profileMaxDims.d[i] >= dimensions.d[i]\n",
      "[TensorRT] ERROR: safeContext.cpp (184) - Cudnn Error in configure: 7 (CUDNN_STATUS_MAPPING_ERROR)\n",
      "[TensorRT] ERROR: FAILED_EXECUTION: std::exception\n",
      "[TensorRT] ERROR: Parameter check failed at: engine.cpp::setBindingDimensions::1136, condition: profileMaxDims.d[i] >= dimensions.d[i]\n",
      "[TensorRT] ERROR: safeContext.cpp (184) - Cudnn Error in configure: 7 (CUDNN_STATUS_MAPPING_ERROR)\n",
      "[TensorRT] ERROR: FAILED_EXECUTION: std::exception\n",
      "[TensorRT] ERROR: Parameter check failed at: engine.cpp::setBindingDimensions::1136, condition: profileMaxDims.d[i] >= dimensions.d[i]\n",
      "[TensorRT] ERROR: safeContext.cpp (184) - Cudnn Error in configure: 7 (CUDNN_STATUS_MAPPING_ERROR)\n",
      "[TensorRT] ERROR: FAILED_EXECUTION: std::exception\n",
      "[TensorRT] ERROR: Parameter check failed at: engine.cpp::setBindingDimensions::1136, condition: profileMaxDims.d[i] >= dimensions.d[i]\n",
      "[TensorRT] ERROR: safeContext.cpp (184) - Cudnn Error in configure: 7 (CUDNN_STATUS_MAPPING_ERROR)\n",
      "[TensorRT] ERROR: FAILED_EXECUTION: std::exception\n"
     ]
    },
    {
     "name": "stdout",
     "output_type": "stream",
     "text": [
      "Time: 0.0457148551940918\n",
      "Time: 0.03939008712768555\n",
      "Time: 0.0462949275970459\n",
      "Time: 0.03900885581970215\n",
      "Time: 0.042695045471191406\n"
     ]
    },
    {
     "name": "stderr",
     "output_type": "stream",
     "text": [
      "[TensorRT] ERROR: Parameter check failed at: engine.cpp::setBindingDimensions::1136, condition: profileMaxDims.d[i] >= dimensions.d[i]\n",
      "[TensorRT] ERROR: safeContext.cpp (184) - Cudnn Error in configure: 7 (CUDNN_STATUS_MAPPING_ERROR)\n",
      "[TensorRT] ERROR: FAILED_EXECUTION: std::exception\n",
      "[TensorRT] ERROR: Parameter check failed at: engine.cpp::setBindingDimensions::1136, condition: profileMaxDims.d[i] >= dimensions.d[i]\n",
      "[TensorRT] ERROR: safeContext.cpp (184) - Cudnn Error in configure: 7 (CUDNN_STATUS_MAPPING_ERROR)\n",
      "[TensorRT] ERROR: FAILED_EXECUTION: std::exception\n",
      "[TensorRT] ERROR: Parameter check failed at: engine.cpp::setBindingDimensions::1136, condition: profileMaxDims.d[i] >= dimensions.d[i]\n",
      "[TensorRT] ERROR: safeContext.cpp (184) - Cudnn Error in configure: 7 (CUDNN_STATUS_MAPPING_ERROR)\n",
      "[TensorRT] ERROR: FAILED_EXECUTION: std::exception\n",
      "[TensorRT] ERROR: Parameter check failed at: engine.cpp::setBindingDimensions::1136, condition: profileMaxDims.d[i] >= dimensions.d[i]\n",
      "[TensorRT] ERROR: safeContext.cpp (184) - Cudnn Error in configure: 7 (CUDNN_STATUS_MAPPING_ERROR)\n",
      "[TensorRT] ERROR: FAILED_EXECUTION: std::exception\n",
      "[TensorRT] ERROR: Parameter check failed at: engine.cpp::setBindingDimensions::1136, condition: profileMaxDims.d[i] >= dimensions.d[i]\n",
      "[TensorRT] ERROR: safeContext.cpp (184) - Cudnn Error in configure: 7 (CUDNN_STATUS_MAPPING_ERROR)\n",
      "[TensorRT] ERROR: FAILED_EXECUTION: std::exception\n"
     ]
    },
    {
     "name": "stdout",
     "output_type": "stream",
     "text": [
      "Time: 0.038948774337768555\n",
      "Time: 0.04466509819030762\n",
      "Time: 0.039372920989990234\n",
      "Time: 0.04459524154663086\n",
      "Time: 0.041638851165771484\n"
     ]
    },
    {
     "name": "stderr",
     "output_type": "stream",
     "text": [
      "[TensorRT] ERROR: Parameter check failed at: engine.cpp::setBindingDimensions::1136, condition: profileMaxDims.d[i] >= dimensions.d[i]\n",
      "[TensorRT] ERROR: safeContext.cpp (184) - Cudnn Error in configure: 7 (CUDNN_STATUS_MAPPING_ERROR)\n",
      "[TensorRT] ERROR: FAILED_EXECUTION: std::exception\n",
      "[TensorRT] ERROR: Parameter check failed at: engine.cpp::setBindingDimensions::1136, condition: profileMaxDims.d[i] >= dimensions.d[i]\n",
      "[TensorRT] ERROR: safeContext.cpp (184) - Cudnn Error in configure: 7 (CUDNN_STATUS_MAPPING_ERROR)\n",
      "[TensorRT] ERROR: FAILED_EXECUTION: std::exception\n",
      "[TensorRT] ERROR: Parameter check failed at: engine.cpp::setBindingDimensions::1136, condition: profileMaxDims.d[i] >= dimensions.d[i]\n",
      "[TensorRT] ERROR: safeContext.cpp (184) - Cudnn Error in configure: 7 (CUDNN_STATUS_MAPPING_ERROR)\n",
      "[TensorRT] ERROR: FAILED_EXECUTION: std::exception\n",
      "[TensorRT] ERROR: Parameter check failed at: engine.cpp::setBindingDimensions::1136, condition: profileMaxDims.d[i] >= dimensions.d[i]\n",
      "[TensorRT] ERROR: safeContext.cpp (184) - Cudnn Error in configure: 7 (CUDNN_STATUS_MAPPING_ERROR)\n",
      "[TensorRT] ERROR: FAILED_EXECUTION: std::exception\n",
      "[TensorRT] ERROR: Parameter check failed at: engine.cpp::setBindingDimensions::1136, condition: profileMaxDims.d[i] >= dimensions.d[i]\n",
      "[TensorRT] ERROR: safeContext.cpp (184) - Cudnn Error in configure: 7 (CUDNN_STATUS_MAPPING_ERROR)\n",
      "[TensorRT] ERROR: FAILED_EXECUTION: std::exception\n"
     ]
    },
    {
     "name": "stdout",
     "output_type": "stream",
     "text": [
      "Time: 0.04559803009033203\n",
      "Time: 0.03885173797607422\n",
      "Time: 0.04196023941040039\n",
      "Time: 0.03867936134338379\n",
      "Time: 0.04508471488952637\n"
     ]
    },
    {
     "name": "stderr",
     "output_type": "stream",
     "text": [
      "[TensorRT] ERROR: Parameter check failed at: engine.cpp::setBindingDimensions::1136, condition: profileMaxDims.d[i] >= dimensions.d[i]\n",
      "[TensorRT] ERROR: safeContext.cpp (184) - Cudnn Error in configure: 7 (CUDNN_STATUS_MAPPING_ERROR)\n",
      "[TensorRT] ERROR: FAILED_EXECUTION: std::exception\n",
      "[TensorRT] ERROR: Parameter check failed at: engine.cpp::setBindingDimensions::1136, condition: profileMaxDims.d[i] >= dimensions.d[i]\n",
      "[TensorRT] ERROR: safeContext.cpp (184) - Cudnn Error in configure: 7 (CUDNN_STATUS_MAPPING_ERROR)\n",
      "[TensorRT] ERROR: FAILED_EXECUTION: std::exception\n",
      "[TensorRT] ERROR: Parameter check failed at: engine.cpp::setBindingDimensions::1136, condition: profileMaxDims.d[i] >= dimensions.d[i]\n",
      "[TensorRT] ERROR: safeContext.cpp (184) - Cudnn Error in configure: 7 (CUDNN_STATUS_MAPPING_ERROR)\n",
      "[TensorRT] ERROR: FAILED_EXECUTION: std::exception\n",
      "[TensorRT] ERROR: Parameter check failed at: engine.cpp::setBindingDimensions::1136, condition: profileMaxDims.d[i] >= dimensions.d[i]\n",
      "[TensorRT] ERROR: safeContext.cpp (184) - Cudnn Error in configure: 7 (CUDNN_STATUS_MAPPING_ERROR)\n",
      "[TensorRT] ERROR: FAILED_EXECUTION: std::exception\n",
      "[TensorRT] ERROR: Parameter check failed at: engine.cpp::setBindingDimensions::1136, condition: profileMaxDims.d[i] >= dimensions.d[i]\n",
      "[TensorRT] ERROR: safeContext.cpp (184) - Cudnn Error in configure: 7 (CUDNN_STATUS_MAPPING_ERROR)\n",
      "[TensorRT] ERROR: FAILED_EXECUTION: std::exception\n"
     ]
    },
    {
     "name": "stdout",
     "output_type": "stream",
     "text": [
      "Time: 0.04112124443054199\n",
      "Time: 0.040720224380493164\n",
      "Time: 0.03922557830810547\n",
      "Time: 0.042185306549072266\n",
      "Time: 0.038941144943237305\n"
     ]
    },
    {
     "name": "stderr",
     "output_type": "stream",
     "text": [
      "[TensorRT] ERROR: Parameter check failed at: engine.cpp::setBindingDimensions::1136, condition: profileMaxDims.d[i] >= dimensions.d[i]\n",
      "[TensorRT] ERROR: safeContext.cpp (184) - Cudnn Error in configure: 7 (CUDNN_STATUS_MAPPING_ERROR)\n",
      "[TensorRT] ERROR: FAILED_EXECUTION: std::exception\n",
      "[TensorRT] ERROR: Parameter check failed at: engine.cpp::setBindingDimensions::1136, condition: profileMaxDims.d[i] >= dimensions.d[i]\n",
      "[TensorRT] ERROR: safeContext.cpp (184) - Cudnn Error in configure: 7 (CUDNN_STATUS_MAPPING_ERROR)\n",
      "[TensorRT] ERROR: FAILED_EXECUTION: std::exception\n",
      "[TensorRT] ERROR: Parameter check failed at: engine.cpp::setBindingDimensions::1136, condition: profileMaxDims.d[i] >= dimensions.d[i]\n",
      "[TensorRT] ERROR: safeContext.cpp (184) - Cudnn Error in configure: 7 (CUDNN_STATUS_MAPPING_ERROR)\n",
      "[TensorRT] ERROR: FAILED_EXECUTION: std::exception\n",
      "[TensorRT] ERROR: Parameter check failed at: engine.cpp::setBindingDimensions::1136, condition: profileMaxDims.d[i] >= dimensions.d[i]\n",
      "[TensorRT] ERROR: safeContext.cpp (184) - Cudnn Error in configure: 7 (CUDNN_STATUS_MAPPING_ERROR)\n",
      "[TensorRT] ERROR: FAILED_EXECUTION: std::exception\n",
      "[TensorRT] ERROR: Parameter check failed at: engine.cpp::setBindingDimensions::1136, condition: profileMaxDims.d[i] >= dimensions.d[i]\n",
      "[TensorRT] ERROR: safeContext.cpp (184) - Cudnn Error in configure: 7 (CUDNN_STATUS_MAPPING_ERROR)\n",
      "[TensorRT] ERROR: FAILED_EXECUTION: std::exception\n"
     ]
    },
    {
     "name": "stdout",
     "output_type": "stream",
     "text": [
      "Time: 0.04468894004821777\n",
      "Time: 0.03852963447570801\n",
      "Time: 0.049405574798583984\n",
      "Time: 0.039643049240112305\n",
      "Time: 0.04253864288330078\n"
     ]
    },
    {
     "name": "stderr",
     "output_type": "stream",
     "text": [
      "[TensorRT] ERROR: Parameter check failed at: engine.cpp::setBindingDimensions::1136, condition: profileMaxDims.d[i] >= dimensions.d[i]\n",
      "[TensorRT] ERROR: safeContext.cpp (184) - Cudnn Error in configure: 7 (CUDNN_STATUS_MAPPING_ERROR)\n",
      "[TensorRT] ERROR: FAILED_EXECUTION: std::exception\n",
      "[TensorRT] ERROR: Parameter check failed at: engine.cpp::setBindingDimensions::1136, condition: profileMaxDims.d[i] >= dimensions.d[i]\n",
      "[TensorRT] ERROR: safeContext.cpp (184) - Cudnn Error in configure: 7 (CUDNN_STATUS_MAPPING_ERROR)\n",
      "[TensorRT] ERROR: FAILED_EXECUTION: std::exception\n",
      "[TensorRT] ERROR: Parameter check failed at: engine.cpp::setBindingDimensions::1136, condition: profileMaxDims.d[i] >= dimensions.d[i]\n",
      "[TensorRT] ERROR: safeContext.cpp (184) - Cudnn Error in configure: 7 (CUDNN_STATUS_MAPPING_ERROR)\n",
      "[TensorRT] ERROR: FAILED_EXECUTION: std::exception\n",
      "[TensorRT] ERROR: Parameter check failed at: engine.cpp::setBindingDimensions::1136, condition: profileMaxDims.d[i] >= dimensions.d[i]\n",
      "[TensorRT] ERROR: safeContext.cpp (184) - Cudnn Error in configure: 7 (CUDNN_STATUS_MAPPING_ERROR)\n",
      "[TensorRT] ERROR: FAILED_EXECUTION: std::exception\n",
      "[TensorRT] ERROR: Parameter check failed at: engine.cpp::setBindingDimensions::1136, condition: profileMaxDims.d[i] >= dimensions.d[i]\n",
      "[TensorRT] ERROR: safeContext.cpp (184) - Cudnn Error in configure: 7 (CUDNN_STATUS_MAPPING_ERROR)\n",
      "[TensorRT] ERROR: FAILED_EXECUTION: std::exception\n"
     ]
    },
    {
     "name": "stdout",
     "output_type": "stream",
     "text": [
      "Time: 0.04870486259460449\n",
      "Time: 0.04303717613220215\n",
      "Time: 0.04187893867492676\n",
      "Time: 0.04158902168273926\n",
      "Time: 0.05202531814575195\n"
     ]
    },
    {
     "name": "stderr",
     "output_type": "stream",
     "text": [
      "[TensorRT] ERROR: Parameter check failed at: engine.cpp::setBindingDimensions::1136, condition: profileMaxDims.d[i] >= dimensions.d[i]\n",
      "[TensorRT] ERROR: safeContext.cpp (184) - Cudnn Error in configure: 7 (CUDNN_STATUS_MAPPING_ERROR)\n",
      "[TensorRT] ERROR: FAILED_EXECUTION: std::exception\n",
      "[TensorRT] ERROR: Parameter check failed at: engine.cpp::setBindingDimensions::1136, condition: profileMaxDims.d[i] >= dimensions.d[i]\n",
      "[TensorRT] ERROR: safeContext.cpp (184) - Cudnn Error in configure: 7 (CUDNN_STATUS_MAPPING_ERROR)\n",
      "[TensorRT] ERROR: FAILED_EXECUTION: std::exception\n",
      "[TensorRT] ERROR: Parameter check failed at: engine.cpp::setBindingDimensions::1136, condition: profileMaxDims.d[i] >= dimensions.d[i]\n",
      "[TensorRT] ERROR: safeContext.cpp (184) - Cudnn Error in configure: 7 (CUDNN_STATUS_MAPPING_ERROR)\n",
      "[TensorRT] ERROR: FAILED_EXECUTION: std::exception\n",
      "[TensorRT] ERROR: Parameter check failed at: engine.cpp::setBindingDimensions::1136, condition: profileMaxDims.d[i] >= dimensions.d[i]\n",
      "[TensorRT] ERROR: safeContext.cpp (184) - Cudnn Error in configure: 7 (CUDNN_STATUS_MAPPING_ERROR)\n",
      "[TensorRT] ERROR: FAILED_EXECUTION: std::exception\n"
     ]
    },
    {
     "name": "stdout",
     "output_type": "stream",
     "text": [
      "Time: 0.06099534034729004\n",
      "Time: 0.052557945251464844\n",
      "Time: 0.07042360305786133\n",
      "Time: 0.05105137825012207\n",
      "Idx: 200\n"
     ]
    },
    {
     "name": "stderr",
     "output_type": "stream",
     "text": [
      "[TensorRT] ERROR: Parameter check failed at: engine.cpp::setBindingDimensions::1136, condition: profileMaxDims.d[i] >= dimensions.d[i]\n",
      "[TensorRT] ERROR: safeContext.cpp (184) - Cudnn Error in configure: 7 (CUDNN_STATUS_MAPPING_ERROR)\n",
      "[TensorRT] ERROR: FAILED_EXECUTION: std::exception\n",
      "[TensorRT] ERROR: Parameter check failed at: engine.cpp::setBindingDimensions::1136, condition: profileMaxDims.d[i] >= dimensions.d[i]\n",
      "[TensorRT] ERROR: safeContext.cpp (184) - Cudnn Error in configure: 7 (CUDNN_STATUS_MAPPING_ERROR)\n",
      "[TensorRT] ERROR: FAILED_EXECUTION: std::exception\n",
      "[TensorRT] ERROR: Parameter check failed at: engine.cpp::setBindingDimensions::1136, condition: profileMaxDims.d[i] >= dimensions.d[i]\n",
      "[TensorRT] ERROR: safeContext.cpp (184) - Cudnn Error in configure: 7 (CUDNN_STATUS_MAPPING_ERROR)\n",
      "[TensorRT] ERROR: FAILED_EXECUTION: std::exception\n",
      "[TensorRT] ERROR: Parameter check failed at: engine.cpp::setBindingDimensions::1136, condition: profileMaxDims.d[i] >= dimensions.d[i]\n",
      "[TensorRT] ERROR: safeContext.cpp (184) - Cudnn Error in configure: 7 (CUDNN_STATUS_MAPPING_ERROR)\n",
      "[TensorRT] ERROR: FAILED_EXECUTION: std::exception\n",
      "[TensorRT] ERROR: Parameter check failed at: engine.cpp::setBindingDimensions::1136, condition: profileMaxDims.d[i] >= dimensions.d[i]\n",
      "[TensorRT] ERROR: safeContext.cpp (184) - Cudnn Error in configure: 7 (CUDNN_STATUS_MAPPING_ERROR)\n",
      "[TensorRT] ERROR: FAILED_EXECUTION: std::exception\n",
      "[TensorRT] ERROR: Parameter check failed at: engine.cpp::setBindingDimensions::1136, condition: profileMaxDims.d[i] >= dimensions.d[i]\n",
      "[TensorRT] ERROR: safeContext.cpp (184) - Cudnn Error in configure: 7 (CUDNN_STATUS_MAPPING_ERROR)\n",
      "[TensorRT] ERROR: FAILED_EXECUTION: std::exception\n"
     ]
    },
    {
     "name": "stdout",
     "output_type": "stream",
     "text": [
      "Time: 0.04011654853820801\n",
      "Time: 0.042409658432006836\n",
      "Time: 0.03407549858093262\n",
      "Time: 0.03464150428771973\n",
      "Time: 0.03539919853210449\n",
      "Time: 0.03499007225036621\n",
      "Time: 0.03534054756164551\n",
      "Time: 0.038150787353515625\n",
      "Time: 0.03877377510070801\n",
      "Time: 0.04389786720275879\n",
      "Time: 0.040238380432128906\n"
     ]
    },
    {
     "name": "stderr",
     "output_type": "stream",
     "text": [
      "[TensorRT] ERROR: Parameter check failed at: engine.cpp::setBindingDimensions::1136, condition: profileMaxDims.d[i] >= dimensions.d[i]\n",
      "[TensorRT] ERROR: safeContext.cpp (184) - Cudnn Error in configure: 7 (CUDNN_STATUS_MAPPING_ERROR)\n",
      "[TensorRT] ERROR: FAILED_EXECUTION: std::exception\n",
      "[TensorRT] ERROR: Parameter check failed at: engine.cpp::setBindingDimensions::1136, condition: profileMaxDims.d[i] >= dimensions.d[i]\n",
      "[TensorRT] ERROR: safeContext.cpp (184) - Cudnn Error in configure: 7 (CUDNN_STATUS_MAPPING_ERROR)\n",
      "[TensorRT] ERROR: FAILED_EXECUTION: std::exception\n",
      "[TensorRT] ERROR: Parameter check failed at: engine.cpp::setBindingDimensions::1136, condition: profileMaxDims.d[i] >= dimensions.d[i]\n",
      "[TensorRT] ERROR: safeContext.cpp (184) - Cudnn Error in configure: 7 (CUDNN_STATUS_MAPPING_ERROR)\n",
      "[TensorRT] ERROR: FAILED_EXECUTION: std::exception\n",
      "[TensorRT] ERROR: Parameter check failed at: engine.cpp::setBindingDimensions::1136, condition: profileMaxDims.d[i] >= dimensions.d[i]\n",
      "[TensorRT] ERROR: safeContext.cpp (184) - Cudnn Error in configure: 7 (CUDNN_STATUS_MAPPING_ERROR)\n",
      "[TensorRT] ERROR: FAILED_EXECUTION: std::exception\n",
      "[TensorRT] ERROR: Parameter check failed at: engine.cpp::setBindingDimensions::1136, condition: profileMaxDims.d[i] >= dimensions.d[i]\n",
      "[TensorRT] ERROR: safeContext.cpp (184) - Cudnn Error in configure: 7 (CUDNN_STATUS_MAPPING_ERROR)\n",
      "[TensorRT] ERROR: FAILED_EXECUTION: std::exception\n",
      "[TensorRT] ERROR: Parameter check failed at: engine.cpp::setBindingDimensions::1136, condition: profileMaxDims.d[i] >= dimensions.d[i]\n",
      "[TensorRT] ERROR: safeContext.cpp (184) - Cudnn Error in configure: 7 (CUDNN_STATUS_MAPPING_ERROR)\n",
      "[TensorRT] ERROR: FAILED_EXECUTION: std::exception\n",
      "[TensorRT] ERROR: Parameter check failed at: engine.cpp::setBindingDimensions::1136, condition: profileMaxDims.d[i] >= dimensions.d[i]\n",
      "[TensorRT] ERROR: safeContext.cpp (184) - Cudnn Error in configure: 7 (CUDNN_STATUS_MAPPING_ERROR)\n",
      "[TensorRT] ERROR: FAILED_EXECUTION: std::exception\n",
      "[TensorRT] ERROR: Parameter check failed at: engine.cpp::setBindingDimensions::1136, condition: profileMaxDims.d[i] >= dimensions.d[i]\n",
      "[TensorRT] ERROR: safeContext.cpp (184) - Cudnn Error in configure: 7 (CUDNN_STATUS_MAPPING_ERROR)\n",
      "[TensorRT] ERROR: FAILED_EXECUTION: std::exception\n",
      "[TensorRT] ERROR: Parameter check failed at: engine.cpp::setBindingDimensions::1136, condition: profileMaxDims.d[i] >= dimensions.d[i]\n",
      "[TensorRT] ERROR: safeContext.cpp (184) - Cudnn Error in configure: 7 (CUDNN_STATUS_MAPPING_ERROR)\n",
      "[TensorRT] ERROR: FAILED_EXECUTION: std::exception\n"
     ]
    },
    {
     "name": "stdout",
     "output_type": "stream",
     "text": [
      "Time: 0.040332794189453125\n",
      "Time: 0.044446468353271484\n",
      "Time: 0.0700371265411377\n",
      "Time: 0.04120445251464844\n"
     ]
    },
    {
     "name": "stderr",
     "output_type": "stream",
     "text": [
      "[TensorRT] ERROR: Parameter check failed at: engine.cpp::setBindingDimensions::1136, condition: profileMaxDims.d[i] >= dimensions.d[i]\n",
      "[TensorRT] ERROR: safeContext.cpp (184) - Cudnn Error in configure: 7 (CUDNN_STATUS_MAPPING_ERROR)\n",
      "[TensorRT] ERROR: FAILED_EXECUTION: std::exception\n",
      "[TensorRT] ERROR: Parameter check failed at: engine.cpp::setBindingDimensions::1136, condition: profileMaxDims.d[i] >= dimensions.d[i]\n",
      "[TensorRT] ERROR: safeContext.cpp (184) - Cudnn Error in configure: 7 (CUDNN_STATUS_MAPPING_ERROR)\n",
      "[TensorRT] ERROR: FAILED_EXECUTION: std::exception\n",
      "[TensorRT] ERROR: Parameter check failed at: engine.cpp::setBindingDimensions::1136, condition: profileMaxDims.d[i] >= dimensions.d[i]\n",
      "[TensorRT] ERROR: safeContext.cpp (184) - Cudnn Error in configure: 7 (CUDNN_STATUS_MAPPING_ERROR)\n",
      "[TensorRT] ERROR: FAILED_EXECUTION: std::exception\n",
      "[TensorRT] ERROR: Parameter check failed at: engine.cpp::setBindingDimensions::1136, condition: profileMaxDims.d[i] >= dimensions.d[i]\n",
      "[TensorRT] ERROR: safeContext.cpp (184) - Cudnn Error in configure: 7 (CUDNN_STATUS_MAPPING_ERROR)\n",
      "[TensorRT] ERROR: FAILED_EXECUTION: std::exception\n",
      "[TensorRT] ERROR: Parameter check failed at: engine.cpp::setBindingDimensions::1136, condition: profileMaxDims.d[i] >= dimensions.d[i]\n",
      "[TensorRT] ERROR: safeContext.cpp (184) - Cudnn Error in configure: 7 (CUDNN_STATUS_MAPPING_ERROR)\n",
      "[TensorRT] ERROR: FAILED_EXECUTION: std::exception\n"
     ]
    },
    {
     "name": "stdout",
     "output_type": "stream",
     "text": [
      "Time: 0.04083704948425293\n",
      "Time: 0.039498329162597656\n",
      "Time: 0.04274415969848633\n",
      "Time: 0.03952169418334961\n",
      "Time: 0.04337716102600098\n"
     ]
    },
    {
     "name": "stderr",
     "output_type": "stream",
     "text": [
      "[TensorRT] ERROR: Parameter check failed at: engine.cpp::setBindingDimensions::1136, condition: profileMaxDims.d[i] >= dimensions.d[i]\n",
      "[TensorRT] ERROR: safeContext.cpp (184) - Cudnn Error in configure: 7 (CUDNN_STATUS_MAPPING_ERROR)\n",
      "[TensorRT] ERROR: FAILED_EXECUTION: std::exception\n",
      "[TensorRT] ERROR: Parameter check failed at: engine.cpp::setBindingDimensions::1136, condition: profileMaxDims.d[i] >= dimensions.d[i]\n",
      "[TensorRT] ERROR: safeContext.cpp (184) - Cudnn Error in configure: 7 (CUDNN_STATUS_MAPPING_ERROR)\n",
      "[TensorRT] ERROR: FAILED_EXECUTION: std::exception\n",
      "[TensorRT] ERROR: Parameter check failed at: engine.cpp::setBindingDimensions::1136, condition: profileMaxDims.d[i] >= dimensions.d[i]\n",
      "[TensorRT] ERROR: safeContext.cpp (184) - Cudnn Error in configure: 7 (CUDNN_STATUS_MAPPING_ERROR)\n",
      "[TensorRT] ERROR: FAILED_EXECUTION: std::exception\n",
      "[TensorRT] ERROR: Parameter check failed at: engine.cpp::setBindingDimensions::1136, condition: profileMaxDims.d[i] >= dimensions.d[i]\n",
      "[TensorRT] ERROR: safeContext.cpp (184) - Cudnn Error in configure: 7 (CUDNN_STATUS_MAPPING_ERROR)\n",
      "[TensorRT] ERROR: FAILED_EXECUTION: std::exception\n",
      "[TensorRT] ERROR: Parameter check failed at: engine.cpp::setBindingDimensions::1136, condition: profileMaxDims.d[i] >= dimensions.d[i]\n",
      "[TensorRT] ERROR: safeContext.cpp (184) - Cudnn Error in configure: 7 (CUDNN_STATUS_MAPPING_ERROR)\n",
      "[TensorRT] ERROR: FAILED_EXECUTION: std::exception\n"
     ]
    },
    {
     "name": "stdout",
     "output_type": "stream",
     "text": [
      "Time: 0.050768375396728516\n",
      "Time: 0.042446136474609375\n",
      "Time: 0.04238128662109375\n",
      "Time: 0.042971134185791016\n",
      "Time: 0.04386544227600098\n"
     ]
    },
    {
     "name": "stderr",
     "output_type": "stream",
     "text": [
      "[TensorRT] ERROR: Parameter check failed at: engine.cpp::setBindingDimensions::1136, condition: profileMaxDims.d[i] >= dimensions.d[i]\n",
      "[TensorRT] ERROR: safeContext.cpp (184) - Cudnn Error in configure: 7 (CUDNN_STATUS_MAPPING_ERROR)\n",
      "[TensorRT] ERROR: FAILED_EXECUTION: std::exception\n",
      "[TensorRT] ERROR: Parameter check failed at: engine.cpp::setBindingDimensions::1136, condition: profileMaxDims.d[i] >= dimensions.d[i]\n",
      "[TensorRT] ERROR: safeContext.cpp (184) - Cudnn Error in configure: 7 (CUDNN_STATUS_MAPPING_ERROR)\n",
      "[TensorRT] ERROR: FAILED_EXECUTION: std::exception\n",
      "[TensorRT] ERROR: Parameter check failed at: engine.cpp::setBindingDimensions::1136, condition: profileMaxDims.d[i] >= dimensions.d[i]\n",
      "[TensorRT] ERROR: safeContext.cpp (184) - Cudnn Error in configure: 7 (CUDNN_STATUS_MAPPING_ERROR)\n",
      "[TensorRT] ERROR: FAILED_EXECUTION: std::exception\n",
      "[TensorRT] ERROR: Parameter check failed at: engine.cpp::setBindingDimensions::1136, condition: profileMaxDims.d[i] >= dimensions.d[i]\n",
      "[TensorRT] ERROR: safeContext.cpp (184) - Cudnn Error in configure: 7 (CUDNN_STATUS_MAPPING_ERROR)\n",
      "[TensorRT] ERROR: FAILED_EXECUTION: std::exception\n"
     ]
    },
    {
     "name": "stdout",
     "output_type": "stream",
     "text": [
      "Time: 0.043202877044677734\n",
      "Time: 0.042449235916137695\n",
      "Time: 0.04208660125732422\n",
      "Time: 0.05191183090209961\n"
     ]
    },
    {
     "name": "stderr",
     "output_type": "stream",
     "text": [
      "[TensorRT] ERROR: Parameter check failed at: engine.cpp::setBindingDimensions::1136, condition: profileMaxDims.d[i] >= dimensions.d[i]\n",
      "[TensorRT] ERROR: safeContext.cpp (184) - Cudnn Error in configure: 7 (CUDNN_STATUS_MAPPING_ERROR)\n",
      "[TensorRT] ERROR: FAILED_EXECUTION: std::exception\n",
      "[TensorRT] ERROR: Parameter check failed at: engine.cpp::setBindingDimensions::1136, condition: profileMaxDims.d[i] >= dimensions.d[i]\n",
      "[TensorRT] ERROR: safeContext.cpp (184) - Cudnn Error in configure: 7 (CUDNN_STATUS_MAPPING_ERROR)\n",
      "[TensorRT] ERROR: FAILED_EXECUTION: std::exception\n",
      "[TensorRT] ERROR: Parameter check failed at: engine.cpp::setBindingDimensions::1136, condition: profileMaxDims.d[i] >= dimensions.d[i]\n",
      "[TensorRT] ERROR: safeContext.cpp (184) - Cudnn Error in configure: 7 (CUDNN_STATUS_MAPPING_ERROR)\n",
      "[TensorRT] ERROR: FAILED_EXECUTION: std::exception\n",
      "[TensorRT] ERROR: Parameter check failed at: engine.cpp::setBindingDimensions::1136, condition: profileMaxDims.d[i] >= dimensions.d[i]\n",
      "[TensorRT] ERROR: safeContext.cpp (184) - Cudnn Error in configure: 7 (CUDNN_STATUS_MAPPING_ERROR)\n",
      "[TensorRT] ERROR: FAILED_EXECUTION: std::exception\n",
      "[TensorRT] ERROR: Parameter check failed at: engine.cpp::setBindingDimensions::1136, condition: profileMaxDims.d[i] >= dimensions.d[i]\n",
      "[TensorRT] ERROR: safeContext.cpp (184) - Cudnn Error in configure: 7 (CUDNN_STATUS_MAPPING_ERROR)\n",
      "[TensorRT] ERROR: FAILED_EXECUTION: std::exception\n"
     ]
    },
    {
     "name": "stdout",
     "output_type": "stream",
     "text": [
      "Time: 0.062017202377319336\n",
      "Time: 0.04242348670959473\n",
      "Time: 0.04859423637390137\n",
      "Time: 0.04258084297180176\n",
      "Time: 0.0477139949798584\n"
     ]
    },
    {
     "name": "stderr",
     "output_type": "stream",
     "text": [
      "[TensorRT] ERROR: Parameter check failed at: engine.cpp::setBindingDimensions::1136, condition: profileMaxDims.d[i] >= dimensions.d[i]\n",
      "[TensorRT] ERROR: safeContext.cpp (184) - Cudnn Error in configure: 7 (CUDNN_STATUS_MAPPING_ERROR)\n",
      "[TensorRT] ERROR: FAILED_EXECUTION: std::exception\n",
      "[TensorRT] ERROR: Parameter check failed at: engine.cpp::setBindingDimensions::1136, condition: profileMaxDims.d[i] >= dimensions.d[i]\n",
      "[TensorRT] ERROR: safeContext.cpp (184) - Cudnn Error in configure: 7 (CUDNN_STATUS_MAPPING_ERROR)\n",
      "[TensorRT] ERROR: FAILED_EXECUTION: std::exception\n",
      "[TensorRT] ERROR: Parameter check failed at: engine.cpp::setBindingDimensions::1136, condition: profileMaxDims.d[i] >= dimensions.d[i]\n",
      "[TensorRT] ERROR: safeContext.cpp (184) - Cudnn Error in configure: 7 (CUDNN_STATUS_MAPPING_ERROR)\n",
      "[TensorRT] ERROR: FAILED_EXECUTION: std::exception\n",
      "[TensorRT] ERROR: Parameter check failed at: engine.cpp::setBindingDimensions::1136, condition: profileMaxDims.d[i] >= dimensions.d[i]\n",
      "[TensorRT] ERROR: safeContext.cpp (184) - Cudnn Error in configure: 7 (CUDNN_STATUS_MAPPING_ERROR)\n",
      "[TensorRT] ERROR: FAILED_EXECUTION: std::exception\n",
      "[TensorRT] ERROR: Parameter check failed at: engine.cpp::setBindingDimensions::1136, condition: profileMaxDims.d[i] >= dimensions.d[i]\n",
      "[TensorRT] ERROR: safeContext.cpp (184) - Cudnn Error in configure: 7 (CUDNN_STATUS_MAPPING_ERROR)\n",
      "[TensorRT] ERROR: FAILED_EXECUTION: std::exception\n"
     ]
    },
    {
     "name": "stdout",
     "output_type": "stream",
     "text": [
      "Time: 0.04321408271789551\n",
      "Time: 0.04224562644958496\n",
      "Time: 0.05153465270996094\n",
      "Time: 0.0495915412902832\n",
      "Time: 0.04261589050292969\n"
     ]
    },
    {
     "name": "stderr",
     "output_type": "stream",
     "text": [
      "[TensorRT] ERROR: Parameter check failed at: engine.cpp::setBindingDimensions::1136, condition: profileMaxDims.d[i] >= dimensions.d[i]\n",
      "[TensorRT] ERROR: safeContext.cpp (184) - Cudnn Error in configure: 7 (CUDNN_STATUS_MAPPING_ERROR)\n",
      "[TensorRT] ERROR: FAILED_EXECUTION: std::exception\n",
      "[TensorRT] ERROR: Parameter check failed at: engine.cpp::setBindingDimensions::1136, condition: profileMaxDims.d[i] >= dimensions.d[i]\n",
      "[TensorRT] ERROR: safeContext.cpp (184) - Cudnn Error in configure: 7 (CUDNN_STATUS_MAPPING_ERROR)\n",
      "[TensorRT] ERROR: FAILED_EXECUTION: std::exception\n",
      "[TensorRT] ERROR: Parameter check failed at: engine.cpp::setBindingDimensions::1136, condition: profileMaxDims.d[i] >= dimensions.d[i]\n",
      "[TensorRT] ERROR: safeContext.cpp (184) - Cudnn Error in configure: 7 (CUDNN_STATUS_MAPPING_ERROR)\n",
      "[TensorRT] ERROR: FAILED_EXECUTION: std::exception\n",
      "[TensorRT] ERROR: Parameter check failed at: engine.cpp::setBindingDimensions::1136, condition: profileMaxDims.d[i] >= dimensions.d[i]\n",
      "[TensorRT] ERROR: safeContext.cpp (184) - Cudnn Error in configure: 7 (CUDNN_STATUS_MAPPING_ERROR)\n",
      "[TensorRT] ERROR: FAILED_EXECUTION: std::exception\n",
      "[TensorRT] ERROR: Parameter check failed at: engine.cpp::setBindingDimensions::1136, condition: profileMaxDims.d[i] >= dimensions.d[i]\n",
      "[TensorRT] ERROR: safeContext.cpp (184) - Cudnn Error in configure: 7 (CUDNN_STATUS_MAPPING_ERROR)\n",
      "[TensorRT] ERROR: FAILED_EXECUTION: std::exception\n"
     ]
    },
    {
     "name": "stdout",
     "output_type": "stream",
     "text": [
      "Time: 0.042708396911621094\n",
      "Time: 0.04693913459777832\n",
      "Time: 0.04238629341125488\n",
      "Time: 0.04217267036437988\n",
      "Time: 0.049999237060546875\n"
     ]
    },
    {
     "name": "stderr",
     "output_type": "stream",
     "text": [
      "[TensorRT] ERROR: Parameter check failed at: engine.cpp::setBindingDimensions::1136, condition: profileMaxDims.d[i] >= dimensions.d[i]\n",
      "[TensorRT] ERROR: safeContext.cpp (184) - Cudnn Error in configure: 7 (CUDNN_STATUS_MAPPING_ERROR)\n",
      "[TensorRT] ERROR: FAILED_EXECUTION: std::exception\n",
      "[TensorRT] ERROR: Parameter check failed at: engine.cpp::setBindingDimensions::1136, condition: profileMaxDims.d[i] >= dimensions.d[i]\n",
      "[TensorRT] ERROR: safeContext.cpp (184) - Cudnn Error in configure: 7 (CUDNN_STATUS_MAPPING_ERROR)\n",
      "[TensorRT] ERROR: FAILED_EXECUTION: std::exception\n",
      "[TensorRT] ERROR: Parameter check failed at: engine.cpp::setBindingDimensions::1136, condition: profileMaxDims.d[i] >= dimensions.d[i]\n",
      "[TensorRT] ERROR: safeContext.cpp (184) - Cudnn Error in configure: 7 (CUDNN_STATUS_MAPPING_ERROR)\n",
      "[TensorRT] ERROR: FAILED_EXECUTION: std::exception\n",
      "[TensorRT] ERROR: Parameter check failed at: engine.cpp::setBindingDimensions::1136, condition: profileMaxDims.d[i] >= dimensions.d[i]\n",
      "[TensorRT] ERROR: safeContext.cpp (184) - Cudnn Error in configure: 7 (CUDNN_STATUS_MAPPING_ERROR)\n",
      "[TensorRT] ERROR: FAILED_EXECUTION: std::exception\n",
      "[TensorRT] ERROR: Parameter check failed at: engine.cpp::setBindingDimensions::1136, condition: profileMaxDims.d[i] >= dimensions.d[i]\n",
      "[TensorRT] ERROR: safeContext.cpp (184) - Cudnn Error in configure: 7 (CUDNN_STATUS_MAPPING_ERROR)\n",
      "[TensorRT] ERROR: FAILED_EXECUTION: std::exception\n"
     ]
    },
    {
     "name": "stdout",
     "output_type": "stream",
     "text": [
      "Time: 0.04324674606323242\n",
      "Time: 0.042380571365356445\n",
      "Time: 0.04257535934448242\n",
      "Time: 0.04243946075439453\n",
      "Time: 0.04675698280334473\n"
     ]
    },
    {
     "name": "stderr",
     "output_type": "stream",
     "text": [
      "[TensorRT] ERROR: Parameter check failed at: engine.cpp::setBindingDimensions::1136, condition: profileMaxDims.d[i] >= dimensions.d[i]\n",
      "[TensorRT] ERROR: safeContext.cpp (184) - Cudnn Error in configure: 7 (CUDNN_STATUS_MAPPING_ERROR)\n",
      "[TensorRT] ERROR: FAILED_EXECUTION: std::exception\n",
      "[TensorRT] ERROR: Parameter check failed at: engine.cpp::setBindingDimensions::1136, condition: profileMaxDims.d[i] >= dimensions.d[i]\n",
      "[TensorRT] ERROR: safeContext.cpp (184) - Cudnn Error in configure: 7 (CUDNN_STATUS_MAPPING_ERROR)\n",
      "[TensorRT] ERROR: FAILED_EXECUTION: std::exception\n",
      "[TensorRT] ERROR: Parameter check failed at: engine.cpp::setBindingDimensions::1136, condition: profileMaxDims.d[i] >= dimensions.d[i]\n",
      "[TensorRT] ERROR: safeContext.cpp (184) - Cudnn Error in configure: 7 (CUDNN_STATUS_MAPPING_ERROR)\n",
      "[TensorRT] ERROR: FAILED_EXECUTION: std::exception\n",
      "[TensorRT] ERROR: Parameter check failed at: engine.cpp::setBindingDimensions::1136, condition: profileMaxDims.d[i] >= dimensions.d[i]\n",
      "[TensorRT] ERROR: safeContext.cpp (184) - Cudnn Error in configure: 7 (CUDNN_STATUS_MAPPING_ERROR)\n",
      "[TensorRT] ERROR: FAILED_EXECUTION: std::exception\n"
     ]
    },
    {
     "name": "stdout",
     "output_type": "stream",
     "text": [
      "Time: 0.059601545333862305\n",
      "Time: 0.0513463020324707\n",
      "Time: 0.04277849197387695\n",
      "Time: 0.059642791748046875\n"
     ]
    },
    {
     "name": "stderr",
     "output_type": "stream",
     "text": [
      "[TensorRT] ERROR: Parameter check failed at: engine.cpp::setBindingDimensions::1136, condition: profileMaxDims.d[i] >= dimensions.d[i]\n",
      "[TensorRT] ERROR: safeContext.cpp (184) - Cudnn Error in configure: 7 (CUDNN_STATUS_MAPPING_ERROR)\n",
      "[TensorRT] ERROR: FAILED_EXECUTION: std::exception\n",
      "[TensorRT] ERROR: Parameter check failed at: engine.cpp::setBindingDimensions::1136, condition: profileMaxDims.d[i] >= dimensions.d[i]\n",
      "[TensorRT] ERROR: safeContext.cpp (184) - Cudnn Error in configure: 7 (CUDNN_STATUS_MAPPING_ERROR)\n",
      "[TensorRT] ERROR: FAILED_EXECUTION: std::exception\n",
      "[TensorRT] ERROR: Parameter check failed at: engine.cpp::setBindingDimensions::1136, condition: profileMaxDims.d[i] >= dimensions.d[i]\n",
      "[TensorRT] ERROR: safeContext.cpp (184) - Cudnn Error in configure: 7 (CUDNN_STATUS_MAPPING_ERROR)\n",
      "[TensorRT] ERROR: FAILED_EXECUTION: std::exception\n",
      "[TensorRT] ERROR: Parameter check failed at: engine.cpp::setBindingDimensions::1136, condition: profileMaxDims.d[i] >= dimensions.d[i]\n",
      "[TensorRT] ERROR: safeContext.cpp (184) - Cudnn Error in configure: 7 (CUDNN_STATUS_MAPPING_ERROR)\n",
      "[TensorRT] ERROR: FAILED_EXECUTION: std::exception\n",
      "[TensorRT] ERROR: Parameter check failed at: engine.cpp::setBindingDimensions::1136, condition: profileMaxDims.d[i] >= dimensions.d[i]\n",
      "[TensorRT] ERROR: safeContext.cpp (184) - Cudnn Error in configure: 7 (CUDNN_STATUS_MAPPING_ERROR)\n",
      "[TensorRT] ERROR: FAILED_EXECUTION: std::exception\n"
     ]
    },
    {
     "name": "stdout",
     "output_type": "stream",
     "text": [
      "Time: 0.059213876724243164\n",
      "Time: 0.05354785919189453\n",
      "Time: 0.044310808181762695\n",
      "Time: 0.04461956024169922\n",
      "Time: 0.04434394836425781\n",
      "Time: 0.04487276077270508\n",
      "Time: 0.0451350212097168\n",
      "Time: 0.05445289611816406\n"
     ]
    },
    {
     "name": "stderr",
     "output_type": "stream",
     "text": [
      "[TensorRT] ERROR: Parameter check failed at: engine.cpp::setBindingDimensions::1136, condition: profileMaxDims.d[i] >= dimensions.d[i]\n",
      "[TensorRT] ERROR: safeContext.cpp (184) - Cudnn Error in configure: 7 (CUDNN_STATUS_MAPPING_ERROR)\n",
      "[TensorRT] ERROR: FAILED_EXECUTION: std::exception\n",
      "[TensorRT] ERROR: Parameter check failed at: engine.cpp::setBindingDimensions::1136, condition: profileMaxDims.d[i] >= dimensions.d[i]\n",
      "[TensorRT] ERROR: safeContext.cpp (184) - Cudnn Error in configure: 7 (CUDNN_STATUS_MAPPING_ERROR)\n",
      "[TensorRT] ERROR: FAILED_EXECUTION: std::exception\n",
      "[TensorRT] ERROR: Parameter check failed at: engine.cpp::setBindingDimensions::1136, condition: profileMaxDims.d[i] >= dimensions.d[i]\n",
      "[TensorRT] ERROR: safeContext.cpp (184) - Cudnn Error in configure: 7 (CUDNN_STATUS_MAPPING_ERROR)\n",
      "[TensorRT] ERROR: FAILED_EXECUTION: std::exception\n",
      "[TensorRT] ERROR: Parameter check failed at: engine.cpp::setBindingDimensions::1136, condition: profileMaxDims.d[i] >= dimensions.d[i]\n",
      "[TensorRT] ERROR: safeContext.cpp (184) - Cudnn Error in configure: 7 (CUDNN_STATUS_MAPPING_ERROR)\n",
      "[TensorRT] ERROR: FAILED_EXECUTION: std::exception\n"
     ]
    },
    {
     "name": "stdout",
     "output_type": "stream",
     "text": [
      "Time: 0.054540395736694336\n",
      "Time: 0.04575395584106445\n",
      "Time: 0.04530501365661621\n",
      "Time: 0.04848337173461914\n"
     ]
    },
    {
     "name": "stderr",
     "output_type": "stream",
     "text": [
      "[TensorRT] ERROR: Parameter check failed at: engine.cpp::setBindingDimensions::1136, condition: profileMaxDims.d[i] >= dimensions.d[i]\n",
      "[TensorRT] ERROR: safeContext.cpp (184) - Cudnn Error in configure: 7 (CUDNN_STATUS_MAPPING_ERROR)\n",
      "[TensorRT] ERROR: FAILED_EXECUTION: std::exception\n",
      "[TensorRT] ERROR: Parameter check failed at: engine.cpp::setBindingDimensions::1136, condition: profileMaxDims.d[i] >= dimensions.d[i]\n",
      "[TensorRT] ERROR: safeContext.cpp (184) - Cudnn Error in configure: 7 (CUDNN_STATUS_MAPPING_ERROR)\n",
      "[TensorRT] ERROR: FAILED_EXECUTION: std::exception\n",
      "[TensorRT] ERROR: Parameter check failed at: engine.cpp::setBindingDimensions::1136, condition: profileMaxDims.d[i] >= dimensions.d[i]\n",
      "[TensorRT] ERROR: safeContext.cpp (184) - Cudnn Error in configure: 7 (CUDNN_STATUS_MAPPING_ERROR)\n",
      "[TensorRT] ERROR: FAILED_EXECUTION: std::exception\n",
      "[TensorRT] ERROR: Parameter check failed at: engine.cpp::setBindingDimensions::1136, condition: profileMaxDims.d[i] >= dimensions.d[i]\n",
      "[TensorRT] ERROR: safeContext.cpp (184) - Cudnn Error in configure: 7 (CUDNN_STATUS_MAPPING_ERROR)\n",
      "[TensorRT] ERROR: FAILED_EXECUTION: std::exception\n"
     ]
    },
    {
     "name": "stdout",
     "output_type": "stream",
     "text": [
      "Time: 0.05486631393432617\n",
      "Time: 0.053870439529418945\n",
      "Time: 0.04495120048522949\n",
      "Time: 0.04471445083618164\n",
      "Time: 0.04993891716003418\n"
     ]
    },
    {
     "name": "stderr",
     "output_type": "stream",
     "text": [
      "[TensorRT] ERROR: Parameter check failed at: engine.cpp::setBindingDimensions::1136, condition: profileMaxDims.d[i] >= dimensions.d[i]\n",
      "[TensorRT] ERROR: safeContext.cpp (184) - Cudnn Error in configure: 7 (CUDNN_STATUS_MAPPING_ERROR)\n",
      "[TensorRT] ERROR: FAILED_EXECUTION: std::exception\n",
      "[TensorRT] ERROR: Parameter check failed at: engine.cpp::setBindingDimensions::1136, condition: profileMaxDims.d[i] >= dimensions.d[i]\n",
      "[TensorRT] ERROR: safeContext.cpp (184) - Cudnn Error in configure: 7 (CUDNN_STATUS_MAPPING_ERROR)\n",
      "[TensorRT] ERROR: FAILED_EXECUTION: std::exception\n",
      "[TensorRT] ERROR: Parameter check failed at: engine.cpp::setBindingDimensions::1136, condition: profileMaxDims.d[i] >= dimensions.d[i]\n",
      "[TensorRT] ERROR: safeContext.cpp (184) - Cudnn Error in configure: 7 (CUDNN_STATUS_MAPPING_ERROR)\n",
      "[TensorRT] ERROR: FAILED_EXECUTION: std::exception\n",
      "[TensorRT] ERROR: Parameter check failed at: engine.cpp::setBindingDimensions::1136, condition: profileMaxDims.d[i] >= dimensions.d[i]\n",
      "[TensorRT] ERROR: safeContext.cpp (184) - Cudnn Error in configure: 7 (CUDNN_STATUS_MAPPING_ERROR)\n",
      "[TensorRT] ERROR: FAILED_EXECUTION: std::exception\n",
      "[TensorRT] ERROR: Parameter check failed at: engine.cpp::setBindingDimensions::1136, condition: profileMaxDims.d[i] >= dimensions.d[i]\n",
      "[TensorRT] ERROR: safeContext.cpp (184) - Cudnn Error in configure: 7 (CUDNN_STATUS_MAPPING_ERROR)\n",
      "[TensorRT] ERROR: FAILED_EXECUTION: std::exception\n",
      "[TensorRT] ERROR: Parameter check failed at: engine.cpp::setBindingDimensions::1136, condition: profileMaxDims.d[i] >= dimensions.d[i]\n",
      "[TensorRT] ERROR: safeContext.cpp (184) - Cudnn Error in configure: 7 (CUDNN_STATUS_MAPPING_ERROR)\n",
      "[TensorRT] ERROR: FAILED_EXECUTION: std::exception\n",
      "[TensorRT] ERROR: Parameter check failed at: engine.cpp::setBindingDimensions::1136, condition: profileMaxDims.d[i] >= dimensions.d[i]\n",
      "[TensorRT] ERROR: safeContext.cpp (184) - Cudnn Error in configure: 7 (CUDNN_STATUS_MAPPING_ERROR)\n",
      "[TensorRT] ERROR: FAILED_EXECUTION: std::exception\n",
      "[TensorRT] ERROR: Parameter check failed at: engine.cpp::setBindingDimensions::1136, condition: profileMaxDims.d[i] >= dimensions.d[i]\n",
      "[TensorRT] ERROR: safeContext.cpp (184) - Cudnn Error in configure: 7 (CUDNN_STATUS_MAPPING_ERROR)\n",
      "[TensorRT] ERROR: FAILED_EXECUTION: std::exception\n",
      "[TensorRT] ERROR: Parameter check failed at: engine.cpp::setBindingDimensions::1136, condition: profileMaxDims.d[i] >= dimensions.d[i]\n",
      "[TensorRT] ERROR: safeContext.cpp (184) - Cudnn Error in configure: 7 (CUDNN_STATUS_MAPPING_ERROR)\n",
      "[TensorRT] ERROR: FAILED_EXECUTION: std::exception\n"
     ]
    },
    {
     "name": "stdout",
     "output_type": "stream",
     "text": [
      "Time: 0.05105113983154297\n",
      "Time: 0.04483485221862793\n",
      "Time: 0.04607105255126953\n",
      "Time: 0.0446624755859375\n",
      "Time: 0.04524827003479004\n"
     ]
    },
    {
     "name": "stderr",
     "output_type": "stream",
     "text": [
      "[TensorRT] ERROR: Parameter check failed at: engine.cpp::setBindingDimensions::1136, condition: profileMaxDims.d[i] >= dimensions.d[i]\n",
      "[TensorRT] ERROR: safeContext.cpp (184) - Cudnn Error in configure: 7 (CUDNN_STATUS_MAPPING_ERROR)\n",
      "[TensorRT] ERROR: FAILED_EXECUTION: std::exception\n",
      "[TensorRT] ERROR: Parameter check failed at: engine.cpp::setBindingDimensions::1136, condition: profileMaxDims.d[i] >= dimensions.d[i]\n",
      "[TensorRT] ERROR: safeContext.cpp (184) - Cudnn Error in configure: 7 (CUDNN_STATUS_MAPPING_ERROR)\n",
      "[TensorRT] ERROR: FAILED_EXECUTION: std::exception\n",
      "[TensorRT] ERROR: Parameter check failed at: engine.cpp::setBindingDimensions::1136, condition: profileMaxDims.d[i] >= dimensions.d[i]\n",
      "[TensorRT] ERROR: safeContext.cpp (184) - Cudnn Error in configure: 7 (CUDNN_STATUS_MAPPING_ERROR)\n",
      "[TensorRT] ERROR: FAILED_EXECUTION: std::exception\n",
      "[TensorRT] ERROR: Parameter check failed at: engine.cpp::setBindingDimensions::1136, condition: profileMaxDims.d[i] >= dimensions.d[i]\n",
      "[TensorRT] ERROR: safeContext.cpp (184) - Cudnn Error in configure: 7 (CUDNN_STATUS_MAPPING_ERROR)\n",
      "[TensorRT] ERROR: FAILED_EXECUTION: std::exception\n",
      "[TensorRT] ERROR: Parameter check failed at: engine.cpp::setBindingDimensions::1136, condition: profileMaxDims.d[i] >= dimensions.d[i]\n",
      "[TensorRT] ERROR: safeContext.cpp (184) - Cudnn Error in configure: 7 (CUDNN_STATUS_MAPPING_ERROR)\n",
      "[TensorRT] ERROR: FAILED_EXECUTION: std::exception\n"
     ]
    },
    {
     "name": "stdout",
     "output_type": "stream",
     "text": [
      "Time: 0.04572463035583496\n",
      "Time: 0.04520130157470703\n",
      "Time: 0.04503035545349121\n",
      "Time: 0.04527997970581055\n",
      "Time: 0.04517030715942383\n"
     ]
    },
    {
     "name": "stderr",
     "output_type": "stream",
     "text": [
      "[TensorRT] ERROR: Parameter check failed at: engine.cpp::setBindingDimensions::1136, condition: profileMaxDims.d[i] >= dimensions.d[i]\n",
      "[TensorRT] ERROR: safeContext.cpp (184) - Cudnn Error in configure: 7 (CUDNN_STATUS_MAPPING_ERROR)\n",
      "[TensorRT] ERROR: FAILED_EXECUTION: std::exception\n",
      "[TensorRT] ERROR: Parameter check failed at: engine.cpp::setBindingDimensions::1136, condition: profileMaxDims.d[i] >= dimensions.d[i]\n",
      "[TensorRT] ERROR: safeContext.cpp (184) - Cudnn Error in configure: 7 (CUDNN_STATUS_MAPPING_ERROR)\n",
      "[TensorRT] ERROR: FAILED_EXECUTION: std::exception\n",
      "[TensorRT] ERROR: Parameter check failed at: engine.cpp::setBindingDimensions::1136, condition: profileMaxDims.d[i] >= dimensions.d[i]\n",
      "[TensorRT] ERROR: safeContext.cpp (184) - Cudnn Error in configure: 7 (CUDNN_STATUS_MAPPING_ERROR)\n",
      "[TensorRT] ERROR: FAILED_EXECUTION: std::exception\n",
      "[TensorRT] ERROR: Parameter check failed at: engine.cpp::setBindingDimensions::1136, condition: profileMaxDims.d[i] >= dimensions.d[i]\n",
      "[TensorRT] ERROR: safeContext.cpp (184) - Cudnn Error in configure: 7 (CUDNN_STATUS_MAPPING_ERROR)\n",
      "[TensorRT] ERROR: FAILED_EXECUTION: std::exception\n",
      "[TensorRT] ERROR: Parameter check failed at: engine.cpp::setBindingDimensions::1136, condition: profileMaxDims.d[i] >= dimensions.d[i]\n",
      "[TensorRT] ERROR: safeContext.cpp (184) - Cudnn Error in configure: 7 (CUDNN_STATUS_MAPPING_ERROR)\n",
      "[TensorRT] ERROR: FAILED_EXECUTION: std::exception\n"
     ]
    },
    {
     "name": "stdout",
     "output_type": "stream",
     "text": [
      "Time: 0.04573678970336914\n",
      "Time: 0.05105757713317871\n",
      "Time: 0.0527646541595459\n",
      "Time: 0.0449528694152832\n",
      "Time: 0.04538774490356445\n",
      "Time: 0.04878711700439453\n",
      "Time: 0.09403061866760254\n"
     ]
    },
    {
     "name": "stderr",
     "output_type": "stream",
     "text": [
      "[TensorRT] ERROR: Parameter check failed at: engine.cpp::setBindingDimensions::1136, condition: profileMaxDims.d[i] >= dimensions.d[i]\n",
      "[TensorRT] ERROR: safeContext.cpp (184) - Cudnn Error in configure: 7 (CUDNN_STATUS_MAPPING_ERROR)\n",
      "[TensorRT] ERROR: FAILED_EXECUTION: std::exception\n",
      "[TensorRT] ERROR: Parameter check failed at: engine.cpp::setBindingDimensions::1136, condition: profileMaxDims.d[i] >= dimensions.d[i]\n",
      "[TensorRT] ERROR: safeContext.cpp (184) - Cudnn Error in configure: 7 (CUDNN_STATUS_MAPPING_ERROR)\n",
      "[TensorRT] ERROR: FAILED_EXECUTION: std::exception\n",
      "[TensorRT] ERROR: Parameter check failed at: engine.cpp::setBindingDimensions::1136, condition: profileMaxDims.d[i] >= dimensions.d[i]\n",
      "[TensorRT] ERROR: safeContext.cpp (184) - Cudnn Error in configure: 7 (CUDNN_STATUS_MAPPING_ERROR)\n",
      "[TensorRT] ERROR: FAILED_EXECUTION: std::exception\n"
     ]
    },
    {
     "name": "stdout",
     "output_type": "stream",
     "text": [
      "Time: 0.07303333282470703\n",
      "Time: 0.06691288948059082\n",
      "Time: 0.0626211166381836\n"
     ]
    },
    {
     "name": "stderr",
     "output_type": "stream",
     "text": [
      "[TensorRT] ERROR: Parameter check failed at: engine.cpp::setBindingDimensions::1136, condition: profileMaxDims.d[i] >= dimensions.d[i]\n",
      "[TensorRT] ERROR: safeContext.cpp (184) - Cudnn Error in configure: 7 (CUDNN_STATUS_MAPPING_ERROR)\n",
      "[TensorRT] ERROR: FAILED_EXECUTION: std::exception\n",
      "[TensorRT] ERROR: Parameter check failed at: engine.cpp::setBindingDimensions::1136, condition: profileMaxDims.d[i] >= dimensions.d[i]\n",
      "[TensorRT] ERROR: safeContext.cpp (184) - Cudnn Error in configure: 7 (CUDNN_STATUS_MAPPING_ERROR)\n",
      "[TensorRT] ERROR: FAILED_EXECUTION: std::exception\n",
      "[TensorRT] ERROR: Parameter check failed at: engine.cpp::setBindingDimensions::1136, condition: profileMaxDims.d[i] >= dimensions.d[i]\n",
      "[TensorRT] ERROR: safeContext.cpp (184) - Cudnn Error in configure: 7 (CUDNN_STATUS_MAPPING_ERROR)\n",
      "[TensorRT] ERROR: FAILED_EXECUTION: std::exception\n",
      "[TensorRT] ERROR: Parameter check failed at: engine.cpp::setBindingDimensions::1136, condition: profileMaxDims.d[i] >= dimensions.d[i]\n",
      "[TensorRT] ERROR: safeContext.cpp (184) - Cudnn Error in configure: 7 (CUDNN_STATUS_MAPPING_ERROR)\n",
      "[TensorRT] ERROR: FAILED_EXECUTION: std::exception\n"
     ]
    },
    {
     "name": "stdout",
     "output_type": "stream",
     "text": [
      "Time: 0.07433533668518066\n",
      "Time: 0.04494047164916992\n",
      "Time: 0.05404376983642578\n",
      "Time: 0.03874015808105469\n"
     ]
    },
    {
     "name": "stderr",
     "output_type": "stream",
     "text": [
      "[TensorRT] ERROR: Parameter check failed at: engine.cpp::setBindingDimensions::1136, condition: profileMaxDims.d[i] >= dimensions.d[i]\n",
      "[TensorRT] ERROR: safeContext.cpp (184) - Cudnn Error in configure: 7 (CUDNN_STATUS_MAPPING_ERROR)\n",
      "[TensorRT] ERROR: FAILED_EXECUTION: std::exception\n",
      "[TensorRT] ERROR: Parameter check failed at: engine.cpp::setBindingDimensions::1136, condition: profileMaxDims.d[i] >= dimensions.d[i]\n",
      "[TensorRT] ERROR: safeContext.cpp (184) - Cudnn Error in configure: 7 (CUDNN_STATUS_MAPPING_ERROR)\n",
      "[TensorRT] ERROR: FAILED_EXECUTION: std::exception\n",
      "[TensorRT] ERROR: Parameter check failed at: engine.cpp::setBindingDimensions::1136, condition: profileMaxDims.d[i] >= dimensions.d[i]\n",
      "[TensorRT] ERROR: safeContext.cpp (184) - Cudnn Error in configure: 7 (CUDNN_STATUS_MAPPING_ERROR)\n",
      "[TensorRT] ERROR: FAILED_EXECUTION: std::exception\n",
      "[TensorRT] ERROR: Parameter check failed at: engine.cpp::setBindingDimensions::1136, condition: profileMaxDims.d[i] >= dimensions.d[i]\n",
      "[TensorRT] ERROR: safeContext.cpp (184) - Cudnn Error in configure: 7 (CUDNN_STATUS_MAPPING_ERROR)\n",
      "[TensorRT] ERROR: FAILED_EXECUTION: std::exception\n"
     ]
    },
    {
     "name": "stdout",
     "output_type": "stream",
     "text": [
      "Time: 0.07133841514587402\n",
      "Time: 0.0535426139831543\n",
      "Time: 0.05295205116271973\n",
      "Time: 0.0438694953918457\n"
     ]
    },
    {
     "name": "stderr",
     "output_type": "stream",
     "text": [
      "[TensorRT] ERROR: Parameter check failed at: engine.cpp::setBindingDimensions::1136, condition: profileMaxDims.d[i] >= dimensions.d[i]\n",
      "[TensorRT] ERROR: safeContext.cpp (184) - Cudnn Error in configure: 7 (CUDNN_STATUS_MAPPING_ERROR)\n",
      "[TensorRT] ERROR: FAILED_EXECUTION: std::exception\n",
      "[TensorRT] ERROR: Parameter check failed at: engine.cpp::setBindingDimensions::1136, condition: profileMaxDims.d[i] >= dimensions.d[i]\n",
      "[TensorRT] ERROR: safeContext.cpp (184) - Cudnn Error in configure: 7 (CUDNN_STATUS_MAPPING_ERROR)\n",
      "[TensorRT] ERROR: FAILED_EXECUTION: std::exception\n",
      "[TensorRT] ERROR: Parameter check failed at: engine.cpp::setBindingDimensions::1136, condition: profileMaxDims.d[i] >= dimensions.d[i]\n",
      "[TensorRT] ERROR: safeContext.cpp (184) - Cudnn Error in configure: 7 (CUDNN_STATUS_MAPPING_ERROR)\n",
      "[TensorRT] ERROR: FAILED_EXECUTION: std::exception\n",
      "[TensorRT] ERROR: Parameter check failed at: engine.cpp::setBindingDimensions::1136, condition: profileMaxDims.d[i] >= dimensions.d[i]\n",
      "[TensorRT] ERROR: safeContext.cpp (184) - Cudnn Error in configure: 7 (CUDNN_STATUS_MAPPING_ERROR)\n",
      "[TensorRT] ERROR: FAILED_EXECUTION: std::exception\n"
     ]
    },
    {
     "name": "stdout",
     "output_type": "stream",
     "text": [
      "Time: 0.04546856880187988\n",
      "Time: 0.06345272064208984\n",
      "Idx: 300\n",
      "Time: 0.04510307312011719\n"
     ]
    },
    {
     "name": "stderr",
     "output_type": "stream",
     "text": [
      "[TensorRT] ERROR: Parameter check failed at: engine.cpp::setBindingDimensions::1136, condition: profileMaxDims.d[i] >= dimensions.d[i]\n",
      "[TensorRT] ERROR: safeContext.cpp (184) - Cudnn Error in configure: 7 (CUDNN_STATUS_MAPPING_ERROR)\n",
      "[TensorRT] ERROR: FAILED_EXECUTION: std::exception\n",
      "[TensorRT] ERROR: Parameter check failed at: engine.cpp::setBindingDimensions::1136, condition: profileMaxDims.d[i] >= dimensions.d[i]\n",
      "[TensorRT] ERROR: safeContext.cpp (184) - Cudnn Error in configure: 7 (CUDNN_STATUS_MAPPING_ERROR)\n",
      "[TensorRT] ERROR: FAILED_EXECUTION: std::exception\n",
      "[TensorRT] ERROR: Parameter check failed at: engine.cpp::setBindingDimensions::1136, condition: profileMaxDims.d[i] >= dimensions.d[i]\n",
      "[TensorRT] ERROR: safeContext.cpp (184) - Cudnn Error in configure: 7 (CUDNN_STATUS_MAPPING_ERROR)\n",
      "[TensorRT] ERROR: FAILED_EXECUTION: std::exception\n"
     ]
    },
    {
     "name": "stdout",
     "output_type": "stream",
     "text": [
      "Time: 0.05799698829650879\n",
      "Time: 0.040869951248168945\n",
      "Time: 0.0459742546081543\n"
     ]
    },
    {
     "name": "stderr",
     "output_type": "stream",
     "text": [
      "[TensorRT] ERROR: Parameter check failed at: engine.cpp::setBindingDimensions::1136, condition: profileMaxDims.d[i] >= dimensions.d[i]\n",
      "[TensorRT] ERROR: safeContext.cpp (184) - Cudnn Error in configure: 7 (CUDNN_STATUS_MAPPING_ERROR)\n",
      "[TensorRT] ERROR: FAILED_EXECUTION: std::exception\n",
      "[TensorRT] ERROR: Parameter check failed at: engine.cpp::setBindingDimensions::1136, condition: profileMaxDims.d[i] >= dimensions.d[i]\n",
      "[TensorRT] ERROR: safeContext.cpp (184) - Cudnn Error in configure: 7 (CUDNN_STATUS_MAPPING_ERROR)\n",
      "[TensorRT] ERROR: FAILED_EXECUTION: std::exception\n",
      "[TensorRT] ERROR: Parameter check failed at: engine.cpp::setBindingDimensions::1136, condition: profileMaxDims.d[i] >= dimensions.d[i]\n",
      "[TensorRT] ERROR: safeContext.cpp (184) - Cudnn Error in configure: 7 (CUDNN_STATUS_MAPPING_ERROR)\n",
      "[TensorRT] ERROR: FAILED_EXECUTION: std::exception\n",
      "[TensorRT] ERROR: Parameter check failed at: engine.cpp::setBindingDimensions::1136, condition: profileMaxDims.d[i] >= dimensions.d[i]\n",
      "[TensorRT] ERROR: safeContext.cpp (184) - Cudnn Error in configure: 7 (CUDNN_STATUS_MAPPING_ERROR)\n",
      "[TensorRT] ERROR: FAILED_EXECUTION: std::exception\n"
     ]
    },
    {
     "name": "stdout",
     "output_type": "stream",
     "text": [
      "Time: 0.047377586364746094\n",
      "Time: 0.046079158782958984\n",
      "Time: 0.06482625007629395\n"
     ]
    },
    {
     "name": "stderr",
     "output_type": "stream",
     "text": [
      "[TensorRT] ERROR: Parameter check failed at: engine.cpp::setBindingDimensions::1136, condition: profileMaxDims.d[i] >= dimensions.d[i]\n",
      "[TensorRT] ERROR: safeContext.cpp (184) - Cudnn Error in configure: 7 (CUDNN_STATUS_MAPPING_ERROR)\n",
      "[TensorRT] ERROR: FAILED_EXECUTION: std::exception\n",
      "[TensorRT] ERROR: Parameter check failed at: engine.cpp::setBindingDimensions::1136, condition: profileMaxDims.d[i] >= dimensions.d[i]\n",
      "[TensorRT] ERROR: safeContext.cpp (184) - Cudnn Error in configure: 7 (CUDNN_STATUS_MAPPING_ERROR)\n",
      "[TensorRT] ERROR: FAILED_EXECUTION: std::exception\n",
      "[TensorRT] ERROR: Parameter check failed at: engine.cpp::setBindingDimensions::1136, condition: profileMaxDims.d[i] >= dimensions.d[i]\n",
      "[TensorRT] ERROR: safeContext.cpp (184) - Cudnn Error in configure: 7 (CUDNN_STATUS_MAPPING_ERROR)\n",
      "[TensorRT] ERROR: FAILED_EXECUTION: std::exception\n"
     ]
    },
    {
     "name": "stdout",
     "output_type": "stream",
     "text": [
      "Time: 0.07534217834472656\n",
      "Time: 0.04726910591125488\n",
      "Time: 0.04861259460449219\n"
     ]
    },
    {
     "name": "stderr",
     "output_type": "stream",
     "text": [
      "[TensorRT] ERROR: Parameter check failed at: engine.cpp::setBindingDimensions::1136, condition: profileMaxDims.d[i] >= dimensions.d[i]\n",
      "[TensorRT] ERROR: safeContext.cpp (184) - Cudnn Error in configure: 7 (CUDNN_STATUS_MAPPING_ERROR)\n",
      "[TensorRT] ERROR: FAILED_EXECUTION: std::exception\n",
      "[TensorRT] ERROR: Parameter check failed at: engine.cpp::setBindingDimensions::1136, condition: profileMaxDims.d[i] >= dimensions.d[i]\n",
      "[TensorRT] ERROR: safeContext.cpp (184) - Cudnn Error in configure: 7 (CUDNN_STATUS_MAPPING_ERROR)\n",
      "[TensorRT] ERROR: FAILED_EXECUTION: std::exception\n",
      "[TensorRT] ERROR: Parameter check failed at: engine.cpp::setBindingDimensions::1136, condition: profileMaxDims.d[i] >= dimensions.d[i]\n",
      "[TensorRT] ERROR: safeContext.cpp (184) - Cudnn Error in configure: 7 (CUDNN_STATUS_MAPPING_ERROR)\n",
      "[TensorRT] ERROR: FAILED_EXECUTION: std::exception\n",
      "[TensorRT] ERROR: Parameter check failed at: engine.cpp::setBindingDimensions::1136, condition: profileMaxDims.d[i] >= dimensions.d[i]\n",
      "[TensorRT] ERROR: safeContext.cpp (184) - Cudnn Error in configure: 7 (CUDNN_STATUS_MAPPING_ERROR)\n",
      "[TensorRT] ERROR: FAILED_EXECUTION: std::exception\n"
     ]
    },
    {
     "name": "stdout",
     "output_type": "stream",
     "text": [
      "Time: 0.05781388282775879\n",
      "Time: 0.049469709396362305\n",
      "Time: 0.04946422576904297\n",
      "Time: 0.054129838943481445\n"
     ]
    },
    {
     "name": "stderr",
     "output_type": "stream",
     "text": [
      "[TensorRT] ERROR: Parameter check failed at: engine.cpp::setBindingDimensions::1136, condition: profileMaxDims.d[i] >= dimensions.d[i]\n",
      "[TensorRT] ERROR: safeContext.cpp (184) - Cudnn Error in configure: 7 (CUDNN_STATUS_MAPPING_ERROR)\n",
      "[TensorRT] ERROR: FAILED_EXECUTION: std::exception\n",
      "[TensorRT] ERROR: Parameter check failed at: engine.cpp::setBindingDimensions::1136, condition: profileMaxDims.d[i] >= dimensions.d[i]\n",
      "[TensorRT] ERROR: safeContext.cpp (184) - Cudnn Error in configure: 7 (CUDNN_STATUS_MAPPING_ERROR)\n",
      "[TensorRT] ERROR: FAILED_EXECUTION: std::exception\n",
      "[TensorRT] ERROR: Parameter check failed at: engine.cpp::setBindingDimensions::1136, condition: profileMaxDims.d[i] >= dimensions.d[i]\n",
      "[TensorRT] ERROR: safeContext.cpp (184) - Cudnn Error in configure: 7 (CUDNN_STATUS_MAPPING_ERROR)\n",
      "[TensorRT] ERROR: FAILED_EXECUTION: std::exception\n",
      "[TensorRT] ERROR: Parameter check failed at: engine.cpp::setBindingDimensions::1136, condition: profileMaxDims.d[i] >= dimensions.d[i]\n",
      "[TensorRT] ERROR: safeContext.cpp (184) - Cudnn Error in configure: 7 (CUDNN_STATUS_MAPPING_ERROR)\n",
      "[TensorRT] ERROR: FAILED_EXECUTION: std::exception\n"
     ]
    },
    {
     "name": "stdout",
     "output_type": "stream",
     "text": [
      "Time: 0.05858039855957031\n",
      "Time: 0.056375980377197266\n",
      "Time: 0.0472407341003418\n",
      "Time: 0.046381235122680664\n"
     ]
    },
    {
     "name": "stderr",
     "output_type": "stream",
     "text": [
      "[TensorRT] ERROR: Parameter check failed at: engine.cpp::setBindingDimensions::1136, condition: profileMaxDims.d[i] >= dimensions.d[i]\n",
      "[TensorRT] ERROR: safeContext.cpp (184) - Cudnn Error in configure: 7 (CUDNN_STATUS_MAPPING_ERROR)\n",
      "[TensorRT] ERROR: FAILED_EXECUTION: std::exception\n",
      "[TensorRT] ERROR: Parameter check failed at: engine.cpp::setBindingDimensions::1136, condition: profileMaxDims.d[i] >= dimensions.d[i]\n",
      "[TensorRT] ERROR: safeContext.cpp (184) - Cudnn Error in configure: 7 (CUDNN_STATUS_MAPPING_ERROR)\n",
      "[TensorRT] ERROR: FAILED_EXECUTION: std::exception\n",
      "[TensorRT] ERROR: Parameter check failed at: engine.cpp::setBindingDimensions::1136, condition: profileMaxDims.d[i] >= dimensions.d[i]\n",
      "[TensorRT] ERROR: safeContext.cpp (184) - Cudnn Error in configure: 7 (CUDNN_STATUS_MAPPING_ERROR)\n",
      "[TensorRT] ERROR: FAILED_EXECUTION: std::exception\n",
      "[TensorRT] ERROR: Parameter check failed at: engine.cpp::setBindingDimensions::1136, condition: profileMaxDims.d[i] >= dimensions.d[i]\n",
      "[TensorRT] ERROR: safeContext.cpp (184) - Cudnn Error in configure: 7 (CUDNN_STATUS_MAPPING_ERROR)\n",
      "[TensorRT] ERROR: FAILED_EXECUTION: std::exception\n"
     ]
    },
    {
     "name": "stdout",
     "output_type": "stream",
     "text": [
      "Time: 0.05197405815124512\n",
      "Time: 0.05222773551940918\n",
      "Time: 0.045665740966796875\n",
      "Time: 0.05378103256225586\n"
     ]
    },
    {
     "name": "stderr",
     "output_type": "stream",
     "text": [
      "[TensorRT] ERROR: Parameter check failed at: engine.cpp::setBindingDimensions::1136, condition: profileMaxDims.d[i] >= dimensions.d[i]\n",
      "[TensorRT] ERROR: safeContext.cpp (184) - Cudnn Error in configure: 7 (CUDNN_STATUS_MAPPING_ERROR)\n",
      "[TensorRT] ERROR: FAILED_EXECUTION: std::exception\n",
      "[TensorRT] ERROR: Parameter check failed at: engine.cpp::setBindingDimensions::1136, condition: profileMaxDims.d[i] >= dimensions.d[i]\n",
      "[TensorRT] ERROR: safeContext.cpp (184) - Cudnn Error in configure: 7 (CUDNN_STATUS_MAPPING_ERROR)\n",
      "[TensorRT] ERROR: FAILED_EXECUTION: std::exception\n",
      "[TensorRT] ERROR: Parameter check failed at: engine.cpp::setBindingDimensions::1136, condition: profileMaxDims.d[i] >= dimensions.d[i]\n",
      "[TensorRT] ERROR: safeContext.cpp (184) - Cudnn Error in configure: 7 (CUDNN_STATUS_MAPPING_ERROR)\n",
      "[TensorRT] ERROR: FAILED_EXECUTION: std::exception\n",
      "[TensorRT] ERROR: Parameter check failed at: engine.cpp::setBindingDimensions::1136, condition: profileMaxDims.d[i] >= dimensions.d[i]\n",
      "[TensorRT] ERROR: safeContext.cpp (184) - Cudnn Error in configure: 7 (CUDNN_STATUS_MAPPING_ERROR)\n",
      "[TensorRT] ERROR: FAILED_EXECUTION: std::exception\n",
      "[TensorRT] ERROR: Parameter check failed at: engine.cpp::setBindingDimensions::1136, condition: profileMaxDims.d[i] >= dimensions.d[i]\n",
      "[TensorRT] ERROR: safeContext.cpp (184) - Cudnn Error in configure: 7 (CUDNN_STATUS_MAPPING_ERROR)\n",
      "[TensorRT] ERROR: FAILED_EXECUTION: std::exception\n"
     ]
    },
    {
     "name": "stdout",
     "output_type": "stream",
     "text": [
      "Time: 0.046576499938964844\n",
      "Time: 0.044869184494018555\n",
      "Time: 0.04518580436706543\n",
      "Time: 0.04492330551147461\n",
      "Time: 0.04622387886047363\n"
     ]
    },
    {
     "name": "stderr",
     "output_type": "stream",
     "text": [
      "[TensorRT] ERROR: Parameter check failed at: engine.cpp::setBindingDimensions::1136, condition: profileMaxDims.d[i] >= dimensions.d[i]\n",
      "[TensorRT] ERROR: safeContext.cpp (184) - Cudnn Error in configure: 7 (CUDNN_STATUS_MAPPING_ERROR)\n",
      "[TensorRT] ERROR: FAILED_EXECUTION: std::exception\n",
      "[TensorRT] ERROR: Parameter check failed at: engine.cpp::setBindingDimensions::1136, condition: profileMaxDims.d[i] >= dimensions.d[i]\n",
      "[TensorRT] ERROR: safeContext.cpp (184) - Cudnn Error in configure: 7 (CUDNN_STATUS_MAPPING_ERROR)\n",
      "[TensorRT] ERROR: FAILED_EXECUTION: std::exception\n",
      "[TensorRT] ERROR: Parameter check failed at: engine.cpp::setBindingDimensions::1136, condition: profileMaxDims.d[i] >= dimensions.d[i]\n",
      "[TensorRT] ERROR: safeContext.cpp (184) - Cudnn Error in configure: 7 (CUDNN_STATUS_MAPPING_ERROR)\n",
      "[TensorRT] ERROR: FAILED_EXECUTION: std::exception\n",
      "[TensorRT] ERROR: Parameter check failed at: engine.cpp::setBindingDimensions::1136, condition: profileMaxDims.d[i] >= dimensions.d[i]\n",
      "[TensorRT] ERROR: safeContext.cpp (184) - Cudnn Error in configure: 7 (CUDNN_STATUS_MAPPING_ERROR)\n",
      "[TensorRT] ERROR: FAILED_EXECUTION: std::exception\n"
     ]
    },
    {
     "name": "stdout",
     "output_type": "stream",
     "text": [
      "Time: 0.0772855281829834\n",
      "Time: 0.06238365173339844\n",
      "Time: 0.06563973426818848\n",
      "Time: 0.05329322814941406\n"
     ]
    },
    {
     "name": "stderr",
     "output_type": "stream",
     "text": [
      "[TensorRT] ERROR: Parameter check failed at: engine.cpp::setBindingDimensions::1136, condition: profileMaxDims.d[i] >= dimensions.d[i]\n",
      "[TensorRT] ERROR: safeContext.cpp (184) - Cudnn Error in configure: 7 (CUDNN_STATUS_MAPPING_ERROR)\n",
      "[TensorRT] ERROR: FAILED_EXECUTION: std::exception\n",
      "[TensorRT] ERROR: Parameter check failed at: engine.cpp::setBindingDimensions::1136, condition: profileMaxDims.d[i] >= dimensions.d[i]\n",
      "[TensorRT] ERROR: safeContext.cpp (184) - Cudnn Error in configure: 7 (CUDNN_STATUS_MAPPING_ERROR)\n",
      "[TensorRT] ERROR: FAILED_EXECUTION: std::exception\n",
      "[TensorRT] ERROR: Parameter check failed at: engine.cpp::setBindingDimensions::1136, condition: profileMaxDims.d[i] >= dimensions.d[i]\n",
      "[TensorRT] ERROR: safeContext.cpp (184) - Cudnn Error in configure: 7 (CUDNN_STATUS_MAPPING_ERROR)\n",
      "[TensorRT] ERROR: FAILED_EXECUTION: std::exception\n",
      "[TensorRT] ERROR: Parameter check failed at: engine.cpp::setBindingDimensions::1136, condition: profileMaxDims.d[i] >= dimensions.d[i]\n",
      "[TensorRT] ERROR: safeContext.cpp (184) - Cudnn Error in configure: 7 (CUDNN_STATUS_MAPPING_ERROR)\n",
      "[TensorRT] ERROR: FAILED_EXECUTION: std::exception\n",
      "[TensorRT] ERROR: Parameter check failed at: engine.cpp::setBindingDimensions::1136, condition: profileMaxDims.d[i] >= dimensions.d[i]\n",
      "[TensorRT] ERROR: safeContext.cpp (184) - Cudnn Error in configure: 7 (CUDNN_STATUS_MAPPING_ERROR)\n",
      "[TensorRT] ERROR: FAILED_EXECUTION: std::exception\n"
     ]
    },
    {
     "name": "stdout",
     "output_type": "stream",
     "text": [
      "Time: 0.04732179641723633\n",
      "Time: 0.04638028144836426\n",
      "Time: 0.053556203842163086\n",
      "Time: 0.04641079902648926\n",
      "Time: 0.04616093635559082\n"
     ]
    },
    {
     "name": "stderr",
     "output_type": "stream",
     "text": [
      "[TensorRT] ERROR: Parameter check failed at: engine.cpp::setBindingDimensions::1136, condition: profileMaxDims.d[i] >= dimensions.d[i]\n",
      "[TensorRT] ERROR: safeContext.cpp (184) - Cudnn Error in configure: 7 (CUDNN_STATUS_MAPPING_ERROR)\n",
      "[TensorRT] ERROR: FAILED_EXECUTION: std::exception\n",
      "[TensorRT] ERROR: Parameter check failed at: engine.cpp::setBindingDimensions::1136, condition: profileMaxDims.d[i] >= dimensions.d[i]\n",
      "[TensorRT] ERROR: safeContext.cpp (184) - Cudnn Error in configure: 7 (CUDNN_STATUS_MAPPING_ERROR)\n",
      "[TensorRT] ERROR: FAILED_EXECUTION: std::exception\n",
      "[TensorRT] ERROR: Parameter check failed at: engine.cpp::setBindingDimensions::1136, condition: profileMaxDims.d[i] >= dimensions.d[i]\n",
      "[TensorRT] ERROR: safeContext.cpp (184) - Cudnn Error in configure: 7 (CUDNN_STATUS_MAPPING_ERROR)\n",
      "[TensorRT] ERROR: FAILED_EXECUTION: std::exception\n",
      "[TensorRT] ERROR: Parameter check failed at: engine.cpp::setBindingDimensions::1136, condition: profileMaxDims.d[i] >= dimensions.d[i]\n",
      "[TensorRT] ERROR: safeContext.cpp (184) - Cudnn Error in configure: 7 (CUDNN_STATUS_MAPPING_ERROR)\n",
      "[TensorRT] ERROR: FAILED_EXECUTION: std::exception\n",
      "[TensorRT] ERROR: Parameter check failed at: engine.cpp::setBindingDimensions::1136, condition: profileMaxDims.d[i] >= dimensions.d[i]\n"
     ]
    },
    {
     "name": "stdout",
     "output_type": "stream",
     "text": [
      "Time: 0.05005598068237305\n",
      "Time: 0.05389976501464844\n",
      "Time: 0.04739093780517578\n",
      "Time: 0.046054840087890625\n",
      "Time: 0.047255754470825195"
     ]
    },
    {
     "name": "stderr",
     "output_type": "stream",
     "text": [
      "[TensorRT] ERROR: safeContext.cpp (184) - Cudnn Error in configure: 7 (CUDNN_STATUS_MAPPING_ERROR)\n",
      "[TensorRT] ERROR: FAILED_EXECUTION: std::exception\n",
      "[TensorRT] ERROR: Parameter check failed at: engine.cpp::setBindingDimensions::1136, condition: profileMaxDims.d[i] >= dimensions.d[i]\n",
      "[TensorRT] ERROR: safeContext.cpp (184) - Cudnn Error in configure: 7 (CUDNN_STATUS_MAPPING_ERROR)\n",
      "[TensorRT] ERROR: FAILED_EXECUTION: std::exception\n",
      "[TensorRT] ERROR: Parameter check failed at: engine.cpp::setBindingDimensions::1136, condition: profileMaxDims.d[i] >= dimensions.d[i]\n",
      "[TensorRT] ERROR: safeContext.cpp (184) - Cudnn Error in configure: 7 (CUDNN_STATUS_MAPPING_ERROR)\n",
      "[TensorRT] ERROR: FAILED_EXECUTION: std::exception\n",
      "[TensorRT] ERROR: Parameter check failed at: engine.cpp::setBindingDimensions::1136, condition: profileMaxDims.d[i] >= dimensions.d[i]\n",
      "[TensorRT] ERROR: safeContext.cpp (184) - Cudnn Error in configure: 7 (CUDNN_STATUS_MAPPING_ERROR)\n",
      "[TensorRT] ERROR: FAILED_EXECUTION: std::exception\n"
     ]
    },
    {
     "name": "stdout",
     "output_type": "stream",
     "text": [
      "\n",
      "Time: 0.045989274978637695\n",
      "Time: 0.054343461990356445\n",
      "Time: 0.05395078659057617\n"
     ]
    },
    {
     "name": "stderr",
     "output_type": "stream",
     "text": [
      "[TensorRT] ERROR: Parameter check failed at: engine.cpp::setBindingDimensions::1136, condition: profileMaxDims.d[i] >= dimensions.d[i]\n",
      "[TensorRT] ERROR: safeContext.cpp (184) - Cudnn Error in configure: 7 (CUDNN_STATUS_MAPPING_ERROR)\n",
      "[TensorRT] ERROR: FAILED_EXECUTION: std::exception\n",
      "[TensorRT] ERROR: Parameter check failed at: engine.cpp::setBindingDimensions::1136, condition: profileMaxDims.d[i] >= dimensions.d[i]\n",
      "[TensorRT] ERROR: safeContext.cpp (184) - Cudnn Error in configure: 7 (CUDNN_STATUS_MAPPING_ERROR)\n",
      "[TensorRT] ERROR: FAILED_EXECUTION: std::exception\n",
      "[TensorRT] ERROR: Parameter check failed at: engine.cpp::setBindingDimensions::1136, condition: profileMaxDims.d[i] >= dimensions.d[i]\n",
      "[TensorRT] ERROR: safeContext.cpp (184) - Cudnn Error in configure: 7 (CUDNN_STATUS_MAPPING_ERROR)\n",
      "[TensorRT] ERROR: FAILED_EXECUTION: std::exception\n",
      "[TensorRT] ERROR: Parameter check failed at: engine.cpp::setBindingDimensions::1136, condition: profileMaxDims.d[i] >= dimensions.d[i]\n",
      "[TensorRT] ERROR: safeContext.cpp (184) - Cudnn Error in configure: 7 (CUDNN_STATUS_MAPPING_ERROR)\n",
      "[TensorRT] ERROR: FAILED_EXECUTION: std::exception\n"
     ]
    },
    {
     "name": "stdout",
     "output_type": "stream",
     "text": [
      "Time: 0.05567145347595215\n",
      "Time: 0.04978609085083008\n",
      "Time: 0.04658079147338867\n",
      "Time: 0.04601550102233887\n"
     ]
    },
    {
     "name": "stderr",
     "output_type": "stream",
     "text": [
      "[TensorRT] ERROR: Parameter check failed at: engine.cpp::setBindingDimensions::1136, condition: profileMaxDims.d[i] >= dimensions.d[i]\n",
      "[TensorRT] ERROR: safeContext.cpp (184) - Cudnn Error in configure: 7 (CUDNN_STATUS_MAPPING_ERROR)\n",
      "[TensorRT] ERROR: FAILED_EXECUTION: std::exception\n",
      "[TensorRT] ERROR: Parameter check failed at: engine.cpp::setBindingDimensions::1136, condition: profileMaxDims.d[i] >= dimensions.d[i]\n",
      "[TensorRT] ERROR: safeContext.cpp (184) - Cudnn Error in configure: 7 (CUDNN_STATUS_MAPPING_ERROR)\n",
      "[TensorRT] ERROR: FAILED_EXECUTION: std::exception\n",
      "[TensorRT] ERROR: Parameter check failed at: engine.cpp::setBindingDimensions::1136, condition: profileMaxDims.d[i] >= dimensions.d[i]\n",
      "[TensorRT] ERROR: safeContext.cpp (184) - Cudnn Error in configure: 7 (CUDNN_STATUS_MAPPING_ERROR)\n",
      "[TensorRT] ERROR: FAILED_EXECUTION: std::exception\n",
      "[TensorRT] ERROR: Parameter check failed at: engine.cpp::setBindingDimensions::1136, condition: profileMaxDims.d[i] >= dimensions.d[i]\n",
      "[TensorRT] ERROR: safeContext.cpp (184) - Cudnn Error in configure: 7 (CUDNN_STATUS_MAPPING_ERROR)\n",
      "[TensorRT] ERROR: FAILED_EXECUTION: std::exception\n",
      "[TensorRT] ERROR: Parameter check failed at: engine.cpp::setBindingDimensions::1136, condition: profileMaxDims.d[i] >= dimensions.d[i]\n",
      "[TensorRT] ERROR: safeContext.cpp (184) - Cudnn Error in configure: 7 (CUDNN_STATUS_MAPPING_ERROR)\n",
      "[TensorRT] ERROR: FAILED_EXECUTION: std::exception\n"
     ]
    },
    {
     "name": "stdout",
     "output_type": "stream",
     "text": [
      "Time: 0.055161476135253906\n",
      "Time: 0.04619026184082031\n",
      "Time: 0.047361135482788086\n",
      "Time: 0.046602487564086914\n",
      "Time: 0.04637622833251953\n"
     ]
    },
    {
     "name": "stderr",
     "output_type": "stream",
     "text": [
      "[TensorRT] ERROR: Parameter check failed at: engine.cpp::setBindingDimensions::1136, condition: profileMaxDims.d[i] >= dimensions.d[i]\n",
      "[TensorRT] ERROR: safeContext.cpp (184) - Cudnn Error in configure: 7 (CUDNN_STATUS_MAPPING_ERROR)\n",
      "[TensorRT] ERROR: FAILED_EXECUTION: std::exception\n",
      "[TensorRT] ERROR: Parameter check failed at: engine.cpp::setBindingDimensions::1136, condition: profileMaxDims.d[i] >= dimensions.d[i]\n",
      "[TensorRT] ERROR: safeContext.cpp (184) - Cudnn Error in configure: 7 (CUDNN_STATUS_MAPPING_ERROR)\n",
      "[TensorRT] ERROR: FAILED_EXECUTION: std::exception\n",
      "[TensorRT] ERROR: Parameter check failed at: engine.cpp::setBindingDimensions::1136, condition: profileMaxDims.d[i] >= dimensions.d[i]\n",
      "[TensorRT] ERROR: safeContext.cpp (184) - Cudnn Error in configure: 7 (CUDNN_STATUS_MAPPING_ERROR)\n",
      "[TensorRT] ERROR: FAILED_EXECUTION: std::exception\n",
      "[TensorRT] ERROR: Parameter check failed at: engine.cpp::setBindingDimensions::1136, condition: profileMaxDims.d[i] >= dimensions.d[i]\n",
      "[TensorRT] ERROR: safeContext.cpp (184) - Cudnn Error in configure: 7 (CUDNN_STATUS_MAPPING_ERROR)\n",
      "[TensorRT] ERROR: FAILED_EXECUTION: std::exception\n",
      "[TensorRT] ERROR: Parameter check failed at: engine.cpp::setBindingDimensions::1136, condition: profileMaxDims.d[i] >= dimensions.d[i]\n"
     ]
    },
    {
     "name": "stdout",
     "output_type": "stream",
     "text": [
      "Time: 0.05690145492553711\n",
      "Time: 0.046260833740234375\n",
      "Time: 0.058455467224121094\n",
      "Time: 0.04626297950744629\n",
      "Time: 0.05170774459838867\n"
     ]
    },
    {
     "name": "stderr",
     "output_type": "stream",
     "text": [
      "[TensorRT] ERROR: safeContext.cpp (184) - Cudnn Error in configure: 7 (CUDNN_STATUS_MAPPING_ERROR)\n",
      "[TensorRT] ERROR: FAILED_EXECUTION: std::exception\n",
      "[TensorRT] ERROR: Parameter check failed at: engine.cpp::setBindingDimensions::1136, condition: profileMaxDims.d[i] >= dimensions.d[i]\n",
      "[TensorRT] ERROR: safeContext.cpp (184) - Cudnn Error in configure: 7 (CUDNN_STATUS_MAPPING_ERROR)\n",
      "[TensorRT] ERROR: FAILED_EXECUTION: std::exception\n",
      "[TensorRT] ERROR: Parameter check failed at: engine.cpp::setBindingDimensions::1136, condition: profileMaxDims.d[i] >= dimensions.d[i]\n",
      "[TensorRT] ERROR: safeContext.cpp (184) - Cudnn Error in configure: 7 (CUDNN_STATUS_MAPPING_ERROR)\n",
      "[TensorRT] ERROR: FAILED_EXECUTION: std::exception\n",
      "[TensorRT] ERROR: Parameter check failed at: engine.cpp::setBindingDimensions::1136, condition: profileMaxDims.d[i] >= dimensions.d[i]\n",
      "[TensorRT] ERROR: safeContext.cpp (184) - Cudnn Error in configure: 7 (CUDNN_STATUS_MAPPING_ERROR)\n",
      "[TensorRT] ERROR: FAILED_EXECUTION: std::exception\n"
     ]
    },
    {
     "name": "stdout",
     "output_type": "stream",
     "text": [
      "Time: 0.05549025535583496\n",
      "Time: 0.03772544860839844\n",
      "Time: 0.037879228591918945\n",
      "Time: 0.05904746055603027\n",
      "Time: 0.0369563102722168\n"
     ]
    },
    {
     "name": "stderr",
     "output_type": "stream",
     "text": [
      "[TensorRT] ERROR: Parameter check failed at: engine.cpp::setBindingDimensions::1136, condition: profileMaxDims.d[i] >= dimensions.d[i]\n",
      "[TensorRT] ERROR: safeContext.cpp (184) - Cudnn Error in configure: 7 (CUDNN_STATUS_MAPPING_ERROR)\n",
      "[TensorRT] ERROR: FAILED_EXECUTION: std::exception\n",
      "[TensorRT] ERROR: Parameter check failed at: engine.cpp::setBindingDimensions::1136, condition: profileMaxDims.d[i] >= dimensions.d[i]\n",
      "[TensorRT] ERROR: safeContext.cpp (184) - Cudnn Error in configure: 7 (CUDNN_STATUS_MAPPING_ERROR)\n",
      "[TensorRT] ERROR: FAILED_EXECUTION: std::exception\n",
      "[TensorRT] ERROR: Parameter check failed at: engine.cpp::setBindingDimensions::1136, condition: profileMaxDims.d[i] >= dimensions.d[i]\n",
      "[TensorRT] ERROR: safeContext.cpp (184) - Cudnn Error in configure: 7 (CUDNN_STATUS_MAPPING_ERROR)\n",
      "[TensorRT] ERROR: FAILED_EXECUTION: std::exception\n",
      "[TensorRT] ERROR: Parameter check failed at: engine.cpp::setBindingDimensions::1136, condition: profileMaxDims.d[i] >= dimensions.d[i]\n",
      "[TensorRT] ERROR: safeContext.cpp (184) - Cudnn Error in configure: 7 (CUDNN_STATUS_MAPPING_ERROR)\n",
      "[TensorRT] ERROR: FAILED_EXECUTION: std::exception\n",
      "[TensorRT] ERROR: Parameter check failed at: engine.cpp::setBindingDimensions::1136, condition: profileMaxDims.d[i] >= dimensions.d[i]\n",
      "[TensorRT] ERROR: safeContext.cpp (184) - Cudnn Error in configure: 7 (CUDNN_STATUS_MAPPING_ERROR)\n",
      "[TensorRT] ERROR: FAILED_EXECUTION: std::exception\n",
      "[TensorRT] ERROR: Parameter check failed at: engine.cpp::setBindingDimensions::1136, condition: profileMaxDims.d[i] >= dimensions.d[i]\n",
      "[TensorRT] ERROR: safeContext.cpp (184) - Cudnn Error in configure: 7 (CUDNN_STATUS_MAPPING_ERROR)\n",
      "[TensorRT] ERROR: FAILED_EXECUTION: std::exception\n"
     ]
    },
    {
     "name": "stdout",
     "output_type": "stream",
     "text": [
      "Time: 0.044539690017700195\n",
      "Time: 0.04272651672363281\n",
      "Time: 0.036865949630737305\n",
      "Time: 0.037407636642456055\n",
      "Time: 0.04747891426086426\n"
     ]
    },
    {
     "name": "stderr",
     "output_type": "stream",
     "text": [
      "[TensorRT] ERROR: Parameter check failed at: engine.cpp::setBindingDimensions::1136, condition: profileMaxDims.d[i] >= dimensions.d[i]\n",
      "[TensorRT] ERROR: safeContext.cpp (184) - Cudnn Error in configure: 7 (CUDNN_STATUS_MAPPING_ERROR)\n",
      "[TensorRT] ERROR: FAILED_EXECUTION: std::exception\n",
      "[TensorRT] ERROR: Parameter check failed at: engine.cpp::setBindingDimensions::1136, condition: profileMaxDims.d[i] >= dimensions.d[i]\n",
      "[TensorRT] ERROR: safeContext.cpp (184) - Cudnn Error in configure: 7 (CUDNN_STATUS_MAPPING_ERROR)\n",
      "[TensorRT] ERROR: FAILED_EXECUTION: std::exception\n",
      "[TensorRT] ERROR: Parameter check failed at: engine.cpp::setBindingDimensions::1136, condition: profileMaxDims.d[i] >= dimensions.d[i]\n",
      "[TensorRT] ERROR: safeContext.cpp (184) - Cudnn Error in configure: 7 (CUDNN_STATUS_MAPPING_ERROR)\n",
      "[TensorRT] ERROR: FAILED_EXECUTION: std::exception\n",
      "[TensorRT] ERROR: Parameter check failed at: engine.cpp::setBindingDimensions::1136, condition: profileMaxDims.d[i] >= dimensions.d[i]\n",
      "[TensorRT] ERROR: safeContext.cpp (184) - Cudnn Error in configure: 7 (CUDNN_STATUS_MAPPING_ERROR)\n",
      "[TensorRT] ERROR: FAILED_EXECUTION: std::exception\n",
      "[TensorRT] ERROR: Parameter check failed at: engine.cpp::setBindingDimensions::1136, condition: profileMaxDims.d[i] >= dimensions.d[i]\n",
      "[TensorRT] ERROR: safeContext.cpp (184) - Cudnn Error in configure: 7 (CUDNN_STATUS_MAPPING_ERROR)\n",
      "[TensorRT] ERROR: FAILED_EXECUTION: std::exception\n"
     ]
    },
    {
     "name": "stdout",
     "output_type": "stream",
     "text": [
      "Time: 0.039861202239990234\n",
      "Time: 0.04271101951599121\n",
      "Time: 0.04096078872680664\n",
      "Time: 0.048531293869018555\n",
      "Time: 0.051012516021728516\n"
     ]
    },
    {
     "name": "stderr",
     "output_type": "stream",
     "text": [
      "[TensorRT] ERROR: Parameter check failed at: engine.cpp::setBindingDimensions::1136, condition: profileMaxDims.d[i] >= dimensions.d[i]\n",
      "[TensorRT] ERROR: safeContext.cpp (184) - Cudnn Error in configure: 7 (CUDNN_STATUS_MAPPING_ERROR)\n",
      "[TensorRT] ERROR: FAILED_EXECUTION: std::exception\n",
      "[TensorRT] ERROR: Parameter check failed at: engine.cpp::setBindingDimensions::1136, condition: profileMaxDims.d[i] >= dimensions.d[i]\n",
      "[TensorRT] ERROR: safeContext.cpp (184) - Cudnn Error in configure: 7 (CUDNN_STATUS_MAPPING_ERROR)\n",
      "[TensorRT] ERROR: FAILED_EXECUTION: std::exception\n",
      "[TensorRT] ERROR: Parameter check failed at: engine.cpp::setBindingDimensions::1136, condition: profileMaxDims.d[i] >= dimensions.d[i]\n",
      "[TensorRT] ERROR: safeContext.cpp (184) - Cudnn Error in configure: 7 (CUDNN_STATUS_MAPPING_ERROR)\n",
      "[TensorRT] ERROR: FAILED_EXECUTION: std::exception\n",
      "[TensorRT] ERROR: Parameter check failed at: engine.cpp::setBindingDimensions::1136, condition: profileMaxDims.d[i] >= dimensions.d[i]\n",
      "[TensorRT] ERROR: safeContext.cpp (184) - Cudnn Error in configure: 7 (CUDNN_STATUS_MAPPING_ERROR)\n",
      "[TensorRT] ERROR: FAILED_EXECUTION: std::exception\n",
      "[TensorRT] ERROR: Parameter check failed at: engine.cpp::setBindingDimensions::1136, condition: profileMaxDims.d[i] >= dimensions.d[i]\n",
      "[TensorRT] ERROR: safeContext.cpp (184) - Cudnn Error in configure: 7 (CUDNN_STATUS_MAPPING_ERROR)\n",
      "[TensorRT] ERROR: FAILED_EXECUTION: std::exception\n"
     ]
    },
    {
     "name": "stdout",
     "output_type": "stream",
     "text": [
      "Time: 0.04427194595336914\n",
      "Time: 0.04420065879821777\n",
      "Time: 0.04413557052612305\n",
      "Time: 0.044112443923950195\n",
      "Time: 0.05336713790893555\n"
     ]
    },
    {
     "name": "stderr",
     "output_type": "stream",
     "text": [
      "[TensorRT] ERROR: Parameter check failed at: engine.cpp::setBindingDimensions::1136, condition: profileMaxDims.d[i] >= dimensions.d[i]\n",
      "[TensorRT] ERROR: safeContext.cpp (184) - Cudnn Error in configure: 7 (CUDNN_STATUS_MAPPING_ERROR)\n",
      "[TensorRT] ERROR: FAILED_EXECUTION: std::exception\n",
      "[TensorRT] ERROR: Parameter check failed at: engine.cpp::setBindingDimensions::1136, condition: profileMaxDims.d[i] >= dimensions.d[i]\n",
      "[TensorRT] ERROR: safeContext.cpp (184) - Cudnn Error in configure: 7 (CUDNN_STATUS_MAPPING_ERROR)\n",
      "[TensorRT] ERROR: FAILED_EXECUTION: std::exception\n",
      "[TensorRT] ERROR: Parameter check failed at: engine.cpp::setBindingDimensions::1136, condition: profileMaxDims.d[i] >= dimensions.d[i]\n",
      "[TensorRT] ERROR: safeContext.cpp (184) - Cudnn Error in configure: 7 (CUDNN_STATUS_MAPPING_ERROR)\n",
      "[TensorRT] ERROR: FAILED_EXECUTION: std::exception\n",
      "[TensorRT] ERROR: Parameter check failed at: engine.cpp::setBindingDimensions::1136, condition: profileMaxDims.d[i] >= dimensions.d[i]\n",
      "[TensorRT] ERROR: safeContext.cpp (184) - Cudnn Error in configure: 7 (CUDNN_STATUS_MAPPING_ERROR)\n",
      "[TensorRT] ERROR: FAILED_EXECUTION: std::exception\n"
     ]
    },
    {
     "name": "stdout",
     "output_type": "stream",
     "text": [
      "Time: 0.04396533966064453\n",
      "Time: 0.0441126823425293\n",
      "Time: 0.09361386299133301\n"
     ]
    },
    {
     "name": "stderr",
     "output_type": "stream",
     "text": [
      "[TensorRT] ERROR: Parameter check failed at: engine.cpp::setBindingDimensions::1136, condition: profileMaxDims.d[i] >= dimensions.d[i]\n",
      "[TensorRT] ERROR: safeContext.cpp (184) - Cudnn Error in configure: 7 (CUDNN_STATUS_MAPPING_ERROR)\n",
      "[TensorRT] ERROR: FAILED_EXECUTION: std::exception\n",
      "[TensorRT] ERROR: Parameter check failed at: engine.cpp::setBindingDimensions::1136, condition: profileMaxDims.d[i] >= dimensions.d[i]\n",
      "[TensorRT] ERROR: safeContext.cpp (184) - Cudnn Error in configure: 7 (CUDNN_STATUS_MAPPING_ERROR)\n",
      "[TensorRT] ERROR: FAILED_EXECUTION: std::exception\n",
      "[TensorRT] ERROR: Parameter check failed at: engine.cpp::setBindingDimensions::1136, condition: profileMaxDims.d[i] >= dimensions.d[i]\n",
      "[TensorRT] ERROR: safeContext.cpp (184) - Cudnn Error in configure: 7 (CUDNN_STATUS_MAPPING_ERROR)\n",
      "[TensorRT] ERROR: FAILED_EXECUTION: std::exception\n",
      "[TensorRT] ERROR: Parameter check failed at: engine.cpp::setBindingDimensions::1136, condition: profileMaxDims.d[i] >= dimensions.d[i]\n",
      "[TensorRT] ERROR: safeContext.cpp (184) - Cudnn Error in configure: 7 (CUDNN_STATUS_MAPPING_ERROR)\n",
      "[TensorRT] ERROR: FAILED_EXECUTION: std::exception\n",
      "[TensorRT] ERROR: Parameter check failed at: engine.cpp::setBindingDimensions::1136, condition: profileMaxDims.d[i] >= dimensions.d[i]\n",
      "[TensorRT] ERROR: safeContext.cpp (184) - Cudnn Error in configure: 7 (CUDNN_STATUS_MAPPING_ERROR)\n",
      "[TensorRT] ERROR: FAILED_EXECUTION: std::exception\n"
     ]
    },
    {
     "name": "stdout",
     "output_type": "stream",
     "text": [
      "Time: 0.06605863571166992\n",
      "Time: 0.04474830627441406\n",
      "Time: 0.0450439453125\n",
      "Time: 0.0452425479888916\n",
      "Time: 0.045058250427246094\n"
     ]
    },
    {
     "name": "stderr",
     "output_type": "stream",
     "text": [
      "[TensorRT] ERROR: Parameter check failed at: engine.cpp::setBindingDimensions::1136, condition: profileMaxDims.d[i] >= dimensions.d[i]\n",
      "[TensorRT] ERROR: safeContext.cpp (184) - Cudnn Error in configure: 7 (CUDNN_STATUS_MAPPING_ERROR)\n",
      "[TensorRT] ERROR: FAILED_EXECUTION: std::exception\n",
      "[TensorRT] ERROR: Parameter check failed at: engine.cpp::setBindingDimensions::1136, condition: profileMaxDims.d[i] >= dimensions.d[i]\n",
      "[TensorRT] ERROR: safeContext.cpp (184) - Cudnn Error in configure: 7 (CUDNN_STATUS_MAPPING_ERROR)\n",
      "[TensorRT] ERROR: FAILED_EXECUTION: std::exception\n",
      "[TensorRT] ERROR: Parameter check failed at: engine.cpp::setBindingDimensions::1136, condition: profileMaxDims.d[i] >= dimensions.d[i]\n",
      "[TensorRT] ERROR: safeContext.cpp (184) - Cudnn Error in configure: 7 (CUDNN_STATUS_MAPPING_ERROR)\n",
      "[TensorRT] ERROR: FAILED_EXECUTION: std::exception\n",
      "[TensorRT] ERROR: Parameter check failed at: engine.cpp::setBindingDimensions::1136, condition: profileMaxDims.d[i] >= dimensions.d[i]\n",
      "[TensorRT] ERROR: safeContext.cpp (184) - Cudnn Error in configure: 7 (CUDNN_STATUS_MAPPING_ERROR)\n",
      "[TensorRT] ERROR: FAILED_EXECUTION: std::exception\n",
      "[TensorRT] ERROR: Parameter check failed at: engine.cpp::setBindingDimensions::1136, condition: profileMaxDims.d[i] >= dimensions.d[i]\n",
      "[TensorRT] ERROR: safeContext.cpp (184) - Cudnn Error in configure: 7 (CUDNN_STATUS_MAPPING_ERROR)\n",
      "[TensorRT] ERROR: FAILED_EXECUTION: std::exception\n"
     ]
    },
    {
     "name": "stdout",
     "output_type": "stream",
     "text": [
      "Time: 0.043213844299316406\n",
      "Time: 0.047655582427978516\n",
      "Time: 0.040581464767456055\n",
      "Time: 0.04771566390991211\n",
      "Time: 0.04044651985168457\n"
     ]
    },
    {
     "name": "stderr",
     "output_type": "stream",
     "text": [
      "[TensorRT] ERROR: Parameter check failed at: engine.cpp::setBindingDimensions::1136, condition: profileMaxDims.d[i] >= dimensions.d[i]\n",
      "[TensorRT] ERROR: safeContext.cpp (184) - Cudnn Error in configure: 7 (CUDNN_STATUS_MAPPING_ERROR)\n",
      "[TensorRT] ERROR: FAILED_EXECUTION: std::exception\n",
      "[TensorRT] ERROR: Parameter check failed at: engine.cpp::setBindingDimensions::1136, condition: profileMaxDims.d[i] >= dimensions.d[i]\n",
      "[TensorRT] ERROR: safeContext.cpp (184) - Cudnn Error in configure: 7 (CUDNN_STATUS_MAPPING_ERROR)\n",
      "[TensorRT] ERROR: FAILED_EXECUTION: std::exception\n",
      "[TensorRT] ERROR: Parameter check failed at: engine.cpp::setBindingDimensions::1136, condition: profileMaxDims.d[i] >= dimensions.d[i]\n",
      "[TensorRT] ERROR: safeContext.cpp (184) - Cudnn Error in configure: 7 (CUDNN_STATUS_MAPPING_ERROR)\n",
      "[TensorRT] ERROR: FAILED_EXECUTION: std::exception\n",
      "[TensorRT] ERROR: Parameter check failed at: engine.cpp::setBindingDimensions::1136, condition: profileMaxDims.d[i] >= dimensions.d[i]\n",
      "[TensorRT] ERROR: safeContext.cpp (184) - Cudnn Error in configure: 7 (CUDNN_STATUS_MAPPING_ERROR)\n",
      "[TensorRT] ERROR: FAILED_EXECUTION: std::exception\n",
      "[TensorRT] ERROR: Parameter check failed at: engine.cpp::setBindingDimensions::1136, condition: profileMaxDims.d[i] >= dimensions.d[i]\n",
      "[TensorRT] ERROR: safeContext.cpp (184) - Cudnn Error in configure: 7 (CUDNN_STATUS_MAPPING_ERROR)\n",
      "[TensorRT] ERROR: FAILED_EXECUTION: std::exception\n"
     ]
    },
    {
     "name": "stdout",
     "output_type": "stream",
     "text": [
      "Time: 0.041547298431396484\n",
      "Time: 0.04043316841125488\n",
      "Time: 0.04106259346008301\n",
      "Time: 0.04522585868835449\n",
      "Time: 0.04043269157409668\n"
     ]
    },
    {
     "name": "stderr",
     "output_type": "stream",
     "text": [
      "[TensorRT] ERROR: Parameter check failed at: engine.cpp::setBindingDimensions::1136, condition: profileMaxDims.d[i] >= dimensions.d[i]\n",
      "[TensorRT] ERROR: safeContext.cpp (184) - Cudnn Error in configure: 7 (CUDNN_STATUS_MAPPING_ERROR)\n",
      "[TensorRT] ERROR: FAILED_EXECUTION: std::exception\n",
      "[TensorRT] ERROR: Parameter check failed at: engine.cpp::setBindingDimensions::1136, condition: profileMaxDims.d[i] >= dimensions.d[i]\n",
      "[TensorRT] ERROR: safeContext.cpp (184) - Cudnn Error in configure: 7 (CUDNN_STATUS_MAPPING_ERROR)\n",
      "[TensorRT] ERROR: FAILED_EXECUTION: std::exception\n",
      "[TensorRT] ERROR: Parameter check failed at: engine.cpp::setBindingDimensions::1136, condition: profileMaxDims.d[i] >= dimensions.d[i]\n",
      "[TensorRT] ERROR: safeContext.cpp (184) - Cudnn Error in configure: 7 (CUDNN_STATUS_MAPPING_ERROR)\n",
      "[TensorRT] ERROR: FAILED_EXECUTION: std::exception\n",
      "[TensorRT] ERROR: Parameter check failed at: engine.cpp::setBindingDimensions::1136, condition: profileMaxDims.d[i] >= dimensions.d[i]\n",
      "[TensorRT] ERROR: safeContext.cpp (184) - Cudnn Error in configure: 7 (CUDNN_STATUS_MAPPING_ERROR)\n",
      "[TensorRT] ERROR: FAILED_EXECUTION: std::exception\n",
      "[TensorRT] ERROR: Parameter check failed at: engine.cpp::setBindingDimensions::1136, condition: profileMaxDims.d[i] >= dimensions.d[i]\n",
      "[TensorRT] ERROR: safeContext.cpp (184) - Cudnn Error in configure: 7 (CUDNN_STATUS_MAPPING_ERROR)\n",
      "[TensorRT] ERROR: FAILED_EXECUTION: std::exception\n"
     ]
    },
    {
     "name": "stdout",
     "output_type": "stream",
     "text": [
      "Time: 0.029056310653686523\n",
      "Time: 0.03706955909729004\n",
      "Time: 0.03984975814819336\n",
      "Time: 0.0420076847076416\n",
      "Idx: 400\n",
      "Time: 0.03961682319641113\n"
     ]
    },
    {
     "name": "stderr",
     "output_type": "stream",
     "text": [
      "[TensorRT] ERROR: Parameter check failed at: engine.cpp::setBindingDimensions::1136, condition: profileMaxDims.d[i] >= dimensions.d[i]\n",
      "[TensorRT] ERROR: safeContext.cpp (184) - Cudnn Error in configure: 7 (CUDNN_STATUS_MAPPING_ERROR)\n",
      "[TensorRT] ERROR: FAILED_EXECUTION: std::exception\n",
      "[TensorRT] ERROR: Parameter check failed at: engine.cpp::setBindingDimensions::1136, condition: profileMaxDims.d[i] >= dimensions.d[i]\n",
      "[TensorRT] ERROR: safeContext.cpp (184) - Cudnn Error in configure: 7 (CUDNN_STATUS_MAPPING_ERROR)\n",
      "[TensorRT] ERROR: FAILED_EXECUTION: std::exception\n",
      "[TensorRT] ERROR: Parameter check failed at: engine.cpp::setBindingDimensions::1136, condition: profileMaxDims.d[i] >= dimensions.d[i]\n",
      "[TensorRT] ERROR: safeContext.cpp (184) - Cudnn Error in configure: 7 (CUDNN_STATUS_MAPPING_ERROR)\n",
      "[TensorRT] ERROR: FAILED_EXECUTION: std::exception\n"
     ]
    },
    {
     "name": "stdout",
     "output_type": "stream",
     "text": [
      "Time: 0.04213666915893555\n",
      "Time: 0.04751396179199219\n",
      "Time: 0.12208414077758789\n"
     ]
    },
    {
     "name": "stderr",
     "output_type": "stream",
     "text": [
      "[TensorRT] ERROR: Parameter check failed at: engine.cpp::setBindingDimensions::1136, condition: profileMaxDims.d[i] >= dimensions.d[i]\n",
      "[TensorRT] ERROR: safeContext.cpp (184) - Cudnn Error in configure: 7 (CUDNN_STATUS_MAPPING_ERROR)\n",
      "[TensorRT] ERROR: FAILED_EXECUTION: std::exception\n",
      "[TensorRT] ERROR: Parameter check failed at: engine.cpp::setBindingDimensions::1136, condition: profileMaxDims.d[i] >= dimensions.d[i]\n",
      "[TensorRT] ERROR: safeContext.cpp (184) - Cudnn Error in configure: 7 (CUDNN_STATUS_MAPPING_ERROR)\n",
      "[TensorRT] ERROR: FAILED_EXECUTION: std::exception\n",
      "[TensorRT] ERROR: Parameter check failed at: engine.cpp::setBindingDimensions::1136, condition: profileMaxDims.d[i] >= dimensions.d[i]\n",
      "[TensorRT] ERROR: safeContext.cpp (184) - Cudnn Error in configure: 7 (CUDNN_STATUS_MAPPING_ERROR)\n",
      "[TensorRT] ERROR: FAILED_EXECUTION: std::exception\n"
     ]
    },
    {
     "name": "stdout",
     "output_type": "stream",
     "text": [
      "Time: 0.04819607734680176\n",
      "Time: 0.09244942665100098\n",
      "Time: 0.0745704174041748\n"
     ]
    },
    {
     "name": "stderr",
     "output_type": "stream",
     "text": [
      "[TensorRT] ERROR: Parameter check failed at: engine.cpp::setBindingDimensions::1136, condition: profileMaxDims.d[i] >= dimensions.d[i]\n",
      "[TensorRT] ERROR: safeContext.cpp (184) - Cudnn Error in configure: 7 (CUDNN_STATUS_MAPPING_ERROR)\n",
      "[TensorRT] ERROR: FAILED_EXECUTION: std::exception\n",
      "[TensorRT] ERROR: Parameter check failed at: engine.cpp::setBindingDimensions::1136, condition: profileMaxDims.d[i] >= dimensions.d[i]\n",
      "[TensorRT] ERROR: safeContext.cpp (184) - Cudnn Error in configure: 7 (CUDNN_STATUS_MAPPING_ERROR)\n",
      "[TensorRT] ERROR: FAILED_EXECUTION: std::exception\n",
      "[TensorRT] ERROR: Parameter check failed at: engine.cpp::setBindingDimensions::1136, condition: profileMaxDims.d[i] >= dimensions.d[i]\n",
      "[TensorRT] ERROR: safeContext.cpp (184) - Cudnn Error in configure: 7 (CUDNN_STATUS_MAPPING_ERROR)\n",
      "[TensorRT] ERROR: FAILED_EXECUTION: std::exception\n",
      "[TensorRT] ERROR: Parameter check failed at: engine.cpp::setBindingDimensions::1136, condition: profileMaxDims.d[i] >= dimensions.d[i]\n",
      "[TensorRT] ERROR: safeContext.cpp (184) - Cudnn Error in configure: 7 (CUDNN_STATUS_MAPPING_ERROR)\n",
      "[TensorRT] ERROR: FAILED_EXECUTION: std::exception\n"
     ]
    },
    {
     "name": "stdout",
     "output_type": "stream",
     "text": [
      "Time: 0.06255578994750977\n",
      "Time: 0.062320709228515625\n",
      "Time: 0.05110478401184082\n",
      "Time: 0.045159339904785156\n"
     ]
    },
    {
     "name": "stderr",
     "output_type": "stream",
     "text": [
      "[TensorRT] ERROR: Parameter check failed at: engine.cpp::setBindingDimensions::1136, condition: profileMaxDims.d[i] >= dimensions.d[i]\n",
      "[TensorRT] ERROR: safeContext.cpp (184) - Cudnn Error in configure: 7 (CUDNN_STATUS_MAPPING_ERROR)\n",
      "[TensorRT] ERROR: FAILED_EXECUTION: std::exception\n",
      "[TensorRT] ERROR: Parameter check failed at: engine.cpp::setBindingDimensions::1136, condition: profileMaxDims.d[i] >= dimensions.d[i]\n",
      "[TensorRT] ERROR: safeContext.cpp (184) - Cudnn Error in configure: 7 (CUDNN_STATUS_MAPPING_ERROR)\n",
      "[TensorRT] ERROR: FAILED_EXECUTION: std::exception\n",
      "[TensorRT] ERROR: Parameter check failed at: engine.cpp::setBindingDimensions::1136, condition: profileMaxDims.d[i] >= dimensions.d[i]\n",
      "[TensorRT] ERROR: safeContext.cpp (184) - Cudnn Error in configure: 7 (CUDNN_STATUS_MAPPING_ERROR)\n",
      "[TensorRT] ERROR: FAILED_EXECUTION: std::exception\n",
      "[TensorRT] ERROR: Parameter check failed at: engine.cpp::setBindingDimensions::1136, condition: profileMaxDims.d[i] >= dimensions.d[i]\n",
      "[TensorRT] ERROR: safeContext.cpp (184) - Cudnn Error in configure: 7 (CUDNN_STATUS_MAPPING_ERROR)\n",
      "[TensorRT] ERROR: FAILED_EXECUTION: std::exception\n"
     ]
    },
    {
     "name": "stdout",
     "output_type": "stream",
     "text": [
      "Time: 0.04642939567565918\n",
      "Time: 0.0539398193359375\n",
      "Time: 0.05453324317932129\n",
      "Time: 0.04654669761657715\n"
     ]
    },
    {
     "name": "stderr",
     "output_type": "stream",
     "text": [
      "[TensorRT] ERROR: Parameter check failed at: engine.cpp::setBindingDimensions::1136, condition: profileMaxDims.d[i] >= dimensions.d[i]\n",
      "[TensorRT] ERROR: safeContext.cpp (184) - Cudnn Error in configure: 7 (CUDNN_STATUS_MAPPING_ERROR)\n",
      "[TensorRT] ERROR: FAILED_EXECUTION: std::exception\n",
      "[TensorRT] ERROR: Parameter check failed at: engine.cpp::setBindingDimensions::1136, condition: profileMaxDims.d[i] >= dimensions.d[i]\n",
      "[TensorRT] ERROR: safeContext.cpp (184) - Cudnn Error in configure: 7 (CUDNN_STATUS_MAPPING_ERROR)\n",
      "[TensorRT] ERROR: FAILED_EXECUTION: std::exception\n",
      "[TensorRT] ERROR: Parameter check failed at: engine.cpp::setBindingDimensions::1136, condition: profileMaxDims.d[i] >= dimensions.d[i]\n",
      "[TensorRT] ERROR: safeContext.cpp (184) - Cudnn Error in configure: 7 (CUDNN_STATUS_MAPPING_ERROR)\n",
      "[TensorRT] ERROR: FAILED_EXECUTION: std::exception\n",
      "[TensorRT] ERROR: Parameter check failed at: engine.cpp::setBindingDimensions::1136, condition: profileMaxDims.d[i] >= dimensions.d[i]\n",
      "[TensorRT] ERROR: safeContext.cpp (184) - Cudnn Error in configure: 7 (CUDNN_STATUS_MAPPING_ERROR)\n",
      "[TensorRT] ERROR: FAILED_EXECUTION: std::exception\n"
     ]
    },
    {
     "name": "stdout",
     "output_type": "stream",
     "text": [
      "Time: 0.061263322830200195\n",
      "Time: 0.05489230155944824\n",
      "Time: 0.04660749435424805\n",
      "Time: 0.04769444465637207\n"
     ]
    },
    {
     "name": "stderr",
     "output_type": "stream",
     "text": [
      "[TensorRT] ERROR: Parameter check failed at: engine.cpp::setBindingDimensions::1136, condition: profileMaxDims.d[i] >= dimensions.d[i]\n",
      "[TensorRT] ERROR: safeContext.cpp (184) - Cudnn Error in configure: 7 (CUDNN_STATUS_MAPPING_ERROR)\n",
      "[TensorRT] ERROR: FAILED_EXECUTION: std::exception\n",
      "[TensorRT] ERROR: Parameter check failed at: engine.cpp::setBindingDimensions::1136, condition: profileMaxDims.d[i] >= dimensions.d[i]\n",
      "[TensorRT] ERROR: safeContext.cpp (184) - Cudnn Error in configure: 7 (CUDNN_STATUS_MAPPING_ERROR)\n",
      "[TensorRT] ERROR: FAILED_EXECUTION: std::exception\n",
      "[TensorRT] ERROR: Parameter check failed at: engine.cpp::setBindingDimensions::1136, condition: profileMaxDims.d[i] >= dimensions.d[i]\n",
      "[TensorRT] ERROR: safeContext.cpp (184) - Cudnn Error in configure: 7 (CUDNN_STATUS_MAPPING_ERROR)\n",
      "[TensorRT] ERROR: FAILED_EXECUTION: std::exception\n",
      "[TensorRT] ERROR: Parameter check failed at: engine.cpp::setBindingDimensions::1136, condition: profileMaxDims.d[i] >= dimensions.d[i]\n",
      "[TensorRT] ERROR: safeContext.cpp (184) - Cudnn Error in configure: 7 (CUDNN_STATUS_MAPPING_ERROR)\n",
      "[TensorRT] ERROR: FAILED_EXECUTION: std::exception\n"
     ]
    },
    {
     "name": "stdout",
     "output_type": "stream",
     "text": [
      "Time: 0.057795047760009766\n",
      "Time: 0.0467071533203125\n",
      "Time: 0.04661893844604492\n",
      "Time: 0.05393648147583008\n"
     ]
    },
    {
     "name": "stderr",
     "output_type": "stream",
     "text": [
      "[TensorRT] ERROR: Parameter check failed at: engine.cpp::setBindingDimensions::1136, condition: profileMaxDims.d[i] >= dimensions.d[i]\n",
      "[TensorRT] ERROR: safeContext.cpp (184) - Cudnn Error in configure: 7 (CUDNN_STATUS_MAPPING_ERROR)\n",
      "[TensorRT] ERROR: FAILED_EXECUTION: std::exception\n",
      "[TensorRT] ERROR: Parameter check failed at: engine.cpp::setBindingDimensions::1136, condition: profileMaxDims.d[i] >= dimensions.d[i]\n",
      "[TensorRT] ERROR: safeContext.cpp (184) - Cudnn Error in configure: 7 (CUDNN_STATUS_MAPPING_ERROR)\n",
      "[TensorRT] ERROR: FAILED_EXECUTION: std::exception\n",
      "[TensorRT] ERROR: Parameter check failed at: engine.cpp::setBindingDimensions::1136, condition: profileMaxDims.d[i] >= dimensions.d[i]\n",
      "[TensorRT] ERROR: safeContext.cpp (184) - Cudnn Error in configure: 7 (CUDNN_STATUS_MAPPING_ERROR)\n",
      "[TensorRT] ERROR: FAILED_EXECUTION: std::exception\n",
      "[TensorRT] ERROR: Parameter check failed at: engine.cpp::setBindingDimensions::1136, condition: profileMaxDims.d[i] >= dimensions.d[i]\n",
      "[TensorRT] ERROR: safeContext.cpp (184) - Cudnn Error in configure: 7 (CUDNN_STATUS_MAPPING_ERROR)\n",
      "[TensorRT] ERROR: FAILED_EXECUTION: std::exception\n"
     ]
    },
    {
     "name": "stdout",
     "output_type": "stream",
     "text": [
      "Time: 0.05688023567199707\n",
      "Time: 0.047710418701171875\n",
      "Time: 0.04967665672302246\n",
      "Time: 0.05485391616821289\n"
     ]
    },
    {
     "name": "stderr",
     "output_type": "stream",
     "text": [
      "[TensorRT] ERROR: Parameter check failed at: engine.cpp::setBindingDimensions::1136, condition: profileMaxDims.d[i] >= dimensions.d[i]\n",
      "[TensorRT] ERROR: safeContext.cpp (184) - Cudnn Error in configure: 7 (CUDNN_STATUS_MAPPING_ERROR)\n",
      "[TensorRT] ERROR: FAILED_EXECUTION: std::exception\n",
      "[TensorRT] ERROR: Parameter check failed at: engine.cpp::setBindingDimensions::1136, condition: profileMaxDims.d[i] >= dimensions.d[i]\n",
      "[TensorRT] ERROR: safeContext.cpp (184) - Cudnn Error in configure: 7 (CUDNN_STATUS_MAPPING_ERROR)\n",
      "[TensorRT] ERROR: FAILED_EXECUTION: std::exception\n",
      "[TensorRT] ERROR: Parameter check failed at: engine.cpp::setBindingDimensions::1136, condition: profileMaxDims.d[i] >= dimensions.d[i]\n",
      "[TensorRT] ERROR: safeContext.cpp (184) - Cudnn Error in configure: 7 (CUDNN_STATUS_MAPPING_ERROR)\n",
      "[TensorRT] ERROR: FAILED_EXECUTION: std::exception\n",
      "[TensorRT] ERROR: Parameter check failed at: engine.cpp::setBindingDimensions::1136, condition: profileMaxDims.d[i] >= dimensions.d[i]\n",
      "[TensorRT] ERROR: safeContext.cpp (184) - Cudnn Error in configure: 7 (CUDNN_STATUS_MAPPING_ERROR)\n",
      "[TensorRT] ERROR: FAILED_EXECUTION: std::exception\n",
      "[TensorRT] ERROR: Parameter check failed at: engine.cpp::setBindingDimensions::1136, condition: profileMaxDims.d[i] >= dimensions.d[i]\n",
      "[TensorRT] ERROR: safeContext.cpp (184) - Cudnn Error in configure: 7 (CUDNN_STATUS_MAPPING_ERROR)\n",
      "[TensorRT] ERROR: FAILED_EXECUTION: std::exception\n"
     ]
    },
    {
     "name": "stdout",
     "output_type": "stream",
     "text": [
      "Time: 0.04812431335449219\n",
      "Time: 0.04740118980407715\n",
      "Time: 0.04656672477722168\n",
      "Time: 0.046330928802490234\n",
      "Time: 0.05397915840148926\n",
      "Time: 0.046828508377075195\n",
      "Time: 0.04806685447692871\n",
      "Time: 0.04686999320983887\n",
      "Time: 0.04697108268737793\n"
     ]
    },
    {
     "name": "stderr",
     "output_type": "stream",
     "text": [
      "[TensorRT] ERROR: Parameter check failed at: engine.cpp::setBindingDimensions::1136, condition: profileMaxDims.d[i] >= dimensions.d[i]\n",
      "[TensorRT] ERROR: safeContext.cpp (184) - Cudnn Error in configure: 7 (CUDNN_STATUS_MAPPING_ERROR)\n",
      "[TensorRT] ERROR: FAILED_EXECUTION: std::exception\n",
      "[TensorRT] ERROR: Parameter check failed at: engine.cpp::setBindingDimensions::1136, condition: profileMaxDims.d[i] >= dimensions.d[i]\n",
      "[TensorRT] ERROR: safeContext.cpp (184) - Cudnn Error in configure: 7 (CUDNN_STATUS_MAPPING_ERROR)\n",
      "[TensorRT] ERROR: FAILED_EXECUTION: std::exception\n",
      "[TensorRT] ERROR: Parameter check failed at: engine.cpp::setBindingDimensions::1136, condition: profileMaxDims.d[i] >= dimensions.d[i]\n",
      "[TensorRT] ERROR: safeContext.cpp (184) - Cudnn Error in configure: 7 (CUDNN_STATUS_MAPPING_ERROR)\n",
      "[TensorRT] ERROR: FAILED_EXECUTION: std::exception\n",
      "[TensorRT] ERROR: Parameter check failed at: engine.cpp::setBindingDimensions::1136, condition: profileMaxDims.d[i] >= dimensions.d[i]\n",
      "[TensorRT] ERROR: safeContext.cpp (184) - Cudnn Error in configure: 7 (CUDNN_STATUS_MAPPING_ERROR)\n",
      "[TensorRT] ERROR: FAILED_EXECUTION: std::exception\n",
      "[TensorRT] ERROR: Parameter check failed at: engine.cpp::setBindingDimensions::1136, condition: profileMaxDims.d[i] >= dimensions.d[i]\n",
      "[TensorRT] ERROR: safeContext.cpp (184) - Cudnn Error in configure: 7 (CUDNN_STATUS_MAPPING_ERROR)\n",
      "[TensorRT] ERROR: FAILED_EXECUTION: std::exception\n",
      "[TensorRT] ERROR: Parameter check failed at: engine.cpp::setBindingDimensions::1136, condition: profileMaxDims.d[i] >= dimensions.d[i]\n",
      "[TensorRT] ERROR: safeContext.cpp (184) - Cudnn Error in configure: 7 (CUDNN_STATUS_MAPPING_ERROR)\n",
      "[TensorRT] ERROR: FAILED_EXECUTION: std::exception\n",
      "[TensorRT] ERROR: Parameter check failed at: engine.cpp::setBindingDimensions::1136, condition: profileMaxDims.d[i] >= dimensions.d[i]\n",
      "[TensorRT] ERROR: safeContext.cpp (184) - Cudnn Error in configure: 7 (CUDNN_STATUS_MAPPING_ERROR)\n",
      "[TensorRT] ERROR: FAILED_EXECUTION: std::exception\n"
     ]
    },
    {
     "name": "stdout",
     "output_type": "stream",
     "text": [
      "Time: 0.05063605308532715\n",
      "Time: 0.09794211387634277\n",
      "Time: 0.04787039756774902\n"
     ]
    },
    {
     "name": "stderr",
     "output_type": "stream",
     "text": [
      "[TensorRT] ERROR: Parameter check failed at: engine.cpp::setBindingDimensions::1136, condition: profileMaxDims.d[i] >= dimensions.d[i]\n",
      "[TensorRT] ERROR: safeContext.cpp (184) - Cudnn Error in configure: 7 (CUDNN_STATUS_MAPPING_ERROR)\n",
      "[TensorRT] ERROR: FAILED_EXECUTION: std::exception\n",
      "[TensorRT] ERROR: Parameter check failed at: engine.cpp::setBindingDimensions::1136, condition: profileMaxDims.d[i] >= dimensions.d[i]\n",
      "[TensorRT] ERROR: safeContext.cpp (184) - Cudnn Error in configure: 7 (CUDNN_STATUS_MAPPING_ERROR)\n",
      "[TensorRT] ERROR: FAILED_EXECUTION: std::exception\n",
      "[TensorRT] ERROR: Parameter check failed at: engine.cpp::setBindingDimensions::1136, condition: profileMaxDims.d[i] >= dimensions.d[i]\n",
      "[TensorRT] ERROR: safeContext.cpp (184) - Cudnn Error in configure: 7 (CUDNN_STATUS_MAPPING_ERROR)\n",
      "[TensorRT] ERROR: FAILED_EXECUTION: std::exception\n",
      "[TensorRT] ERROR: Parameter check failed at: engine.cpp::setBindingDimensions::1136, condition: profileMaxDims.d[i] >= dimensions.d[i]\n",
      "[TensorRT] ERROR: safeContext.cpp (184) - Cudnn Error in configure: 7 (CUDNN_STATUS_MAPPING_ERROR)\n",
      "[TensorRT] ERROR: FAILED_EXECUTION: std::exception\n"
     ]
    },
    {
     "name": "stdout",
     "output_type": "stream",
     "text": [
      "Time: 0.04919004440307617\n",
      "Time: 0.04807162284851074\n",
      "Time: 0.05095982551574707\n",
      "Time: 0.04928731918334961\n"
     ]
    },
    {
     "name": "stderr",
     "output_type": "stream",
     "text": [
      "[TensorRT] ERROR: Parameter check failed at: engine.cpp::setBindingDimensions::1136, condition: profileMaxDims.d[i] >= dimensions.d[i]\n",
      "[TensorRT] ERROR: safeContext.cpp (184) - Cudnn Error in configure: 7 (CUDNN_STATUS_MAPPING_ERROR)\n",
      "[TensorRT] ERROR: FAILED_EXECUTION: std::exception\n",
      "[TensorRT] ERROR: Parameter check failed at: engine.cpp::setBindingDimensions::1136, condition: profileMaxDims.d[i] >= dimensions.d[i]\n",
      "[TensorRT] ERROR: safeContext.cpp (184) - Cudnn Error in configure: 7 (CUDNN_STATUS_MAPPING_ERROR)\n",
      "[TensorRT] ERROR: FAILED_EXECUTION: std::exception\n",
      "[TensorRT] ERROR: Parameter check failed at: engine.cpp::setBindingDimensions::1136, condition: profileMaxDims.d[i] >= dimensions.d[i]\n",
      "[TensorRT] ERROR: safeContext.cpp (184) - Cudnn Error in configure: 7 (CUDNN_STATUS_MAPPING_ERROR)\n",
      "[TensorRT] ERROR: FAILED_EXECUTION: std::exception\n",
      "[TensorRT] ERROR: Parameter check failed at: engine.cpp::setBindingDimensions::1136, condition: profileMaxDims.d[i] >= dimensions.d[i]\n",
      "[TensorRT] ERROR: safeContext.cpp (184) - Cudnn Error in configure: 7 (CUDNN_STATUS_MAPPING_ERROR)\n",
      "[TensorRT] ERROR: FAILED_EXECUTION: std::exception\n"
     ]
    },
    {
     "name": "stdout",
     "output_type": "stream",
     "text": [
      "Time: 0.05034685134887695\n",
      "Time: 0.055321455001831055\n",
      "Time: 0.053351402282714844\n",
      "Time: 0.05858612060546875\n"
     ]
    },
    {
     "name": "stderr",
     "output_type": "stream",
     "text": [
      "[TensorRT] ERROR: Parameter check failed at: engine.cpp::setBindingDimensions::1136, condition: profileMaxDims.d[i] >= dimensions.d[i]\n",
      "[TensorRT] ERROR: safeContext.cpp (184) - Cudnn Error in configure: 7 (CUDNN_STATUS_MAPPING_ERROR)\n",
      "[TensorRT] ERROR: FAILED_EXECUTION: std::exception\n",
      "[TensorRT] ERROR: Parameter check failed at: engine.cpp::setBindingDimensions::1136, condition: profileMaxDims.d[i] >= dimensions.d[i]\n",
      "[TensorRT] ERROR: safeContext.cpp (184) - Cudnn Error in configure: 7 (CUDNN_STATUS_MAPPING_ERROR)\n",
      "[TensorRT] ERROR: FAILED_EXECUTION: std::exception\n",
      "[TensorRT] ERROR: Parameter check failed at: engine.cpp::setBindingDimensions::1136, condition: profileMaxDims.d[i] >= dimensions.d[i]\n",
      "[TensorRT] ERROR: safeContext.cpp (184) - Cudnn Error in configure: 7 (CUDNN_STATUS_MAPPING_ERROR)\n",
      "[TensorRT] ERROR: FAILED_EXECUTION: std::exception\n",
      "[TensorRT] ERROR: Parameter check failed at: engine.cpp::setBindingDimensions::1136, condition: profileMaxDims.d[i] >= dimensions.d[i]\n",
      "[TensorRT] ERROR: safeContext.cpp (184) - Cudnn Error in configure: 7 (CUDNN_STATUS_MAPPING_ERROR)\n",
      "[TensorRT] ERROR: FAILED_EXECUTION: std::exception\n"
     ]
    },
    {
     "name": "stdout",
     "output_type": "stream",
     "text": [
      "Time: 0.06245541572570801\n",
      "Time: 0.07375264167785645\n",
      "Time: 0.049405574798583984\n",
      "Time: 0.04931187629699707\n"
     ]
    },
    {
     "name": "stderr",
     "output_type": "stream",
     "text": [
      "[TensorRT] ERROR: Parameter check failed at: engine.cpp::setBindingDimensions::1136, condition: profileMaxDims.d[i] >= dimensions.d[i]\n",
      "[TensorRT] ERROR: safeContext.cpp (184) - Cudnn Error in configure: 7 (CUDNN_STATUS_MAPPING_ERROR)\n",
      "[TensorRT] ERROR: FAILED_EXECUTION: std::exception\n",
      "[TensorRT] ERROR: Parameter check failed at: engine.cpp::setBindingDimensions::1136, condition: profileMaxDims.d[i] >= dimensions.d[i]\n",
      "[TensorRT] ERROR: safeContext.cpp (184) - Cudnn Error in configure: 7 (CUDNN_STATUS_MAPPING_ERROR)\n",
      "[TensorRT] ERROR: FAILED_EXECUTION: std::exception\n",
      "[TensorRT] ERROR: Parameter check failed at: engine.cpp::setBindingDimensions::1136, condition: profileMaxDims.d[i] >= dimensions.d[i]\n",
      "[TensorRT] ERROR: safeContext.cpp (184) - Cudnn Error in configure: 7 (CUDNN_STATUS_MAPPING_ERROR)\n",
      "[TensorRT] ERROR: FAILED_EXECUTION: std::exception\n",
      "[TensorRT] ERROR: Parameter check failed at: engine.cpp::setBindingDimensions::1136, condition: profileMaxDims.d[i] >= dimensions.d[i]\n",
      "[TensorRT] ERROR: safeContext.cpp (184) - Cudnn Error in configure: 7 (CUDNN_STATUS_MAPPING_ERROR)\n",
      "[TensorRT] ERROR: FAILED_EXECUTION: std::exception\n",
      "[TensorRT] ERROR: Parameter check failed at: engine.cpp::setBindingDimensions::1136, condition: profileMaxDims.d[i] >= dimensions.d[i]\n",
      "[TensorRT] ERROR: safeContext.cpp (184) - Cudnn Error in configure: 7 (CUDNN_STATUS_MAPPING_ERROR)\n",
      "[TensorRT] ERROR: FAILED_EXECUTION: std::exception\n"
     ]
    },
    {
     "name": "stdout",
     "output_type": "stream",
     "text": [
      "Time: 0.05992746353149414\n",
      "Time: 0.0450131893157959\n",
      "Time: 0.04770088195800781\n",
      "Time: 0.04392862319946289\n",
      "Time: 0.04061746597290039\n"
     ]
    },
    {
     "name": "stderr",
     "output_type": "stream",
     "text": [
      "[TensorRT] ERROR: Parameter check failed at: engine.cpp::setBindingDimensions::1136, condition: profileMaxDims.d[i] >= dimensions.d[i]\n",
      "[TensorRT] ERROR: safeContext.cpp (184) - Cudnn Error in configure: 7 (CUDNN_STATUS_MAPPING_ERROR)\n",
      "[TensorRT] ERROR: FAILED_EXECUTION: std::exception\n",
      "[TensorRT] ERROR: Parameter check failed at: engine.cpp::setBindingDimensions::1136, condition: profileMaxDims.d[i] >= dimensions.d[i]\n",
      "[TensorRT] ERROR: safeContext.cpp (184) - Cudnn Error in configure: 7 (CUDNN_STATUS_MAPPING_ERROR)\n",
      "[TensorRT] ERROR: FAILED_EXECUTION: std::exception\n",
      "[TensorRT] ERROR: Parameter check failed at: engine.cpp::setBindingDimensions::1136, condition: profileMaxDims.d[i] >= dimensions.d[i]\n",
      "[TensorRT] ERROR: safeContext.cpp (184) - Cudnn Error in configure: 7 (CUDNN_STATUS_MAPPING_ERROR)\n",
      "[TensorRT] ERROR: FAILED_EXECUTION: std::exception\n",
      "[TensorRT] ERROR: Parameter check failed at: engine.cpp::setBindingDimensions::1136, condition: profileMaxDims.d[i] >= dimensions.d[i]\n",
      "[TensorRT] ERROR: safeContext.cpp (184) - Cudnn Error in configure: 7 (CUDNN_STATUS_MAPPING_ERROR)\n",
      "[TensorRT] ERROR: FAILED_EXECUTION: std::exception\n",
      "[TensorRT] ERROR: Parameter check failed at: engine.cpp::setBindingDimensions::1136, condition: profileMaxDims.d[i] >= dimensions.d[i]\n",
      "[TensorRT] ERROR: safeContext.cpp (184) - Cudnn Error in configure: 7 (CUDNN_STATUS_MAPPING_ERROR)\n",
      "[TensorRT] ERROR: FAILED_EXECUTION: std::exception\n"
     ]
    },
    {
     "name": "stdout",
     "output_type": "stream",
     "text": [
      "Time: 0.04347801208496094\n",
      "Time: 0.04126095771789551\n",
      "Time: 0.04653525352478027\n",
      "Time: 0.04513716697692871\n",
      "Time: 0.04627084732055664\n"
     ]
    },
    {
     "name": "stderr",
     "output_type": "stream",
     "text": [
      "[TensorRT] ERROR: Parameter check failed at: engine.cpp::setBindingDimensions::1136, condition: profileMaxDims.d[i] >= dimensions.d[i]\n",
      "[TensorRT] ERROR: safeContext.cpp (184) - Cudnn Error in configure: 7 (CUDNN_STATUS_MAPPING_ERROR)\n",
      "[TensorRT] ERROR: FAILED_EXECUTION: std::exception\n",
      "[TensorRT] ERROR: Parameter check failed at: engine.cpp::setBindingDimensions::1136, condition: profileMaxDims.d[i] >= dimensions.d[i]\n",
      "[TensorRT] ERROR: safeContext.cpp (184) - Cudnn Error in configure: 7 (CUDNN_STATUS_MAPPING_ERROR)\n",
      "[TensorRT] ERROR: FAILED_EXECUTION: std::exception\n",
      "[TensorRT] ERROR: Parameter check failed at: engine.cpp::setBindingDimensions::1136, condition: profileMaxDims.d[i] >= dimensions.d[i]\n",
      "[TensorRT] ERROR: safeContext.cpp (184) - Cudnn Error in configure: 7 (CUDNN_STATUS_MAPPING_ERROR)\n",
      "[TensorRT] ERROR: FAILED_EXECUTION: std::exception\n",
      "[TensorRT] ERROR: Parameter check failed at: engine.cpp::setBindingDimensions::1136, condition: profileMaxDims.d[i] >= dimensions.d[i]\n",
      "[TensorRT] ERROR: safeContext.cpp (184) - Cudnn Error in configure: 7 (CUDNN_STATUS_MAPPING_ERROR)\n",
      "[TensorRT] ERROR: FAILED_EXECUTION: std::exception\n"
     ]
    },
    {
     "name": "stdout",
     "output_type": "stream",
     "text": [
      "Time: 0.045484066009521484\n",
      "Time: 0.05393338203430176\n",
      "Time: 0.05713605880737305\n",
      "Time: 0.046607017517089844\n"
     ]
    },
    {
     "name": "stderr",
     "output_type": "stream",
     "text": [
      "[TensorRT] ERROR: Parameter check failed at: engine.cpp::setBindingDimensions::1136, condition: profileMaxDims.d[i] >= dimensions.d[i]\n",
      "[TensorRT] ERROR: safeContext.cpp (184) - Cudnn Error in configure: 7 (CUDNN_STATUS_MAPPING_ERROR)\n",
      "[TensorRT] ERROR: FAILED_EXECUTION: std::exception\n",
      "[TensorRT] ERROR: Parameter check failed at: engine.cpp::setBindingDimensions::1136, condition: profileMaxDims.d[i] >= dimensions.d[i]\n",
      "[TensorRT] ERROR: safeContext.cpp (184) - Cudnn Error in configure: 7 (CUDNN_STATUS_MAPPING_ERROR)\n",
      "[TensorRT] ERROR: FAILED_EXECUTION: std::exception\n",
      "[TensorRT] ERROR: Parameter check failed at: engine.cpp::setBindingDimensions::1136, condition: profileMaxDims.d[i] >= dimensions.d[i]\n",
      "[TensorRT] ERROR: safeContext.cpp (184) - Cudnn Error in configure: 7 (CUDNN_STATUS_MAPPING_ERROR)\n",
      "[TensorRT] ERROR: FAILED_EXECUTION: std::exception\n",
      "[TensorRT] ERROR: Parameter check failed at: engine.cpp::setBindingDimensions::1136, condition: profileMaxDims.d[i] >= dimensions.d[i]\n",
      "[TensorRT] ERROR: safeContext.cpp (184) - Cudnn Error in configure: 7 (CUDNN_STATUS_MAPPING_ERROR)\n",
      "[TensorRT] ERROR: FAILED_EXECUTION: std::exception\n"
     ]
    },
    {
     "name": "stdout",
     "output_type": "stream",
     "text": [
      "Time: 0.047020912170410156\n",
      "Time: 0.08351588249206543\n",
      "Time: 0.046655893325805664\n",
      "Time: 0.045804738998413086\n"
     ]
    },
    {
     "name": "stderr",
     "output_type": "stream",
     "text": [
      "[TensorRT] ERROR: Parameter check failed at: engine.cpp::setBindingDimensions::1136, condition: profileMaxDims.d[i] >= dimensions.d[i]\n",
      "[TensorRT] ERROR: safeContext.cpp (184) - Cudnn Error in configure: 7 (CUDNN_STATUS_MAPPING_ERROR)\n",
      "[TensorRT] ERROR: FAILED_EXECUTION: std::exception\n",
      "[TensorRT] ERROR: Parameter check failed at: engine.cpp::setBindingDimensions::1136, condition: profileMaxDims.d[i] >= dimensions.d[i]\n",
      "[TensorRT] ERROR: safeContext.cpp (184) - Cudnn Error in configure: 7 (CUDNN_STATUS_MAPPING_ERROR)\n",
      "[TensorRT] ERROR: FAILED_EXECUTION: std::exception\n",
      "[TensorRT] ERROR: Parameter check failed at: engine.cpp::setBindingDimensions::1136, condition: profileMaxDims.d[i] >= dimensions.d[i]\n",
      "[TensorRT] ERROR: safeContext.cpp (184) - Cudnn Error in configure: 7 (CUDNN_STATUS_MAPPING_ERROR)\n",
      "[TensorRT] ERROR: FAILED_EXECUTION: std::exception\n",
      "[TensorRT] ERROR: Parameter check failed at: engine.cpp::setBindingDimensions::1136, condition: profileMaxDims.d[i] >= dimensions.d[i]\n",
      "[TensorRT] ERROR: safeContext.cpp (184) - Cudnn Error in configure: 7 (CUDNN_STATUS_MAPPING_ERROR)\n",
      "[TensorRT] ERROR: FAILED_EXECUTION: std::exception\n"
     ]
    },
    {
     "name": "stdout",
     "output_type": "stream",
     "text": [
      "Time: 0.0757448673248291\n",
      "Time: 0.05839419364929199\n",
      "Time: 0.04959607124328613\n",
      "Time: 0.04569602012634277\n"
     ]
    },
    {
     "name": "stderr",
     "output_type": "stream",
     "text": [
      "[TensorRT] ERROR: Parameter check failed at: engine.cpp::setBindingDimensions::1136, condition: profileMaxDims.d[i] >= dimensions.d[i]\n",
      "[TensorRT] ERROR: safeContext.cpp (184) - Cudnn Error in configure: 7 (CUDNN_STATUS_MAPPING_ERROR)\n",
      "[TensorRT] ERROR: FAILED_EXECUTION: std::exception\n",
      "[TensorRT] ERROR: Parameter check failed at: engine.cpp::setBindingDimensions::1136, condition: profileMaxDims.d[i] >= dimensions.d[i]\n",
      "[TensorRT] ERROR: safeContext.cpp (184) - Cudnn Error in configure: 7 (CUDNN_STATUS_MAPPING_ERROR)\n",
      "[TensorRT] ERROR: FAILED_EXECUTION: std::exception\n",
      "[TensorRT] ERROR: Parameter check failed at: engine.cpp::setBindingDimensions::1136, condition: profileMaxDims.d[i] >= dimensions.d[i]\n",
      "[TensorRT] ERROR: safeContext.cpp (184) - Cudnn Error in configure: 7 (CUDNN_STATUS_MAPPING_ERROR)\n",
      "[TensorRT] ERROR: FAILED_EXECUTION: std::exception\n",
      "[TensorRT] ERROR: Parameter check failed at: engine.cpp::setBindingDimensions::1136, condition: profileMaxDims.d[i] >= dimensions.d[i]\n",
      "[TensorRT] ERROR: safeContext.cpp (184) - Cudnn Error in configure: 7 (CUDNN_STATUS_MAPPING_ERROR)\n",
      "[TensorRT] ERROR: FAILED_EXECUTION: std::exception\n"
     ]
    },
    {
     "name": "stdout",
     "output_type": "stream",
     "text": [
      "Time: 0.07877779006958008\n",
      "Time: 0.04623079299926758\n",
      "Time: 0.04693770408630371\n",
      "Time: 0.07752656936645508\n"
     ]
    },
    {
     "name": "stderr",
     "output_type": "stream",
     "text": [
      "[TensorRT] ERROR: Parameter check failed at: engine.cpp::setBindingDimensions::1136, condition: profileMaxDims.d[i] >= dimensions.d[i]\n",
      "[TensorRT] ERROR: safeContext.cpp (184) - Cudnn Error in configure: 7 (CUDNN_STATUS_MAPPING_ERROR)\n",
      "[TensorRT] ERROR: FAILED_EXECUTION: std::exception\n",
      "[TensorRT] ERROR: Parameter check failed at: engine.cpp::setBindingDimensions::1136, condition: profileMaxDims.d[i] >= dimensions.d[i]\n",
      "[TensorRT] ERROR: safeContext.cpp (184) - Cudnn Error in configure: 7 (CUDNN_STATUS_MAPPING_ERROR)\n",
      "[TensorRT] ERROR: FAILED_EXECUTION: std::exception\n",
      "[TensorRT] ERROR: Parameter check failed at: engine.cpp::setBindingDimensions::1136, condition: profileMaxDims.d[i] >= dimensions.d[i]\n",
      "[TensorRT] ERROR: safeContext.cpp (184) - Cudnn Error in configure: 7 (CUDNN_STATUS_MAPPING_ERROR)\n",
      "[TensorRT] ERROR: FAILED_EXECUTION: std::exception\n",
      "[TensorRT] ERROR: Parameter check failed at: engine.cpp::setBindingDimensions::1136, condition: profileMaxDims.d[i] >= dimensions.d[i]\n",
      "[TensorRT] ERROR: safeContext.cpp (184) - Cudnn Error in configure: 7 (CUDNN_STATUS_MAPPING_ERROR)\n",
      "[TensorRT] ERROR: FAILED_EXECUTION: std::exception\n"
     ]
    },
    {
     "name": "stdout",
     "output_type": "stream",
     "text": [
      "Time: 0.04819202423095703\n",
      "Time: 0.05034518241882324\n",
      "Time: 0.055950164794921875\n",
      "Time: 0.05822181701660156\n"
     ]
    },
    {
     "name": "stderr",
     "output_type": "stream",
     "text": [
      "[TensorRT] ERROR: Parameter check failed at: engine.cpp::setBindingDimensions::1136, condition: profileMaxDims.d[i] >= dimensions.d[i]\n",
      "[TensorRT] ERROR: safeContext.cpp (184) - Cudnn Error in configure: 7 (CUDNN_STATUS_MAPPING_ERROR)\n",
      "[TensorRT] ERROR: FAILED_EXECUTION: std::exception\n",
      "[TensorRT] ERROR: Parameter check failed at: engine.cpp::setBindingDimensions::1136, condition: profileMaxDims.d[i] >= dimensions.d[i]\n",
      "[TensorRT] ERROR: safeContext.cpp (184) - Cudnn Error in configure: 7 (CUDNN_STATUS_MAPPING_ERROR)\n",
      "[TensorRT] ERROR: FAILED_EXECUTION: std::exception\n",
      "[TensorRT] ERROR: Parameter check failed at: engine.cpp::setBindingDimensions::1136, condition: profileMaxDims.d[i] >= dimensions.d[i]\n",
      "[TensorRT] ERROR: safeContext.cpp (184) - Cudnn Error in configure: 7 (CUDNN_STATUS_MAPPING_ERROR)\n",
      "[TensorRT] ERROR: FAILED_EXECUTION: std::exception\n",
      "[TensorRT] ERROR: Parameter check failed at: engine.cpp::setBindingDimensions::1136, condition: profileMaxDims.d[i] >= dimensions.d[i]\n",
      "[TensorRT] ERROR: safeContext.cpp (184) - Cudnn Error in configure: 7 (CUDNN_STATUS_MAPPING_ERROR)\n",
      "[TensorRT] ERROR: FAILED_EXECUTION: std::exception\n"
     ]
    },
    {
     "name": "stdout",
     "output_type": "stream",
     "text": [
      "Time: 0.058724164962768555\n",
      "Time: 0.05411052703857422\n",
      "Time: 0.049920082092285156\n",
      "Time: 0.050051212310791016\n"
     ]
    },
    {
     "name": "stderr",
     "output_type": "stream",
     "text": [
      "[TensorRT] ERROR: Parameter check failed at: engine.cpp::setBindingDimensions::1136, condition: profileMaxDims.d[i] >= dimensions.d[i]\n",
      "[TensorRT] ERROR: safeContext.cpp (184) - Cudnn Error in configure: 7 (CUDNN_STATUS_MAPPING_ERROR)\n",
      "[TensorRT] ERROR: FAILED_EXECUTION: std::exception\n",
      "[TensorRT] ERROR: Parameter check failed at: engine.cpp::setBindingDimensions::1136, condition: profileMaxDims.d[i] >= dimensions.d[i]\n",
      "[TensorRT] ERROR: safeContext.cpp (184) - Cudnn Error in configure: 7 (CUDNN_STATUS_MAPPING_ERROR)\n",
      "[TensorRT] ERROR: FAILED_EXECUTION: std::exception\n",
      "[TensorRT] ERROR: Parameter check failed at: engine.cpp::setBindingDimensions::1136, condition: profileMaxDims.d[i] >= dimensions.d[i]\n",
      "[TensorRT] ERROR: safeContext.cpp (184) - Cudnn Error in configure: 7 (CUDNN_STATUS_MAPPING_ERROR)\n",
      "[TensorRT] ERROR: FAILED_EXECUTION: std::exception\n",
      "[TensorRT] ERROR: Parameter check failed at: engine.cpp::setBindingDimensions::1136, condition: profileMaxDims.d[i] >= dimensions.d[i]\n",
      "[TensorRT] ERROR: safeContext.cpp (184) - Cudnn Error in configure: 7 (CUDNN_STATUS_MAPPING_ERROR)\n",
      "[TensorRT] ERROR: FAILED_EXECUTION: std::exception\n"
     ]
    },
    {
     "name": "stdout",
     "output_type": "stream",
     "text": [
      "Time: 0.06004643440246582\n",
      "Time: 0.05789804458618164\n",
      "Time: 0.05035805702209473\n",
      "Time: 0.05304884910583496\n"
     ]
    },
    {
     "name": "stderr",
     "output_type": "stream",
     "text": [
      "[TensorRT] ERROR: Parameter check failed at: engine.cpp::setBindingDimensions::1136, condition: profileMaxDims.d[i] >= dimensions.d[i]\n",
      "[TensorRT] ERROR: safeContext.cpp (184) - Cudnn Error in configure: 7 (CUDNN_STATUS_MAPPING_ERROR)\n",
      "[TensorRT] ERROR: FAILED_EXECUTION: std::exception\n",
      "[TensorRT] ERROR: Parameter check failed at: engine.cpp::setBindingDimensions::1136, condition: profileMaxDims.d[i] >= dimensions.d[i]\n",
      "[TensorRT] ERROR: safeContext.cpp (184) - Cudnn Error in configure: 7 (CUDNN_STATUS_MAPPING_ERROR)\n",
      "[TensorRT] ERROR: FAILED_EXECUTION: std::exception\n",
      "[TensorRT] ERROR: Parameter check failed at: engine.cpp::setBindingDimensions::1136, condition: profileMaxDims.d[i] >= dimensions.d[i]\n",
      "[TensorRT] ERROR: safeContext.cpp (184) - Cudnn Error in configure: 7 (CUDNN_STATUS_MAPPING_ERROR)\n",
      "[TensorRT] ERROR: FAILED_EXECUTION: std::exception\n",
      "[TensorRT] ERROR: Parameter check failed at: engine.cpp::setBindingDimensions::1136, condition: profileMaxDims.d[i] >= dimensions.d[i]\n",
      "[TensorRT] ERROR: safeContext.cpp (184) - Cudnn Error in configure: 7 (CUDNN_STATUS_MAPPING_ERROR)\n",
      "[TensorRT] ERROR: FAILED_EXECUTION: std::exception\n"
     ]
    },
    {
     "name": "stdout",
     "output_type": "stream",
     "text": [
      "Time: 0.05850625038146973\n",
      "Time: 0.05292820930480957\n",
      "Time: 0.05739736557006836\n",
      "Time: 0.055135488510131836\n"
     ]
    },
    {
     "name": "stderr",
     "output_type": "stream",
     "text": [
      "[TensorRT] ERROR: Parameter check failed at: engine.cpp::setBindingDimensions::1136, condition: profileMaxDims.d[i] >= dimensions.d[i]\n",
      "[TensorRT] ERROR: safeContext.cpp (184) - Cudnn Error in configure: 7 (CUDNN_STATUS_MAPPING_ERROR)\n",
      "[TensorRT] ERROR: FAILED_EXECUTION: std::exception\n",
      "[TensorRT] ERROR: Parameter check failed at: engine.cpp::setBindingDimensions::1136, condition: profileMaxDims.d[i] >= dimensions.d[i]\n",
      "[TensorRT] ERROR: safeContext.cpp (184) - Cudnn Error in configure: 7 (CUDNN_STATUS_MAPPING_ERROR)\n",
      "[TensorRT] ERROR: FAILED_EXECUTION: std::exception\n",
      "[TensorRT] ERROR: Parameter check failed at: engine.cpp::setBindingDimensions::1136, condition: profileMaxDims.d[i] >= dimensions.d[i]\n",
      "[TensorRT] ERROR: safeContext.cpp (184) - Cudnn Error in configure: 7 (CUDNN_STATUS_MAPPING_ERROR)\n",
      "[TensorRT] ERROR: FAILED_EXECUTION: std::exception\n"
     ]
    },
    {
     "name": "stdout",
     "output_type": "stream",
     "text": [
      "Time: 0.06199359893798828\n",
      "Time: 0.05842447280883789\n",
      "Time: 0.07460546493530273\n"
     ]
    },
    {
     "name": "stderr",
     "output_type": "stream",
     "text": [
      "[TensorRT] ERROR: Parameter check failed at: engine.cpp::setBindingDimensions::1136, condition: profileMaxDims.d[i] >= dimensions.d[i]\n",
      "[TensorRT] ERROR: safeContext.cpp (184) - Cudnn Error in configure: 7 (CUDNN_STATUS_MAPPING_ERROR)\n",
      "[TensorRT] ERROR: FAILED_EXECUTION: std::exception\n",
      "[TensorRT] ERROR: Parameter check failed at: engine.cpp::setBindingDimensions::1136, condition: profileMaxDims.d[i] >= dimensions.d[i]\n",
      "[TensorRT] ERROR: safeContext.cpp (184) - Cudnn Error in configure: 7 (CUDNN_STATUS_MAPPING_ERROR)\n",
      "[TensorRT] ERROR: FAILED_EXECUTION: std::exception\n",
      "[TensorRT] ERROR: Parameter check failed at: engine.cpp::setBindingDimensions::1136, condition: profileMaxDims.d[i] >= dimensions.d[i]\n",
      "[TensorRT] ERROR: safeContext.cpp (184) - Cudnn Error in configure: 7 (CUDNN_STATUS_MAPPING_ERROR)\n",
      "[TensorRT] ERROR: FAILED_EXECUTION: std::exception\n",
      "[TensorRT] ERROR: Parameter check failed at: engine.cpp::setBindingDimensions::1136, condition: profileMaxDims.d[i] >= dimensions.d[i]\n",
      "[TensorRT] ERROR: safeContext.cpp (184) - Cudnn Error in configure: 7 (CUDNN_STATUS_MAPPING_ERROR)\n",
      "[TensorRT] ERROR: FAILED_EXECUTION: std::exception\n"
     ]
    },
    {
     "name": "stdout",
     "output_type": "stream",
     "text": [
      "Time: 0.06795144081115723\n",
      "Time: 0.06154918670654297\n",
      "Time: 0.058181047439575195\n",
      "Time: 0.050040483474731445\n",
      "Idx: 500\n"
     ]
    },
    {
     "name": "stderr",
     "output_type": "stream",
     "text": [
      "[TensorRT] ERROR: Parameter check failed at: engine.cpp::setBindingDimensions::1136, condition: profileMaxDims.d[i] >= dimensions.d[i]\n",
      "[TensorRT] ERROR: safeContext.cpp (184) - Cudnn Error in configure: 7 (CUDNN_STATUS_MAPPING_ERROR)\n",
      "[TensorRT] ERROR: FAILED_EXECUTION: std::exception\n",
      "[TensorRT] ERROR: Parameter check failed at: engine.cpp::setBindingDimensions::1136, condition: profileMaxDims.d[i] >= dimensions.d[i]\n",
      "[TensorRT] ERROR: safeContext.cpp (184) - Cudnn Error in configure: 7 (CUDNN_STATUS_MAPPING_ERROR)\n",
      "[TensorRT] ERROR: FAILED_EXECUTION: std::exception\n",
      "[TensorRT] ERROR: Parameter check failed at: engine.cpp::setBindingDimensions::1136, condition: profileMaxDims.d[i] >= dimensions.d[i]\n",
      "[TensorRT] ERROR: safeContext.cpp (184) - Cudnn Error in configure: 7 (CUDNN_STATUS_MAPPING_ERROR)\n",
      "[TensorRT] ERROR: FAILED_EXECUTION: std::exception\n",
      "[TensorRT] ERROR: Parameter check failed at: engine.cpp::setBindingDimensions::1136, condition: profileMaxDims.d[i] >= dimensions.d[i]\n",
      "[TensorRT] ERROR: safeContext.cpp (184) - Cudnn Error in configure: 7 (CUDNN_STATUS_MAPPING_ERROR)\n",
      "[TensorRT] ERROR: FAILED_EXECUTION: std::exception\n"
     ]
    },
    {
     "name": "stdout",
     "output_type": "stream",
     "text": [
      "Time: 0.05142068862915039\n",
      "Time: 0.05038309097290039\n",
      "Time: 0.061263084411621094\n",
      "Time: 0.049926042556762695\n"
     ]
    },
    {
     "name": "stderr",
     "output_type": "stream",
     "text": [
      "[TensorRT] ERROR: Parameter check failed at: engine.cpp::setBindingDimensions::1136, condition: profileMaxDims.d[i] >= dimensions.d[i]\n",
      "[TensorRT] ERROR: safeContext.cpp (184) - Cudnn Error in configure: 7 (CUDNN_STATUS_MAPPING_ERROR)\n",
      "[TensorRT] ERROR: FAILED_EXECUTION: std::exception\n",
      "[TensorRT] ERROR: Parameter check failed at: engine.cpp::setBindingDimensions::1136, condition: profileMaxDims.d[i] >= dimensions.d[i]\n",
      "[TensorRT] ERROR: safeContext.cpp (184) - Cudnn Error in configure: 7 (CUDNN_STATUS_MAPPING_ERROR)\n",
      "[TensorRT] ERROR: FAILED_EXECUTION: std::exception\n",
      "[TensorRT] ERROR: Parameter check failed at: engine.cpp::setBindingDimensions::1136, condition: profileMaxDims.d[i] >= dimensions.d[i]\n",
      "[TensorRT] ERROR: safeContext.cpp (184) - Cudnn Error in configure: 7 (CUDNN_STATUS_MAPPING_ERROR)\n",
      "[TensorRT] ERROR: FAILED_EXECUTION: std::exception\n",
      "[TensorRT] ERROR: Parameter check failed at: engine.cpp::setBindingDimensions::1136, condition: profileMaxDims.d[i] >= dimensions.d[i]\n",
      "[TensorRT] ERROR: safeContext.cpp (184) - Cudnn Error in configure: 7 (CUDNN_STATUS_MAPPING_ERROR)\n",
      "[TensorRT] ERROR: FAILED_EXECUTION: std::exception\n"
     ]
    },
    {
     "name": "stdout",
     "output_type": "stream",
     "text": [
      "Time: 0.051618099212646484\n",
      "Time: 0.050885677337646484\n",
      "Time: 0.0617671012878418\n",
      "Time: 0.05069589614868164\n"
     ]
    },
    {
     "name": "stderr",
     "output_type": "stream",
     "text": [
      "[TensorRT] ERROR: Parameter check failed at: engine.cpp::setBindingDimensions::1136, condition: profileMaxDims.d[i] >= dimensions.d[i]\n",
      "[TensorRT] ERROR: safeContext.cpp (184) - Cudnn Error in configure: 7 (CUDNN_STATUS_MAPPING_ERROR)\n",
      "[TensorRT] ERROR: FAILED_EXECUTION: std::exception\n",
      "[TensorRT] ERROR: Parameter check failed at: engine.cpp::setBindingDimensions::1136, condition: profileMaxDims.d[i] >= dimensions.d[i]\n",
      "[TensorRT] ERROR: safeContext.cpp (184) - Cudnn Error in configure: 7 (CUDNN_STATUS_MAPPING_ERROR)\n",
      "[TensorRT] ERROR: FAILED_EXECUTION: std::exception\n",
      "[TensorRT] ERROR: Parameter check failed at: engine.cpp::setBindingDimensions::1136, condition: profileMaxDims.d[i] >= dimensions.d[i]\n",
      "[TensorRT] ERROR: safeContext.cpp (184) - Cudnn Error in configure: 7 (CUDNN_STATUS_MAPPING_ERROR)\n",
      "[TensorRT] ERROR: FAILED_EXECUTION: std::exception\n",
      "[TensorRT] ERROR: Parameter check failed at: engine.cpp::setBindingDimensions::1136, condition: profileMaxDims.d[i] >= dimensions.d[i]\n",
      "[TensorRT] ERROR: safeContext.cpp (184) - Cudnn Error in configure: 7 (CUDNN_STATUS_MAPPING_ERROR)\n",
      "[TensorRT] ERROR: FAILED_EXECUTION: std::exception\n"
     ]
    },
    {
     "name": "stdout",
     "output_type": "stream",
     "text": [
      "Time: 0.05264687538146973\n",
      "Time: 0.05137300491333008\n",
      "Time: 0.052527427673339844\n",
      "Time: 0.05131268501281738\n"
     ]
    },
    {
     "name": "stderr",
     "output_type": "stream",
     "text": [
      "[TensorRT] ERROR: Parameter check failed at: engine.cpp::setBindingDimensions::1136, condition: profileMaxDims.d[i] >= dimensions.d[i]\n",
      "[TensorRT] ERROR: safeContext.cpp (184) - Cudnn Error in configure: 7 (CUDNN_STATUS_MAPPING_ERROR)\n",
      "[TensorRT] ERROR: FAILED_EXECUTION: std::exception\n",
      "[TensorRT] ERROR: Parameter check failed at: engine.cpp::setBindingDimensions::1136, condition: profileMaxDims.d[i] >= dimensions.d[i]\n",
      "[TensorRT] ERROR: safeContext.cpp (184) - Cudnn Error in configure: 7 (CUDNN_STATUS_MAPPING_ERROR)\n",
      "[TensorRT] ERROR: FAILED_EXECUTION: std::exception\n",
      "[TensorRT] ERROR: Parameter check failed at: engine.cpp::setBindingDimensions::1136, condition: profileMaxDims.d[i] >= dimensions.d[i]\n",
      "[TensorRT] ERROR: safeContext.cpp (184) - Cudnn Error in configure: 7 (CUDNN_STATUS_MAPPING_ERROR)\n",
      "[TensorRT] ERROR: FAILED_EXECUTION: std::exception\n",
      "[TensorRT] ERROR: Parameter check failed at: engine.cpp::setBindingDimensions::1136, condition: profileMaxDims.d[i] >= dimensions.d[i]\n",
      "[TensorRT] ERROR: safeContext.cpp (184) - Cudnn Error in configure: 7 (CUDNN_STATUS_MAPPING_ERROR)\n",
      "[TensorRT] ERROR: FAILED_EXECUTION: std::exception\n"
     ]
    },
    {
     "name": "stdout",
     "output_type": "stream",
     "text": [
      "Time: 0.05289959907531738\n",
      "Time: 0.06190943717956543\n",
      "Time: 0.059261322021484375\n",
      "Time: 0.05884575843811035\n"
     ]
    },
    {
     "name": "stderr",
     "output_type": "stream",
     "text": [
      "[TensorRT] ERROR: Parameter check failed at: engine.cpp::setBindingDimensions::1136, condition: profileMaxDims.d[i] >= dimensions.d[i]\n",
      "[TensorRT] ERROR: safeContext.cpp (184) - Cudnn Error in configure: 7 (CUDNN_STATUS_MAPPING_ERROR)\n",
      "[TensorRT] ERROR: FAILED_EXECUTION: std::exception\n",
      "[TensorRT] ERROR: Parameter check failed at: engine.cpp::setBindingDimensions::1136, condition: profileMaxDims.d[i] >= dimensions.d[i]\n",
      "[TensorRT] ERROR: safeContext.cpp (184) - Cudnn Error in configure: 7 (CUDNN_STATUS_MAPPING_ERROR)\n",
      "[TensorRT] ERROR: FAILED_EXECUTION: std::exception\n",
      "[TensorRT] ERROR: Parameter check failed at: engine.cpp::setBindingDimensions::1136, condition: profileMaxDims.d[i] >= dimensions.d[i]\n",
      "[TensorRT] ERROR: safeContext.cpp (184) - Cudnn Error in configure: 7 (CUDNN_STATUS_MAPPING_ERROR)\n",
      "[TensorRT] ERROR: FAILED_EXECUTION: std::exception\n",
      "[TensorRT] ERROR: Parameter check failed at: engine.cpp::setBindingDimensions::1136, condition: profileMaxDims.d[i] >= dimensions.d[i]\n",
      "[TensorRT] ERROR: safeContext.cpp (184) - Cudnn Error in configure: 7 (CUDNN_STATUS_MAPPING_ERROR)\n",
      "[TensorRT] ERROR: FAILED_EXECUTION: std::exception\n"
     ]
    },
    {
     "name": "stdout",
     "output_type": "stream",
     "text": [
      "Time: 0.05250358581542969\n",
      "Time: 0.051366329193115234\n",
      "Time: 0.05478549003601074\n",
      "Time: 0.05136752128601074\n"
     ]
    },
    {
     "name": "stderr",
     "output_type": "stream",
     "text": [
      "[TensorRT] ERROR: Parameter check failed at: engine.cpp::setBindingDimensions::1136, condition: profileMaxDims.d[i] >= dimensions.d[i]\n",
      "[TensorRT] ERROR: safeContext.cpp (184) - Cudnn Error in configure: 7 (CUDNN_STATUS_MAPPING_ERROR)\n",
      "[TensorRT] ERROR: FAILED_EXECUTION: std::exception\n",
      "[TensorRT] ERROR: Parameter check failed at: engine.cpp::setBindingDimensions::1136, condition: profileMaxDims.d[i] >= dimensions.d[i]\n",
      "[TensorRT] ERROR: safeContext.cpp (184) - Cudnn Error in configure: 7 (CUDNN_STATUS_MAPPING_ERROR)\n",
      "[TensorRT] ERROR: FAILED_EXECUTION: std::exception\n",
      "[TensorRT] ERROR: Parameter check failed at: engine.cpp::setBindingDimensions::1136, condition: profileMaxDims.d[i] >= dimensions.d[i]\n",
      "[TensorRT] ERROR: safeContext.cpp (184) - Cudnn Error in configure: 7 (CUDNN_STATUS_MAPPING_ERROR)\n",
      "[TensorRT] ERROR: FAILED_EXECUTION: std::exception\n",
      "[TensorRT] ERROR: Parameter check failed at: engine.cpp::setBindingDimensions::1136, condition: profileMaxDims.d[i] >= dimensions.d[i]\n",
      "[TensorRT] ERROR: safeContext.cpp (184) - Cudnn Error in configure: 7 (CUDNN_STATUS_MAPPING_ERROR)\n",
      "[TensorRT] ERROR: FAILED_EXECUTION: std::exception\n"
     ]
    },
    {
     "name": "stdout",
     "output_type": "stream",
     "text": [
      "Time: 0.05235028266906738\n",
      "Time: 0.05211234092712402\n",
      "Time: 0.06087517738342285\n",
      "Time: 0.051206111907958984\n"
     ]
    },
    {
     "name": "stderr",
     "output_type": "stream",
     "text": [
      "[TensorRT] ERROR: Parameter check failed at: engine.cpp::setBindingDimensions::1136, condition: profileMaxDims.d[i] >= dimensions.d[i]\n",
      "[TensorRT] ERROR: safeContext.cpp (184) - Cudnn Error in configure: 7 (CUDNN_STATUS_MAPPING_ERROR)\n",
      "[TensorRT] ERROR: FAILED_EXECUTION: std::exception\n",
      "[TensorRT] ERROR: Parameter check failed at: engine.cpp::setBindingDimensions::1136, condition: profileMaxDims.d[i] >= dimensions.d[i]\n",
      "[TensorRT] ERROR: safeContext.cpp (184) - Cudnn Error in configure: 7 (CUDNN_STATUS_MAPPING_ERROR)\n",
      "[TensorRT] ERROR: FAILED_EXECUTION: std::exception\n",
      "[TensorRT] ERROR: Parameter check failed at: engine.cpp::setBindingDimensions::1136, condition: profileMaxDims.d[i] >= dimensions.d[i]\n",
      "[TensorRT] ERROR: safeContext.cpp (184) - Cudnn Error in configure: 7 (CUDNN_STATUS_MAPPING_ERROR)\n",
      "[TensorRT] ERROR: FAILED_EXECUTION: std::exception\n",
      "[TensorRT] ERROR: Parameter check failed at: engine.cpp::setBindingDimensions::1136, condition: profileMaxDims.d[i] >= dimensions.d[i]\n",
      "[TensorRT] ERROR: safeContext.cpp (184) - Cudnn Error in configure: 7 (CUDNN_STATUS_MAPPING_ERROR)\n",
      "[TensorRT] ERROR: FAILED_EXECUTION: std::exception\n"
     ]
    },
    {
     "name": "stdout",
     "output_type": "stream",
     "text": [
      "Time: 0.052557945251464844\n",
      "Time: 0.05147504806518555\n",
      "Time: 0.05994534492492676\n",
      "Time: 0.05830740928649902\n"
     ]
    },
    {
     "name": "stderr",
     "output_type": "stream",
     "text": [
      "[TensorRT] ERROR: Parameter check failed at: engine.cpp::setBindingDimensions::1136, condition: profileMaxDims.d[i] >= dimensions.d[i]\n",
      "[TensorRT] ERROR: safeContext.cpp (184) - Cudnn Error in configure: 7 (CUDNN_STATUS_MAPPING_ERROR)\n",
      "[TensorRT] ERROR: FAILED_EXECUTION: std::exception\n",
      "[TensorRT] ERROR: Parameter check failed at: engine.cpp::setBindingDimensions::1136, condition: profileMaxDims.d[i] >= dimensions.d[i]\n",
      "[TensorRT] ERROR: safeContext.cpp (184) - Cudnn Error in configure: 7 (CUDNN_STATUS_MAPPING_ERROR)\n",
      "[TensorRT] ERROR: FAILED_EXECUTION: std::exception\n",
      "[TensorRT] ERROR: Parameter check failed at: engine.cpp::setBindingDimensions::1136, condition: profileMaxDims.d[i] >= dimensions.d[i]\n",
      "[TensorRT] ERROR: safeContext.cpp (184) - Cudnn Error in configure: 7 (CUDNN_STATUS_MAPPING_ERROR)\n",
      "[TensorRT] ERROR: FAILED_EXECUTION: std::exception\n"
     ]
    },
    {
     "name": "stdout",
     "output_type": "stream",
     "text": [
      "Time: 0.05877971649169922\n",
      "Time: 0.0550999641418457\n",
      "Time: 0.08590245246887207\n"
     ]
    },
    {
     "name": "stderr",
     "output_type": "stream",
     "text": [
      "[TensorRT] ERROR: Parameter check failed at: engine.cpp::setBindingDimensions::1136, condition: profileMaxDims.d[i] >= dimensions.d[i]\n",
      "[TensorRT] ERROR: safeContext.cpp (184) - Cudnn Error in configure: 7 (CUDNN_STATUS_MAPPING_ERROR)\n",
      "[TensorRT] ERROR: FAILED_EXECUTION: std::exception\n",
      "[TensorRT] ERROR: Parameter check failed at: engine.cpp::setBindingDimensions::1136, condition: profileMaxDims.d[i] >= dimensions.d[i]\n",
      "[TensorRT] ERROR: safeContext.cpp (184) - Cudnn Error in configure: 7 (CUDNN_STATUS_MAPPING_ERROR)\n",
      "[TensorRT] ERROR: FAILED_EXECUTION: std::exception\n",
      "[TensorRT] ERROR: Parameter check failed at: engine.cpp::setBindingDimensions::1136, condition: profileMaxDims.d[i] >= dimensions.d[i]\n",
      "[TensorRT] ERROR: safeContext.cpp (184) - Cudnn Error in configure: 7 (CUDNN_STATUS_MAPPING_ERROR)\n",
      "[TensorRT] ERROR: FAILED_EXECUTION: std::exception\n"
     ]
    },
    {
     "name": "stdout",
     "output_type": "stream",
     "text": [
      "Time: 0.10216808319091797\n",
      "Time: 0.07258391380310059\n",
      "Time: 0.08509206771850586\n"
     ]
    },
    {
     "name": "stderr",
     "output_type": "stream",
     "text": [
      "[TensorRT] ERROR: Parameter check failed at: engine.cpp::setBindingDimensions::1136, condition: profileMaxDims.d[i] >= dimensions.d[i]\n",
      "[TensorRT] ERROR: safeContext.cpp (184) - Cudnn Error in configure: 7 (CUDNN_STATUS_MAPPING_ERROR)\n",
      "[TensorRT] ERROR: FAILED_EXECUTION: std::exception\n",
      "[TensorRT] ERROR: Parameter check failed at: engine.cpp::setBindingDimensions::1136, condition: profileMaxDims.d[i] >= dimensions.d[i]\n",
      "[TensorRT] ERROR: safeContext.cpp (184) - Cudnn Error in configure: 7 (CUDNN_STATUS_MAPPING_ERROR)\n",
      "[TensorRT] ERROR: FAILED_EXECUTION: std::exception\n",
      "[TensorRT] ERROR: Parameter check failed at: engine.cpp::setBindingDimensions::1136, condition: profileMaxDims.d[i] >= dimensions.d[i]\n",
      "[TensorRT] ERROR: safeContext.cpp (184) - Cudnn Error in configure: 7 (CUDNN_STATUS_MAPPING_ERROR)\n",
      "[TensorRT] ERROR: FAILED_EXECUTION: std::exception\n",
      "[TensorRT] ERROR: Parameter check failed at: engine.cpp::setBindingDimensions::1136, condition: profileMaxDims.d[i] >= dimensions.d[i]\n",
      "[TensorRT] ERROR: safeContext.cpp (184) - Cudnn Error in configure: 7 (CUDNN_STATUS_MAPPING_ERROR)\n",
      "[TensorRT] ERROR: FAILED_EXECUTION: std::exception\n"
     ]
    },
    {
     "name": "stdout",
     "output_type": "stream",
     "text": [
      "Time: 0.06152176856994629\n",
      "Time: 0.07520437240600586\n",
      "Time: 0.06637144088745117\n",
      "Time: 0.05370140075683594\n",
      "Time: 0.05316042900085449\n",
      "Time: 0.0645897388458252\n",
      "Time: 0.06280803680419922\n"
     ]
    },
    {
     "name": "stderr",
     "output_type": "stream",
     "text": [
      "[TensorRT] ERROR: Parameter check failed at: engine.cpp::setBindingDimensions::1136, condition: profileMaxDims.d[i] >= dimensions.d[i]\n",
      "[TensorRT] ERROR: safeContext.cpp (184) - Cudnn Error in configure: 7 (CUDNN_STATUS_MAPPING_ERROR)\n",
      "[TensorRT] ERROR: FAILED_EXECUTION: std::exception\n",
      "[TensorRT] ERROR: Parameter check failed at: engine.cpp::setBindingDimensions::1136, condition: profileMaxDims.d[i] >= dimensions.d[i]\n",
      "[TensorRT] ERROR: safeContext.cpp (184) - Cudnn Error in configure: 7 (CUDNN_STATUS_MAPPING_ERROR)\n",
      "[TensorRT] ERROR: FAILED_EXECUTION: std::exception\n",
      "[TensorRT] ERROR: Parameter check failed at: engine.cpp::setBindingDimensions::1136, condition: profileMaxDims.d[i] >= dimensions.d[i]\n",
      "[TensorRT] ERROR: safeContext.cpp (184) - Cudnn Error in configure: 7 (CUDNN_STATUS_MAPPING_ERROR)\n",
      "[TensorRT] ERROR: FAILED_EXECUTION: std::exception\n",
      "[TensorRT] ERROR: Parameter check failed at: engine.cpp::setBindingDimensions::1136, condition: profileMaxDims.d[i] >= dimensions.d[i]\n",
      "[TensorRT] ERROR: safeContext.cpp (184) - Cudnn Error in configure: 7 (CUDNN_STATUS_MAPPING_ERROR)\n",
      "[TensorRT] ERROR: FAILED_EXECUTION: std::exception\n"
     ]
    },
    {
     "name": "stdout",
     "output_type": "stream",
     "text": [
      "Time: 0.0667731761932373\n",
      "Time: 0.06582808494567871\n",
      "Time: 0.06622910499572754\n",
      "Time: 0.04730033874511719\n"
     ]
    },
    {
     "name": "stderr",
     "output_type": "stream",
     "text": [
      "[TensorRT] ERROR: Parameter check failed at: engine.cpp::setBindingDimensions::1136, condition: profileMaxDims.d[i] >= dimensions.d[i]\n",
      "[TensorRT] ERROR: safeContext.cpp (184) - Cudnn Error in configure: 7 (CUDNN_STATUS_MAPPING_ERROR)\n",
      "[TensorRT] ERROR: FAILED_EXECUTION: std::exception\n",
      "[TensorRT] ERROR: Parameter check failed at: engine.cpp::setBindingDimensions::1136, condition: profileMaxDims.d[i] >= dimensions.d[i]\n",
      "[TensorRT] ERROR: safeContext.cpp (184) - Cudnn Error in configure: 7 (CUDNN_STATUS_MAPPING_ERROR)\n",
      "[TensorRT] ERROR: FAILED_EXECUTION: std::exception\n",
      "[TensorRT] ERROR: Parameter check failed at: engine.cpp::setBindingDimensions::1136, condition: profileMaxDims.d[i] >= dimensions.d[i]\n",
      "[TensorRT] ERROR: safeContext.cpp (184) - Cudnn Error in configure: 7 (CUDNN_STATUS_MAPPING_ERROR)\n",
      "[TensorRT] ERROR: FAILED_EXECUTION: std::exception\n",
      "[TensorRT] ERROR: Parameter check failed at: engine.cpp::setBindingDimensions::1136, condition: profileMaxDims.d[i] >= dimensions.d[i]\n",
      "[TensorRT] ERROR: safeContext.cpp (184) - Cudnn Error in configure: 7 (CUDNN_STATUS_MAPPING_ERROR)\n",
      "[TensorRT] ERROR: FAILED_EXECUTION: std::exception\n"
     ]
    },
    {
     "name": "stdout",
     "output_type": "stream",
     "text": [
      "Time: 0.050122737884521484\n",
      "Time: 0.049202680587768555\n",
      "Time: 0.051194190979003906\n",
      "Time: 0.06883811950683594\n"
     ]
    },
    {
     "name": "stderr",
     "output_type": "stream",
     "text": [
      "[TensorRT] ERROR: Parameter check failed at: engine.cpp::setBindingDimensions::1136, condition: profileMaxDims.d[i] >= dimensions.d[i]\n",
      "[TensorRT] ERROR: safeContext.cpp (184) - Cudnn Error in configure: 7 (CUDNN_STATUS_MAPPING_ERROR)\n",
      "[TensorRT] ERROR: FAILED_EXECUTION: std::exception\n",
      "[TensorRT] ERROR: Parameter check failed at: engine.cpp::setBindingDimensions::1136, condition: profileMaxDims.d[i] >= dimensions.d[i]\n",
      "[TensorRT] ERROR: safeContext.cpp (184) - Cudnn Error in configure: 7 (CUDNN_STATUS_MAPPING_ERROR)\n",
      "[TensorRT] ERROR: FAILED_EXECUTION: std::exception\n",
      "[TensorRT] ERROR: Parameter check failed at: engine.cpp::setBindingDimensions::1136, condition: profileMaxDims.d[i] >= dimensions.d[i]\n",
      "[TensorRT] ERROR: safeContext.cpp (184) - Cudnn Error in configure: 7 (CUDNN_STATUS_MAPPING_ERROR)\n",
      "[TensorRT] ERROR: FAILED_EXECUTION: std::exception\n",
      "[TensorRT] ERROR: Parameter check failed at: engine.cpp::setBindingDimensions::1136, condition: profileMaxDims.d[i] >= dimensions.d[i]\n",
      "[TensorRT] ERROR: safeContext.cpp (184) - Cudnn Error in configure: 7 (CUDNN_STATUS_MAPPING_ERROR)\n",
      "[TensorRT] ERROR: FAILED_EXECUTION: std::exception\n"
     ]
    },
    {
     "name": "stdout",
     "output_type": "stream",
     "text": [
      "Time: 0.05333065986633301\n",
      "Time: 0.052877187728881836\n",
      "Time: 0.05417656898498535\n",
      "Time: 0.058798789978027344\n"
     ]
    },
    {
     "name": "stderr",
     "output_type": "stream",
     "text": [
      "[TensorRT] ERROR: Parameter check failed at: engine.cpp::setBindingDimensions::1136, condition: profileMaxDims.d[i] >= dimensions.d[i]\n",
      "[TensorRT] ERROR: safeContext.cpp (184) - Cudnn Error in configure: 7 (CUDNN_STATUS_MAPPING_ERROR)\n",
      "[TensorRT] ERROR: FAILED_EXECUTION: std::exception\n",
      "[TensorRT] ERROR: Parameter check failed at: engine.cpp::setBindingDimensions::1136, condition: profileMaxDims.d[i] >= dimensions.d[i]\n",
      "[TensorRT] ERROR: safeContext.cpp (184) - Cudnn Error in configure: 7 (CUDNN_STATUS_MAPPING_ERROR)\n",
      "[TensorRT] ERROR: FAILED_EXECUTION: std::exception\n",
      "[TensorRT] ERROR: Parameter check failed at: engine.cpp::setBindingDimensions::1136, condition: profileMaxDims.d[i] >= dimensions.d[i]\n",
      "[TensorRT] ERROR: safeContext.cpp (184) - Cudnn Error in configure: 7 (CUDNN_STATUS_MAPPING_ERROR)\n",
      "[TensorRT] ERROR: FAILED_EXECUTION: std::exception\n",
      "[TensorRT] ERROR: Parameter check failed at: engine.cpp::setBindingDimensions::1136, condition: profileMaxDims.d[i] >= dimensions.d[i]\n",
      "[TensorRT] ERROR: safeContext.cpp (184) - Cudnn Error in configure: 7 (CUDNN_STATUS_MAPPING_ERROR)\n",
      "[TensorRT] ERROR: FAILED_EXECUTION: std::exception\n"
     ]
    },
    {
     "name": "stdout",
     "output_type": "stream",
     "text": [
      "Time: 0.053551673889160156\n",
      "Time: 0.05507612228393555\n",
      "Time: 0.0590519905090332\n",
      "Time: 0.053191184997558594\n"
     ]
    },
    {
     "name": "stderr",
     "output_type": "stream",
     "text": [
      "[TensorRT] ERROR: Parameter check failed at: engine.cpp::setBindingDimensions::1136, condition: profileMaxDims.d[i] >= dimensions.d[i]\n",
      "[TensorRT] ERROR: safeContext.cpp (184) - Cudnn Error in configure: 7 (CUDNN_STATUS_MAPPING_ERROR)\n",
      "[TensorRT] ERROR: FAILED_EXECUTION: std::exception\n",
      "[TensorRT] ERROR: Parameter check failed at: engine.cpp::setBindingDimensions::1136, condition: profileMaxDims.d[i] >= dimensions.d[i]\n",
      "[TensorRT] ERROR: safeContext.cpp (184) - Cudnn Error in configure: 7 (CUDNN_STATUS_MAPPING_ERROR)\n",
      "[TensorRT] ERROR: FAILED_EXECUTION: std::exception\n",
      "[TensorRT] ERROR: Parameter check failed at: engine.cpp::setBindingDimensions::1136, condition: profileMaxDims.d[i] >= dimensions.d[i]\n",
      "[TensorRT] ERROR: safeContext.cpp (184) - Cudnn Error in configure: 7 (CUDNN_STATUS_MAPPING_ERROR)\n",
      "[TensorRT] ERROR: FAILED_EXECUTION: std::exception\n",
      "[TensorRT] ERROR: Parameter check failed at: engine.cpp::setBindingDimensions::1136, condition: profileMaxDims.d[i] >= dimensions.d[i]\n",
      "[TensorRT] ERROR: safeContext.cpp (184) - Cudnn Error in configure: 7 (CUDNN_STATUS_MAPPING_ERROR)\n",
      "[TensorRT] ERROR: FAILED_EXECUTION: std::exception\n"
     ]
    },
    {
     "name": "stdout",
     "output_type": "stream",
     "text": [
      "Time: 0.06327962875366211\n",
      "Time: 0.08112215995788574\n",
      "Time: 0.0847175121307373\n"
     ]
    },
    {
     "name": "stderr",
     "output_type": "stream",
     "text": [
      "[TensorRT] ERROR: Parameter check failed at: engine.cpp::setBindingDimensions::1136, condition: profileMaxDims.d[i] >= dimensions.d[i]\n",
      "[TensorRT] ERROR: safeContext.cpp (184) - Cudnn Error in configure: 7 (CUDNN_STATUS_MAPPING_ERROR)\n",
      "[TensorRT] ERROR: FAILED_EXECUTION: std::exception\n",
      "[TensorRT] ERROR: Parameter check failed at: engine.cpp::setBindingDimensions::1136, condition: profileMaxDims.d[i] >= dimensions.d[i]\n",
      "[TensorRT] ERROR: safeContext.cpp (184) - Cudnn Error in configure: 7 (CUDNN_STATUS_MAPPING_ERROR)\n",
      "[TensorRT] ERROR: FAILED_EXECUTION: std::exception\n",
      "[TensorRT] ERROR: Parameter check failed at: engine.cpp::setBindingDimensions::1136, condition: profileMaxDims.d[i] >= dimensions.d[i]\n",
      "[TensorRT] ERROR: safeContext.cpp (184) - Cudnn Error in configure: 7 (CUDNN_STATUS_MAPPING_ERROR)\n",
      "[TensorRT] ERROR: FAILED_EXECUTION: std::exception\n"
     ]
    },
    {
     "name": "stdout",
     "output_type": "stream",
     "text": [
      "Time: 0.06149125099182129\n",
      "Time: 0.057358741760253906\n",
      "Time: 0.04897165298461914\n",
      "Time: 0.04588031768798828\n"
     ]
    },
    {
     "name": "stderr",
     "output_type": "stream",
     "text": [
      "[TensorRT] ERROR: Parameter check failed at: engine.cpp::setBindingDimensions::1136, condition: profileMaxDims.d[i] >= dimensions.d[i]\n",
      "[TensorRT] ERROR: safeContext.cpp (184) - Cudnn Error in configure: 7 (CUDNN_STATUS_MAPPING_ERROR)\n",
      "[TensorRT] ERROR: FAILED_EXECUTION: std::exception\n",
      "[TensorRT] ERROR: Parameter check failed at: engine.cpp::setBindingDimensions::1136, condition: profileMaxDims.d[i] >= dimensions.d[i]\n",
      "[TensorRT] ERROR: safeContext.cpp (184) - Cudnn Error in configure: 7 (CUDNN_STATUS_MAPPING_ERROR)\n",
      "[TensorRT] ERROR: FAILED_EXECUTION: std::exception\n",
      "[TensorRT] ERROR: Parameter check failed at: engine.cpp::setBindingDimensions::1136, condition: profileMaxDims.d[i] >= dimensions.d[i]\n",
      "[TensorRT] ERROR: safeContext.cpp (184) - Cudnn Error in configure: 7 (CUDNN_STATUS_MAPPING_ERROR)\n",
      "[TensorRT] ERROR: FAILED_EXECUTION: std::exception\n",
      "[TensorRT] ERROR: Parameter check failed at: engine.cpp::setBindingDimensions::1136, condition: profileMaxDims.d[i] >= dimensions.d[i]\n",
      "[TensorRT] ERROR: safeContext.cpp (184) - Cudnn Error in configure: 7 (CUDNN_STATUS_MAPPING_ERROR)\n",
      "[TensorRT] ERROR: FAILED_EXECUTION: std::exception\n"
     ]
    },
    {
     "name": "stdout",
     "output_type": "stream",
     "text": [
      "Time: 0.04584860801696777\n",
      "Time: 0.06200218200683594\n",
      "Time: 0.048538923263549805\n",
      "Time: 0.06617498397827148\n"
     ]
    },
    {
     "name": "stderr",
     "output_type": "stream",
     "text": [
      "[TensorRT] ERROR: Parameter check failed at: engine.cpp::setBindingDimensions::1136, condition: profileMaxDims.d[i] >= dimensions.d[i]\n",
      "[TensorRT] ERROR: safeContext.cpp (184) - Cudnn Error in configure: 7 (CUDNN_STATUS_MAPPING_ERROR)\n",
      "[TensorRT] ERROR: FAILED_EXECUTION: std::exception\n",
      "[TensorRT] ERROR: Parameter check failed at: engine.cpp::setBindingDimensions::1136, condition: profileMaxDims.d[i] >= dimensions.d[i]\n",
      "[TensorRT] ERROR: safeContext.cpp (184) - Cudnn Error in configure: 7 (CUDNN_STATUS_MAPPING_ERROR)\n",
      "[TensorRT] ERROR: FAILED_EXECUTION: std::exception\n",
      "[TensorRT] ERROR: Parameter check failed at: engine.cpp::setBindingDimensions::1136, condition: profileMaxDims.d[i] >= dimensions.d[i]\n",
      "[TensorRT] ERROR: safeContext.cpp (184) - Cudnn Error in configure: 7 (CUDNN_STATUS_MAPPING_ERROR)\n",
      "[TensorRT] ERROR: FAILED_EXECUTION: std::exception\n",
      "[TensorRT] ERROR: Parameter check failed at: engine.cpp::setBindingDimensions::1136, condition: profileMaxDims.d[i] >= dimensions.d[i]\n",
      "[TensorRT] ERROR: safeContext.cpp (184) - Cudnn Error in configure: 7 (CUDNN_STATUS_MAPPING_ERROR)\n",
      "[TensorRT] ERROR: FAILED_EXECUTION: std::exception\n"
     ]
    },
    {
     "name": "stdout",
     "output_type": "stream",
     "text": [
      "Time: 0.05695343017578125\n",
      "Time: 0.05572938919067383\n",
      "Time: 0.05418038368225098\n",
      "Time: 0.07179760932922363\n"
     ]
    },
    {
     "name": "stderr",
     "output_type": "stream",
     "text": [
      "[TensorRT] ERROR: Parameter check failed at: engine.cpp::setBindingDimensions::1136, condition: profileMaxDims.d[i] >= dimensions.d[i]\n",
      "[TensorRT] ERROR: safeContext.cpp (184) - Cudnn Error in configure: 7 (CUDNN_STATUS_MAPPING_ERROR)\n",
      "[TensorRT] ERROR: FAILED_EXECUTION: std::exception\n",
      "[TensorRT] ERROR: Parameter check failed at: engine.cpp::setBindingDimensions::1136, condition: profileMaxDims.d[i] >= dimensions.d[i]\n",
      "[TensorRT] ERROR: safeContext.cpp (184) - Cudnn Error in configure: 7 (CUDNN_STATUS_MAPPING_ERROR)\n",
      "[TensorRT] ERROR: FAILED_EXECUTION: std::exception\n",
      "[TensorRT] ERROR: Parameter check failed at: engine.cpp::setBindingDimensions::1136, condition: profileMaxDims.d[i] >= dimensions.d[i]\n",
      "[TensorRT] ERROR: safeContext.cpp (184) - Cudnn Error in configure: 7 (CUDNN_STATUS_MAPPING_ERROR)\n",
      "[TensorRT] ERROR: FAILED_EXECUTION: std::exception\n",
      "[TensorRT] ERROR: Parameter check failed at: engine.cpp::setBindingDimensions::1136, condition: profileMaxDims.d[i] >= dimensions.d[i]\n",
      "[TensorRT] ERROR: safeContext.cpp (184) - Cudnn Error in configure: 7 (CUDNN_STATUS_MAPPING_ERROR)\n",
      "[TensorRT] ERROR: FAILED_EXECUTION: std::exception\n",
      "[TensorRT] ERROR: Parameter check failed at: engine.cpp::setBindingDimensions::1136, condition: profileMaxDims.d[i] >= dimensions.d[i]\n",
      "[TensorRT] ERROR: safeContext.cpp (184) - Cudnn Error in configure: 7 (CUDNN_STATUS_MAPPING_ERROR)\n",
      "[TensorRT] ERROR: FAILED_EXECUTION: std::exception\n",
      "[TensorRT] ERROR: Parameter check failed at: engine.cpp::setBindingDimensions::1136, condition: profileMaxDims.d[i] >= dimensions.d[i]\n",
      "[TensorRT] ERROR: safeContext.cpp (184) - Cudnn Error in configure: 7 (CUDNN_STATUS_MAPPING_ERROR)\n",
      "[TensorRT] ERROR: FAILED_EXECUTION: std::exception\n"
     ]
    },
    {
     "name": "stdout",
     "output_type": "stream",
     "text": [
      "Time: 0.1210017204284668\n",
      "Time: 0.07577347755432129\n",
      "Time: 0.07855916023254395\n"
     ]
    },
    {
     "name": "stderr",
     "output_type": "stream",
     "text": [
      "[TensorRT] ERROR: Parameter check failed at: engine.cpp::setBindingDimensions::1136, condition: profileMaxDims.d[i] >= dimensions.d[i]\n",
      "[TensorRT] ERROR: safeContext.cpp (184) - Cudnn Error in configure: 7 (CUDNN_STATUS_MAPPING_ERROR)\n",
      "[TensorRT] ERROR: FAILED_EXECUTION: std::exception\n",
      "[TensorRT] ERROR: Parameter check failed at: engine.cpp::setBindingDimensions::1136, condition: profileMaxDims.d[i] >= dimensions.d[i]\n",
      "[TensorRT] ERROR: safeContext.cpp (184) - Cudnn Error in configure: 7 (CUDNN_STATUS_MAPPING_ERROR)\n",
      "[TensorRT] ERROR: FAILED_EXECUTION: std::exception\n",
      "[TensorRT] ERROR: Parameter check failed at: engine.cpp::setBindingDimensions::1136, condition: profileMaxDims.d[i] >= dimensions.d[i]\n",
      "[TensorRT] ERROR: safeContext.cpp (184) - Cudnn Error in configure: 7 (CUDNN_STATUS_MAPPING_ERROR)\n",
      "[TensorRT] ERROR: FAILED_EXECUTION: std::exception\n"
     ]
    },
    {
     "name": "stdout",
     "output_type": "stream",
     "text": [
      "Time: 0.09071564674377441\n",
      "Time: 0.05422854423522949\n",
      "Time: 0.08807635307312012\n"
     ]
    },
    {
     "name": "stderr",
     "output_type": "stream",
     "text": [
      "[TensorRT] ERROR: Parameter check failed at: engine.cpp::setBindingDimensions::1136, condition: profileMaxDims.d[i] >= dimensions.d[i]\n",
      "[TensorRT] ERROR: safeContext.cpp (184) - Cudnn Error in configure: 7 (CUDNN_STATUS_MAPPING_ERROR)\n",
      "[TensorRT] ERROR: FAILED_EXECUTION: std::exception\n",
      "[TensorRT] ERROR: Parameter check failed at: engine.cpp::setBindingDimensions::1136, condition: profileMaxDims.d[i] >= dimensions.d[i]\n",
      "[TensorRT] ERROR: safeContext.cpp (184) - Cudnn Error in configure: 7 (CUDNN_STATUS_MAPPING_ERROR)\n",
      "[TensorRT] ERROR: FAILED_EXECUTION: std::exception\n",
      "[TensorRT] ERROR: Parameter check failed at: engine.cpp::setBindingDimensions::1136, condition: profileMaxDims.d[i] >= dimensions.d[i]\n",
      "[TensorRT] ERROR: safeContext.cpp (184) - Cudnn Error in configure: 7 (CUDNN_STATUS_MAPPING_ERROR)\n",
      "[TensorRT] ERROR: FAILED_EXECUTION: std::exception\n"
     ]
    },
    {
     "name": "stdout",
     "output_type": "stream",
     "text": [
      "Time: 0.03954148292541504\n",
      "Time: 0.05810546875\n",
      "Time: 0.05890083312988281\n"
     ]
    },
    {
     "name": "stderr",
     "output_type": "stream",
     "text": [
      "[TensorRT] ERROR: Parameter check failed at: engine.cpp::setBindingDimensions::1136, condition: profileMaxDims.d[i] >= dimensions.d[i]\n",
      "[TensorRT] ERROR: safeContext.cpp (184) - Cudnn Error in configure: 7 (CUDNN_STATUS_MAPPING_ERROR)\n",
      "[TensorRT] ERROR: FAILED_EXECUTION: std::exception\n",
      "[TensorRT] ERROR: Parameter check failed at: engine.cpp::setBindingDimensions::1136, condition: profileMaxDims.d[i] >= dimensions.d[i]\n",
      "[TensorRT] ERROR: safeContext.cpp (184) - Cudnn Error in configure: 7 (CUDNN_STATUS_MAPPING_ERROR)\n",
      "[TensorRT] ERROR: FAILED_EXECUTION: std::exception\n",
      "[TensorRT] ERROR: Parameter check failed at: engine.cpp::setBindingDimensions::1136, condition: profileMaxDims.d[i] >= dimensions.d[i]\n",
      "[TensorRT] ERROR: safeContext.cpp (184) - Cudnn Error in configure: 7 (CUDNN_STATUS_MAPPING_ERROR)\n",
      "[TensorRT] ERROR: FAILED_EXECUTION: std::exception\n",
      "[TensorRT] ERROR: Parameter check failed at: engine.cpp::setBindingDimensions::1136, condition: profileMaxDims.d[i] >= dimensions.d[i]\n",
      "[TensorRT] ERROR: safeContext.cpp (184) - Cudnn Error in configure: 7 (CUDNN_STATUS_MAPPING_ERROR)\n",
      "[TensorRT] ERROR: FAILED_EXECUTION: std::exception\n"
     ]
    },
    {
     "name": "stdout",
     "output_type": "stream",
     "text": [
      "Time: 0.0768885612487793\n",
      "Time: 0.05614972114562988\n",
      "Time: 0.05880141258239746\n",
      "Time: 0.05783438682556152\n"
     ]
    },
    {
     "name": "stderr",
     "output_type": "stream",
     "text": [
      "[TensorRT] ERROR: Parameter check failed at: engine.cpp::setBindingDimensions::1136, condition: profileMaxDims.d[i] >= dimensions.d[i]\n",
      "[TensorRT] ERROR: safeContext.cpp (184) - Cudnn Error in configure: 7 (CUDNN_STATUS_MAPPING_ERROR)\n",
      "[TensorRT] ERROR: FAILED_EXECUTION: std::exception\n",
      "[TensorRT] ERROR: Parameter check failed at: engine.cpp::setBindingDimensions::1136, condition: profileMaxDims.d[i] >= dimensions.d[i]\n",
      "[TensorRT] ERROR: safeContext.cpp (184) - Cudnn Error in configure: 7 (CUDNN_STATUS_MAPPING_ERROR)\n",
      "[TensorRT] ERROR: FAILED_EXECUTION: std::exception\n",
      "[TensorRT] ERROR: Parameter check failed at: engine.cpp::setBindingDimensions::1136, condition: profileMaxDims.d[i] >= dimensions.d[i]\n",
      "[TensorRT] ERROR: safeContext.cpp (184) - Cudnn Error in configure: 7 (CUDNN_STATUS_MAPPING_ERROR)\n",
      "[TensorRT] ERROR: FAILED_EXECUTION: std::exception\n"
     ]
    },
    {
     "name": "stdout",
     "output_type": "stream",
     "text": [
      "Time: 0.06002068519592285\n",
      "Time: 0.058284759521484375\n",
      "Time: 0.10482931137084961\n"
     ]
    },
    {
     "name": "stderr",
     "output_type": "stream",
     "text": [
      "[TensorRT] ERROR: Parameter check failed at: engine.cpp::setBindingDimensions::1136, condition: profileMaxDims.d[i] >= dimensions.d[i]\n",
      "[TensorRT] ERROR: safeContext.cpp (184) - Cudnn Error in configure: 7 (CUDNN_STATUS_MAPPING_ERROR)\n",
      "[TensorRT] ERROR: FAILED_EXECUTION: std::exception\n",
      "[TensorRT] ERROR: Parameter check failed at: engine.cpp::setBindingDimensions::1136, condition: profileMaxDims.d[i] >= dimensions.d[i]\n",
      "[TensorRT] ERROR: safeContext.cpp (184) - Cudnn Error in configure: 7 (CUDNN_STATUS_MAPPING_ERROR)\n",
      "[TensorRT] ERROR: FAILED_EXECUTION: std::exception\n",
      "[TensorRT] ERROR: Parameter check failed at: engine.cpp::setBindingDimensions::1136, condition: profileMaxDims.d[i] >= dimensions.d[i]\n",
      "[TensorRT] ERROR: safeContext.cpp (184) - Cudnn Error in configure: 7 (CUDNN_STATUS_MAPPING_ERROR)\n",
      "[TensorRT] ERROR: FAILED_EXECUTION: std::exception\n"
     ]
    },
    {
     "name": "stdout",
     "output_type": "stream",
     "text": [
      "Time: 0.06140875816345215\n",
      "Time: 0.0545809268951416\n",
      "Time: 0.06556344032287598\n"
     ]
    },
    {
     "name": "stderr",
     "output_type": "stream",
     "text": [
      "[TensorRT] ERROR: Parameter check failed at: engine.cpp::setBindingDimensions::1136, condition: profileMaxDims.d[i] >= dimensions.d[i]\n",
      "[TensorRT] ERROR: safeContext.cpp (184) - Cudnn Error in configure: 7 (CUDNN_STATUS_MAPPING_ERROR)\n",
      "[TensorRT] ERROR: FAILED_EXECUTION: std::exception\n",
      "[TensorRT] ERROR: Parameter check failed at: engine.cpp::setBindingDimensions::1136, condition: profileMaxDims.d[i] >= dimensions.d[i]\n",
      "[TensorRT] ERROR: safeContext.cpp (184) - Cudnn Error in configure: 7 (CUDNN_STATUS_MAPPING_ERROR)\n",
      "[TensorRT] ERROR: FAILED_EXECUTION: std::exception\n",
      "[TensorRT] ERROR: Parameter check failed at: engine.cpp::setBindingDimensions::1136, condition: profileMaxDims.d[i] >= dimensions.d[i]\n",
      "[TensorRT] ERROR: safeContext.cpp (184) - Cudnn Error in configure: 7 (CUDNN_STATUS_MAPPING_ERROR)\n",
      "[TensorRT] ERROR: FAILED_EXECUTION: std::exception\n",
      "[TensorRT] ERROR: Parameter check failed at: engine.cpp::setBindingDimensions::1136, condition: profileMaxDims.d[i] >= dimensions.d[i]\n",
      "[TensorRT] ERROR: safeContext.cpp (184) - Cudnn Error in configure: 7 (CUDNN_STATUS_MAPPING_ERROR)\n",
      "[TensorRT] ERROR: FAILED_EXECUTION: std::exception\n"
     ]
    },
    {
     "name": "stdout",
     "output_type": "stream",
     "text": [
      "Time: 0.060034990310668945\n",
      "Time: 0.05212974548339844\n",
      "Time: 0.05752730369567871\n",
      "Time: 0.06886625289916992\n"
     ]
    },
    {
     "name": "stderr",
     "output_type": "stream",
     "text": [
      "[TensorRT] ERROR: Parameter check failed at: engine.cpp::setBindingDimensions::1136, condition: profileMaxDims.d[i] >= dimensions.d[i]\n",
      "[TensorRT] ERROR: safeContext.cpp (184) - Cudnn Error in configure: 7 (CUDNN_STATUS_MAPPING_ERROR)\n",
      "[TensorRT] ERROR: FAILED_EXECUTION: std::exception\n",
      "[TensorRT] ERROR: Parameter check failed at: engine.cpp::setBindingDimensions::1136, condition: profileMaxDims.d[i] >= dimensions.d[i]\n",
      "[TensorRT] ERROR: safeContext.cpp (184) - Cudnn Error in configure: 7 (CUDNN_STATUS_MAPPING_ERROR)\n",
      "[TensorRT] ERROR: FAILED_EXECUTION: std::exception\n",
      "[TensorRT] ERROR: Parameter check failed at: engine.cpp::setBindingDimensions::1136, condition: profileMaxDims.d[i] >= dimensions.d[i]\n",
      "[TensorRT] ERROR: safeContext.cpp (184) - Cudnn Error in configure: 7 (CUDNN_STATUS_MAPPING_ERROR)\n",
      "[TensorRT] ERROR: FAILED_EXECUTION: std::exception\n"
     ]
    },
    {
     "name": "stdout",
     "output_type": "stream",
     "text": [
      "Time: 0.10864830017089844\n",
      "Time: 0.08032059669494629\n",
      "Time: 0.0883171558380127\n"
     ]
    },
    {
     "name": "stderr",
     "output_type": "stream",
     "text": [
      "[TensorRT] ERROR: Parameter check failed at: engine.cpp::setBindingDimensions::1136, condition: profileMaxDims.d[i] >= dimensions.d[i]\n",
      "[TensorRT] ERROR: safeContext.cpp (184) - Cudnn Error in configure: 7 (CUDNN_STATUS_MAPPING_ERROR)\n",
      "[TensorRT] ERROR: FAILED_EXECUTION: std::exception\n",
      "[TensorRT] ERROR: Parameter check failed at: engine.cpp::setBindingDimensions::1136, condition: profileMaxDims.d[i] >= dimensions.d[i]\n",
      "[TensorRT] ERROR: safeContext.cpp (184) - Cudnn Error in configure: 7 (CUDNN_STATUS_MAPPING_ERROR)\n",
      "[TensorRT] ERROR: FAILED_EXECUTION: std::exception\n"
     ]
    },
    {
     "name": "stdout",
     "output_type": "stream",
     "text": [
      "Time: 0.08752894401550293\n",
      "Time: 0.0776209831237793\n",
      "Idx: 600\n"
     ]
    },
    {
     "name": "stderr",
     "output_type": "stream",
     "text": [
      "[TensorRT] ERROR: Parameter check failed at: engine.cpp::setBindingDimensions::1136, condition: profileMaxDims.d[i] >= dimensions.d[i]\n",
      "[TensorRT] ERROR: safeContext.cpp (184) - Cudnn Error in configure: 7 (CUDNN_STATUS_MAPPING_ERROR)\n",
      "[TensorRT] ERROR: FAILED_EXECUTION: std::exception\n",
      "[TensorRT] ERROR: Parameter check failed at: engine.cpp::setBindingDimensions::1136, condition: profileMaxDims.d[i] >= dimensions.d[i]\n",
      "[TensorRT] ERROR: safeContext.cpp (184) - Cudnn Error in configure: 7 (CUDNN_STATUS_MAPPING_ERROR)\n",
      "[TensorRT] ERROR: FAILED_EXECUTION: std::exception\n",
      "[TensorRT] ERROR: Parameter check failed at: engine.cpp::setBindingDimensions::1136, condition: profileMaxDims.d[i] >= dimensions.d[i]\n",
      "[TensorRT] ERROR: safeContext.cpp (184) - Cudnn Error in configure: 7 (CUDNN_STATUS_MAPPING_ERROR)\n",
      "[TensorRT] ERROR: FAILED_EXECUTION: std::exception\n"
     ]
    },
    {
     "name": "stdout",
     "output_type": "stream",
     "text": [
      "Time: 0.16515660285949707\n",
      "Time: 0.08128738403320312\n",
      "Time: 0.06604981422424316\n"
     ]
    },
    {
     "name": "stderr",
     "output_type": "stream",
     "text": [
      "[TensorRT] ERROR: Parameter check failed at: engine.cpp::setBindingDimensions::1136, condition: profileMaxDims.d[i] >= dimensions.d[i]\n",
      "[TensorRT] ERROR: safeContext.cpp (184) - Cudnn Error in configure: 7 (CUDNN_STATUS_MAPPING_ERROR)\n",
      "[TensorRT] ERROR: FAILED_EXECUTION: std::exception\n",
      "[TensorRT] ERROR: Parameter check failed at: engine.cpp::setBindingDimensions::1136, condition: profileMaxDims.d[i] >= dimensions.d[i]\n",
      "[TensorRT] ERROR: safeContext.cpp (184) - Cudnn Error in configure: 7 (CUDNN_STATUS_MAPPING_ERROR)\n",
      "[TensorRT] ERROR: FAILED_EXECUTION: std::exception\n",
      "[TensorRT] ERROR: Parameter check failed at: engine.cpp::setBindingDimensions::1136, condition: profileMaxDims.d[i] >= dimensions.d[i]\n",
      "[TensorRT] ERROR: safeContext.cpp (184) - Cudnn Error in configure: 7 (CUDNN_STATUS_MAPPING_ERROR)\n",
      "[TensorRT] ERROR: FAILED_EXECUTION: std::exception\n"
     ]
    },
    {
     "name": "stdout",
     "output_type": "stream",
     "text": [
      "Time: 0.09250855445861816\n",
      "Time: 0.06614303588867188\n",
      "Time: 0.06932806968688965\n"
     ]
    },
    {
     "name": "stderr",
     "output_type": "stream",
     "text": [
      "[TensorRT] ERROR: Parameter check failed at: engine.cpp::setBindingDimensions::1136, condition: profileMaxDims.d[i] >= dimensions.d[i]\n",
      "[TensorRT] ERROR: safeContext.cpp (184) - Cudnn Error in configure: 7 (CUDNN_STATUS_MAPPING_ERROR)\n",
      "[TensorRT] ERROR: FAILED_EXECUTION: std::exception\n",
      "[TensorRT] ERROR: Parameter check failed at: engine.cpp::setBindingDimensions::1136, condition: profileMaxDims.d[i] >= dimensions.d[i]\n",
      "[TensorRT] ERROR: safeContext.cpp (184) - Cudnn Error in configure: 7 (CUDNN_STATUS_MAPPING_ERROR)\n",
      "[TensorRT] ERROR: FAILED_EXECUTION: std::exception\n",
      "[TensorRT] ERROR: Parameter check failed at: engine.cpp::setBindingDimensions::1136, condition: profileMaxDims.d[i] >= dimensions.d[i]\n",
      "[TensorRT] ERROR: safeContext.cpp (184) - Cudnn Error in configure: 7 (CUDNN_STATUS_MAPPING_ERROR)\n",
      "[TensorRT] ERROR: FAILED_EXECUTION: std::exception\n",
      "[TensorRT] ERROR: Parameter check failed at: engine.cpp::setBindingDimensions::1136, condition: profileMaxDims.d[i] >= dimensions.d[i]\n",
      "[TensorRT] ERROR: safeContext.cpp (184) - Cudnn Error in configure: 7 (CUDNN_STATUS_MAPPING_ERROR)\n",
      "[TensorRT] ERROR: FAILED_EXECUTION: std::exception\n"
     ]
    },
    {
     "name": "stdout",
     "output_type": "stream",
     "text": [
      "Time: 0.07997488975524902\n",
      "Time: 0.05597949028015137\n",
      "Time: 0.05565333366394043\n",
      "Time: 0.0556948184967041\n"
     ]
    },
    {
     "name": "stderr",
     "output_type": "stream",
     "text": [
      "[TensorRT] ERROR: Parameter check failed at: engine.cpp::setBindingDimensions::1136, condition: profileMaxDims.d[i] >= dimensions.d[i]\n",
      "[TensorRT] ERROR: safeContext.cpp (184) - Cudnn Error in configure: 7 (CUDNN_STATUS_MAPPING_ERROR)\n",
      "[TensorRT] ERROR: FAILED_EXECUTION: std::exception\n",
      "[TensorRT] ERROR: Parameter check failed at: engine.cpp::setBindingDimensions::1136, condition: profileMaxDims.d[i] >= dimensions.d[i]\n",
      "[TensorRT] ERROR: safeContext.cpp (184) - Cudnn Error in configure: 7 (CUDNN_STATUS_MAPPING_ERROR)\n",
      "[TensorRT] ERROR: FAILED_EXECUTION: std::exception\n",
      "[TensorRT] ERROR: Parameter check failed at: engine.cpp::setBindingDimensions::1136, condition: profileMaxDims.d[i] >= dimensions.d[i]\n",
      "[TensorRT] ERROR: safeContext.cpp (184) - Cudnn Error in configure: 7 (CUDNN_STATUS_MAPPING_ERROR)\n",
      "[TensorRT] ERROR: FAILED_EXECUTION: std::exception\n",
      "[TensorRT] ERROR: Parameter check failed at: engine.cpp::setBindingDimensions::1136, condition: profileMaxDims.d[i] >= dimensions.d[i]\n",
      "[TensorRT] ERROR: safeContext.cpp (184) - Cudnn Error in configure: 7 (CUDNN_STATUS_MAPPING_ERROR)\n",
      "[TensorRT] ERROR: FAILED_EXECUTION: std::exception\n"
     ]
    },
    {
     "name": "stdout",
     "output_type": "stream",
     "text": [
      "Time: 0.07324028015136719\n",
      "Time: 0.05571484565734863\n",
      "Time: 0.055701255798339844\n",
      "Time: 0.05654001235961914\n"
     ]
    },
    {
     "name": "stderr",
     "output_type": "stream",
     "text": [
      "[TensorRT] ERROR: Parameter check failed at: engine.cpp::setBindingDimensions::1136, condition: profileMaxDims.d[i] >= dimensions.d[i]\n",
      "[TensorRT] ERROR: safeContext.cpp (184) - Cudnn Error in configure: 7 (CUDNN_STATUS_MAPPING_ERROR)\n",
      "[TensorRT] ERROR: FAILED_EXECUTION: std::exception\n",
      "[TensorRT] ERROR: Parameter check failed at: engine.cpp::setBindingDimensions::1136, condition: profileMaxDims.d[i] >= dimensions.d[i]\n",
      "[TensorRT] ERROR: safeContext.cpp (184) - Cudnn Error in configure: 7 (CUDNN_STATUS_MAPPING_ERROR)\n",
      "[TensorRT] ERROR: FAILED_EXECUTION: std::exception\n",
      "[TensorRT] ERROR: Parameter check failed at: engine.cpp::setBindingDimensions::1136, condition: profileMaxDims.d[i] >= dimensions.d[i]\n",
      "[TensorRT] ERROR: safeContext.cpp (184) - Cudnn Error in configure: 7 (CUDNN_STATUS_MAPPING_ERROR)\n",
      "[TensorRT] ERROR: FAILED_EXECUTION: std::exception\n"
     ]
    },
    {
     "name": "stdout",
     "output_type": "stream",
     "text": [
      "Time: 0.09319519996643066\n",
      "Time: 0.05517911911010742\n",
      "Time: 0.07364773750305176\n"
     ]
    },
    {
     "name": "stderr",
     "output_type": "stream",
     "text": [
      "[TensorRT] ERROR: Parameter check failed at: engine.cpp::setBindingDimensions::1136, condition: profileMaxDims.d[i] >= dimensions.d[i]\n",
      "[TensorRT] ERROR: safeContext.cpp (184) - Cudnn Error in configure: 7 (CUDNN_STATUS_MAPPING_ERROR)\n",
      "[TensorRT] ERROR: FAILED_EXECUTION: std::exception\n",
      "[TensorRT] ERROR: Parameter check failed at: engine.cpp::setBindingDimensions::1136, condition: profileMaxDims.d[i] >= dimensions.d[i]\n",
      "[TensorRT] ERROR: safeContext.cpp (184) - Cudnn Error in configure: 7 (CUDNN_STATUS_MAPPING_ERROR)\n",
      "[TensorRT] ERROR: FAILED_EXECUTION: std::exception\n",
      "[TensorRT] ERROR: Parameter check failed at: engine.cpp::setBindingDimensions::1136, condition: profileMaxDims.d[i] >= dimensions.d[i]\n",
      "[TensorRT] ERROR: safeContext.cpp (184) - Cudnn Error in configure: 7 (CUDNN_STATUS_MAPPING_ERROR)\n",
      "[TensorRT] ERROR: FAILED_EXECUTION: std::exception\n"
     ]
    },
    {
     "name": "stdout",
     "output_type": "stream",
     "text": [
      "Time: 0.08270049095153809\n",
      "Time: 0.07422184944152832\n",
      "Time: 0.09035229682922363\n"
     ]
    },
    {
     "name": "stderr",
     "output_type": "stream",
     "text": [
      "[TensorRT] ERROR: Parameter check failed at: engine.cpp::setBindingDimensions::1136, condition: profileMaxDims.d[i] >= dimensions.d[i]\n",
      "[TensorRT] ERROR: safeContext.cpp (184) - Cudnn Error in configure: 7 (CUDNN_STATUS_MAPPING_ERROR)\n",
      "[TensorRT] ERROR: FAILED_EXECUTION: std::exception\n",
      "[TensorRT] ERROR: Parameter check failed at: engine.cpp::setBindingDimensions::1136, condition: profileMaxDims.d[i] >= dimensions.d[i]\n",
      "[TensorRT] ERROR: safeContext.cpp (184) - Cudnn Error in configure: 7 (CUDNN_STATUS_MAPPING_ERROR)\n",
      "[TensorRT] ERROR: FAILED_EXECUTION: std::exception\n",
      "[TensorRT] ERROR: Parameter check failed at: engine.cpp::setBindingDimensions::1136, condition: profileMaxDims.d[i] >= dimensions.d[i]\n",
      "[TensorRT] ERROR: safeContext.cpp (184) - Cudnn Error in configure: 7 (CUDNN_STATUS_MAPPING_ERROR)\n",
      "[TensorRT] ERROR: FAILED_EXECUTION: std::exception\n"
     ]
    },
    {
     "name": "stdout",
     "output_type": "stream",
     "text": [
      "Time: 0.09149575233459473\n",
      "Time: 0.06159210205078125\n",
      "Time: 0.0618746280670166\n"
     ]
    },
    {
     "name": "stderr",
     "output_type": "stream",
     "text": [
      "[TensorRT] ERROR: Parameter check failed at: engine.cpp::setBindingDimensions::1136, condition: profileMaxDims.d[i] >= dimensions.d[i]\n",
      "[TensorRT] ERROR: safeContext.cpp (184) - Cudnn Error in configure: 7 (CUDNN_STATUS_MAPPING_ERROR)\n",
      "[TensorRT] ERROR: FAILED_EXECUTION: std::exception\n",
      "[TensorRT] ERROR: Parameter check failed at: engine.cpp::setBindingDimensions::1136, condition: profileMaxDims.d[i] >= dimensions.d[i]\n",
      "[TensorRT] ERROR: safeContext.cpp (184) - Cudnn Error in configure: 7 (CUDNN_STATUS_MAPPING_ERROR)\n",
      "[TensorRT] ERROR: FAILED_EXECUTION: std::exception\n",
      "[TensorRT] ERROR: Parameter check failed at: engine.cpp::setBindingDimensions::1136, condition: profileMaxDims.d[i] >= dimensions.d[i]\n",
      "[TensorRT] ERROR: safeContext.cpp (184) - Cudnn Error in configure: 7 (CUDNN_STATUS_MAPPING_ERROR)\n",
      "[TensorRT] ERROR: FAILED_EXECUTION: std::exception\n",
      "[TensorRT] ERROR: Parameter check failed at: engine.cpp::setBindingDimensions::1136, condition: profileMaxDims.d[i] >= dimensions.d[i]\n",
      "[TensorRT] ERROR: safeContext.cpp (184) - Cudnn Error in configure: 7 (CUDNN_STATUS_MAPPING_ERROR)\n",
      "[TensorRT] ERROR: FAILED_EXECUTION: std::exception\n"
     ]
    },
    {
     "name": "stdout",
     "output_type": "stream",
     "text": [
      "Time: 0.1059725284576416\n",
      "Time: 0.05353879928588867\n",
      "Time: 0.055327415466308594\n",
      "Time: 0.06250667572021484\n"
     ]
    },
    {
     "name": "stderr",
     "output_type": "stream",
     "text": [
      "[TensorRT] ERROR: Parameter check failed at: engine.cpp::setBindingDimensions::1136, condition: profileMaxDims.d[i] >= dimensions.d[i]\n",
      "[TensorRT] ERROR: safeContext.cpp (184) - Cudnn Error in configure: 7 (CUDNN_STATUS_MAPPING_ERROR)\n",
      "[TensorRT] ERROR: FAILED_EXECUTION: std::exception\n",
      "[TensorRT] ERROR: Parameter check failed at: engine.cpp::setBindingDimensions::1136, condition: profileMaxDims.d[i] >= dimensions.d[i]\n",
      "[TensorRT] ERROR: safeContext.cpp (184) - Cudnn Error in configure: 7 (CUDNN_STATUS_MAPPING_ERROR)\n",
      "[TensorRT] ERROR: FAILED_EXECUTION: std::exception\n",
      "[TensorRT] ERROR: Parameter check failed at: engine.cpp::setBindingDimensions::1136, condition: profileMaxDims.d[i] >= dimensions.d[i]\n",
      "[TensorRT] ERROR: safeContext.cpp (184) - Cudnn Error in configure: 7 (CUDNN_STATUS_MAPPING_ERROR)\n",
      "[TensorRT] ERROR: FAILED_EXECUTION: std::exception\n"
     ]
    },
    {
     "name": "stdout",
     "output_type": "stream",
     "text": [
      "Time: 0.06622481346130371\n",
      "Time: 0.06647920608520508\n",
      "Time: 0.05481696128845215\n"
     ]
    },
    {
     "name": "stderr",
     "output_type": "stream",
     "text": [
      "[TensorRT] ERROR: Parameter check failed at: engine.cpp::setBindingDimensions::1136, condition: profileMaxDims.d[i] >= dimensions.d[i]\n",
      "[TensorRT] ERROR: safeContext.cpp (184) - Cudnn Error in configure: 7 (CUDNN_STATUS_MAPPING_ERROR)\n",
      "[TensorRT] ERROR: FAILED_EXECUTION: std::exception\n",
      "[TensorRT] ERROR: Parameter check failed at: engine.cpp::setBindingDimensions::1136, condition: profileMaxDims.d[i] >= dimensions.d[i]\n",
      "[TensorRT] ERROR: safeContext.cpp (184) - Cudnn Error in configure: 7 (CUDNN_STATUS_MAPPING_ERROR)\n",
      "[TensorRT] ERROR: FAILED_EXECUTION: std::exception\n",
      "[TensorRT] ERROR: Parameter check failed at: engine.cpp::setBindingDimensions::1136, condition: profileMaxDims.d[i] >= dimensions.d[i]\n",
      "[TensorRT] ERROR: safeContext.cpp (184) - Cudnn Error in configure: 7 (CUDNN_STATUS_MAPPING_ERROR)\n",
      "[TensorRT] ERROR: FAILED_EXECUTION: std::exception\n"
     ]
    },
    {
     "name": "stdout",
     "output_type": "stream",
     "text": [
      "Time: 0.0879814624786377\n",
      "Time: 0.07523083686828613\n",
      "Time: 0.0837259292602539\n"
     ]
    },
    {
     "name": "stderr",
     "output_type": "stream",
     "text": [
      "[TensorRT] ERROR: Parameter check failed at: engine.cpp::setBindingDimensions::1136, condition: profileMaxDims.d[i] >= dimensions.d[i]\n",
      "[TensorRT] ERROR: safeContext.cpp (184) - Cudnn Error in configure: 7 (CUDNN_STATUS_MAPPING_ERROR)\n",
      "[TensorRT] ERROR: FAILED_EXECUTION: std::exception\n",
      "[TensorRT] ERROR: Parameter check failed at: engine.cpp::setBindingDimensions::1136, condition: profileMaxDims.d[i] >= dimensions.d[i]\n",
      "[TensorRT] ERROR: safeContext.cpp (184) - Cudnn Error in configure: 7 (CUDNN_STATUS_MAPPING_ERROR)\n",
      "[TensorRT] ERROR: FAILED_EXECUTION: std::exception\n",
      "[TensorRT] ERROR: Parameter check failed at: engine.cpp::setBindingDimensions::1136, condition: profileMaxDims.d[i] >= dimensions.d[i]\n",
      "[TensorRT] ERROR: safeContext.cpp (184) - Cudnn Error in configure: 7 (CUDNN_STATUS_MAPPING_ERROR)\n",
      "[TensorRT] ERROR: FAILED_EXECUTION: std::exception\n",
      "[TensorRT] ERROR: Parameter check failed at: engine.cpp::setBindingDimensions::1136, condition: profileMaxDims.d[i] >= dimensions.d[i]\n",
      "[TensorRT] ERROR: safeContext.cpp (184) - Cudnn Error in configure: 7 (CUDNN_STATUS_MAPPING_ERROR)\n",
      "[TensorRT] ERROR: FAILED_EXECUTION: std::exception\n"
     ]
    },
    {
     "name": "stdout",
     "output_type": "stream",
     "text": [
      "Time: 0.055815696716308594\n",
      "Time: 0.05561995506286621\n",
      "Time: 0.05565309524536133\n",
      "Time: 0.0620114803314209\n"
     ]
    },
    {
     "name": "stderr",
     "output_type": "stream",
     "text": [
      "[TensorRT] ERROR: Parameter check failed at: engine.cpp::setBindingDimensions::1136, condition: profileMaxDims.d[i] >= dimensions.d[i]\n",
      "[TensorRT] ERROR: safeContext.cpp (184) - Cudnn Error in configure: 7 (CUDNN_STATUS_MAPPING_ERROR)\n",
      "[TensorRT] ERROR: FAILED_EXECUTION: std::exception\n",
      "[TensorRT] ERROR: Parameter check failed at: engine.cpp::setBindingDimensions::1136, condition: profileMaxDims.d[i] >= dimensions.d[i]\n",
      "[TensorRT] ERROR: safeContext.cpp (184) - Cudnn Error in configure: 7 (CUDNN_STATUS_MAPPING_ERROR)\n",
      "[TensorRT] ERROR: FAILED_EXECUTION: std::exception\n",
      "[TensorRT] ERROR: Parameter check failed at: engine.cpp::setBindingDimensions::1136, condition: profileMaxDims.d[i] >= dimensions.d[i]\n",
      "[TensorRT] ERROR: safeContext.cpp (184) - Cudnn Error in configure: 7 (CUDNN_STATUS_MAPPING_ERROR)\n",
      "[TensorRT] ERROR: FAILED_EXECUTION: std::exception\n",
      "[TensorRT] ERROR: Parameter check failed at: engine.cpp::setBindingDimensions::1136, condition: profileMaxDims.d[i] >= dimensions.d[i]\n",
      "[TensorRT] ERROR: safeContext.cpp (184) - Cudnn Error in configure: 7 (CUDNN_STATUS_MAPPING_ERROR)\n",
      "[TensorRT] ERROR: FAILED_EXECUTION: std::exception\n"
     ]
    },
    {
     "name": "stdout",
     "output_type": "stream",
     "text": [
      "Time: 0.11568474769592285\n",
      "Time: 0.0567622184753418\n",
      "Time: 0.05369424819946289\n",
      "Time: 0.053398847579956055\n"
     ]
    },
    {
     "name": "stderr",
     "output_type": "stream",
     "text": [
      "[TensorRT] ERROR: Parameter check failed at: engine.cpp::setBindingDimensions::1136, condition: profileMaxDims.d[i] >= dimensions.d[i]\n",
      "[TensorRT] ERROR: safeContext.cpp (184) - Cudnn Error in configure: 7 (CUDNN_STATUS_MAPPING_ERROR)\n",
      "[TensorRT] ERROR: FAILED_EXECUTION: std::exception\n",
      "[TensorRT] ERROR: Parameter check failed at: engine.cpp::setBindingDimensions::1136, condition: profileMaxDims.d[i] >= dimensions.d[i]\n",
      "[TensorRT] ERROR: safeContext.cpp (184) - Cudnn Error in configure: 7 (CUDNN_STATUS_MAPPING_ERROR)\n",
      "[TensorRT] ERROR: FAILED_EXECUTION: std::exception\n",
      "[TensorRT] ERROR: Parameter check failed at: engine.cpp::setBindingDimensions::1136, condition: profileMaxDims.d[i] >= dimensions.d[i]\n",
      "[TensorRT] ERROR: safeContext.cpp (184) - Cudnn Error in configure: 7 (CUDNN_STATUS_MAPPING_ERROR)\n",
      "[TensorRT] ERROR: FAILED_EXECUTION: std::exception\n",
      "[TensorRT] ERROR: Parameter check failed at: engine.cpp::setBindingDimensions::1136, condition: profileMaxDims.d[i] >= dimensions.d[i]\n",
      "[TensorRT] ERROR: safeContext.cpp (184) - Cudnn Error in configure: 7 (CUDNN_STATUS_MAPPING_ERROR)\n",
      "[TensorRT] ERROR: FAILED_EXECUTION: std::exception\n"
     ]
    },
    {
     "name": "stdout",
     "output_type": "stream",
     "text": [
      "Time: 0.05444216728210449\n",
      "Time: 0.05269885063171387\n",
      "Time: 0.05957365036010742\n",
      "Time: 0.05443859100341797\n"
     ]
    },
    {
     "name": "stderr",
     "output_type": "stream",
     "text": [
      "[TensorRT] ERROR: Parameter check failed at: engine.cpp::setBindingDimensions::1136, condition: profileMaxDims.d[i] >= dimensions.d[i]\n",
      "[TensorRT] ERROR: safeContext.cpp (184) - Cudnn Error in configure: 7 (CUDNN_STATUS_MAPPING_ERROR)\n",
      "[TensorRT] ERROR: FAILED_EXECUTION: std::exception\n",
      "[TensorRT] ERROR: Parameter check failed at: engine.cpp::setBindingDimensions::1136, condition: profileMaxDims.d[i] >= dimensions.d[i]\n",
      "[TensorRT] ERROR: safeContext.cpp (184) - Cudnn Error in configure: 7 (CUDNN_STATUS_MAPPING_ERROR)\n",
      "[TensorRT] ERROR: FAILED_EXECUTION: std::exception\n",
      "[TensorRT] ERROR: Parameter check failed at: engine.cpp::setBindingDimensions::1136, condition: profileMaxDims.d[i] >= dimensions.d[i]\n",
      "[TensorRT] ERROR: safeContext.cpp (184) - Cudnn Error in configure: 7 (CUDNN_STATUS_MAPPING_ERROR)\n",
      "[TensorRT] ERROR: FAILED_EXECUTION: std::exception\n",
      "[TensorRT] ERROR: Parameter check failed at: engine.cpp::setBindingDimensions::1136, condition: profileMaxDims.d[i] >= dimensions.d[i]\n",
      "[TensorRT] ERROR: safeContext.cpp (184) - Cudnn Error in configure: 7 (CUDNN_STATUS_MAPPING_ERROR)\n",
      "[TensorRT] ERROR: FAILED_EXECUTION: std::exception\n"
     ]
    },
    {
     "name": "stdout",
     "output_type": "stream",
     "text": [
      "Time: 0.06273078918457031\n",
      "Time: 0.05669546127319336\n",
      "Time: 0.05570793151855469\n",
      "Time: 0.054624319076538086\n"
     ]
    },
    {
     "name": "stderr",
     "output_type": "stream",
     "text": [
      "[TensorRT] ERROR: Parameter check failed at: engine.cpp::setBindingDimensions::1136, condition: profileMaxDims.d[i] >= dimensions.d[i]\n",
      "[TensorRT] ERROR: safeContext.cpp (184) - Cudnn Error in configure: 7 (CUDNN_STATUS_MAPPING_ERROR)\n",
      "[TensorRT] ERROR: FAILED_EXECUTION: std::exception\n",
      "[TensorRT] ERROR: Parameter check failed at: engine.cpp::setBindingDimensions::1136, condition: profileMaxDims.d[i] >= dimensions.d[i]\n",
      "[TensorRT] ERROR: safeContext.cpp (184) - Cudnn Error in configure: 7 (CUDNN_STATUS_MAPPING_ERROR)\n",
      "[TensorRT] ERROR: FAILED_EXECUTION: std::exception\n",
      "[TensorRT] ERROR: Parameter check failed at: engine.cpp::setBindingDimensions::1136, condition: profileMaxDims.d[i] >= dimensions.d[i]\n",
      "[TensorRT] ERROR: safeContext.cpp (184) - Cudnn Error in configure: 7 (CUDNN_STATUS_MAPPING_ERROR)\n",
      "[TensorRT] ERROR: FAILED_EXECUTION: std::exception\n"
     ]
    },
    {
     "name": "stdout",
     "output_type": "stream",
     "text": [
      "Time: 0.05931568145751953\n",
      "Time: 0.07622981071472168\n",
      "Time: 0.054253578186035156\n"
     ]
    },
    {
     "name": "stderr",
     "output_type": "stream",
     "text": [
      "[TensorRT] ERROR: Parameter check failed at: engine.cpp::setBindingDimensions::1136, condition: profileMaxDims.d[i] >= dimensions.d[i]\n",
      "[TensorRT] ERROR: safeContext.cpp (184) - Cudnn Error in configure: 7 (CUDNN_STATUS_MAPPING_ERROR)\n",
      "[TensorRT] ERROR: FAILED_EXECUTION: std::exception\n",
      "[TensorRT] ERROR: Parameter check failed at: engine.cpp::setBindingDimensions::1136, condition: profileMaxDims.d[i] >= dimensions.d[i]\n",
      "[TensorRT] ERROR: safeContext.cpp (184) - Cudnn Error in configure: 7 (CUDNN_STATUS_MAPPING_ERROR)\n",
      "[TensorRT] ERROR: FAILED_EXECUTION: std::exception\n",
      "[TensorRT] ERROR: Parameter check failed at: engine.cpp::setBindingDimensions::1136, condition: profileMaxDims.d[i] >= dimensions.d[i]\n",
      "[TensorRT] ERROR: safeContext.cpp (184) - Cudnn Error in configure: 7 (CUDNN_STATUS_MAPPING_ERROR)\n",
      "[TensorRT] ERROR: FAILED_EXECUTION: std::exception\n",
      "[TensorRT] ERROR: Parameter check failed at: engine.cpp::setBindingDimensions::1136, condition: profileMaxDims.d[i] >= dimensions.d[i]\n",
      "[TensorRT] ERROR: safeContext.cpp (184) - Cudnn Error in configure: 7 (CUDNN_STATUS_MAPPING_ERROR)\n",
      "[TensorRT] ERROR: FAILED_EXECUTION: std::exception\n"
     ]
    },
    {
     "name": "stdout",
     "output_type": "stream",
     "text": [
      "Time: 0.09682035446166992\n",
      "Time: 0.05396723747253418\n",
      "Time: 0.05393528938293457\n",
      "Time: 0.05402660369873047\n"
     ]
    },
    {
     "name": "stderr",
     "output_type": "stream",
     "text": [
      "[TensorRT] ERROR: Parameter check failed at: engine.cpp::setBindingDimensions::1136, condition: profileMaxDims.d[i] >= dimensions.d[i]\n",
      "[TensorRT] ERROR: safeContext.cpp (184) - Cudnn Error in configure: 7 (CUDNN_STATUS_MAPPING_ERROR)\n",
      "[TensorRT] ERROR: FAILED_EXECUTION: std::exception\n",
      "[TensorRT] ERROR: Parameter check failed at: engine.cpp::setBindingDimensions::1136, condition: profileMaxDims.d[i] >= dimensions.d[i]\n",
      "[TensorRT] ERROR: safeContext.cpp (184) - Cudnn Error in configure: 7 (CUDNN_STATUS_MAPPING_ERROR)\n",
      "[TensorRT] ERROR: FAILED_EXECUTION: std::exception\n",
      "[TensorRT] ERROR: Parameter check failed at: engine.cpp::setBindingDimensions::1136, condition: profileMaxDims.d[i] >= dimensions.d[i]\n",
      "[TensorRT] ERROR: safeContext.cpp (184) - Cudnn Error in configure: 7 (CUDNN_STATUS_MAPPING_ERROR)\n",
      "[TensorRT] ERROR: FAILED_EXECUTION: std::exception\n",
      "[TensorRT] ERROR: Parameter check failed at: engine.cpp::setBindingDimensions::1136, condition: profileMaxDims.d[i] >= dimensions.d[i]\n",
      "[TensorRT] ERROR: safeContext.cpp (184) - Cudnn Error in configure: 7 (CUDNN_STATUS_MAPPING_ERROR)\n",
      "[TensorRT] ERROR: FAILED_EXECUTION: std::exception\n"
     ]
    },
    {
     "name": "stdout",
     "output_type": "stream",
     "text": [
      "Time: 0.05558013916015625\n",
      "Time: 0.05695652961730957\n",
      "Time: 0.058737993240356445\n",
      "Time: 0.05890488624572754\n"
     ]
    },
    {
     "name": "stderr",
     "output_type": "stream",
     "text": [
      "[TensorRT] ERROR: Parameter check failed at: engine.cpp::setBindingDimensions::1136, condition: profileMaxDims.d[i] >= dimensions.d[i]\n",
      "[TensorRT] ERROR: safeContext.cpp (184) - Cudnn Error in configure: 7 (CUDNN_STATUS_MAPPING_ERROR)\n",
      "[TensorRT] ERROR: FAILED_EXECUTION: std::exception\n",
      "[TensorRT] ERROR: Parameter check failed at: engine.cpp::setBindingDimensions::1136, condition: profileMaxDims.d[i] >= dimensions.d[i]\n",
      "[TensorRT] ERROR: safeContext.cpp (184) - Cudnn Error in configure: 7 (CUDNN_STATUS_MAPPING_ERROR)\n",
      "[TensorRT] ERROR: FAILED_EXECUTION: std::exception\n",
      "[TensorRT] ERROR: Parameter check failed at: engine.cpp::setBindingDimensions::1136, condition: profileMaxDims.d[i] >= dimensions.d[i]\n",
      "[TensorRT] ERROR: safeContext.cpp (184) - Cudnn Error in configure: 7 (CUDNN_STATUS_MAPPING_ERROR)\n",
      "[TensorRT] ERROR: FAILED_EXECUTION: std::exception\n"
     ]
    },
    {
     "name": "stdout",
     "output_type": "stream",
     "text": [
      "Time: 0.05912017822265625\n",
      "Time: 0.06116461753845215\n",
      "Time: 0.058634281158447266\n"
     ]
    },
    {
     "name": "stderr",
     "output_type": "stream",
     "text": [
      "[TensorRT] ERROR: Parameter check failed at: engine.cpp::setBindingDimensions::1136, condition: profileMaxDims.d[i] >= dimensions.d[i]\n",
      "[TensorRT] ERROR: safeContext.cpp (184) - Cudnn Error in configure: 7 (CUDNN_STATUS_MAPPING_ERROR)\n",
      "[TensorRT] ERROR: FAILED_EXECUTION: std::exception\n",
      "[TensorRT] ERROR: Parameter check failed at: engine.cpp::setBindingDimensions::1136, condition: profileMaxDims.d[i] >= dimensions.d[i]\n",
      "[TensorRT] ERROR: safeContext.cpp (184) - Cudnn Error in configure: 7 (CUDNN_STATUS_MAPPING_ERROR)\n",
      "[TensorRT] ERROR: FAILED_EXECUTION: std::exception\n",
      "[TensorRT] ERROR: Parameter check failed at: engine.cpp::setBindingDimensions::1136, condition: profileMaxDims.d[i] >= dimensions.d[i]\n",
      "[TensorRT] ERROR: safeContext.cpp (184) - Cudnn Error in configure: 7 (CUDNN_STATUS_MAPPING_ERROR)\n",
      "[TensorRT] ERROR: FAILED_EXECUTION: std::exception\n"
     ]
    },
    {
     "name": "stdout",
     "output_type": "stream",
     "text": [
      "Time: 0.09942626953125\n",
      "Time: 0.059470415115356445\n",
      "Time: 0.053861141204833984\n",
      "Time: 0.060535430908203125\n"
     ]
    },
    {
     "name": "stderr",
     "output_type": "stream",
     "text": [
      "[TensorRT] ERROR: Parameter check failed at: engine.cpp::setBindingDimensions::1136, condition: profileMaxDims.d[i] >= dimensions.d[i]\n",
      "[TensorRT] ERROR: safeContext.cpp (184) - Cudnn Error in configure: 7 (CUDNN_STATUS_MAPPING_ERROR)\n",
      "[TensorRT] ERROR: FAILED_EXECUTION: std::exception\n",
      "[TensorRT] ERROR: Parameter check failed at: engine.cpp::setBindingDimensions::1136, condition: profileMaxDims.d[i] >= dimensions.d[i]\n",
      "[TensorRT] ERROR: safeContext.cpp (184) - Cudnn Error in configure: 7 (CUDNN_STATUS_MAPPING_ERROR)\n",
      "[TensorRT] ERROR: FAILED_EXECUTION: std::exception\n",
      "[TensorRT] ERROR: Parameter check failed at: engine.cpp::setBindingDimensions::1136, condition: profileMaxDims.d[i] >= dimensions.d[i]\n",
      "[TensorRT] ERROR: safeContext.cpp (184) - Cudnn Error in configure: 7 (CUDNN_STATUS_MAPPING_ERROR)\n",
      "[TensorRT] ERROR: FAILED_EXECUTION: std::exception\n"
     ]
    },
    {
     "name": "stdout",
     "output_type": "stream",
     "text": [
      "Time: 0.05045676231384277\n",
      "Time: 0.06878042221069336\n",
      "Time: 0.0845489501953125\n"
     ]
    },
    {
     "name": "stderr",
     "output_type": "stream",
     "text": [
      "[TensorRT] ERROR: Parameter check failed at: engine.cpp::setBindingDimensions::1136, condition: profileMaxDims.d[i] >= dimensions.d[i]\n",
      "[TensorRT] ERROR: safeContext.cpp (184) - Cudnn Error in configure: 7 (CUDNN_STATUS_MAPPING_ERROR)\n",
      "[TensorRT] ERROR: FAILED_EXECUTION: std::exception\n",
      "[TensorRT] ERROR: Parameter check failed at: engine.cpp::setBindingDimensions::1136, condition: profileMaxDims.d[i] >= dimensions.d[i]\n",
      "[TensorRT] ERROR: safeContext.cpp (184) - Cudnn Error in configure: 7 (CUDNN_STATUS_MAPPING_ERROR)\n",
      "[TensorRT] ERROR: FAILED_EXECUTION: std::exception\n",
      "[TensorRT] ERROR: Parameter check failed at: engine.cpp::setBindingDimensions::1136, condition: profileMaxDims.d[i] >= dimensions.d[i]\n",
      "[TensorRT] ERROR: safeContext.cpp (184) - Cudnn Error in configure: 7 (CUDNN_STATUS_MAPPING_ERROR)\n",
      "[TensorRT] ERROR: FAILED_EXECUTION: std::exception\n"
     ]
    },
    {
     "name": "stdout",
     "output_type": "stream",
     "text": [
      "Time: 0.06334710121154785\n",
      "Time: 0.06246161460876465\n",
      "Time: 0.07412934303283691\n",
      "Time: 0.04994034767150879\n"
     ]
    },
    {
     "name": "stderr",
     "output_type": "stream",
     "text": [
      "[TensorRT] ERROR: Parameter check failed at: engine.cpp::setBindingDimensions::1136, condition: profileMaxDims.d[i] >= dimensions.d[i]\n",
      "[TensorRT] ERROR: safeContext.cpp (184) - Cudnn Error in configure: 7 (CUDNN_STATUS_MAPPING_ERROR)\n",
      "[TensorRT] ERROR: FAILED_EXECUTION: std::exception\n",
      "[TensorRT] ERROR: Parameter check failed at: engine.cpp::setBindingDimensions::1136, condition: profileMaxDims.d[i] >= dimensions.d[i]\n",
      "[TensorRT] ERROR: safeContext.cpp (184) - Cudnn Error in configure: 7 (CUDNN_STATUS_MAPPING_ERROR)\n",
      "[TensorRT] ERROR: FAILED_EXECUTION: std::exception\n",
      "[TensorRT] ERROR: Parameter check failed at: engine.cpp::setBindingDimensions::1136, condition: profileMaxDims.d[i] >= dimensions.d[i]\n",
      "[TensorRT] ERROR: safeContext.cpp (184) - Cudnn Error in configure: 7 (CUDNN_STATUS_MAPPING_ERROR)\n",
      "[TensorRT] ERROR: FAILED_EXECUTION: std::exception\n",
      "[TensorRT] ERROR: Parameter check failed at: engine.cpp::setBindingDimensions::1136, condition: profileMaxDims.d[i] >= dimensions.d[i]\n",
      "[TensorRT] ERROR: safeContext.cpp (184) - Cudnn Error in configure: 7 (CUDNN_STATUS_MAPPING_ERROR)\n",
      "[TensorRT] ERROR: FAILED_EXECUTION: std::exception\n"
     ]
    },
    {
     "name": "stdout",
     "output_type": "stream",
     "text": [
      "Time: 0.048287153244018555\n",
      "Time: 0.08122611045837402\n",
      "Time: 0.05314350128173828\n",
      "Time: 0.058182716369628906\n"
     ]
    },
    {
     "name": "stderr",
     "output_type": "stream",
     "text": [
      "[TensorRT] ERROR: Parameter check failed at: engine.cpp::setBindingDimensions::1136, condition: profileMaxDims.d[i] >= dimensions.d[i]\n",
      "[TensorRT] ERROR: safeContext.cpp (184) - Cudnn Error in configure: 7 (CUDNN_STATUS_MAPPING_ERROR)\n",
      "[TensorRT] ERROR: FAILED_EXECUTION: std::exception\n",
      "[TensorRT] ERROR: Parameter check failed at: engine.cpp::setBindingDimensions::1136, condition: profileMaxDims.d[i] >= dimensions.d[i]\n",
      "[TensorRT] ERROR: safeContext.cpp (184) - Cudnn Error in configure: 7 (CUDNN_STATUS_MAPPING_ERROR)\n",
      "[TensorRT] ERROR: FAILED_EXECUTION: std::exception\n",
      "[TensorRT] ERROR: Parameter check failed at: engine.cpp::setBindingDimensions::1136, condition: profileMaxDims.d[i] >= dimensions.d[i]\n",
      "[TensorRT] ERROR: safeContext.cpp (184) - Cudnn Error in configure: 7 (CUDNN_STATUS_MAPPING_ERROR)\n",
      "[TensorRT] ERROR: FAILED_EXECUTION: std::exception\n",
      "[TensorRT] ERROR: Parameter check failed at: engine.cpp::setBindingDimensions::1136, condition: profileMaxDims.d[i] >= dimensions.d[i]\n",
      "[TensorRT] ERROR: safeContext.cpp (184) - Cudnn Error in configure: 7 (CUDNN_STATUS_MAPPING_ERROR)\n",
      "[TensorRT] ERROR: FAILED_EXECUTION: std::exception\n"
     ]
    },
    {
     "name": "stdout",
     "output_type": "stream",
     "text": [
      "Time: 0.058496952056884766\n",
      "Time: 0.05308413505554199\n",
      "Time: 0.053318023681640625\n",
      "Time: 0.05598258972167969\n"
     ]
    },
    {
     "name": "stderr",
     "output_type": "stream",
     "text": [
      "[TensorRT] ERROR: Parameter check failed at: engine.cpp::setBindingDimensions::1136, condition: profileMaxDims.d[i] >= dimensions.d[i]\n",
      "[TensorRT] ERROR: safeContext.cpp (184) - Cudnn Error in configure: 7 (CUDNN_STATUS_MAPPING_ERROR)\n",
      "[TensorRT] ERROR: FAILED_EXECUTION: std::exception\n",
      "[TensorRT] ERROR: Parameter check failed at: engine.cpp::setBindingDimensions::1136, condition: profileMaxDims.d[i] >= dimensions.d[i]\n",
      "[TensorRT] ERROR: safeContext.cpp (184) - Cudnn Error in configure: 7 (CUDNN_STATUS_MAPPING_ERROR)\n",
      "[TensorRT] ERROR: FAILED_EXECUTION: std::exception\n",
      "[TensorRT] ERROR: Parameter check failed at: engine.cpp::setBindingDimensions::1136, condition: profileMaxDims.d[i] >= dimensions.d[i]\n",
      "[TensorRT] ERROR: safeContext.cpp (184) - Cudnn Error in configure: 7 (CUDNN_STATUS_MAPPING_ERROR)\n",
      "[TensorRT] ERROR: FAILED_EXECUTION: std::exception\n",
      "[TensorRT] ERROR: Parameter check failed at: engine.cpp::setBindingDimensions::1136, condition: profileMaxDims.d[i] >= dimensions.d[i]\n",
      "[TensorRT] ERROR: safeContext.cpp (184) - Cudnn Error in configure: 7 (CUDNN_STATUS_MAPPING_ERROR)\n",
      "[TensorRT] ERROR: FAILED_EXECUTION: std::exception\n"
     ]
    },
    {
     "name": "stdout",
     "output_type": "stream",
     "text": [
      "Time: 0.05924510955810547\n",
      "Time: 0.05631113052368164\n",
      "Time: 0.058539390563964844\n",
      "Time: 0.05806922912597656\n"
     ]
    },
    {
     "name": "stderr",
     "output_type": "stream",
     "text": [
      "[TensorRT] ERROR: Parameter check failed at: engine.cpp::setBindingDimensions::1136, condition: profileMaxDims.d[i] >= dimensions.d[i]\n",
      "[TensorRT] ERROR: safeContext.cpp (184) - Cudnn Error in configure: 7 (CUDNN_STATUS_MAPPING_ERROR)\n",
      "[TensorRT] ERROR: FAILED_EXECUTION: std::exception\n",
      "[TensorRT] ERROR: Parameter check failed at: engine.cpp::setBindingDimensions::1136, condition: profileMaxDims.d[i] >= dimensions.d[i]\n",
      "[TensorRT] ERROR: safeContext.cpp (184) - Cudnn Error in configure: 7 (CUDNN_STATUS_MAPPING_ERROR)\n",
      "[TensorRT] ERROR: FAILED_EXECUTION: std::exception\n",
      "[TensorRT] ERROR: Parameter check failed at: engine.cpp::setBindingDimensions::1136, condition: profileMaxDims.d[i] >= dimensions.d[i]\n",
      "[TensorRT] ERROR: safeContext.cpp (184) - Cudnn Error in configure: 7 (CUDNN_STATUS_MAPPING_ERROR)\n",
      "[TensorRT] ERROR: FAILED_EXECUTION: std::exception\n",
      "[TensorRT] ERROR: Parameter check failed at: engine.cpp::setBindingDimensions::1136, condition: profileMaxDims.d[i] >= dimensions.d[i]\n",
      "[TensorRT] ERROR: safeContext.cpp (184) - Cudnn Error in configure: 7 (CUDNN_STATUS_MAPPING_ERROR)\n",
      "[TensorRT] ERROR: FAILED_EXECUTION: std::exception\n"
     ]
    },
    {
     "name": "stdout",
     "output_type": "stream",
     "text": [
      "Time: 0.05794668197631836\n",
      "Time: 0.062015533447265625\n",
      "Time: 0.05832195281982422\n",
      "Time: 0.0578312873840332\n"
     ]
    },
    {
     "name": "stderr",
     "output_type": "stream",
     "text": [
      "[TensorRT] ERROR: Parameter check failed at: engine.cpp::setBindingDimensions::1136, condition: profileMaxDims.d[i] >= dimensions.d[i]\n",
      "[TensorRT] ERROR: safeContext.cpp (184) - Cudnn Error in configure: 7 (CUDNN_STATUS_MAPPING_ERROR)\n",
      "[TensorRT] ERROR: FAILED_EXECUTION: std::exception\n",
      "[TensorRT] ERROR: Parameter check failed at: engine.cpp::setBindingDimensions::1136, condition: profileMaxDims.d[i] >= dimensions.d[i]\n",
      "[TensorRT] ERROR: safeContext.cpp (184) - Cudnn Error in configure: 7 (CUDNN_STATUS_MAPPING_ERROR)\n",
      "[TensorRT] ERROR: FAILED_EXECUTION: std::exception\n",
      "[TensorRT] ERROR: Parameter check failed at: engine.cpp::setBindingDimensions::1136, condition: profileMaxDims.d[i] >= dimensions.d[i]\n",
      "[TensorRT] ERROR: safeContext.cpp (184) - Cudnn Error in configure: 7 (CUDNN_STATUS_MAPPING_ERROR)\n",
      "[TensorRT] ERROR: FAILED_EXECUTION: std::exception\n",
      "[TensorRT] ERROR: Parameter check failed at: engine.cpp::setBindingDimensions::1136, condition: profileMaxDims.d[i] >= dimensions.d[i]\n",
      "[TensorRT] ERROR: safeContext.cpp (184) - Cudnn Error in configure: 7 (CUDNN_STATUS_MAPPING_ERROR)\n",
      "[TensorRT] ERROR: FAILED_EXECUTION: std::exception\n"
     ]
    },
    {
     "name": "stdout",
     "output_type": "stream",
     "text": [
      "Time: 0.06183266639709473\n",
      "Time: 0.05863785743713379\n",
      "Time: 0.05863189697265625\n",
      "Time: 0.05809187889099121\n"
     ]
    },
    {
     "name": "stderr",
     "output_type": "stream",
     "text": [
      "[TensorRT] ERROR: Parameter check failed at: engine.cpp::setBindingDimensions::1136, condition: profileMaxDims.d[i] >= dimensions.d[i]\n",
      "[TensorRT] ERROR: safeContext.cpp (184) - Cudnn Error in configure: 7 (CUDNN_STATUS_MAPPING_ERROR)\n",
      "[TensorRT] ERROR: FAILED_EXECUTION: std::exception\n",
      "[TensorRT] ERROR: Parameter check failed at: engine.cpp::setBindingDimensions::1136, condition: profileMaxDims.d[i] >= dimensions.d[i]\n",
      "[TensorRT] ERROR: safeContext.cpp (184) - Cudnn Error in configure: 7 (CUDNN_STATUS_MAPPING_ERROR)\n",
      "[TensorRT] ERROR: FAILED_EXECUTION: std::exception\n",
      "[TensorRT] ERROR: Parameter check failed at: engine.cpp::setBindingDimensions::1136, condition: profileMaxDims.d[i] >= dimensions.d[i]\n",
      "[TensorRT] ERROR: safeContext.cpp (184) - Cudnn Error in configure: 7 (CUDNN_STATUS_MAPPING_ERROR)\n",
      "[TensorRT] ERROR: FAILED_EXECUTION: std::exception\n",
      "[TensorRT] ERROR: Parameter check failed at: engine.cpp::setBindingDimensions::1136, condition: profileMaxDims.d[i] >= dimensions.d[i]\n",
      "[TensorRT] ERROR: safeContext.cpp (184) - Cudnn Error in configure: 7 (CUDNN_STATUS_MAPPING_ERROR)\n",
      "[TensorRT] ERROR: FAILED_EXECUTION: std::exception\n"
     ]
    },
    {
     "name": "stdout",
     "output_type": "stream",
     "text": [
      "Time: 0.058782339096069336\n",
      "Time: 0.05845928192138672\n",
      "Time: 0.05857086181640625\n",
      "Time: 0.058567047119140625\n"
     ]
    },
    {
     "name": "stderr",
     "output_type": "stream",
     "text": [
      "[TensorRT] ERROR: Parameter check failed at: engine.cpp::setBindingDimensions::1136, condition: profileMaxDims.d[i] >= dimensions.d[i]\n",
      "[TensorRT] ERROR: safeContext.cpp (184) - Cudnn Error in configure: 7 (CUDNN_STATUS_MAPPING_ERROR)\n",
      "[TensorRT] ERROR: FAILED_EXECUTION: std::exception\n",
      "[TensorRT] ERROR: Parameter check failed at: engine.cpp::setBindingDimensions::1136, condition: profileMaxDims.d[i] >= dimensions.d[i]\n",
      "[TensorRT] ERROR: safeContext.cpp (184) - Cudnn Error in configure: 7 (CUDNN_STATUS_MAPPING_ERROR)\n",
      "[TensorRT] ERROR: FAILED_EXECUTION: std::exception\n",
      "[TensorRT] ERROR: Parameter check failed at: engine.cpp::setBindingDimensions::1136, condition: profileMaxDims.d[i] >= dimensions.d[i]\n",
      "[TensorRT] ERROR: safeContext.cpp (184) - Cudnn Error in configure: 7 (CUDNN_STATUS_MAPPING_ERROR)\n",
      "[TensorRT] ERROR: FAILED_EXECUTION: std::exception\n",
      "[TensorRT] ERROR: Parameter check failed at: engine.cpp::setBindingDimensions::1136, condition: profileMaxDims.d[i] >= dimensions.d[i]\n",
      "[TensorRT] ERROR: safeContext.cpp (184) - Cudnn Error in configure: 7 (CUDNN_STATUS_MAPPING_ERROR)\n",
      "[TensorRT] ERROR: FAILED_EXECUTION: std::exception\n"
     ]
    },
    {
     "name": "stdout",
     "output_type": "stream",
     "text": [
      "Time: 0.06197786331176758\n",
      "Time: 0.058591604232788086\n",
      "Idx: 700\n",
      "Time: 0.0558161735534668\n",
      "Time: 0.057196855545043945\n"
     ]
    },
    {
     "name": "stderr",
     "output_type": "stream",
     "text": [
      "[TensorRT] ERROR: Parameter check failed at: engine.cpp::setBindingDimensions::1136, condition: profileMaxDims.d[i] >= dimensions.d[i]\n",
      "[TensorRT] ERROR: safeContext.cpp (184) - Cudnn Error in configure: 7 (CUDNN_STATUS_MAPPING_ERROR)\n",
      "[TensorRT] ERROR: FAILED_EXECUTION: std::exception\n",
      "[TensorRT] ERROR: Parameter check failed at: engine.cpp::setBindingDimensions::1136, condition: profileMaxDims.d[i] >= dimensions.d[i]\n",
      "[TensorRT] ERROR: safeContext.cpp (184) - Cudnn Error in configure: 7 (CUDNN_STATUS_MAPPING_ERROR)\n",
      "[TensorRT] ERROR: FAILED_EXECUTION: std::exception\n",
      "[TensorRT] ERROR: Parameter check failed at: engine.cpp::setBindingDimensions::1136, condition: profileMaxDims.d[i] >= dimensions.d[i]\n",
      "[TensorRT] ERROR: safeContext.cpp (184) - Cudnn Error in configure: 7 (CUDNN_STATUS_MAPPING_ERROR)\n",
      "[TensorRT] ERROR: FAILED_EXECUTION: std::exception\n",
      "[TensorRT] ERROR: Parameter check failed at: engine.cpp::setBindingDimensions::1136, condition: profileMaxDims.d[i] >= dimensions.d[i]\n",
      "[TensorRT] ERROR: safeContext.cpp (184) - Cudnn Error in configure: 7 (CUDNN_STATUS_MAPPING_ERROR)\n",
      "[TensorRT] ERROR: FAILED_EXECUTION: std::exception\n"
     ]
    },
    {
     "name": "stdout",
     "output_type": "stream",
     "text": [
      "Time: 0.05850100517272949\n",
      "Time: 0.062381744384765625\n",
      "Time: 0.06253170967102051\n",
      "Time: 0.06238603591918945\n"
     ]
    },
    {
     "name": "stderr",
     "output_type": "stream",
     "text": [
      "[TensorRT] ERROR: Parameter check failed at: engine.cpp::setBindingDimensions::1136, condition: profileMaxDims.d[i] >= dimensions.d[i]\n",
      "[TensorRT] ERROR: safeContext.cpp (184) - Cudnn Error in configure: 7 (CUDNN_STATUS_MAPPING_ERROR)\n",
      "[TensorRT] ERROR: FAILED_EXECUTION: std::exception\n",
      "[TensorRT] ERROR: Parameter check failed at: engine.cpp::setBindingDimensions::1136, condition: profileMaxDims.d[i] >= dimensions.d[i]\n",
      "[TensorRT] ERROR: safeContext.cpp (184) - Cudnn Error in configure: 7 (CUDNN_STATUS_MAPPING_ERROR)\n",
      "[TensorRT] ERROR: FAILED_EXECUTION: std::exception\n",
      "[TensorRT] ERROR: Parameter check failed at: engine.cpp::setBindingDimensions::1136, condition: profileMaxDims.d[i] >= dimensions.d[i]\n",
      "[TensorRT] ERROR: safeContext.cpp (184) - Cudnn Error in configure: 7 (CUDNN_STATUS_MAPPING_ERROR)\n",
      "[TensorRT] ERROR: FAILED_EXECUTION: std::exception\n",
      "[TensorRT] ERROR: Parameter check failed at: engine.cpp::setBindingDimensions::1136, condition: profileMaxDims.d[i] >= dimensions.d[i]\n",
      "[TensorRT] ERROR: safeContext.cpp (184) - Cudnn Error in configure: 7 (CUDNN_STATUS_MAPPING_ERROR)\n",
      "[TensorRT] ERROR: FAILED_EXECUTION: std::exception\n"
     ]
    },
    {
     "name": "stdout",
     "output_type": "stream",
     "text": [
      "Time: 0.06247854232788086\n",
      "Time: 0.0623319149017334\n",
      "Time: 0.05528759956359863\n",
      "Time: 0.055203914642333984\n"
     ]
    },
    {
     "name": "stderr",
     "output_type": "stream",
     "text": [
      "[TensorRT] ERROR: Parameter check failed at: engine.cpp::setBindingDimensions::1136, condition: profileMaxDims.d[i] >= dimensions.d[i]\n",
      "[TensorRT] ERROR: safeContext.cpp (184) - Cudnn Error in configure: 7 (CUDNN_STATUS_MAPPING_ERROR)\n",
      "[TensorRT] ERROR: FAILED_EXECUTION: std::exception\n",
      "[TensorRT] ERROR: Parameter check failed at: engine.cpp::setBindingDimensions::1136, condition: profileMaxDims.d[i] >= dimensions.d[i]\n",
      "[TensorRT] ERROR: safeContext.cpp (184) - Cudnn Error in configure: 7 (CUDNN_STATUS_MAPPING_ERROR)\n",
      "[TensorRT] ERROR: FAILED_EXECUTION: std::exception\n",
      "[TensorRT] ERROR: Parameter check failed at: engine.cpp::setBindingDimensions::1136, condition: profileMaxDims.d[i] >= dimensions.d[i]\n",
      "[TensorRT] ERROR: safeContext.cpp (184) - Cudnn Error in configure: 7 (CUDNN_STATUS_MAPPING_ERROR)\n",
      "[TensorRT] ERROR: FAILED_EXECUTION: std::exception\n",
      "[TensorRT] ERROR: Parameter check failed at: engine.cpp::setBindingDimensions::1136, condition: profileMaxDims.d[i] >= dimensions.d[i]\n",
      "[TensorRT] ERROR: safeContext.cpp (184) - Cudnn Error in configure: 7 (CUDNN_STATUS_MAPPING_ERROR)\n",
      "[TensorRT] ERROR: FAILED_EXECUTION: std::exception\n"
     ]
    },
    {
     "name": "stdout",
     "output_type": "stream",
     "text": [
      "Time: 0.05688738822937012\n",
      "Time: 0.05862689018249512\n",
      "Time: 0.05902385711669922\n",
      "Time: 0.04844927787780762\n"
     ]
    },
    {
     "name": "stderr",
     "output_type": "stream",
     "text": [
      "[TensorRT] ERROR: Parameter check failed at: engine.cpp::setBindingDimensions::1136, condition: profileMaxDims.d[i] >= dimensions.d[i]\n",
      "[TensorRT] ERROR: safeContext.cpp (184) - Cudnn Error in configure: 7 (CUDNN_STATUS_MAPPING_ERROR)\n",
      "[TensorRT] ERROR: FAILED_EXECUTION: std::exception\n",
      "[TensorRT] ERROR: Parameter check failed at: engine.cpp::setBindingDimensions::1136, condition: profileMaxDims.d[i] >= dimensions.d[i]\n",
      "[TensorRT] ERROR: safeContext.cpp (184) - Cudnn Error in configure: 7 (CUDNN_STATUS_MAPPING_ERROR)\n",
      "[TensorRT] ERROR: FAILED_EXECUTION: std::exception\n",
      "[TensorRT] ERROR: Parameter check failed at: engine.cpp::setBindingDimensions::1136, condition: profileMaxDims.d[i] >= dimensions.d[i]\n",
      "[TensorRT] ERROR: safeContext.cpp (184) - Cudnn Error in configure: 7 (CUDNN_STATUS_MAPPING_ERROR)\n",
      "[TensorRT] ERROR: FAILED_EXECUTION: std::exception\n"
     ]
    },
    {
     "name": "stdout",
     "output_type": "stream",
     "text": [
      "Time: 0.07127094268798828\n",
      "Time: 0.08174538612365723\n",
      "Time: 0.06705737113952637\n"
     ]
    },
    {
     "name": "stderr",
     "output_type": "stream",
     "text": [
      "[TensorRT] ERROR: Parameter check failed at: engine.cpp::setBindingDimensions::1136, condition: profileMaxDims.d[i] >= dimensions.d[i]\n",
      "[TensorRT] ERROR: safeContext.cpp (184) - Cudnn Error in configure: 7 (CUDNN_STATUS_MAPPING_ERROR)\n",
      "[TensorRT] ERROR: FAILED_EXECUTION: std::exception\n",
      "[TensorRT] ERROR: Parameter check failed at: engine.cpp::setBindingDimensions::1136, condition: profileMaxDims.d[i] >= dimensions.d[i]\n",
      "[TensorRT] ERROR: safeContext.cpp (184) - Cudnn Error in configure: 7 (CUDNN_STATUS_MAPPING_ERROR)\n",
      "[TensorRT] ERROR: FAILED_EXECUTION: std::exception\n",
      "[TensorRT] ERROR: Parameter check failed at: engine.cpp::setBindingDimensions::1136, condition: profileMaxDims.d[i] >= dimensions.d[i]\n",
      "[TensorRT] ERROR: safeContext.cpp (184) - Cudnn Error in configure: 7 (CUDNN_STATUS_MAPPING_ERROR)\n",
      "[TensorRT] ERROR: FAILED_EXECUTION: std::exception\n"
     ]
    },
    {
     "name": "stdout",
     "output_type": "stream",
     "text": [
      "Time: 0.06295537948608398\n",
      "Time: 0.07917618751525879\n",
      "Time: 0.05490612983703613\n",
      "Time: 0.05501103401184082\n"
     ]
    },
    {
     "name": "stderr",
     "output_type": "stream",
     "text": [
      "[TensorRT] ERROR: Parameter check failed at: engine.cpp::setBindingDimensions::1136, condition: profileMaxDims.d[i] >= dimensions.d[i]\n",
      "[TensorRT] ERROR: safeContext.cpp (184) - Cudnn Error in configure: 7 (CUDNN_STATUS_MAPPING_ERROR)\n",
      "[TensorRT] ERROR: FAILED_EXECUTION: std::exception\n",
      "[TensorRT] ERROR: Parameter check failed at: engine.cpp::setBindingDimensions::1136, condition: profileMaxDims.d[i] >= dimensions.d[i]\n",
      "[TensorRT] ERROR: safeContext.cpp (184) - Cudnn Error in configure: 7 (CUDNN_STATUS_MAPPING_ERROR)\n",
      "[TensorRT] ERROR: FAILED_EXECUTION: std::exception\n",
      "[TensorRT] ERROR: Parameter check failed at: engine.cpp::setBindingDimensions::1136, condition: profileMaxDims.d[i] >= dimensions.d[i]\n",
      "[TensorRT] ERROR: safeContext.cpp (184) - Cudnn Error in configure: 7 (CUDNN_STATUS_MAPPING_ERROR)\n",
      "[TensorRT] ERROR: FAILED_EXECUTION: std::exception\n",
      "[TensorRT] ERROR: Parameter check failed at: engine.cpp::setBindingDimensions::1136, condition: profileMaxDims.d[i] >= dimensions.d[i]\n",
      "[TensorRT] ERROR: safeContext.cpp (184) - Cudnn Error in configure: 7 (CUDNN_STATUS_MAPPING_ERROR)\n",
      "[TensorRT] ERROR: FAILED_EXECUTION: std::exception\n"
     ]
    },
    {
     "name": "stdout",
     "output_type": "stream",
     "text": [
      "Time: 0.055640459060668945\n",
      "Time: 0.06596040725708008\n",
      "Time: 0.06430792808532715\n",
      "Time: 0.042911529541015625\n"
     ]
    },
    {
     "name": "stderr",
     "output_type": "stream",
     "text": [
      "[TensorRT] ERROR: Parameter check failed at: engine.cpp::setBindingDimensions::1136, condition: profileMaxDims.d[i] >= dimensions.d[i]\n",
      "[TensorRT] ERROR: safeContext.cpp (184) - Cudnn Error in configure: 7 (CUDNN_STATUS_MAPPING_ERROR)\n",
      "[TensorRT] ERROR: FAILED_EXECUTION: std::exception\n",
      "[TensorRT] ERROR: Parameter check failed at: engine.cpp::setBindingDimensions::1136, condition: profileMaxDims.d[i] >= dimensions.d[i]\n",
      "[TensorRT] ERROR: safeContext.cpp (184) - Cudnn Error in configure: 7 (CUDNN_STATUS_MAPPING_ERROR)\n",
      "[TensorRT] ERROR: FAILED_EXECUTION: std::exception\n",
      "[TensorRT] ERROR: Parameter check failed at: engine.cpp::setBindingDimensions::1136, condition: profileMaxDims.d[i] >= dimensions.d[i]\n",
      "[TensorRT] ERROR: safeContext.cpp (184) - Cudnn Error in configure: 7 (CUDNN_STATUS_MAPPING_ERROR)\n",
      "[TensorRT] ERROR: FAILED_EXECUTION: std::exception\n",
      "[TensorRT] ERROR: Parameter check failed at: engine.cpp::setBindingDimensions::1136, condition: profileMaxDims.d[i] >= dimensions.d[i]\n",
      "[TensorRT] ERROR: safeContext.cpp (184) - Cudnn Error in configure: 7 (CUDNN_STATUS_MAPPING_ERROR)\n",
      "[TensorRT] ERROR: FAILED_EXECUTION: std::exception\n"
     ]
    },
    {
     "name": "stdout",
     "output_type": "stream",
     "text": [
      "Time: 0.05850553512573242\n",
      "Time: 0.06650400161743164\n",
      "Time: 0.07858896255493164\n"
     ]
    },
    {
     "name": "stderr",
     "output_type": "stream",
     "text": [
      "[TensorRT] ERROR: Parameter check failed at: engine.cpp::setBindingDimensions::1136, condition: profileMaxDims.d[i] >= dimensions.d[i]\n",
      "[TensorRT] ERROR: safeContext.cpp (184) - Cudnn Error in configure: 7 (CUDNN_STATUS_MAPPING_ERROR)\n",
      "[TensorRT] ERROR: FAILED_EXECUTION: std::exception\n",
      "[TensorRT] ERROR: Parameter check failed at: engine.cpp::setBindingDimensions::1136, condition: profileMaxDims.d[i] >= dimensions.d[i]\n",
      "[TensorRT] ERROR: safeContext.cpp (184) - Cudnn Error in configure: 7 (CUDNN_STATUS_MAPPING_ERROR)\n",
      "[TensorRT] ERROR: FAILED_EXECUTION: std::exception\n",
      "[TensorRT] ERROR: Parameter check failed at: engine.cpp::setBindingDimensions::1136, condition: profileMaxDims.d[i] >= dimensions.d[i]\n",
      "[TensorRT] ERROR: safeContext.cpp (184) - Cudnn Error in configure: 7 (CUDNN_STATUS_MAPPING_ERROR)\n",
      "[TensorRT] ERROR: FAILED_EXECUTION: std::exception\n"
     ]
    },
    {
     "name": "stdout",
     "output_type": "stream",
     "text": [
      "Time: 0.0781400203704834\n",
      "Time: 0.0824728012084961\n",
      "Time: 0.045257568359375\n",
      "Time: 0.05439925193786621\n"
     ]
    },
    {
     "name": "stderr",
     "output_type": "stream",
     "text": [
      "[TensorRT] ERROR: Parameter check failed at: engine.cpp::setBindingDimensions::1136, condition: profileMaxDims.d[i] >= dimensions.d[i]\n",
      "[TensorRT] ERROR: safeContext.cpp (184) - Cudnn Error in configure: 7 (CUDNN_STATUS_MAPPING_ERROR)\n",
      "[TensorRT] ERROR: FAILED_EXECUTION: std::exception\n",
      "[TensorRT] ERROR: Parameter check failed at: engine.cpp::setBindingDimensions::1136, condition: profileMaxDims.d[i] >= dimensions.d[i]\n",
      "[TensorRT] ERROR: safeContext.cpp (184) - Cudnn Error in configure: 7 (CUDNN_STATUS_MAPPING_ERROR)\n",
      "[TensorRT] ERROR: FAILED_EXECUTION: std::exception\n",
      "[TensorRT] ERROR: Parameter check failed at: engine.cpp::setBindingDimensions::1136, condition: profileMaxDims.d[i] >= dimensions.d[i]\n",
      "[TensorRT] ERROR: safeContext.cpp (184) - Cudnn Error in configure: 7 (CUDNN_STATUS_MAPPING_ERROR)\n",
      "[TensorRT] ERROR: FAILED_EXECUTION: std::exception\n",
      "[TensorRT] ERROR: Parameter check failed at: engine.cpp::setBindingDimensions::1136, condition: profileMaxDims.d[i] >= dimensions.d[i]\n",
      "[TensorRT] ERROR: safeContext.cpp (184) - Cudnn Error in configure: 7 (CUDNN_STATUS_MAPPING_ERROR)\n",
      "[TensorRT] ERROR: FAILED_EXECUTION: std::exception\n"
     ]
    },
    {
     "name": "stdout",
     "output_type": "stream",
     "text": [
      "Time: 0.04871773719787598\n",
      "Time: 0.04928779602050781\n",
      "Time: 0.052392005920410156\n",
      "Time: 0.05315208435058594\n"
     ]
    },
    {
     "name": "stderr",
     "output_type": "stream",
     "text": [
      "[TensorRT] ERROR: Parameter check failed at: engine.cpp::setBindingDimensions::1136, condition: profileMaxDims.d[i] >= dimensions.d[i]\n",
      "[TensorRT] ERROR: safeContext.cpp (184) - Cudnn Error in configure: 7 (CUDNN_STATUS_MAPPING_ERROR)\n",
      "[TensorRT] ERROR: FAILED_EXECUTION: std::exception\n",
      "[TensorRT] ERROR: Parameter check failed at: engine.cpp::setBindingDimensions::1136, condition: profileMaxDims.d[i] >= dimensions.d[i]\n",
      "[TensorRT] ERROR: safeContext.cpp (184) - Cudnn Error in configure: 7 (CUDNN_STATUS_MAPPING_ERROR)\n",
      "[TensorRT] ERROR: FAILED_EXECUTION: std::exception\n",
      "[TensorRT] ERROR: Parameter check failed at: engine.cpp::setBindingDimensions::1136, condition: profileMaxDims.d[i] >= dimensions.d[i]\n",
      "[TensorRT] ERROR: safeContext.cpp (184) - Cudnn Error in configure: 7 (CUDNN_STATUS_MAPPING_ERROR)\n",
      "[TensorRT] ERROR: FAILED_EXECUTION: std::exception\n",
      "[TensorRT] ERROR: Parameter check failed at: engine.cpp::setBindingDimensions::1136, condition: profileMaxDims.d[i] >= dimensions.d[i]\n",
      "[TensorRT] ERROR: safeContext.cpp (184) - Cudnn Error in configure: 7 (CUDNN_STATUS_MAPPING_ERROR)\n",
      "[TensorRT] ERROR: FAILED_EXECUTION: std::exception\n"
     ]
    },
    {
     "name": "stdout",
     "output_type": "stream",
     "text": [
      "Time: 0.05399441719055176\n",
      "Time: 0.05424356460571289\n",
      "Time: 0.05375099182128906\n",
      "Time: 0.054889678955078125\n"
     ]
    },
    {
     "name": "stderr",
     "output_type": "stream",
     "text": [
      "[TensorRT] ERROR: Parameter check failed at: engine.cpp::setBindingDimensions::1136, condition: profileMaxDims.d[i] >= dimensions.d[i]\n",
      "[TensorRT] ERROR: safeContext.cpp (184) - Cudnn Error in configure: 7 (CUDNN_STATUS_MAPPING_ERROR)\n",
      "[TensorRT] ERROR: FAILED_EXECUTION: std::exception\n",
      "[TensorRT] ERROR: Parameter check failed at: engine.cpp::setBindingDimensions::1136, condition: profileMaxDims.d[i] >= dimensions.d[i]\n",
      "[TensorRT] ERROR: safeContext.cpp (184) - Cudnn Error in configure: 7 (CUDNN_STATUS_MAPPING_ERROR)\n",
      "[TensorRT] ERROR: FAILED_EXECUTION: std::exception\n",
      "[TensorRT] ERROR: Parameter check failed at: engine.cpp::setBindingDimensions::1136, condition: profileMaxDims.d[i] >= dimensions.d[i]\n",
      "[TensorRT] ERROR: safeContext.cpp (184) - Cudnn Error in configure: 7 (CUDNN_STATUS_MAPPING_ERROR)\n",
      "[TensorRT] ERROR: FAILED_EXECUTION: std::exception\n",
      "[TensorRT] ERROR: Parameter check failed at: engine.cpp::setBindingDimensions::1136, condition: profileMaxDims.d[i] >= dimensions.d[i]\n",
      "[TensorRT] ERROR: safeContext.cpp (184) - Cudnn Error in configure: 7 (CUDNN_STATUS_MAPPING_ERROR)\n",
      "[TensorRT] ERROR: FAILED_EXECUTION: std::exception\n"
     ]
    },
    {
     "name": "stdout",
     "output_type": "stream",
     "text": [
      "Time: 0.07587552070617676\n",
      "Time: 0.05726265907287598\n",
      "Time: 0.05441164970397949\n",
      "Time: 0.05488753318786621\n"
     ]
    },
    {
     "name": "stderr",
     "output_type": "stream",
     "text": [
      "[TensorRT] ERROR: Parameter check failed at: engine.cpp::setBindingDimensions::1136, condition: profileMaxDims.d[i] >= dimensions.d[i]\n",
      "[TensorRT] ERROR: safeContext.cpp (184) - Cudnn Error in configure: 7 (CUDNN_STATUS_MAPPING_ERROR)\n",
      "[TensorRT] ERROR: FAILED_EXECUTION: std::exception\n",
      "[TensorRT] ERROR: Parameter check failed at: engine.cpp::setBindingDimensions::1136, condition: profileMaxDims.d[i] >= dimensions.d[i]\n",
      "[TensorRT] ERROR: safeContext.cpp (184) - Cudnn Error in configure: 7 (CUDNN_STATUS_MAPPING_ERROR)\n",
      "[TensorRT] ERROR: FAILED_EXECUTION: std::exception\n",
      "[TensorRT] ERROR: Parameter check failed at: engine.cpp::setBindingDimensions::1136, condition: profileMaxDims.d[i] >= dimensions.d[i]\n",
      "[TensorRT] ERROR: safeContext.cpp (184) - Cudnn Error in configure: 7 (CUDNN_STATUS_MAPPING_ERROR)\n",
      "[TensorRT] ERROR: FAILED_EXECUTION: std::exception\n",
      "[TensorRT] ERROR: Parameter check failed at: engine.cpp::setBindingDimensions::1136, condition: profileMaxDims.d[i] >= dimensions.d[i]\n",
      "[TensorRT] ERROR: safeContext.cpp (184) - Cudnn Error in configure: 7 (CUDNN_STATUS_MAPPING_ERROR)\n",
      "[TensorRT] ERROR: FAILED_EXECUTION: std::exception\n"
     ]
    },
    {
     "name": "stdout",
     "output_type": "stream",
     "text": [
      "Time: 0.0568842887878418\n",
      "Time: 0.05716252326965332\n",
      "Time: 0.05694890022277832\n",
      "Time: 0.07566189765930176\n"
     ]
    },
    {
     "name": "stderr",
     "output_type": "stream",
     "text": [
      "[TensorRT] ERROR: Parameter check failed at: engine.cpp::setBindingDimensions::1136, condition: profileMaxDims.d[i] >= dimensions.d[i]\n",
      "[TensorRT] ERROR: safeContext.cpp (184) - Cudnn Error in configure: 7 (CUDNN_STATUS_MAPPING_ERROR)\n",
      "[TensorRT] ERROR: FAILED_EXECUTION: std::exception\n",
      "[TensorRT] ERROR: Parameter check failed at: engine.cpp::setBindingDimensions::1136, condition: profileMaxDims.d[i] >= dimensions.d[i]\n",
      "[TensorRT] ERROR: safeContext.cpp (184) - Cudnn Error in configure: 7 (CUDNN_STATUS_MAPPING_ERROR)\n",
      "[TensorRT] ERROR: FAILED_EXECUTION: std::exception\n",
      "[TensorRT] ERROR: Parameter check failed at: engine.cpp::setBindingDimensions::1136, condition: profileMaxDims.d[i] >= dimensions.d[i]\n",
      "[TensorRT] ERROR: safeContext.cpp (184) - Cudnn Error in configure: 7 (CUDNN_STATUS_MAPPING_ERROR)\n",
      "[TensorRT] ERROR: FAILED_EXECUTION: std::exception\n",
      "[TensorRT] ERROR: Parameter check failed at: engine.cpp::setBindingDimensions::1136, condition: profileMaxDims.d[i] >= dimensions.d[i]\n",
      "[TensorRT] ERROR: safeContext.cpp (184) - Cudnn Error in configure: 7 (CUDNN_STATUS_MAPPING_ERROR)\n",
      "[TensorRT] ERROR: FAILED_EXECUTION: std::exception\n",
      "[TensorRT] ERROR: Parameter check failed at: engine.cpp::setBindingDimensions::1136, condition: profileMaxDims.d[i] >= dimensions.d[i]\n",
      "[TensorRT] ERROR: safeContext.cpp (184) - Cudnn Error in configure: 7 (CUDNN_STATUS_MAPPING_ERROR)\n",
      "[TensorRT] ERROR: FAILED_EXECUTION: std::exception\n",
      "[TensorRT] ERROR: Parameter check failed at: engine.cpp::setBindingDimensions::1136, condition: profileMaxDims.d[i] >= dimensions.d[i]\n",
      "[TensorRT] ERROR: safeContext.cpp (184) - Cudnn Error in configure: 7 (CUDNN_STATUS_MAPPING_ERROR)\n",
      "[TensorRT] ERROR: FAILED_EXECUTION: std::exception\n"
     ]
    },
    {
     "name": "stdout",
     "output_type": "stream",
     "text": [
      "Time: 0.0803377628326416\n",
      "Time: 0.08323788642883301\n",
      "Time: 0.07842564582824707\n"
     ]
    },
    {
     "name": "stderr",
     "output_type": "stream",
     "text": [
      "[TensorRT] ERROR: Parameter check failed at: engine.cpp::setBindingDimensions::1136, condition: profileMaxDims.d[i] >= dimensions.d[i]\n",
      "[TensorRT] ERROR: safeContext.cpp (184) - Cudnn Error in configure: 7 (CUDNN_STATUS_MAPPING_ERROR)\n",
      "[TensorRT] ERROR: FAILED_EXECUTION: std::exception\n",
      "[TensorRT] ERROR: Parameter check failed at: engine.cpp::setBindingDimensions::1136, condition: profileMaxDims.d[i] >= dimensions.d[i]\n",
      "[TensorRT] ERROR: safeContext.cpp (184) - Cudnn Error in configure: 7 (CUDNN_STATUS_MAPPING_ERROR)\n",
      "[TensorRT] ERROR: FAILED_EXECUTION: std::exception\n",
      "[TensorRT] ERROR: Parameter check failed at: engine.cpp::setBindingDimensions::1136, condition: profileMaxDims.d[i] >= dimensions.d[i]\n",
      "[TensorRT] ERROR: safeContext.cpp (184) - Cudnn Error in configure: 7 (CUDNN_STATUS_MAPPING_ERROR)\n",
      "[TensorRT] ERROR: FAILED_EXECUTION: std::exception\n"
     ]
    },
    {
     "name": "stdout",
     "output_type": "stream",
     "text": [
      "Time: 0.07449984550476074\n",
      "Time: 0.06728959083557129\n",
      "Time: 0.062038421630859375\n",
      "Time: 0.06313967704772949\n"
     ]
    },
    {
     "name": "stderr",
     "output_type": "stream",
     "text": [
      "[TensorRT] ERROR: Parameter check failed at: engine.cpp::setBindingDimensions::1136, condition: profileMaxDims.d[i] >= dimensions.d[i]\n",
      "[TensorRT] ERROR: safeContext.cpp (184) - Cudnn Error in configure: 7 (CUDNN_STATUS_MAPPING_ERROR)\n",
      "[TensorRT] ERROR: FAILED_EXECUTION: std::exception\n",
      "[TensorRT] ERROR: Parameter check failed at: engine.cpp::setBindingDimensions::1136, condition: profileMaxDims.d[i] >= dimensions.d[i]\n",
      "[TensorRT] ERROR: safeContext.cpp (184) - Cudnn Error in configure: 7 (CUDNN_STATUS_MAPPING_ERROR)\n",
      "[TensorRT] ERROR: FAILED_EXECUTION: std::exception\n",
      "[TensorRT] ERROR: Parameter check failed at: engine.cpp::setBindingDimensions::1136, condition: profileMaxDims.d[i] >= dimensions.d[i]\n",
      "[TensorRT] ERROR: safeContext.cpp (184) - Cudnn Error in configure: 7 (CUDNN_STATUS_MAPPING_ERROR)\n",
      "[TensorRT] ERROR: FAILED_EXECUTION: std::exception\n",
      "[TensorRT] ERROR: Parameter check failed at: engine.cpp::setBindingDimensions::1136, condition: profileMaxDims.d[i] >= dimensions.d[i]\n",
      "[TensorRT] ERROR: safeContext.cpp (184) - Cudnn Error in configure: 7 (CUDNN_STATUS_MAPPING_ERROR)\n",
      "[TensorRT] ERROR: FAILED_EXECUTION: std::exception\n"
     ]
    },
    {
     "name": "stdout",
     "output_type": "stream",
     "text": [
      "Time: 0.062070608139038086\n",
      "Time: 0.06228756904602051\n",
      "Time: 0.05917978286743164\n",
      "Time: 0.06177687644958496\n"
     ]
    },
    {
     "name": "stderr",
     "output_type": "stream",
     "text": [
      "[TensorRT] ERROR: Parameter check failed at: engine.cpp::setBindingDimensions::1136, condition: profileMaxDims.d[i] >= dimensions.d[i]\n",
      "[TensorRT] ERROR: safeContext.cpp (184) - Cudnn Error in configure: 7 (CUDNN_STATUS_MAPPING_ERROR)\n",
      "[TensorRT] ERROR: FAILED_EXECUTION: std::exception\n",
      "[TensorRT] ERROR: Parameter check failed at: engine.cpp::setBindingDimensions::1136, condition: profileMaxDims.d[i] >= dimensions.d[i]\n",
      "[TensorRT] ERROR: safeContext.cpp (184) - Cudnn Error in configure: 7 (CUDNN_STATUS_MAPPING_ERROR)\n",
      "[TensorRT] ERROR: FAILED_EXECUTION: std::exception\n",
      "[TensorRT] ERROR: Parameter check failed at: engine.cpp::setBindingDimensions::1136, condition: profileMaxDims.d[i] >= dimensions.d[i]\n",
      "[TensorRT] ERROR: safeContext.cpp (184) - Cudnn Error in configure: 7 (CUDNN_STATUS_MAPPING_ERROR)\n",
      "[TensorRT] ERROR: FAILED_EXECUTION: std::exception\n",
      "[TensorRT] ERROR: Parameter check failed at: engine.cpp::setBindingDimensions::1136, condition: profileMaxDims.d[i] >= dimensions.d[i]\n",
      "[TensorRT] ERROR: safeContext.cpp (184) - Cudnn Error in configure: 7 (CUDNN_STATUS_MAPPING_ERROR)\n",
      "[TensorRT] ERROR: FAILED_EXECUTION: std::exception\n"
     ]
    },
    {
     "name": "stdout",
     "output_type": "stream",
     "text": [
      "Time: 0.055898189544677734\n",
      "Time: 0.05592656135559082\n",
      "Time: 0.05928182601928711\n",
      "Time: 0.07643938064575195\n"
     ]
    },
    {
     "name": "stderr",
     "output_type": "stream",
     "text": [
      "[TensorRT] ERROR: Parameter check failed at: engine.cpp::setBindingDimensions::1136, condition: profileMaxDims.d[i] >= dimensions.d[i]\n",
      "[TensorRT] ERROR: safeContext.cpp (184) - Cudnn Error in configure: 7 (CUDNN_STATUS_MAPPING_ERROR)\n",
      "[TensorRT] ERROR: FAILED_EXECUTION: std::exception\n",
      "[TensorRT] ERROR: Parameter check failed at: engine.cpp::setBindingDimensions::1136, condition: profileMaxDims.d[i] >= dimensions.d[i]\n",
      "[TensorRT] ERROR: safeContext.cpp (184) - Cudnn Error in configure: 7 (CUDNN_STATUS_MAPPING_ERROR)\n",
      "[TensorRT] ERROR: FAILED_EXECUTION: std::exception\n",
      "[TensorRT] ERROR: Parameter check failed at: engine.cpp::setBindingDimensions::1136, condition: profileMaxDims.d[i] >= dimensions.d[i]\n",
      "[TensorRT] ERROR: safeContext.cpp (184) - Cudnn Error in configure: 7 (CUDNN_STATUS_MAPPING_ERROR)\n",
      "[TensorRT] ERROR: FAILED_EXECUTION: std::exception\n"
     ]
    },
    {
     "name": "stdout",
     "output_type": "stream",
     "text": [
      "Time: 0.06858491897583008\n",
      "Time: 0.08501720428466797\n",
      "Time: 0.08021187782287598\n"
     ]
    },
    {
     "name": "stderr",
     "output_type": "stream",
     "text": [
      "[TensorRT] ERROR: Parameter check failed at: engine.cpp::setBindingDimensions::1136, condition: profileMaxDims.d[i] >= dimensions.d[i]\n",
      "[TensorRT] ERROR: safeContext.cpp (184) - Cudnn Error in configure: 7 (CUDNN_STATUS_MAPPING_ERROR)\n",
      "[TensorRT] ERROR: FAILED_EXECUTION: std::exception\n",
      "[TensorRT] ERROR: Parameter check failed at: engine.cpp::setBindingDimensions::1136, condition: profileMaxDims.d[i] >= dimensions.d[i]\n",
      "[TensorRT] ERROR: safeContext.cpp (184) - Cudnn Error in configure: 7 (CUDNN_STATUS_MAPPING_ERROR)\n",
      "[TensorRT] ERROR: FAILED_EXECUTION: std::exception\n"
     ]
    },
    {
     "name": "stdout",
     "output_type": "stream",
     "text": [
      "Time: 0.12677788734436035\n",
      "Time: 0.07761836051940918\n",
      "Time: 0.054800987243652344\n",
      "Time: 0.05553388595581055\n"
     ]
    },
    {
     "name": "stderr",
     "output_type": "stream",
     "text": [
      "[TensorRT] ERROR: Parameter check failed at: engine.cpp::setBindingDimensions::1136, condition: profileMaxDims.d[i] >= dimensions.d[i]\n",
      "[TensorRT] ERROR: safeContext.cpp (184) - Cudnn Error in configure: 7 (CUDNN_STATUS_MAPPING_ERROR)\n",
      "[TensorRT] ERROR: FAILED_EXECUTION: std::exception\n",
      "[TensorRT] ERROR: Parameter check failed at: engine.cpp::setBindingDimensions::1136, condition: profileMaxDims.d[i] >= dimensions.d[i]\n",
      "[TensorRT] ERROR: safeContext.cpp (184) - Cudnn Error in configure: 7 (CUDNN_STATUS_MAPPING_ERROR)\n",
      "[TensorRT] ERROR: FAILED_EXECUTION: std::exception\n",
      "[TensorRT] ERROR: Parameter check failed at: engine.cpp::setBindingDimensions::1136, condition: profileMaxDims.d[i] >= dimensions.d[i]\n",
      "[TensorRT] ERROR: safeContext.cpp (184) - Cudnn Error in configure: 7 (CUDNN_STATUS_MAPPING_ERROR)\n",
      "[TensorRT] ERROR: FAILED_EXECUTION: std::exception\n",
      "[TensorRT] ERROR: Parameter check failed at: engine.cpp::setBindingDimensions::1136, condition: profileMaxDims.d[i] >= dimensions.d[i]\n",
      "[TensorRT] ERROR: safeContext.cpp (184) - Cudnn Error in configure: 7 (CUDNN_STATUS_MAPPING_ERROR)\n",
      "[TensorRT] ERROR: FAILED_EXECUTION: std::exception\n"
     ]
    },
    {
     "name": "stdout",
     "output_type": "stream",
     "text": [
      "Time: 0.058763980865478516\n",
      "Time: 0.12706637382507324\n",
      "Time: 0.05593228340148926\n"
     ]
    },
    {
     "name": "stderr",
     "output_type": "stream",
     "text": [
      "[TensorRT] ERROR: Parameter check failed at: engine.cpp::setBindingDimensions::1136, condition: profileMaxDims.d[i] >= dimensions.d[i]\n",
      "[TensorRT] ERROR: safeContext.cpp (184) - Cudnn Error in configure: 7 (CUDNN_STATUS_MAPPING_ERROR)\n",
      "[TensorRT] ERROR: FAILED_EXECUTION: std::exception\n",
      "[TensorRT] ERROR: Parameter check failed at: engine.cpp::setBindingDimensions::1136, condition: profileMaxDims.d[i] >= dimensions.d[i]\n",
      "[TensorRT] ERROR: safeContext.cpp (184) - Cudnn Error in configure: 7 (CUDNN_STATUS_MAPPING_ERROR)\n",
      "[TensorRT] ERROR: FAILED_EXECUTION: std::exception\n",
      "[TensorRT] ERROR: Parameter check failed at: engine.cpp::setBindingDimensions::1136, condition: profileMaxDims.d[i] >= dimensions.d[i]\n",
      "[TensorRT] ERROR: safeContext.cpp (184) - Cudnn Error in configure: 7 (CUDNN_STATUS_MAPPING_ERROR)\n",
      "[TensorRT] ERROR: FAILED_EXECUTION: std::exception\n",
      "[TensorRT] ERROR: Parameter check failed at: engine.cpp::setBindingDimensions::1136, condition: profileMaxDims.d[i] >= dimensions.d[i]\n",
      "[TensorRT] ERROR: safeContext.cpp (184) - Cudnn Error in configure: 7 (CUDNN_STATUS_MAPPING_ERROR)\n",
      "[TensorRT] ERROR: FAILED_EXECUTION: std::exception\n"
     ]
    },
    {
     "name": "stdout",
     "output_type": "stream",
     "text": [
      "Time: 0.06354260444641113\n",
      "Time: 0.0596771240234375\n",
      "Time: 0.05242776870727539\n",
      "Time: 0.05773425102233887\n"
     ]
    },
    {
     "name": "stderr",
     "output_type": "stream",
     "text": [
      "[TensorRT] ERROR: Parameter check failed at: engine.cpp::setBindingDimensions::1136, condition: profileMaxDims.d[i] >= dimensions.d[i]\n",
      "[TensorRT] ERROR: safeContext.cpp (184) - Cudnn Error in configure: 7 (CUDNN_STATUS_MAPPING_ERROR)\n",
      "[TensorRT] ERROR: FAILED_EXECUTION: std::exception\n",
      "[TensorRT] ERROR: Parameter check failed at: engine.cpp::setBindingDimensions::1136, condition: profileMaxDims.d[i] >= dimensions.d[i]\n",
      "[TensorRT] ERROR: safeContext.cpp (184) - Cudnn Error in configure: 7 (CUDNN_STATUS_MAPPING_ERROR)\n",
      "[TensorRT] ERROR: FAILED_EXECUTION: std::exception\n",
      "[TensorRT] ERROR: Parameter check failed at: engine.cpp::setBindingDimensions::1136, condition: profileMaxDims.d[i] >= dimensions.d[i]\n",
      "[TensorRT] ERROR: safeContext.cpp (184) - Cudnn Error in configure: 7 (CUDNN_STATUS_MAPPING_ERROR)\n",
      "[TensorRT] ERROR: FAILED_EXECUTION: std::exception\n",
      "[TensorRT] ERROR: Parameter check failed at: engine.cpp::setBindingDimensions::1136, condition: profileMaxDims.d[i] >= dimensions.d[i]\n",
      "[TensorRT] ERROR: safeContext.cpp (184) - Cudnn Error in configure: 7 (CUDNN_STATUS_MAPPING_ERROR)\n",
      "[TensorRT] ERROR: FAILED_EXECUTION: std::exception\n"
     ]
    },
    {
     "name": "stdout",
     "output_type": "stream",
     "text": [
      "Time: 0.05709648132324219\n",
      "Time: 0.05850386619567871\n",
      "Time: 0.06168723106384277\n",
      "Time: 0.05988335609436035\n"
     ]
    },
    {
     "name": "stderr",
     "output_type": "stream",
     "text": [
      "[TensorRT] ERROR: Parameter check failed at: engine.cpp::setBindingDimensions::1136, condition: profileMaxDims.d[i] >= dimensions.d[i]\n",
      "[TensorRT] ERROR: safeContext.cpp (184) - Cudnn Error in configure: 7 (CUDNN_STATUS_MAPPING_ERROR)\n",
      "[TensorRT] ERROR: FAILED_EXECUTION: std::exception\n",
      "[TensorRT] ERROR: Parameter check failed at: engine.cpp::setBindingDimensions::1136, condition: profileMaxDims.d[i] >= dimensions.d[i]\n",
      "[TensorRT] ERROR: safeContext.cpp (184) - Cudnn Error in configure: 7 (CUDNN_STATUS_MAPPING_ERROR)\n",
      "[TensorRT] ERROR: FAILED_EXECUTION: std::exception\n",
      "[TensorRT] ERROR: Parameter check failed at: engine.cpp::setBindingDimensions::1136, condition: profileMaxDims.d[i] >= dimensions.d[i]\n",
      "[TensorRT] ERROR: safeContext.cpp (184) - Cudnn Error in configure: 7 (CUDNN_STATUS_MAPPING_ERROR)\n",
      "[TensorRT] ERROR: FAILED_EXECUTION: std::exception\n",
      "[TensorRT] ERROR: Parameter check failed at: engine.cpp::setBindingDimensions::1136, condition: profileMaxDims.d[i] >= dimensions.d[i]\n",
      "[TensorRT] ERROR: safeContext.cpp (184) - Cudnn Error in configure: 7 (CUDNN_STATUS_MAPPING_ERROR)\n",
      "[TensorRT] ERROR: FAILED_EXECUTION: std::exception\n"
     ]
    },
    {
     "name": "stdout",
     "output_type": "stream",
     "text": [
      "Time: 0.0668482780456543\n",
      "Time: 0.05633401870727539\n",
      "Time: 0.05712556838989258\n",
      "Time: 0.062285661697387695\n"
     ]
    },
    {
     "name": "stderr",
     "output_type": "stream",
     "text": [
      "[TensorRT] ERROR: Parameter check failed at: engine.cpp::setBindingDimensions::1136, condition: profileMaxDims.d[i] >= dimensions.d[i]\n",
      "[TensorRT] ERROR: safeContext.cpp (184) - Cudnn Error in configure: 7 (CUDNN_STATUS_MAPPING_ERROR)\n",
      "[TensorRT] ERROR: FAILED_EXECUTION: std::exception\n",
      "[TensorRT] ERROR: Parameter check failed at: engine.cpp::setBindingDimensions::1136, condition: profileMaxDims.d[i] >= dimensions.d[i]\n",
      "[TensorRT] ERROR: safeContext.cpp (184) - Cudnn Error in configure: 7 (CUDNN_STATUS_MAPPING_ERROR)\n",
      "[TensorRT] ERROR: FAILED_EXECUTION: std::exception\n",
      "[TensorRT] ERROR: Parameter check failed at: engine.cpp::setBindingDimensions::1136, condition: profileMaxDims.d[i] >= dimensions.d[i]\n",
      "[TensorRT] ERROR: safeContext.cpp (184) - Cudnn Error in configure: 7 (CUDNN_STATUS_MAPPING_ERROR)\n",
      "[TensorRT] ERROR: FAILED_EXECUTION: std::exception\n",
      "[TensorRT] ERROR: Parameter check failed at: engine.cpp::setBindingDimensions::1136, condition: profileMaxDims.d[i] >= dimensions.d[i]\n",
      "[TensorRT] ERROR: safeContext.cpp (184) - Cudnn Error in configure: 7 (CUDNN_STATUS_MAPPING_ERROR)\n",
      "[TensorRT] ERROR: FAILED_EXECUTION: std::exception\n"
     ]
    },
    {
     "name": "stdout",
     "output_type": "stream",
     "text": [
      "Time: 0.0622560977935791\n",
      "Time: 0.061989784240722656\n",
      "Time: 0.06258988380432129\n",
      "Time: 0.061530113220214844\n"
     ]
    },
    {
     "name": "stderr",
     "output_type": "stream",
     "text": [
      "[TensorRT] ERROR: Parameter check failed at: engine.cpp::setBindingDimensions::1136, condition: profileMaxDims.d[i] >= dimensions.d[i]\n",
      "[TensorRT] ERROR: safeContext.cpp (184) - Cudnn Error in configure: 7 (CUDNN_STATUS_MAPPING_ERROR)\n",
      "[TensorRT] ERROR: FAILED_EXECUTION: std::exception\n",
      "[TensorRT] ERROR: Parameter check failed at: engine.cpp::setBindingDimensions::1136, condition: profileMaxDims.d[i] >= dimensions.d[i]\n",
      "[TensorRT] ERROR: safeContext.cpp (184) - Cudnn Error in configure: 7 (CUDNN_STATUS_MAPPING_ERROR)\n",
      "[TensorRT] ERROR: FAILED_EXECUTION: std::exception\n",
      "[TensorRT] ERROR: Parameter check failed at: engine.cpp::setBindingDimensions::1136, condition: profileMaxDims.d[i] >= dimensions.d[i]\n",
      "[TensorRT] ERROR: safeContext.cpp (184) - Cudnn Error in configure: 7 (CUDNN_STATUS_MAPPING_ERROR)\n",
      "[TensorRT] ERROR: FAILED_EXECUTION: std::exception\n",
      "[TensorRT] ERROR: Parameter check failed at: engine.cpp::setBindingDimensions::1136, condition: profileMaxDims.d[i] >= dimensions.d[i]\n",
      "[TensorRT] ERROR: safeContext.cpp (184) - Cudnn Error in configure: 7 (CUDNN_STATUS_MAPPING_ERROR)\n",
      "[TensorRT] ERROR: FAILED_EXECUTION: std::exception\n"
     ]
    },
    {
     "name": "stdout",
     "output_type": "stream",
     "text": [
      "Time: 0.06226754188537598\n",
      "Time: 0.06232714653015137\n",
      "Time: 0.06271624565124512\n",
      "Time: 0.06162571907043457\n"
     ]
    },
    {
     "name": "stderr",
     "output_type": "stream",
     "text": [
      "[TensorRT] ERROR: Parameter check failed at: engine.cpp::setBindingDimensions::1136, condition: profileMaxDims.d[i] >= dimensions.d[i]\n",
      "[TensorRT] ERROR: safeContext.cpp (184) - Cudnn Error in configure: 7 (CUDNN_STATUS_MAPPING_ERROR)\n",
      "[TensorRT] ERROR: FAILED_EXECUTION: std::exception\n",
      "[TensorRT] ERROR: Parameter check failed at: engine.cpp::setBindingDimensions::1136, condition: profileMaxDims.d[i] >= dimensions.d[i]\n",
      "[TensorRT] ERROR: safeContext.cpp (184) - Cudnn Error in configure: 7 (CUDNN_STATUS_MAPPING_ERROR)\n",
      "[TensorRT] ERROR: FAILED_EXECUTION: std::exception\n",
      "[TensorRT] ERROR: Parameter check failed at: engine.cpp::setBindingDimensions::1136, condition: profileMaxDims.d[i] >= dimensions.d[i]\n",
      "[TensorRT] ERROR: safeContext.cpp (184) - Cudnn Error in configure: 7 (CUDNN_STATUS_MAPPING_ERROR)\n",
      "[TensorRT] ERROR: FAILED_EXECUTION: std::exception\n"
     ]
    },
    {
     "name": "stdout",
     "output_type": "stream",
     "text": [
      "Time: 0.07944369316101074\n",
      "Time: 0.07419991493225098\n",
      "Time: 0.06555342674255371\n"
     ]
    },
    {
     "name": "stderr",
     "output_type": "stream",
     "text": [
      "[TensorRT] ERROR: Parameter check failed at: engine.cpp::setBindingDimensions::1136, condition: profileMaxDims.d[i] >= dimensions.d[i]\n",
      "[TensorRT] ERROR: safeContext.cpp (184) - Cudnn Error in configure: 7 (CUDNN_STATUS_MAPPING_ERROR)\n",
      "[TensorRT] ERROR: FAILED_EXECUTION: std::exception\n",
      "[TensorRT] ERROR: Parameter check failed at: engine.cpp::setBindingDimensions::1136, condition: profileMaxDims.d[i] >= dimensions.d[i]\n",
      "[TensorRT] ERROR: safeContext.cpp (184) - Cudnn Error in configure: 7 (CUDNN_STATUS_MAPPING_ERROR)\n",
      "[TensorRT] ERROR: FAILED_EXECUTION: std::exception\n",
      "[TensorRT] ERROR: Parameter check failed at: engine.cpp::setBindingDimensions::1136, condition: profileMaxDims.d[i] >= dimensions.d[i]\n",
      "[TensorRT] ERROR: safeContext.cpp (184) - Cudnn Error in configure: 7 (CUDNN_STATUS_MAPPING_ERROR)\n",
      "[TensorRT] ERROR: FAILED_EXECUTION: std::exception\n",
      "[TensorRT] ERROR: Parameter check failed at: engine.cpp::setBindingDimensions::1136, condition: profileMaxDims.d[i] >= dimensions.d[i]\n",
      "[TensorRT] ERROR: safeContext.cpp (184) - Cudnn Error in configure: 7 (CUDNN_STATUS_MAPPING_ERROR)\n",
      "[TensorRT] ERROR: FAILED_EXECUTION: std::exception\n"
     ]
    },
    {
     "name": "stdout",
     "output_type": "stream",
     "text": [
      "Time: 0.056731224060058594\n",
      "Time: 0.05980372428894043\n",
      "Time: 0.05740761756896973\n",
      "Time: 0.06512951850891113\n",
      "Idx: 800\n"
     ]
    },
    {
     "name": "stderr",
     "output_type": "stream",
     "text": [
      "[TensorRT] ERROR: Parameter check failed at: engine.cpp::setBindingDimensions::1136, condition: profileMaxDims.d[i] >= dimensions.d[i]\n",
      "[TensorRT] ERROR: safeContext.cpp (184) - Cudnn Error in configure: 7 (CUDNN_STATUS_MAPPING_ERROR)\n",
      "[TensorRT] ERROR: FAILED_EXECUTION: std::exception\n",
      "[TensorRT] ERROR: Parameter check failed at: engine.cpp::setBindingDimensions::1136, condition: profileMaxDims.d[i] >= dimensions.d[i]\n",
      "[TensorRT] ERROR: safeContext.cpp (184) - Cudnn Error in configure: 7 (CUDNN_STATUS_MAPPING_ERROR)\n",
      "[TensorRT] ERROR: FAILED_EXECUTION: std::exception\n",
      "[TensorRT] ERROR: Parameter check failed at: engine.cpp::setBindingDimensions::1136, condition: profileMaxDims.d[i] >= dimensions.d[i]\n",
      "[TensorRT] ERROR: safeContext.cpp (184) - Cudnn Error in configure: 7 (CUDNN_STATUS_MAPPING_ERROR)\n",
      "[TensorRT] ERROR: FAILED_EXECUTION: std::exception\n",
      "[TensorRT] ERROR: Parameter check failed at: engine.cpp::setBindingDimensions::1136, condition: profileMaxDims.d[i] >= dimensions.d[i]\n",
      "[TensorRT] ERROR: safeContext.cpp (184) - Cudnn Error in configure: 7 (CUDNN_STATUS_MAPPING_ERROR)\n",
      "[TensorRT] ERROR: FAILED_EXECUTION: std::exception\n"
     ]
    },
    {
     "name": "stdout",
     "output_type": "stream",
     "text": [
      "Time: 0.06176567077636719\n",
      "Time: 0.05648350715637207\n",
      "Time: 0.05850076675415039\n",
      "Time: 0.06258988380432129\n"
     ]
    },
    {
     "name": "stderr",
     "output_type": "stream",
     "text": [
      "[TensorRT] ERROR: Parameter check failed at: engine.cpp::setBindingDimensions::1136, condition: profileMaxDims.d[i] >= dimensions.d[i]\n",
      "[TensorRT] ERROR: safeContext.cpp (184) - Cudnn Error in configure: 7 (CUDNN_STATUS_MAPPING_ERROR)\n",
      "[TensorRT] ERROR: FAILED_EXECUTION: std::exception\n",
      "[TensorRT] ERROR: Parameter check failed at: engine.cpp::setBindingDimensions::1136, condition: profileMaxDims.d[i] >= dimensions.d[i]\n",
      "[TensorRT] ERROR: safeContext.cpp (184) - Cudnn Error in configure: 7 (CUDNN_STATUS_MAPPING_ERROR)\n",
      "[TensorRT] ERROR: FAILED_EXECUTION: std::exception\n",
      "[TensorRT] ERROR: Parameter check failed at: engine.cpp::setBindingDimensions::1136, condition: profileMaxDims.d[i] >= dimensions.d[i]\n",
      "[TensorRT] ERROR: safeContext.cpp (184) - Cudnn Error in configure: 7 (CUDNN_STATUS_MAPPING_ERROR)\n",
      "[TensorRT] ERROR: FAILED_EXECUTION: std::exception\n",
      "[TensorRT] ERROR: Parameter check failed at: engine.cpp::setBindingDimensions::1136, condition: profileMaxDims.d[i] >= dimensions.d[i]\n",
      "[TensorRT] ERROR: safeContext.cpp (184) - Cudnn Error in configure: 7 (CUDNN_STATUS_MAPPING_ERROR)\n",
      "[TensorRT] ERROR: FAILED_EXECUTION: std::exception\n"
     ]
    },
    {
     "name": "stdout",
     "output_type": "stream",
     "text": [
      "Time: 0.062201738357543945\n",
      "Time: 0.04541182518005371\n",
      "Time: 0.06055617332458496\n",
      "Time: 0.03402829170227051\n",
      "Time: 0.04384326934814453\n"
     ]
    },
    {
     "name": "stderr",
     "output_type": "stream",
     "text": [
      "[TensorRT] ERROR: Parameter check failed at: engine.cpp::setBindingDimensions::1136, condition: profileMaxDims.d[i] >= dimensions.d[i]\n",
      "[TensorRT] ERROR: safeContext.cpp (184) - Cudnn Error in configure: 7 (CUDNN_STATUS_MAPPING_ERROR)\n",
      "[TensorRT] ERROR: FAILED_EXECUTION: std::exception\n",
      "[TensorRT] ERROR: Parameter check failed at: engine.cpp::setBindingDimensions::1136, condition: profileMaxDims.d[i] >= dimensions.d[i]\n",
      "[TensorRT] ERROR: safeContext.cpp (184) - Cudnn Error in configure: 7 (CUDNN_STATUS_MAPPING_ERROR)\n",
      "[TensorRT] ERROR: FAILED_EXECUTION: std::exception\n",
      "[TensorRT] ERROR: Parameter check failed at: engine.cpp::setBindingDimensions::1136, condition: profileMaxDims.d[i] >= dimensions.d[i]\n",
      "[TensorRT] ERROR: safeContext.cpp (184) - Cudnn Error in configure: 7 (CUDNN_STATUS_MAPPING_ERROR)\n",
      "[TensorRT] ERROR: FAILED_EXECUTION: std::exception\n",
      "[TensorRT] ERROR: Parameter check failed at: engine.cpp::setBindingDimensions::1136, condition: profileMaxDims.d[i] >= dimensions.d[i]\n",
      "[TensorRT] ERROR: safeContext.cpp (184) - Cudnn Error in configure: 7 (CUDNN_STATUS_MAPPING_ERROR)\n",
      "[TensorRT] ERROR: FAILED_EXECUTION: std::exception\n"
     ]
    },
    {
     "name": "stdout",
     "output_type": "stream",
     "text": [
      "Time: 0.0863945484161377\n",
      "Time: 0.0572049617767334\n",
      "Time: 0.0623171329498291\n",
      "Time: 0.04349493980407715\n"
     ]
    },
    {
     "name": "stderr",
     "output_type": "stream",
     "text": [
      "[TensorRT] ERROR: Parameter check failed at: engine.cpp::setBindingDimensions::1136, condition: profileMaxDims.d[i] >= dimensions.d[i]\n",
      "[TensorRT] ERROR: safeContext.cpp (184) - Cudnn Error in configure: 7 (CUDNN_STATUS_MAPPING_ERROR)\n",
      "[TensorRT] ERROR: FAILED_EXECUTION: std::exception\n",
      "[TensorRT] ERROR: Parameter check failed at: engine.cpp::setBindingDimensions::1136, condition: profileMaxDims.d[i] >= dimensions.d[i]\n",
      "[TensorRT] ERROR: safeContext.cpp (184) - Cudnn Error in configure: 7 (CUDNN_STATUS_MAPPING_ERROR)\n",
      "[TensorRT] ERROR: FAILED_EXECUTION: std::exception\n",
      "[TensorRT] ERROR: Parameter check failed at: engine.cpp::setBindingDimensions::1136, condition: profileMaxDims.d[i] >= dimensions.d[i]\n",
      "[TensorRT] ERROR: safeContext.cpp (184) - Cudnn Error in configure: 7 (CUDNN_STATUS_MAPPING_ERROR)\n",
      "[TensorRT] ERROR: FAILED_EXECUTION: std::exception\n",
      "[TensorRT] ERROR: Parameter check failed at: engine.cpp::setBindingDimensions::1136, condition: profileMaxDims.d[i] >= dimensions.d[i]\n",
      "[TensorRT] ERROR: safeContext.cpp (184) - Cudnn Error in configure: 7 (CUDNN_STATUS_MAPPING_ERROR)\n",
      "[TensorRT] ERROR: FAILED_EXECUTION: std::exception\n"
     ]
    },
    {
     "name": "stdout",
     "output_type": "stream",
     "text": [
      "Time: 0.04116678237915039\n",
      "Time: 0.048386573791503906\n",
      "Time: 0.04112648963928223\n",
      "Time: 0.05004620552062988\n",
      "Time: 0.05112266540527344\n"
     ]
    },
    {
     "name": "stderr",
     "output_type": "stream",
     "text": [
      "[TensorRT] ERROR: Parameter check failed at: engine.cpp::setBindingDimensions::1136, condition: profileMaxDims.d[i] >= dimensions.d[i]\n",
      "[TensorRT] ERROR: safeContext.cpp (184) - Cudnn Error in configure: 7 (CUDNN_STATUS_MAPPING_ERROR)\n",
      "[TensorRT] ERROR: FAILED_EXECUTION: std::exception\n",
      "[TensorRT] ERROR: Parameter check failed at: engine.cpp::setBindingDimensions::1136, condition: profileMaxDims.d[i] >= dimensions.d[i]\n",
      "[TensorRT] ERROR: safeContext.cpp (184) - Cudnn Error in configure: 7 (CUDNN_STATUS_MAPPING_ERROR)\n",
      "[TensorRT] ERROR: FAILED_EXECUTION: std::exception\n",
      "[TensorRT] ERROR: Parameter check failed at: engine.cpp::setBindingDimensions::1136, condition: profileMaxDims.d[i] >= dimensions.d[i]\n",
      "[TensorRT] ERROR: safeContext.cpp (184) - Cudnn Error in configure: 7 (CUDNN_STATUS_MAPPING_ERROR)\n",
      "[TensorRT] ERROR: FAILED_EXECUTION: std::exception\n",
      "[TensorRT] ERROR: Parameter check failed at: engine.cpp::setBindingDimensions::1136, condition: profileMaxDims.d[i] >= dimensions.d[i]\n",
      "[TensorRT] ERROR: safeContext.cpp (184) - Cudnn Error in configure: 7 (CUDNN_STATUS_MAPPING_ERROR)\n",
      "[TensorRT] ERROR: FAILED_EXECUTION: std::exception\n",
      "[TensorRT] ERROR: Parameter check failed at: engine.cpp::setBindingDimensions::1136, condition: profileMaxDims.d[i] >= dimensions.d[i]\n",
      "[TensorRT] ERROR: safeContext.cpp (184) - Cudnn Error in configure: 7 (CUDNN_STATUS_MAPPING_ERROR)\n",
      "[TensorRT] ERROR: FAILED_EXECUTION: std::exception\n"
     ]
    },
    {
     "name": "stdout",
     "output_type": "stream",
     "text": [
      "Time: 0.05059957504272461\n",
      "Time: 0.07270216941833496\n",
      "Time: 0.03982734680175781\n",
      "Time: 0.04103207588195801\n"
     ]
    },
    {
     "name": "stderr",
     "output_type": "stream",
     "text": [
      "[TensorRT] ERROR: Parameter check failed at: engine.cpp::setBindingDimensions::1136, condition: profileMaxDims.d[i] >= dimensions.d[i]\n",
      "[TensorRT] ERROR: safeContext.cpp (184) - Cudnn Error in configure: 7 (CUDNN_STATUS_MAPPING_ERROR)\n",
      "[TensorRT] ERROR: FAILED_EXECUTION: std::exception\n",
      "[TensorRT] ERROR: Parameter check failed at: engine.cpp::setBindingDimensions::1136, condition: profileMaxDims.d[i] >= dimensions.d[i]\n",
      "[TensorRT] ERROR: safeContext.cpp (184) - Cudnn Error in configure: 7 (CUDNN_STATUS_MAPPING_ERROR)\n",
      "[TensorRT] ERROR: FAILED_EXECUTION: std::exception\n",
      "[TensorRT] ERROR: Parameter check failed at: engine.cpp::setBindingDimensions::1136, condition: profileMaxDims.d[i] >= dimensions.d[i]\n",
      "[TensorRT] ERROR: safeContext.cpp (184) - Cudnn Error in configure: 7 (CUDNN_STATUS_MAPPING_ERROR)\n",
      "[TensorRT] ERROR: FAILED_EXECUTION: std::exception\n",
      "[TensorRT] ERROR: Parameter check failed at: engine.cpp::setBindingDimensions::1136, condition: profileMaxDims.d[i] >= dimensions.d[i]\n",
      "[TensorRT] ERROR: safeContext.cpp (184) - Cudnn Error in configure: 7 (CUDNN_STATUS_MAPPING_ERROR)\n",
      "[TensorRT] ERROR: FAILED_EXECUTION: std::exception\n",
      "[TensorRT] ERROR: Parameter check failed at: engine.cpp::setBindingDimensions::1136, condition: profileMaxDims.d[i] >= dimensions.d[i]\n",
      "[TensorRT] ERROR: safeContext.cpp (184) - Cudnn Error in configure: 7 (CUDNN_STATUS_MAPPING_ERROR)\n",
      "[TensorRT] ERROR: FAILED_EXECUTION: std::exception\n"
     ]
    },
    {
     "name": "stdout",
     "output_type": "stream",
     "text": [
      "Time: 0.04357099533081055\n",
      "Time: 0.04073810577392578\n",
      "Time: 0.05565381050109863\n",
      "Time: 0.0595545768737793\n"
     ]
    },
    {
     "name": "stderr",
     "output_type": "stream",
     "text": [
      "[TensorRT] ERROR: Parameter check failed at: engine.cpp::setBindingDimensions::1136, condition: profileMaxDims.d[i] >= dimensions.d[i]\n",
      "[TensorRT] ERROR: safeContext.cpp (184) - Cudnn Error in configure: 7 (CUDNN_STATUS_MAPPING_ERROR)\n",
      "[TensorRT] ERROR: FAILED_EXECUTION: std::exception\n",
      "[TensorRT] ERROR: Parameter check failed at: engine.cpp::setBindingDimensions::1136, condition: profileMaxDims.d[i] >= dimensions.d[i]\n",
      "[TensorRT] ERROR: safeContext.cpp (184) - Cudnn Error in configure: 7 (CUDNN_STATUS_MAPPING_ERROR)\n",
      "[TensorRT] ERROR: FAILED_EXECUTION: std::exception\n",
      "[TensorRT] ERROR: Parameter check failed at: engine.cpp::setBindingDimensions::1136, condition: profileMaxDims.d[i] >= dimensions.d[i]\n",
      "[TensorRT] ERROR: safeContext.cpp (184) - Cudnn Error in configure: 7 (CUDNN_STATUS_MAPPING_ERROR)\n",
      "[TensorRT] ERROR: FAILED_EXECUTION: std::exception\n",
      "[TensorRT] ERROR: Parameter check failed at: engine.cpp::setBindingDimensions::1136, condition: profileMaxDims.d[i] >= dimensions.d[i]\n",
      "[TensorRT] ERROR: safeContext.cpp (184) - Cudnn Error in configure: 7 (CUDNN_STATUS_MAPPING_ERROR)\n",
      "[TensorRT] ERROR: FAILED_EXECUTION: std::exception\n"
     ]
    },
    {
     "name": "stdout",
     "output_type": "stream",
     "text": [
      "Time: 0.04073286056518555\n",
      "Time: 0.048018455505371094\n",
      "Time: 0.04370403289794922\n",
      "Time: 0.05362558364868164\n"
     ]
    },
    {
     "name": "stderr",
     "output_type": "stream",
     "text": [
      "[TensorRT] ERROR: Parameter check failed at: engine.cpp::setBindingDimensions::1136, condition: profileMaxDims.d[i] >= dimensions.d[i]\n",
      "[TensorRT] ERROR: safeContext.cpp (184) - Cudnn Error in configure: 7 (CUDNN_STATUS_MAPPING_ERROR)\n",
      "[TensorRT] ERROR: FAILED_EXECUTION: std::exception\n",
      "[TensorRT] ERROR: Parameter check failed at: engine.cpp::setBindingDimensions::1136, condition: profileMaxDims.d[i] >= dimensions.d[i]\n",
      "[TensorRT] ERROR: safeContext.cpp (184) - Cudnn Error in configure: 7 (CUDNN_STATUS_MAPPING_ERROR)\n",
      "[TensorRT] ERROR: FAILED_EXECUTION: std::exception\n",
      "[TensorRT] ERROR: Parameter check failed at: engine.cpp::setBindingDimensions::1136, condition: profileMaxDims.d[i] >= dimensions.d[i]\n",
      "[TensorRT] ERROR: safeContext.cpp (184) - Cudnn Error in configure: 7 (CUDNN_STATUS_MAPPING_ERROR)\n",
      "[TensorRT] ERROR: FAILED_EXECUTION: std::exception\n",
      "[TensorRT] ERROR: Parameter check failed at: engine.cpp::setBindingDimensions::1136, condition: profileMaxDims.d[i] >= dimensions.d[i]\n",
      "[TensorRT] ERROR: safeContext.cpp (184) - Cudnn Error in configure: 7 (CUDNN_STATUS_MAPPING_ERROR)\n",
      "[TensorRT] ERROR: FAILED_EXECUTION: std::exception\n"
     ]
    },
    {
     "name": "stdout",
     "output_type": "stream",
     "text": [
      "Time: 0.0449061393737793\n",
      "Time: 0.04757285118103027\n",
      "Time: 0.05119895935058594\n",
      "Time: 0.07256627082824707\n"
     ]
    },
    {
     "name": "stderr",
     "output_type": "stream",
     "text": [
      "[TensorRT] ERROR: Parameter check failed at: engine.cpp::setBindingDimensions::1136, condition: profileMaxDims.d[i] >= dimensions.d[i]\n",
      "[TensorRT] ERROR: safeContext.cpp (184) - Cudnn Error in configure: 7 (CUDNN_STATUS_MAPPING_ERROR)\n",
      "[TensorRT] ERROR: FAILED_EXECUTION: std::exception\n",
      "[TensorRT] ERROR: Parameter check failed at: engine.cpp::setBindingDimensions::1136, condition: profileMaxDims.d[i] >= dimensions.d[i]\n",
      "[TensorRT] ERROR: safeContext.cpp (184) - Cudnn Error in configure: 7 (CUDNN_STATUS_MAPPING_ERROR)\n",
      "[TensorRT] ERROR: FAILED_EXECUTION: std::exception\n",
      "[TensorRT] ERROR: Parameter check failed at: engine.cpp::setBindingDimensions::1136, condition: profileMaxDims.d[i] >= dimensions.d[i]\n",
      "[TensorRT] ERROR: safeContext.cpp (184) - Cudnn Error in configure: 7 (CUDNN_STATUS_MAPPING_ERROR)\n",
      "[TensorRT] ERROR: FAILED_EXECUTION: std::exception\n",
      "[TensorRT] ERROR: Parameter check failed at: engine.cpp::setBindingDimensions::1136, condition: profileMaxDims.d[i] >= dimensions.d[i]\n",
      "[TensorRT] ERROR: safeContext.cpp (184) - Cudnn Error in configure: 7 (CUDNN_STATUS_MAPPING_ERROR)\n",
      "[TensorRT] ERROR: FAILED_EXECUTION: std::exception\n"
     ]
    },
    {
     "name": "stdout",
     "output_type": "stream",
     "text": [
      "Time: 0.05739784240722656\n",
      "Time: 0.06164121627807617\n",
      "Time: 0.06925511360168457\n",
      "Time: 0.04476499557495117\n"
     ]
    },
    {
     "name": "stderr",
     "output_type": "stream",
     "text": [
      "[TensorRT] ERROR: Parameter check failed at: engine.cpp::setBindingDimensions::1136, condition: profileMaxDims.d[i] >= dimensions.d[i]\n",
      "[TensorRT] ERROR: safeContext.cpp (184) - Cudnn Error in configure: 7 (CUDNN_STATUS_MAPPING_ERROR)\n",
      "[TensorRT] ERROR: FAILED_EXECUTION: std::exception\n",
      "[TensorRT] ERROR: Parameter check failed at: engine.cpp::setBindingDimensions::1136, condition: profileMaxDims.d[i] >= dimensions.d[i]\n",
      "[TensorRT] ERROR: safeContext.cpp (184) - Cudnn Error in configure: 7 (CUDNN_STATUS_MAPPING_ERROR)\n",
      "[TensorRT] ERROR: FAILED_EXECUTION: std::exception\n",
      "[TensorRT] ERROR: Parameter check failed at: engine.cpp::setBindingDimensions::1136, condition: profileMaxDims.d[i] >= dimensions.d[i]\n",
      "[TensorRT] ERROR: safeContext.cpp (184) - Cudnn Error in configure: 7 (CUDNN_STATUS_MAPPING_ERROR)\n",
      "[TensorRT] ERROR: FAILED_EXECUTION: std::exception\n",
      "[TensorRT] ERROR: Parameter check failed at: engine.cpp::setBindingDimensions::1136, condition: profileMaxDims.d[i] >= dimensions.d[i]\n",
      "[TensorRT] ERROR: safeContext.cpp (184) - Cudnn Error in configure: 7 (CUDNN_STATUS_MAPPING_ERROR)\n",
      "[TensorRT] ERROR: FAILED_EXECUTION: std::exception\n",
      "[TensorRT] ERROR: Parameter check failed at: engine.cpp::setBindingDimensions::1136, condition: profileMaxDims.d[i] >= dimensions.d[i]\n",
      "[TensorRT] ERROR: safeContext.cpp (184) - Cudnn Error in configure: 7 (CUDNN_STATUS_MAPPING_ERROR)\n",
      "[TensorRT] ERROR: FAILED_EXECUTION: std::exception\n"
     ]
    },
    {
     "name": "stdout",
     "output_type": "stream",
     "text": [
      "Time: 0.04749321937561035\n",
      "Time: 0.049431800842285156\n",
      "Time: 0.06529593467712402\n",
      "Time: 0.055689334869384766\n"
     ]
    },
    {
     "name": "stderr",
     "output_type": "stream",
     "text": [
      "[TensorRT] ERROR: Parameter check failed at: engine.cpp::setBindingDimensions::1136, condition: profileMaxDims.d[i] >= dimensions.d[i]\n",
      "[TensorRT] ERROR: safeContext.cpp (184) - Cudnn Error in configure: 7 (CUDNN_STATUS_MAPPING_ERROR)\n",
      "[TensorRT] ERROR: FAILED_EXECUTION: std::exception\n",
      "[TensorRT] ERROR: Parameter check failed at: engine.cpp::setBindingDimensions::1136, condition: profileMaxDims.d[i] >= dimensions.d[i]\n",
      "[TensorRT] ERROR: safeContext.cpp (184) - Cudnn Error in configure: 7 (CUDNN_STATUS_MAPPING_ERROR)\n",
      "[TensorRT] ERROR: FAILED_EXECUTION: std::exception\n",
      "[TensorRT] ERROR: Parameter check failed at: engine.cpp::setBindingDimensions::1136, condition: profileMaxDims.d[i] >= dimensions.d[i]\n",
      "[TensorRT] ERROR: safeContext.cpp (184) - Cudnn Error in configure: 7 (CUDNN_STATUS_MAPPING_ERROR)\n",
      "[TensorRT] ERROR: FAILED_EXECUTION: std::exception\n",
      "[TensorRT] ERROR: Parameter check failed at: engine.cpp::setBindingDimensions::1136, condition: profileMaxDims.d[i] >= dimensions.d[i]\n",
      "[TensorRT] ERROR: safeContext.cpp (184) - Cudnn Error in configure: 7 (CUDNN_STATUS_MAPPING_ERROR)\n",
      "[TensorRT] ERROR: FAILED_EXECUTION: std::exception\n"
     ]
    },
    {
     "name": "stdout",
     "output_type": "stream",
     "text": [
      "Time: 0.04021596908569336\n",
      "Time: 0.07571125030517578\n",
      "Time: 0.058211565017700195\n"
     ]
    },
    {
     "name": "stderr",
     "output_type": "stream",
     "text": [
      "[TensorRT] ERROR: Parameter check failed at: engine.cpp::setBindingDimensions::1136, condition: profileMaxDims.d[i] >= dimensions.d[i]\n",
      "[TensorRT] ERROR: safeContext.cpp (184) - Cudnn Error in configure: 7 (CUDNN_STATUS_MAPPING_ERROR)\n",
      "[TensorRT] ERROR: FAILED_EXECUTION: std::exception\n",
      "[TensorRT] ERROR: Parameter check failed at: engine.cpp::setBindingDimensions::1136, condition: profileMaxDims.d[i] >= dimensions.d[i]\n",
      "[TensorRT] ERROR: safeContext.cpp (184) - Cudnn Error in configure: 7 (CUDNN_STATUS_MAPPING_ERROR)\n",
      "[TensorRT] ERROR: FAILED_EXECUTION: std::exception\n",
      "[TensorRT] ERROR: Parameter check failed at: engine.cpp::setBindingDimensions::1136, condition: profileMaxDims.d[i] >= dimensions.d[i]\n",
      "[TensorRT] ERROR: safeContext.cpp (184) - Cudnn Error in configure: 7 (CUDNN_STATUS_MAPPING_ERROR)\n",
      "[TensorRT] ERROR: FAILED_EXECUTION: std::exception\n",
      "[TensorRT] ERROR: Parameter check failed at: engine.cpp::setBindingDimensions::1136, condition: profileMaxDims.d[i] >= dimensions.d[i]\n",
      "[TensorRT] ERROR: safeContext.cpp (184) - Cudnn Error in configure: 7 (CUDNN_STATUS_MAPPING_ERROR)\n",
      "[TensorRT] ERROR: FAILED_EXECUTION: std::exception\n"
     ]
    },
    {
     "name": "stdout",
     "output_type": "stream",
     "text": [
      "Time: 0.04906868934631348\n",
      "Time: 0.049634695053100586\n",
      "Time: 0.07077336311340332\n",
      "Time: 0.05744004249572754\n"
     ]
    },
    {
     "name": "stderr",
     "output_type": "stream",
     "text": [
      "[TensorRT] ERROR: Parameter check failed at: engine.cpp::setBindingDimensions::1136, condition: profileMaxDims.d[i] >= dimensions.d[i]\n",
      "[TensorRT] ERROR: safeContext.cpp (184) - Cudnn Error in configure: 7 (CUDNN_STATUS_MAPPING_ERROR)\n",
      "[TensorRT] ERROR: FAILED_EXECUTION: std::exception\n",
      "[TensorRT] ERROR: Parameter check failed at: engine.cpp::setBindingDimensions::1136, condition: profileMaxDims.d[i] >= dimensions.d[i]\n",
      "[TensorRT] ERROR: safeContext.cpp (184) - Cudnn Error in configure: 7 (CUDNN_STATUS_MAPPING_ERROR)\n",
      "[TensorRT] ERROR: FAILED_EXECUTION: std::exception\n",
      "[TensorRT] ERROR: Parameter check failed at: engine.cpp::setBindingDimensions::1136, condition: profileMaxDims.d[i] >= dimensions.d[i]\n",
      "[TensorRT] ERROR: safeContext.cpp (184) - Cudnn Error in configure: 7 (CUDNN_STATUS_MAPPING_ERROR)\n",
      "[TensorRT] ERROR: FAILED_EXECUTION: std::exception\n",
      "[TensorRT] ERROR: Parameter check failed at: engine.cpp::setBindingDimensions::1136, condition: profileMaxDims.d[i] >= dimensions.d[i]\n",
      "[TensorRT] ERROR: safeContext.cpp (184) - Cudnn Error in configure: 7 (CUDNN_STATUS_MAPPING_ERROR)\n",
      "[TensorRT] ERROR: FAILED_EXECUTION: std::exception\n"
     ]
    },
    {
     "name": "stdout",
     "output_type": "stream",
     "text": [
      "Time: 0.06098604202270508\n",
      "Time: 0.06060194969177246\n",
      "Time: 0.06100201606750488\n",
      "Time: 0.06310272216796875\n"
     ]
    },
    {
     "name": "stderr",
     "output_type": "stream",
     "text": [
      "[TensorRT] ERROR: Parameter check failed at: engine.cpp::setBindingDimensions::1136, condition: profileMaxDims.d[i] >= dimensions.d[i]\n",
      "[TensorRT] ERROR: safeContext.cpp (184) - Cudnn Error in configure: 7 (CUDNN_STATUS_MAPPING_ERROR)\n",
      "[TensorRT] ERROR: FAILED_EXECUTION: std::exception\n",
      "[TensorRT] ERROR: Parameter check failed at: engine.cpp::setBindingDimensions::1136, condition: profileMaxDims.d[i] >= dimensions.d[i]\n",
      "[TensorRT] ERROR: safeContext.cpp (184) - Cudnn Error in configure: 7 (CUDNN_STATUS_MAPPING_ERROR)\n",
      "[TensorRT] ERROR: FAILED_EXECUTION: std::exception\n",
      "[TensorRT] ERROR: Parameter check failed at: engine.cpp::setBindingDimensions::1136, condition: profileMaxDims.d[i] >= dimensions.d[i]\n",
      "[TensorRT] ERROR: safeContext.cpp (184) - Cudnn Error in configure: 7 (CUDNN_STATUS_MAPPING_ERROR)\n",
      "[TensorRT] ERROR: FAILED_EXECUTION: std::exception\n"
     ]
    },
    {
     "name": "stdout",
     "output_type": "stream",
     "text": [
      "Time: 0.08827996253967285\n",
      "Time: 0.09476780891418457\n",
      "Time: 0.08569598197937012\n"
     ]
    },
    {
     "name": "stderr",
     "output_type": "stream",
     "text": [
      "[TensorRT] ERROR: Parameter check failed at: engine.cpp::setBindingDimensions::1136, condition: profileMaxDims.d[i] >= dimensions.d[i]\n",
      "[TensorRT] ERROR: safeContext.cpp (184) - Cudnn Error in configure: 7 (CUDNN_STATUS_MAPPING_ERROR)\n",
      "[TensorRT] ERROR: FAILED_EXECUTION: std::exception\n",
      "[TensorRT] ERROR: Parameter check failed at: engine.cpp::setBindingDimensions::1136, condition: profileMaxDims.d[i] >= dimensions.d[i]\n",
      "[TensorRT] ERROR: safeContext.cpp (184) - Cudnn Error in configure: 7 (CUDNN_STATUS_MAPPING_ERROR)\n",
      "[TensorRT] ERROR: FAILED_EXECUTION: std::exception\n",
      "[TensorRT] ERROR: Parameter check failed at: engine.cpp::setBindingDimensions::1136, condition: profileMaxDims.d[i] >= dimensions.d[i]\n",
      "[TensorRT] ERROR: safeContext.cpp (184) - Cudnn Error in configure: 7 (CUDNN_STATUS_MAPPING_ERROR)\n",
      "[TensorRT] ERROR: FAILED_EXECUTION: std::exception\n"
     ]
    },
    {
     "name": "stdout",
     "output_type": "stream",
     "text": [
      "Time: 0.08253002166748047\n",
      "Time: 0.09438848495483398\n",
      "Time: 0.09584569931030273\n"
     ]
    },
    {
     "name": "stderr",
     "output_type": "stream",
     "text": [
      "[TensorRT] ERROR: Parameter check failed at: engine.cpp::setBindingDimensions::1136, condition: profileMaxDims.d[i] >= dimensions.d[i]\n",
      "[TensorRT] ERROR: safeContext.cpp (184) - Cudnn Error in configure: 7 (CUDNN_STATUS_MAPPING_ERROR)\n",
      "[TensorRT] ERROR: FAILED_EXECUTION: std::exception\n",
      "[TensorRT] ERROR: Parameter check failed at: engine.cpp::setBindingDimensions::1136, condition: profileMaxDims.d[i] >= dimensions.d[i]\n",
      "[TensorRT] ERROR: safeContext.cpp (184) - Cudnn Error in configure: 7 (CUDNN_STATUS_MAPPING_ERROR)\n",
      "[TensorRT] ERROR: FAILED_EXECUTION: std::exception\n"
     ]
    },
    {
     "name": "stdout",
     "output_type": "stream",
     "text": [
      "Time: 0.08469820022583008\n",
      "Time: 0.11313676834106445\n"
     ]
    },
    {
     "name": "stderr",
     "output_type": "stream",
     "text": [
      "[TensorRT] ERROR: Parameter check failed at: engine.cpp::setBindingDimensions::1136, condition: profileMaxDims.d[i] >= dimensions.d[i]\n",
      "[TensorRT] ERROR: safeContext.cpp (184) - Cudnn Error in configure: 7 (CUDNN_STATUS_MAPPING_ERROR)\n",
      "[TensorRT] ERROR: FAILED_EXECUTION: std::exception\n",
      "[TensorRT] ERROR: Parameter check failed at: engine.cpp::setBindingDimensions::1136, condition: profileMaxDims.d[i] >= dimensions.d[i]\n",
      "[TensorRT] ERROR: safeContext.cpp (184) - Cudnn Error in configure: 7 (CUDNN_STATUS_MAPPING_ERROR)\n",
      "[TensorRT] ERROR: FAILED_EXECUTION: std::exception\n",
      "[TensorRT] ERROR: Parameter check failed at: engine.cpp::setBindingDimensions::1136, condition: profileMaxDims.d[i] >= dimensions.d[i]\n",
      "[TensorRT] ERROR: safeContext.cpp (184) - Cudnn Error in configure: 7 (CUDNN_STATUS_MAPPING_ERROR)\n",
      "[TensorRT] ERROR: FAILED_EXECUTION: std::exception\n"
     ]
    },
    {
     "name": "stdout",
     "output_type": "stream",
     "text": [
      "Time: 0.09690213203430176\n",
      "Time: 0.06076788902282715\n",
      "Time: 0.07603716850280762\n"
     ]
    },
    {
     "name": "stderr",
     "output_type": "stream",
     "text": [
      "[TensorRT] ERROR: Parameter check failed at: engine.cpp::setBindingDimensions::1136, condition: profileMaxDims.d[i] >= dimensions.d[i]\n",
      "[TensorRT] ERROR: safeContext.cpp (184) - Cudnn Error in configure: 7 (CUDNN_STATUS_MAPPING_ERROR)\n",
      "[TensorRT] ERROR: FAILED_EXECUTION: std::exception\n",
      "[TensorRT] ERROR: Parameter check failed at: engine.cpp::setBindingDimensions::1136, condition: profileMaxDims.d[i] >= dimensions.d[i]\n",
      "[TensorRT] ERROR: safeContext.cpp (184) - Cudnn Error in configure: 7 (CUDNN_STATUS_MAPPING_ERROR)\n",
      "[TensorRT] ERROR: FAILED_EXECUTION: std::exception\n",
      "[TensorRT] ERROR: Parameter check failed at: engine.cpp::setBindingDimensions::1136, condition: profileMaxDims.d[i] >= dimensions.d[i]\n",
      "[TensorRT] ERROR: safeContext.cpp (184) - Cudnn Error in configure: 7 (CUDNN_STATUS_MAPPING_ERROR)\n",
      "[TensorRT] ERROR: FAILED_EXECUTION: std::exception\n"
     ]
    },
    {
     "name": "stdout",
     "output_type": "stream",
     "text": [
      "Time: 0.06330609321594238\n",
      "Time: 0.0821692943572998\n",
      "Time: 0.06987595558166504\n"
     ]
    },
    {
     "name": "stderr",
     "output_type": "stream",
     "text": [
      "[TensorRT] ERROR: Parameter check failed at: engine.cpp::setBindingDimensions::1136, condition: profileMaxDims.d[i] >= dimensions.d[i]\n",
      "[TensorRT] ERROR: safeContext.cpp (184) - Cudnn Error in configure: 7 (CUDNN_STATUS_MAPPING_ERROR)\n",
      "[TensorRT] ERROR: FAILED_EXECUTION: std::exception\n",
      "[TensorRT] ERROR: Parameter check failed at: engine.cpp::setBindingDimensions::1136, condition: profileMaxDims.d[i] >= dimensions.d[i]\n",
      "[TensorRT] ERROR: safeContext.cpp (184) - Cudnn Error in configure: 7 (CUDNN_STATUS_MAPPING_ERROR)\n",
      "[TensorRT] ERROR: FAILED_EXECUTION: std::exception\n",
      "[TensorRT] ERROR: Parameter check failed at: engine.cpp::setBindingDimensions::1136, condition: profileMaxDims.d[i] >= dimensions.d[i]\n",
      "[TensorRT] ERROR: safeContext.cpp (184) - Cudnn Error in configure: 7 (CUDNN_STATUS_MAPPING_ERROR)\n",
      "[TensorRT] ERROR: FAILED_EXECUTION: std::exception\n"
     ]
    },
    {
     "name": "stdout",
     "output_type": "stream",
     "text": [
      "Time: 0.06350445747375488\n",
      "Time: 0.06424736976623535\n",
      "Time: 0.0677328109741211\n"
     ]
    },
    {
     "name": "stderr",
     "output_type": "stream",
     "text": [
      "[TensorRT] ERROR: Parameter check failed at: engine.cpp::setBindingDimensions::1136, condition: profileMaxDims.d[i] >= dimensions.d[i]\n",
      "[TensorRT] ERROR: safeContext.cpp (184) - Cudnn Error in configure: 7 (CUDNN_STATUS_MAPPING_ERROR)\n",
      "[TensorRT] ERROR: FAILED_EXECUTION: std::exception\n",
      "[TensorRT] ERROR: Parameter check failed at: engine.cpp::setBindingDimensions::1136, condition: profileMaxDims.d[i] >= dimensions.d[i]\n",
      "[TensorRT] ERROR: safeContext.cpp (184) - Cudnn Error in configure: 7 (CUDNN_STATUS_MAPPING_ERROR)\n",
      "[TensorRT] ERROR: FAILED_EXECUTION: std::exception\n",
      "[TensorRT] ERROR: Parameter check failed at: engine.cpp::setBindingDimensions::1136, condition: profileMaxDims.d[i] >= dimensions.d[i]\n",
      "[TensorRT] ERROR: safeContext.cpp (184) - Cudnn Error in configure: 7 (CUDNN_STATUS_MAPPING_ERROR)\n",
      "[TensorRT] ERROR: FAILED_EXECUTION: std::exception\n"
     ]
    },
    {
     "name": "stdout",
     "output_type": "stream",
     "text": [
      "Time: 0.08157038688659668\n",
      "Time: 0.0871434211730957\n",
      "Time: 0.06549406051635742\n"
     ]
    },
    {
     "name": "stderr",
     "output_type": "stream",
     "text": [
      "[TensorRT] ERROR: Parameter check failed at: engine.cpp::setBindingDimensions::1136, condition: profileMaxDims.d[i] >= dimensions.d[i]\n",
      "[TensorRT] ERROR: safeContext.cpp (184) - Cudnn Error in configure: 7 (CUDNN_STATUS_MAPPING_ERROR)\n",
      "[TensorRT] ERROR: FAILED_EXECUTION: std::exception\n",
      "[TensorRT] ERROR: Parameter check failed at: engine.cpp::setBindingDimensions::1136, condition: profileMaxDims.d[i] >= dimensions.d[i]\n",
      "[TensorRT] ERROR: safeContext.cpp (184) - Cudnn Error in configure: 7 (CUDNN_STATUS_MAPPING_ERROR)\n",
      "[TensorRT] ERROR: FAILED_EXECUTION: std::exception\n"
     ]
    },
    {
     "name": "stdout",
     "output_type": "stream",
     "text": [
      "Time: 0.05379915237426758\n",
      "Time: 0.10917377471923828\n"
     ]
    },
    {
     "name": "stderr",
     "output_type": "stream",
     "text": [
      "[TensorRT] ERROR: Parameter check failed at: engine.cpp::setBindingDimensions::1136, condition: profileMaxDims.d[i] >= dimensions.d[i]\n",
      "[TensorRT] ERROR: safeContext.cpp (184) - Cudnn Error in configure: 7 (CUDNN_STATUS_MAPPING_ERROR)\n",
      "[TensorRT] ERROR: FAILED_EXECUTION: std::exception\n",
      "[TensorRT] ERROR: Parameter check failed at: engine.cpp::setBindingDimensions::1136, condition: profileMaxDims.d[i] >= dimensions.d[i]\n",
      "[TensorRT] ERROR: safeContext.cpp (184) - Cudnn Error in configure: 7 (CUDNN_STATUS_MAPPING_ERROR)\n",
      "[TensorRT] ERROR: FAILED_EXECUTION: std::exception\n",
      "[TensorRT] ERROR: Parameter check failed at: engine.cpp::setBindingDimensions::1136, condition: profileMaxDims.d[i] >= dimensions.d[i]\n",
      "[TensorRT] ERROR: safeContext.cpp (184) - Cudnn Error in configure: 7 (CUDNN_STATUS_MAPPING_ERROR)\n",
      "[TensorRT] ERROR: FAILED_EXECUTION: std::exception\n",
      "[TensorRT] ERROR: Parameter check failed at: engine.cpp::setBindingDimensions::1136, condition: profileMaxDims.d[i] >= dimensions.d[i]\n",
      "[TensorRT] ERROR: safeContext.cpp (184) - Cudnn Error in configure: 7 (CUDNN_STATUS_MAPPING_ERROR)\n",
      "[TensorRT] ERROR: FAILED_EXECUTION: std::exception\n"
     ]
    },
    {
     "name": "stdout",
     "output_type": "stream",
     "text": [
      "Time: 0.11458992958068848\n",
      "Time: 0.05389070510864258\n",
      "Time: 0.05620288848876953\n",
      "Time: 0.057762861251831055\n"
     ]
    },
    {
     "name": "stderr",
     "output_type": "stream",
     "text": [
      "[TensorRT] ERROR: Parameter check failed at: engine.cpp::setBindingDimensions::1136, condition: profileMaxDims.d[i] >= dimensions.d[i]\n",
      "[TensorRT] ERROR: safeContext.cpp (184) - Cudnn Error in configure: 7 (CUDNN_STATUS_MAPPING_ERROR)\n",
      "[TensorRT] ERROR: FAILED_EXECUTION: std::exception\n",
      "[TensorRT] ERROR: Parameter check failed at: engine.cpp::setBindingDimensions::1136, condition: profileMaxDims.d[i] >= dimensions.d[i]\n",
      "[TensorRT] ERROR: safeContext.cpp (184) - Cudnn Error in configure: 7 (CUDNN_STATUS_MAPPING_ERROR)\n",
      "[TensorRT] ERROR: FAILED_EXECUTION: std::exception\n",
      "[TensorRT] ERROR: Parameter check failed at: engine.cpp::setBindingDimensions::1136, condition: profileMaxDims.d[i] >= dimensions.d[i]\n",
      "[TensorRT] ERROR: safeContext.cpp (184) - Cudnn Error in configure: 7 (CUDNN_STATUS_MAPPING_ERROR)\n",
      "[TensorRT] ERROR: FAILED_EXECUTION: std::exception\n",
      "[TensorRT] ERROR: Parameter check failed at: engine.cpp::setBindingDimensions::1136, condition: profileMaxDims.d[i] >= dimensions.d[i]\n",
      "[TensorRT] ERROR: safeContext.cpp (184) - Cudnn Error in configure: 7 (CUDNN_STATUS_MAPPING_ERROR)\n",
      "[TensorRT] ERROR: FAILED_EXECUTION: std::exception\n"
     ]
    },
    {
     "name": "stdout",
     "output_type": "stream",
     "text": [
      "Time: 0.05703163146972656\n",
      "Time: 0.056650638580322266\n",
      "Time: 0.057091474533081055\n",
      "Time: 0.06102132797241211\n"
     ]
    },
    {
     "name": "stderr",
     "output_type": "stream",
     "text": [
      "[TensorRT] ERROR: Parameter check failed at: engine.cpp::setBindingDimensions::1136, condition: profileMaxDims.d[i] >= dimensions.d[i]\n",
      "[TensorRT] ERROR: safeContext.cpp (184) - Cudnn Error in configure: 7 (CUDNN_STATUS_MAPPING_ERROR)\n",
      "[TensorRT] ERROR: FAILED_EXECUTION: std::exception\n",
      "[TensorRT] ERROR: Parameter check failed at: engine.cpp::setBindingDimensions::1136, condition: profileMaxDims.d[i] >= dimensions.d[i]\n",
      "[TensorRT] ERROR: safeContext.cpp (184) - Cudnn Error in configure: 7 (CUDNN_STATUS_MAPPING_ERROR)\n",
      "[TensorRT] ERROR: FAILED_EXECUTION: std::exception\n",
      "[TensorRT] ERROR: Parameter check failed at: engine.cpp::setBindingDimensions::1136, condition: profileMaxDims.d[i] >= dimensions.d[i]\n",
      "[TensorRT] ERROR: safeContext.cpp (184) - Cudnn Error in configure: 7 (CUDNN_STATUS_MAPPING_ERROR)\n",
      "[TensorRT] ERROR: FAILED_EXECUTION: std::exception\n",
      "[TensorRT] ERROR: Parameter check failed at: engine.cpp::setBindingDimensions::1136, condition: profileMaxDims.d[i] >= dimensions.d[i]\n",
      "[TensorRT] ERROR: safeContext.cpp (184) - Cudnn Error in configure: 7 (CUDNN_STATUS_MAPPING_ERROR)\n",
      "[TensorRT] ERROR: FAILED_EXECUTION: std::exception\n"
     ]
    },
    {
     "name": "stdout",
     "output_type": "stream",
     "text": [
      "Time: 0.0574650764465332\n",
      "Time: 0.056464433670043945\n",
      "Time: 0.056578636169433594\n",
      "Time: 0.06127047538757324\n"
     ]
    },
    {
     "name": "stderr",
     "output_type": "stream",
     "text": [
      "[TensorRT] ERROR: Parameter check failed at: engine.cpp::setBindingDimensions::1136, condition: profileMaxDims.d[i] >= dimensions.d[i]\n",
      "[TensorRT] ERROR: safeContext.cpp (184) - Cudnn Error in configure: 7 (CUDNN_STATUS_MAPPING_ERROR)\n",
      "[TensorRT] ERROR: FAILED_EXECUTION: std::exception\n",
      "[TensorRT] ERROR: Parameter check failed at: engine.cpp::setBindingDimensions::1136, condition: profileMaxDims.d[i] >= dimensions.d[i]\n",
      "[TensorRT] ERROR: safeContext.cpp (184) - Cudnn Error in configure: 7 (CUDNN_STATUS_MAPPING_ERROR)\n",
      "[TensorRT] ERROR: FAILED_EXECUTION: std::exception\n",
      "[TensorRT] ERROR: Parameter check failed at: engine.cpp::setBindingDimensions::1136, condition: profileMaxDims.d[i] >= dimensions.d[i]\n",
      "[TensorRT] ERROR: safeContext.cpp (184) - Cudnn Error in configure: 7 (CUDNN_STATUS_MAPPING_ERROR)\n",
      "[TensorRT] ERROR: FAILED_EXECUTION: std::exception\n"
     ]
    },
    {
     "name": "stdout",
     "output_type": "stream",
     "text": [
      "Time: 0.05785632133483887\n",
      "Time: 0.049685001373291016\n",
      "Time: 0.10984206199645996\n"
     ]
    },
    {
     "name": "stderr",
     "output_type": "stream",
     "text": [
      "[TensorRT] ERROR: Parameter check failed at: engine.cpp::setBindingDimensions::1136, condition: profileMaxDims.d[i] >= dimensions.d[i]\n",
      "[TensorRT] ERROR: safeContext.cpp (184) - Cudnn Error in configure: 7 (CUDNN_STATUS_MAPPING_ERROR)\n",
      "[TensorRT] ERROR: FAILED_EXECUTION: std::exception\n",
      "[TensorRT] ERROR: Parameter check failed at: engine.cpp::setBindingDimensions::1136, condition: profileMaxDims.d[i] >= dimensions.d[i]\n",
      "[TensorRT] ERROR: safeContext.cpp (184) - Cudnn Error in configure: 7 (CUDNN_STATUS_MAPPING_ERROR)\n",
      "[TensorRT] ERROR: FAILED_EXECUTION: std::exception\n",
      "[TensorRT] ERROR: Parameter check failed at: engine.cpp::setBindingDimensions::1136, condition: profileMaxDims.d[i] >= dimensions.d[i]\n",
      "[TensorRT] ERROR: safeContext.cpp (184) - Cudnn Error in configure: 7 (CUDNN_STATUS_MAPPING_ERROR)\n",
      "[TensorRT] ERROR: FAILED_EXECUTION: std::exception\n",
      "[TensorRT] ERROR: Parameter check failed at: engine.cpp::setBindingDimensions::1136, condition: profileMaxDims.d[i] >= dimensions.d[i]\n",
      "[TensorRT] ERROR: safeContext.cpp (184) - Cudnn Error in configure: 7 (CUDNN_STATUS_MAPPING_ERROR)\n",
      "[TensorRT] ERROR: FAILED_EXECUTION: std::exception\n"
     ]
    },
    {
     "name": "stdout",
     "output_type": "stream",
     "text": [
      "Time: 0.07422351837158203\n",
      "Time: 0.059128761291503906\n",
      "Time: 0.05516552925109863\n",
      "Time: 0.05512499809265137\n"
     ]
    },
    {
     "name": "stderr",
     "output_type": "stream",
     "text": [
      "[TensorRT] ERROR: Parameter check failed at: engine.cpp::setBindingDimensions::1136, condition: profileMaxDims.d[i] >= dimensions.d[i]\n",
      "[TensorRT] ERROR: safeContext.cpp (184) - Cudnn Error in configure: 7 (CUDNN_STATUS_MAPPING_ERROR)\n",
      "[TensorRT] ERROR: FAILED_EXECUTION: std::exception\n",
      "[TensorRT] ERROR: Parameter check failed at: engine.cpp::setBindingDimensions::1136, condition: profileMaxDims.d[i] >= dimensions.d[i]\n",
      "[TensorRT] ERROR: safeContext.cpp (184) - Cudnn Error in configure: 7 (CUDNN_STATUS_MAPPING_ERROR)\n",
      "[TensorRT] ERROR: FAILED_EXECUTION: std::exception\n",
      "[TensorRT] ERROR: Parameter check failed at: engine.cpp::setBindingDimensions::1136, condition: profileMaxDims.d[i] >= dimensions.d[i]\n",
      "[TensorRT] ERROR: safeContext.cpp (184) - Cudnn Error in configure: 7 (CUDNN_STATUS_MAPPING_ERROR)\n",
      "[TensorRT] ERROR: FAILED_EXECUTION: std::exception\n",
      "[TensorRT] ERROR: Parameter check failed at: engine.cpp::setBindingDimensions::1136, condition: profileMaxDims.d[i] >= dimensions.d[i]\n",
      "[TensorRT] ERROR: safeContext.cpp (184) - Cudnn Error in configure: 7 (CUDNN_STATUS_MAPPING_ERROR)\n",
      "[TensorRT] ERROR: FAILED_EXECUTION: std::exception\n"
     ]
    },
    {
     "name": "stdout",
     "output_type": "stream",
     "text": [
      "Time: 0.05760788917541504\n",
      "Time: 0.060526132583618164\n",
      "Time: 0.05854678153991699\n",
      "Time: 0.05629897117614746\n"
     ]
    },
    {
     "name": "stderr",
     "output_type": "stream",
     "text": [
      "[TensorRT] ERROR: Parameter check failed at: engine.cpp::setBindingDimensions::1136, condition: profileMaxDims.d[i] >= dimensions.d[i]\n",
      "[TensorRT] ERROR: safeContext.cpp (184) - Cudnn Error in configure: 7 (CUDNN_STATUS_MAPPING_ERROR)\n",
      "[TensorRT] ERROR: FAILED_EXECUTION: std::exception\n",
      "[TensorRT] ERROR: Parameter check failed at: engine.cpp::setBindingDimensions::1136, condition: profileMaxDims.d[i] >= dimensions.d[i]\n",
      "[TensorRT] ERROR: safeContext.cpp (184) - Cudnn Error in configure: 7 (CUDNN_STATUS_MAPPING_ERROR)\n",
      "[TensorRT] ERROR: FAILED_EXECUTION: std::exception\n",
      "[TensorRT] ERROR: Parameter check failed at: engine.cpp::setBindingDimensions::1136, condition: profileMaxDims.d[i] >= dimensions.d[i]\n",
      "[TensorRT] ERROR: safeContext.cpp (184) - Cudnn Error in configure: 7 (CUDNN_STATUS_MAPPING_ERROR)\n",
      "[TensorRT] ERROR: FAILED_EXECUTION: std::exception\n"
     ]
    },
    {
     "name": "stdout",
     "output_type": "stream",
     "text": [
      "Time: 0.05755805969238281\n",
      "Time: 0.05637192726135254\n",
      "Idx: 900\n",
      "Time: 0.07071590423583984\n"
     ]
    },
    {
     "name": "stderr",
     "output_type": "stream",
     "text": [
      "[TensorRT] ERROR: Parameter check failed at: engine.cpp::setBindingDimensions::1136, condition: profileMaxDims.d[i] >= dimensions.d[i]\n",
      "[TensorRT] ERROR: safeContext.cpp (184) - Cudnn Error in configure: 7 (CUDNN_STATUS_MAPPING_ERROR)\n",
      "[TensorRT] ERROR: FAILED_EXECUTION: std::exception\n",
      "[TensorRT] ERROR: Parameter check failed at: engine.cpp::setBindingDimensions::1136, condition: profileMaxDims.d[i] >= dimensions.d[i]\n",
      "[TensorRT] ERROR: safeContext.cpp (184) - Cudnn Error in configure: 7 (CUDNN_STATUS_MAPPING_ERROR)\n",
      "[TensorRT] ERROR: FAILED_EXECUTION: std::exception\n",
      "[TensorRT] ERROR: Parameter check failed at: engine.cpp::setBindingDimensions::1136, condition: profileMaxDims.d[i] >= dimensions.d[i]\n",
      "[TensorRT] ERROR: safeContext.cpp (184) - Cudnn Error in configure: 7 (CUDNN_STATUS_MAPPING_ERROR)\n",
      "[TensorRT] ERROR: FAILED_EXECUTION: std::exception\n"
     ]
    },
    {
     "name": "stdout",
     "output_type": "stream",
     "text": [
      "Time: 0.11825132369995117\n",
      "Time: 0.08270549774169922\n",
      "Time: 0.08708763122558594\n"
     ]
    },
    {
     "name": "stderr",
     "output_type": "stream",
     "text": [
      "[TensorRT] ERROR: Parameter check failed at: engine.cpp::setBindingDimensions::1136, condition: profileMaxDims.d[i] >= dimensions.d[i]\n",
      "[TensorRT] ERROR: safeContext.cpp (184) - Cudnn Error in configure: 7 (CUDNN_STATUS_MAPPING_ERROR)\n",
      "[TensorRT] ERROR: FAILED_EXECUTION: std::exception\n",
      "[TensorRT] ERROR: Parameter check failed at: engine.cpp::setBindingDimensions::1136, condition: profileMaxDims.d[i] >= dimensions.d[i]\n",
      "[TensorRT] ERROR: safeContext.cpp (184) - Cudnn Error in configure: 7 (CUDNN_STATUS_MAPPING_ERROR)\n",
      "[TensorRT] ERROR: FAILED_EXECUTION: std::exception\n",
      "[TensorRT] ERROR: Parameter check failed at: engine.cpp::setBindingDimensions::1136, condition: profileMaxDims.d[i] >= dimensions.d[i]\n",
      "[TensorRT] ERROR: safeContext.cpp (184) - Cudnn Error in configure: 7 (CUDNN_STATUS_MAPPING_ERROR)\n",
      "[TensorRT] ERROR: FAILED_EXECUTION: std::exception\n",
      "[TensorRT] ERROR: Parameter check failed at: engine.cpp::setBindingDimensions::1136, condition: profileMaxDims.d[i] >= dimensions.d[i]\n",
      "[TensorRT] ERROR: safeContext.cpp (184) - Cudnn Error in configure: 7 (CUDNN_STATUS_MAPPING_ERROR)\n",
      "[TensorRT] ERROR: FAILED_EXECUTION: std::exception\n"
     ]
    },
    {
     "name": "stdout",
     "output_type": "stream",
     "text": [
      "Time: 0.05997419357299805\n",
      "Time: 0.055753231048583984\n",
      "Time: 0.056859493255615234\n",
      "Time: 0.05666494369506836\n"
     ]
    },
    {
     "name": "stderr",
     "output_type": "stream",
     "text": [
      "[TensorRT] ERROR: Parameter check failed at: engine.cpp::setBindingDimensions::1136, condition: profileMaxDims.d[i] >= dimensions.d[i]\n",
      "[TensorRT] ERROR: safeContext.cpp (184) - Cudnn Error in configure: 7 (CUDNN_STATUS_MAPPING_ERROR)\n",
      "[TensorRT] ERROR: FAILED_EXECUTION: std::exception\n",
      "[TensorRT] ERROR: Parameter check failed at: engine.cpp::setBindingDimensions::1136, condition: profileMaxDims.d[i] >= dimensions.d[i]\n",
      "[TensorRT] ERROR: safeContext.cpp (184) - Cudnn Error in configure: 7 (CUDNN_STATUS_MAPPING_ERROR)\n",
      "[TensorRT] ERROR: FAILED_EXECUTION: std::exception\n",
      "[TensorRT] ERROR: Parameter check failed at: engine.cpp::setBindingDimensions::1136, condition: profileMaxDims.d[i] >= dimensions.d[i]\n",
      "[TensorRT] ERROR: safeContext.cpp (184) - Cudnn Error in configure: 7 (CUDNN_STATUS_MAPPING_ERROR)\n",
      "[TensorRT] ERROR: FAILED_EXECUTION: std::exception\n"
     ]
    },
    {
     "name": "stdout",
     "output_type": "stream",
     "text": [
      "Time: 0.056801795959472656\n",
      "Time: 0.05658078193664551\n",
      "Time: 0.09030556678771973\n"
     ]
    },
    {
     "name": "stderr",
     "output_type": "stream",
     "text": [
      "[TensorRT] ERROR: Parameter check failed at: engine.cpp::setBindingDimensions::1136, condition: profileMaxDims.d[i] >= dimensions.d[i]\n",
      "[TensorRT] ERROR: safeContext.cpp (184) - Cudnn Error in configure: 7 (CUDNN_STATUS_MAPPING_ERROR)\n",
      "[TensorRT] ERROR: FAILED_EXECUTION: std::exception\n",
      "[TensorRT] ERROR: Parameter check failed at: engine.cpp::setBindingDimensions::1136, condition: profileMaxDims.d[i] >= dimensions.d[i]\n",
      "[TensorRT] ERROR: safeContext.cpp (184) - Cudnn Error in configure: 7 (CUDNN_STATUS_MAPPING_ERROR)\n",
      "[TensorRT] ERROR: FAILED_EXECUTION: std::exception\n",
      "[TensorRT] ERROR: Parameter check failed at: engine.cpp::setBindingDimensions::1136, condition: profileMaxDims.d[i] >= dimensions.d[i]\n",
      "[TensorRT] ERROR: safeContext.cpp (184) - Cudnn Error in configure: 7 (CUDNN_STATUS_MAPPING_ERROR)\n",
      "[TensorRT] ERROR: FAILED_EXECUTION: std::exception\n",
      "[TensorRT] ERROR: Parameter check failed at: engine.cpp::setBindingDimensions::1136, condition: profileMaxDims.d[i] >= dimensions.d[i]\n",
      "[TensorRT] ERROR: safeContext.cpp (184) - Cudnn Error in configure: 7 (CUDNN_STATUS_MAPPING_ERROR)\n",
      "[TensorRT] ERROR: FAILED_EXECUTION: std::exception\n",
      "[TensorRT] ERROR: Parameter check failed at: engine.cpp::setBindingDimensions::1136, condition: profileMaxDims.d[i] >= dimensions.d[i]\n",
      "[TensorRT] ERROR: safeContext.cpp (184) - Cudnn Error in configure: 7 (CUDNN_STATUS_MAPPING_ERROR)\n",
      "[TensorRT] ERROR: FAILED_EXECUTION: std::exception\n",
      "[TensorRT] ERROR: Parameter check failed at: engine.cpp::setBindingDimensions::1136, condition: profileMaxDims.d[i] >= dimensions.d[i]\n",
      "[TensorRT] ERROR: safeContext.cpp (184) - Cudnn Error in configure: 7 (CUDNN_STATUS_MAPPING_ERROR)\n",
      "[TensorRT] ERROR: FAILED_EXECUTION: std::exception\n"
     ]
    },
    {
     "name": "stdout",
     "output_type": "stream",
     "text": [
      "Time: 0.20305633544921875\n",
      "Time: 0.02830362319946289\n",
      "Time: 0.02987504005432129\n",
      "Time: 0.0319061279296875\n",
      "Time: 0.032538652420043945\n",
      "Time: 0.03349041938781738\n"
     ]
    },
    {
     "name": "stderr",
     "output_type": "stream",
     "text": [
      "[TensorRT] ERROR: Parameter check failed at: engine.cpp::setBindingDimensions::1136, condition: profileMaxDims.d[i] >= dimensions.d[i]\n",
      "[TensorRT] ERROR: safeContext.cpp (184) - Cudnn Error in configure: 7 (CUDNN_STATUS_MAPPING_ERROR)\n",
      "[TensorRT] ERROR: FAILED_EXECUTION: std::exception\n",
      "[TensorRT] ERROR: Parameter check failed at: engine.cpp::setBindingDimensions::1136, condition: profileMaxDims.d[i] >= dimensions.d[i]\n",
      "[TensorRT] ERROR: safeContext.cpp (184) - Cudnn Error in configure: 7 (CUDNN_STATUS_MAPPING_ERROR)\n",
      "[TensorRT] ERROR: FAILED_EXECUTION: std::exception\n",
      "[TensorRT] ERROR: Parameter check failed at: engine.cpp::setBindingDimensions::1136, condition: profileMaxDims.d[i] >= dimensions.d[i]\n",
      "[TensorRT] ERROR: safeContext.cpp (184) - Cudnn Error in configure: 7 (CUDNN_STATUS_MAPPING_ERROR)\n",
      "[TensorRT] ERROR: FAILED_EXECUTION: std::exception\n",
      "[TensorRT] ERROR: Parameter check failed at: engine.cpp::setBindingDimensions::1136, condition: profileMaxDims.d[i] >= dimensions.d[i]\n",
      "[TensorRT] ERROR: safeContext.cpp (184) - Cudnn Error in configure: 7 (CUDNN_STATUS_MAPPING_ERROR)\n",
      "[TensorRT] ERROR: FAILED_EXECUTION: std::exception\n",
      "[TensorRT] ERROR: Parameter check failed at: engine.cpp::setBindingDimensions::1136, condition: profileMaxDims.d[i] >= dimensions.d[i]\n",
      "[TensorRT] ERROR: safeContext.cpp (184) - Cudnn Error in configure: 7 (CUDNN_STATUS_MAPPING_ERROR)\n",
      "[TensorRT] ERROR: FAILED_EXECUTION: std::exception\n"
     ]
    },
    {
     "name": "stdout",
     "output_type": "stream",
     "text": [
      "Time: 0.03767037391662598\n",
      "Time: 0.03383994102478027\n",
      "Time: 0.04672122001647949\n",
      "Time: 0.04375147819519043\n",
      "Time: 0.04768943786621094\n"
     ]
    },
    {
     "name": "stderr",
     "output_type": "stream",
     "text": [
      "[TensorRT] ERROR: Parameter check failed at: engine.cpp::setBindingDimensions::1136, condition: profileMaxDims.d[i] >= dimensions.d[i]\n",
      "[TensorRT] ERROR: safeContext.cpp (184) - Cudnn Error in configure: 7 (CUDNN_STATUS_MAPPING_ERROR)\n",
      "[TensorRT] ERROR: FAILED_EXECUTION: std::exception\n",
      "[TensorRT] ERROR: Parameter check failed at: engine.cpp::setBindingDimensions::1136, condition: profileMaxDims.d[i] >= dimensions.d[i]\n",
      "[TensorRT] ERROR: safeContext.cpp (184) - Cudnn Error in configure: 7 (CUDNN_STATUS_MAPPING_ERROR)\n",
      "[TensorRT] ERROR: FAILED_EXECUTION: std::exception\n",
      "[TensorRT] ERROR: Parameter check failed at: engine.cpp::setBindingDimensions::1136, condition: profileMaxDims.d[i] >= dimensions.d[i]\n",
      "[TensorRT] ERROR: safeContext.cpp (184) - Cudnn Error in configure: 7 (CUDNN_STATUS_MAPPING_ERROR)\n",
      "[TensorRT] ERROR: FAILED_EXECUTION: std::exception\n",
      "[TensorRT] ERROR: Parameter check failed at: engine.cpp::setBindingDimensions::1136, condition: profileMaxDims.d[i] >= dimensions.d[i]\n",
      "[TensorRT] ERROR: safeContext.cpp (184) - Cudnn Error in configure: 7 (CUDNN_STATUS_MAPPING_ERROR)\n",
      "[TensorRT] ERROR: FAILED_EXECUTION: std::exception\n"
     ]
    },
    {
     "name": "stdout",
     "output_type": "stream",
     "text": [
      "Time: 0.05657076835632324\n",
      "Time: 0.04849958419799805\n",
      "Time: 0.04824018478393555\n",
      "Time: 0.05858492851257324\n",
      "Time: 0.050189971923828125\n",
      "Time: 0.06745719909667969\n",
      "Time: 0.05152559280395508\n",
      "Time: 0.05148816108703613\n"
     ]
    },
    {
     "name": "stderr",
     "output_type": "stream",
     "text": [
      "[TensorRT] ERROR: Parameter check failed at: engine.cpp::setBindingDimensions::1136, condition: profileMaxDims.d[i] >= dimensions.d[i]\n",
      "[TensorRT] ERROR: safeContext.cpp (184) - Cudnn Error in configure: 7 (CUDNN_STATUS_MAPPING_ERROR)\n",
      "[TensorRT] ERROR: FAILED_EXECUTION: std::exception\n",
      "[TensorRT] ERROR: Parameter check failed at: engine.cpp::setBindingDimensions::1136, condition: profileMaxDims.d[i] >= dimensions.d[i]\n",
      "[TensorRT] ERROR: safeContext.cpp (184) - Cudnn Error in configure: 7 (CUDNN_STATUS_MAPPING_ERROR)\n",
      "[TensorRT] ERROR: FAILED_EXECUTION: std::exception\n",
      "[TensorRT] ERROR: Parameter check failed at: engine.cpp::setBindingDimensions::1136, condition: profileMaxDims.d[i] >= dimensions.d[i]\n",
      "[TensorRT] ERROR: safeContext.cpp (184) - Cudnn Error in configure: 7 (CUDNN_STATUS_MAPPING_ERROR)\n",
      "[TensorRT] ERROR: FAILED_EXECUTION: std::exception\n",
      "[TensorRT] ERROR: Parameter check failed at: engine.cpp::setBindingDimensions::1136, condition: profileMaxDims.d[i] >= dimensions.d[i]\n",
      "[TensorRT] ERROR: safeContext.cpp (184) - Cudnn Error in configure: 7 (CUDNN_STATUS_MAPPING_ERROR)\n",
      "[TensorRT] ERROR: FAILED_EXECUTION: std::exception\n",
      "[TensorRT] ERROR: Parameter check failed at: engine.cpp::setBindingDimensions::1136, condition: profileMaxDims.d[i] >= dimensions.d[i]\n",
      "[TensorRT] ERROR: safeContext.cpp (184) - Cudnn Error in configure: 7 (CUDNN_STATUS_MAPPING_ERROR)\n",
      "[TensorRT] ERROR: FAILED_EXECUTION: std::exception\n",
      "[TensorRT] ERROR: Parameter check failed at: engine.cpp::setBindingDimensions::1136, condition: profileMaxDims.d[i] >= dimensions.d[i]\n",
      "[TensorRT] ERROR: safeContext.cpp (184) - Cudnn Error in configure: 7 (CUDNN_STATUS_MAPPING_ERROR)\n",
      "[TensorRT] ERROR: FAILED_EXECUTION: std::exception\n",
      "[TensorRT] ERROR: Parameter check failed at: engine.cpp::setBindingDimensions::1136, condition: profileMaxDims.d[i] >= dimensions.d[i]\n",
      "[TensorRT] ERROR: safeContext.cpp (184) - Cudnn Error in configure: 7 (CUDNN_STATUS_MAPPING_ERROR)\n",
      "[TensorRT] ERROR: FAILED_EXECUTION: std::exception\n"
     ]
    },
    {
     "name": "stdout",
     "output_type": "stream",
     "text": [
      "Time: 0.05714821815490723\n",
      "Time: 0.08855867385864258\n",
      "Time: 0.05217742919921875\n"
     ]
    },
    {
     "name": "stderr",
     "output_type": "stream",
     "text": [
      "[TensorRT] ERROR: Parameter check failed at: engine.cpp::setBindingDimensions::1136, condition: profileMaxDims.d[i] >= dimensions.d[i]\n",
      "[TensorRT] ERROR: safeContext.cpp (184) - Cudnn Error in configure: 7 (CUDNN_STATUS_MAPPING_ERROR)\n",
      "[TensorRT] ERROR: FAILED_EXECUTION: std::exception\n",
      "[TensorRT] ERROR: Parameter check failed at: engine.cpp::setBindingDimensions::1136, condition: profileMaxDims.d[i] >= dimensions.d[i]\n",
      "[TensorRT] ERROR: safeContext.cpp (184) - Cudnn Error in configure: 7 (CUDNN_STATUS_MAPPING_ERROR)\n",
      "[TensorRT] ERROR: FAILED_EXECUTION: std::exception\n",
      "[TensorRT] ERROR: Parameter check failed at: engine.cpp::setBindingDimensions::1136, condition: profileMaxDims.d[i] >= dimensions.d[i]\n",
      "[TensorRT] ERROR: safeContext.cpp (184) - Cudnn Error in configure: 7 (CUDNN_STATUS_MAPPING_ERROR)\n",
      "[TensorRT] ERROR: FAILED_EXECUTION: std::exception\n"
     ]
    },
    {
     "name": "stdout",
     "output_type": "stream",
     "text": [
      "Time: 0.0858762264251709\n",
      "Time: 0.07581400871276855\n",
      "Time: 0.07650947570800781\n"
     ]
    },
    {
     "name": "stderr",
     "output_type": "stream",
     "text": [
      "[TensorRT] ERROR: Parameter check failed at: engine.cpp::setBindingDimensions::1136, condition: profileMaxDims.d[i] >= dimensions.d[i]\n",
      "[TensorRT] ERROR: safeContext.cpp (184) - Cudnn Error in configure: 7 (CUDNN_STATUS_MAPPING_ERROR)\n",
      "[TensorRT] ERROR: FAILED_EXECUTION: std::exception\n",
      "[TensorRT] ERROR: Parameter check failed at: engine.cpp::setBindingDimensions::1136, condition: profileMaxDims.d[i] >= dimensions.d[i]\n",
      "[TensorRT] ERROR: safeContext.cpp (184) - Cudnn Error in configure: 7 (CUDNN_STATUS_MAPPING_ERROR)\n",
      "[TensorRT] ERROR: FAILED_EXECUTION: std::exception\n",
      "[TensorRT] ERROR: Parameter check failed at: engine.cpp::setBindingDimensions::1136, condition: profileMaxDims.d[i] >= dimensions.d[i]\n",
      "[TensorRT] ERROR: safeContext.cpp (184) - Cudnn Error in configure: 7 (CUDNN_STATUS_MAPPING_ERROR)\n",
      "[TensorRT] ERROR: FAILED_EXECUTION: std::exception\n"
     ]
    },
    {
     "name": "stdout",
     "output_type": "stream",
     "text": [
      "Time: 0.08246135711669922\n",
      "Time: 0.07313132286071777\n",
      "Time: 0.10185027122497559\n"
     ]
    },
    {
     "name": "stderr",
     "output_type": "stream",
     "text": [
      "[TensorRT] ERROR: Parameter check failed at: engine.cpp::setBindingDimensions::1136, condition: profileMaxDims.d[i] >= dimensions.d[i]\n",
      "[TensorRT] ERROR: safeContext.cpp (184) - Cudnn Error in configure: 7 (CUDNN_STATUS_MAPPING_ERROR)\n",
      "[TensorRT] ERROR: FAILED_EXECUTION: std::exception\n",
      "[TensorRT] ERROR: Parameter check failed at: engine.cpp::setBindingDimensions::1136, condition: profileMaxDims.d[i] >= dimensions.d[i]\n",
      "[TensorRT] ERROR: safeContext.cpp (184) - Cudnn Error in configure: 7 (CUDNN_STATUS_MAPPING_ERROR)\n",
      "[TensorRT] ERROR: FAILED_EXECUTION: std::exception\n",
      "[TensorRT] ERROR: Parameter check failed at: engine.cpp::setBindingDimensions::1136, condition: profileMaxDims.d[i] >= dimensions.d[i]\n",
      "[TensorRT] ERROR: safeContext.cpp (184) - Cudnn Error in configure: 7 (CUDNN_STATUS_MAPPING_ERROR)\n",
      "[TensorRT] ERROR: FAILED_EXECUTION: std::exception\n",
      "[TensorRT] ERROR: Parameter check failed at: engine.cpp::setBindingDimensions::1136, condition: profileMaxDims.d[i] >= dimensions.d[i]\n",
      "[TensorRT] ERROR: safeContext.cpp (184) - Cudnn Error in configure: 7 (CUDNN_STATUS_MAPPING_ERROR)\n",
      "[TensorRT] ERROR: FAILED_EXECUTION: std::exception\n"
     ]
    },
    {
     "name": "stdout",
     "output_type": "stream",
     "text": [
      "Time: 0.05915427207946777\n",
      "Time: 0.056414127349853516\n",
      "Time: 0.055891990661621094\n",
      "Time: 0.057936906814575195\n"
     ]
    },
    {
     "name": "stderr",
     "output_type": "stream",
     "text": [
      "[TensorRT] ERROR: Parameter check failed at: engine.cpp::setBindingDimensions::1136, condition: profileMaxDims.d[i] >= dimensions.d[i]\n",
      "[TensorRT] ERROR: safeContext.cpp (184) - Cudnn Error in configure: 7 (CUDNN_STATUS_MAPPING_ERROR)\n",
      "[TensorRT] ERROR: FAILED_EXECUTION: std::exception\n",
      "[TensorRT] ERROR: Parameter check failed at: engine.cpp::setBindingDimensions::1136, condition: profileMaxDims.d[i] >= dimensions.d[i]\n",
      "[TensorRT] ERROR: safeContext.cpp (184) - Cudnn Error in configure: 7 (CUDNN_STATUS_MAPPING_ERROR)\n",
      "[TensorRT] ERROR: FAILED_EXECUTION: std::exception\n",
      "[TensorRT] ERROR: Parameter check failed at: engine.cpp::setBindingDimensions::1136, condition: profileMaxDims.d[i] >= dimensions.d[i]\n",
      "[TensorRT] ERROR: safeContext.cpp (184) - Cudnn Error in configure: 7 (CUDNN_STATUS_MAPPING_ERROR)\n",
      "[TensorRT] ERROR: FAILED_EXECUTION: std::exception\n",
      "[TensorRT] ERROR: Parameter check failed at: engine.cpp::setBindingDimensions::1136, condition: profileMaxDims.d[i] >= dimensions.d[i]\n",
      "[TensorRT] ERROR: safeContext.cpp (184) - Cudnn Error in configure: 7 (CUDNN_STATUS_MAPPING_ERROR)\n",
      "[TensorRT] ERROR: FAILED_EXECUTION: std::exception\n"
     ]
    },
    {
     "name": "stdout",
     "output_type": "stream",
     "text": [
      "Time: 0.05793309211730957\n",
      "Time: 0.05713987350463867\n",
      "Time: 0.059404850006103516\n",
      "Time: 0.05581498146057129\n"
     ]
    },
    {
     "name": "stderr",
     "output_type": "stream",
     "text": [
      "[TensorRT] ERROR: Parameter check failed at: engine.cpp::setBindingDimensions::1136, condition: profileMaxDims.d[i] >= dimensions.d[i]\n",
      "[TensorRT] ERROR: safeContext.cpp (184) - Cudnn Error in configure: 7 (CUDNN_STATUS_MAPPING_ERROR)\n",
      "[TensorRT] ERROR: FAILED_EXECUTION: std::exception\n",
      "[TensorRT] ERROR: Parameter check failed at: engine.cpp::setBindingDimensions::1136, condition: profileMaxDims.d[i] >= dimensions.d[i]\n",
      "[TensorRT] ERROR: safeContext.cpp (184) - Cudnn Error in configure: 7 (CUDNN_STATUS_MAPPING_ERROR)\n",
      "[TensorRT] ERROR: FAILED_EXECUTION: std::exception\n",
      "[TensorRT] ERROR: Parameter check failed at: engine.cpp::setBindingDimensions::1136, condition: profileMaxDims.d[i] >= dimensions.d[i]\n",
      "[TensorRT] ERROR: safeContext.cpp (184) - Cudnn Error in configure: 7 (CUDNN_STATUS_MAPPING_ERROR)\n",
      "[TensorRT] ERROR: FAILED_EXECUTION: std::exception\n",
      "[TensorRT] ERROR: Parameter check failed at: engine.cpp::setBindingDimensions::1136, condition: profileMaxDims.d[i] >= dimensions.d[i]\n",
      "[TensorRT] ERROR: safeContext.cpp (184) - Cudnn Error in configure: 7 (CUDNN_STATUS_MAPPING_ERROR)\n",
      "[TensorRT] ERROR: FAILED_EXECUTION: std::exception\n"
     ]
    },
    {
     "name": "stdout",
     "output_type": "stream",
     "text": [
      "Time: 0.06027936935424805\n",
      "Time: 0.0557246208190918\n",
      "Time: 0.05635666847229004\n",
      "Time: 0.0559079647064209\n"
     ]
    },
    {
     "name": "stderr",
     "output_type": "stream",
     "text": [
      "[TensorRT] ERROR: Parameter check failed at: engine.cpp::setBindingDimensions::1136, condition: profileMaxDims.d[i] >= dimensions.d[i]\n",
      "[TensorRT] ERROR: safeContext.cpp (184) - Cudnn Error in configure: 7 (CUDNN_STATUS_MAPPING_ERROR)\n",
      "[TensorRT] ERROR: FAILED_EXECUTION: std::exception\n",
      "[TensorRT] ERROR: Parameter check failed at: engine.cpp::setBindingDimensions::1136, condition: profileMaxDims.d[i] >= dimensions.d[i]\n",
      "[TensorRT] ERROR: safeContext.cpp (184) - Cudnn Error in configure: 7 (CUDNN_STATUS_MAPPING_ERROR)\n",
      "[TensorRT] ERROR: FAILED_EXECUTION: std::exception\n",
      "[TensorRT] ERROR: Parameter check failed at: engine.cpp::setBindingDimensions::1136, condition: profileMaxDims.d[i] >= dimensions.d[i]\n",
      "[TensorRT] ERROR: safeContext.cpp (184) - Cudnn Error in configure: 7 (CUDNN_STATUS_MAPPING_ERROR)\n",
      "[TensorRT] ERROR: FAILED_EXECUTION: std::exception\n",
      "[TensorRT] ERROR: Parameter check failed at: engine.cpp::setBindingDimensions::1136, condition: profileMaxDims.d[i] >= dimensions.d[i]\n",
      "[TensorRT] ERROR: safeContext.cpp (184) - Cudnn Error in configure: 7 (CUDNN_STATUS_MAPPING_ERROR)\n",
      "[TensorRT] ERROR: FAILED_EXECUTION: std::exception\n"
     ]
    },
    {
     "name": "stdout",
     "output_type": "stream",
     "text": [
      "Time: 0.05959129333496094\n",
      "Time: 0.06053352355957031\n",
      "Time: 0.05809903144836426\n",
      "Time: 0.05994987487792969\n"
     ]
    },
    {
     "name": "stderr",
     "output_type": "stream",
     "text": [
      "[TensorRT] ERROR: Parameter check failed at: engine.cpp::setBindingDimensions::1136, condition: profileMaxDims.d[i] >= dimensions.d[i]\n",
      "[TensorRT] ERROR: safeContext.cpp (184) - Cudnn Error in configure: 7 (CUDNN_STATUS_MAPPING_ERROR)\n",
      "[TensorRT] ERROR: FAILED_EXECUTION: std::exception\n",
      "[TensorRT] ERROR: Parameter check failed at: engine.cpp::setBindingDimensions::1136, condition: profileMaxDims.d[i] >= dimensions.d[i]\n",
      "[TensorRT] ERROR: safeContext.cpp (184) - Cudnn Error in configure: 7 (CUDNN_STATUS_MAPPING_ERROR)\n",
      "[TensorRT] ERROR: FAILED_EXECUTION: std::exception\n",
      "[TensorRT] ERROR: Parameter check failed at: engine.cpp::setBindingDimensions::1136, condition: profileMaxDims.d[i] >= dimensions.d[i]\n",
      "[TensorRT] ERROR: safeContext.cpp (184) - Cudnn Error in configure: 7 (CUDNN_STATUS_MAPPING_ERROR)\n",
      "[TensorRT] ERROR: FAILED_EXECUTION: std::exception\n",
      "[TensorRT] ERROR: Parameter check failed at: engine.cpp::setBindingDimensions::1136, condition: profileMaxDims.d[i] >= dimensions.d[i]\n",
      "[TensorRT] ERROR: safeContext.cpp (184) - Cudnn Error in configure: 7 (CUDNN_STATUS_MAPPING_ERROR)\n",
      "[TensorRT] ERROR: FAILED_EXECUTION: std::exception\n"
     ]
    },
    {
     "name": "stdout",
     "output_type": "stream",
     "text": [
      "Time: 0.059294939041137695\n",
      "Time: 0.05807757377624512\n",
      "Time: 0.05834221839904785\n",
      "Time: 0.061345577239990234\n"
     ]
    },
    {
     "name": "stderr",
     "output_type": "stream",
     "text": [
      "[TensorRT] ERROR: Parameter check failed at: engine.cpp::setBindingDimensions::1136, condition: profileMaxDims.d[i] >= dimensions.d[i]\n",
      "[TensorRT] ERROR: safeContext.cpp (184) - Cudnn Error in configure: 7 (CUDNN_STATUS_MAPPING_ERROR)\n",
      "[TensorRT] ERROR: FAILED_EXECUTION: std::exception\n",
      "[TensorRT] ERROR: Parameter check failed at: engine.cpp::setBindingDimensions::1136, condition: profileMaxDims.d[i] >= dimensions.d[i]\n",
      "[TensorRT] ERROR: safeContext.cpp (184) - Cudnn Error in configure: 7 (CUDNN_STATUS_MAPPING_ERROR)\n",
      "[TensorRT] ERROR: FAILED_EXECUTION: std::exception\n",
      "[TensorRT] ERROR: Parameter check failed at: engine.cpp::setBindingDimensions::1136, condition: profileMaxDims.d[i] >= dimensions.d[i]\n",
      "[TensorRT] ERROR: safeContext.cpp (184) - Cudnn Error in configure: 7 (CUDNN_STATUS_MAPPING_ERROR)\n",
      "[TensorRT] ERROR: FAILED_EXECUTION: std::exception\n",
      "[TensorRT] ERROR: Parameter check failed at: engine.cpp::setBindingDimensions::1136, condition: profileMaxDims.d[i] >= dimensions.d[i]\n",
      "[TensorRT] ERROR: safeContext.cpp (184) - Cudnn Error in configure: 7 (CUDNN_STATUS_MAPPING_ERROR)\n",
      "[TensorRT] ERROR: FAILED_EXECUTION: std::exception\n"
     ]
    },
    {
     "name": "stdout",
     "output_type": "stream",
     "text": [
      "Time: 0.06009697914123535\n",
      "Time: 0.057300567626953125\n",
      "Time: 0.05852913856506348\n",
      "Time: 0.057680606842041016\n"
     ]
    },
    {
     "name": "stderr",
     "output_type": "stream",
     "text": [
      "[TensorRT] ERROR: Parameter check failed at: engine.cpp::setBindingDimensions::1136, condition: profileMaxDims.d[i] >= dimensions.d[i]\n",
      "[TensorRT] ERROR: safeContext.cpp (184) - Cudnn Error in configure: 7 (CUDNN_STATUS_MAPPING_ERROR)\n",
      "[TensorRT] ERROR: FAILED_EXECUTION: std::exception\n",
      "[TensorRT] ERROR: Parameter check failed at: engine.cpp::setBindingDimensions::1136, condition: profileMaxDims.d[i] >= dimensions.d[i]\n",
      "[TensorRT] ERROR: safeContext.cpp (184) - Cudnn Error in configure: 7 (CUDNN_STATUS_MAPPING_ERROR)\n",
      "[TensorRT] ERROR: FAILED_EXECUTION: std::exception\n",
      "[TensorRT] ERROR: Parameter check failed at: engine.cpp::setBindingDimensions::1136, condition: profileMaxDims.d[i] >= dimensions.d[i]\n",
      "[TensorRT] ERROR: safeContext.cpp (184) - Cudnn Error in configure: 7 (CUDNN_STATUS_MAPPING_ERROR)\n",
      "[TensorRT] ERROR: FAILED_EXECUTION: std::exception\n",
      "[TensorRT] ERROR: Parameter check failed at: engine.cpp::setBindingDimensions::1136, condition: profileMaxDims.d[i] >= dimensions.d[i]\n",
      "[TensorRT] ERROR: safeContext.cpp (184) - Cudnn Error in configure: 7 (CUDNN_STATUS_MAPPING_ERROR)\n",
      "[TensorRT] ERROR: FAILED_EXECUTION: std::exception\n"
     ]
    },
    {
     "name": "stdout",
     "output_type": "stream",
     "text": [
      "Time: 0.060002803802490234\n",
      "Time: 0.0583643913269043\n",
      "Time: 0.06285977363586426\n",
      "Time: 0.05796527862548828\n"
     ]
    },
    {
     "name": "stderr",
     "output_type": "stream",
     "text": [
      "[TensorRT] ERROR: Parameter check failed at: engine.cpp::setBindingDimensions::1136, condition: profileMaxDims.d[i] >= dimensions.d[i]\n",
      "[TensorRT] ERROR: safeContext.cpp (184) - Cudnn Error in configure: 7 (CUDNN_STATUS_MAPPING_ERROR)\n",
      "[TensorRT] ERROR: FAILED_EXECUTION: std::exception\n",
      "[TensorRT] ERROR: Parameter check failed at: engine.cpp::setBindingDimensions::1136, condition: profileMaxDims.d[i] >= dimensions.d[i]\n",
      "[TensorRT] ERROR: safeContext.cpp (184) - Cudnn Error in configure: 7 (CUDNN_STATUS_MAPPING_ERROR)\n",
      "[TensorRT] ERROR: FAILED_EXECUTION: std::exception\n",
      "[TensorRT] ERROR: Parameter check failed at: engine.cpp::setBindingDimensions::1136, condition: profileMaxDims.d[i] >= dimensions.d[i]\n",
      "[TensorRT] ERROR: safeContext.cpp (184) - Cudnn Error in configure: 7 (CUDNN_STATUS_MAPPING_ERROR)\n",
      "[TensorRT] ERROR: FAILED_EXECUTION: std::exception\n",
      "[TensorRT] ERROR: Parameter check failed at: engine.cpp::setBindingDimensions::1136, condition: profileMaxDims.d[i] >= dimensions.d[i]\n",
      "[TensorRT] ERROR: safeContext.cpp (184) - Cudnn Error in configure: 7 (CUDNN_STATUS_MAPPING_ERROR)\n",
      "[TensorRT] ERROR: FAILED_EXECUTION: std::exception\n"
     ]
    },
    {
     "name": "stdout",
     "output_type": "stream",
     "text": [
      "Time: 0.06647300720214844\n",
      "Time: 0.06911683082580566\n",
      "Time: 0.0613558292388916\n",
      "Time: 0.05810189247131348\n"
     ]
    },
    {
     "name": "stderr",
     "output_type": "stream",
     "text": [
      "[TensorRT] ERROR: Parameter check failed at: engine.cpp::setBindingDimensions::1136, condition: profileMaxDims.d[i] >= dimensions.d[i]\n",
      "[TensorRT] ERROR: safeContext.cpp (184) - Cudnn Error in configure: 7 (CUDNN_STATUS_MAPPING_ERROR)\n",
      "[TensorRT] ERROR: FAILED_EXECUTION: std::exception\n",
      "[TensorRT] ERROR: Parameter check failed at: engine.cpp::setBindingDimensions::1136, condition: profileMaxDims.d[i] >= dimensions.d[i]\n",
      "[TensorRT] ERROR: safeContext.cpp (184) - Cudnn Error in configure: 7 (CUDNN_STATUS_MAPPING_ERROR)\n",
      "[TensorRT] ERROR: FAILED_EXECUTION: std::exception\n",
      "[TensorRT] ERROR: Parameter check failed at: engine.cpp::setBindingDimensions::1136, condition: profileMaxDims.d[i] >= dimensions.d[i]\n",
      "[TensorRT] ERROR: safeContext.cpp (184) - Cudnn Error in configure: 7 (CUDNN_STATUS_MAPPING_ERROR)\n",
      "[TensorRT] ERROR: FAILED_EXECUTION: std::exception\n",
      "[TensorRT] ERROR: Parameter check failed at: engine.cpp::setBindingDimensions::1136, condition: profileMaxDims.d[i] >= dimensions.d[i]\n",
      "[TensorRT] ERROR: safeContext.cpp (184) - Cudnn Error in configure: 7 (CUDNN_STATUS_MAPPING_ERROR)\n",
      "[TensorRT] ERROR: FAILED_EXECUTION: std::exception\n"
     ]
    },
    {
     "name": "stdout",
     "output_type": "stream",
     "text": [
      "Time: 0.06003618240356445\n",
      "Time: 0.058316946029663086\n",
      "Time: 0.05830883979797363\n",
      "Time: 0.0630190372467041\n"
     ]
    },
    {
     "name": "stderr",
     "output_type": "stream",
     "text": [
      "[TensorRT] ERROR: Parameter check failed at: engine.cpp::setBindingDimensions::1136, condition: profileMaxDims.d[i] >= dimensions.d[i]\n",
      "[TensorRT] ERROR: safeContext.cpp (184) - Cudnn Error in configure: 7 (CUDNN_STATUS_MAPPING_ERROR)\n",
      "[TensorRT] ERROR: FAILED_EXECUTION: std::exception\n",
      "[TensorRT] ERROR: Parameter check failed at: engine.cpp::setBindingDimensions::1136, condition: profileMaxDims.d[i] >= dimensions.d[i]\n",
      "[TensorRT] ERROR: safeContext.cpp (184) - Cudnn Error in configure: 7 (CUDNN_STATUS_MAPPING_ERROR)\n",
      "[TensorRT] ERROR: FAILED_EXECUTION: std::exception\n",
      "[TensorRT] ERROR: Parameter check failed at: engine.cpp::setBindingDimensions::1136, condition: profileMaxDims.d[i] >= dimensions.d[i]\n",
      "[TensorRT] ERROR: safeContext.cpp (184) - Cudnn Error in configure: 7 (CUDNN_STATUS_MAPPING_ERROR)\n",
      "[TensorRT] ERROR: FAILED_EXECUTION: std::exception\n",
      "[TensorRT] ERROR: Parameter check failed at: engine.cpp::setBindingDimensions::1136, condition: profileMaxDims.d[i] >= dimensions.d[i]\n",
      "[TensorRT] ERROR: safeContext.cpp (184) - Cudnn Error in configure: 7 (CUDNN_STATUS_MAPPING_ERROR)\n",
      "[TensorRT] ERROR: FAILED_EXECUTION: std::exception\n"
     ]
    },
    {
     "name": "stdout",
     "output_type": "stream",
     "text": [
      "Time: 0.059569358825683594\n",
      "Time: 0.06254696846008301\n",
      "Time: 0.05864572525024414\n",
      "Time: 0.05956459045410156\n"
     ]
    },
    {
     "name": "stderr",
     "output_type": "stream",
     "text": [
      "[TensorRT] ERROR: Parameter check failed at: engine.cpp::setBindingDimensions::1136, condition: profileMaxDims.d[i] >= dimensions.d[i]\n",
      "[TensorRT] ERROR: safeContext.cpp (184) - Cudnn Error in configure: 7 (CUDNN_STATUS_MAPPING_ERROR)\n",
      "[TensorRT] ERROR: FAILED_EXECUTION: std::exception\n",
      "[TensorRT] ERROR: Parameter check failed at: engine.cpp::setBindingDimensions::1136, condition: profileMaxDims.d[i] >= dimensions.d[i]\n",
      "[TensorRT] ERROR: safeContext.cpp (184) - Cudnn Error in configure: 7 (CUDNN_STATUS_MAPPING_ERROR)\n",
      "[TensorRT] ERROR: FAILED_EXECUTION: std::exception\n",
      "[TensorRT] ERROR: Parameter check failed at: engine.cpp::setBindingDimensions::1136, condition: profileMaxDims.d[i] >= dimensions.d[i]\n",
      "[TensorRT] ERROR: safeContext.cpp (184) - Cudnn Error in configure: 7 (CUDNN_STATUS_MAPPING_ERROR)\n",
      "[TensorRT] ERROR: FAILED_EXECUTION: std::exception\n",
      "[TensorRT] ERROR: Parameter check failed at: engine.cpp::setBindingDimensions::1136, condition: profileMaxDims.d[i] >= dimensions.d[i]\n",
      "[TensorRT] ERROR: safeContext.cpp (184) - Cudnn Error in configure: 7 (CUDNN_STATUS_MAPPING_ERROR)\n",
      "[TensorRT] ERROR: FAILED_EXECUTION: std::exception\n"
     ]
    },
    {
     "name": "stdout",
     "output_type": "stream",
     "text": [
      "Time: 0.05998849868774414\n",
      "Time: 0.05819249153137207\n",
      "Time: 0.05921649932861328\n",
      "Time: 0.0579676628112793\n"
     ]
    },
    {
     "name": "stderr",
     "output_type": "stream",
     "text": [
      "[TensorRT] ERROR: Parameter check failed at: engine.cpp::setBindingDimensions::1136, condition: profileMaxDims.d[i] >= dimensions.d[i]\n",
      "[TensorRT] ERROR: safeContext.cpp (184) - Cudnn Error in configure: 7 (CUDNN_STATUS_MAPPING_ERROR)\n",
      "[TensorRT] ERROR: FAILED_EXECUTION: std::exception\n",
      "[TensorRT] ERROR: Parameter check failed at: engine.cpp::setBindingDimensions::1136, condition: profileMaxDims.d[i] >= dimensions.d[i]\n",
      "[TensorRT] ERROR: safeContext.cpp (184) - Cudnn Error in configure: 7 (CUDNN_STATUS_MAPPING_ERROR)\n",
      "[TensorRT] ERROR: FAILED_EXECUTION: std::exception\n",
      "[TensorRT] ERROR: Parameter check failed at: engine.cpp::setBindingDimensions::1136, condition: profileMaxDims.d[i] >= dimensions.d[i]\n",
      "[TensorRT] ERROR: safeContext.cpp (184) - Cudnn Error in configure: 7 (CUDNN_STATUS_MAPPING_ERROR)\n",
      "[TensorRT] ERROR: FAILED_EXECUTION: std::exception\n",
      "[TensorRT] ERROR: Parameter check failed at: engine.cpp::setBindingDimensions::1136, condition: profileMaxDims.d[i] >= dimensions.d[i]\n",
      "[TensorRT] ERROR: safeContext.cpp (184) - Cudnn Error in configure: 7 (CUDNN_STATUS_MAPPING_ERROR)\n",
      "[TensorRT] ERROR: FAILED_EXECUTION: std::exception\n"
     ]
    },
    {
     "name": "stdout",
     "output_type": "stream",
     "text": [
      "Time: 0.06295275688171387\n",
      "Time: 0.05913686752319336\n",
      "Time: 0.05867576599121094\n",
      "Time: 0.059706687927246094\n"
     ]
    },
    {
     "name": "stderr",
     "output_type": "stream",
     "text": [
      "[TensorRT] ERROR: Parameter check failed at: engine.cpp::setBindingDimensions::1136, condition: profileMaxDims.d[i] >= dimensions.d[i]\n",
      "[TensorRT] ERROR: safeContext.cpp (184) - Cudnn Error in configure: 7 (CUDNN_STATUS_MAPPING_ERROR)\n",
      "[TensorRT] ERROR: FAILED_EXECUTION: std::exception\n",
      "[TensorRT] ERROR: Parameter check failed at: engine.cpp::setBindingDimensions::1136, condition: profileMaxDims.d[i] >= dimensions.d[i]\n",
      "[TensorRT] ERROR: safeContext.cpp (184) - Cudnn Error in configure: 7 (CUDNN_STATUS_MAPPING_ERROR)\n",
      "[TensorRT] ERROR: FAILED_EXECUTION: std::exception\n",
      "[TensorRT] ERROR: Parameter check failed at: engine.cpp::setBindingDimensions::1136, condition: profileMaxDims.d[i] >= dimensions.d[i]\n",
      "[TensorRT] ERROR: safeContext.cpp (184) - Cudnn Error in configure: 7 (CUDNN_STATUS_MAPPING_ERROR)\n",
      "[TensorRT] ERROR: FAILED_EXECUTION: std::exception\n",
      "[TensorRT] ERROR: Parameter check failed at: engine.cpp::setBindingDimensions::1136, condition: profileMaxDims.d[i] >= dimensions.d[i]\n",
      "[TensorRT] ERROR: safeContext.cpp (184) - Cudnn Error in configure: 7 (CUDNN_STATUS_MAPPING_ERROR)\n",
      "[TensorRT] ERROR: FAILED_EXECUTION: std::exception\n"
     ]
    },
    {
     "name": "stdout",
     "output_type": "stream",
     "text": [
      "Time: 0.05963444709777832\n",
      "Time: 0.059885501861572266\n",
      "Time: 0.059265851974487305\n",
      "Time: 0.06195712089538574\n"
     ]
    },
    {
     "name": "stderr",
     "output_type": "stream",
     "text": [
      "[TensorRT] ERROR: Parameter check failed at: engine.cpp::setBindingDimensions::1136, condition: profileMaxDims.d[i] >= dimensions.d[i]\n",
      "[TensorRT] ERROR: safeContext.cpp (184) - Cudnn Error in configure: 7 (CUDNN_STATUS_MAPPING_ERROR)\n",
      "[TensorRT] ERROR: FAILED_EXECUTION: std::exception\n",
      "[TensorRT] ERROR: Parameter check failed at: engine.cpp::setBindingDimensions::1136, condition: profileMaxDims.d[i] >= dimensions.d[i]\n",
      "[TensorRT] ERROR: safeContext.cpp (184) - Cudnn Error in configure: 7 (CUDNN_STATUS_MAPPING_ERROR)\n",
      "[TensorRT] ERROR: FAILED_EXECUTION: std::exception\n",
      "[TensorRT] ERROR: Parameter check failed at: engine.cpp::setBindingDimensions::1136, condition: profileMaxDims.d[i] >= dimensions.d[i]\n",
      "[TensorRT] ERROR: safeContext.cpp (184) - Cudnn Error in configure: 7 (CUDNN_STATUS_MAPPING_ERROR)\n",
      "[TensorRT] ERROR: FAILED_EXECUTION: std::exception\n",
      "[TensorRT] ERROR: Parameter check failed at: engine.cpp::setBindingDimensions::1136, condition: profileMaxDims.d[i] >= dimensions.d[i]\n",
      "[TensorRT] ERROR: safeContext.cpp (184) - Cudnn Error in configure: 7 (CUDNN_STATUS_MAPPING_ERROR)\n",
      "[TensorRT] ERROR: FAILED_EXECUTION: std::exception\n"
     ]
    },
    {
     "name": "stdout",
     "output_type": "stream",
     "text": [
      "Time: 0.05588126182556152\n",
      "Time: 0.05184197425842285\n",
      "Time: 0.0522916316986084\n",
      "Time: 0.05442309379577637\n"
     ]
    },
    {
     "name": "stderr",
     "output_type": "stream",
     "text": [
      "[TensorRT] ERROR: Parameter check failed at: engine.cpp::setBindingDimensions::1136, condition: profileMaxDims.d[i] >= dimensions.d[i]\n",
      "[TensorRT] ERROR: safeContext.cpp (184) - Cudnn Error in configure: 7 (CUDNN_STATUS_MAPPING_ERROR)\n",
      "[TensorRT] ERROR: FAILED_EXECUTION: std::exception\n",
      "[TensorRT] ERROR: Parameter check failed at: engine.cpp::setBindingDimensions::1136, condition: profileMaxDims.d[i] >= dimensions.d[i]\n",
      "[TensorRT] ERROR: safeContext.cpp (184) - Cudnn Error in configure: 7 (CUDNN_STATUS_MAPPING_ERROR)\n",
      "[TensorRT] ERROR: FAILED_EXECUTION: std::exception\n",
      "[TensorRT] ERROR: Parameter check failed at: engine.cpp::setBindingDimensions::1136, condition: profileMaxDims.d[i] >= dimensions.d[i]\n",
      "[TensorRT] ERROR: safeContext.cpp (184) - Cudnn Error in configure: 7 (CUDNN_STATUS_MAPPING_ERROR)\n",
      "[TensorRT] ERROR: FAILED_EXECUTION: std::exception\n",
      "[TensorRT] ERROR: Parameter check failed at: engine.cpp::setBindingDimensions::1136, condition: profileMaxDims.d[i] >= dimensions.d[i]\n",
      "[TensorRT] ERROR: safeContext.cpp (184) - Cudnn Error in configure: 7 (CUDNN_STATUS_MAPPING_ERROR)\n",
      "[TensorRT] ERROR: FAILED_EXECUTION: std::exception\n"
     ]
    },
    {
     "name": "stdout",
     "output_type": "stream",
     "text": [
      "Time: 0.05772829055786133\n",
      "Time: 0.0563817024230957\n",
      "Time: 0.05616331100463867\n",
      "Time: 0.05630922317504883\n"
     ]
    },
    {
     "name": "stderr",
     "output_type": "stream",
     "text": [
      "[TensorRT] ERROR: Parameter check failed at: engine.cpp::setBindingDimensions::1136, condition: profileMaxDims.d[i] >= dimensions.d[i]\n",
      "[TensorRT] ERROR: safeContext.cpp (184) - Cudnn Error in configure: 7 (CUDNN_STATUS_MAPPING_ERROR)\n",
      "[TensorRT] ERROR: FAILED_EXECUTION: std::exception\n",
      "[TensorRT] ERROR: Parameter check failed at: engine.cpp::setBindingDimensions::1136, condition: profileMaxDims.d[i] >= dimensions.d[i]\n",
      "[TensorRT] ERROR: safeContext.cpp (184) - Cudnn Error in configure: 7 (CUDNN_STATUS_MAPPING_ERROR)\n",
      "[TensorRT] ERROR: FAILED_EXECUTION: std::exception\n",
      "[TensorRT] ERROR: Parameter check failed at: engine.cpp::setBindingDimensions::1136, condition: profileMaxDims.d[i] >= dimensions.d[i]\n",
      "[TensorRT] ERROR: safeContext.cpp (184) - Cudnn Error in configure: 7 (CUDNN_STATUS_MAPPING_ERROR)\n",
      "[TensorRT] ERROR: FAILED_EXECUTION: std::exception\n",
      "[TensorRT] ERROR: Parameter check failed at: engine.cpp::setBindingDimensions::1136, condition: profileMaxDims.d[i] >= dimensions.d[i]\n",
      "[TensorRT] ERROR: safeContext.cpp (184) - Cudnn Error in configure: 7 (CUDNN_STATUS_MAPPING_ERROR)\n",
      "[TensorRT] ERROR: FAILED_EXECUTION: std::exception\n"
     ]
    },
    {
     "name": "stdout",
     "output_type": "stream",
     "text": [
      "Time: 0.057741641998291016\n",
      "Idx: 1000\n",
      "Time: 0.05635881423950195\n",
      "Time: 0.056351661682128906\n",
      "Time: 0.05802178382873535\n"
     ]
    },
    {
     "name": "stderr",
     "output_type": "stream",
     "text": [
      "[TensorRT] ERROR: Parameter check failed at: engine.cpp::setBindingDimensions::1136, condition: profileMaxDims.d[i] >= dimensions.d[i]\n",
      "[TensorRT] ERROR: safeContext.cpp (184) - Cudnn Error in configure: 7 (CUDNN_STATUS_MAPPING_ERROR)\n",
      "[TensorRT] ERROR: FAILED_EXECUTION: std::exception\n",
      "[TensorRT] ERROR: Parameter check failed at: engine.cpp::setBindingDimensions::1136, condition: profileMaxDims.d[i] >= dimensions.d[i]\n",
      "[TensorRT] ERROR: safeContext.cpp (184) - Cudnn Error in configure: 7 (CUDNN_STATUS_MAPPING_ERROR)\n",
      "[TensorRT] ERROR: FAILED_EXECUTION: std::exception\n",
      "[TensorRT] ERROR: Parameter check failed at: engine.cpp::setBindingDimensions::1136, condition: profileMaxDims.d[i] >= dimensions.d[i]\n",
      "[TensorRT] ERROR: safeContext.cpp (184) - Cudnn Error in configure: 7 (CUDNN_STATUS_MAPPING_ERROR)\n",
      "[TensorRT] ERROR: FAILED_EXECUTION: std::exception\n",
      "[TensorRT] ERROR: Parameter check failed at: engine.cpp::setBindingDimensions::1136, condition: profileMaxDims.d[i] >= dimensions.d[i]\n",
      "[TensorRT] ERROR: safeContext.cpp (184) - Cudnn Error in configure: 7 (CUDNN_STATUS_MAPPING_ERROR)\n",
      "[TensorRT] ERROR: FAILED_EXECUTION: std::exception\n"
     ]
    },
    {
     "name": "stdout",
     "output_type": "stream",
     "text": [
      "Time: 0.05774402618408203\n",
      "Time: 0.05637550354003906\n",
      "Time: 0.061409950256347656\n",
      "Time: 0.056299686431884766\n"
     ]
    },
    {
     "name": "stderr",
     "output_type": "stream",
     "text": [
      "[TensorRT] ERROR: Parameter check failed at: engine.cpp::setBindingDimensions::1136, condition: profileMaxDims.d[i] >= dimensions.d[i]\n",
      "[TensorRT] ERROR: safeContext.cpp (184) - Cudnn Error in configure: 7 (CUDNN_STATUS_MAPPING_ERROR)\n",
      "[TensorRT] ERROR: FAILED_EXECUTION: std::exception\n",
      "[TensorRT] ERROR: Parameter check failed at: engine.cpp::setBindingDimensions::1136, condition: profileMaxDims.d[i] >= dimensions.d[i]\n",
      "[TensorRT] ERROR: safeContext.cpp (184) - Cudnn Error in configure: 7 (CUDNN_STATUS_MAPPING_ERROR)\n",
      "[TensorRT] ERROR: FAILED_EXECUTION: std::exception\n",
      "[TensorRT] ERROR: Parameter check failed at: engine.cpp::setBindingDimensions::1136, condition: profileMaxDims.d[i] >= dimensions.d[i]\n",
      "[TensorRT] ERROR: safeContext.cpp (184) - Cudnn Error in configure: 7 (CUDNN_STATUS_MAPPING_ERROR)\n",
      "[TensorRT] ERROR: FAILED_EXECUTION: std::exception\n",
      "[TensorRT] ERROR: Parameter check failed at: engine.cpp::setBindingDimensions::1136, condition: profileMaxDims.d[i] >= dimensions.d[i]\n",
      "[TensorRT] ERROR: safeContext.cpp (184) - Cudnn Error in configure: 7 (CUDNN_STATUS_MAPPING_ERROR)\n",
      "[TensorRT] ERROR: FAILED_EXECUTION: std::exception\n"
     ]
    },
    {
     "name": "stdout",
     "output_type": "stream",
     "text": [
      "Time: 0.057784080505371094\n",
      "Time: 0.05728745460510254\n",
      "Time: 0.05670881271362305\n",
      "Time: 0.056481122970581055\n"
     ]
    },
    {
     "name": "stderr",
     "output_type": "stream",
     "text": [
      "[TensorRT] ERROR: Parameter check failed at: engine.cpp::setBindingDimensions::1136, condition: profileMaxDims.d[i] >= dimensions.d[i]\n",
      "[TensorRT] ERROR: safeContext.cpp (184) - Cudnn Error in configure: 7 (CUDNN_STATUS_MAPPING_ERROR)\n",
      "[TensorRT] ERROR: FAILED_EXECUTION: std::exception\n",
      "[TensorRT] ERROR: Parameter check failed at: engine.cpp::setBindingDimensions::1136, condition: profileMaxDims.d[i] >= dimensions.d[i]\n",
      "[TensorRT] ERROR: safeContext.cpp (184) - Cudnn Error in configure: 7 (CUDNN_STATUS_MAPPING_ERROR)\n",
      "[TensorRT] ERROR: FAILED_EXECUTION: std::exception\n",
      "[TensorRT] ERROR: Parameter check failed at: engine.cpp::setBindingDimensions::1136, condition: profileMaxDims.d[i] >= dimensions.d[i]\n",
      "[TensorRT] ERROR: safeContext.cpp (184) - Cudnn Error in configure: 7 (CUDNN_STATUS_MAPPING_ERROR)\n",
      "[TensorRT] ERROR: FAILED_EXECUTION: std::exception\n"
     ]
    },
    {
     "name": "stdout",
     "output_type": "stream",
     "text": [
      "Time: 0.05735373497009277\n",
      "Time: 0.056334495544433594\n",
      "Time: 0.062482357025146484\n"
     ]
    },
    {
     "name": "stderr",
     "output_type": "stream",
     "text": [
      "[TensorRT] ERROR: Parameter check failed at: engine.cpp::setBindingDimensions::1136, condition: profileMaxDims.d[i] >= dimensions.d[i]\n",
      "[TensorRT] ERROR: safeContext.cpp (184) - Cudnn Error in configure: 7 (CUDNN_STATUS_MAPPING_ERROR)\n",
      "[TensorRT] ERROR: FAILED_EXECUTION: std::exception\n",
      "[TensorRT] ERROR: Parameter check failed at: engine.cpp::setBindingDimensions::1136, condition: profileMaxDims.d[i] >= dimensions.d[i]\n",
      "[TensorRT] ERROR: safeContext.cpp (184) - Cudnn Error in configure: 7 (CUDNN_STATUS_MAPPING_ERROR)\n",
      "[TensorRT] ERROR: FAILED_EXECUTION: std::exception\n",
      "[TensorRT] ERROR: Parameter check failed at: engine.cpp::setBindingDimensions::1136, condition: profileMaxDims.d[i] >= dimensions.d[i]\n",
      "[TensorRT] ERROR: safeContext.cpp (184) - Cudnn Error in configure: 7 (CUDNN_STATUS_MAPPING_ERROR)\n",
      "[TensorRT] ERROR: FAILED_EXECUTION: std::exception\n"
     ]
    },
    {
     "name": "stdout",
     "output_type": "stream",
     "text": [
      "Time: 0.08716487884521484\n",
      "Time: 0.11458873748779297\n",
      "Time: 0.0742950439453125\n"
     ]
    },
    {
     "name": "stderr",
     "output_type": "stream",
     "text": [
      "[TensorRT] ERROR: Parameter check failed at: engine.cpp::setBindingDimensions::1136, condition: profileMaxDims.d[i] >= dimensions.d[i]\n",
      "[TensorRT] ERROR: safeContext.cpp (184) - Cudnn Error in configure: 7 (CUDNN_STATUS_MAPPING_ERROR)\n",
      "[TensorRT] ERROR: FAILED_EXECUTION: std::exception\n",
      "[TensorRT] ERROR: Parameter check failed at: engine.cpp::setBindingDimensions::1136, condition: profileMaxDims.d[i] >= dimensions.d[i]\n",
      "[TensorRT] ERROR: safeContext.cpp (184) - Cudnn Error in configure: 7 (CUDNN_STATUS_MAPPING_ERROR)\n",
      "[TensorRT] ERROR: FAILED_EXECUTION: std::exception\n",
      "[TensorRT] ERROR: Parameter check failed at: engine.cpp::setBindingDimensions::1136, condition: profileMaxDims.d[i] >= dimensions.d[i]\n",
      "[TensorRT] ERROR: safeContext.cpp (184) - Cudnn Error in configure: 7 (CUDNN_STATUS_MAPPING_ERROR)\n",
      "[TensorRT] ERROR: FAILED_EXECUTION: std::exception\n",
      "[TensorRT] ERROR: Parameter check failed at: engine.cpp::setBindingDimensions::1136, condition: profileMaxDims.d[i] >= dimensions.d[i]\n",
      "[TensorRT] ERROR: safeContext.cpp (184) - Cudnn Error in configure: 7 (CUDNN_STATUS_MAPPING_ERROR)\n",
      "[TensorRT] ERROR: FAILED_EXECUTION: std::exception\n"
     ]
    },
    {
     "name": "stdout",
     "output_type": "stream",
     "text": [
      "Time: 0.06066560745239258\n",
      "Time: 0.056430816650390625\n",
      "Time: 0.05616116523742676\n",
      "Time: 0.056159019470214844\n"
     ]
    },
    {
     "name": "stderr",
     "output_type": "stream",
     "text": [
      "[TensorRT] ERROR: Parameter check failed at: engine.cpp::setBindingDimensions::1136, condition: profileMaxDims.d[i] >= dimensions.d[i]\n",
      "[TensorRT] ERROR: safeContext.cpp (184) - Cudnn Error in configure: 7 (CUDNN_STATUS_MAPPING_ERROR)\n",
      "[TensorRT] ERROR: FAILED_EXECUTION: std::exception\n",
      "[TensorRT] ERROR: Parameter check failed at: engine.cpp::setBindingDimensions::1136, condition: profileMaxDims.d[i] >= dimensions.d[i]\n",
      "[TensorRT] ERROR: safeContext.cpp (184) - Cudnn Error in configure: 7 (CUDNN_STATUS_MAPPING_ERROR)\n",
      "[TensorRT] ERROR: FAILED_EXECUTION: std::exception\n",
      "[TensorRT] ERROR: Parameter check failed at: engine.cpp::setBindingDimensions::1136, condition: profileMaxDims.d[i] >= dimensions.d[i]\n",
      "[TensorRT] ERROR: safeContext.cpp (184) - Cudnn Error in configure: 7 (CUDNN_STATUS_MAPPING_ERROR)\n",
      "[TensorRT] ERROR: FAILED_EXECUTION: std::exception\n",
      "[TensorRT] ERROR: Parameter check failed at: engine.cpp::setBindingDimensions::1136, condition: profileMaxDims.d[i] >= dimensions.d[i]\n",
      "[TensorRT] ERROR: safeContext.cpp (184) - Cudnn Error in configure: 7 (CUDNN_STATUS_MAPPING_ERROR)\n",
      "[TensorRT] ERROR: FAILED_EXECUTION: std::exception\n"
     ]
    },
    {
     "name": "stdout",
     "output_type": "stream",
     "text": [
      "Time: 0.057595014572143555\n",
      "Time: 0.06203007698059082\n",
      "Time: 0.05647468566894531\n",
      "Time: 0.05628561973571777\n"
     ]
    },
    {
     "name": "stderr",
     "output_type": "stream",
     "text": [
      "[TensorRT] ERROR: Parameter check failed at: engine.cpp::setBindingDimensions::1136, condition: profileMaxDims.d[i] >= dimensions.d[i]\n",
      "[TensorRT] ERROR: safeContext.cpp (184) - Cudnn Error in configure: 7 (CUDNN_STATUS_MAPPING_ERROR)\n",
      "[TensorRT] ERROR: FAILED_EXECUTION: std::exception\n",
      "[TensorRT] ERROR: Parameter check failed at: engine.cpp::setBindingDimensions::1136, condition: profileMaxDims.d[i] >= dimensions.d[i]\n",
      "[TensorRT] ERROR: safeContext.cpp (184) - Cudnn Error in configure: 7 (CUDNN_STATUS_MAPPING_ERROR)\n",
      "[TensorRT] ERROR: FAILED_EXECUTION: std::exception\n",
      "[TensorRT] ERROR: Parameter check failed at: engine.cpp::setBindingDimensions::1136, condition: profileMaxDims.d[i] >= dimensions.d[i]\n",
      "[TensorRT] ERROR: safeContext.cpp (184) - Cudnn Error in configure: 7 (CUDNN_STATUS_MAPPING_ERROR)\n",
      "[TensorRT] ERROR: FAILED_EXECUTION: std::exception\n",
      "[TensorRT] ERROR: Parameter check failed at: engine.cpp::setBindingDimensions::1136, condition: profileMaxDims.d[i] >= dimensions.d[i]\n",
      "[TensorRT] ERROR: safeContext.cpp (184) - Cudnn Error in configure: 7 (CUDNN_STATUS_MAPPING_ERROR)\n",
      "[TensorRT] ERROR: FAILED_EXECUTION: std::exception\n"
     ]
    },
    {
     "name": "stdout",
     "output_type": "stream",
     "text": [
      "Time: 0.07899355888366699\n",
      "Time: 0.056418418884277344\n",
      "Time: 0.058714866638183594\n",
      "Time: 0.06119418144226074\n"
     ]
    },
    {
     "name": "stderr",
     "output_type": "stream",
     "text": [
      "[TensorRT] ERROR: Parameter check failed at: engine.cpp::setBindingDimensions::1136, condition: profileMaxDims.d[i] >= dimensions.d[i]\n",
      "[TensorRT] ERROR: safeContext.cpp (184) - Cudnn Error in configure: 7 (CUDNN_STATUS_MAPPING_ERROR)\n",
      "[TensorRT] ERROR: FAILED_EXECUTION: std::exception\n",
      "[TensorRT] ERROR: Parameter check failed at: engine.cpp::setBindingDimensions::1136, condition: profileMaxDims.d[i] >= dimensions.d[i]\n",
      "[TensorRT] ERROR: safeContext.cpp (184) - Cudnn Error in configure: 7 (CUDNN_STATUS_MAPPING_ERROR)\n",
      "[TensorRT] ERROR: FAILED_EXECUTION: std::exception\n",
      "[TensorRT] ERROR: Parameter check failed at: engine.cpp::setBindingDimensions::1136, condition: profileMaxDims.d[i] >= dimensions.d[i]\n",
      "[TensorRT] ERROR: safeContext.cpp (184) - Cudnn Error in configure: 7 (CUDNN_STATUS_MAPPING_ERROR)\n",
      "[TensorRT] ERROR: FAILED_EXECUTION: std::exception\n",
      "[TensorRT] ERROR: Parameter check failed at: engine.cpp::setBindingDimensions::1136, condition: profileMaxDims.d[i] >= dimensions.d[i]\n",
      "[TensorRT] ERROR: safeContext.cpp (184) - Cudnn Error in configure: 7 (CUDNN_STATUS_MAPPING_ERROR)\n",
      "[TensorRT] ERROR: FAILED_EXECUTION: std::exception\n"
     ]
    },
    {
     "name": "stdout",
     "output_type": "stream",
     "text": [
      "Time: 0.05834627151489258\n",
      "Time: 0.056412696838378906\n",
      "Time: 0.05646705627441406\n",
      "Time: 0.06020474433898926\n"
     ]
    },
    {
     "name": "stderr",
     "output_type": "stream",
     "text": [
      "[TensorRT] ERROR: Parameter check failed at: engine.cpp::setBindingDimensions::1136, condition: profileMaxDims.d[i] >= dimensions.d[i]\n",
      "[TensorRT] ERROR: safeContext.cpp (184) - Cudnn Error in configure: 7 (CUDNN_STATUS_MAPPING_ERROR)\n",
      "[TensorRT] ERROR: FAILED_EXECUTION: std::exception\n",
      "[TensorRT] ERROR: Parameter check failed at: engine.cpp::setBindingDimensions::1136, condition: profileMaxDims.d[i] >= dimensions.d[i]\n",
      "[TensorRT] ERROR: safeContext.cpp (184) - Cudnn Error in configure: 7 (CUDNN_STATUS_MAPPING_ERROR)\n",
      "[TensorRT] ERROR: FAILED_EXECUTION: std::exception\n",
      "[TensorRT] ERROR: Parameter check failed at: engine.cpp::setBindingDimensions::1136, condition: profileMaxDims.d[i] >= dimensions.d[i]\n",
      "[TensorRT] ERROR: safeContext.cpp (184) - Cudnn Error in configure: 7 (CUDNN_STATUS_MAPPING_ERROR)\n",
      "[TensorRT] ERROR: FAILED_EXECUTION: std::exception\n",
      "[TensorRT] ERROR: Parameter check failed at: engine.cpp::setBindingDimensions::1136, condition: profileMaxDims.d[i] >= dimensions.d[i]\n",
      "[TensorRT] ERROR: safeContext.cpp (184) - Cudnn Error in configure: 7 (CUDNN_STATUS_MAPPING_ERROR)\n",
      "[TensorRT] ERROR: FAILED_EXECUTION: std::exception\n"
     ]
    },
    {
     "name": "stdout",
     "output_type": "stream",
     "text": [
      "Time: 0.05769705772399902\n",
      "Time: 0.05658292770385742\n",
      "Time: 0.05637812614440918\n",
      "Time: 0.05636310577392578\n"
     ]
    },
    {
     "name": "stderr",
     "output_type": "stream",
     "text": [
      "[TensorRT] ERROR: Parameter check failed at: engine.cpp::setBindingDimensions::1136, condition: profileMaxDims.d[i] >= dimensions.d[i]\n",
      "[TensorRT] ERROR: safeContext.cpp (184) - Cudnn Error in configure: 7 (CUDNN_STATUS_MAPPING_ERROR)\n",
      "[TensorRT] ERROR: FAILED_EXECUTION: std::exception\n",
      "[TensorRT] ERROR: Parameter check failed at: engine.cpp::setBindingDimensions::1136, condition: profileMaxDims.d[i] >= dimensions.d[i]\n",
      "[TensorRT] ERROR: safeContext.cpp (184) - Cudnn Error in configure: 7 (CUDNN_STATUS_MAPPING_ERROR)\n",
      "[TensorRT] ERROR: FAILED_EXECUTION: std::exception\n",
      "[TensorRT] ERROR: Parameter check failed at: engine.cpp::setBindingDimensions::1136, condition: profileMaxDims.d[i] >= dimensions.d[i]\n",
      "[TensorRT] ERROR: safeContext.cpp (184) - Cudnn Error in configure: 7 (CUDNN_STATUS_MAPPING_ERROR)\n",
      "[TensorRT] ERROR: FAILED_EXECUTION: std::exception\n",
      "[TensorRT] ERROR: Parameter check failed at: engine.cpp::setBindingDimensions::1136, condition: profileMaxDims.d[i] >= dimensions.d[i]\n",
      "[TensorRT] ERROR: safeContext.cpp (184) - Cudnn Error in configure: 7 (CUDNN_STATUS_MAPPING_ERROR)\n",
      "[TensorRT] ERROR: FAILED_EXECUTION: std::exception\n"
     ]
    },
    {
     "name": "stdout",
     "output_type": "stream",
     "text": [
      "Time: 0.05751991271972656\n",
      "Time: 0.0563204288482666\n",
      "Time: 0.061064958572387695\n",
      "Time: 0.05670809745788574\n"
     ]
    },
    {
     "name": "stderr",
     "output_type": "stream",
     "text": [
      "[TensorRT] ERROR: Parameter check failed at: engine.cpp::setBindingDimensions::1136, condition: profileMaxDims.d[i] >= dimensions.d[i]\n",
      "[TensorRT] ERROR: safeContext.cpp (184) - Cudnn Error in configure: 7 (CUDNN_STATUS_MAPPING_ERROR)\n",
      "[TensorRT] ERROR: FAILED_EXECUTION: std::exception\n",
      "[TensorRT] ERROR: Parameter check failed at: engine.cpp::setBindingDimensions::1136, condition: profileMaxDims.d[i] >= dimensions.d[i]\n",
      "[TensorRT] ERROR: safeContext.cpp (184) - Cudnn Error in configure: 7 (CUDNN_STATUS_MAPPING_ERROR)\n",
      "[TensorRT] ERROR: FAILED_EXECUTION: std::exception\n",
      "[TensorRT] ERROR: Parameter check failed at: engine.cpp::setBindingDimensions::1136, condition: profileMaxDims.d[i] >= dimensions.d[i]\n",
      "[TensorRT] ERROR: safeContext.cpp (184) - Cudnn Error in configure: 7 (CUDNN_STATUS_MAPPING_ERROR)\n",
      "[TensorRT] ERROR: FAILED_EXECUTION: std::exception\n"
     ]
    },
    {
     "name": "stdout",
     "output_type": "stream",
     "text": [
      "Time: 0.05788922309875488\n",
      "Time: 0.05625319480895996\n",
      "Time: 0.0732278823852539\n"
     ]
    },
    {
     "name": "stderr",
     "output_type": "stream",
     "text": [
      "[TensorRT] ERROR: Parameter check failed at: engine.cpp::setBindingDimensions::1136, condition: profileMaxDims.d[i] >= dimensions.d[i]\n",
      "[TensorRT] ERROR: safeContext.cpp (184) - Cudnn Error in configure: 7 (CUDNN_STATUS_MAPPING_ERROR)\n",
      "[TensorRT] ERROR: FAILED_EXECUTION: std::exception\n",
      "[TensorRT] ERROR: Parameter check failed at: engine.cpp::setBindingDimensions::1136, condition: profileMaxDims.d[i] >= dimensions.d[i]\n",
      "[TensorRT] ERROR: safeContext.cpp (184) - Cudnn Error in configure: 7 (CUDNN_STATUS_MAPPING_ERROR)\n",
      "[TensorRT] ERROR: FAILED_EXECUTION: std::exception\n",
      "[TensorRT] ERROR: Parameter check failed at: engine.cpp::setBindingDimensions::1136, condition: profileMaxDims.d[i] >= dimensions.d[i]\n",
      "[TensorRT] ERROR: safeContext.cpp (184) - Cudnn Error in configure: 7 (CUDNN_STATUS_MAPPING_ERROR)\n",
      "[TensorRT] ERROR: FAILED_EXECUTION: std::exception\n"
     ]
    },
    {
     "name": "stdout",
     "output_type": "stream",
     "text": [
      "Time: 0.08202195167541504\n",
      "Time: 0.07555747032165527\n",
      "Time: 0.07792329788208008\n"
     ]
    },
    {
     "name": "stderr",
     "output_type": "stream",
     "text": [
      "[TensorRT] ERROR: Parameter check failed at: engine.cpp::setBindingDimensions::1136, condition: profileMaxDims.d[i] >= dimensions.d[i]\n",
      "[TensorRT] ERROR: safeContext.cpp (184) - Cudnn Error in configure: 7 (CUDNN_STATUS_MAPPING_ERROR)\n",
      "[TensorRT] ERROR: FAILED_EXECUTION: std::exception\n",
      "[TensorRT] ERROR: Parameter check failed at: engine.cpp::setBindingDimensions::1136, condition: profileMaxDims.d[i] >= dimensions.d[i]\n",
      "[TensorRT] ERROR: safeContext.cpp (184) - Cudnn Error in configure: 7 (CUDNN_STATUS_MAPPING_ERROR)\n",
      "[TensorRT] ERROR: FAILED_EXECUTION: std::exception\n",
      "[TensorRT] ERROR: Parameter check failed at: engine.cpp::setBindingDimensions::1136, condition: profileMaxDims.d[i] >= dimensions.d[i]\n",
      "[TensorRT] ERROR: safeContext.cpp (184) - Cudnn Error in configure: 7 (CUDNN_STATUS_MAPPING_ERROR)\n",
      "[TensorRT] ERROR: FAILED_EXECUTION: std::exception\n"
     ]
    },
    {
     "name": "stdout",
     "output_type": "stream",
     "text": [
      "Time: 0.05774402618408203\n",
      "Time: 0.056267499923706055\n",
      "Time: 0.059890031814575195\n"
     ]
    },
    {
     "name": "stderr",
     "output_type": "stream",
     "text": [
      "[TensorRT] ERROR: Parameter check failed at: engine.cpp::setBindingDimensions::1136, condition: profileMaxDims.d[i] >= dimensions.d[i]\n",
      "[TensorRT] ERROR: safeContext.cpp (184) - Cudnn Error in configure: 7 (CUDNN_STATUS_MAPPING_ERROR)\n",
      "[TensorRT] ERROR: FAILED_EXECUTION: std::exception\n",
      "[TensorRT] ERROR: Parameter check failed at: engine.cpp::setBindingDimensions::1136, condition: profileMaxDims.d[i] >= dimensions.d[i]\n",
      "[TensorRT] ERROR: safeContext.cpp (184) - Cudnn Error in configure: 7 (CUDNN_STATUS_MAPPING_ERROR)\n",
      "[TensorRT] ERROR: FAILED_EXECUTION: std::exception\n",
      "[TensorRT] ERROR: Parameter check failed at: engine.cpp::setBindingDimensions::1136, condition: profileMaxDims.d[i] >= dimensions.d[i]\n",
      "[TensorRT] ERROR: safeContext.cpp (184) - Cudnn Error in configure: 7 (CUDNN_STATUS_MAPPING_ERROR)\n",
      "[TensorRT] ERROR: FAILED_EXECUTION: std::exception\n",
      "[TensorRT] ERROR: Parameter check failed at: engine.cpp::setBindingDimensions::1136, condition: profileMaxDims.d[i] >= dimensions.d[i]\n",
      "[TensorRT] ERROR: safeContext.cpp (184) - Cudnn Error in configure: 7 (CUDNN_STATUS_MAPPING_ERROR)\n",
      "[TensorRT] ERROR: FAILED_EXECUTION: std::exception\n"
     ]
    },
    {
     "name": "stdout",
     "output_type": "stream",
     "text": [
      "Time: 0.08452153205871582\n",
      "Time: 0.05712604522705078\n",
      "Time: 0.056471824645996094\n",
      "Time: 0.0738823413848877\n"
     ]
    },
    {
     "name": "stderr",
     "output_type": "stream",
     "text": [
      "[TensorRT] ERROR: Parameter check failed at: engine.cpp::setBindingDimensions::1136, condition: profileMaxDims.d[i] >= dimensions.d[i]\n",
      "[TensorRT] ERROR: safeContext.cpp (184) - Cudnn Error in configure: 7 (CUDNN_STATUS_MAPPING_ERROR)\n",
      "[TensorRT] ERROR: FAILED_EXECUTION: std::exception\n",
      "[TensorRT] ERROR: Parameter check failed at: engine.cpp::setBindingDimensions::1136, condition: profileMaxDims.d[i] >= dimensions.d[i]\n",
      "[TensorRT] ERROR: safeContext.cpp (184) - Cudnn Error in configure: 7 (CUDNN_STATUS_MAPPING_ERROR)\n",
      "[TensorRT] ERROR: FAILED_EXECUTION: std::exception\n",
      "[TensorRT] ERROR: Parameter check failed at: engine.cpp::setBindingDimensions::1136, condition: profileMaxDims.d[i] >= dimensions.d[i]\n",
      "[TensorRT] ERROR: safeContext.cpp (184) - Cudnn Error in configure: 7 (CUDNN_STATUS_MAPPING_ERROR)\n",
      "[TensorRT] ERROR: FAILED_EXECUTION: std::exception\n",
      "[TensorRT] ERROR: Parameter check failed at: engine.cpp::setBindingDimensions::1136, condition: profileMaxDims.d[i] >= dimensions.d[i]\n",
      "[TensorRT] ERROR: safeContext.cpp (184) - Cudnn Error in configure: 7 (CUDNN_STATUS_MAPPING_ERROR)\n",
      "[TensorRT] ERROR: FAILED_EXECUTION: std::exception\n"
     ]
    },
    {
     "name": "stdout",
     "output_type": "stream",
     "text": [
      "Time: 0.06899166107177734\n",
      "Time: 0.05757474899291992\n",
      "Time: 0.06251192092895508\n",
      "Time: 0.056459903717041016\n"
     ]
    },
    {
     "name": "stderr",
     "output_type": "stream",
     "text": [
      "[TensorRT] ERROR: Parameter check failed at: engine.cpp::setBindingDimensions::1136, condition: profileMaxDims.d[i] >= dimensions.d[i]\n",
      "[TensorRT] ERROR: safeContext.cpp (184) - Cudnn Error in configure: 7 (CUDNN_STATUS_MAPPING_ERROR)\n",
      "[TensorRT] ERROR: FAILED_EXECUTION: std::exception\n",
      "[TensorRT] ERROR: Parameter check failed at: engine.cpp::setBindingDimensions::1136, condition: profileMaxDims.d[i] >= dimensions.d[i]\n",
      "[TensorRT] ERROR: safeContext.cpp (184) - Cudnn Error in configure: 7 (CUDNN_STATUS_MAPPING_ERROR)\n",
      "[TensorRT] ERROR: FAILED_EXECUTION: std::exception\n",
      "[TensorRT] ERROR: Parameter check failed at: engine.cpp::setBindingDimensions::1136, condition: profileMaxDims.d[i] >= dimensions.d[i]\n",
      "[TensorRT] ERROR: safeContext.cpp (184) - Cudnn Error in configure: 7 (CUDNN_STATUS_MAPPING_ERROR)\n",
      "[TensorRT] ERROR: FAILED_EXECUTION: std::exception\n",
      "[TensorRT] ERROR: Parameter check failed at: engine.cpp::setBindingDimensions::1136, condition: profileMaxDims.d[i] >= dimensions.d[i]\n",
      "[TensorRT] ERROR: safeContext.cpp (184) - Cudnn Error in configure: 7 (CUDNN_STATUS_MAPPING_ERROR)\n",
      "[TensorRT] ERROR: FAILED_EXECUTION: std::exception\n"
     ]
    },
    {
     "name": "stdout",
     "output_type": "stream",
     "text": [
      "Time: 0.057576656341552734\n",
      "Time: 0.05659079551696777\n",
      "Time: 0.05622529983520508\n",
      "Time: 0.05734395980834961\n"
     ]
    },
    {
     "name": "stderr",
     "output_type": "stream",
     "text": [
      "[TensorRT] ERROR: Parameter check failed at: engine.cpp::setBindingDimensions::1136, condition: profileMaxDims.d[i] >= dimensions.d[i]\n",
      "[TensorRT] ERROR: safeContext.cpp (184) - Cudnn Error in configure: 7 (CUDNN_STATUS_MAPPING_ERROR)\n",
      "[TensorRT] ERROR: FAILED_EXECUTION: std::exception\n",
      "[TensorRT] ERROR: Parameter check failed at: engine.cpp::setBindingDimensions::1136, condition: profileMaxDims.d[i] >= dimensions.d[i]\n",
      "[TensorRT] ERROR: safeContext.cpp (184) - Cudnn Error in configure: 7 (CUDNN_STATUS_MAPPING_ERROR)\n",
      "[TensorRT] ERROR: FAILED_EXECUTION: std::exception\n",
      "[TensorRT] ERROR: Parameter check failed at: engine.cpp::setBindingDimensions::1136, condition: profileMaxDims.d[i] >= dimensions.d[i]\n",
      "[TensorRT] ERROR: safeContext.cpp (184) - Cudnn Error in configure: 7 (CUDNN_STATUS_MAPPING_ERROR)\n",
      "[TensorRT] ERROR: FAILED_EXECUTION: std::exception\n",
      "[TensorRT] ERROR: Parameter check failed at: engine.cpp::setBindingDimensions::1136, condition: profileMaxDims.d[i] >= dimensions.d[i]\n",
      "[TensorRT] ERROR: safeContext.cpp (184) - Cudnn Error in configure: 7 (CUDNN_STATUS_MAPPING_ERROR)\n",
      "[TensorRT] ERROR: FAILED_EXECUTION: std::exception\n"
     ]
    },
    {
     "name": "stdout",
     "output_type": "stream",
     "text": [
      "Time: 0.057492733001708984\n",
      "Time: 0.056397438049316406\n",
      "Time: 0.05669665336608887\n",
      "Time: 0.056241512298583984\n"
     ]
    },
    {
     "name": "stderr",
     "output_type": "stream",
     "text": [
      "[TensorRT] ERROR: Parameter check failed at: engine.cpp::setBindingDimensions::1136, condition: profileMaxDims.d[i] >= dimensions.d[i]\n",
      "[TensorRT] ERROR: safeContext.cpp (184) - Cudnn Error in configure: 7 (CUDNN_STATUS_MAPPING_ERROR)\n",
      "[TensorRT] ERROR: FAILED_EXECUTION: std::exception\n",
      "[TensorRT] ERROR: Parameter check failed at: engine.cpp::setBindingDimensions::1136, condition: profileMaxDims.d[i] >= dimensions.d[i]\n",
      "[TensorRT] ERROR: safeContext.cpp (184) - Cudnn Error in configure: 7 (CUDNN_STATUS_MAPPING_ERROR)\n",
      "[TensorRT] ERROR: FAILED_EXECUTION: std::exception\n",
      "[TensorRT] ERROR: Parameter check failed at: engine.cpp::setBindingDimensions::1136, condition: profileMaxDims.d[i] >= dimensions.d[i]\n",
      "[TensorRT] ERROR: safeContext.cpp (184) - Cudnn Error in configure: 7 (CUDNN_STATUS_MAPPING_ERROR)\n",
      "[TensorRT] ERROR: FAILED_EXECUTION: std::exception\n",
      "[TensorRT] ERROR: Parameter check failed at: engine.cpp::setBindingDimensions::1136, condition: profileMaxDims.d[i] >= dimensions.d[i]\n",
      "[TensorRT] ERROR: safeContext.cpp (184) - Cudnn Error in configure: 7 (CUDNN_STATUS_MAPPING_ERROR)\n",
      "[TensorRT] ERROR: FAILED_EXECUTION: std::exception\n"
     ]
    },
    {
     "name": "stdout",
     "output_type": "stream",
     "text": [
      "Time: 0.057679176330566406\n",
      "Time: 0.056420087814331055\n",
      "Time: 0.056417226791381836\n",
      "Time: 0.05424618721008301\n"
     ]
    },
    {
     "name": "stderr",
     "output_type": "stream",
     "text": [
      "[TensorRT] ERROR: Parameter check failed at: engine.cpp::setBindingDimensions::1136, condition: profileMaxDims.d[i] >= dimensions.d[i]\n",
      "[TensorRT] ERROR: safeContext.cpp (184) - Cudnn Error in configure: 7 (CUDNN_STATUS_MAPPING_ERROR)\n",
      "[TensorRT] ERROR: FAILED_EXECUTION: std::exception\n",
      "[TensorRT] ERROR: Parameter check failed at: engine.cpp::setBindingDimensions::1136, condition: profileMaxDims.d[i] >= dimensions.d[i]\n",
      "[TensorRT] ERROR: safeContext.cpp (184) - Cudnn Error in configure: 7 (CUDNN_STATUS_MAPPING_ERROR)\n",
      "[TensorRT] ERROR: FAILED_EXECUTION: std::exception\n",
      "[TensorRT] ERROR: Parameter check failed at: engine.cpp::setBindingDimensions::1136, condition: profileMaxDims.d[i] >= dimensions.d[i]\n",
      "[TensorRT] ERROR: safeContext.cpp (184) - Cudnn Error in configure: 7 (CUDNN_STATUS_MAPPING_ERROR)\n",
      "[TensorRT] ERROR: FAILED_EXECUTION: std::exception\n"
     ]
    },
    {
     "name": "stdout",
     "output_type": "stream",
     "text": [
      "Time: 0.057550907135009766\n",
      "Time: 0.06331872940063477\n",
      "Time: 0.06182384490966797\n"
     ]
    },
    {
     "name": "stderr",
     "output_type": "stream",
     "text": [
      "[TensorRT] ERROR: Parameter check failed at: engine.cpp::setBindingDimensions::1136, condition: profileMaxDims.d[i] >= dimensions.d[i]\n",
      "[TensorRT] ERROR: safeContext.cpp (184) - Cudnn Error in configure: 7 (CUDNN_STATUS_MAPPING_ERROR)\n",
      "[TensorRT] ERROR: FAILED_EXECUTION: std::exception\n",
      "[TensorRT] ERROR: Parameter check failed at: engine.cpp::setBindingDimensions::1136, condition: profileMaxDims.d[i] >= dimensions.d[i]\n",
      "[TensorRT] ERROR: safeContext.cpp (184) - Cudnn Error in configure: 7 (CUDNN_STATUS_MAPPING_ERROR)\n",
      "[TensorRT] ERROR: FAILED_EXECUTION: std::exception\n",
      "[TensorRT] ERROR: Parameter check failed at: engine.cpp::setBindingDimensions::1136, condition: profileMaxDims.d[i] >= dimensions.d[i]\n",
      "[TensorRT] ERROR: safeContext.cpp (184) - Cudnn Error in configure: 7 (CUDNN_STATUS_MAPPING_ERROR)\n",
      "[TensorRT] ERROR: FAILED_EXECUTION: std::exception\n"
     ]
    },
    {
     "name": "stdout",
     "output_type": "stream",
     "text": [
      "Time: 0.0740511417388916\n",
      "Time: 0.07132768630981445\n",
      "Time: 0.0722503662109375\n"
     ]
    },
    {
     "name": "stderr",
     "output_type": "stream",
     "text": [
      "[TensorRT] ERROR: Parameter check failed at: engine.cpp::setBindingDimensions::1136, condition: profileMaxDims.d[i] >= dimensions.d[i]\n",
      "[TensorRT] ERROR: safeContext.cpp (184) - Cudnn Error in configure: 7 (CUDNN_STATUS_MAPPING_ERROR)\n",
      "[TensorRT] ERROR: FAILED_EXECUTION: std::exception\n",
      "[TensorRT] ERROR: Parameter check failed at: engine.cpp::setBindingDimensions::1136, condition: profileMaxDims.d[i] >= dimensions.d[i]\n",
      "[TensorRT] ERROR: safeContext.cpp (184) - Cudnn Error in configure: 7 (CUDNN_STATUS_MAPPING_ERROR)\n",
      "[TensorRT] ERROR: FAILED_EXECUTION: std::exception\n"
     ]
    },
    {
     "name": "stdout",
     "output_type": "stream",
     "text": [
      "Time: 0.06778287887573242\n",
      "Time: 0.06499314308166504\n"
     ]
    },
    {
     "name": "stderr",
     "output_type": "stream",
     "text": [
      "[TensorRT] ERROR: Parameter check failed at: engine.cpp::setBindingDimensions::1136, condition: profileMaxDims.d[i] >= dimensions.d[i]\n",
      "[TensorRT] ERROR: safeContext.cpp (184) - Cudnn Error in configure: 7 (CUDNN_STATUS_MAPPING_ERROR)\n",
      "[TensorRT] ERROR: FAILED_EXECUTION: std::exception\n",
      "[TensorRT] ERROR: Parameter check failed at: engine.cpp::setBindingDimensions::1136, condition: profileMaxDims.d[i] >= dimensions.d[i]\n",
      "[TensorRT] ERROR: safeContext.cpp (184) - Cudnn Error in configure: 7 (CUDNN_STATUS_MAPPING_ERROR)\n",
      "[TensorRT] ERROR: FAILED_EXECUTION: std::exception\n",
      "[TensorRT] ERROR: Parameter check failed at: engine.cpp::setBindingDimensions::1136, condition: profileMaxDims.d[i] >= dimensions.d[i]\n",
      "[TensorRT] ERROR: safeContext.cpp (184) - Cudnn Error in configure: 7 (CUDNN_STATUS_MAPPING_ERROR)\n",
      "[TensorRT] ERROR: FAILED_EXECUTION: std::exception\n"
     ]
    },
    {
     "name": "stdout",
     "output_type": "stream",
     "text": [
      "Time: 0.1243283748626709\n",
      "Time: 0.10300612449645996\n",
      "Time: 0.07608413696289062\n"
     ]
    },
    {
     "name": "stderr",
     "output_type": "stream",
     "text": [
      "[TensorRT] ERROR: Parameter check failed at: engine.cpp::setBindingDimensions::1136, condition: profileMaxDims.d[i] >= dimensions.d[i]\n",
      "[TensorRT] ERROR: safeContext.cpp (184) - Cudnn Error in configure: 7 (CUDNN_STATUS_MAPPING_ERROR)\n",
      "[TensorRT] ERROR: FAILED_EXECUTION: std::exception\n",
      "[TensorRT] ERROR: Parameter check failed at: engine.cpp::setBindingDimensions::1136, condition: profileMaxDims.d[i] >= dimensions.d[i]\n",
      "[TensorRT] ERROR: safeContext.cpp (184) - Cudnn Error in configure: 7 (CUDNN_STATUS_MAPPING_ERROR)\n",
      "[TensorRT] ERROR: FAILED_EXECUTION: std::exception\n",
      "[TensorRT] ERROR: Parameter check failed at: engine.cpp::setBindingDimensions::1136, condition: profileMaxDims.d[i] >= dimensions.d[i]\n",
      "[TensorRT] ERROR: safeContext.cpp (184) - Cudnn Error in configure: 7 (CUDNN_STATUS_MAPPING_ERROR)\n",
      "[TensorRT] ERROR: FAILED_EXECUTION: std::exception\n"
     ]
    },
    {
     "name": "stdout",
     "output_type": "stream",
     "text": [
      "Time: 0.08164310455322266\n",
      "Time: 0.07440733909606934\n",
      "Time: 0.07417821884155273\n"
     ]
    },
    {
     "name": "stderr",
     "output_type": "stream",
     "text": [
      "[TensorRT] ERROR: Parameter check failed at: engine.cpp::setBindingDimensions::1136, condition: profileMaxDims.d[i] >= dimensions.d[i]\n",
      "[TensorRT] ERROR: safeContext.cpp (184) - Cudnn Error in configure: 7 (CUDNN_STATUS_MAPPING_ERROR)\n",
      "[TensorRT] ERROR: FAILED_EXECUTION: std::exception\n",
      "[TensorRT] ERROR: Parameter check failed at: engine.cpp::setBindingDimensions::1136, condition: profileMaxDims.d[i] >= dimensions.d[i]\n",
      "[TensorRT] ERROR: safeContext.cpp (184) - Cudnn Error in configure: 7 (CUDNN_STATUS_MAPPING_ERROR)\n",
      "[TensorRT] ERROR: FAILED_EXECUTION: std::exception\n",
      "[TensorRT] ERROR: Parameter check failed at: engine.cpp::setBindingDimensions::1136, condition: profileMaxDims.d[i] >= dimensions.d[i]\n",
      "[TensorRT] ERROR: safeContext.cpp (184) - Cudnn Error in configure: 7 (CUDNN_STATUS_MAPPING_ERROR)\n",
      "[TensorRT] ERROR: FAILED_EXECUTION: std::exception\n",
      "[TensorRT] ERROR: Parameter check failed at: engine.cpp::setBindingDimensions::1136, condition: profileMaxDims.d[i] >= dimensions.d[i]\n",
      "[TensorRT] ERROR: safeContext.cpp (184) - Cudnn Error in configure: 7 (CUDNN_STATUS_MAPPING_ERROR)\n",
      "[TensorRT] ERROR: FAILED_EXECUTION: std::exception\n"
     ]
    },
    {
     "name": "stdout",
     "output_type": "stream",
     "text": [
      "Time: 0.06366395950317383\n",
      "Time: 0.05628013610839844\n",
      "Time: 0.05767989158630371\n",
      "Time: 0.058275699615478516\n"
     ]
    },
    {
     "name": "stderr",
     "output_type": "stream",
     "text": [
      "[TensorRT] ERROR: Parameter check failed at: engine.cpp::setBindingDimensions::1136, condition: profileMaxDims.d[i] >= dimensions.d[i]\n",
      "[TensorRT] ERROR: safeContext.cpp (184) - Cudnn Error in configure: 7 (CUDNN_STATUS_MAPPING_ERROR)\n",
      "[TensorRT] ERROR: FAILED_EXECUTION: std::exception\n",
      "[TensorRT] ERROR: Parameter check failed at: engine.cpp::setBindingDimensions::1136, condition: profileMaxDims.d[i] >= dimensions.d[i]\n",
      "[TensorRT] ERROR: safeContext.cpp (184) - Cudnn Error in configure: 7 (CUDNN_STATUS_MAPPING_ERROR)\n",
      "[TensorRT] ERROR: FAILED_EXECUTION: std::exception\n",
      "[TensorRT] ERROR: Parameter check failed at: engine.cpp::setBindingDimensions::1136, condition: profileMaxDims.d[i] >= dimensions.d[i]\n",
      "[TensorRT] ERROR: safeContext.cpp (184) - Cudnn Error in configure: 7 (CUDNN_STATUS_MAPPING_ERROR)\n",
      "[TensorRT] ERROR: FAILED_EXECUTION: std::exception\n"
     ]
    },
    {
     "name": "stdout",
     "output_type": "stream",
     "text": [
      "Time: 0.09944510459899902\n",
      "Time: 0.07380938529968262\n",
      "Time: 0.0741429328918457\n"
     ]
    },
    {
     "name": "stderr",
     "output_type": "stream",
     "text": [
      "[TensorRT] ERROR: Parameter check failed at: engine.cpp::setBindingDimensions::1136, condition: profileMaxDims.d[i] >= dimensions.d[i]\n",
      "[TensorRT] ERROR: safeContext.cpp (184) - Cudnn Error in configure: 7 (CUDNN_STATUS_MAPPING_ERROR)\n",
      "[TensorRT] ERROR: FAILED_EXECUTION: std::exception\n",
      "[TensorRT] ERROR: Parameter check failed at: engine.cpp::setBindingDimensions::1136, condition: profileMaxDims.d[i] >= dimensions.d[i]\n",
      "[TensorRT] ERROR: safeContext.cpp (184) - Cudnn Error in configure: 7 (CUDNN_STATUS_MAPPING_ERROR)\n",
      "[TensorRT] ERROR: FAILED_EXECUTION: std::exception\n",
      "[TensorRT] ERROR: Parameter check failed at: engine.cpp::setBindingDimensions::1136, condition: profileMaxDims.d[i] >= dimensions.d[i]\n",
      "[TensorRT] ERROR: safeContext.cpp (184) - Cudnn Error in configure: 7 (CUDNN_STATUS_MAPPING_ERROR)\n",
      "[TensorRT] ERROR: FAILED_EXECUTION: std::exception\n"
     ]
    },
    {
     "name": "stdout",
     "output_type": "stream",
     "text": [
      "Time: 0.07296252250671387\n",
      "Time: 0.09000587463378906\n",
      "Time: 0.07498931884765625\n"
     ]
    },
    {
     "name": "stderr",
     "output_type": "stream",
     "text": [
      "[TensorRT] ERROR: Parameter check failed at: engine.cpp::setBindingDimensions::1136, condition: profileMaxDims.d[i] >= dimensions.d[i]\n",
      "[TensorRT] ERROR: safeContext.cpp (184) - Cudnn Error in configure: 7 (CUDNN_STATUS_MAPPING_ERROR)\n",
      "[TensorRT] ERROR: FAILED_EXECUTION: std::exception\n",
      "[TensorRT] ERROR: Parameter check failed at: engine.cpp::setBindingDimensions::1136, condition: profileMaxDims.d[i] >= dimensions.d[i]\n",
      "[TensorRT] ERROR: safeContext.cpp (184) - Cudnn Error in configure: 7 (CUDNN_STATUS_MAPPING_ERROR)\n",
      "[TensorRT] ERROR: FAILED_EXECUTION: std::exception\n",
      "[TensorRT] ERROR: Parameter check failed at: engine.cpp::setBindingDimensions::1136, condition: profileMaxDims.d[i] >= dimensions.d[i]\n",
      "[TensorRT] ERROR: safeContext.cpp (184) - Cudnn Error in configure: 7 (CUDNN_STATUS_MAPPING_ERROR)\n",
      "[TensorRT] ERROR: FAILED_EXECUTION: std::exception\n"
     ]
    },
    {
     "name": "stdout",
     "output_type": "stream",
     "text": [
      "Time: 0.07554960250854492\n",
      "Time: 0.07478690147399902\n",
      "Time: 0.07397222518920898\n"
     ]
    },
    {
     "name": "stderr",
     "output_type": "stream",
     "text": [
      "[TensorRT] ERROR: Parameter check failed at: engine.cpp::setBindingDimensions::1136, condition: profileMaxDims.d[i] >= dimensions.d[i]\n",
      "[TensorRT] ERROR: safeContext.cpp (184) - Cudnn Error in configure: 7 (CUDNN_STATUS_MAPPING_ERROR)\n",
      "[TensorRT] ERROR: FAILED_EXECUTION: std::exception\n",
      "[TensorRT] ERROR: Parameter check failed at: engine.cpp::setBindingDimensions::1136, condition: profileMaxDims.d[i] >= dimensions.d[i]\n",
      "[TensorRT] ERROR: safeContext.cpp (184) - Cudnn Error in configure: 7 (CUDNN_STATUS_MAPPING_ERROR)\n",
      "[TensorRT] ERROR: FAILED_EXECUTION: std::exception\n",
      "[TensorRT] ERROR: Parameter check failed at: engine.cpp::setBindingDimensions::1136, condition: profileMaxDims.d[i] >= dimensions.d[i]\n",
      "[TensorRT] ERROR: safeContext.cpp (184) - Cudnn Error in configure: 7 (CUDNN_STATUS_MAPPING_ERROR)\n",
      "[TensorRT] ERROR: FAILED_EXECUTION: std::exception\n",
      "[TensorRT] ERROR: Parameter check failed at: engine.cpp::setBindingDimensions::1136, condition: profileMaxDims.d[i] >= dimensions.d[i]\n",
      "[TensorRT] ERROR: safeContext.cpp (184) - Cudnn Error in configure: 7 (CUDNN_STATUS_MAPPING_ERROR)\n",
      "[TensorRT] ERROR: FAILED_EXECUTION: std::exception\n"
     ]
    },
    {
     "name": "stdout",
     "output_type": "stream",
     "text": [
      "Time: 0.06425356864929199\n",
      "Time: 0.05133414268493652\n",
      "Time: 0.052041053771972656\n",
      "Idx: 1100\n",
      "Time: 0.056284189224243164\n"
     ]
    },
    {
     "name": "stderr",
     "output_type": "stream",
     "text": [
      "[TensorRT] ERROR: Parameter check failed at: engine.cpp::setBindingDimensions::1136, condition: profileMaxDims.d[i] >= dimensions.d[i]\n",
      "[TensorRT] ERROR: safeContext.cpp (184) - Cudnn Error in configure: 7 (CUDNN_STATUS_MAPPING_ERROR)\n",
      "[TensorRT] ERROR: FAILED_EXECUTION: std::exception\n",
      "[TensorRT] ERROR: Parameter check failed at: engine.cpp::setBindingDimensions::1136, condition: profileMaxDims.d[i] >= dimensions.d[i]\n",
      "[TensorRT] ERROR: safeContext.cpp (184) - Cudnn Error in configure: 7 (CUDNN_STATUS_MAPPING_ERROR)\n",
      "[TensorRT] ERROR: FAILED_EXECUTION: std::exception\n",
      "[TensorRT] ERROR: Parameter check failed at: engine.cpp::setBindingDimensions::1136, condition: profileMaxDims.d[i] >= dimensions.d[i]\n",
      "[TensorRT] ERROR: safeContext.cpp (184) - Cudnn Error in configure: 7 (CUDNN_STATUS_MAPPING_ERROR)\n",
      "[TensorRT] ERROR: FAILED_EXECUTION: std::exception\n",
      "[TensorRT] ERROR: Parameter check failed at: engine.cpp::setBindingDimensions::1136, condition: profileMaxDims.d[i] >= dimensions.d[i]\n",
      "[TensorRT] ERROR: safeContext.cpp (184) - Cudnn Error in configure: 7 (CUDNN_STATUS_MAPPING_ERROR)\n",
      "[TensorRT] ERROR: FAILED_EXECUTION: std::exception\n"
     ]
    },
    {
     "name": "stdout",
     "output_type": "stream",
     "text": [
      "Time: 0.05755615234375\n",
      "Time: 0.05718350410461426\n",
      "Time: 0.0612950325012207\n",
      "Time: 0.05649685859680176\n"
     ]
    },
    {
     "name": "stderr",
     "output_type": "stream",
     "text": [
      "[TensorRT] ERROR: Parameter check failed at: engine.cpp::setBindingDimensions::1136, condition: profileMaxDims.d[i] >= dimensions.d[i]\n",
      "[TensorRT] ERROR: safeContext.cpp (184) - Cudnn Error in configure: 7 (CUDNN_STATUS_MAPPING_ERROR)\n",
      "[TensorRT] ERROR: FAILED_EXECUTION: std::exception\n",
      "[TensorRT] ERROR: Parameter check failed at: engine.cpp::setBindingDimensions::1136, condition: profileMaxDims.d[i] >= dimensions.d[i]\n",
      "[TensorRT] ERROR: safeContext.cpp (184) - Cudnn Error in configure: 7 (CUDNN_STATUS_MAPPING_ERROR)\n",
      "[TensorRT] ERROR: FAILED_EXECUTION: std::exception\n",
      "[TensorRT] ERROR: Parameter check failed at: engine.cpp::setBindingDimensions::1136, condition: profileMaxDims.d[i] >= dimensions.d[i]\n",
      "[TensorRT] ERROR: safeContext.cpp (184) - Cudnn Error in configure: 7 (CUDNN_STATUS_MAPPING_ERROR)\n",
      "[TensorRT] ERROR: FAILED_EXECUTION: std::exception\n",
      "[TensorRT] ERROR: Parameter check failed at: engine.cpp::setBindingDimensions::1136, condition: profileMaxDims.d[i] >= dimensions.d[i]\n",
      "[TensorRT] ERROR: safeContext.cpp (184) - Cudnn Error in configure: 7 (CUDNN_STATUS_MAPPING_ERROR)\n",
      "[TensorRT] ERROR: FAILED_EXECUTION: std::exception\n"
     ]
    },
    {
     "name": "stdout",
     "output_type": "stream",
     "text": [
      "Time: 0.057300567626953125\n",
      "Time: 0.061954498291015625\n",
      "Time: 0.056256771087646484\n",
      "Time: 0.06026911735534668\n"
     ]
    },
    {
     "name": "stderr",
     "output_type": "stream",
     "text": [
      "[TensorRT] ERROR: Parameter check failed at: engine.cpp::setBindingDimensions::1136, condition: profileMaxDims.d[i] >= dimensions.d[i]\n",
      "[TensorRT] ERROR: safeContext.cpp (184) - Cudnn Error in configure: 7 (CUDNN_STATUS_MAPPING_ERROR)\n",
      "[TensorRT] ERROR: FAILED_EXECUTION: std::exception\n",
      "[TensorRT] ERROR: Parameter check failed at: engine.cpp::setBindingDimensions::1136, condition: profileMaxDims.d[i] >= dimensions.d[i]\n",
      "[TensorRT] ERROR: safeContext.cpp (184) - Cudnn Error in configure: 7 (CUDNN_STATUS_MAPPING_ERROR)\n",
      "[TensorRT] ERROR: FAILED_EXECUTION: std::exception\n",
      "[TensorRT] ERROR: Parameter check failed at: engine.cpp::setBindingDimensions::1136, condition: profileMaxDims.d[i] >= dimensions.d[i]\n",
      "[TensorRT] ERROR: safeContext.cpp (184) - Cudnn Error in configure: 7 (CUDNN_STATUS_MAPPING_ERROR)\n",
      "[TensorRT] ERROR: FAILED_EXECUTION: std::exception\n",
      "[TensorRT] ERROR: Parameter check failed at: engine.cpp::setBindingDimensions::1136, condition: profileMaxDims.d[i] >= dimensions.d[i]\n",
      "[TensorRT] ERROR: safeContext.cpp (184) - Cudnn Error in configure: 7 (CUDNN_STATUS_MAPPING_ERROR)\n",
      "[TensorRT] ERROR: FAILED_EXECUTION: std::exception\n"
     ]
    },
    {
     "name": "stdout",
     "output_type": "stream",
     "text": [
      "Time: 0.07232022285461426\n",
      "Time: 0.04705476760864258\n",
      "Time: 0.047000885009765625\n",
      "Time: 0.03761649131774902\n",
      "Time: 0.05417275428771973\n",
      "Time: 0.0448000431060791\n",
      "Time: 0.04498600959777832\n",
      "Time: 0.05165719985961914\n",
      "Time: 0.04734158515930176\n"
     ]
    },
    {
     "name": "stderr",
     "output_type": "stream",
     "text": [
      "[TensorRT] ERROR: Parameter check failed at: engine.cpp::setBindingDimensions::1136, condition: profileMaxDims.d[i] >= dimensions.d[i]\n",
      "[TensorRT] ERROR: safeContext.cpp (184) - Cudnn Error in configure: 7 (CUDNN_STATUS_MAPPING_ERROR)\n",
      "[TensorRT] ERROR: FAILED_EXECUTION: std::exception\n",
      "[TensorRT] ERROR: Parameter check failed at: engine.cpp::setBindingDimensions::1136, condition: profileMaxDims.d[i] >= dimensions.d[i]\n",
      "[TensorRT] ERROR: safeContext.cpp (184) - Cudnn Error in configure: 7 (CUDNN_STATUS_MAPPING_ERROR)\n",
      "[TensorRT] ERROR: FAILED_EXECUTION: std::exception\n",
      "[TensorRT] ERROR: Parameter check failed at: engine.cpp::setBindingDimensions::1136, condition: profileMaxDims.d[i] >= dimensions.d[i]\n",
      "[TensorRT] ERROR: safeContext.cpp (184) - Cudnn Error in configure: 7 (CUDNN_STATUS_MAPPING_ERROR)\n",
      "[TensorRT] ERROR: FAILED_EXECUTION: std::exception\n",
      "[TensorRT] ERROR: Parameter check failed at: engine.cpp::setBindingDimensions::1136, condition: profileMaxDims.d[i] >= dimensions.d[i]\n",
      "[TensorRT] ERROR: safeContext.cpp (184) - Cudnn Error in configure: 7 (CUDNN_STATUS_MAPPING_ERROR)\n",
      "[TensorRT] ERROR: FAILED_EXECUTION: std::exception\n",
      "[TensorRT] ERROR: Parameter check failed at: engine.cpp::setBindingDimensions::1136, condition: profileMaxDims.d[i] >= dimensions.d[i]\n",
      "[TensorRT] ERROR: safeContext.cpp (184) - Cudnn Error in configure: 7 (CUDNN_STATUS_MAPPING_ERROR)\n",
      "[TensorRT] ERROR: FAILED_EXECUTION: std::exception\n",
      "[TensorRT] ERROR: Parameter check failed at: engine.cpp::setBindingDimensions::1136, condition: profileMaxDims.d[i] >= dimensions.d[i]\n",
      "[TensorRT] ERROR: safeContext.cpp (184) - Cudnn Error in configure: 7 (CUDNN_STATUS_MAPPING_ERROR)\n",
      "[TensorRT] ERROR: FAILED_EXECUTION: std::exception\n",
      "[TensorRT] ERROR: Parameter check failed at: engine.cpp::setBindingDimensions::1136, condition: profileMaxDims.d[i] >= dimensions.d[i]\n",
      "[TensorRT] ERROR: safeContext.cpp (184) - Cudnn Error in configure: 7 (CUDNN_STATUS_MAPPING_ERROR)\n",
      "[TensorRT] ERROR: FAILED_EXECUTION: std::exception\n",
      "[TensorRT] ERROR: Parameter check failed at: engine.cpp::setBindingDimensions::1136, condition: profileMaxDims.d[i] >= dimensions.d[i]\n",
      "[TensorRT] ERROR: safeContext.cpp (184) - Cudnn Error in configure: 7 (CUDNN_STATUS_MAPPING_ERROR)\n",
      "[TensorRT] ERROR: FAILED_EXECUTION: std::exception\n",
      "[TensorRT] ERROR: Parameter check failed at: engine.cpp::setBindingDimensions::1136, condition: profileMaxDims.d[i] >= dimensions.d[i]\n",
      "[TensorRT] ERROR: safeContext.cpp (184) - Cudnn Error in configure: 7 (CUDNN_STATUS_MAPPING_ERROR)\n",
      "[TensorRT] ERROR: FAILED_EXECUTION: std::exception\n",
      "[TensorRT] ERROR: Parameter check failed at: engine.cpp::setBindingDimensions::1136, condition: profileMaxDims.d[i] >= dimensions.d[i]\n",
      "[TensorRT] ERROR: safeContext.cpp (184) - Cudnn Error in configure: 7 (CUDNN_STATUS_MAPPING_ERROR)\n",
      "[TensorRT] ERROR: FAILED_EXECUTION: std::exception\n"
     ]
    },
    {
     "name": "stdout",
     "output_type": "stream",
     "text": [
      "Time: 0.04344892501831055\n",
      "Time: 0.043247222900390625\n",
      "Time: 0.042412757873535156\n",
      "Time: 0.04304981231689453\n",
      "Time: 0.043009281158447266\n"
     ]
    },
    {
     "name": "stderr",
     "output_type": "stream",
     "text": [
      "[TensorRT] ERROR: Parameter check failed at: engine.cpp::setBindingDimensions::1136, condition: profileMaxDims.d[i] >= dimensions.d[i]\n",
      "[TensorRT] ERROR: safeContext.cpp (184) - Cudnn Error in configure: 7 (CUDNN_STATUS_MAPPING_ERROR)\n",
      "[TensorRT] ERROR: FAILED_EXECUTION: std::exception\n",
      "[TensorRT] ERROR: Parameter check failed at: engine.cpp::setBindingDimensions::1136, condition: profileMaxDims.d[i] >= dimensions.d[i]\n",
      "[TensorRT] ERROR: safeContext.cpp (184) - Cudnn Error in configure: 7 (CUDNN_STATUS_MAPPING_ERROR)\n",
      "[TensorRT] ERROR: FAILED_EXECUTION: std::exception\n",
      "[TensorRT] ERROR: Parameter check failed at: engine.cpp::setBindingDimensions::1136, condition: profileMaxDims.d[i] >= dimensions.d[i]\n",
      "[TensorRT] ERROR: safeContext.cpp (184) - Cudnn Error in configure: 7 (CUDNN_STATUS_MAPPING_ERROR)\n",
      "[TensorRT] ERROR: FAILED_EXECUTION: std::exception\n",
      "[TensorRT] ERROR: Parameter check failed at: engine.cpp::setBindingDimensions::1136, condition: profileMaxDims.d[i] >= dimensions.d[i]\n",
      "[TensorRT] ERROR: safeContext.cpp (184) - Cudnn Error in configure: 7 (CUDNN_STATUS_MAPPING_ERROR)\n",
      "[TensorRT] ERROR: FAILED_EXECUTION: std::exception\n",
      "[TensorRT] ERROR: Parameter check failed at: engine.cpp::setBindingDimensions::1136, condition: profileMaxDims.d[i] >= dimensions.d[i]\n",
      "[TensorRT] ERROR: safeContext.cpp (184) - Cudnn Error in configure: 7 (CUDNN_STATUS_MAPPING_ERROR)\n",
      "[TensorRT] ERROR: FAILED_EXECUTION: std::exception\n"
     ]
    },
    {
     "name": "stdout",
     "output_type": "stream",
     "text": [
      "Time: 0.043578386306762695\n",
      "Time: 0.04203295707702637\n",
      "Time: 0.04231905937194824\n",
      "Time: 0.04261445999145508\n",
      "Time: 0.05772113800048828\n"
     ]
    },
    {
     "name": "stderr",
     "output_type": "stream",
     "text": [
      "[TensorRT] ERROR: Parameter check failed at: engine.cpp::setBindingDimensions::1136, condition: profileMaxDims.d[i] >= dimensions.d[i]\n",
      "[TensorRT] ERROR: safeContext.cpp (184) - Cudnn Error in configure: 7 (CUDNN_STATUS_MAPPING_ERROR)\n",
      "[TensorRT] ERROR: FAILED_EXECUTION: std::exception\n",
      "[TensorRT] ERROR: Parameter check failed at: engine.cpp::setBindingDimensions::1136, condition: profileMaxDims.d[i] >= dimensions.d[i]\n",
      "[TensorRT] ERROR: safeContext.cpp (184) - Cudnn Error in configure: 7 (CUDNN_STATUS_MAPPING_ERROR)\n",
      "[TensorRT] ERROR: FAILED_EXECUTION: std::exception\n",
      "[TensorRT] ERROR: Parameter check failed at: engine.cpp::setBindingDimensions::1136, condition: profileMaxDims.d[i] >= dimensions.d[i]\n",
      "[TensorRT] ERROR: safeContext.cpp (184) - Cudnn Error in configure: 7 (CUDNN_STATUS_MAPPING_ERROR)\n",
      "[TensorRT] ERROR: FAILED_EXECUTION: std::exception\n",
      "[TensorRT] ERROR: Parameter check failed at: engine.cpp::setBindingDimensions::1136, condition: profileMaxDims.d[i] >= dimensions.d[i]\n",
      "[TensorRT] ERROR: safeContext.cpp (184) - Cudnn Error in configure: 7 (CUDNN_STATUS_MAPPING_ERROR)\n",
      "[TensorRT] ERROR: FAILED_EXECUTION: std::exception\n",
      "[TensorRT] ERROR: Parameter check failed at: engine.cpp::setBindingDimensions::1136, condition: profileMaxDims.d[i] >= dimensions.d[i]\n",
      "[TensorRT] ERROR: safeContext.cpp (184) - Cudnn Error in configure: 7 (CUDNN_STATUS_MAPPING_ERROR)\n",
      "[TensorRT] ERROR: FAILED_EXECUTION: std::exception\n"
     ]
    },
    {
     "name": "stdout",
     "output_type": "stream",
     "text": [
      "Time: 0.04154157638549805\n",
      "Time: 0.04490375518798828\n",
      "Time: 0.043265581130981445\n",
      "Time: 0.04540061950683594\n",
      "Time: 0.04647231101989746\n"
     ]
    },
    {
     "name": "stderr",
     "output_type": "stream",
     "text": [
      "[TensorRT] ERROR: Parameter check failed at: engine.cpp::setBindingDimensions::1136, condition: profileMaxDims.d[i] >= dimensions.d[i]\n",
      "[TensorRT] ERROR: safeContext.cpp (184) - Cudnn Error in configure: 7 (CUDNN_STATUS_MAPPING_ERROR)\n",
      "[TensorRT] ERROR: FAILED_EXECUTION: std::exception\n",
      "[TensorRT] ERROR: Parameter check failed at: engine.cpp::setBindingDimensions::1136, condition: profileMaxDims.d[i] >= dimensions.d[i]\n",
      "[TensorRT] ERROR: safeContext.cpp (184) - Cudnn Error in configure: 7 (CUDNN_STATUS_MAPPING_ERROR)\n",
      "[TensorRT] ERROR: FAILED_EXECUTION: std::exception\n",
      "[TensorRT] ERROR: Parameter check failed at: engine.cpp::setBindingDimensions::1136, condition: profileMaxDims.d[i] >= dimensions.d[i]\n",
      "[TensorRT] ERROR: safeContext.cpp (184) - Cudnn Error in configure: 7 (CUDNN_STATUS_MAPPING_ERROR)\n",
      "[TensorRT] ERROR: FAILED_EXECUTION: std::exception\n",
      "[TensorRT] ERROR: Parameter check failed at: engine.cpp::setBindingDimensions::1136, condition: profileMaxDims.d[i] >= dimensions.d[i]\n",
      "[TensorRT] ERROR: safeContext.cpp (184) - Cudnn Error in configure: 7 (CUDNN_STATUS_MAPPING_ERROR)\n",
      "[TensorRT] ERROR: FAILED_EXECUTION: std::exception\n",
      "[TensorRT] ERROR: Parameter check failed at: engine.cpp::setBindingDimensions::1136, condition: profileMaxDims.d[i] >= dimensions.d[i]\n",
      "[TensorRT] ERROR: safeContext.cpp (184) - Cudnn Error in configure: 7 (CUDNN_STATUS_MAPPING_ERROR)\n",
      "[TensorRT] ERROR: FAILED_EXECUTION: std::exception\n"
     ]
    },
    {
     "name": "stdout",
     "output_type": "stream",
     "text": [
      "Time: 0.04600024223327637\n",
      "Time: 0.04815673828125\n",
      "Time: 0.05064678192138672\n",
      "Time: 0.03571963310241699\n",
      "Time: 0.04125642776489258\n"
     ]
    },
    {
     "name": "stderr",
     "output_type": "stream",
     "text": [
      "[TensorRT] ERROR: Parameter check failed at: engine.cpp::setBindingDimensions::1136, condition: profileMaxDims.d[i] >= dimensions.d[i]\n",
      "[TensorRT] ERROR: safeContext.cpp (184) - Cudnn Error in configure: 7 (CUDNN_STATUS_MAPPING_ERROR)\n",
      "[TensorRT] ERROR: FAILED_EXECUTION: std::exception\n",
      "[TensorRT] ERROR: Parameter check failed at: engine.cpp::setBindingDimensions::1136, condition: profileMaxDims.d[i] >= dimensions.d[i]\n",
      "[TensorRT] ERROR: safeContext.cpp (184) - Cudnn Error in configure: 7 (CUDNN_STATUS_MAPPING_ERROR)\n",
      "[TensorRT] ERROR: FAILED_EXECUTION: std::exception\n",
      "[TensorRT] ERROR: Parameter check failed at: engine.cpp::setBindingDimensions::1136, condition: profileMaxDims.d[i] >= dimensions.d[i]\n",
      "[TensorRT] ERROR: safeContext.cpp (184) - Cudnn Error in configure: 7 (CUDNN_STATUS_MAPPING_ERROR)\n",
      "[TensorRT] ERROR: FAILED_EXECUTION: std::exception\n",
      "[TensorRT] ERROR: Parameter check failed at: engine.cpp::setBindingDimensions::1136, condition: profileMaxDims.d[i] >= dimensions.d[i]\n",
      "[TensorRT] ERROR: safeContext.cpp (184) - Cudnn Error in configure: 7 (CUDNN_STATUS_MAPPING_ERROR)\n",
      "[TensorRT] ERROR: FAILED_EXECUTION: std::exception\n"
     ]
    },
    {
     "name": "stdout",
     "output_type": "stream",
     "text": [
      "Time: 0.0488278865814209\n",
      "Time: 0.05913972854614258\n",
      "Time: 0.04596590995788574\n",
      "Time: 0.04527997970581055\n"
     ]
    },
    {
     "name": "stderr",
     "output_type": "stream",
     "text": [
      "[TensorRT] ERROR: Parameter check failed at: engine.cpp::setBindingDimensions::1136, condition: profileMaxDims.d[i] >= dimensions.d[i]\n",
      "[TensorRT] ERROR: safeContext.cpp (184) - Cudnn Error in configure: 7 (CUDNN_STATUS_MAPPING_ERROR)\n",
      "[TensorRT] ERROR: FAILED_EXECUTION: std::exception\n",
      "[TensorRT] ERROR: Parameter check failed at: engine.cpp::setBindingDimensions::1136, condition: profileMaxDims.d[i] >= dimensions.d[i]\n",
      "[TensorRT] ERROR: safeContext.cpp (184) - Cudnn Error in configure: 7 (CUDNN_STATUS_MAPPING_ERROR)\n",
      "[TensorRT] ERROR: FAILED_EXECUTION: std::exception\n",
      "[TensorRT] ERROR: Parameter check failed at: engine.cpp::setBindingDimensions::1136, condition: profileMaxDims.d[i] >= dimensions.d[i]\n",
      "[TensorRT] ERROR: safeContext.cpp (184) - Cudnn Error in configure: 7 (CUDNN_STATUS_MAPPING_ERROR)\n",
      "[TensorRT] ERROR: FAILED_EXECUTION: std::exception\n",
      "[TensorRT] ERROR: Parameter check failed at: engine.cpp::setBindingDimensions::1136, condition: profileMaxDims.d[i] >= dimensions.d[i]\n",
      "[TensorRT] ERROR: safeContext.cpp (184) - Cudnn Error in configure: 7 (CUDNN_STATUS_MAPPING_ERROR)\n",
      "[TensorRT] ERROR: FAILED_EXECUTION: std::exception\n"
     ]
    },
    {
     "name": "stdout",
     "output_type": "stream",
     "text": [
      "Time: 0.05004429817199707\n",
      "Time: 0.05621457099914551\n",
      "Time: 0.05960702896118164\n",
      "Time: 0.04529762268066406\n"
     ]
    },
    {
     "name": "stderr",
     "output_type": "stream",
     "text": [
      "[TensorRT] ERROR: Parameter check failed at: engine.cpp::setBindingDimensions::1136, condition: profileMaxDims.d[i] >= dimensions.d[i]\n",
      "[TensorRT] ERROR: safeContext.cpp (184) - Cudnn Error in configure: 7 (CUDNN_STATUS_MAPPING_ERROR)\n",
      "[TensorRT] ERROR: FAILED_EXECUTION: std::exception\n",
      "[TensorRT] ERROR: Parameter check failed at: engine.cpp::setBindingDimensions::1136, condition: profileMaxDims.d[i] >= dimensions.d[i]\n",
      "[TensorRT] ERROR: safeContext.cpp (184) - Cudnn Error in configure: 7 (CUDNN_STATUS_MAPPING_ERROR)\n",
      "[TensorRT] ERROR: FAILED_EXECUTION: std::exception\n",
      "[TensorRT] ERROR: Parameter check failed at: engine.cpp::setBindingDimensions::1136, condition: profileMaxDims.d[i] >= dimensions.d[i]\n",
      "[TensorRT] ERROR: safeContext.cpp (184) - Cudnn Error in configure: 7 (CUDNN_STATUS_MAPPING_ERROR)\n",
      "[TensorRT] ERROR: FAILED_EXECUTION: std::exception\n",
      "[TensorRT] ERROR: Parameter check failed at: engine.cpp::setBindingDimensions::1136, condition: profileMaxDims.d[i] >= dimensions.d[i]\n",
      "[TensorRT] ERROR: safeContext.cpp (184) - Cudnn Error in configure: 7 (CUDNN_STATUS_MAPPING_ERROR)\n",
      "[TensorRT] ERROR: FAILED_EXECUTION: std::exception\n"
     ]
    },
    {
     "name": "stdout",
     "output_type": "stream",
     "text": [
      "Time: 0.056362152099609375\n",
      "Time: 0.05277061462402344\n",
      "Time: 0.049076080322265625\n",
      "Time: 0.05406498908996582\n"
     ]
    },
    {
     "name": "stderr",
     "output_type": "stream",
     "text": [
      "[TensorRT] ERROR: Parameter check failed at: engine.cpp::setBindingDimensions::1136, condition: profileMaxDims.d[i] >= dimensions.d[i]\n",
      "[TensorRT] ERROR: safeContext.cpp (184) - Cudnn Error in configure: 7 (CUDNN_STATUS_MAPPING_ERROR)\n",
      "[TensorRT] ERROR: FAILED_EXECUTION: std::exception\n",
      "[TensorRT] ERROR: Parameter check failed at: engine.cpp::setBindingDimensions::1136, condition: profileMaxDims.d[i] >= dimensions.d[i]\n",
      "[TensorRT] ERROR: safeContext.cpp (184) - Cudnn Error in configure: 7 (CUDNN_STATUS_MAPPING_ERROR)\n",
      "[TensorRT] ERROR: FAILED_EXECUTION: std::exception\n",
      "[TensorRT] ERROR: Parameter check failed at: engine.cpp::setBindingDimensions::1136, condition: profileMaxDims.d[i] >= dimensions.d[i]\n",
      "[TensorRT] ERROR: safeContext.cpp (184) - Cudnn Error in configure: 7 (CUDNN_STATUS_MAPPING_ERROR)\n",
      "[TensorRT] ERROR: FAILED_EXECUTION: std::exception\n",
      "[TensorRT] ERROR: Parameter check failed at: engine.cpp::setBindingDimensions::1136, condition: profileMaxDims.d[i] >= dimensions.d[i]\n",
      "[TensorRT] ERROR: safeContext.cpp (184) - Cudnn Error in configure: 7 (CUDNN_STATUS_MAPPING_ERROR)\n",
      "[TensorRT] ERROR: FAILED_EXECUTION: std::exception\n"
     ]
    },
    {
     "name": "stdout",
     "output_type": "stream",
     "text": [
      "Time: 0.0525813102722168\n",
      "Time: 0.05421304702758789\n",
      "Time: 0.05428576469421387\n",
      "Time: 0.05777549743652344\n"
     ]
    },
    {
     "name": "stderr",
     "output_type": "stream",
     "text": [
      "[TensorRT] ERROR: Parameter check failed at: engine.cpp::setBindingDimensions::1136, condition: profileMaxDims.d[i] >= dimensions.d[i]\n",
      "[TensorRT] ERROR: safeContext.cpp (184) - Cudnn Error in configure: 7 (CUDNN_STATUS_MAPPING_ERROR)\n",
      "[TensorRT] ERROR: FAILED_EXECUTION: std::exception\n",
      "[TensorRT] ERROR: Parameter check failed at: engine.cpp::setBindingDimensions::1136, condition: profileMaxDims.d[i] >= dimensions.d[i]\n",
      "[TensorRT] ERROR: safeContext.cpp (184) - Cudnn Error in configure: 7 (CUDNN_STATUS_MAPPING_ERROR)\n",
      "[TensorRT] ERROR: FAILED_EXECUTION: std::exception\n",
      "[TensorRT] ERROR: Parameter check failed at: engine.cpp::setBindingDimensions::1136, condition: profileMaxDims.d[i] >= dimensions.d[i]\n",
      "[TensorRT] ERROR: safeContext.cpp (184) - Cudnn Error in configure: 7 (CUDNN_STATUS_MAPPING_ERROR)\n",
      "[TensorRT] ERROR: FAILED_EXECUTION: std::exception\n",
      "[TensorRT] ERROR: Parameter check failed at: engine.cpp::setBindingDimensions::1136, condition: profileMaxDims.d[i] >= dimensions.d[i]\n",
      "[TensorRT] ERROR: safeContext.cpp (184) - Cudnn Error in configure: 7 (CUDNN_STATUS_MAPPING_ERROR)\n",
      "[TensorRT] ERROR: FAILED_EXECUTION: std::exception\n"
     ]
    },
    {
     "name": "stdout",
     "output_type": "stream",
     "text": [
      "Time: 0.05602765083312988\n",
      "Time: 0.05675172805786133\n",
      "Time: 0.05701422691345215\n",
      "Time: 0.059308767318725586\n"
     ]
    },
    {
     "name": "stderr",
     "output_type": "stream",
     "text": [
      "[TensorRT] ERROR: Parameter check failed at: engine.cpp::setBindingDimensions::1136, condition: profileMaxDims.d[i] >= dimensions.d[i]\n",
      "[TensorRT] ERROR: safeContext.cpp (184) - Cudnn Error in configure: 7 (CUDNN_STATUS_MAPPING_ERROR)\n",
      "[TensorRT] ERROR: FAILED_EXECUTION: std::exception\n",
      "[TensorRT] ERROR: Parameter check failed at: engine.cpp::setBindingDimensions::1136, condition: profileMaxDims.d[i] >= dimensions.d[i]\n",
      "[TensorRT] ERROR: safeContext.cpp (184) - Cudnn Error in configure: 7 (CUDNN_STATUS_MAPPING_ERROR)\n",
      "[TensorRT] ERROR: FAILED_EXECUTION: std::exception\n",
      "[TensorRT] ERROR: Parameter check failed at: engine.cpp::setBindingDimensions::1136, condition: profileMaxDims.d[i] >= dimensions.d[i]\n",
      "[TensorRT] ERROR: safeContext.cpp (184) - Cudnn Error in configure: 7 (CUDNN_STATUS_MAPPING_ERROR)\n",
      "[TensorRT] ERROR: FAILED_EXECUTION: std::exception\n",
      "[TensorRT] ERROR: Parameter check failed at: engine.cpp::setBindingDimensions::1136, condition: profileMaxDims.d[i] >= dimensions.d[i]\n",
      "[TensorRT] ERROR: safeContext.cpp (184) - Cudnn Error in configure: 7 (CUDNN_STATUS_MAPPING_ERROR)\n",
      "[TensorRT] ERROR: FAILED_EXECUTION: std::exception\n"
     ]
    },
    {
     "name": "stdout",
     "output_type": "stream",
     "text": [
      "Time: 0.05937814712524414\n",
      "Time: 0.05676722526550293\n",
      "Time: 0.058799028396606445\n",
      "Time: 0.05647706985473633\n"
     ]
    },
    {
     "name": "stderr",
     "output_type": "stream",
     "text": [
      "[TensorRT] ERROR: Parameter check failed at: engine.cpp::setBindingDimensions::1136, condition: profileMaxDims.d[i] >= dimensions.d[i]\n",
      "[TensorRT] ERROR: safeContext.cpp (184) - Cudnn Error in configure: 7 (CUDNN_STATUS_MAPPING_ERROR)\n",
      "[TensorRT] ERROR: FAILED_EXECUTION: std::exception\n",
      "[TensorRT] ERROR: Parameter check failed at: engine.cpp::setBindingDimensions::1136, condition: profileMaxDims.d[i] >= dimensions.d[i]\n",
      "[TensorRT] ERROR: safeContext.cpp (184) - Cudnn Error in configure: 7 (CUDNN_STATUS_MAPPING_ERROR)\n",
      "[TensorRT] ERROR: FAILED_EXECUTION: std::exception\n",
      "[TensorRT] ERROR: Parameter check failed at: engine.cpp::setBindingDimensions::1136, condition: profileMaxDims.d[i] >= dimensions.d[i]\n",
      "[TensorRT] ERROR: safeContext.cpp (184) - Cudnn Error in configure: 7 (CUDNN_STATUS_MAPPING_ERROR)\n",
      "[TensorRT] ERROR: FAILED_EXECUTION: std::exception\n",
      "[TensorRT] ERROR: Parameter check failed at: engine.cpp::setBindingDimensions::1136, condition: profileMaxDims.d[i] >= dimensions.d[i]\n",
      "[TensorRT] ERROR: safeContext.cpp (184) - Cudnn Error in configure: 7 (CUDNN_STATUS_MAPPING_ERROR)\n",
      "[TensorRT] ERROR: FAILED_EXECUTION: std::exception\n"
     ]
    },
    {
     "name": "stdout",
     "output_type": "stream",
     "text": [
      "Time: 0.05772662162780762\n",
      "Time: 0.06231260299682617\n",
      "Time: 0.056643009185791016\n",
      "Time: 0.05997300148010254\n"
     ]
    },
    {
     "name": "stderr",
     "output_type": "stream",
     "text": [
      "[TensorRT] ERROR: Parameter check failed at: engine.cpp::setBindingDimensions::1136, condition: profileMaxDims.d[i] >= dimensions.d[i]\n",
      "[TensorRT] ERROR: safeContext.cpp (184) - Cudnn Error in configure: 7 (CUDNN_STATUS_MAPPING_ERROR)\n",
      "[TensorRT] ERROR: FAILED_EXECUTION: std::exception\n",
      "[TensorRT] ERROR: Parameter check failed at: engine.cpp::setBindingDimensions::1136, condition: profileMaxDims.d[i] >= dimensions.d[i]\n",
      "[TensorRT] ERROR: safeContext.cpp (184) - Cudnn Error in configure: 7 (CUDNN_STATUS_MAPPING_ERROR)\n",
      "[TensorRT] ERROR: FAILED_EXECUTION: std::exception\n",
      "[TensorRT] ERROR: Parameter check failed at: engine.cpp::setBindingDimensions::1136, condition: profileMaxDims.d[i] >= dimensions.d[i]\n",
      "[TensorRT] ERROR: safeContext.cpp (184) - Cudnn Error in configure: 7 (CUDNN_STATUS_MAPPING_ERROR)\n",
      "[TensorRT] ERROR: FAILED_EXECUTION: std::exception\n",
      "[TensorRT] ERROR: Parameter check failed at: engine.cpp::setBindingDimensions::1136, condition: profileMaxDims.d[i] >= dimensions.d[i]\n",
      "[TensorRT] ERROR: safeContext.cpp (184) - Cudnn Error in configure: 7 (CUDNN_STATUS_MAPPING_ERROR)\n",
      "[TensorRT] ERROR: FAILED_EXECUTION: std::exception\n"
     ]
    },
    {
     "name": "stdout",
     "output_type": "stream",
     "text": [
      "Time: 0.05756020545959473\n",
      "Time: 0.05661773681640625\n",
      "Time: 0.056591033935546875\n",
      "Time: 0.06282663345336914\n"
     ]
    },
    {
     "name": "stderr",
     "output_type": "stream",
     "text": [
      "[TensorRT] ERROR: Parameter check failed at: engine.cpp::setBindingDimensions::1136, condition: profileMaxDims.d[i] >= dimensions.d[i]\n",
      "[TensorRT] ERROR: safeContext.cpp (184) - Cudnn Error in configure: 7 (CUDNN_STATUS_MAPPING_ERROR)\n",
      "[TensorRT] ERROR: FAILED_EXECUTION: std::exception\n",
      "[TensorRT] ERROR: Parameter check failed at: engine.cpp::setBindingDimensions::1136, condition: profileMaxDims.d[i] >= dimensions.d[i]\n",
      "[TensorRT] ERROR: safeContext.cpp (184) - Cudnn Error in configure: 7 (CUDNN_STATUS_MAPPING_ERROR)\n",
      "[TensorRT] ERROR: FAILED_EXECUTION: std::exception\n",
      "[TensorRT] ERROR: Parameter check failed at: engine.cpp::setBindingDimensions::1136, condition: profileMaxDims.d[i] >= dimensions.d[i]\n",
      "[TensorRT] ERROR: safeContext.cpp (184) - Cudnn Error in configure: 7 (CUDNN_STATUS_MAPPING_ERROR)\n",
      "[TensorRT] ERROR: FAILED_EXECUTION: std::exception\n",
      "[TensorRT] ERROR: Parameter check failed at: engine.cpp::setBindingDimensions::1136, condition: profileMaxDims.d[i] >= dimensions.d[i]\n",
      "[TensorRT] ERROR: safeContext.cpp (184) - Cudnn Error in configure: 7 (CUDNN_STATUS_MAPPING_ERROR)\n",
      "[TensorRT] ERROR: FAILED_EXECUTION: std::exception\n"
     ]
    },
    {
     "name": "stdout",
     "output_type": "stream",
     "text": [
      "Time: 0.05849480628967285\n",
      "Time: 0.056888580322265625\n",
      "Time: 0.056386470794677734\n",
      "Time: 0.0626227855682373\n"
     ]
    },
    {
     "name": "stderr",
     "output_type": "stream",
     "text": [
      "[TensorRT] ERROR: Parameter check failed at: engine.cpp::setBindingDimensions::1136, condition: profileMaxDims.d[i] >= dimensions.d[i]\n",
      "[TensorRT] ERROR: safeContext.cpp (184) - Cudnn Error in configure: 7 (CUDNN_STATUS_MAPPING_ERROR)\n",
      "[TensorRT] ERROR: FAILED_EXECUTION: std::exception\n",
      "[TensorRT] ERROR: Parameter check failed at: engine.cpp::setBindingDimensions::1136, condition: profileMaxDims.d[i] >= dimensions.d[i]\n",
      "[TensorRT] ERROR: safeContext.cpp (184) - Cudnn Error in configure: 7 (CUDNN_STATUS_MAPPING_ERROR)\n",
      "[TensorRT] ERROR: FAILED_EXECUTION: std::exception\n",
      "[TensorRT] ERROR: Parameter check failed at: engine.cpp::setBindingDimensions::1136, condition: profileMaxDims.d[i] >= dimensions.d[i]\n",
      "[TensorRT] ERROR: safeContext.cpp (184) - Cudnn Error in configure: 7 (CUDNN_STATUS_MAPPING_ERROR)\n",
      "[TensorRT] ERROR: FAILED_EXECUTION: std::exception\n",
      "[TensorRT] ERROR: Parameter check failed at: engine.cpp::setBindingDimensions::1136, condition: profileMaxDims.d[i] >= dimensions.d[i]\n",
      "[TensorRT] ERROR: safeContext.cpp (184) - Cudnn Error in configure: 7 (CUDNN_STATUS_MAPPING_ERROR)\n",
      "[TensorRT] ERROR: FAILED_EXECUTION: std::exception\n"
     ]
    },
    {
     "name": "stdout",
     "output_type": "stream",
     "text": [
      "Time: 0.056436777114868164\n",
      "Time: 0.05632615089416504\n",
      "Time: 0.056008100509643555\n",
      "Time: 0.06205487251281738\n"
     ]
    },
    {
     "name": "stderr",
     "output_type": "stream",
     "text": [
      "[TensorRT] ERROR: Parameter check failed at: engine.cpp::setBindingDimensions::1136, condition: profileMaxDims.d[i] >= dimensions.d[i]\n",
      "[TensorRT] ERROR: safeContext.cpp (184) - Cudnn Error in configure: 7 (CUDNN_STATUS_MAPPING_ERROR)\n",
      "[TensorRT] ERROR: FAILED_EXECUTION: std::exception\n",
      "[TensorRT] ERROR: Parameter check failed at: engine.cpp::setBindingDimensions::1136, condition: profileMaxDims.d[i] >= dimensions.d[i]\n",
      "[TensorRT] ERROR: safeContext.cpp (184) - Cudnn Error in configure: 7 (CUDNN_STATUS_MAPPING_ERROR)\n",
      "[TensorRT] ERROR: FAILED_EXECUTION: std::exception\n",
      "[TensorRT] ERROR: Parameter check failed at: engine.cpp::setBindingDimensions::1136, condition: profileMaxDims.d[i] >= dimensions.d[i]\n",
      "[TensorRT] ERROR: safeContext.cpp (184) - Cudnn Error in configure: 7 (CUDNN_STATUS_MAPPING_ERROR)\n",
      "[TensorRT] ERROR: FAILED_EXECUTION: std::exception\n",
      "[TensorRT] ERROR: Parameter check failed at: engine.cpp::setBindingDimensions::1136, condition: profileMaxDims.d[i] >= dimensions.d[i]\n",
      "[TensorRT] ERROR: safeContext.cpp (184) - Cudnn Error in configure: 7 (CUDNN_STATUS_MAPPING_ERROR)\n",
      "[TensorRT] ERROR: FAILED_EXECUTION: std::exception\n"
     ]
    },
    {
     "name": "stdout",
     "output_type": "stream",
     "text": [
      "Time: 0.05719637870788574\n",
      "Time: 0.05612325668334961\n",
      "Time: 0.05634593963623047\n",
      "Time: 0.06047511100769043\n"
     ]
    },
    {
     "name": "stderr",
     "output_type": "stream",
     "text": [
      "[TensorRT] ERROR: Parameter check failed at: engine.cpp::setBindingDimensions::1136, condition: profileMaxDims.d[i] >= dimensions.d[i]\n",
      "[TensorRT] ERROR: safeContext.cpp (184) - Cudnn Error in configure: 7 (CUDNN_STATUS_MAPPING_ERROR)\n",
      "[TensorRT] ERROR: FAILED_EXECUTION: std::exception\n",
      "[TensorRT] ERROR: Parameter check failed at: engine.cpp::setBindingDimensions::1136, condition: profileMaxDims.d[i] >= dimensions.d[i]\n",
      "[TensorRT] ERROR: safeContext.cpp (184) - Cudnn Error in configure: 7 (CUDNN_STATUS_MAPPING_ERROR)\n",
      "[TensorRT] ERROR: FAILED_EXECUTION: std::exception\n",
      "[TensorRT] ERROR: Parameter check failed at: engine.cpp::setBindingDimensions::1136, condition: profileMaxDims.d[i] >= dimensions.d[i]\n",
      "[TensorRT] ERROR: safeContext.cpp (184) - Cudnn Error in configure: 7 (CUDNN_STATUS_MAPPING_ERROR)\n",
      "[TensorRT] ERROR: FAILED_EXECUTION: std::exception\n",
      "[TensorRT] ERROR: Parameter check failed at: engine.cpp::setBindingDimensions::1136, condition: profileMaxDims.d[i] >= dimensions.d[i]\n",
      "[TensorRT] ERROR: safeContext.cpp (184) - Cudnn Error in configure: 7 (CUDNN_STATUS_MAPPING_ERROR)\n",
      "[TensorRT] ERROR: FAILED_EXECUTION: std::exception\n"
     ]
    },
    {
     "name": "stdout",
     "output_type": "stream",
     "text": [
      "Time: 0.057624101638793945\n",
      "Time: 0.05638694763183594\n",
      "Time: 0.056935787200927734\n",
      "Time: 0.05924272537231445\n"
     ]
    },
    {
     "name": "stderr",
     "output_type": "stream",
     "text": [
      "[TensorRT] ERROR: Parameter check failed at: engine.cpp::setBindingDimensions::1136, condition: profileMaxDims.d[i] >= dimensions.d[i]\n",
      "[TensorRT] ERROR: safeContext.cpp (184) - Cudnn Error in configure: 7 (CUDNN_STATUS_MAPPING_ERROR)\n",
      "[TensorRT] ERROR: FAILED_EXECUTION: std::exception\n",
      "[TensorRT] ERROR: Parameter check failed at: engine.cpp::setBindingDimensions::1136, condition: profileMaxDims.d[i] >= dimensions.d[i]\n",
      "[TensorRT] ERROR: safeContext.cpp (184) - Cudnn Error in configure: 7 (CUDNN_STATUS_MAPPING_ERROR)\n",
      "[TensorRT] ERROR: FAILED_EXECUTION: std::exception\n",
      "[TensorRT] ERROR: Parameter check failed at: engine.cpp::setBindingDimensions::1136, condition: profileMaxDims.d[i] >= dimensions.d[i]\n",
      "[TensorRT] ERROR: safeContext.cpp (184) - Cudnn Error in configure: 7 (CUDNN_STATUS_MAPPING_ERROR)\n",
      "[TensorRT] ERROR: FAILED_EXECUTION: std::exception\n",
      "[TensorRT] ERROR: Parameter check failed at: engine.cpp::setBindingDimensions::1136, condition: profileMaxDims.d[i] >= dimensions.d[i]\n",
      "[TensorRT] ERROR: safeContext.cpp (184) - Cudnn Error in configure: 7 (CUDNN_STATUS_MAPPING_ERROR)\n",
      "[TensorRT] ERROR: FAILED_EXECUTION: std::exception\n"
     ]
    },
    {
     "name": "stdout",
     "output_type": "stream",
     "text": [
      "Time: 0.05760908126831055\n",
      "Time: 0.055979251861572266\n",
      "Time: 0.05647015571594238\n",
      "Time: 0.05979752540588379\n"
     ]
    },
    {
     "name": "stderr",
     "output_type": "stream",
     "text": [
      "[TensorRT] ERROR: Parameter check failed at: engine.cpp::setBindingDimensions::1136, condition: profileMaxDims.d[i] >= dimensions.d[i]\n",
      "[TensorRT] ERROR: safeContext.cpp (184) - Cudnn Error in configure: 7 (CUDNN_STATUS_MAPPING_ERROR)\n",
      "[TensorRT] ERROR: FAILED_EXECUTION: std::exception\n",
      "[TensorRT] ERROR: Parameter check failed at: engine.cpp::setBindingDimensions::1136, condition: profileMaxDims.d[i] >= dimensions.d[i]\n",
      "[TensorRT] ERROR: safeContext.cpp (184) - Cudnn Error in configure: 7 (CUDNN_STATUS_MAPPING_ERROR)\n",
      "[TensorRT] ERROR: FAILED_EXECUTION: std::exception\n",
      "[TensorRT] ERROR: Parameter check failed at: engine.cpp::setBindingDimensions::1136, condition: profileMaxDims.d[i] >= dimensions.d[i]\n",
      "[TensorRT] ERROR: safeContext.cpp (184) - Cudnn Error in configure: 7 (CUDNN_STATUS_MAPPING_ERROR)\n",
      "[TensorRT] ERROR: FAILED_EXECUTION: std::exception\n"
     ]
    },
    {
     "name": "stdout",
     "output_type": "stream",
     "text": [
      "Time: 0.05756545066833496\n",
      "Time: 0.05621838569641113\n",
      "Time: 0.08438849449157715\n"
     ]
    },
    {
     "name": "stderr",
     "output_type": "stream",
     "text": [
      "[TensorRT] ERROR: Parameter check failed at: engine.cpp::setBindingDimensions::1136, condition: profileMaxDims.d[i] >= dimensions.d[i]\n",
      "[TensorRT] ERROR: safeContext.cpp (184) - Cudnn Error in configure: 7 (CUDNN_STATUS_MAPPING_ERROR)\n",
      "[TensorRT] ERROR: FAILED_EXECUTION: std::exception\n",
      "[TensorRT] ERROR: Parameter check failed at: engine.cpp::setBindingDimensions::1136, condition: profileMaxDims.d[i] >= dimensions.d[i]\n",
      "[TensorRT] ERROR: safeContext.cpp (184) - Cudnn Error in configure: 7 (CUDNN_STATUS_MAPPING_ERROR)\n",
      "[TensorRT] ERROR: FAILED_EXECUTION: std::exception\n",
      "[TensorRT] ERROR: Parameter check failed at: engine.cpp::setBindingDimensions::1136, condition: profileMaxDims.d[i] >= dimensions.d[i]\n",
      "[TensorRT] ERROR: safeContext.cpp (184) - Cudnn Error in configure: 7 (CUDNN_STATUS_MAPPING_ERROR)\n",
      "[TensorRT] ERROR: FAILED_EXECUTION: std::exception\n"
     ]
    },
    {
     "name": "stdout",
     "output_type": "stream",
     "text": [
      "Time: 0.06687474250793457\n",
      "Time: 0.09714818000793457\n",
      "Time: 0.06930041313171387\n"
     ]
    },
    {
     "name": "stderr",
     "output_type": "stream",
     "text": [
      "[TensorRT] ERROR: Parameter check failed at: engine.cpp::setBindingDimensions::1136, condition: profileMaxDims.d[i] >= dimensions.d[i]\n",
      "[TensorRT] ERROR: safeContext.cpp (184) - Cudnn Error in configure: 7 (CUDNN_STATUS_MAPPING_ERROR)\n",
      "[TensorRT] ERROR: FAILED_EXECUTION: std::exception\n",
      "[TensorRT] ERROR: Parameter check failed at: engine.cpp::setBindingDimensions::1136, condition: profileMaxDims.d[i] >= dimensions.d[i]\n",
      "[TensorRT] ERROR: safeContext.cpp (184) - Cudnn Error in configure: 7 (CUDNN_STATUS_MAPPING_ERROR)\n",
      "[TensorRT] ERROR: FAILED_EXECUTION: std::exception\n",
      "[TensorRT] ERROR: Parameter check failed at: engine.cpp::setBindingDimensions::1136, condition: profileMaxDims.d[i] >= dimensions.d[i]\n",
      "[TensorRT] ERROR: safeContext.cpp (184) - Cudnn Error in configure: 7 (CUDNN_STATUS_MAPPING_ERROR)\n",
      "[TensorRT] ERROR: FAILED_EXECUTION: std::exception\n",
      "[TensorRT] ERROR: Parameter check failed at: engine.cpp::setBindingDimensions::1136, condition: profileMaxDims.d[i] >= dimensions.d[i]\n",
      "[TensorRT] ERROR: safeContext.cpp (184) - Cudnn Error in configure: 7 (CUDNN_STATUS_MAPPING_ERROR)\n",
      "[TensorRT] ERROR: FAILED_EXECUTION: std::exception\n"
     ]
    },
    {
     "name": "stdout",
     "output_type": "stream",
     "text": [
      "Time: 0.057625770568847656\n",
      "Time: 0.0562436580657959\n",
      "Time: 0.05862736701965332\n",
      "Time: 0.05623984336853027\n",
      "Idx: 1200\n"
     ]
    },
    {
     "name": "stderr",
     "output_type": "stream",
     "text": [
      "[TensorRT] ERROR: Parameter check failed at: engine.cpp::setBindingDimensions::1136, condition: profileMaxDims.d[i] >= dimensions.d[i]\n",
      "[TensorRT] ERROR: safeContext.cpp (184) - Cudnn Error in configure: 7 (CUDNN_STATUS_MAPPING_ERROR)\n",
      "[TensorRT] ERROR: FAILED_EXECUTION: std::exception\n",
      "[TensorRT] ERROR: Parameter check failed at: engine.cpp::setBindingDimensions::1136, condition: profileMaxDims.d[i] >= dimensions.d[i]\n",
      "[TensorRT] ERROR: safeContext.cpp (184) - Cudnn Error in configure: 7 (CUDNN_STATUS_MAPPING_ERROR)\n",
      "[TensorRT] ERROR: FAILED_EXECUTION: std::exception\n",
      "[TensorRT] ERROR: Parameter check failed at: engine.cpp::setBindingDimensions::1136, condition: profileMaxDims.d[i] >= dimensions.d[i]\n",
      "[TensorRT] ERROR: safeContext.cpp (184) - Cudnn Error in configure: 7 (CUDNN_STATUS_MAPPING_ERROR)\n",
      "[TensorRT] ERROR: FAILED_EXECUTION: std::exception\n",
      "[TensorRT] ERROR: Parameter check failed at: engine.cpp::setBindingDimensions::1136, condition: profileMaxDims.d[i] >= dimensions.d[i]\n",
      "[TensorRT] ERROR: safeContext.cpp (184) - Cudnn Error in configure: 7 (CUDNN_STATUS_MAPPING_ERROR)\n",
      "[TensorRT] ERROR: FAILED_EXECUTION: std::exception\n"
     ]
    },
    {
     "name": "stdout",
     "output_type": "stream",
     "text": [
      "Time: 0.06424212455749512\n",
      "Time: 0.0562281608581543\n",
      "Time: 0.05638623237609863\n",
      "Time: 0.05637812614440918\n"
     ]
    },
    {
     "name": "stderr",
     "output_type": "stream",
     "text": [
      "[TensorRT] ERROR: Parameter check failed at: engine.cpp::setBindingDimensions::1136, condition: profileMaxDims.d[i] >= dimensions.d[i]\n",
      "[TensorRT] ERROR: safeContext.cpp (184) - Cudnn Error in configure: 7 (CUDNN_STATUS_MAPPING_ERROR)\n",
      "[TensorRT] ERROR: FAILED_EXECUTION: std::exception\n",
      "[TensorRT] ERROR: Parameter check failed at: engine.cpp::setBindingDimensions::1136, condition: profileMaxDims.d[i] >= dimensions.d[i]\n",
      "[TensorRT] ERROR: safeContext.cpp (184) - Cudnn Error in configure: 7 (CUDNN_STATUS_MAPPING_ERROR)\n",
      "[TensorRT] ERROR: FAILED_EXECUTION: std::exception\n",
      "[TensorRT] ERROR: Parameter check failed at: engine.cpp::setBindingDimensions::1136, condition: profileMaxDims.d[i] >= dimensions.d[i]\n",
      "[TensorRT] ERROR: safeContext.cpp (184) - Cudnn Error in configure: 7 (CUDNN_STATUS_MAPPING_ERROR)\n",
      "[TensorRT] ERROR: FAILED_EXECUTION: std::exception\n",
      "[TensorRT] ERROR: Parameter check failed at: engine.cpp::setBindingDimensions::1136, condition: profileMaxDims.d[i] >= dimensions.d[i]\n",
      "[TensorRT] ERROR: safeContext.cpp (184) - Cudnn Error in configure: 7 (CUDNN_STATUS_MAPPING_ERROR)\n",
      "[TensorRT] ERROR: FAILED_EXECUTION: std::exception\n"
     ]
    },
    {
     "name": "stdout",
     "output_type": "stream",
     "text": [
      "Time: 0.06143522262573242\n",
      "Time: 0.05616044998168945\n",
      "Time: 0.05622553825378418\n",
      "Time: 0.05639028549194336\n"
     ]
    },
    {
     "name": "stderr",
     "output_type": "stream",
     "text": [
      "[TensorRT] ERROR: Parameter check failed at: engine.cpp::setBindingDimensions::1136, condition: profileMaxDims.d[i] >= dimensions.d[i]\n",
      "[TensorRT] ERROR: safeContext.cpp (184) - Cudnn Error in configure: 7 (CUDNN_STATUS_MAPPING_ERROR)\n",
      "[TensorRT] ERROR: FAILED_EXECUTION: std::exception\n",
      "[TensorRT] ERROR: Parameter check failed at: engine.cpp::setBindingDimensions::1136, condition: profileMaxDims.d[i] >= dimensions.d[i]\n",
      "[TensorRT] ERROR: safeContext.cpp (184) - Cudnn Error in configure: 7 (CUDNN_STATUS_MAPPING_ERROR)\n",
      "[TensorRT] ERROR: FAILED_EXECUTION: std::exception\n",
      "[TensorRT] ERROR: Parameter check failed at: engine.cpp::setBindingDimensions::1136, condition: profileMaxDims.d[i] >= dimensions.d[i]\n",
      "[TensorRT] ERROR: safeContext.cpp (184) - Cudnn Error in configure: 7 (CUDNN_STATUS_MAPPING_ERROR)\n",
      "[TensorRT] ERROR: FAILED_EXECUTION: std::exception\n",
      "[TensorRT] ERROR: Parameter check failed at: engine.cpp::setBindingDimensions::1136, condition: profileMaxDims.d[i] >= dimensions.d[i]\n",
      "[TensorRT] ERROR: safeContext.cpp (184) - Cudnn Error in configure: 7 (CUDNN_STATUS_MAPPING_ERROR)\n",
      "[TensorRT] ERROR: FAILED_EXECUTION: std::exception\n"
     ]
    },
    {
     "name": "stdout",
     "output_type": "stream",
     "text": [
      "Time: 0.06119728088378906\n",
      "Time: 0.05717730522155762\n",
      "Time: 0.05643057823181152\n",
      "Time: 0.0616300106048584\n"
     ]
    },
    {
     "name": "stderr",
     "output_type": "stream",
     "text": [
      "[TensorRT] ERROR: Parameter check failed at: engine.cpp::setBindingDimensions::1136, condition: profileMaxDims.d[i] >= dimensions.d[i]\n",
      "[TensorRT] ERROR: safeContext.cpp (184) - Cudnn Error in configure: 7 (CUDNN_STATUS_MAPPING_ERROR)\n",
      "[TensorRT] ERROR: FAILED_EXECUTION: std::exception\n",
      "[TensorRT] ERROR: Parameter check failed at: engine.cpp::setBindingDimensions::1136, condition: profileMaxDims.d[i] >= dimensions.d[i]\n",
      "[TensorRT] ERROR: safeContext.cpp (184) - Cudnn Error in configure: 7 (CUDNN_STATUS_MAPPING_ERROR)\n",
      "[TensorRT] ERROR: FAILED_EXECUTION: std::exception\n"
     ]
    },
    {
     "name": "stdout",
     "output_type": "stream",
     "text": [
      "Time: 0.057891130447387695\n",
      "Time: 0.06854534149169922\n"
     ]
    },
    {
     "name": "stderr",
     "output_type": "stream",
     "text": [
      "[TensorRT] ERROR: Parameter check failed at: engine.cpp::setBindingDimensions::1136, condition: profileMaxDims.d[i] >= dimensions.d[i]\n",
      "[TensorRT] ERROR: safeContext.cpp (184) - Cudnn Error in configure: 7 (CUDNN_STATUS_MAPPING_ERROR)\n",
      "[TensorRT] ERROR: FAILED_EXECUTION: std::exception\n",
      "[TensorRT] ERROR: Parameter check failed at: engine.cpp::setBindingDimensions::1136, condition: profileMaxDims.d[i] >= dimensions.d[i]\n",
      "[TensorRT] ERROR: safeContext.cpp (184) - Cudnn Error in configure: 7 (CUDNN_STATUS_MAPPING_ERROR)\n",
      "[TensorRT] ERROR: FAILED_EXECUTION: std::exception\n"
     ]
    },
    {
     "name": "stdout",
     "output_type": "stream",
     "text": [
      "Time: 0.14972710609436035\n",
      "Time: 0.16598033905029297\n",
      "Time: 0.06475496292114258\n",
      "Time: 0.04985237121582031\n",
      "Time: 0.0559229850769043\n",
      "Time: 0.056403160095214844\n"
     ]
    },
    {
     "name": "stderr",
     "output_type": "stream",
     "text": [
      "[TensorRT] ERROR: Parameter check failed at: engine.cpp::setBindingDimensions::1136, condition: profileMaxDims.d[i] >= dimensions.d[i]\n",
      "[TensorRT] ERROR: safeContext.cpp (184) - Cudnn Error in configure: 7 (CUDNN_STATUS_MAPPING_ERROR)\n",
      "[TensorRT] ERROR: FAILED_EXECUTION: std::exception\n",
      "[TensorRT] ERROR: Parameter check failed at: engine.cpp::setBindingDimensions::1136, condition: profileMaxDims.d[i] >= dimensions.d[i]\n",
      "[TensorRT] ERROR: safeContext.cpp (184) - Cudnn Error in configure: 7 (CUDNN_STATUS_MAPPING_ERROR)\n",
      "[TensorRT] ERROR: FAILED_EXECUTION: std::exception\n",
      "[TensorRT] ERROR: Parameter check failed at: engine.cpp::setBindingDimensions::1136, condition: profileMaxDims.d[i] >= dimensions.d[i]\n",
      "[TensorRT] ERROR: safeContext.cpp (184) - Cudnn Error in configure: 7 (CUDNN_STATUS_MAPPING_ERROR)\n",
      "[TensorRT] ERROR: FAILED_EXECUTION: std::exception\n",
      "[TensorRT] ERROR: Parameter check failed at: engine.cpp::setBindingDimensions::1136, condition: profileMaxDims.d[i] >= dimensions.d[i]\n",
      "[TensorRT] ERROR: safeContext.cpp (184) - Cudnn Error in configure: 7 (CUDNN_STATUS_MAPPING_ERROR)\n",
      "[TensorRT] ERROR: FAILED_EXECUTION: std::exception\n",
      "[TensorRT] ERROR: Parameter check failed at: engine.cpp::setBindingDimensions::1136, condition: profileMaxDims.d[i] >= dimensions.d[i]\n",
      "[TensorRT] ERROR: safeContext.cpp (184) - Cudnn Error in configure: 7 (CUDNN_STATUS_MAPPING_ERROR)\n",
      "[TensorRT] ERROR: FAILED_EXECUTION: std::exception\n",
      "[TensorRT] ERROR: Parameter check failed at: engine.cpp::setBindingDimensions::1136, condition: profileMaxDims.d[i] >= dimensions.d[i]\n",
      "[TensorRT] ERROR: safeContext.cpp (184) - Cudnn Error in configure: 7 (CUDNN_STATUS_MAPPING_ERROR)\n",
      "[TensorRT] ERROR: FAILED_EXECUTION: std::exception\n",
      "[TensorRT] ERROR: Parameter check failed at: engine.cpp::setBindingDimensions::1136, condition: profileMaxDims.d[i] >= dimensions.d[i]\n",
      "[TensorRT] ERROR: safeContext.cpp (184) - Cudnn Error in configure: 7 (CUDNN_STATUS_MAPPING_ERROR)\n",
      "[TensorRT] ERROR: FAILED_EXECUTION: std::exception\n",
      "[TensorRT] ERROR: Parameter check failed at: engine.cpp::setBindingDimensions::1136, condition: profileMaxDims.d[i] >= dimensions.d[i]\n",
      "[TensorRT] ERROR: safeContext.cpp (184) - Cudnn Error in configure: 7 (CUDNN_STATUS_MAPPING_ERROR)\n",
      "[TensorRT] ERROR: FAILED_EXECUTION: std::exception\n"
     ]
    },
    {
     "name": "stdout",
     "output_type": "stream",
     "text": [
      "Time: 0.06194257736206055\n",
      "Time: 0.05689811706542969\n",
      "Time: 0.06373167037963867\n",
      "Time: 0.05692934989929199\n"
     ]
    },
    {
     "name": "stderr",
     "output_type": "stream",
     "text": [
      "[TensorRT] ERROR: Parameter check failed at: engine.cpp::setBindingDimensions::1136, condition: profileMaxDims.d[i] >= dimensions.d[i]\n",
      "[TensorRT] ERROR: safeContext.cpp (184) - Cudnn Error in configure: 7 (CUDNN_STATUS_MAPPING_ERROR)\n",
      "[TensorRT] ERROR: FAILED_EXECUTION: std::exception\n",
      "[TensorRT] ERROR: Parameter check failed at: engine.cpp::setBindingDimensions::1136, condition: profileMaxDims.d[i] >= dimensions.d[i]\n",
      "[TensorRT] ERROR: safeContext.cpp (184) - Cudnn Error in configure: 7 (CUDNN_STATUS_MAPPING_ERROR)\n",
      "[TensorRT] ERROR: FAILED_EXECUTION: std::exception\n",
      "[TensorRT] ERROR: Parameter check failed at: engine.cpp::setBindingDimensions::1136, condition: profileMaxDims.d[i] >= dimensions.d[i]\n",
      "[TensorRT] ERROR: safeContext.cpp (184) - Cudnn Error in configure: 7 (CUDNN_STATUS_MAPPING_ERROR)\n",
      "[TensorRT] ERROR: FAILED_EXECUTION: std::exception\n",
      "[TensorRT] ERROR: Parameter check failed at: engine.cpp::setBindingDimensions::1136, condition: profileMaxDims.d[i] >= dimensions.d[i]\n",
      "[TensorRT] ERROR: safeContext.cpp (184) - Cudnn Error in configure: 7 (CUDNN_STATUS_MAPPING_ERROR)\n",
      "[TensorRT] ERROR: FAILED_EXECUTION: std::exception\n"
     ]
    },
    {
     "name": "stdout",
     "output_type": "stream",
     "text": [
      "Time: 0.06398940086364746\n",
      "Time: 0.0571138858795166\n",
      "Time: 0.05726194381713867\n",
      "Time: 0.05707406997680664\n"
     ]
    },
    {
     "name": "stderr",
     "output_type": "stream",
     "text": [
      "[TensorRT] ERROR: Parameter check failed at: engine.cpp::setBindingDimensions::1136, condition: profileMaxDims.d[i] >= dimensions.d[i]\n",
      "[TensorRT] ERROR: safeContext.cpp (184) - Cudnn Error in configure: 7 (CUDNN_STATUS_MAPPING_ERROR)\n",
      "[TensorRT] ERROR: FAILED_EXECUTION: std::exception\n",
      "[TensorRT] ERROR: Parameter check failed at: engine.cpp::setBindingDimensions::1136, condition: profileMaxDims.d[i] >= dimensions.d[i]\n",
      "[TensorRT] ERROR: safeContext.cpp (184) - Cudnn Error in configure: 7 (CUDNN_STATUS_MAPPING_ERROR)\n",
      "[TensorRT] ERROR: FAILED_EXECUTION: std::exception\n",
      "[TensorRT] ERROR: Parameter check failed at: engine.cpp::setBindingDimensions::1136, condition: profileMaxDims.d[i] >= dimensions.d[i]\n",
      "[TensorRT] ERROR: safeContext.cpp (184) - Cudnn Error in configure: 7 (CUDNN_STATUS_MAPPING_ERROR)\n",
      "[TensorRT] ERROR: FAILED_EXECUTION: std::exception\n",
      "[TensorRT] ERROR: Parameter check failed at: engine.cpp::setBindingDimensions::1136, condition: profileMaxDims.d[i] >= dimensions.d[i]\n",
      "[TensorRT] ERROR: safeContext.cpp (184) - Cudnn Error in configure: 7 (CUDNN_STATUS_MAPPING_ERROR)\n",
      "[TensorRT] ERROR: FAILED_EXECUTION: std::exception\n"
     ]
    },
    {
     "name": "stdout",
     "output_type": "stream",
     "text": [
      "Time: 0.05956435203552246\n",
      "Time: 0.05419731140136719\n",
      "Time: 0.0500338077545166\n",
      "Time: 0.05151104927062988\n"
     ]
    },
    {
     "name": "stderr",
     "output_type": "stream",
     "text": [
      "[TensorRT] ERROR: Parameter check failed at: engine.cpp::setBindingDimensions::1136, condition: profileMaxDims.d[i] >= dimensions.d[i]\n",
      "[TensorRT] ERROR: safeContext.cpp (184) - Cudnn Error in configure: 7 (CUDNN_STATUS_MAPPING_ERROR)\n",
      "[TensorRT] ERROR: FAILED_EXECUTION: std::exception\n",
      "[TensorRT] ERROR: Parameter check failed at: engine.cpp::setBindingDimensions::1136, condition: profileMaxDims.d[i] >= dimensions.d[i]\n",
      "[TensorRT] ERROR: safeContext.cpp (184) - Cudnn Error in configure: 7 (CUDNN_STATUS_MAPPING_ERROR)\n",
      "[TensorRT] ERROR: FAILED_EXECUTION: std::exception\n",
      "[TensorRT] ERROR: Parameter check failed at: engine.cpp::setBindingDimensions::1136, condition: profileMaxDims.d[i] >= dimensions.d[i]\n",
      "[TensorRT] ERROR: safeContext.cpp (184) - Cudnn Error in configure: 7 (CUDNN_STATUS_MAPPING_ERROR)\n",
      "[TensorRT] ERROR: FAILED_EXECUTION: std::exception\n",
      "[TensorRT] ERROR: Parameter check failed at: engine.cpp::setBindingDimensions::1136, condition: profileMaxDims.d[i] >= dimensions.d[i]\n",
      "[TensorRT] ERROR: safeContext.cpp (184) - Cudnn Error in configure: 7 (CUDNN_STATUS_MAPPING_ERROR)\n",
      "[TensorRT] ERROR: FAILED_EXECUTION: std::exception\n"
     ]
    },
    {
     "name": "stdout",
     "output_type": "stream",
     "text": [
      "Time: 0.054143667221069336\n",
      "Time: 0.05540895462036133\n",
      "Time: 0.05390739440917969\n",
      "Time: 0.05389285087585449\n"
     ]
    },
    {
     "name": "stderr",
     "output_type": "stream",
     "text": [
      "[TensorRT] ERROR: Parameter check failed at: engine.cpp::setBindingDimensions::1136, condition: profileMaxDims.d[i] >= dimensions.d[i]\n",
      "[TensorRT] ERROR: safeContext.cpp (184) - Cudnn Error in configure: 7 (CUDNN_STATUS_MAPPING_ERROR)\n",
      "[TensorRT] ERROR: FAILED_EXECUTION: std::exception\n",
      "[TensorRT] ERROR: Parameter check failed at: engine.cpp::setBindingDimensions::1136, condition: profileMaxDims.d[i] >= dimensions.d[i]\n",
      "[TensorRT] ERROR: safeContext.cpp (184) - Cudnn Error in configure: 7 (CUDNN_STATUS_MAPPING_ERROR)\n",
      "[TensorRT] ERROR: FAILED_EXECUTION: std::exception\n",
      "[TensorRT] ERROR: Parameter check failed at: engine.cpp::setBindingDimensions::1136, condition: profileMaxDims.d[i] >= dimensions.d[i]\n",
      "[TensorRT] ERROR: safeContext.cpp (184) - Cudnn Error in configure: 7 (CUDNN_STATUS_MAPPING_ERROR)\n",
      "[TensorRT] ERROR: FAILED_EXECUTION: std::exception\n",
      "[TensorRT] ERROR: Parameter check failed at: engine.cpp::setBindingDimensions::1136, condition: profileMaxDims.d[i] >= dimensions.d[i]\n",
      "[TensorRT] ERROR: safeContext.cpp (184) - Cudnn Error in configure: 7 (CUDNN_STATUS_MAPPING_ERROR)\n",
      "[TensorRT] ERROR: FAILED_EXECUTION: std::exception\n"
     ]
    },
    {
     "name": "stdout",
     "output_type": "stream",
     "text": [
      "Time: 0.05935215950012207\n",
      "Time: 0.053936004638671875\n",
      "Time: 0.053629398345947266\n",
      "Time: 0.0538487434387207\n"
     ]
    },
    {
     "name": "stderr",
     "output_type": "stream",
     "text": [
      "[TensorRT] ERROR: Parameter check failed at: engine.cpp::setBindingDimensions::1136, condition: profileMaxDims.d[i] >= dimensions.d[i]\n",
      "[TensorRT] ERROR: safeContext.cpp (184) - Cudnn Error in configure: 7 (CUDNN_STATUS_MAPPING_ERROR)\n",
      "[TensorRT] ERROR: FAILED_EXECUTION: std::exception\n",
      "[TensorRT] ERROR: Parameter check failed at: engine.cpp::setBindingDimensions::1136, condition: profileMaxDims.d[i] >= dimensions.d[i]\n",
      "[TensorRT] ERROR: safeContext.cpp (184) - Cudnn Error in configure: 7 (CUDNN_STATUS_MAPPING_ERROR)\n",
      "[TensorRT] ERROR: FAILED_EXECUTION: std::exception\n",
      "[TensorRT] ERROR: Parameter check failed at: engine.cpp::setBindingDimensions::1136, condition: profileMaxDims.d[i] >= dimensions.d[i]\n",
      "[TensorRT] ERROR: safeContext.cpp (184) - Cudnn Error in configure: 7 (CUDNN_STATUS_MAPPING_ERROR)\n",
      "[TensorRT] ERROR: FAILED_EXECUTION: std::exception\n",
      "[TensorRT] ERROR: Parameter check failed at: engine.cpp::setBindingDimensions::1136, condition: profileMaxDims.d[i] >= dimensions.d[i]\n",
      "[TensorRT] ERROR: safeContext.cpp (184) - Cudnn Error in configure: 7 (CUDNN_STATUS_MAPPING_ERROR)\n",
      "[TensorRT] ERROR: FAILED_EXECUTION: std::exception\n"
     ]
    },
    {
     "name": "stdout",
     "output_type": "stream",
     "text": [
      "Time: 0.055205583572387695\n",
      "Time: 0.05362892150878906\n",
      "Time: 0.054264068603515625\n",
      "Time: 0.05386996269226074\n"
     ]
    },
    {
     "name": "stderr",
     "output_type": "stream",
     "text": [
      "[TensorRT] ERROR: Parameter check failed at: engine.cpp::setBindingDimensions::1136, condition: profileMaxDims.d[i] >= dimensions.d[i]\n",
      "[TensorRT] ERROR: safeContext.cpp (184) - Cudnn Error in configure: 7 (CUDNN_STATUS_MAPPING_ERROR)\n",
      "[TensorRT] ERROR: FAILED_EXECUTION: std::exception\n",
      "[TensorRT] ERROR: Parameter check failed at: engine.cpp::setBindingDimensions::1136, condition: profileMaxDims.d[i] >= dimensions.d[i]\n",
      "[TensorRT] ERROR: safeContext.cpp (184) - Cudnn Error in configure: 7 (CUDNN_STATUS_MAPPING_ERROR)\n",
      "[TensorRT] ERROR: FAILED_EXECUTION: std::exception\n",
      "[TensorRT] ERROR: Parameter check failed at: engine.cpp::setBindingDimensions::1136, condition: profileMaxDims.d[i] >= dimensions.d[i]\n",
      "[TensorRT] ERROR: safeContext.cpp (184) - Cudnn Error in configure: 7 (CUDNN_STATUS_MAPPING_ERROR)\n",
      "[TensorRT] ERROR: FAILED_EXECUTION: std::exception\n"
     ]
    },
    {
     "name": "stdout",
     "output_type": "stream",
     "text": [
      "Time: 0.05495929718017578\n",
      "Time: 0.05429983139038086\n",
      "Time: 0.11613774299621582\n"
     ]
    },
    {
     "name": "stderr",
     "output_type": "stream",
     "text": [
      "[TensorRT] ERROR: Parameter check failed at: engine.cpp::setBindingDimensions::1136, condition: profileMaxDims.d[i] >= dimensions.d[i]\n",
      "[TensorRT] ERROR: safeContext.cpp (184) - Cudnn Error in configure: 7 (CUDNN_STATUS_MAPPING_ERROR)\n",
      "[TensorRT] ERROR: FAILED_EXECUTION: std::exception\n",
      "[TensorRT] ERROR: Parameter check failed at: engine.cpp::setBindingDimensions::1136, condition: profileMaxDims.d[i] >= dimensions.d[i]\n",
      "[TensorRT] ERROR: safeContext.cpp (184) - Cudnn Error in configure: 7 (CUDNN_STATUS_MAPPING_ERROR)\n",
      "[TensorRT] ERROR: FAILED_EXECUTION: std::exception\n",
      "[TensorRT] ERROR: Parameter check failed at: engine.cpp::setBindingDimensions::1136, condition: profileMaxDims.d[i] >= dimensions.d[i]\n",
      "[TensorRT] ERROR: safeContext.cpp (184) - Cudnn Error in configure: 7 (CUDNN_STATUS_MAPPING_ERROR)\n",
      "[TensorRT] ERROR: FAILED_EXECUTION: std::exception\n",
      "[TensorRT] ERROR: Parameter check failed at: engine.cpp::setBindingDimensions::1136, condition: profileMaxDims.d[i] >= dimensions.d[i]\n",
      "[TensorRT] ERROR: safeContext.cpp (184) - Cudnn Error in configure: 7 (CUDNN_STATUS_MAPPING_ERROR)\n",
      "[TensorRT] ERROR: FAILED_EXECUTION: std::exception\n"
     ]
    },
    {
     "name": "stdout",
     "output_type": "stream",
     "text": [
      "Time: 0.0575709342956543\n",
      "Time: 0.0534825325012207\n",
      "Time: 0.053492069244384766\n",
      "Time: 0.06009507179260254\n"
     ]
    },
    {
     "name": "stderr",
     "output_type": "stream",
     "text": [
      "[TensorRT] ERROR: Parameter check failed at: engine.cpp::setBindingDimensions::1136, condition: profileMaxDims.d[i] >= dimensions.d[i]\n",
      "[TensorRT] ERROR: safeContext.cpp (184) - Cudnn Error in configure: 7 (CUDNN_STATUS_MAPPING_ERROR)\n",
      "[TensorRT] ERROR: FAILED_EXECUTION: std::exception\n",
      "[TensorRT] ERROR: Parameter check failed at: engine.cpp::setBindingDimensions::1136, condition: profileMaxDims.d[i] >= dimensions.d[i]\n",
      "[TensorRT] ERROR: safeContext.cpp (184) - Cudnn Error in configure: 7 (CUDNN_STATUS_MAPPING_ERROR)\n",
      "[TensorRT] ERROR: FAILED_EXECUTION: std::exception\n",
      "[TensorRT] ERROR: Parameter check failed at: engine.cpp::setBindingDimensions::1136, condition: profileMaxDims.d[i] >= dimensions.d[i]\n",
      "[TensorRT] ERROR: safeContext.cpp (184) - Cudnn Error in configure: 7 (CUDNN_STATUS_MAPPING_ERROR)\n",
      "[TensorRT] ERROR: FAILED_EXECUTION: std::exception\n"
     ]
    },
    {
     "name": "stdout",
     "output_type": "stream",
     "text": [
      "Time: 0.06071782112121582\n",
      "Time: 0.08136630058288574\n",
      "Time: 0.05613970756530762\n"
     ]
    },
    {
     "name": "stderr",
     "output_type": "stream",
     "text": [
      "[TensorRT] ERROR: Parameter check failed at: engine.cpp::setBindingDimensions::1136, condition: profileMaxDims.d[i] >= dimensions.d[i]\n",
      "[TensorRT] ERROR: safeContext.cpp (184) - Cudnn Error in configure: 7 (CUDNN_STATUS_MAPPING_ERROR)\n",
      "[TensorRT] ERROR: FAILED_EXECUTION: std::exception\n",
      "[TensorRT] ERROR: Parameter check failed at: engine.cpp::setBindingDimensions::1136, condition: profileMaxDims.d[i] >= dimensions.d[i]\n",
      "[TensorRT] ERROR: safeContext.cpp (184) - Cudnn Error in configure: 7 (CUDNN_STATUS_MAPPING_ERROR)\n",
      "[TensorRT] ERROR: FAILED_EXECUTION: std::exception\n",
      "[TensorRT] ERROR: Parameter check failed at: engine.cpp::setBindingDimensions::1136, condition: profileMaxDims.d[i] >= dimensions.d[i]\n",
      "[TensorRT] ERROR: safeContext.cpp (184) - Cudnn Error in configure: 7 (CUDNN_STATUS_MAPPING_ERROR)\n",
      "[TensorRT] ERROR: FAILED_EXECUTION: std::exception\n",
      "[TensorRT] ERROR: Parameter check failed at: engine.cpp::setBindingDimensions::1136, condition: profileMaxDims.d[i] >= dimensions.d[i]\n",
      "[TensorRT] ERROR: safeContext.cpp (184) - Cudnn Error in configure: 7 (CUDNN_STATUS_MAPPING_ERROR)\n",
      "[TensorRT] ERROR: FAILED_EXECUTION: std::exception\n"
     ]
    },
    {
     "name": "stdout",
     "output_type": "stream",
     "text": [
      "Time: 0.0616917610168457\n",
      "Time: 0.056452035903930664\n",
      "Time: 0.056217193603515625\n",
      "Time: 0.057350873947143555\n"
     ]
    },
    {
     "name": "stderr",
     "output_type": "stream",
     "text": [
      "[TensorRT] ERROR: Parameter check failed at: engine.cpp::setBindingDimensions::1136, condition: profileMaxDims.d[i] >= dimensions.d[i]\n",
      "[TensorRT] ERROR: safeContext.cpp (184) - Cudnn Error in configure: 7 (CUDNN_STATUS_MAPPING_ERROR)\n",
      "[TensorRT] ERROR: FAILED_EXECUTION: std::exception\n",
      "[TensorRT] ERROR: Parameter check failed at: engine.cpp::setBindingDimensions::1136, condition: profileMaxDims.d[i] >= dimensions.d[i]\n",
      "[TensorRT] ERROR: safeContext.cpp (184) - Cudnn Error in configure: 7 (CUDNN_STATUS_MAPPING_ERROR)\n",
      "[TensorRT] ERROR: FAILED_EXECUTION: std::exception\n",
      "[TensorRT] ERROR: Parameter check failed at: engine.cpp::setBindingDimensions::1136, condition: profileMaxDims.d[i] >= dimensions.d[i]\n",
      "[TensorRT] ERROR: safeContext.cpp (184) - Cudnn Error in configure: 7 (CUDNN_STATUS_MAPPING_ERROR)\n",
      "[TensorRT] ERROR: FAILED_EXECUTION: std::exception\n"
     ]
    },
    {
     "name": "stdout",
     "output_type": "stream",
     "text": [
      "Time: 0.08320450782775879\n",
      "Time: 0.0782780647277832\n",
      "Time: 0.062341928482055664\n"
     ]
    },
    {
     "name": "stderr",
     "output_type": "stream",
     "text": [
      "[TensorRT] ERROR: Parameter check failed at: engine.cpp::setBindingDimensions::1136, condition: profileMaxDims.d[i] >= dimensions.d[i]\n",
      "[TensorRT] ERROR: safeContext.cpp (184) - Cudnn Error in configure: 7 (CUDNN_STATUS_MAPPING_ERROR)\n",
      "[TensorRT] ERROR: FAILED_EXECUTION: std::exception\n",
      "[TensorRT] ERROR: Parameter check failed at: engine.cpp::setBindingDimensions::1136, condition: profileMaxDims.d[i] >= dimensions.d[i]\n",
      "[TensorRT] ERROR: safeContext.cpp (184) - Cudnn Error in configure: 7 (CUDNN_STATUS_MAPPING_ERROR)\n",
      "[TensorRT] ERROR: FAILED_EXECUTION: std::exception\n",
      "[TensorRT] ERROR: Parameter check failed at: engine.cpp::setBindingDimensions::1136, condition: profileMaxDims.d[i] >= dimensions.d[i]\n",
      "[TensorRT] ERROR: safeContext.cpp (184) - Cudnn Error in configure: 7 (CUDNN_STATUS_MAPPING_ERROR)\n",
      "[TensorRT] ERROR: FAILED_EXECUTION: std::exception\n"
     ]
    },
    {
     "name": "stdout",
     "output_type": "stream",
     "text": [
      "Time: 0.058981895446777344\n",
      "Time: 0.06629562377929688\n",
      "Time: 0.056630849838256836\n"
     ]
    },
    {
     "name": "stderr",
     "output_type": "stream",
     "text": [
      "[TensorRT] ERROR: Parameter check failed at: engine.cpp::setBindingDimensions::1136, condition: profileMaxDims.d[i] >= dimensions.d[i]\n",
      "[TensorRT] ERROR: safeContext.cpp (184) - Cudnn Error in configure: 7 (CUDNN_STATUS_MAPPING_ERROR)\n",
      "[TensorRT] ERROR: FAILED_EXECUTION: std::exception\n",
      "[TensorRT] ERROR: Parameter check failed at: engine.cpp::setBindingDimensions::1136, condition: profileMaxDims.d[i] >= dimensions.d[i]\n",
      "[TensorRT] ERROR: safeContext.cpp (184) - Cudnn Error in configure: 7 (CUDNN_STATUS_MAPPING_ERROR)\n",
      "[TensorRT] ERROR: FAILED_EXECUTION: std::exception\n",
      "[TensorRT] ERROR: Parameter check failed at: engine.cpp::setBindingDimensions::1136, condition: profileMaxDims.d[i] >= dimensions.d[i]\n",
      "[TensorRT] ERROR: safeContext.cpp (184) - Cudnn Error in configure: 7 (CUDNN_STATUS_MAPPING_ERROR)\n",
      "[TensorRT] ERROR: FAILED_EXECUTION: std::exception\n"
     ]
    },
    {
     "name": "stdout",
     "output_type": "stream",
     "text": [
      "Time: 0.08441400527954102\n",
      "Time: 0.06228923797607422\n",
      "Time: 0.05775785446166992\n"
     ]
    },
    {
     "name": "stderr",
     "output_type": "stream",
     "text": [
      "[TensorRT] ERROR: Parameter check failed at: engine.cpp::setBindingDimensions::1136, condition: profileMaxDims.d[i] >= dimensions.d[i]\n",
      "[TensorRT] ERROR: safeContext.cpp (184) - Cudnn Error in configure: 7 (CUDNN_STATUS_MAPPING_ERROR)\n",
      "[TensorRT] ERROR: FAILED_EXECUTION: std::exception\n",
      "[TensorRT] ERROR: Parameter check failed at: engine.cpp::setBindingDimensions::1136, condition: profileMaxDims.d[i] >= dimensions.d[i]\n",
      "[TensorRT] ERROR: safeContext.cpp (184) - Cudnn Error in configure: 7 (CUDNN_STATUS_MAPPING_ERROR)\n",
      "[TensorRT] ERROR: FAILED_EXECUTION: std::exception\n"
     ]
    },
    {
     "name": "stdout",
     "output_type": "stream",
     "text": [
      "Time: 0.08840608596801758\n",
      "Time: 0.09033942222595215\n"
     ]
    },
    {
     "name": "stderr",
     "output_type": "stream",
     "text": [
      "[TensorRT] ERROR: Parameter check failed at: engine.cpp::setBindingDimensions::1136, condition: profileMaxDims.d[i] >= dimensions.d[i]\n",
      "[TensorRT] ERROR: safeContext.cpp (184) - Cudnn Error in configure: 7 (CUDNN_STATUS_MAPPING_ERROR)\n",
      "[TensorRT] ERROR: FAILED_EXECUTION: std::exception\n",
      "[TensorRT] ERROR: Parameter check failed at: engine.cpp::setBindingDimensions::1136, condition: profileMaxDims.d[i] >= dimensions.d[i]\n",
      "[TensorRT] ERROR: safeContext.cpp (184) - Cudnn Error in configure: 7 (CUDNN_STATUS_MAPPING_ERROR)\n",
      "[TensorRT] ERROR: FAILED_EXECUTION: std::exception\n",
      "[TensorRT] ERROR: Parameter check failed at: engine.cpp::setBindingDimensions::1136, condition: profileMaxDims.d[i] >= dimensions.d[i]\n",
      "[TensorRT] ERROR: safeContext.cpp (184) - Cudnn Error in configure: 7 (CUDNN_STATUS_MAPPING_ERROR)\n",
      "[TensorRT] ERROR: FAILED_EXECUTION: std::exception\n"
     ]
    },
    {
     "name": "stdout",
     "output_type": "stream",
     "text": [
      "Time: 0.11868929862976074\n",
      "Time: 0.07062458992004395\n",
      "Time: 0.07715916633605957\n"
     ]
    },
    {
     "name": "stderr",
     "output_type": "stream",
     "text": [
      "[TensorRT] ERROR: Parameter check failed at: engine.cpp::setBindingDimensions::1136, condition: profileMaxDims.d[i] >= dimensions.d[i]\n",
      "[TensorRT] ERROR: safeContext.cpp (184) - Cudnn Error in configure: 7 (CUDNN_STATUS_MAPPING_ERROR)\n",
      "[TensorRT] ERROR: FAILED_EXECUTION: std::exception\n",
      "[TensorRT] ERROR: Parameter check failed at: engine.cpp::setBindingDimensions::1136, condition: profileMaxDims.d[i] >= dimensions.d[i]\n",
      "[TensorRT] ERROR: safeContext.cpp (184) - Cudnn Error in configure: 7 (CUDNN_STATUS_MAPPING_ERROR)\n",
      "[TensorRT] ERROR: FAILED_EXECUTION: std::exception\n",
      "[TensorRT] ERROR: Parameter check failed at: engine.cpp::setBindingDimensions::1136, condition: profileMaxDims.d[i] >= dimensions.d[i]\n"
     ]
    },
    {
     "name": "stdout",
     "output_type": "stream",
     "text": [
      "Time: 0.0835418701171875\n",
      "Time: 0.15187788009643555\n"
     ]
    },
    {
     "name": "stderr",
     "output_type": "stream",
     "text": [
      "[TensorRT] ERROR: safeContext.cpp (184) - Cudnn Error in configure: 7 (CUDNN_STATUS_MAPPING_ERROR)\n",
      "[TensorRT] ERROR: FAILED_EXECUTION: std::exception\n",
      "[TensorRT] ERROR: Parameter check failed at: engine.cpp::setBindingDimensions::1136, condition: profileMaxDims.d[i] >= dimensions.d[i]\n",
      "[TensorRT] ERROR: safeContext.cpp (184) - Cudnn Error in configure: 7 (CUDNN_STATUS_MAPPING_ERROR)\n",
      "[TensorRT] ERROR: FAILED_EXECUTION: std::exception\n",
      "[TensorRT] ERROR: Parameter check failed at: engine.cpp::setBindingDimensions::1136, condition: profileMaxDims.d[i] >= dimensions.d[i]\n",
      "[TensorRT] ERROR: safeContext.cpp (184) - Cudnn Error in configure: 7 (CUDNN_STATUS_MAPPING_ERROR)\n",
      "[TensorRT] ERROR: FAILED_EXECUTION: std::exception\n",
      "[TensorRT] ERROR: Parameter check failed at: engine.cpp::setBindingDimensions::1136, condition: profileMaxDims.d[i] >= dimensions.d[i]\n",
      "[TensorRT] ERROR: safeContext.cpp (184) - Cudnn Error in configure: 7 (CUDNN_STATUS_MAPPING_ERROR)\n",
      "[TensorRT] ERROR: FAILED_EXECUTION: std::exception\n"
     ]
    },
    {
     "name": "stdout",
     "output_type": "stream",
     "text": [
      "Time: 0.04869723320007324\n",
      "Time: 0.06801867485046387\n",
      "Time: 0.07513880729675293\n",
      "Time: 0.053546905517578125\n",
      "Time: 0.08284997940063477\n",
      "Time: 0.058371782302856445\n"
     ]
    },
    {
     "name": "stderr",
     "output_type": "stream",
     "text": [
      "[TensorRT] ERROR: Parameter check failed at: engine.cpp::setBindingDimensions::1136, condition: profileMaxDims.d[i] >= dimensions.d[i]\n",
      "[TensorRT] ERROR: safeContext.cpp (184) - Cudnn Error in configure: 7 (CUDNN_STATUS_MAPPING_ERROR)\n",
      "[TensorRT] ERROR: FAILED_EXECUTION: std::exception\n",
      "[TensorRT] ERROR: Parameter check failed at: engine.cpp::setBindingDimensions::1136, condition: profileMaxDims.d[i] >= dimensions.d[i]\n",
      "[TensorRT] ERROR: safeContext.cpp (184) - Cudnn Error in configure: 7 (CUDNN_STATUS_MAPPING_ERROR)\n",
      "[TensorRT] ERROR: FAILED_EXECUTION: std::exception\n",
      "[TensorRT] ERROR: Parameter check failed at: engine.cpp::setBindingDimensions::1136, condition: profileMaxDims.d[i] >= dimensions.d[i]\n",
      "[TensorRT] ERROR: safeContext.cpp (184) - Cudnn Error in configure: 7 (CUDNN_STATUS_MAPPING_ERROR)\n",
      "[TensorRT] ERROR: FAILED_EXECUTION: std::exception\n",
      "[TensorRT] ERROR: Parameter check failed at: engine.cpp::setBindingDimensions::1136, condition: profileMaxDims.d[i] >= dimensions.d[i]\n",
      "[TensorRT] ERROR: safeContext.cpp (184) - Cudnn Error in configure: 7 (CUDNN_STATUS_MAPPING_ERROR)\n",
      "[TensorRT] ERROR: FAILED_EXECUTION: std::exception\n"
     ]
    },
    {
     "name": "stdout",
     "output_type": "stream",
     "text": [
      "Time: 0.05655264854431152\n",
      "Time: 0.055674076080322266\n",
      "Time: 0.05664539337158203\n",
      "Time: 0.05579781532287598\n"
     ]
    },
    {
     "name": "stderr",
     "output_type": "stream",
     "text": [
      "[TensorRT] ERROR: Parameter check failed at: engine.cpp::setBindingDimensions::1136, condition: profileMaxDims.d[i] >= dimensions.d[i]\n",
      "[TensorRT] ERROR: safeContext.cpp (184) - Cudnn Error in configure: 7 (CUDNN_STATUS_MAPPING_ERROR)\n",
      "[TensorRT] ERROR: FAILED_EXECUTION: std::exception\n",
      "[TensorRT] ERROR: Parameter check failed at: engine.cpp::setBindingDimensions::1136, condition: profileMaxDims.d[i] >= dimensions.d[i]\n",
      "[TensorRT] ERROR: safeContext.cpp (184) - Cudnn Error in configure: 7 (CUDNN_STATUS_MAPPING_ERROR)\n",
      "[TensorRT] ERROR: FAILED_EXECUTION: std::exception\n",
      "[TensorRT] ERROR: Parameter check failed at: engine.cpp::setBindingDimensions::1136, condition: profileMaxDims.d[i] >= dimensions.d[i]\n",
      "[TensorRT] ERROR: safeContext.cpp (184) - Cudnn Error in configure: 7 (CUDNN_STATUS_MAPPING_ERROR)\n",
      "[TensorRT] ERROR: FAILED_EXECUTION: std::exception\n",
      "[TensorRT] ERROR: Parameter check failed at: engine.cpp::setBindingDimensions::1136, condition: profileMaxDims.d[i] >= dimensions.d[i]\n",
      "[TensorRT] ERROR: safeContext.cpp (184) - Cudnn Error in configure: 7 (CUDNN_STATUS_MAPPING_ERROR)\n",
      "[TensorRT] ERROR: FAILED_EXECUTION: std::exception\n"
     ]
    },
    {
     "name": "stdout",
     "output_type": "stream",
     "text": [
      "Time: 0.056617021560668945\n",
      "Time: 0.056104421615600586\n",
      "Time: 0.05970621109008789\n",
      "Time: 0.055938720703125\n"
     ]
    },
    {
     "name": "stderr",
     "output_type": "stream",
     "text": [
      "[TensorRT] ERROR: Parameter check failed at: engine.cpp::setBindingDimensions::1136, condition: profileMaxDims.d[i] >= dimensions.d[i]\n",
      "[TensorRT] ERROR: safeContext.cpp (184) - Cudnn Error in configure: 7 (CUDNN_STATUS_MAPPING_ERROR)\n",
      "[TensorRT] ERROR: FAILED_EXECUTION: std::exception\n",
      "[TensorRT] ERROR: Parameter check failed at: engine.cpp::setBindingDimensions::1136, condition: profileMaxDims.d[i] >= dimensions.d[i]\n",
      "[TensorRT] ERROR: safeContext.cpp (184) - Cudnn Error in configure: 7 (CUDNN_STATUS_MAPPING_ERROR)\n",
      "[TensorRT] ERROR: FAILED_EXECUTION: std::exception\n",
      "[TensorRT] ERROR: Parameter check failed at: engine.cpp::setBindingDimensions::1136, condition: profileMaxDims.d[i] >= dimensions.d[i]\n",
      "[TensorRT] ERROR: safeContext.cpp (184) - Cudnn Error in configure: 7 (CUDNN_STATUS_MAPPING_ERROR)\n",
      "[TensorRT] ERROR: FAILED_EXECUTION: std::exception\n",
      "[TensorRT] ERROR: Parameter check failed at: engine.cpp::setBindingDimensions::1136, condition: profileMaxDims.d[i] >= dimensions.d[i]\n",
      "[TensorRT] ERROR: safeContext.cpp (184) - Cudnn Error in configure: 7 (CUDNN_STATUS_MAPPING_ERROR)\n",
      "[TensorRT] ERROR: FAILED_EXECUTION: std::exception\n"
     ]
    },
    {
     "name": "stdout",
     "output_type": "stream",
     "text": [
      "Time: 0.05657672882080078\n",
      "Time: 0.05598711967468262\n",
      "Time: 0.06253528594970703\n",
      "Time: 0.0567622184753418\n"
     ]
    },
    {
     "name": "stderr",
     "output_type": "stream",
     "text": [
      "[TensorRT] ERROR: Parameter check failed at: engine.cpp::setBindingDimensions::1136, condition: profileMaxDims.d[i] >= dimensions.d[i]\n",
      "[TensorRT] ERROR: safeContext.cpp (184) - Cudnn Error in configure: 7 (CUDNN_STATUS_MAPPING_ERROR)\n",
      "[TensorRT] ERROR: FAILED_EXECUTION: std::exception\n",
      "[TensorRT] ERROR: Parameter check failed at: engine.cpp::setBindingDimensions::1136, condition: profileMaxDims.d[i] >= dimensions.d[i]\n",
      "[TensorRT] ERROR: safeContext.cpp (184) - Cudnn Error in configure: 7 (CUDNN_STATUS_MAPPING_ERROR)\n",
      "[TensorRT] ERROR: FAILED_EXECUTION: std::exception\n",
      "[TensorRT] ERROR: Parameter check failed at: engine.cpp::setBindingDimensions::1136, condition: profileMaxDims.d[i] >= dimensions.d[i]\n",
      "[TensorRT] ERROR: safeContext.cpp (184) - Cudnn Error in configure: 7 (CUDNN_STATUS_MAPPING_ERROR)\n",
      "[TensorRT] ERROR: FAILED_EXECUTION: std::exception\n",
      "[TensorRT] ERROR: Parameter check failed at: engine.cpp::setBindingDimensions::1136, condition: profileMaxDims.d[i] >= dimensions.d[i]\n",
      "[TensorRT] ERROR: safeContext.cpp (184) - Cudnn Error in configure: 7 (CUDNN_STATUS_MAPPING_ERROR)\n",
      "[TensorRT] ERROR: FAILED_EXECUTION: std::exception\n"
     ]
    },
    {
     "name": "stdout",
     "output_type": "stream",
     "text": [
      "Time: 0.06332087516784668\n",
      "Time: 0.05522632598876953\n",
      "Time: 0.054197072982788086\n",
      "Time: 0.053290367126464844\n"
     ]
    },
    {
     "name": "stderr",
     "output_type": "stream",
     "text": [
      "[TensorRT] ERROR: Parameter check failed at: engine.cpp::setBindingDimensions::1136, condition: profileMaxDims.d[i] >= dimensions.d[i]\n",
      "[TensorRT] ERROR: safeContext.cpp (184) - Cudnn Error in configure: 7 (CUDNN_STATUS_MAPPING_ERROR)\n",
      "[TensorRT] ERROR: FAILED_EXECUTION: std::exception\n",
      "[TensorRT] ERROR: Parameter check failed at: engine.cpp::setBindingDimensions::1136, condition: profileMaxDims.d[i] >= dimensions.d[i]\n",
      "[TensorRT] ERROR: safeContext.cpp (184) - Cudnn Error in configure: 7 (CUDNN_STATUS_MAPPING_ERROR)\n",
      "[TensorRT] ERROR: FAILED_EXECUTION: std::exception\n",
      "[TensorRT] ERROR: Parameter check failed at: engine.cpp::setBindingDimensions::1136, condition: profileMaxDims.d[i] >= dimensions.d[i]\n",
      "[TensorRT] ERROR: safeContext.cpp (184) - Cudnn Error in configure: 7 (CUDNN_STATUS_MAPPING_ERROR)\n",
      "[TensorRT] ERROR: FAILED_EXECUTION: std::exception\n",
      "[TensorRT] ERROR: Parameter check failed at: engine.cpp::setBindingDimensions::1136, condition: profileMaxDims.d[i] >= dimensions.d[i]\n",
      "[TensorRT] ERROR: safeContext.cpp (184) - Cudnn Error in configure: 7 (CUDNN_STATUS_MAPPING_ERROR)\n",
      "[TensorRT] ERROR: FAILED_EXECUTION: std::exception\n"
     ]
    },
    {
     "name": "stdout",
     "output_type": "stream",
     "text": [
      "Time: 0.05421137809753418\n",
      "Time: 0.05352020263671875\n",
      "Time: 0.05435657501220703\n",
      "Time: 0.058793067932128906\n",
      "Idx: 1300\n"
     ]
    },
    {
     "name": "stderr",
     "output_type": "stream",
     "text": [
      "[TensorRT] ERROR: Parameter check failed at: engine.cpp::setBindingDimensions::1136, condition: profileMaxDims.d[i] >= dimensions.d[i]\n",
      "[TensorRT] ERROR: safeContext.cpp (184) - Cudnn Error in configure: 7 (CUDNN_STATUS_MAPPING_ERROR)\n",
      "[TensorRT] ERROR: FAILED_EXECUTION: std::exception\n",
      "[TensorRT] ERROR: Parameter check failed at: engine.cpp::setBindingDimensions::1136, condition: profileMaxDims.d[i] >= dimensions.d[i]\n",
      "[TensorRT] ERROR: safeContext.cpp (184) - Cudnn Error in configure: 7 (CUDNN_STATUS_MAPPING_ERROR)\n",
      "[TensorRT] ERROR: FAILED_EXECUTION: std::exception\n",
      "[TensorRT] ERROR: Parameter check failed at: engine.cpp::setBindingDimensions::1136, condition: profileMaxDims.d[i] >= dimensions.d[i]\n",
      "[TensorRT] ERROR: safeContext.cpp (184) - Cudnn Error in configure: 7 (CUDNN_STATUS_MAPPING_ERROR)\n",
      "[TensorRT] ERROR: FAILED_EXECUTION: std::exception\n",
      "[TensorRT] ERROR: Parameter check failed at: engine.cpp::setBindingDimensions::1136, condition: profileMaxDims.d[i] >= dimensions.d[i]\n",
      "[TensorRT] ERROR: safeContext.cpp (184) - Cudnn Error in configure: 7 (CUDNN_STATUS_MAPPING_ERROR)\n",
      "[TensorRT] ERROR: FAILED_EXECUTION: std::exception\n"
     ]
    },
    {
     "name": "stdout",
     "output_type": "stream",
     "text": [
      "Time: 0.05417943000793457\n",
      "Time: 0.05355381965637207\n",
      "Time: 0.05571126937866211\n",
      "Time: 0.05960369110107422\n"
     ]
    },
    {
     "name": "stderr",
     "output_type": "stream",
     "text": [
      "[TensorRT] ERROR: Parameter check failed at: engine.cpp::setBindingDimensions::1136, condition: profileMaxDims.d[i] >= dimensions.d[i]\n",
      "[TensorRT] ERROR: safeContext.cpp (184) - Cudnn Error in configure: 7 (CUDNN_STATUS_MAPPING_ERROR)\n",
      "[TensorRT] ERROR: FAILED_EXECUTION: std::exception\n",
      "[TensorRT] ERROR: Parameter check failed at: engine.cpp::setBindingDimensions::1136, condition: profileMaxDims.d[i] >= dimensions.d[i]\n",
      "[TensorRT] ERROR: safeContext.cpp (184) - Cudnn Error in configure: 7 (CUDNN_STATUS_MAPPING_ERROR)\n",
      "[TensorRT] ERROR: FAILED_EXECUTION: std::exception\n",
      "[TensorRT] ERROR: Parameter check failed at: engine.cpp::setBindingDimensions::1136, condition: profileMaxDims.d[i] >= dimensions.d[i]\n",
      "[TensorRT] ERROR: safeContext.cpp (184) - Cudnn Error in configure: 7 (CUDNN_STATUS_MAPPING_ERROR)\n",
      "[TensorRT] ERROR: FAILED_EXECUTION: std::exception\n",
      "[TensorRT] ERROR: Parameter check failed at: engine.cpp::setBindingDimensions::1136, condition: profileMaxDims.d[i] >= dimensions.d[i]\n",
      "[TensorRT] ERROR: safeContext.cpp (184) - Cudnn Error in configure: 7 (CUDNN_STATUS_MAPPING_ERROR)\n",
      "[TensorRT] ERROR: FAILED_EXECUTION: std::exception\n"
     ]
    },
    {
     "name": "stdout",
     "output_type": "stream",
     "text": [
      "Time: 0.0542140007019043\n",
      "Time: 0.0737302303314209\n",
      "Time: 0.0455472469329834\n",
      "Time: 0.04372859001159668\n"
     ]
    },
    {
     "name": "stderr",
     "output_type": "stream",
     "text": [
      "[TensorRT] ERROR: Parameter check failed at: engine.cpp::setBindingDimensions::1136, condition: profileMaxDims.d[i] >= dimensions.d[i]\n",
      "[TensorRT] ERROR: safeContext.cpp (184) - Cudnn Error in configure: 7 (CUDNN_STATUS_MAPPING_ERROR)\n",
      "[TensorRT] ERROR: FAILED_EXECUTION: std::exception\n",
      "[TensorRT] ERROR: Parameter check failed at: engine.cpp::setBindingDimensions::1136, condition: profileMaxDims.d[i] >= dimensions.d[i]\n",
      "[TensorRT] ERROR: safeContext.cpp (184) - Cudnn Error in configure: 7 (CUDNN_STATUS_MAPPING_ERROR)\n",
      "[TensorRT] ERROR: FAILED_EXECUTION: std::exception\n",
      "[TensorRT] ERROR: Parameter check failed at: engine.cpp::setBindingDimensions::1136, condition: profileMaxDims.d[i] >= dimensions.d[i]\n",
      "[TensorRT] ERROR: safeContext.cpp (184) - Cudnn Error in configure: 7 (CUDNN_STATUS_MAPPING_ERROR)\n",
      "[TensorRT] ERROR: FAILED_EXECUTION: std::exception\n",
      "[TensorRT] ERROR: Parameter check failed at: engine.cpp::setBindingDimensions::1136, condition: profileMaxDims.d[i] >= dimensions.d[i]\n",
      "[TensorRT] ERROR: safeContext.cpp (184) - Cudnn Error in configure: 7 (CUDNN_STATUS_MAPPING_ERROR)\n",
      "[TensorRT] ERROR: FAILED_EXECUTION: std::exception\n",
      "[TensorRT] ERROR: Parameter check failed at: engine.cpp::setBindingDimensions::1136, condition: profileMaxDims.d[i] >= dimensions.d[i]\n",
      "[TensorRT] ERROR: safeContext.cpp (184) - Cudnn Error in configure: 7 (CUDNN_STATUS_MAPPING_ERROR)\n",
      "[TensorRT] ERROR: FAILED_EXECUTION: std::exception\n"
     ]
    },
    {
     "name": "stdout",
     "output_type": "stream",
     "text": [
      "Time: 0.04509711265563965\n",
      "Time: 0.04699587821960449\n",
      "Time: 0.05775189399719238\n",
      "Time: 0.05429840087890625\n"
     ]
    },
    {
     "name": "stderr",
     "output_type": "stream",
     "text": [
      "[TensorRT] ERROR: Parameter check failed at: engine.cpp::setBindingDimensions::1136, condition: profileMaxDims.d[i] >= dimensions.d[i]\n",
      "[TensorRT] ERROR: safeContext.cpp (184) - Cudnn Error in configure: 7 (CUDNN_STATUS_MAPPING_ERROR)\n",
      "[TensorRT] ERROR: FAILED_EXECUTION: std::exception\n",
      "[TensorRT] ERROR: Parameter check failed at: engine.cpp::setBindingDimensions::1136, condition: profileMaxDims.d[i] >= dimensions.d[i]\n",
      "[TensorRT] ERROR: safeContext.cpp (184) - Cudnn Error in configure: 7 (CUDNN_STATUS_MAPPING_ERROR)\n",
      "[TensorRT] ERROR: FAILED_EXECUTION: std::exception\n",
      "[TensorRT] ERROR: Parameter check failed at: engine.cpp::setBindingDimensions::1136, condition: profileMaxDims.d[i] >= dimensions.d[i]\n",
      "[TensorRT] ERROR: safeContext.cpp (184) - Cudnn Error in configure: 7 (CUDNN_STATUS_MAPPING_ERROR)\n",
      "[TensorRT] ERROR: FAILED_EXECUTION: std::exception\n",
      "[TensorRT] ERROR: Parameter check failed at: engine.cpp::setBindingDimensions::1136, condition: profileMaxDims.d[i] >= dimensions.d[i]\n",
      "[TensorRT] ERROR: safeContext.cpp (184) - Cudnn Error in configure: 7 (CUDNN_STATUS_MAPPING_ERROR)\n",
      "[TensorRT] ERROR: FAILED_EXECUTION: std::exception\n",
      "[TensorRT] ERROR: Parameter check failed at: engine.cpp::setBindingDimensions::1136, condition: profileMaxDims.d[i] >= dimensions.d[i]\n",
      "[TensorRT] ERROR: safeContext.cpp (184) - Cudnn Error in configure: 7 (CUDNN_STATUS_MAPPING_ERROR)\n",
      "[TensorRT] ERROR: FAILED_EXECUTION: std::exception\n"
     ]
    },
    {
     "name": "stdout",
     "output_type": "stream",
     "text": [
      "Time: 0.04662895202636719\n",
      "Time: 0.04580974578857422\n",
      "Time: 0.0545964241027832\n",
      "Time: 0.05083203315734863\n"
     ]
    },
    {
     "name": "stderr",
     "output_type": "stream",
     "text": [
      "[TensorRT] ERROR: Parameter check failed at: engine.cpp::setBindingDimensions::1136, condition: profileMaxDims.d[i] >= dimensions.d[i]\n",
      "[TensorRT] ERROR: safeContext.cpp (184) - Cudnn Error in configure: 7 (CUDNN_STATUS_MAPPING_ERROR)\n",
      "[TensorRT] ERROR: FAILED_EXECUTION: std::exception\n",
      "[TensorRT] ERROR: Parameter check failed at: engine.cpp::setBindingDimensions::1136, condition: profileMaxDims.d[i] >= dimensions.d[i]\n",
      "[TensorRT] ERROR: safeContext.cpp (184) - Cudnn Error in configure: 7 (CUDNN_STATUS_MAPPING_ERROR)\n",
      "[TensorRT] ERROR: FAILED_EXECUTION: std::exception\n",
      "[TensorRT] ERROR: Parameter check failed at: engine.cpp::setBindingDimensions::1136, condition: profileMaxDims.d[i] >= dimensions.d[i]\n",
      "[TensorRT] ERROR: safeContext.cpp (184) - Cudnn Error in configure: 7 (CUDNN_STATUS_MAPPING_ERROR)\n",
      "[TensorRT] ERROR: FAILED_EXECUTION: std::exception\n",
      "[TensorRT] ERROR: Parameter check failed at: engine.cpp::setBindingDimensions::1136, condition: profileMaxDims.d[i] >= dimensions.d[i]\n",
      "[TensorRT] ERROR: safeContext.cpp (184) - Cudnn Error in configure: 7 (CUDNN_STATUS_MAPPING_ERROR)\n",
      "[TensorRT] ERROR: FAILED_EXECUTION: std::exception\n"
     ]
    },
    {
     "name": "stdout",
     "output_type": "stream",
     "text": [
      "Time: 0.04842686653137207\n",
      "Time: 0.05745267868041992\n",
      "Time: 0.05104660987854004\n",
      "Time: 0.04871106147766113\n"
     ]
    },
    {
     "name": "stderr",
     "output_type": "stream",
     "text": [
      "[TensorRT] ERROR: Parameter check failed at: engine.cpp::setBindingDimensions::1136, condition: profileMaxDims.d[i] >= dimensions.d[i]\n",
      "[TensorRT] ERROR: safeContext.cpp (184) - Cudnn Error in configure: 7 (CUDNN_STATUS_MAPPING_ERROR)\n",
      "[TensorRT] ERROR: FAILED_EXECUTION: std::exception\n",
      "[TensorRT] ERROR: Parameter check failed at: engine.cpp::setBindingDimensions::1136, condition: profileMaxDims.d[i] >= dimensions.d[i]\n",
      "[TensorRT] ERROR: safeContext.cpp (184) - Cudnn Error in configure: 7 (CUDNN_STATUS_MAPPING_ERROR)\n",
      "[TensorRT] ERROR: FAILED_EXECUTION: std::exception\n",
      "[TensorRT] ERROR: Parameter check failed at: engine.cpp::setBindingDimensions::1136, condition: profileMaxDims.d[i] >= dimensions.d[i]\n",
      "[TensorRT] ERROR: safeContext.cpp (184) - Cudnn Error in configure: 7 (CUDNN_STATUS_MAPPING_ERROR)\n",
      "[TensorRT] ERROR: FAILED_EXECUTION: std::exception\n",
      "[TensorRT] ERROR: Parameter check failed at: engine.cpp::setBindingDimensions::1136, condition: profileMaxDims.d[i] >= dimensions.d[i]\n",
      "[TensorRT] ERROR: safeContext.cpp (184) - Cudnn Error in configure: 7 (CUDNN_STATUS_MAPPING_ERROR)\n",
      "[TensorRT] ERROR: FAILED_EXECUTION: std::exception\n"
     ]
    },
    {
     "name": "stdout",
     "output_type": "stream",
     "text": [
      "Time: 0.06951594352722168\n",
      "Time: 0.044893503189086914\n",
      "Time: 0.06077265739440918\n",
      "Time: 0.04428696632385254\n"
     ]
    },
    {
     "name": "stderr",
     "output_type": "stream",
     "text": [
      "[TensorRT] ERROR: Parameter check failed at: engine.cpp::setBindingDimensions::1136, condition: profileMaxDims.d[i] >= dimensions.d[i]\n",
      "[TensorRT] ERROR: safeContext.cpp (184) - Cudnn Error in configure: 7 (CUDNN_STATUS_MAPPING_ERROR)\n",
      "[TensorRT] ERROR: FAILED_EXECUTION: std::exception\n",
      "[TensorRT] ERROR: Parameter check failed at: engine.cpp::setBindingDimensions::1136, condition: profileMaxDims.d[i] >= dimensions.d[i]\n",
      "[TensorRT] ERROR: safeContext.cpp (184) - Cudnn Error in configure: 7 (CUDNN_STATUS_MAPPING_ERROR)\n",
      "[TensorRT] ERROR: FAILED_EXECUTION: std::exception\n",
      "[TensorRT] ERROR: Parameter check failed at: engine.cpp::setBindingDimensions::1136, condition: profileMaxDims.d[i] >= dimensions.d[i]\n",
      "[TensorRT] ERROR: safeContext.cpp (184) - Cudnn Error in configure: 7 (CUDNN_STATUS_MAPPING_ERROR)\n",
      "[TensorRT] ERROR: FAILED_EXECUTION: std::exception\n",
      "[TensorRT] ERROR: Parameter check failed at: engine.cpp::setBindingDimensions::1136, condition: profileMaxDims.d[i] >= dimensions.d[i]\n",
      "[TensorRT] ERROR: safeContext.cpp (184) - Cudnn Error in configure: 7 (CUDNN_STATUS_MAPPING_ERROR)\n",
      "[TensorRT] ERROR: FAILED_EXECUTION: std::exception\n"
     ]
    },
    {
     "name": "stdout",
     "output_type": "stream",
     "text": [
      "Time: 0.060546875\n",
      "Time: 0.05428481101989746\n",
      "Time: 0.05140280723571777\n",
      "Time: 0.05235099792480469\n"
     ]
    },
    {
     "name": "stderr",
     "output_type": "stream",
     "text": [
      "[TensorRT] ERROR: Parameter check failed at: engine.cpp::setBindingDimensions::1136, condition: profileMaxDims.d[i] >= dimensions.d[i]\n",
      "[TensorRT] ERROR: safeContext.cpp (184) - Cudnn Error in configure: 7 (CUDNN_STATUS_MAPPING_ERROR)\n",
      "[TensorRT] ERROR: FAILED_EXECUTION: std::exception\n",
      "[TensorRT] ERROR: Parameter check failed at: engine.cpp::setBindingDimensions::1136, condition: profileMaxDims.d[i] >= dimensions.d[i]\n",
      "[TensorRT] ERROR: safeContext.cpp (184) - Cudnn Error in configure: 7 (CUDNN_STATUS_MAPPING_ERROR)\n",
      "[TensorRT] ERROR: FAILED_EXECUTION: std::exception\n",
      "[TensorRT] ERROR: Parameter check failed at: engine.cpp::setBindingDimensions::1136, condition: profileMaxDims.d[i] >= dimensions.d[i]\n",
      "[TensorRT] ERROR: safeContext.cpp (184) - Cudnn Error in configure: 7 (CUDNN_STATUS_MAPPING_ERROR)\n",
      "[TensorRT] ERROR: FAILED_EXECUTION: std::exception\n",
      "[TensorRT] ERROR: Parameter check failed at: engine.cpp::setBindingDimensions::1136, condition: profileMaxDims.d[i] >= dimensions.d[i]\n",
      "[TensorRT] ERROR: safeContext.cpp (184) - Cudnn Error in configure: 7 (CUDNN_STATUS_MAPPING_ERROR)\n",
      "[TensorRT] ERROR: FAILED_EXECUTION: std::exception\n"
     ]
    },
    {
     "name": "stdout",
     "output_type": "stream",
     "text": [
      "Time: 0.05240011215209961\n",
      "Time: 0.06106162071228027\n",
      "Time: 0.056958913803100586\n",
      "Time: 0.06390833854675293\n"
     ]
    },
    {
     "name": "stderr",
     "output_type": "stream",
     "text": [
      "[TensorRT] ERROR: Parameter check failed at: engine.cpp::setBindingDimensions::1136, condition: profileMaxDims.d[i] >= dimensions.d[i]\n",
      "[TensorRT] ERROR: safeContext.cpp (184) - Cudnn Error in configure: 7 (CUDNN_STATUS_MAPPING_ERROR)\n",
      "[TensorRT] ERROR: FAILED_EXECUTION: std::exception\n",
      "[TensorRT] ERROR: Parameter check failed at: engine.cpp::setBindingDimensions::1136, condition: profileMaxDims.d[i] >= dimensions.d[i]\n",
      "[TensorRT] ERROR: safeContext.cpp (184) - Cudnn Error in configure: 7 (CUDNN_STATUS_MAPPING_ERROR)\n",
      "[TensorRT] ERROR: FAILED_EXECUTION: std::exception\n",
      "[TensorRT] ERROR: Parameter check failed at: engine.cpp::setBindingDimensions::1136, condition: profileMaxDims.d[i] >= dimensions.d[i]\n",
      "[TensorRT] ERROR: safeContext.cpp (184) - Cudnn Error in configure: 7 (CUDNN_STATUS_MAPPING_ERROR)\n",
      "[TensorRT] ERROR: FAILED_EXECUTION: std::exception\n",
      "[TensorRT] ERROR: Parameter check failed at: engine.cpp::setBindingDimensions::1136, condition: profileMaxDims.d[i] >= dimensions.d[i]\n",
      "[TensorRT] ERROR: safeContext.cpp (184) - Cudnn Error in configure: 7 (CUDNN_STATUS_MAPPING_ERROR)\n",
      "[TensorRT] ERROR: FAILED_EXECUTION: std::exception\n"
     ]
    },
    {
     "name": "stdout",
     "output_type": "stream",
     "text": [
      "Time: 0.057080745697021484\n",
      "Time: 0.056974172592163086\n",
      "Time: 0.07891702651977539\n",
      "Time: 0.056342363357543945\n"
     ]
    },
    {
     "name": "stderr",
     "output_type": "stream",
     "text": [
      "[TensorRT] ERROR: Parameter check failed at: engine.cpp::setBindingDimensions::1136, condition: profileMaxDims.d[i] >= dimensions.d[i]\n",
      "[TensorRT] ERROR: safeContext.cpp (184) - Cudnn Error in configure: 7 (CUDNN_STATUS_MAPPING_ERROR)\n",
      "[TensorRT] ERROR: FAILED_EXECUTION: std::exception\n",
      "[TensorRT] ERROR: Parameter check failed at: engine.cpp::setBindingDimensions::1136, condition: profileMaxDims.d[i] >= dimensions.d[i]\n",
      "[TensorRT] ERROR: safeContext.cpp (184) - Cudnn Error in configure: 7 (CUDNN_STATUS_MAPPING_ERROR)\n",
      "[TensorRT] ERROR: FAILED_EXECUTION: std::exception\n",
      "[TensorRT] ERROR: Parameter check failed at: engine.cpp::setBindingDimensions::1136, condition: profileMaxDims.d[i] >= dimensions.d[i]\n",
      "[TensorRT] ERROR: safeContext.cpp (184) - Cudnn Error in configure: 7 (CUDNN_STATUS_MAPPING_ERROR)\n",
      "[TensorRT] ERROR: FAILED_EXECUTION: std::exception\n",
      "[TensorRT] ERROR: Parameter check failed at: engine.cpp::setBindingDimensions::1136, condition: profileMaxDims.d[i] >= dimensions.d[i]\n",
      "[TensorRT] ERROR: safeContext.cpp (184) - Cudnn Error in configure: 7 (CUDNN_STATUS_MAPPING_ERROR)\n",
      "[TensorRT] ERROR: FAILED_EXECUTION: std::exception\n"
     ]
    },
    {
     "name": "stdout",
     "output_type": "stream",
     "text": [
      "Time: 0.056976318359375\n",
      "Time: 0.057004451751708984\n",
      "Time: 0.056594133377075195\n",
      "Time: 0.05955696105957031\n"
     ]
    },
    {
     "name": "stderr",
     "output_type": "stream",
     "text": [
      "[TensorRT] ERROR: Parameter check failed at: engine.cpp::setBindingDimensions::1136, condition: profileMaxDims.d[i] >= dimensions.d[i]\n",
      "[TensorRT] ERROR: safeContext.cpp (184) - Cudnn Error in configure: 7 (CUDNN_STATUS_MAPPING_ERROR)\n",
      "[TensorRT] ERROR: FAILED_EXECUTION: std::exception\n",
      "[TensorRT] ERROR: Parameter check failed at: engine.cpp::setBindingDimensions::1136, condition: profileMaxDims.d[i] >= dimensions.d[i]\n",
      "[TensorRT] ERROR: safeContext.cpp (184) - Cudnn Error in configure: 7 (CUDNN_STATUS_MAPPING_ERROR)\n",
      "[TensorRT] ERROR: FAILED_EXECUTION: std::exception\n",
      "[TensorRT] ERROR: Parameter check failed at: engine.cpp::setBindingDimensions::1136, condition: profileMaxDims.d[i] >= dimensions.d[i]\n",
      "[TensorRT] ERROR: safeContext.cpp (184) - Cudnn Error in configure: 7 (CUDNN_STATUS_MAPPING_ERROR)\n",
      "[TensorRT] ERROR: FAILED_EXECUTION: std::exception\n",
      "[TensorRT] ERROR: Parameter check failed at: engine.cpp::setBindingDimensions::1136, condition: profileMaxDims.d[i] >= dimensions.d[i]\n",
      "[TensorRT] ERROR: safeContext.cpp (184) - Cudnn Error in configure: 7 (CUDNN_STATUS_MAPPING_ERROR)\n",
      "[TensorRT] ERROR: FAILED_EXECUTION: std::exception\n"
     ]
    },
    {
     "name": "stdout",
     "output_type": "stream",
     "text": [
      "Time: 0.05784034729003906\n",
      "Time: 0.056735992431640625\n",
      "Time: 0.06324148178100586\n",
      "Time: 0.056842803955078125\n"
     ]
    },
    {
     "name": "stderr",
     "output_type": "stream",
     "text": [
      "[TensorRT] ERROR: Parameter check failed at: engine.cpp::setBindingDimensions::1136, condition: profileMaxDims.d[i] >= dimensions.d[i]\n",
      "[TensorRT] ERROR: safeContext.cpp (184) - Cudnn Error in configure: 7 (CUDNN_STATUS_MAPPING_ERROR)\n",
      "[TensorRT] ERROR: FAILED_EXECUTION: std::exception\n",
      "[TensorRT] ERROR: Parameter check failed at: engine.cpp::setBindingDimensions::1136, condition: profileMaxDims.d[i] >= dimensions.d[i]\n",
      "[TensorRT] ERROR: safeContext.cpp (184) - Cudnn Error in configure: 7 (CUDNN_STATUS_MAPPING_ERROR)\n",
      "[TensorRT] ERROR: FAILED_EXECUTION: std::exception\n",
      "[TensorRT] ERROR: Parameter check failed at: engine.cpp::setBindingDimensions::1136, condition: profileMaxDims.d[i] >= dimensions.d[i]\n",
      "[TensorRT] ERROR: safeContext.cpp (184) - Cudnn Error in configure: 7 (CUDNN_STATUS_MAPPING_ERROR)\n",
      "[TensorRT] ERROR: FAILED_EXECUTION: std::exception\n",
      "[TensorRT] ERROR: Parameter check failed at: engine.cpp::setBindingDimensions::1136, condition: profileMaxDims.d[i] >= dimensions.d[i]\n",
      "[TensorRT] ERROR: safeContext.cpp (184) - Cudnn Error in configure: 7 (CUDNN_STATUS_MAPPING_ERROR)\n",
      "[TensorRT] ERROR: FAILED_EXECUTION: std::exception\n"
     ]
    },
    {
     "name": "stdout",
     "output_type": "stream",
     "text": [
      "Time: 0.057624101638793945\n",
      "Time: 0.05669069290161133\n",
      "Time: 0.05667233467102051\n",
      "Time: 0.06158328056335449\n"
     ]
    },
    {
     "name": "stderr",
     "output_type": "stream",
     "text": [
      "[TensorRT] ERROR: Parameter check failed at: engine.cpp::setBindingDimensions::1136, condition: profileMaxDims.d[i] >= dimensions.d[i]\n",
      "[TensorRT] ERROR: safeContext.cpp (184) - Cudnn Error in configure: 7 (CUDNN_STATUS_MAPPING_ERROR)\n",
      "[TensorRT] ERROR: FAILED_EXECUTION: std::exception\n",
      "[TensorRT] ERROR: Parameter check failed at: engine.cpp::setBindingDimensions::1136, condition: profileMaxDims.d[i] >= dimensions.d[i]\n",
      "[TensorRT] ERROR: safeContext.cpp (184) - Cudnn Error in configure: 7 (CUDNN_STATUS_MAPPING_ERROR)\n",
      "[TensorRT] ERROR: FAILED_EXECUTION: std::exception\n",
      "[TensorRT] ERROR: Parameter check failed at: engine.cpp::setBindingDimensions::1136, condition: profileMaxDims.d[i] >= dimensions.d[i]\n",
      "[TensorRT] ERROR: safeContext.cpp (184) - Cudnn Error in configure: 7 (CUDNN_STATUS_MAPPING_ERROR)\n",
      "[TensorRT] ERROR: FAILED_EXECUTION: std::exception\n",
      "[TensorRT] ERROR: Parameter check failed at: engine.cpp::setBindingDimensions::1136, condition: profileMaxDims.d[i] >= dimensions.d[i]\n",
      "[TensorRT] ERROR: safeContext.cpp (184) - Cudnn Error in configure: 7 (CUDNN_STATUS_MAPPING_ERROR)\n",
      "[TensorRT] ERROR: FAILED_EXECUTION: std::exception\n"
     ]
    },
    {
     "name": "stdout",
     "output_type": "stream",
     "text": [
      "Time: 0.05785846710205078\n",
      "Time: 0.06302595138549805\n",
      "Time: 0.05652570724487305\n",
      "Time: 0.06381964683532715\n"
     ]
    },
    {
     "name": "stderr",
     "output_type": "stream",
     "text": [
      "[TensorRT] ERROR: Parameter check failed at: engine.cpp::setBindingDimensions::1136, condition: profileMaxDims.d[i] >= dimensions.d[i]\n",
      "[TensorRT] ERROR: safeContext.cpp (184) - Cudnn Error in configure: 7 (CUDNN_STATUS_MAPPING_ERROR)\n",
      "[TensorRT] ERROR: FAILED_EXECUTION: std::exception\n",
      "[TensorRT] ERROR: Parameter check failed at: engine.cpp::setBindingDimensions::1136, condition: profileMaxDims.d[i] >= dimensions.d[i]\n",
      "[TensorRT] ERROR: safeContext.cpp (184) - Cudnn Error in configure: 7 (CUDNN_STATUS_MAPPING_ERROR)\n",
      "[TensorRT] ERROR: FAILED_EXECUTION: std::exception\n",
      "[TensorRT] ERROR: Parameter check failed at: engine.cpp::setBindingDimensions::1136, condition: profileMaxDims.d[i] >= dimensions.d[i]\n",
      "[TensorRT] ERROR: safeContext.cpp (184) - Cudnn Error in configure: 7 (CUDNN_STATUS_MAPPING_ERROR)\n",
      "[TensorRT] ERROR: FAILED_EXECUTION: std::exception\n",
      "[TensorRT] ERROR: Parameter check failed at: engine.cpp::setBindingDimensions::1136, condition: profileMaxDims.d[i] >= dimensions.d[i]\n",
      "[TensorRT] ERROR: safeContext.cpp (184) - Cudnn Error in configure: 7 (CUDNN_STATUS_MAPPING_ERROR)\n",
      "[TensorRT] ERROR: FAILED_EXECUTION: std::exception\n"
     ]
    },
    {
     "name": "stdout",
     "output_type": "stream",
     "text": [
      "Time: 0.057833194732666016\n",
      "Time: 0.05702614784240723\n",
      "Time: 0.05674386024475098\n",
      "Time: 0.05669593811035156\n"
     ]
    },
    {
     "name": "stderr",
     "output_type": "stream",
     "text": [
      "[TensorRT] ERROR: Parameter check failed at: engine.cpp::setBindingDimensions::1136, condition: profileMaxDims.d[i] >= dimensions.d[i]\n",
      "[TensorRT] ERROR: safeContext.cpp (184) - Cudnn Error in configure: 7 (CUDNN_STATUS_MAPPING_ERROR)\n",
      "[TensorRT] ERROR: FAILED_EXECUTION: std::exception\n",
      "[TensorRT] ERROR: Parameter check failed at: engine.cpp::setBindingDimensions::1136, condition: profileMaxDims.d[i] >= dimensions.d[i]\n",
      "[TensorRT] ERROR: safeContext.cpp (184) - Cudnn Error in configure: 7 (CUDNN_STATUS_MAPPING_ERROR)\n",
      "[TensorRT] ERROR: FAILED_EXECUTION: std::exception\n",
      "[TensorRT] ERROR: Parameter check failed at: engine.cpp::setBindingDimensions::1136, condition: profileMaxDims.d[i] >= dimensions.d[i]\n",
      "[TensorRT] ERROR: safeContext.cpp (184) - Cudnn Error in configure: 7 (CUDNN_STATUS_MAPPING_ERROR)\n",
      "[TensorRT] ERROR: FAILED_EXECUTION: std::exception\n"
     ]
    },
    {
     "name": "stdout",
     "output_type": "stream",
     "text": [
      "Time: 0.0577702522277832\n",
      "Time: 0.08452630043029785\n",
      "Time: 0.10213375091552734\n"
     ]
    },
    {
     "name": "stderr",
     "output_type": "stream",
     "text": [
      "[TensorRT] ERROR: Parameter check failed at: engine.cpp::setBindingDimensions::1136, condition: profileMaxDims.d[i] >= dimensions.d[i]\n",
      "[TensorRT] ERROR: safeContext.cpp (184) - Cudnn Error in configure: 7 (CUDNN_STATUS_MAPPING_ERROR)\n",
      "[TensorRT] ERROR: FAILED_EXECUTION: std::exception\n",
      "[TensorRT] ERROR: Parameter check failed at: engine.cpp::setBindingDimensions::1136, condition: profileMaxDims.d[i] >= dimensions.d[i]\n",
      "[TensorRT] ERROR: safeContext.cpp (184) - Cudnn Error in configure: 7 (CUDNN_STATUS_MAPPING_ERROR)\n",
      "[TensorRT] ERROR: FAILED_EXECUTION: std::exception\n",
      "[TensorRT] ERROR: Parameter check failed at: engine.cpp::setBindingDimensions::1136, condition: profileMaxDims.d[i] >= dimensions.d[i]\n",
      "[TensorRT] ERROR: safeContext.cpp (184) - Cudnn Error in configure: 7 (CUDNN_STATUS_MAPPING_ERROR)\n",
      "[TensorRT] ERROR: FAILED_EXECUTION: std::exception\n",
      "[TensorRT] ERROR: Parameter check failed at: engine.cpp::setBindingDimensions::1136, condition: profileMaxDims.d[i] >= dimensions.d[i]\n",
      "[TensorRT] ERROR: safeContext.cpp (184) - Cudnn Error in configure: 7 (CUDNN_STATUS_MAPPING_ERROR)\n",
      "[TensorRT] ERROR: FAILED_EXECUTION: std::exception\n"
     ]
    },
    {
     "name": "stdout",
     "output_type": "stream",
     "text": [
      "Time: 0.09372067451477051\n",
      "Time: 0.059302330017089844\n",
      "Time: 0.05767464637756348\n",
      "Time: 0.05971336364746094\n"
     ]
    },
    {
     "name": "stderr",
     "output_type": "stream",
     "text": [
      "[TensorRT] ERROR: Parameter check failed at: engine.cpp::setBindingDimensions::1136, condition: profileMaxDims.d[i] >= dimensions.d[i]\n",
      "[TensorRT] ERROR: safeContext.cpp (184) - Cudnn Error in configure: 7 (CUDNN_STATUS_MAPPING_ERROR)\n",
      "[TensorRT] ERROR: FAILED_EXECUTION: std::exception\n",
      "[TensorRT] ERROR: Parameter check failed at: engine.cpp::setBindingDimensions::1136, condition: profileMaxDims.d[i] >= dimensions.d[i]\n",
      "[TensorRT] ERROR: safeContext.cpp (184) - Cudnn Error in configure: 7 (CUDNN_STATUS_MAPPING_ERROR)\n",
      "[TensorRT] ERROR: FAILED_EXECUTION: std::exception\n",
      "[TensorRT] ERROR: Parameter check failed at: engine.cpp::setBindingDimensions::1136, condition: profileMaxDims.d[i] >= dimensions.d[i]\n",
      "[TensorRT] ERROR: safeContext.cpp (184) - Cudnn Error in configure: 7 (CUDNN_STATUS_MAPPING_ERROR)\n",
      "[TensorRT] ERROR: FAILED_EXECUTION: std::exception\n",
      "[TensorRT] ERROR: Parameter check failed at: engine.cpp::setBindingDimensions::1136, condition: profileMaxDims.d[i] >= dimensions.d[i]\n",
      "[TensorRT] ERROR: safeContext.cpp (184) - Cudnn Error in configure: 7 (CUDNN_STATUS_MAPPING_ERROR)\n",
      "[TensorRT] ERROR: FAILED_EXECUTION: std::exception\n"
     ]
    },
    {
     "name": "stdout",
     "output_type": "stream",
     "text": [
      "Time: 0.05881834030151367\n",
      "Time: 0.06076526641845703\n",
      "Time: 0.0574038028717041\n",
      "Time: 0.06326174736022949\n"
     ]
    },
    {
     "name": "stderr",
     "output_type": "stream",
     "text": [
      "[TensorRT] ERROR: Parameter check failed at: engine.cpp::setBindingDimensions::1136, condition: profileMaxDims.d[i] >= dimensions.d[i]\n",
      "[TensorRT] ERROR: safeContext.cpp (184) - Cudnn Error in configure: 7 (CUDNN_STATUS_MAPPING_ERROR)\n",
      "[TensorRT] ERROR: FAILED_EXECUTION: std::exception\n",
      "[TensorRT] ERROR: Parameter check failed at: engine.cpp::setBindingDimensions::1136, condition: profileMaxDims.d[i] >= dimensions.d[i]\n",
      "[TensorRT] ERROR: safeContext.cpp (184) - Cudnn Error in configure: 7 (CUDNN_STATUS_MAPPING_ERROR)\n",
      "[TensorRT] ERROR: FAILED_EXECUTION: std::exception\n",
      "[TensorRT] ERROR: Parameter check failed at: engine.cpp::setBindingDimensions::1136, condition: profileMaxDims.d[i] >= dimensions.d[i]\n",
      "[TensorRT] ERROR: safeContext.cpp (184) - Cudnn Error in configure: 7 (CUDNN_STATUS_MAPPING_ERROR)\n",
      "[TensorRT] ERROR: FAILED_EXECUTION: std::exception\n",
      "[TensorRT] ERROR: Parameter check failed at: engine.cpp::setBindingDimensions::1136, condition: profileMaxDims.d[i] >= dimensions.d[i]\n",
      "[TensorRT] ERROR: safeContext.cpp (184) - Cudnn Error in configure: 7 (CUDNN_STATUS_MAPPING_ERROR)\n",
      "[TensorRT] ERROR: FAILED_EXECUTION: std::exception\n"
     ]
    },
    {
     "name": "stdout",
     "output_type": "stream",
     "text": [
      "Time: 0.050570011138916016\n",
      "Time: 0.058603525161743164\n",
      "Time: 0.05091404914855957\n",
      "Time: 0.05370473861694336\n"
     ]
    },
    {
     "name": "stderr",
     "output_type": "stream",
     "text": [
      "[TensorRT] ERROR: Parameter check failed at: engine.cpp::setBindingDimensions::1136, condition: profileMaxDims.d[i] >= dimensions.d[i]\n",
      "[TensorRT] ERROR: safeContext.cpp (184) - Cudnn Error in configure: 7 (CUDNN_STATUS_MAPPING_ERROR)\n",
      "[TensorRT] ERROR: FAILED_EXECUTION: std::exception\n",
      "[TensorRT] ERROR: Parameter check failed at: engine.cpp::setBindingDimensions::1136, condition: profileMaxDims.d[i] >= dimensions.d[i]\n",
      "[TensorRT] ERROR: safeContext.cpp (184) - Cudnn Error in configure: 7 (CUDNN_STATUS_MAPPING_ERROR)\n",
      "[TensorRT] ERROR: FAILED_EXECUTION: std::exception\n",
      "[TensorRT] ERROR: Parameter check failed at: engine.cpp::setBindingDimensions::1136, condition: profileMaxDims.d[i] >= dimensions.d[i]\n",
      "[TensorRT] ERROR: safeContext.cpp (184) - Cudnn Error in configure: 7 (CUDNN_STATUS_MAPPING_ERROR)\n",
      "[TensorRT] ERROR: FAILED_EXECUTION: std::exception\n"
     ]
    },
    {
     "name": "stdout",
     "output_type": "stream",
     "text": [
      "Time: 0.05494117736816406\n",
      "Time: 0.0773172378540039\n",
      "Time: 0.08101654052734375\n"
     ]
    },
    {
     "name": "stderr",
     "output_type": "stream",
     "text": [
      "[TensorRT] ERROR: Parameter check failed at: engine.cpp::setBindingDimensions::1136, condition: profileMaxDims.d[i] >= dimensions.d[i]\n",
      "[TensorRT] ERROR: safeContext.cpp (184) - Cudnn Error in configure: 7 (CUDNN_STATUS_MAPPING_ERROR)\n",
      "[TensorRT] ERROR: FAILED_EXECUTION: std::exception\n",
      "[TensorRT] ERROR: Parameter check failed at: engine.cpp::setBindingDimensions::1136, condition: profileMaxDims.d[i] >= dimensions.d[i]\n",
      "[TensorRT] ERROR: safeContext.cpp (184) - Cudnn Error in configure: 7 (CUDNN_STATUS_MAPPING_ERROR)\n",
      "[TensorRT] ERROR: FAILED_EXECUTION: std::exception\n",
      "[TensorRT] ERROR: Parameter check failed at: engine.cpp::setBindingDimensions::1136, condition: profileMaxDims.d[i] >= dimensions.d[i]\n",
      "[TensorRT] ERROR: safeContext.cpp (184) - Cudnn Error in configure: 7 (CUDNN_STATUS_MAPPING_ERROR)\n",
      "[TensorRT] ERROR: FAILED_EXECUTION: std::exception\n",
      "[TensorRT] ERROR: Parameter check failed at: engine.cpp::setBindingDimensions::1136, condition: profileMaxDims.d[i] >= dimensions.d[i]\n",
      "[TensorRT] ERROR: safeContext.cpp (184) - Cudnn Error in configure: 7 (CUDNN_STATUS_MAPPING_ERROR)\n",
      "[TensorRT] ERROR: FAILED_EXECUTION: std::exception\n"
     ]
    },
    {
     "name": "stdout",
     "output_type": "stream",
     "text": [
      "Time: 0.05803060531616211\n",
      "Time: 0.050182342529296875\n",
      "Time: 0.04431724548339844\n",
      "Time: 0.05330467224121094\n"
     ]
    },
    {
     "name": "stderr",
     "output_type": "stream",
     "text": [
      "[TensorRT] ERROR: Parameter check failed at: engine.cpp::setBindingDimensions::1136, condition: profileMaxDims.d[i] >= dimensions.d[i]\n",
      "[TensorRT] ERROR: safeContext.cpp (184) - Cudnn Error in configure: 7 (CUDNN_STATUS_MAPPING_ERROR)\n",
      "[TensorRT] ERROR: FAILED_EXECUTION: std::exception\n",
      "[TensorRT] ERROR: Parameter check failed at: engine.cpp::setBindingDimensions::1136, condition: profileMaxDims.d[i] >= dimensions.d[i]\n",
      "[TensorRT] ERROR: safeContext.cpp (184) - Cudnn Error in configure: 7 (CUDNN_STATUS_MAPPING_ERROR)\n",
      "[TensorRT] ERROR: FAILED_EXECUTION: std::exception\n"
     ]
    },
    {
     "name": "stdout",
     "output_type": "stream",
     "text": [
      "Time: 0.06281638145446777\n",
      "Time: 0.06980681419372559\n"
     ]
    },
    {
     "name": "stderr",
     "output_type": "stream",
     "text": [
      "[TensorRT] ERROR: Parameter check failed at: engine.cpp::setBindingDimensions::1136, condition: profileMaxDims.d[i] >= dimensions.d[i]\n",
      "[TensorRT] ERROR: safeContext.cpp (184) - Cudnn Error in configure: 7 (CUDNN_STATUS_MAPPING_ERROR)\n",
      "[TensorRT] ERROR: FAILED_EXECUTION: std::exception\n",
      "[TensorRT] ERROR: Parameter check failed at: engine.cpp::setBindingDimensions::1136, condition: profileMaxDims.d[i] >= dimensions.d[i]\n",
      "[TensorRT] ERROR: safeContext.cpp (184) - Cudnn Error in configure: 7 (CUDNN_STATUS_MAPPING_ERROR)\n",
      "[TensorRT] ERROR: FAILED_EXECUTION: std::exception\n",
      "[TensorRT] ERROR: Parameter check failed at: engine.cpp::setBindingDimensions::1136, condition: profileMaxDims.d[i] >= dimensions.d[i]\n",
      "[TensorRT] ERROR: safeContext.cpp (184) - Cudnn Error in configure: 7 (CUDNN_STATUS_MAPPING_ERROR)\n",
      "[TensorRT] ERROR: FAILED_EXECUTION: std::exception\n",
      "[TensorRT] ERROR: Parameter check failed at: engine.cpp::setBindingDimensions::1136, condition: profileMaxDims.d[i] >= dimensions.d[i]\n",
      "[TensorRT] ERROR: safeContext.cpp (184) - Cudnn Error in configure: 7 (CUDNN_STATUS_MAPPING_ERROR)\n",
      "[TensorRT] ERROR: FAILED_EXECUTION: std::exception\n"
     ]
    },
    {
     "name": "stdout",
     "output_type": "stream",
     "text": [
      "Time: 0.131880521774292\n",
      "Time: 0.055884361267089844\n",
      "Time: 0.05820322036743164\n",
      "Time: 0.06253886222839355\n"
     ]
    },
    {
     "name": "stderr",
     "output_type": "stream",
     "text": [
      "[TensorRT] ERROR: Parameter check failed at: engine.cpp::setBindingDimensions::1136, condition: profileMaxDims.d[i] >= dimensions.d[i]\n",
      "[TensorRT] ERROR: safeContext.cpp (184) - Cudnn Error in configure: 7 (CUDNN_STATUS_MAPPING_ERROR)\n",
      "[TensorRT] ERROR: FAILED_EXECUTION: std::exception\n",
      "[TensorRT] ERROR: Parameter check failed at: engine.cpp::setBindingDimensions::1136, condition: profileMaxDims.d[i] >= dimensions.d[i]\n",
      "[TensorRT] ERROR: safeContext.cpp (184) - Cudnn Error in configure: 7 (CUDNN_STATUS_MAPPING_ERROR)\n",
      "[TensorRT] ERROR: FAILED_EXECUTION: std::exception\n",
      "[TensorRT] ERROR: Parameter check failed at: engine.cpp::setBindingDimensions::1136, condition: profileMaxDims.d[i] >= dimensions.d[i]\n",
      "[TensorRT] ERROR: safeContext.cpp (184) - Cudnn Error in configure: 7 (CUDNN_STATUS_MAPPING_ERROR)\n",
      "[TensorRT] ERROR: FAILED_EXECUTION: std::exception\n",
      "[TensorRT] ERROR: Parameter check failed at: engine.cpp::setBindingDimensions::1136, condition: profileMaxDims.d[i] >= dimensions.d[i]\n",
      "[TensorRT] ERROR: safeContext.cpp (184) - Cudnn Error in configure: 7 (CUDNN_STATUS_MAPPING_ERROR)\n",
      "[TensorRT] ERROR: FAILED_EXECUTION: std::exception\n"
     ]
    },
    {
     "name": "stdout",
     "output_type": "stream",
     "text": [
      "Time: 0.062376976013183594\n",
      "Time: 0.061868906021118164\n",
      "Time: 0.06242847442626953\n",
      "Time: 0.062459468841552734\n"
     ]
    },
    {
     "name": "stderr",
     "output_type": "stream",
     "text": [
      "[TensorRT] ERROR: Parameter check failed at: engine.cpp::setBindingDimensions::1136, condition: profileMaxDims.d[i] >= dimensions.d[i]\n",
      "[TensorRT] ERROR: safeContext.cpp (184) - Cudnn Error in configure: 7 (CUDNN_STATUS_MAPPING_ERROR)\n",
      "[TensorRT] ERROR: FAILED_EXECUTION: std::exception\n",
      "[TensorRT] ERROR: Parameter check failed at: engine.cpp::setBindingDimensions::1136, condition: profileMaxDims.d[i] >= dimensions.d[i]\n",
      "[TensorRT] ERROR: safeContext.cpp (184) - Cudnn Error in configure: 7 (CUDNN_STATUS_MAPPING_ERROR)\n",
      "[TensorRT] ERROR: FAILED_EXECUTION: std::exception\n",
      "[TensorRT] ERROR: Parameter check failed at: engine.cpp::setBindingDimensions::1136, condition: profileMaxDims.d[i] >= dimensions.d[i]\n",
      "[TensorRT] ERROR: safeContext.cpp (184) - Cudnn Error in configure: 7 (CUDNN_STATUS_MAPPING_ERROR)\n",
      "[TensorRT] ERROR: FAILED_EXECUTION: std::exception\n",
      "[TensorRT] ERROR: Parameter check failed at: engine.cpp::setBindingDimensions::1136, condition: profileMaxDims.d[i] >= dimensions.d[i]\n",
      "[TensorRT] ERROR: safeContext.cpp (184) - Cudnn Error in configure: 7 (CUDNN_STATUS_MAPPING_ERROR)\n",
      "[TensorRT] ERROR: FAILED_EXECUTION: std::exception\n"
     ]
    },
    {
     "name": "stdout",
     "output_type": "stream",
     "text": [
      "Time: 0.062445640563964844\n",
      "Time: 0.06126117706298828\n",
      "Time: 0.05992269515991211\n",
      "Time: 0.057601213455200195\n"
     ]
    },
    {
     "name": "stderr",
     "output_type": "stream",
     "text": [
      "[TensorRT] ERROR: Parameter check failed at: engine.cpp::setBindingDimensions::1136, condition: profileMaxDims.d[i] >= dimensions.d[i]\n",
      "[TensorRT] ERROR: safeContext.cpp (184) - Cudnn Error in configure: 7 (CUDNN_STATUS_MAPPING_ERROR)\n",
      "[TensorRT] ERROR: FAILED_EXECUTION: std::exception\n",
      "[TensorRT] ERROR: Parameter check failed at: engine.cpp::setBindingDimensions::1136, condition: profileMaxDims.d[i] >= dimensions.d[i]\n",
      "[TensorRT] ERROR: safeContext.cpp (184) - Cudnn Error in configure: 7 (CUDNN_STATUS_MAPPING_ERROR)\n",
      "[TensorRT] ERROR: FAILED_EXECUTION: std::exception\n",
      "[TensorRT] ERROR: Parameter check failed at: engine.cpp::setBindingDimensions::1136, condition: profileMaxDims.d[i] >= dimensions.d[i]\n",
      "[TensorRT] ERROR: safeContext.cpp (184) - Cudnn Error in configure: 7 (CUDNN_STATUS_MAPPING_ERROR)\n",
      "[TensorRT] ERROR: FAILED_EXECUTION: std::exception\n"
     ]
    },
    {
     "name": "stdout",
     "output_type": "stream",
     "text": [
      "Time: 0.06282973289489746\n",
      "Time: 0.062254905700683594\n",
      "Time: 0.06230568885803223\n"
     ]
    },
    {
     "name": "stderr",
     "output_type": "stream",
     "text": [
      "[TensorRT] ERROR: Parameter check failed at: engine.cpp::setBindingDimensions::1136, condition: profileMaxDims.d[i] >= dimensions.d[i]\n",
      "[TensorRT] ERROR: safeContext.cpp (184) - Cudnn Error in configure: 7 (CUDNN_STATUS_MAPPING_ERROR)\n",
      "[TensorRT] ERROR: FAILED_EXECUTION: std::exception\n",
      "[TensorRT] ERROR: Parameter check failed at: engine.cpp::setBindingDimensions::1136, condition: profileMaxDims.d[i] >= dimensions.d[i]\n",
      "[TensorRT] ERROR: safeContext.cpp (184) - Cudnn Error in configure: 7 (CUDNN_STATUS_MAPPING_ERROR)\n",
      "[TensorRT] ERROR: FAILED_EXECUTION: std::exception\n",
      "[TensorRT] ERROR: Parameter check failed at: engine.cpp::setBindingDimensions::1136, condition: profileMaxDims.d[i] >= dimensions.d[i]\n",
      "[TensorRT] ERROR: safeContext.cpp (184) - Cudnn Error in configure: 7 (CUDNN_STATUS_MAPPING_ERROR)\n",
      "[TensorRT] ERROR: FAILED_EXECUTION: std::exception\n",
      "[TensorRT] ERROR: Parameter check failed at: engine.cpp::setBindingDimensions::1136, condition: profileMaxDims.d[i] >= dimensions.d[i]\n",
      "[TensorRT] ERROR: safeContext.cpp (184) - Cudnn Error in configure: 7 (CUDNN_STATUS_MAPPING_ERROR)\n",
      "[TensorRT] ERROR: FAILED_EXECUTION: std::exception\n"
     ]
    },
    {
     "name": "stdout",
     "output_type": "stream",
     "text": [
      "Time: 0.07442426681518555\n",
      "Time: 0.057944297790527344\n",
      "Time: 0.05939841270446777\n",
      "Time: 0.062463998794555664\n"
     ]
    },
    {
     "name": "stderr",
     "output_type": "stream",
     "text": [
      "[TensorRT] ERROR: Parameter check failed at: engine.cpp::setBindingDimensions::1136, condition: profileMaxDims.d[i] >= dimensions.d[i]\n",
      "[TensorRT] ERROR: safeContext.cpp (184) - Cudnn Error in configure: 7 (CUDNN_STATUS_MAPPING_ERROR)\n",
      "[TensorRT] ERROR: FAILED_EXECUTION: std::exception\n",
      "[TensorRT] ERROR: Parameter check failed at: engine.cpp::setBindingDimensions::1136, condition: profileMaxDims.d[i] >= dimensions.d[i]\n",
      "[TensorRT] ERROR: safeContext.cpp (184) - Cudnn Error in configure: 7 (CUDNN_STATUS_MAPPING_ERROR)\n",
      "[TensorRT] ERROR: FAILED_EXECUTION: std::exception\n",
      "[TensorRT] ERROR: Parameter check failed at: engine.cpp::setBindingDimensions::1136, condition: profileMaxDims.d[i] >= dimensions.d[i]\n",
      "[TensorRT] ERROR: safeContext.cpp (184) - Cudnn Error in configure: 7 (CUDNN_STATUS_MAPPING_ERROR)\n",
      "[TensorRT] ERROR: FAILED_EXECUTION: std::exception\n",
      "[TensorRT] ERROR: Parameter check failed at: engine.cpp::setBindingDimensions::1136, condition: profileMaxDims.d[i] >= dimensions.d[i]\n",
      "[TensorRT] ERROR: safeContext.cpp (184) - Cudnn Error in configure: 7 (CUDNN_STATUS_MAPPING_ERROR)\n",
      "[TensorRT] ERROR: FAILED_EXECUTION: std::exception\n"
     ]
    },
    {
     "name": "stdout",
     "output_type": "stream",
     "text": [
      "Time: 0.06261634826660156\n",
      "Idx: 1400\n",
      "Time: 0.06201505661010742\n",
      "Time: 0.06254839897155762\n",
      "Time: 0.06229090690612793\n"
     ]
    },
    {
     "name": "stderr",
     "output_type": "stream",
     "text": [
      "[TensorRT] ERROR: Parameter check failed at: engine.cpp::setBindingDimensions::1136, condition: profileMaxDims.d[i] >= dimensions.d[i]\n",
      "[TensorRT] ERROR: safeContext.cpp (184) - Cudnn Error in configure: 7 (CUDNN_STATUS_MAPPING_ERROR)\n",
      "[TensorRT] ERROR: FAILED_EXECUTION: std::exception\n",
      "[TensorRT] ERROR: Parameter check failed at: engine.cpp::setBindingDimensions::1136, condition: profileMaxDims.d[i] >= dimensions.d[i]\n",
      "[TensorRT] ERROR: safeContext.cpp (184) - Cudnn Error in configure: 7 (CUDNN_STATUS_MAPPING_ERROR)\n",
      "[TensorRT] ERROR: FAILED_EXECUTION: std::exception\n",
      "[TensorRT] ERROR: Parameter check failed at: engine.cpp::setBindingDimensions::1136, condition: profileMaxDims.d[i] >= dimensions.d[i]\n",
      "[TensorRT] ERROR: safeContext.cpp (184) - Cudnn Error in configure: 7 (CUDNN_STATUS_MAPPING_ERROR)\n",
      "[TensorRT] ERROR: FAILED_EXECUTION: std::exception\n",
      "[TensorRT] ERROR: Parameter check failed at: engine.cpp::setBindingDimensions::1136, condition: profileMaxDims.d[i] >= dimensions.d[i]\n",
      "[TensorRT] ERROR: safeContext.cpp (184) - Cudnn Error in configure: 7 (CUDNN_STATUS_MAPPING_ERROR)\n",
      "[TensorRT] ERROR: FAILED_EXECUTION: std::exception\n"
     ]
    },
    {
     "name": "stdout",
     "output_type": "stream",
     "text": [
      "Time: 0.06281447410583496\n",
      "Time: 0.058545589447021484\n",
      "Time: 0.05214524269104004\n",
      "Time: 0.055306196212768555\n"
     ]
    },
    {
     "name": "stderr",
     "output_type": "stream",
     "text": [
      "[TensorRT] ERROR: Parameter check failed at: engine.cpp::setBindingDimensions::1136, condition: profileMaxDims.d[i] >= dimensions.d[i]\n",
      "[TensorRT] ERROR: safeContext.cpp (184) - Cudnn Error in configure: 7 (CUDNN_STATUS_MAPPING_ERROR)\n",
      "[TensorRT] ERROR: FAILED_EXECUTION: std::exception\n",
      "[TensorRT] ERROR: Parameter check failed at: engine.cpp::setBindingDimensions::1136, condition: profileMaxDims.d[i] >= dimensions.d[i]\n",
      "[TensorRT] ERROR: safeContext.cpp (184) - Cudnn Error in configure: 7 (CUDNN_STATUS_MAPPING_ERROR)\n",
      "[TensorRT] ERROR: FAILED_EXECUTION: std::exception\n",
      "[TensorRT] ERROR: Parameter check failed at: engine.cpp::setBindingDimensions::1136, condition: profileMaxDims.d[i] >= dimensions.d[i]\n",
      "[TensorRT] ERROR: safeContext.cpp (184) - Cudnn Error in configure: 7 (CUDNN_STATUS_MAPPING_ERROR)\n",
      "[TensorRT] ERROR: FAILED_EXECUTION: std::exception\n"
     ]
    },
    {
     "name": "stdout",
     "output_type": "stream",
     "text": [
      "Time: 0.07657814025878906\n",
      "Time: 0.06171154975891113\n",
      "Time: 0.0813605785369873\n"
     ]
    },
    {
     "name": "stderr",
     "output_type": "stream",
     "text": [
      "[TensorRT] ERROR: Parameter check failed at: engine.cpp::setBindingDimensions::1136, condition: profileMaxDims.d[i] >= dimensions.d[i]\n",
      "[TensorRT] ERROR: safeContext.cpp (184) - Cudnn Error in configure: 7 (CUDNN_STATUS_MAPPING_ERROR)\n",
      "[TensorRT] ERROR: FAILED_EXECUTION: std::exception\n",
      "[TensorRT] ERROR: Parameter check failed at: engine.cpp::setBindingDimensions::1136, condition: profileMaxDims.d[i] >= dimensions.d[i]\n",
      "[TensorRT] ERROR: safeContext.cpp (184) - Cudnn Error in configure: 7 (CUDNN_STATUS_MAPPING_ERROR)\n",
      "[TensorRT] ERROR: FAILED_EXECUTION: std::exception\n",
      "[TensorRT] ERROR: Parameter check failed at: engine.cpp::setBindingDimensions::1136, condition: profileMaxDims.d[i] >= dimensions.d[i]\n",
      "[TensorRT] ERROR: safeContext.cpp (184) - Cudnn Error in configure: 7 (CUDNN_STATUS_MAPPING_ERROR)\n",
      "[TensorRT] ERROR: FAILED_EXECUTION: std::exception\n"
     ]
    },
    {
     "name": "stdout",
     "output_type": "stream",
     "text": [
      "Time: 0.0789644718170166\n",
      "Time: 0.08225822448730469\n",
      "Time: 0.07833504676818848\n"
     ]
    },
    {
     "name": "stderr",
     "output_type": "stream",
     "text": [
      "[TensorRT] ERROR: Parameter check failed at: engine.cpp::setBindingDimensions::1136, condition: profileMaxDims.d[i] >= dimensions.d[i]\n",
      "[TensorRT] ERROR: safeContext.cpp (184) - Cudnn Error in configure: 7 (CUDNN_STATUS_MAPPING_ERROR)\n",
      "[TensorRT] ERROR: FAILED_EXECUTION: std::exception\n",
      "[TensorRT] ERROR: Parameter check failed at: engine.cpp::setBindingDimensions::1136, condition: profileMaxDims.d[i] >= dimensions.d[i]\n",
      "[TensorRT] ERROR: safeContext.cpp (184) - Cudnn Error in configure: 7 (CUDNN_STATUS_MAPPING_ERROR)\n",
      "[TensorRT] ERROR: FAILED_EXECUTION: std::exception\n",
      "[TensorRT] ERROR: Parameter check failed at: engine.cpp::setBindingDimensions::1136, condition: profileMaxDims.d[i] >= dimensions.d[i]\n",
      "[TensorRT] ERROR: safeContext.cpp (184) - Cudnn Error in configure: 7 (CUDNN_STATUS_MAPPING_ERROR)\n",
      "[TensorRT] ERROR: FAILED_EXECUTION: std::exception\n",
      "[TensorRT] ERROR: Parameter check failed at: engine.cpp::setBindingDimensions::1136, condition: profileMaxDims.d[i] >= dimensions.d[i]\n",
      "[TensorRT] ERROR: safeContext.cpp (184) - Cudnn Error in configure: 7 (CUDNN_STATUS_MAPPING_ERROR)\n",
      "[TensorRT] ERROR: FAILED_EXECUTION: std::exception\n"
     ]
    },
    {
     "name": "stdout",
     "output_type": "stream",
     "text": [
      "Time: 0.06431818008422852\n",
      "Time: 0.05805325508117676\n",
      "Time: 0.059155941009521484\n",
      "Time: 0.06261634826660156\n"
     ]
    },
    {
     "name": "stderr",
     "output_type": "stream",
     "text": [
      "[TensorRT] ERROR: Parameter check failed at: engine.cpp::setBindingDimensions::1136, condition: profileMaxDims.d[i] >= dimensions.d[i]\n",
      "[TensorRT] ERROR: safeContext.cpp (184) - Cudnn Error in configure: 7 (CUDNN_STATUS_MAPPING_ERROR)\n",
      "[TensorRT] ERROR: FAILED_EXECUTION: std::exception\n",
      "[TensorRT] ERROR: Parameter check failed at: engine.cpp::setBindingDimensions::1136, condition: profileMaxDims.d[i] >= dimensions.d[i]\n",
      "[TensorRT] ERROR: safeContext.cpp (184) - Cudnn Error in configure: 7 (CUDNN_STATUS_MAPPING_ERROR)\n",
      "[TensorRT] ERROR: FAILED_EXECUTION: std::exception\n",
      "[TensorRT] ERROR: Parameter check failed at: engine.cpp::setBindingDimensions::1136, condition: profileMaxDims.d[i] >= dimensions.d[i]\n",
      "[TensorRT] ERROR: safeContext.cpp (184) - Cudnn Error in configure: 7 (CUDNN_STATUS_MAPPING_ERROR)\n",
      "[TensorRT] ERROR: FAILED_EXECUTION: std::exception\n",
      "[TensorRT] ERROR: Parameter check failed at: engine.cpp::setBindingDimensions::1136, condition: profileMaxDims.d[i] >= dimensions.d[i]\n",
      "[TensorRT] ERROR: safeContext.cpp (184) - Cudnn Error in configure: 7 (CUDNN_STATUS_MAPPING_ERROR)\n",
      "[TensorRT] ERROR: FAILED_EXECUTION: std::exception\n"
     ]
    },
    {
     "name": "stdout",
     "output_type": "stream",
     "text": [
      "Time: 0.05907464027404785\n",
      "Time: 0.058807373046875\n",
      "Time: 0.05890393257141113\n",
      "Time: 0.06603169441223145\n"
     ]
    },
    {
     "name": "stderr",
     "output_type": "stream",
     "text": [
      "[TensorRT] ERROR: Parameter check failed at: engine.cpp::setBindingDimensions::1136, condition: profileMaxDims.d[i] >= dimensions.d[i]\n",
      "[TensorRT] ERROR: safeContext.cpp (184) - Cudnn Error in configure: 7 (CUDNN_STATUS_MAPPING_ERROR)\n",
      "[TensorRT] ERROR: FAILED_EXECUTION: std::exception\n",
      "[TensorRT] ERROR: Parameter check failed at: engine.cpp::setBindingDimensions::1136, condition: profileMaxDims.d[i] >= dimensions.d[i]\n",
      "[TensorRT] ERROR: safeContext.cpp (184) - Cudnn Error in configure: 7 (CUDNN_STATUS_MAPPING_ERROR)\n",
      "[TensorRT] ERROR: FAILED_EXECUTION: std::exception\n",
      "[TensorRT] ERROR: Parameter check failed at: engine.cpp::setBindingDimensions::1136, condition: profileMaxDims.d[i] >= dimensions.d[i]\n",
      "[TensorRT] ERROR: safeContext.cpp (184) - Cudnn Error in configure: 7 (CUDNN_STATUS_MAPPING_ERROR)\n",
      "[TensorRT] ERROR: FAILED_EXECUTION: std::exception\n",
      "[TensorRT] ERROR: Parameter check failed at: engine.cpp::setBindingDimensions::1136, condition: profileMaxDims.d[i] >= dimensions.d[i]\n",
      "[TensorRT] ERROR: safeContext.cpp (184) - Cudnn Error in configure: 7 (CUDNN_STATUS_MAPPING_ERROR)\n",
      "[TensorRT] ERROR: FAILED_EXECUTION: std::exception\n"
     ]
    },
    {
     "name": "stdout",
     "output_type": "stream",
     "text": [
      "Time: 0.06885385513305664\n",
      "Time: 0.06185340881347656\n",
      "Time: 0.05872797966003418\n",
      "Time: 0.06235456466674805\n"
     ]
    },
    {
     "name": "stderr",
     "output_type": "stream",
     "text": [
      "[TensorRT] ERROR: Parameter check failed at: engine.cpp::setBindingDimensions::1136, condition: profileMaxDims.d[i] >= dimensions.d[i]\n",
      "[TensorRT] ERROR: safeContext.cpp (184) - Cudnn Error in configure: 7 (CUDNN_STATUS_MAPPING_ERROR)\n",
      "[TensorRT] ERROR: FAILED_EXECUTION: std::exception\n",
      "[TensorRT] ERROR: Parameter check failed at: engine.cpp::setBindingDimensions::1136, condition: profileMaxDims.d[i] >= dimensions.d[i]\n",
      "[TensorRT] ERROR: safeContext.cpp (184) - Cudnn Error in configure: 7 (CUDNN_STATUS_MAPPING_ERROR)\n",
      "[TensorRT] ERROR: FAILED_EXECUTION: std::exception\n",
      "[TensorRT] ERROR: Parameter check failed at: engine.cpp::setBindingDimensions::1136, condition: profileMaxDims.d[i] >= dimensions.d[i]\n",
      "[TensorRT] ERROR: safeContext.cpp (184) - Cudnn Error in configure: 7 (CUDNN_STATUS_MAPPING_ERROR)\n",
      "[TensorRT] ERROR: FAILED_EXECUTION: std::exception\n"
     ]
    },
    {
     "name": "stdout",
     "output_type": "stream",
     "text": [
      "Time: 0.06060647964477539\n",
      "Time: 0.08364319801330566\n",
      "Time: 0.08146333694458008\n"
     ]
    },
    {
     "name": "stderr",
     "output_type": "stream",
     "text": [
      "[TensorRT] ERROR: Parameter check failed at: engine.cpp::setBindingDimensions::1136, condition: profileMaxDims.d[i] >= dimensions.d[i]\n",
      "[TensorRT] ERROR: safeContext.cpp (184) - Cudnn Error in configure: 7 (CUDNN_STATUS_MAPPING_ERROR)\n",
      "[TensorRT] ERROR: FAILED_EXECUTION: std::exception\n",
      "[TensorRT] ERROR: Parameter check failed at: engine.cpp::setBindingDimensions::1136, condition: profileMaxDims.d[i] >= dimensions.d[i]\n",
      "[TensorRT] ERROR: safeContext.cpp (184) - Cudnn Error in configure: 7 (CUDNN_STATUS_MAPPING_ERROR)\n",
      "[TensorRT] ERROR: FAILED_EXECUTION: std::exception\n",
      "[TensorRT] ERROR: Parameter check failed at: engine.cpp::setBindingDimensions::1136, condition: profileMaxDims.d[i] >= dimensions.d[i]\n",
      "[TensorRT] ERROR: safeContext.cpp (184) - Cudnn Error in configure: 7 (CUDNN_STATUS_MAPPING_ERROR)\n",
      "[TensorRT] ERROR: FAILED_EXECUTION: std::exception\n"
     ]
    },
    {
     "name": "stdout",
     "output_type": "stream",
     "text": [
      "Time: 0.05297088623046875\n",
      "Time: 0.09273409843444824\n",
      "Time: 0.07643723487854004\n"
     ]
    },
    {
     "name": "stderr",
     "output_type": "stream",
     "text": [
      "[TensorRT] ERROR: Parameter check failed at: engine.cpp::setBindingDimensions::1136, condition: profileMaxDims.d[i] >= dimensions.d[i]\n",
      "[TensorRT] ERROR: safeContext.cpp (184) - Cudnn Error in configure: 7 (CUDNN_STATUS_MAPPING_ERROR)\n",
      "[TensorRT] ERROR: FAILED_EXECUTION: std::exception\n",
      "[TensorRT] ERROR: Parameter check failed at: engine.cpp::setBindingDimensions::1136, condition: profileMaxDims.d[i] >= dimensions.d[i]\n",
      "[TensorRT] ERROR: safeContext.cpp (184) - Cudnn Error in configure: 7 (CUDNN_STATUS_MAPPING_ERROR)\n",
      "[TensorRT] ERROR: FAILED_EXECUTION: std::exception\n",
      "[TensorRT] ERROR: Parameter check failed at: engine.cpp::setBindingDimensions::1136, condition: profileMaxDims.d[i] >= dimensions.d[i]\n",
      "[TensorRT] ERROR: safeContext.cpp (184) - Cudnn Error in configure: 7 (CUDNN_STATUS_MAPPING_ERROR)\n",
      "[TensorRT] ERROR: FAILED_EXECUTION: std::exception\n",
      "[TensorRT] ERROR: Parameter check failed at: engine.cpp::setBindingDimensions::1136, condition: profileMaxDims.d[i] >= dimensions.d[i]\n",
      "[TensorRT] ERROR: safeContext.cpp (184) - Cudnn Error in configure: 7 (CUDNN_STATUS_MAPPING_ERROR)\n",
      "[TensorRT] ERROR: FAILED_EXECUTION: std::exception\n"
     ]
    },
    {
     "name": "stdout",
     "output_type": "stream",
     "text": [
      "Time: 0.0795753002166748\n",
      "Time: 0.05460977554321289\n",
      "Time: 0.06392955780029297\n",
      "Time: 0.07275605201721191\n"
     ]
    },
    {
     "name": "stderr",
     "output_type": "stream",
     "text": [
      "[TensorRT] ERROR: Parameter check failed at: engine.cpp::setBindingDimensions::1136, condition: profileMaxDims.d[i] >= dimensions.d[i]\n",
      "[TensorRT] ERROR: safeContext.cpp (184) - Cudnn Error in configure: 7 (CUDNN_STATUS_MAPPING_ERROR)\n",
      "[TensorRT] ERROR: FAILED_EXECUTION: std::exception\n",
      "[TensorRT] ERROR: Parameter check failed at: engine.cpp::setBindingDimensions::1136, condition: profileMaxDims.d[i] >= dimensions.d[i]\n",
      "[TensorRT] ERROR: safeContext.cpp (184) - Cudnn Error in configure: 7 (CUDNN_STATUS_MAPPING_ERROR)\n",
      "[TensorRT] ERROR: FAILED_EXECUTION: std::exception\n",
      "[TensorRT] ERROR: Parameter check failed at: engine.cpp::setBindingDimensions::1136, condition: profileMaxDims.d[i] >= dimensions.d[i]\n",
      "[TensorRT] ERROR: safeContext.cpp (184) - Cudnn Error in configure: 7 (CUDNN_STATUS_MAPPING_ERROR)\n",
      "[TensorRT] ERROR: FAILED_EXECUTION: std::exception\n"
     ]
    },
    {
     "name": "stdout",
     "output_type": "stream",
     "text": [
      "Time: 0.06426811218261719\n",
      "Time: 0.0646669864654541\n",
      "Time: 0.0790565013885498\n"
     ]
    },
    {
     "name": "stderr",
     "output_type": "stream",
     "text": [
      "[TensorRT] ERROR: Parameter check failed at: engine.cpp::setBindingDimensions::1136, condition: profileMaxDims.d[i] >= dimensions.d[i]\n",
      "[TensorRT] ERROR: safeContext.cpp (184) - Cudnn Error in configure: 7 (CUDNN_STATUS_MAPPING_ERROR)\n",
      "[TensorRT] ERROR: FAILED_EXECUTION: std::exception\n",
      "[TensorRT] ERROR: Parameter check failed at: engine.cpp::setBindingDimensions::1136, condition: profileMaxDims.d[i] >= dimensions.d[i]\n",
      "[TensorRT] ERROR: safeContext.cpp (184) - Cudnn Error in configure: 7 (CUDNN_STATUS_MAPPING_ERROR)\n",
      "[TensorRT] ERROR: FAILED_EXECUTION: std::exception\n",
      "[TensorRT] ERROR: Parameter check failed at: engine.cpp::setBindingDimensions::1136, condition: profileMaxDims.d[i] >= dimensions.d[i]\n",
      "[TensorRT] ERROR: safeContext.cpp (184) - Cudnn Error in configure: 7 (CUDNN_STATUS_MAPPING_ERROR)\n",
      "[TensorRT] ERROR: FAILED_EXECUTION: std::exception\n",
      "[TensorRT] ERROR: Parameter check failed at: engine.cpp::setBindingDimensions::1136, condition: profileMaxDims.d[i] >= dimensions.d[i]\n",
      "[TensorRT] ERROR: safeContext.cpp (184) - Cudnn Error in configure: 7 (CUDNN_STATUS_MAPPING_ERROR)\n",
      "[TensorRT] ERROR: FAILED_EXECUTION: std::exception\n"
     ]
    },
    {
     "name": "stdout",
     "output_type": "stream",
     "text": [
      "Time: 0.08343267440795898\n",
      "Time: 0.07430720329284668\n",
      "Time: 0.05844283103942871\n",
      "Time: 0.05842137336730957\n"
     ]
    },
    {
     "name": "stderr",
     "output_type": "stream",
     "text": [
      "[TensorRT] ERROR: Parameter check failed at: engine.cpp::setBindingDimensions::1136, condition: profileMaxDims.d[i] >= dimensions.d[i]\n",
      "[TensorRT] ERROR: safeContext.cpp (184) - Cudnn Error in configure: 7 (CUDNN_STATUS_MAPPING_ERROR)\n",
      "[TensorRT] ERROR: FAILED_EXECUTION: std::exception\n",
      "[TensorRT] ERROR: Parameter check failed at: engine.cpp::setBindingDimensions::1136, condition: profileMaxDims.d[i] >= dimensions.d[i]\n",
      "[TensorRT] ERROR: safeContext.cpp (184) - Cudnn Error in configure: 7 (CUDNN_STATUS_MAPPING_ERROR)\n",
      "[TensorRT] ERROR: FAILED_EXECUTION: std::exception\n",
      "[TensorRT] ERROR: Parameter check failed at: engine.cpp::setBindingDimensions::1136, condition: profileMaxDims.d[i] >= dimensions.d[i]\n",
      "[TensorRT] ERROR: safeContext.cpp (184) - Cudnn Error in configure: 7 (CUDNN_STATUS_MAPPING_ERROR)\n",
      "[TensorRT] ERROR: FAILED_EXECUTION: std::exception\n",
      "[TensorRT] ERROR: Parameter check failed at: engine.cpp::setBindingDimensions::1136, condition: profileMaxDims.d[i] >= dimensions.d[i]\n",
      "[TensorRT] ERROR: safeContext.cpp (184) - Cudnn Error in configure: 7 (CUDNN_STATUS_MAPPING_ERROR)\n",
      "[TensorRT] ERROR: FAILED_EXECUTION: std::exception\n"
     ]
    },
    {
     "name": "stdout",
     "output_type": "stream",
     "text": [
      "Time: 0.05902600288391113\n",
      "Time: 0.05826306343078613\n",
      "Time: 0.058463335037231445\n",
      "Time: 0.0583796501159668\n"
     ]
    },
    {
     "name": "stderr",
     "output_type": "stream",
     "text": [
      "[TensorRT] ERROR: Parameter check failed at: engine.cpp::setBindingDimensions::1136, condition: profileMaxDims.d[i] >= dimensions.d[i]\n",
      "[TensorRT] ERROR: safeContext.cpp (184) - Cudnn Error in configure: 7 (CUDNN_STATUS_MAPPING_ERROR)\n",
      "[TensorRT] ERROR: FAILED_EXECUTION: std::exception\n",
      "[TensorRT] ERROR: Parameter check failed at: engine.cpp::setBindingDimensions::1136, condition: profileMaxDims.d[i] >= dimensions.d[i]\n",
      "[TensorRT] ERROR: safeContext.cpp (184) - Cudnn Error in configure: 7 (CUDNN_STATUS_MAPPING_ERROR)\n",
      "[TensorRT] ERROR: FAILED_EXECUTION: std::exception\n",
      "[TensorRT] ERROR: Parameter check failed at: engine.cpp::setBindingDimensions::1136, condition: profileMaxDims.d[i] >= dimensions.d[i]\n",
      "[TensorRT] ERROR: safeContext.cpp (184) - Cudnn Error in configure: 7 (CUDNN_STATUS_MAPPING_ERROR)\n",
      "[TensorRT] ERROR: FAILED_EXECUTION: std::exception\n",
      "[TensorRT] ERROR: Parameter check failed at: engine.cpp::setBindingDimensions::1136, condition: profileMaxDims.d[i] >= dimensions.d[i]\n",
      "[TensorRT] ERROR: safeContext.cpp (184) - Cudnn Error in configure: 7 (CUDNN_STATUS_MAPPING_ERROR)\n",
      "[TensorRT] ERROR: FAILED_EXECUTION: std::exception\n"
     ]
    },
    {
     "name": "stdout",
     "output_type": "stream",
     "text": [
      "Time: 0.06218838691711426\n",
      "Time: 0.05486011505126953\n",
      "Time: 0.0550389289855957\n",
      "Time: 0.06004810333251953\n"
     ]
    },
    {
     "name": "stderr",
     "output_type": "stream",
     "text": [
      "[TensorRT] ERROR: Parameter check failed at: engine.cpp::setBindingDimensions::1136, condition: profileMaxDims.d[i] >= dimensions.d[i]\n",
      "[TensorRT] ERROR: safeContext.cpp (184) - Cudnn Error in configure: 7 (CUDNN_STATUS_MAPPING_ERROR)\n",
      "[TensorRT] ERROR: FAILED_EXECUTION: std::exception\n",
      "[TensorRT] ERROR: Parameter check failed at: engine.cpp::setBindingDimensions::1136, condition: profileMaxDims.d[i] >= dimensions.d[i]\n",
      "[TensorRT] ERROR: safeContext.cpp (184) - Cudnn Error in configure: 7 (CUDNN_STATUS_MAPPING_ERROR)\n",
      "[TensorRT] ERROR: FAILED_EXECUTION: std::exception\n",
      "[TensorRT] ERROR: Parameter check failed at: engine.cpp::setBindingDimensions::1136, condition: profileMaxDims.d[i] >= dimensions.d[i]\n",
      "[TensorRT] ERROR: safeContext.cpp (184) - Cudnn Error in configure: 7 (CUDNN_STATUS_MAPPING_ERROR)\n",
      "[TensorRT] ERROR: FAILED_EXECUTION: std::exception\n"
     ]
    },
    {
     "name": "stdout",
     "output_type": "stream",
     "text": [
      "Time: 0.06259465217590332\n",
      "Time: 0.09281492233276367\n",
      "Time: 0.05296444892883301\n"
     ]
    },
    {
     "name": "stderr",
     "output_type": "stream",
     "text": [
      "[TensorRT] ERROR: Parameter check failed at: engine.cpp::setBindingDimensions::1136, condition: profileMaxDims.d[i] >= dimensions.d[i]\n",
      "[TensorRT] ERROR: safeContext.cpp (184) - Cudnn Error in configure: 7 (CUDNN_STATUS_MAPPING_ERROR)\n",
      "[TensorRT] ERROR: FAILED_EXECUTION: std::exception\n",
      "[TensorRT] ERROR: Parameter check failed at: engine.cpp::setBindingDimensions::1136, condition: profileMaxDims.d[i] >= dimensions.d[i]\n",
      "[TensorRT] ERROR: safeContext.cpp (184) - Cudnn Error in configure: 7 (CUDNN_STATUS_MAPPING_ERROR)\n",
      "[TensorRT] ERROR: FAILED_EXECUTION: std::exception\n",
      "[TensorRT] ERROR: Parameter check failed at: engine.cpp::setBindingDimensions::1136, condition: profileMaxDims.d[i] >= dimensions.d[i]\n",
      "[TensorRT] ERROR: safeContext.cpp (184) - Cudnn Error in configure: 7 (CUDNN_STATUS_MAPPING_ERROR)\n",
      "[TensorRT] ERROR: FAILED_EXECUTION: std::exception\n",
      "[TensorRT] ERROR: Parameter check failed at: engine.cpp::setBindingDimensions::1136, condition: profileMaxDims.d[i] >= dimensions.d[i]\n",
      "[TensorRT] ERROR: safeContext.cpp (184) - Cudnn Error in configure: 7 (CUDNN_STATUS_MAPPING_ERROR)\n",
      "[TensorRT] ERROR: FAILED_EXECUTION: std::exception\n"
     ]
    },
    {
     "name": "stdout",
     "output_type": "stream",
     "text": [
      "Time: 0.05302238464355469\n",
      "Time: 0.05258584022521973\n",
      "Time: 0.06052279472351074\n",
      "Time: 0.06253886222839355\n"
     ]
    },
    {
     "name": "stderr",
     "output_type": "stream",
     "text": [
      "[TensorRT] ERROR: Parameter check failed at: engine.cpp::setBindingDimensions::1136, condition: profileMaxDims.d[i] >= dimensions.d[i]\n",
      "[TensorRT] ERROR: safeContext.cpp (184) - Cudnn Error in configure: 7 (CUDNN_STATUS_MAPPING_ERROR)\n",
      "[TensorRT] ERROR: FAILED_EXECUTION: std::exception\n",
      "[TensorRT] ERROR: Parameter check failed at: engine.cpp::setBindingDimensions::1136, condition: profileMaxDims.d[i] >= dimensions.d[i]\n",
      "[TensorRT] ERROR: safeContext.cpp (184) - Cudnn Error in configure: 7 (CUDNN_STATUS_MAPPING_ERROR)\n",
      "[TensorRT] ERROR: FAILED_EXECUTION: std::exception\n",
      "[TensorRT] ERROR: Parameter check failed at: engine.cpp::setBindingDimensions::1136, condition: profileMaxDims.d[i] >= dimensions.d[i]\n",
      "[TensorRT] ERROR: safeContext.cpp (184) - Cudnn Error in configure: 7 (CUDNN_STATUS_MAPPING_ERROR)\n",
      "[TensorRT] ERROR: FAILED_EXECUTION: std::exception\n"
     ]
    },
    {
     "name": "stdout",
     "output_type": "stream",
     "text": [
      "Time: 0.05927586555480957\n",
      "Time: 0.06242561340332031\n",
      "Time: 0.07790946960449219\n"
     ]
    },
    {
     "name": "stderr",
     "output_type": "stream",
     "text": [
      "[TensorRT] ERROR: Parameter check failed at: engine.cpp::setBindingDimensions::1136, condition: profileMaxDims.d[i] >= dimensions.d[i]\n",
      "[TensorRT] ERROR: safeContext.cpp (184) - Cudnn Error in configure: 7 (CUDNN_STATUS_MAPPING_ERROR)\n",
      "[TensorRT] ERROR: FAILED_EXECUTION: std::exception\n",
      "[TensorRT] ERROR: Parameter check failed at: engine.cpp::setBindingDimensions::1136, condition: profileMaxDims.d[i] >= dimensions.d[i]\n",
      "[TensorRT] ERROR: safeContext.cpp (184) - Cudnn Error in configure: 7 (CUDNN_STATUS_MAPPING_ERROR)\n",
      "[TensorRT] ERROR: FAILED_EXECUTION: std::exception\n",
      "[TensorRT] ERROR: Parameter check failed at: engine.cpp::setBindingDimensions::1136, condition: profileMaxDims.d[i] >= dimensions.d[i]\n",
      "[TensorRT] ERROR: safeContext.cpp (184) - Cudnn Error in configure: 7 (CUDNN_STATUS_MAPPING_ERROR)\n",
      "[TensorRT] ERROR: FAILED_EXECUTION: std::exception\n"
     ]
    },
    {
     "name": "stdout",
     "output_type": "stream",
     "text": [
      "Time: 0.09462308883666992\n",
      "Time: 0.0793914794921875\n",
      "Time: 0.07358455657958984\n"
     ]
    },
    {
     "name": "stderr",
     "output_type": "stream",
     "text": [
      "[TensorRT] ERROR: Parameter check failed at: engine.cpp::setBindingDimensions::1136, condition: profileMaxDims.d[i] >= dimensions.d[i]\n",
      "[TensorRT] ERROR: safeContext.cpp (184) - Cudnn Error in configure: 7 (CUDNN_STATUS_MAPPING_ERROR)\n",
      "[TensorRT] ERROR: FAILED_EXECUTION: std::exception\n",
      "[TensorRT] ERROR: Parameter check failed at: engine.cpp::setBindingDimensions::1136, condition: profileMaxDims.d[i] >= dimensions.d[i]\n",
      "[TensorRT] ERROR: safeContext.cpp (184) - Cudnn Error in configure: 7 (CUDNN_STATUS_MAPPING_ERROR)\n",
      "[TensorRT] ERROR: FAILED_EXECUTION: std::exception\n",
      "[TensorRT] ERROR: Parameter check failed at: engine.cpp::setBindingDimensions::1136, condition: profileMaxDims.d[i] >= dimensions.d[i]\n",
      "[TensorRT] ERROR: safeContext.cpp (184) - Cudnn Error in configure: 7 (CUDNN_STATUS_MAPPING_ERROR)\n",
      "[TensorRT] ERROR: FAILED_EXECUTION: std::exception\n",
      "[TensorRT] ERROR: Parameter check failed at: engine.cpp::setBindingDimensions::1136, condition: profileMaxDims.d[i] >= dimensions.d[i]\n",
      "[TensorRT] ERROR: safeContext.cpp (184) - Cudnn Error in configure: 7 (CUDNN_STATUS_MAPPING_ERROR)\n",
      "[TensorRT] ERROR: FAILED_EXECUTION: std::exception\n"
     ]
    },
    {
     "name": "stdout",
     "output_type": "stream",
     "text": [
      "Time: 0.05891871452331543\n",
      "Time: 0.05763530731201172\n",
      "Time: 0.06579875946044922\n",
      "Time: 0.06289505958557129\n"
     ]
    },
    {
     "name": "stderr",
     "output_type": "stream",
     "text": [
      "[TensorRT] ERROR: Parameter check failed at: engine.cpp::setBindingDimensions::1136, condition: profileMaxDims.d[i] >= dimensions.d[i]\n",
      "[TensorRT] ERROR: safeContext.cpp (184) - Cudnn Error in configure: 7 (CUDNN_STATUS_MAPPING_ERROR)\n",
      "[TensorRT] ERROR: FAILED_EXECUTION: std::exception\n",
      "[TensorRT] ERROR: Parameter check failed at: engine.cpp::setBindingDimensions::1136, condition: profileMaxDims.d[i] >= dimensions.d[i]\n",
      "[TensorRT] ERROR: safeContext.cpp (184) - Cudnn Error in configure: 7 (CUDNN_STATUS_MAPPING_ERROR)\n",
      "[TensorRT] ERROR: FAILED_EXECUTION: std::exception\n",
      "[TensorRT] ERROR: Parameter check failed at: engine.cpp::setBindingDimensions::1136, condition: profileMaxDims.d[i] >= dimensions.d[i]\n",
      "[TensorRT] ERROR: safeContext.cpp (184) - Cudnn Error in configure: 7 (CUDNN_STATUS_MAPPING_ERROR)\n",
      "[TensorRT] ERROR: FAILED_EXECUTION: std::exception\n",
      "[TensorRT] ERROR: Parameter check failed at: engine.cpp::setBindingDimensions::1136, condition: profileMaxDims.d[i] >= dimensions.d[i]\n",
      "[TensorRT] ERROR: safeContext.cpp (184) - Cudnn Error in configure: 7 (CUDNN_STATUS_MAPPING_ERROR)\n",
      "[TensorRT] ERROR: FAILED_EXECUTION: std::exception\n"
     ]
    },
    {
     "name": "stdout",
     "output_type": "stream",
     "text": [
      "Time: 0.06287765502929688\n",
      "Time: 0.058530330657958984\n",
      "Time: 0.057915449142456055\n",
      "Time: 0.05925297737121582\n"
     ]
    },
    {
     "name": "stderr",
     "output_type": "stream",
     "text": [
      "[TensorRT] ERROR: Parameter check failed at: engine.cpp::setBindingDimensions::1136, condition: profileMaxDims.d[i] >= dimensions.d[i]\n",
      "[TensorRT] ERROR: safeContext.cpp (184) - Cudnn Error in configure: 7 (CUDNN_STATUS_MAPPING_ERROR)\n",
      "[TensorRT] ERROR: FAILED_EXECUTION: std::exception\n",
      "[TensorRT] ERROR: Parameter check failed at: engine.cpp::setBindingDimensions::1136, condition: profileMaxDims.d[i] >= dimensions.d[i]\n",
      "[TensorRT] ERROR: safeContext.cpp (184) - Cudnn Error in configure: 7 (CUDNN_STATUS_MAPPING_ERROR)\n",
      "[TensorRT] ERROR: FAILED_EXECUTION: std::exception\n",
      "[TensorRT] ERROR: Parameter check failed at: engine.cpp::setBindingDimensions::1136, condition: profileMaxDims.d[i] >= dimensions.d[i]\n",
      "[TensorRT] ERROR: safeContext.cpp (184) - Cudnn Error in configure: 7 (CUDNN_STATUS_MAPPING_ERROR)\n",
      "[TensorRT] ERROR: FAILED_EXECUTION: std::exception\n",
      "[TensorRT] ERROR: Parameter check failed at: engine.cpp::setBindingDimensions::1136, condition: profileMaxDims.d[i] >= dimensions.d[i]\n",
      "[TensorRT] ERROR: safeContext.cpp (184) - Cudnn Error in configure: 7 (CUDNN_STATUS_MAPPING_ERROR)\n",
      "[TensorRT] ERROR: FAILED_EXECUTION: std::exception\n"
     ]
    },
    {
     "name": "stdout",
     "output_type": "stream",
     "text": [
      "Time: 0.058866024017333984\n",
      "Time: 0.062102317810058594\n",
      "Time: 0.058580875396728516\n",
      "Time: 0.05771327018737793\n"
     ]
    },
    {
     "name": "stderr",
     "output_type": "stream",
     "text": [
      "[TensorRT] ERROR: Parameter check failed at: engine.cpp::setBindingDimensions::1136, condition: profileMaxDims.d[i] >= dimensions.d[i]\n",
      "[TensorRT] ERROR: safeContext.cpp (184) - Cudnn Error in configure: 7 (CUDNN_STATUS_MAPPING_ERROR)\n",
      "[TensorRT] ERROR: FAILED_EXECUTION: std::exception\n",
      "[TensorRT] ERROR: Parameter check failed at: engine.cpp::setBindingDimensions::1136, condition: profileMaxDims.d[i] >= dimensions.d[i]\n",
      "[TensorRT] ERROR: safeContext.cpp (184) - Cudnn Error in configure: 7 (CUDNN_STATUS_MAPPING_ERROR)\n",
      "[TensorRT] ERROR: FAILED_EXECUTION: std::exception\n",
      "[TensorRT] ERROR: Parameter check failed at: engine.cpp::setBindingDimensions::1136, condition: profileMaxDims.d[i] >= dimensions.d[i]\n",
      "[TensorRT] ERROR: safeContext.cpp (184) - Cudnn Error in configure: 7 (CUDNN_STATUS_MAPPING_ERROR)\n",
      "[TensorRT] ERROR: FAILED_EXECUTION: std::exception\n",
      "[TensorRT] ERROR: Parameter check failed at: engine.cpp::setBindingDimensions::1136, condition: profileMaxDims.d[i] >= dimensions.d[i]\n",
      "[TensorRT] ERROR: safeContext.cpp (184) - Cudnn Error in configure: 7 (CUDNN_STATUS_MAPPING_ERROR)\n",
      "[TensorRT] ERROR: FAILED_EXECUTION: std::exception\n"
     ]
    },
    {
     "name": "stdout",
     "output_type": "stream",
     "text": [
      "Time: 0.05850672721862793\n",
      "Time: 0.06093716621398926\n",
      "Time: 0.058705806732177734\n",
      "Time: 0.057749271392822266\n"
     ]
    },
    {
     "name": "stderr",
     "output_type": "stream",
     "text": [
      "[TensorRT] ERROR: Parameter check failed at: engine.cpp::setBindingDimensions::1136, condition: profileMaxDims.d[i] >= dimensions.d[i]\n",
      "[TensorRT] ERROR: safeContext.cpp (184) - Cudnn Error in configure: 7 (CUDNN_STATUS_MAPPING_ERROR)\n",
      "[TensorRT] ERROR: FAILED_EXECUTION: std::exception\n",
      "[TensorRT] ERROR: Parameter check failed at: engine.cpp::setBindingDimensions::1136, condition: profileMaxDims.d[i] >= dimensions.d[i]\n",
      "[TensorRT] ERROR: safeContext.cpp (184) - Cudnn Error in configure: 7 (CUDNN_STATUS_MAPPING_ERROR)\n",
      "[TensorRT] ERROR: FAILED_EXECUTION: std::exception\n",
      "[TensorRT] ERROR: Parameter check failed at: engine.cpp::setBindingDimensions::1136, condition: profileMaxDims.d[i] >= dimensions.d[i]\n",
      "[TensorRT] ERROR: safeContext.cpp (184) - Cudnn Error in configure: 7 (CUDNN_STATUS_MAPPING_ERROR)\n",
      "[TensorRT] ERROR: FAILED_EXECUTION: std::exception\n",
      "[TensorRT] ERROR: Parameter check failed at: engine.cpp::setBindingDimensions::1136, condition: profileMaxDims.d[i] >= dimensions.d[i]\n",
      "[TensorRT] ERROR: safeContext.cpp (184) - Cudnn Error in configure: 7 (CUDNN_STATUS_MAPPING_ERROR)\n",
      "[TensorRT] ERROR: FAILED_EXECUTION: std::exception\n"
     ]
    },
    {
     "name": "stdout",
     "output_type": "stream",
     "text": [
      "Time: 0.08114790916442871\n",
      "Time: 0.06624770164489746\n",
      "Time: 0.05758547782897949\n",
      "Time: 0.053197383880615234\n"
     ]
    },
    {
     "name": "stderr",
     "output_type": "stream",
     "text": [
      "[TensorRT] ERROR: Parameter check failed at: engine.cpp::setBindingDimensions::1136, condition: profileMaxDims.d[i] >= dimensions.d[i]\n",
      "[TensorRT] ERROR: safeContext.cpp (184) - Cudnn Error in configure: 7 (CUDNN_STATUS_MAPPING_ERROR)\n",
      "[TensorRT] ERROR: FAILED_EXECUTION: std::exception\n",
      "[TensorRT] ERROR: Parameter check failed at: engine.cpp::setBindingDimensions::1136, condition: profileMaxDims.d[i] >= dimensions.d[i]\n",
      "[TensorRT] ERROR: safeContext.cpp (184) - Cudnn Error in configure: 7 (CUDNN_STATUS_MAPPING_ERROR)\n",
      "[TensorRT] ERROR: FAILED_EXECUTION: std::exception\n",
      "[TensorRT] ERROR: Parameter check failed at: engine.cpp::setBindingDimensions::1136, condition: profileMaxDims.d[i] >= dimensions.d[i]\n",
      "[TensorRT] ERROR: safeContext.cpp (184) - Cudnn Error in configure: 7 (CUDNN_STATUS_MAPPING_ERROR)\n",
      "[TensorRT] ERROR: FAILED_EXECUTION: std::exception\n"
     ]
    },
    {
     "name": "stdout",
     "output_type": "stream",
     "text": [
      "Time: 0.06630516052246094\n",
      "Time: 0.06008744239807129\n",
      "Time: 0.05636143684387207\n"
     ]
    },
    {
     "name": "stderr",
     "output_type": "stream",
     "text": [
      "[TensorRT] ERROR: Parameter check failed at: engine.cpp::setBindingDimensions::1136, condition: profileMaxDims.d[i] >= dimensions.d[i]\n",
      "[TensorRT] ERROR: safeContext.cpp (184) - Cudnn Error in configure: 7 (CUDNN_STATUS_MAPPING_ERROR)\n",
      "[TensorRT] ERROR: FAILED_EXECUTION: std::exception\n",
      "[TensorRT] ERROR: Parameter check failed at: engine.cpp::setBindingDimensions::1136, condition: profileMaxDims.d[i] >= dimensions.d[i]\n",
      "[TensorRT] ERROR: safeContext.cpp (184) - Cudnn Error in configure: 7 (CUDNN_STATUS_MAPPING_ERROR)\n",
      "[TensorRT] ERROR: FAILED_EXECUTION: std::exception\n",
      "[TensorRT] ERROR: Parameter check failed at: engine.cpp::setBindingDimensions::1136, condition: profileMaxDims.d[i] >= dimensions.d[i]\n",
      "[TensorRT] ERROR: safeContext.cpp (184) - Cudnn Error in configure: 7 (CUDNN_STATUS_MAPPING_ERROR)\n",
      "[TensorRT] ERROR: FAILED_EXECUTION: std::exception\n"
     ]
    },
    {
     "name": "stdout",
     "output_type": "stream",
     "text": [
      "Time: 0.08193707466125488\n",
      "Time: 0.07681488990783691\n",
      "Time: 0.07868313789367676\n"
     ]
    },
    {
     "name": "stderr",
     "output_type": "stream",
     "text": [
      "[TensorRT] ERROR: Parameter check failed at: engine.cpp::setBindingDimensions::1136, condition: profileMaxDims.d[i] >= dimensions.d[i]\n",
      "[TensorRT] ERROR: safeContext.cpp (184) - Cudnn Error in configure: 7 (CUDNN_STATUS_MAPPING_ERROR)\n",
      "[TensorRT] ERROR: FAILED_EXECUTION: std::exception\n",
      "[TensorRT] ERROR: Parameter check failed at: engine.cpp::setBindingDimensions::1136, condition: profileMaxDims.d[i] >= dimensions.d[i]\n",
      "[TensorRT] ERROR: safeContext.cpp (184) - Cudnn Error in configure: 7 (CUDNN_STATUS_MAPPING_ERROR)\n",
      "[TensorRT] ERROR: FAILED_EXECUTION: std::exception\n",
      "[TensorRT] ERROR: Parameter check failed at: engine.cpp::setBindingDimensions::1136, condition: profileMaxDims.d[i] >= dimensions.d[i]\n",
      "[TensorRT] ERROR: safeContext.cpp (184) - Cudnn Error in configure: 7 (CUDNN_STATUS_MAPPING_ERROR)\n",
      "[TensorRT] ERROR: FAILED_EXECUTION: std::exception\n",
      "[TensorRT] ERROR: Parameter check failed at: engine.cpp::setBindingDimensions::1136, condition: profileMaxDims.d[i] >= dimensions.d[i]\n",
      "[TensorRT] ERROR: safeContext.cpp (184) - Cudnn Error in configure: 7 (CUDNN_STATUS_MAPPING_ERROR)\n",
      "[TensorRT] ERROR: FAILED_EXECUTION: std::exception\n"
     ]
    },
    {
     "name": "stdout",
     "output_type": "stream",
     "text": [
      "Time: 0.07050013542175293\n",
      "Time: 0.05790376663208008\n",
      "Time: 0.05750322341918945\n",
      "Time: 0.05784201622009277\n"
     ]
    },
    {
     "name": "stderr",
     "output_type": "stream",
     "text": [
      "[TensorRT] ERROR: Parameter check failed at: engine.cpp::setBindingDimensions::1136, condition: profileMaxDims.d[i] >= dimensions.d[i]\n",
      "[TensorRT] ERROR: safeContext.cpp (184) - Cudnn Error in configure: 7 (CUDNN_STATUS_MAPPING_ERROR)\n",
      "[TensorRT] ERROR: FAILED_EXECUTION: std::exception\n",
      "[TensorRT] ERROR: Parameter check failed at: engine.cpp::setBindingDimensions::1136, condition: profileMaxDims.d[i] >= dimensions.d[i]\n",
      "[TensorRT] ERROR: safeContext.cpp (184) - Cudnn Error in configure: 7 (CUDNN_STATUS_MAPPING_ERROR)\n",
      "[TensorRT] ERROR: FAILED_EXECUTION: std::exception\n",
      "[TensorRT] ERROR: Parameter check failed at: engine.cpp::setBindingDimensions::1136, condition: profileMaxDims.d[i] >= dimensions.d[i]\n",
      "[TensorRT] ERROR: safeContext.cpp (184) - Cudnn Error in configure: 7 (CUDNN_STATUS_MAPPING_ERROR)\n",
      "[TensorRT] ERROR: FAILED_EXECUTION: std::exception\n",
      "[TensorRT] ERROR: Parameter check failed at: engine.cpp::setBindingDimensions::1136, condition: profileMaxDims.d[i] >= dimensions.d[i]\n",
      "[TensorRT] ERROR: safeContext.cpp (184) - Cudnn Error in configure: 7 (CUDNN_STATUS_MAPPING_ERROR)\n",
      "[TensorRT] ERROR: FAILED_EXECUTION: std::exception\n"
     ]
    },
    {
     "name": "stdout",
     "output_type": "stream",
     "text": [
      "Time: 0.05908393859863281\n",
      "Time: 0.057823896408081055\n",
      "Time: 0.05889153480529785\n",
      "Time: 0.059103965759277344\n"
     ]
    },
    {
     "name": "stderr",
     "output_type": "stream",
     "text": [
      "[TensorRT] ERROR: Parameter check failed at: engine.cpp::setBindingDimensions::1136, condition: profileMaxDims.d[i] >= dimensions.d[i]\n",
      "[TensorRT] ERROR: safeContext.cpp (184) - Cudnn Error in configure: 7 (CUDNN_STATUS_MAPPING_ERROR)\n",
      "[TensorRT] ERROR: FAILED_EXECUTION: std::exception\n",
      "[TensorRT] ERROR: Parameter check failed at: engine.cpp::setBindingDimensions::1136, condition: profileMaxDims.d[i] >= dimensions.d[i]\n",
      "[TensorRT] ERROR: safeContext.cpp (184) - Cudnn Error in configure: 7 (CUDNN_STATUS_MAPPING_ERROR)\n",
      "[TensorRT] ERROR: FAILED_EXECUTION: std::exception\n",
      "[TensorRT] ERROR: Parameter check failed at: engine.cpp::setBindingDimensions::1136, condition: profileMaxDims.d[i] >= dimensions.d[i]\n",
      "[TensorRT] ERROR: safeContext.cpp (184) - Cudnn Error in configure: 7 (CUDNN_STATUS_MAPPING_ERROR)\n",
      "[TensorRT] ERROR: FAILED_EXECUTION: std::exception\n",
      "[TensorRT] ERROR: Parameter check failed at: engine.cpp::setBindingDimensions::1136, condition: profileMaxDims.d[i] >= dimensions.d[i]\n",
      "[TensorRT] ERROR: safeContext.cpp (184) - Cudnn Error in configure: 7 (CUDNN_STATUS_MAPPING_ERROR)\n",
      "[TensorRT] ERROR: FAILED_EXECUTION: std::exception\n"
     ]
    },
    {
     "name": "stdout",
     "output_type": "stream",
     "text": [
      "Time: 0.05904269218444824\n",
      "Time: 0.06091189384460449\n",
      "Time: 0.05841469764709473\n",
      "Idx: 1500\n",
      "Time: 0.06602859497070312\n",
      "Time: 0.09794425964355469\n",
      "Time: 0.04772806167602539\n",
      "Time: 0.05843472480773926\n",
      "Time: 0.049910783767700195\n"
     ]
    },
    {
     "name": "stderr",
     "output_type": "stream",
     "text": [
      "[TensorRT] ERROR: Parameter check failed at: engine.cpp::setBindingDimensions::1136, condition: profileMaxDims.d[i] >= dimensions.d[i]\n",
      "[TensorRT] ERROR: safeContext.cpp (184) - Cudnn Error in configure: 7 (CUDNN_STATUS_MAPPING_ERROR)\n",
      "[TensorRT] ERROR: FAILED_EXECUTION: std::exception\n",
      "[TensorRT] ERROR: Parameter check failed at: engine.cpp::setBindingDimensions::1136, condition: profileMaxDims.d[i] >= dimensions.d[i]\n",
      "[TensorRT] ERROR: safeContext.cpp (184) - Cudnn Error in configure: 7 (CUDNN_STATUS_MAPPING_ERROR)\n",
      "[TensorRT] ERROR: FAILED_EXECUTION: std::exception\n",
      "[TensorRT] ERROR: Parameter check failed at: engine.cpp::setBindingDimensions::1136, condition: profileMaxDims.d[i] >= dimensions.d[i]\n",
      "[TensorRT] ERROR: safeContext.cpp (184) - Cudnn Error in configure: 7 (CUDNN_STATUS_MAPPING_ERROR)\n",
      "[TensorRT] ERROR: FAILED_EXECUTION: std::exception\n",
      "[TensorRT] ERROR: Parameter check failed at: engine.cpp::setBindingDimensions::1136, condition: profileMaxDims.d[i] >= dimensions.d[i]\n",
      "[TensorRT] ERROR: safeContext.cpp (184) - Cudnn Error in configure: 7 (CUDNN_STATUS_MAPPING_ERROR)\n",
      "[TensorRT] ERROR: FAILED_EXECUTION: std::exception\n",
      "[TensorRT] ERROR: Parameter check failed at: engine.cpp::setBindingDimensions::1136, condition: profileMaxDims.d[i] >= dimensions.d[i]\n",
      "[TensorRT] ERROR: safeContext.cpp (184) - Cudnn Error in configure: 7 (CUDNN_STATUS_MAPPING_ERROR)\n",
      "[TensorRT] ERROR: FAILED_EXECUTION: std::exception\n"
     ]
    },
    {
     "name": "stdout",
     "output_type": "stream",
     "text": [
      "Time: 0.04298520088195801\n",
      "Time: 0.05190324783325195\n",
      "Time: 0.0457453727722168\n",
      "Time: 0.04376816749572754\n"
     ]
    },
    {
     "name": "stderr",
     "output_type": "stream",
     "text": [
      "[TensorRT] ERROR: Parameter check failed at: engine.cpp::setBindingDimensions::1136, condition: profileMaxDims.d[i] >= dimensions.d[i]\n",
      "[TensorRT] ERROR: safeContext.cpp (184) - Cudnn Error in configure: 7 (CUDNN_STATUS_MAPPING_ERROR)\n",
      "[TensorRT] ERROR: FAILED_EXECUTION: std::exception\n",
      "[TensorRT] ERROR: Parameter check failed at: engine.cpp::setBindingDimensions::1136, condition: profileMaxDims.d[i] >= dimensions.d[i]\n",
      "[TensorRT] ERROR: safeContext.cpp (184) - Cudnn Error in configure: 7 (CUDNN_STATUS_MAPPING_ERROR)\n",
      "[TensorRT] ERROR: FAILED_EXECUTION: std::exception\n",
      "[TensorRT] ERROR: Parameter check failed at: engine.cpp::setBindingDimensions::1136, condition: profileMaxDims.d[i] >= dimensions.d[i]\n",
      "[TensorRT] ERROR: safeContext.cpp (184) - Cudnn Error in configure: 7 (CUDNN_STATUS_MAPPING_ERROR)\n",
      "[TensorRT] ERROR: FAILED_EXECUTION: std::exception\n",
      "[TensorRT] ERROR: Parameter check failed at: engine.cpp::setBindingDimensions::1136, condition: profileMaxDims.d[i] >= dimensions.d[i]\n",
      "[TensorRT] ERROR: safeContext.cpp (184) - Cudnn Error in configure: 7 (CUDNN_STATUS_MAPPING_ERROR)\n",
      "[TensorRT] ERROR: FAILED_EXECUTION: std::exception\n"
     ]
    },
    {
     "name": "stdout",
     "output_type": "stream",
     "text": [
      "Time: 0.04992389678955078\n",
      "Time: 0.07387733459472656\n",
      "Time: 0.04847002029418945\n",
      "Time: 0.04959702491760254\n",
      "Stage 2: 2D-to-3D pose lifting.\n"
     ]
    },
    {
     "name": "stderr",
     "output_type": "stream",
     "text": [
      "[TensorRT] ERROR: Parameter check failed at: engine.cpp::setBindingDimensions::1136, condition: profileMaxDims.d[i] >= dimensions.d[i]\n",
      "[TensorRT] ERROR: safeContext.cpp (184) - Cudnn Error in configure: 7 (CUDNN_STATUS_MAPPING_ERROR)\n",
      "[TensorRT] ERROR: FAILED_EXECUTION: std::exception\n",
      "[TensorRT] ERROR: Parameter check failed at: engine.cpp::setBindingDimensions::1136, condition: profileMaxDims.d[i] >= dimensions.d[i]\n",
      "[TensorRT] ERROR: safeContext.cpp (184) - Cudnn Error in configure: 7 (CUDNN_STATUS_MAPPING_ERROR)\n",
      "[TensorRT] ERROR: FAILED_EXECUTION: std::exception\n",
      "[TensorRT] ERROR: Parameter check failed at: engine.cpp::setBindingDimensions::1136, condition: profileMaxDims.d[i] >= dimensions.d[i]\n",
      "[TensorRT] ERROR: safeContext.cpp (184) - Cudnn Error in configure: 7 (CUDNN_STATUS_MAPPING_ERROR)\n",
      "[TensorRT] ERROR: FAILED_EXECUTION: std::exception\n"
     ]
    },
    {
     "name": "stdout",
     "output_type": "stream",
     "text": [
      "[>>>>>>>>>>>>>>>>>>>>>>>>>>] 1513/1513, 1128.3 task/s, elapsed: 1s, ETA:     0s\n",
      "Video \"BAR-S_water_ballon\" processed.\n",
      "Total time: 101.3261661529541\n"
     ]
    }
   ],
   "source": [
    "# Test one video\n",
    "import time\n",
    "args.video_name = 'BAR-S_water_ballon'\n",
    "args.file_path = 'demo/resources/test_vids/BAR-S_water_ballon.mov'\n",
    "args.detections_2d = \"\"\n",
    "# args.file_path = 'demo/resources/test_vids/gHO_sBM_c08_d20_mHO0_ch10.mp4'\n",
    "t1 = time.time()\n",
    "m_2d_3d_model.process_video(args)\n",
    "print(f\"Total time: {time.time() - t1}\")"
   ]
  },
  {
   "cell_type": "code",
   "execution_count": null,
   "id": "thrown-flower",
   "metadata": {},
   "outputs": [],
   "source": [
    "import glob\n",
    "import re\n",
    "\n",
    "video_directory = 'evaluation_vids'\n",
    "\n",
    "def get_video_list():\n",
    "    '''Get list of videos to process'''\n",
    "    file_paths = glob.glob(\"demo/resources/{}/*\".format(video_directory))\n",
    "    video_names = []\n",
    "    \n",
    "    for path in file_paths:\n",
    "        video_names.append(\n",
    "            SimpleNamespace(\n",
    "                **{\n",
    "                    'video_name': re.search('/.*/.*/(.*)(?:[.])', path).group(1),\n",
    "                    'file_path': 'demo/resources/{}/'.format(video_directory) + re.search('/.*/.*/(.*)', path).group(1)\n",
    "                }\n",
    "            )\n",
    "        )\n",
    "    \n",
    "    return video_names\n"
   ]
  },
  {
   "cell_type": "code",
   "execution_count": null,
   "id": "descending-remark",
   "metadata": {},
   "outputs": [],
   "source": [
    "def process_videos():\n",
    "    '''Iterate through videos and process'''\n",
    "    video_list = get_video_list()\n",
    "    print(video_list)\n",
    "    for video in video_list:\n",
    "        args.video_name = video.video_name\n",
    "        args.file_path = video.file_path\n",
    "        m_2d_3d_model.process_video(args)\n",
    "        \n",
    "process_videos()"
   ]
  },
  {
   "cell_type": "markdown",
   "id": "7e4c1077",
   "metadata": {},
   "source": [
    "# Loading wrnch\n"
   ]
  },
  {
   "cell_type": "code",
   "execution_count": null,
   "id": "478cb926",
   "metadata": {},
   "outputs": [],
   "source": [
    "import json\n",
    "import numpy as np\n",
    "\n",
    "filename = 'work_dirs/tumeke_testing/wrnch_jsons/AFG_subject_switching_close_nurses_subjects1_partial.json'\n",
    "f = open(filename, \"r\")\n",
    "data = json.load(f)\n",
    "f.close()"
   ]
  },
  {
   "cell_type": "code",
   "execution_count": null,
   "id": "3b075103",
   "metadata": {},
   "outputs": [],
   "source": [
    "def get_wrnch_raw_data():\n",
    "    standard_format_data = []\n",
    "    wrnch_to_hrnet = [16, 19, 17, 20, 18, 13, 12, 14, 11, 15, 10, 3, 2, 4, 1, 5, 0]\n",
    "    frame_width = 720 # Update AUTOMATICALLY!\n",
    "    frame_height = 1280 # Update AUTOMATICALLY!\n",
    "    for i in range(len(data[\"frames\"])):\n",
    "        wrnch_frame = data[\"frames\"][i]\n",
    "        single_frame = []\n",
    "        for single_person_data in wrnch_frame[\"persons\"]:\n",
    "            if (\"pose2d\" not in single_person_data):\n",
    "                continue\n",
    "            if (\"joints\" not in single_person_data[\"pose2d\"]):\n",
    "                continue\n",
    "            arr_2d = single_person_data[\"pose2d\"][\"joints\"]\n",
    "            if (arr_2d == []):\n",
    "                continue\n",
    "            kpts2d = np.array(arr_2d).reshape((25, 2))\n",
    "            kpts2d[:, 0] *= frame_width\n",
    "            kpts2d[:, 1] *= frame_height\n",
    "            kpts2d = np.where(kpts2d < 0, 0, kpts2d)\n",
    "\n",
    "            standard_format = np.hstack((kpts2d[wrnch_to_hrnet], np.ones((17, 1))))\n",
    "            single_frame.append({\n",
    "                \"keypoints\": standard_format\n",
    "            })\n",
    "        standard_format_data.append(single_frame)\n",
    "    \n",
    "    return standard_format_data\n",
    "\n",
    "wrnch_raw_data = get_wrnch_raw_data()"
   ]
  },
  {
   "cell_type": "code",
   "execution_count": null,
   "id": "3d03fd99",
   "metadata": {},
   "outputs": [],
   "source": [
    "# wrnch_raw_data[2]"
   ]
  },
  {
   "cell_type": "code",
   "execution_count": null,
   "id": "cd12a0d6",
   "metadata": {},
   "outputs": [],
   "source": [
    "wrnch_df = raw_data_to_dataframe(wrnch_raw_data)\n",
    "wrnch_df"
   ]
  },
  {
   "cell_type": "markdown",
   "id": "b893b12b",
   "metadata": {},
   "source": [
    "# Load Hrnet "
   ]
  },
  {
   "cell_type": "code",
   "execution_count": null,
   "id": "native-browse",
   "metadata": {},
   "outputs": [],
   "source": [
    "# Test loading pickeled keypoints\n",
    "import pickle\n",
    "with open ('work_dirs/tumeke_testing/pickle_files/AFG_subject_switching_close_nurses_subjects1_partial.p', 'rb') as fp:\n",
    "    raw_data = pickle.load(fp)\n",
    "\n",
    "'''Load picked data into numpy.\n",
    "    \n",
    "Bounding box values are: 'xyxy' = (left, top, right, bottom)\n",
    "\n",
    "Key Point values are: (ndarray[Kx3]): x, y, score\n",
    "\n",
    "'''    \n"
   ]
  },
  {
   "cell_type": "code",
   "execution_count": null,
   "id": "absent-calgary",
   "metadata": {},
   "outputs": [],
   "source": [
    "#Just focus on videos with one subject for now\n",
    "\n",
    "raw_data[400]"
   ]
  },
  {
   "cell_type": "code",
   "execution_count": null,
   "id": "89807934",
   "metadata": {},
   "outputs": [],
   "source": [
    "# r_shoulder_i = joint_order.index('right_shoulder')\n",
    "# r_elbow_i = joint_order.index('right_elbow')\n",
    "# l_shoulder_i = joint_order.index('left_shoulder')\n",
    "# l_elbow_i = joint_order.index('left_elbow')\n",
    "\n",
    "# keypoint_array = raw_data[2][0]['keypoints']\n",
    "# keypoint_array[r_shoulder_i], keypoint_array[r_elbow_i]\n",
    "# # euclidean_dist(np.array([483.336, 456.679]), np.array([470.485, 504.871])) # 49.876016931988474\n",
    "# euclidean_dist(keypoint_array[r_shoulder_i], keypoint_array[r_elbow_i]) # 49.876083"
   ]
  },
  {
   "cell_type": "code",
   "execution_count": null,
   "id": "0c9d4a36",
   "metadata": {},
   "outputs": [],
   "source": [
    "# r_shoulder_i = joint_order.index('right_shoulder')\n",
    "# r_elbow_i = joint_order.index('right_elbow')\n",
    "# r_hip_i= joint_order.index('right_hip')\n",
    "# l_shoulder_i = joint_order.index('left_shoulder')\n",
    "# l_elbow_i = joint_order.index('left_elbow')\n",
    "# l_hip_i = joint_order.index('left_hip')\n",
    "\n",
    "# for subject in raw_data[906]:\n",
    "#     print(subject)\n",
    "#     keypoint_array = subject['keypoints']\n",
    "#     r_se_ed = euclidean_dist(keypoint_array[r_shoulder_i], keypoint_array[r_elbow_i])\n",
    "#     r_sh_ed = euclidean_dist(keypoint_array[r_shoulder_i], keypoint_array[r_hip_i])\n",
    "#     l_se_ed = euclidean_dist(keypoint_array[l_shoulder_i], keypoint_array[l_elbow_i])\n",
    "#     l_sh_ed = euclidean_dist(keypoint_array[l_shoulder_i], keypoint_array[l_hip_i])\n",
    "#     print(np.array([r_se_ed, r_sh_ed, l_se_ed, l_sh_ed]).mean())\n"
   ]
  },
  {
   "cell_type": "code",
   "execution_count": null,
   "id": "081935ca",
   "metadata": {},
   "outputs": [],
   "source": [
    "# TEST SORT\n",
    "# sorted_raw_data = []\n",
    "# for frame in raw_data:\n",
    "#     sorted_raw_data.append(sorted(frame, key=lambda x: closest_subject_heuristic(x['keypoints']), reverse=True))\n",
    "    \n",
    "# print(sorted_raw_data[906])\n"
   ]
  },
  {
   "cell_type": "code",
   "execution_count": null,
   "id": "210b6973",
   "metadata": {},
   "outputs": [],
   "source": [
    "# View histogram of subjects per frame\n",
    "# subjects = [len(i) for i in raw_data]\n",
    "# plt.hist(subjects, bins=200)"
   ]
  },
  {
   "cell_type": "code",
   "execution_count": null,
   "id": "contrary-burning",
   "metadata": {},
   "outputs": [],
   "source": [
    "import numpy as np\n",
    "import pandas as pd\n",
    "np.set_printoptions(formatter={'float': '{: 0.3f}'.format})\n",
    "\n",
    "joint_order = [\n",
    "    \"nose\", \n",
    "    \"left_eye\", \n",
    "    \"right_eye\", \n",
    "    \"left_ear\", \n",
    "    \"right_ear\", \n",
    "    \"left_shoulder\", \n",
    "    \"right_shoulder\", \n",
    "    \"left_elbow\", \n",
    "    \"right_elbow\", \n",
    "    \"left_wrist\", \n",
    "    \"right_wrist\", \n",
    "    \"left_hip\", \n",
    "    \"right_hip\", \n",
    "    \"left_knee\", \n",
    "    \"right_knee\", \n",
    "    \"left_ankle\", \n",
    "    \"right_ankle\" \n",
    "]\n",
    "\n",
    "# def index_of(val, in_list):\n",
    "#     try:\n",
    "#         return in_list.index(val)\n",
    "#     except ValueError:\n",
    "#         return -1 \n",
    "\n",
    "# # initializing points in\n",
    "# # numpy arrays\n",
    "# point1 = np.array((1, 2))\n",
    "# point2 = np.array((2, 4))\n",
    " \n",
    "# # calculating Euclidean distance\n",
    "# # using linalg.norm()\n",
    "# dist = np.linalg.norm(point1 - point2)\n",
    "# dist\n",
    "\n",
    "def euclidean_dist(p1, p2):\n",
    "    # Euclidean distance\n",
    "    return np.linalg.norm(p1 - p2)\n",
    "\n",
    "def closest_subject_heuristic(keypoint_array):\n",
    "    '''Get avg euclidean distance between right shoulder/elbow, left shoulder/elbow, right shoulder/hip and left shoulder/hip''' \n",
    "    r_shoulder_i = joint_order.index('right_shoulder')\n",
    "    r_elbow_i = joint_order.index('right_elbow')\n",
    "    r_hip_i= joint_order.index('right_hip')\n",
    "    l_shoulder_i = joint_order.index('left_shoulder')\n",
    "    l_elbow_i = joint_order.index('left_elbow')\n",
    "    l_hip_i = joint_order.index('left_hip')\n",
    "    \n",
    "    r_se_ed = euclidean_dist(keypoint_array[r_shoulder_i], keypoint_array[r_elbow_i])\n",
    "    r_sh_ed = euclidean_dist(keypoint_array[r_shoulder_i], keypoint_array[r_hip_i])\n",
    "    l_se_ed = euclidean_dist(keypoint_array[l_shoulder_i], keypoint_array[l_elbow_i])\n",
    "    l_sh_ed = euclidean_dist(keypoint_array[l_shoulder_i], keypoint_array[l_hip_i])\n",
    "    return np.array([r_se_ed, r_sh_ed, l_se_ed, l_sh_ed]).mean()\n",
    "\n",
    "def pull_from_dict(key, dict):\n",
    "    try:\n",
    "        return dict[key]\n",
    "    except (KeyError, TypeError):\n",
    "        if key == 'bbox':\n",
    "            return np.full(5,np.NaN)\n",
    "        else:\n",
    "            return np.NaN\n",
    "\n",
    "def extract_subject(subject_num, subjects):\n",
    "    try:\n",
    "        return subjects[subject_num-1]\n",
    "    except IndexError:\n",
    "        return None \n",
    "\n",
    "def raw_data_to_dataframe(raw_data):\n",
    "    \"\"\" Load into dataframe\"\"\"\n",
    "    \n",
    "    # Order subjects in each frame by bbox size\n",
    "    sorted_raw_data = []\n",
    "    for frame in raw_data:\n",
    "        sorted_raw_data.append(sorted(frame, key=lambda x: closest_subject_heuristic(x['keypoints']), reverse=True))\n",
    "\n",
    "    # Get first identified subject in every frame\n",
    "    first_subj = np.array([extract_subject(1, i) for i in sorted_raw_data])\n",
    "\n",
    "    # Extract relevant fields to be set as columns\n",
    "    bbox = np.array([pull_from_dict('bbox', i) for i in first_subj])\n",
    "    area = np.array([pull_from_dict('area', i) for i in first_subj])\n",
    "    track_id = np.array([pull_from_dict('track_id', i) for i in first_subj])\n",
    "\n",
    "    # Structure Keypoints\n",
    "    keypoints_array = []\n",
    "    for frame in first_subj:\n",
    "        \n",
    "        #TODO(znoland):sanity check this and make sure no issues!\n",
    "        # Keypoint order! - configs/_base_/datasets/h36m.py\n",
    "        if not frame:\n",
    "            # If no data for subject\n",
    "            frame_keypoints = {}\n",
    "            for index in range(17):\n",
    "                frame_keypoints['j{}_x'.format(index)] = np.NaN\n",
    "                frame_keypoints['j{}_y'.format(index)] = np.NaN\n",
    "                frame_keypoints['j{}_score'.format(index)] = np.NaN\n",
    "                frame_keypoints['j{}_l'.format(index)] = joint_order[index]\n",
    "            keypoints_array.append(frame_keypoints)\n",
    "            \n",
    "        else:\n",
    "            # If data for subject\n",
    "            frame_keypoints = {}\n",
    "            for index, keypoint in enumerate(frame['keypoints']):\n",
    "                frame_keypoints['j{}_x'.format(index)] = keypoint[0]\n",
    "                frame_keypoints['j{}_y'.format(index)] = keypoint[1]\n",
    "                frame_keypoints['j{}_score'.format(index)] = keypoint[2]\n",
    "                frame_keypoints['j{}_l'.format(index)] = joint_order[index]\n",
    "            keypoints_array.append(frame_keypoints)\n",
    "\n",
    "    # Create seperate dataframes (otherwise can't combine as >1-dimensional fields in pandas or numpy)\n",
    "    bbox_s = pd.DataFrame(bbox, columns=['bbox_left', 'bbox_top', 'bbox_right', 'bbox_bottom', 'bbox_score'])\n",
    "    area_s = pd.DataFrame(area, columns=['area'])\n",
    "    track_id_s = pd.DataFrame(track_id, columns=['track_id'])\n",
    "    keypoints_s = pd.DataFrame(keypoints_array)\n",
    "\n",
    "\n",
    "    # Create combined DataFrame\n",
    "    df = pd.concat([bbox_s,area_s,track_id_s,keypoints_s], axis=1)\n",
    "    \n",
    "    df.reset_index(inplace=True)\n",
    "    df = df.rename(columns = {'index':'id'})\n",
    "    return df\n",
    "\n",
    "    #TODO(znoland): Set index as a frame number column (e.g. video1_frame_num)\n",
    "    #TODO(znoland): Add column with the name of the video?\n",
    "\n",
    "    \n",
    "df = raw_data_to_dataframe(raw_data)\n",
    "pd.set_option(\"display.max_columns\", None)\n",
    "# # Skip every other row\n",
    "# df = df.iloc[::2, :]\n",
    "# df = df.set_index('id')\n",
    "df"
   ]
  },
  {
   "cell_type": "code",
   "execution_count": null,
   "id": "92ce4cc8",
   "metadata": {},
   "outputs": [],
   "source": []
  },
  {
   "cell_type": "code",
   "execution_count": null,
   "id": "471001aa",
   "metadata": {},
   "outputs": [],
   "source": [
    "# Create column names\n",
    "score_column_names = ['bbox_score']\n",
    "for i in range(17):\n",
    "    score_column_names.append('j{}_score'.format(i))\n",
    "\n",
    "pd.DataFrame(df[score_column_names].median()).T"
   ]
  },
  {
   "cell_type": "markdown",
   "id": "11c3e6e8",
   "metadata": {},
   "source": [
    "### Visualize Scores - Hist"
   ]
  },
  {
   "cell_type": "code",
   "execution_count": null,
   "id": "dde137a4",
   "metadata": {},
   "outputs": [],
   "source": [
    "import matplotlib.pyplot as plt\n",
    "import seaborn as sns\n",
    "plt.show()\n",
    "sns.set(rc={'figure.figsize':(21,15)})\n",
    "\n",
    "import matplotlib.pyplot as plt\n",
    "n_rows=3\n",
    "n_cols=6\n",
    "# Create the subplots\n",
    "fig, axes = plt.subplots(nrows=n_rows, ncols=n_cols)\n",
    "\n",
    "# Set x axis limit (keep all charts on same axis)\n",
    "for row in axes:\n",
    "    for chart in row:\n",
    "        chart.set_xlim(0,1) \n",
    "\n",
    "for i, column in enumerate(df[score_column_names].columns):\n",
    "    ax = sns.histplot(df[column],ax=axes[i//n_cols,i%n_cols])\n",
    "    if column == 'bbox_score':\n",
    "        ax.set_title('bbox_score')\n",
    "    else: \n",
    "        ax.set_title(joint_order[i-1]) # Currently has bbox as well, so need to offset title"
   ]
  },
  {
   "cell_type": "code",
   "execution_count": null,
   "id": "9f4bc27d",
   "metadata": {},
   "outputs": [],
   "source": [
    "def f2d_skeleton_smoothness(df):\n",
    "    ''' Get Euclidean distance '''\n",
    "    \n",
    "    # Build dict to accumulate calcs\n",
    "    dict_2d_smth = {}\n",
    "    for j in range(17):\n",
    "            joint_field = 'j{}_euc_dist'.format(j)\n",
    "            dict_2d_smth[joint_field] = []\n",
    "\n",
    "    # Iterate through rows (Standard shift(-1) can't be used with this calc, so must iterate)\n",
    "    for i in range(len(df)):\n",
    "        for j in range(17):\n",
    "            joint_field_x = 'j{}_x'.format(j)\n",
    "            joint_field_y = 'j{}_y'.format(j)\n",
    "            joint_field_score = 'j{}_score'.format(j)\n",
    "            \n",
    "            #TODO(znoland): return NaN when score below certain amount?\n",
    "            \n",
    "            try:\n",
    "                dict_2d_smth['j{}_euc_dist'.format(j)].append(\n",
    "                    euclidean_dist(\n",
    "                        np.array([df.loc[i, joint_field_x], df.loc[i, joint_field_y]]), \n",
    "                        np.array([df.loc[i+1, joint_field_x], df.loc[i+1, joint_field_y]])\n",
    "                    )\n",
    "                )\n",
    "            except:\n",
    "                print('skiped row {}'.format(i))\n",
    "\n",
    "    return pd.DataFrame(dict_2d_smth)\n",
    "\n",
    "df_2d_smth = f2d_skeleton_smoothness(df)\n",
    "df_2d_smth\n"
   ]
  },
  {
   "cell_type": "code",
   "execution_count": null,
   "id": "89f3ae1b",
   "metadata": {},
   "outputs": [],
   "source": [
    "# Median distance between joints and previous frame by joint\n",
    "df_euc_by_joint = pd.DataFrame(df_2d_smth.median()).T\n",
    "df_euc_by_joint.columns = joint_order\n",
    "df_euc_by_joint.T"
   ]
  },
  {
   "cell_type": "markdown",
   "id": "6acd3bf2",
   "metadata": {},
   "source": [
    "### Visualize Sample Euclidean Distance - Hist"
   ]
  },
  {
   "cell_type": "code",
   "execution_count": null,
   "id": "f2645c02",
   "metadata": {},
   "outputs": [],
   "source": [
    "import matplotlib.pyplot as plt\n",
    "import seaborn as sns\n",
    "plt.show()\n",
    "sns.set(rc={'figure.figsize':(21,15)})\n",
    "\n",
    "# df_2d_smth.j0_euc_dist.hist()\n",
    "# sns.histplot(df_2d_smth).show()\n",
    "    \n",
    "import matplotlib.pyplot as plt\n",
    "n_rows=3\n",
    "n_cols=6\n",
    "# Create the subplots\n",
    "fig, axes = plt.subplots(nrows=n_rows, ncols=n_cols)\n",
    "\n",
    "# Set x axis limit (keep all charts on same axis)\n",
    "for row in axes:\n",
    "    for chart in row:\n",
    "        chart.set_xlim(0,df_2d_smth.quantile(0.90).max()) # df_2d_smth.max().max()\n",
    "\n",
    "for i, column in enumerate(df_2d_smth.columns):\n",
    "    ax = sns.histplot(df_2d_smth[column],ax=axes[i//n_cols,i%n_cols])\n",
    "    ax.set_title(joint_order[i]) \n"
   ]
  },
  {
   "cell_type": "markdown",
   "id": "80672c70",
   "metadata": {},
   "source": [
    "## Load example ground truth video"
   ]
  },
  {
   "cell_type": "code",
   "execution_count": null,
   "id": "768bd624",
   "metadata": {},
   "outputs": [],
   "source": [
    "import json\n",
    "\n",
    "with open('work_dirs/tumeke_testing/ground_truth_labels/AFG_subject_switching_close_nurses_subjects1_partial.json') as f:\n",
    "  labels = json.load(f)"
   ]
  },
  {
   "cell_type": "code",
   "execution_count": null,
   "id": "b878666e",
   "metadata": {},
   "outputs": [],
   "source": [
    "len(labels)"
   ]
  },
  {
   "cell_type": "code",
   "execution_count": null,
   "id": "777faf71",
   "metadata": {},
   "outputs": [],
   "source": [
    "labels[0]"
   ]
  },
  {
   "cell_type": "code",
   "execution_count": null,
   "id": "fa422b52",
   "metadata": {},
   "outputs": [],
   "source": [
    "# test = pd.DataFrame(labels[0]['pose-keypoints'])\n",
    "\n",
    "# test['x_px'] = (test['x']) / 100.0 * test['original_width']\n",
    "# test['y_px'] = (test['y']) / 100.0 * test['original_height']\n",
    "\n",
    "# test"
   ]
  },
  {
   "cell_type": "code",
   "execution_count": null,
   "id": "c8fa2af0",
   "metadata": {},
   "outputs": [],
   "source": [
    "# from matplotlib.pyplot import figure\n",
    "# import matplotlib.image as mpimg \n",
    "# from scipy import ndimage\n",
    "\n",
    "# img = mpimg.imread('work_dirs/tumeke_testing/ground_truth_images/BAR-S_water_ballon/00001274.jpg')\n",
    "# sns.scatterplot(data=test, x=\"x_px\", y=\"y_px\")\n",
    "# # ax.invert_yaxis()\n",
    "# # width_perc = 720 / 1280\n",
    "# # plt.rcParams[\"figure.figsize\"] = (10 * width_perc, 10)\n",
    "# # plt.xlim(0, 720)\n",
    "# # plt.ylim(0, 1280)\n",
    "# plt.imshow(img)\n",
    "# plt.show()"
   ]
  },
  {
   "cell_type": "markdown",
   "id": "9777cf6a",
   "metadata": {},
   "source": [
    "## Structure ground truth data"
   ]
  },
  {
   "cell_type": "code",
   "execution_count": null,
   "id": "d295d664",
   "metadata": {},
   "outputs": [],
   "source": [
    "# img, id, keypoints (j0_x, j0_y)\n",
    "\n",
    "# 1) loop through each frame\n",
    "# 2) take the first person (wait till we have the relationships)\n",
    "# 3) pivot into dataframe like previous function for ETL"
   ]
  },
  {
   "cell_type": "code",
   "execution_count": null,
   "id": "04ed1d15",
   "metadata": {},
   "outputs": [],
   "source": [
    "labels[0:1]"
   ]
  },
  {
   "cell_type": "code",
   "execution_count": null,
   "id": "bfe632db",
   "metadata": {},
   "outputs": [],
   "source": []
  },
  {
   "cell_type": "code",
   "execution_count": null,
   "id": "795dec22",
   "metadata": {},
   "outputs": [],
   "source": [
    "import re\n",
    "\n",
    "joint_order = [\n",
    "    'Nose', \n",
    "    'L_Eye', \n",
    "    'R_Eye', \n",
    "    'L_Ear', \n",
    "    'R_Ear', \n",
    "    'L_Shoulder', \n",
    "    'R_Shoulder', \n",
    "    'L_Elbow', \n",
    "    'R_Elbow', \n",
    "    'L_Wrist', \n",
    "    'R_Wrist', \n",
    "    'L_Hip', \n",
    "    'R_Hip', \n",
    "    'L_Knee', \n",
    "    'R_Knee', \n",
    "    'L_Ankle', \n",
    "    'R_Ankle' \n",
    "]\n",
    "\n",
    "def extract_x_and_y(joint):\n",
    "    return np.array([joint['x'], joint['y']])\n",
    "\n",
    "\n",
    "def closest_subject_heuristic_raw(keypoint_obj):\n",
    "    '''Get avg euclidean distance between right shoulder/elbow, left shoulder/elbow, right shoulder/hip and left shoulder/hip''' \n",
    "    r_shoulder_i = joint_order.index('R_Shoulder')\n",
    "    r_elbow_i = joint_order.index('R_Elbow')\n",
    "    r_hip_i= joint_order.index('R_Hip')\n",
    "    l_shoulder_i = joint_order.index('L_Shoulder')\n",
    "    l_elbow_i = joint_order.index('L_Elbow')\n",
    "    l_hip_i = joint_order.index('L_Hip')\n",
    "    \n",
    "    r_se_ed = euclidean_dist(extract_x_and_y(keypoint_obj[r_shoulder_i]), extract_x_and_y(keypoint_obj[r_elbow_i]))\n",
    "    r_sh_ed = euclidean_dist(extract_x_and_y(keypoint_obj[r_shoulder_i]), extract_x_and_y(keypoint_obj[r_hip_i]))\n",
    "    l_se_ed = euclidean_dist(extract_x_and_y(keypoint_obj[l_shoulder_i]), extract_x_and_y(keypoint_obj[l_elbow_i]))\n",
    "    l_sh_ed = euclidean_dist(extract_x_and_y(keypoint_obj[l_shoulder_i]), extract_x_and_y(keypoint_obj[l_hip_i]))\n",
    "    return np.array([r_se_ed, r_sh_ed, l_se_ed, l_sh_ed]).mean()\n",
    "\n",
    "\n",
    "def ground_truth_processing(labels):\n",
    "    '''Tranform ground truth data into data frame\n",
    "\n",
    "        1) Get Subjects\n",
    "\n",
    "        2) Get Keypoints for each subject\n",
    "\n",
    "        3) Order subjects by heuristic\n",
    "\n",
    "    '''\n",
    "\n",
    "    frame_array = []\n",
    "\n",
    "    for label in labels:\n",
    "    #     label = label_r[0]\n",
    "        # label = labels[0:1][0]\n",
    "\n",
    "        row = {}\n",
    "\n",
    "        # Metadata\n",
    "        img_name = re.search(r'(\\d\\d+)', label['data']['img']).group(0)\n",
    "        row['id'] = int(img_name)\n",
    "        row['ls_id'] = label['id']\n",
    "        row['img'] = label['data']['img']\n",
    "        row['subjects'] = []\n",
    "\n",
    "        #Subjects\n",
    "        persons_t = [p for p in label['annotations'][0]['result'] if p['type'] == 'rectanglelabels']\n",
    "\n",
    "        # Keypoints\n",
    "        keypoints_t = [k for k in label['annotations'][0]['result'] if k['type'] == 'keypointlabels']\n",
    "\n",
    "        for i, person in enumerate(persons_t):\n",
    "\n",
    "            # Filter on subject's keypoints\n",
    "            person_keypoints_t = [k for k in keypoints_t if k['parentID'] == person['id']]\n",
    "            # Filter out unused keypoints\n",
    "            person_keypoints_t = [k for k in person_keypoints_t if k['value']['keypointlabels'][0] in joint_order]\n",
    "\n",
    "             # Set order of keypoints + set placeholders when null\n",
    "            person_keypoints_sorted = []\n",
    "            for i, joint_name in enumerate(joint_order):\n",
    "                target_keypoint = [k for k in person_keypoints_t if k['value']['keypointlabels'][0] == joint_name]\n",
    "\n",
    "                if target_keypoint:\n",
    "                    original_width = target_keypoint[0]['original_width']\n",
    "                    original_height = target_keypoint[0]['original_height']\n",
    "                    target_keypoint = target_keypoint[0]['value']\n",
    "                    target_keypoint['original_width'] = original_width\n",
    "                    target_keypoint['original_height'] = original_height\n",
    "                else:\n",
    "                    target_keypoint = {'x': np.nan, 'y': np.nan, 'width': np.nan, 'keypointlabels': [joint_name], 'original_width': np.nan, 'original_height': np.nan, }\n",
    "\n",
    "                person_keypoints_sorted.append(target_keypoint)\n",
    "\n",
    "            subject_t = {\n",
    "                'name': person['value']['rectanglelabels'][0],\n",
    "                'id': person['id'],\n",
    "                'pose-keypoints': person_keypoints_sorted,\n",
    "                'closest-subject-heuristic': closest_subject_heuristic_raw(person_keypoints_sorted)\n",
    "            }\n",
    "            row['subjects'].append(subject_t)\n",
    "\n",
    "\n",
    "        # Sort subjects by heuristic\n",
    "        row['subjects'] = sorted(row['subjects'], key=lambda x: x['closest-subject-heuristic'], reverse=True)\n",
    "\n",
    "        # Format x & y coordinates (for 1st subject only)\n",
    "        for index, keypoint in enumerate(row['subjects'][0]['pose-keypoints']):\n",
    "            if len(keypoint['keypointlabels']) > 1:\n",
    "                raise ValueError('There are multiple labels for one keypoint!') \n",
    "            row['j{}_x'.format(index)] = keypoint['x'] / 100.0 * keypoint['original_width']\n",
    "            row['j{}_y'.format(index)] = keypoint['y'] / 100.0 * keypoint['original_height']\n",
    "            row['j{}_l'.format(index)] = keypoint['keypointlabels'][0]\n",
    "\n",
    "        frame_array.append(row)\n",
    "        \n",
    "    return frame_array\n",
    "\n",
    "# raw array is \"frame_array\" !\n",
    "gt_frame_array = ground_truth_processing(labels)\n",
    "gt_df = pd.DataFrame(gt_frame_array)\n",
    "# Order by ID\n",
    "gt_df = gt_df.sort_values(by='id')\n",
    "gt_df = gt_df.reset_index(drop=True)\n",
    "gt_df = gt_df.set_index('id')\n",
    "gt_df"
   ]
  },
  {
   "cell_type": "code",
   "execution_count": null,
   "id": "02fd8a88",
   "metadata": {},
   "outputs": [],
   "source": [
    "gt_df['subjects'].loc[[2]].values[0]"
   ]
  },
  {
   "cell_type": "code",
   "execution_count": null,
   "id": "4bd03b64",
   "metadata": {},
   "outputs": [],
   "source": []
  },
  {
   "cell_type": "code",
   "execution_count": null,
   "id": "baf23b2e",
   "metadata": {},
   "outputs": [],
   "source": [
    "# OLDER METHOD FOR SIGNLE SUBJECT VIDEOS\n",
    "\n",
    "# import re\n",
    "\n",
    "# joint_order = [\n",
    "#     'Nose', \n",
    "#     'L_Eye', \n",
    "#     'R_Eye', \n",
    "#     'L_Ear', \n",
    "#     'R_Ear', \n",
    "#     'L_Shoulder', \n",
    "#     'R_Shoulder', \n",
    "#     'L_Elbow', \n",
    "#     'R_Elbow', \n",
    "#     'L_Wrist', \n",
    "#     'R_Wrist', \n",
    "#     'L_Hip', \n",
    "#     'R_Hip', \n",
    "#     'L_Knee', \n",
    "#     'R_Knee', \n",
    "#     'L_Ankle', \n",
    "#     'R_Ankle' \n",
    "# ]\n",
    "\n",
    "# def ground_truth_etl(labels):\n",
    "#     '''Tranform ground truth data into data frame'''\n",
    "#     frame_array = []\n",
    "#     for label in labels:\n",
    "#         row = {}\n",
    "#         img_name = re.search(r'(\\d\\d+)', label['img']).group(0)\n",
    "#         row['id'] = int(img_name)\n",
    "#         row['ls_id'] = label['id']\n",
    "#         row['img'] = label['img']\n",
    "        \n",
    "#         # Filter out unused keypoints\n",
    "#         label['pose-keypoints'] = [keypoint for keypoint in label['pose-keypoints'] if keypoint['keypointlabels'][0] in joint_order]\n",
    "#         # Set order of keypoints\n",
    "#         label['pose-keypoints'].sort(key=lambda x: joint_order.index(x['keypointlabels'][0]))\n",
    "\n",
    "#         for index, keypoint in enumerate(label['pose-keypoints']):\n",
    "#             if len(keypoint['keypointlabels']) > 1:\n",
    "#                 raise ValueError('There are multiple labels for one keypoint!') \n",
    "#             row['j{}_x'.format(index)] = keypoint['x'] / 100.0 * keypoint['original_width']\n",
    "#             row['j{}_y'.format(index)] = keypoint['y'] / 100.0 * keypoint['original_height']\n",
    "#             row['j{}_l'.format(index)] = keypoint['keypointlabels'][0]\n",
    "\n",
    "#         frame_array.append(row)\n",
    "        \n",
    "#     return pd.DataFrame(frame_array)\n",
    "        \n",
    "# gt_df = ground_truth_etl(labels)\n",
    "# # Order by ID\n",
    "# gt_df = gt_df.sort_values(by='id')\n",
    "# gt_df = gt_df.reset_index(drop=True)\n",
    "# gt_df = gt_df.set_index('id')"
   ]
  },
  {
   "cell_type": "code",
   "execution_count": null,
   "id": "9330f3b1",
   "metadata": {},
   "outputs": [],
   "source": [
    "#NOTE: IT APPEARS AS IF A ROW IS NOT RETURNED WHEN a frame is not labeled!!!\n",
    "\n",
    "pd.set_option(\"display.max_columns\", None)\n",
    "gt_df"
   ]
  },
  {
   "cell_type": "code",
   "execution_count": null,
   "id": "bbbc2ada",
   "metadata": {},
   "outputs": [],
   "source": [
    "from matplotlib.pyplot import figure\n",
    "import matplotlib.image as mpimg \n",
    "from scipy import ndimage\n",
    "import re\n",
    "\n",
    "def visualize_gt_frame(frame_row):\n",
    "    img_name = re.search(r'(\\d+[.][jpg]+)', frame_row['img'].values[0]).group(0)\n",
    "    img = mpimg.imread('work_dirs/tumeke_testing/ground_truth_images/BAR-S_water_ballon/{}'.format(img_name))\n",
    "    for j in range(17): # 19 originally\n",
    "        x = \"j{}_x\".format(j)\n",
    "        y = \"j{}_y\".format(j)\n",
    "        l = \"j{}_l\".format(j)\n",
    "        p1 = sns.scatterplot(data=frame_row, x=x, y=y)\n",
    "        # Add text besides each point\n",
    "        p1.text(frame_row[x]+10, frame_row[y], \n",
    "             frame_row[l].values[0], horizontalalignment='left', \n",
    "             size=7, color='white', weight='regular')\n",
    "    plt.imshow(img)\n",
    "    plt.show()"
   ]
  },
  {
   "cell_type": "code",
   "execution_count": null,
   "id": "177eecc3",
   "metadata": {},
   "outputs": [],
   "source": [
    "# visualize_gt_frame(gt_df[0:1])\n",
    "# visualize_gt_frame(gt_df[20:21])"
   ]
  },
  {
   "cell_type": "code",
   "execution_count": null,
   "id": "532491d8",
   "metadata": {},
   "outputs": [],
   "source": [
    "# gt_df[0:1].img.values[0] # 1 indexed - The frame number is the image name"
   ]
  },
  {
   "cell_type": "code",
   "execution_count": null,
   "id": "44bb7b3e",
   "metadata": {},
   "outputs": [],
   "source": [
    "\n"
   ]
  },
  {
   "cell_type": "code",
   "execution_count": null,
   "id": "d39ff8a1",
   "metadata": {},
   "outputs": [],
   "source": [
    "def visualize_overlap(frame_number):\n",
    "    gt_f = gt_df.loc[[frame_number]]\n",
    "    f = df.loc[[frame_number]]\n",
    "    w_f = wrnch_df.loc[[frame_number]]\n",
    "    \n",
    "    frame_img_name = re.search(r'(\\d+[.][jpg]+)', gt_f['img'].values[0]).group(0)\n",
    "    file_img_name = re.findall(r'/([0-9a-zA-Z-_]+)', gt_df[0:1].img.values[0])[1]\n",
    "    img = mpimg.imread('work_dirs/tumeke_testing/ground_truth_images/{}/{}'.format(file_img_name, frame_img_name))\n",
    "    \n",
    "    for j in range(17):\n",
    "        x = \"j{}_x\".format(j)\n",
    "        y = \"j{}_y\".format(j)\n",
    "        l = \"j{}_l\".format(j)\n",
    "        # Ground Truth - BLUE\n",
    "        p1 = sns.scatterplot(data=gt_f, x=x, y=y, color='blue')\n",
    "        p1.text(gt_f[x]-70, gt_f[y], \n",
    "             gt_f[l].values[0], horizontalalignment='left', \n",
    "             size=7, color='blue', weight='regular')\n",
    "        # Hrnet Model - RED\n",
    "        p2 = sns.scatterplot(data=f, x=x, y=y, color='red')\n",
    "        p2.text(f[x]+20, f[y]-1, \n",
    "             f[l].values[0], horizontalalignment='left', \n",
    "             size=7, color='red', weight='regular')\n",
    "        \n",
    "        # Wrnch - GREEN\n",
    "        p3 = sns.scatterplot(data=w_f, x=x, y=y, color='green')\n",
    "        p3.text(w_f[x]+20, w_f[y]+1, \n",
    "             w_f[l].values[0], horizontalalignment='left', \n",
    "             size=7, color='green', weight='regular')\n",
    "        \n",
    "        \n",
    "        \n",
    "    plt.imshow(img)\n",
    "    plt.show()\n",
    "    \n",
    "    \n",
    "visualize_overlap(1000) # 1000"
   ]
  },
  {
   "cell_type": "code",
   "execution_count": null,
   "id": "28e63596",
   "metadata": {},
   "outputs": [],
   "source": [
    "# test = df['j0_x'] / gt_df['j0_x']\n",
    "# test.count()"
   ]
  },
  {
   "cell_type": "code",
   "execution_count": null,
   "id": "b4561bd7",
   "metadata": {},
   "outputs": [],
   "source": [
    "# df.loc[[600]]"
   ]
  },
  {
   "cell_type": "markdown",
   "id": "44a0dae2",
   "metadata": {},
   "source": [
    "## PCK - Percentage of Correct Key-points"
   ]
  },
  {
   "cell_type": "markdown",
   "id": "2f5a5f96",
   "metadata": {},
   "source": [
    "Description: https://github.com/cbsudux/Human-Pose-Estimation-101#percentage-of-correct-parts---pcp\n",
    "\n",
    "\n",
    "Percentage of Correct Key-points - PCK:\n",
    "* Detected joint is considered correct if the distance between the predicted and the true joint is within a certain threshold (threshold varies)\n",
    "* PCKh@0.5 is when the threshold = 50% of the head bone link\n",
    "* PCK@0.2 == Distance between predicted and true joint < 0.2 * torso diameter\n",
    "* Sometimes 150 mm is taken as the threshold\n",
    "* Head, shoulder, Elbow, Wrist, Hip, Knee, Ankle → Keypoints\n",
    "* PCK is used for 2D and 3D (PCK3D)\n",
    "* Higher the better"
   ]
  },
  {
   "cell_type": "code",
   "execution_count": null,
   "id": "5781df93",
   "metadata": {},
   "outputs": [],
   "source": [
    "# pelvis is in the middle of l_hip and r_hip\n",
    "# keypoints_new[0] = (keypoints[11] + keypoints[12]) / 2\n",
    "# thorax is in the middle of l_shoulder and r_shoulder\n",
    "# keypoints_new[8] = (keypoints[5] + keypoints[6]) / 2"
   ]
  },
  {
   "cell_type": "code",
   "execution_count": null,
   "id": "ae130487",
   "metadata": {},
   "outputs": [],
   "source": [
    "# IMPORTANT !!!!!!!!!!! - THIS IS A TEST - CHANGE BACK!\n",
    "# df = wrnch_df\n",
    "# df"
   ]
  },
  {
   "cell_type": "code",
   "execution_count": null,
   "id": "aae80134",
   "metadata": {},
   "outputs": [],
   "source": [
    "def extract_j_pos(f, v, joint_name):\n",
    "    return f['j{}_{}'.format(joint_order.index(joint_name), v)]\n",
    "\n",
    "def get_torso_diameter(x):\n",
    "    return euclidean_dist(np.array([x['pelvis_x'], x['pelvis_y']]), np.array([x['thorax_x'], x['thorax_y']]))\n",
    "\n",
    "for df_i in [df, gt_df]:\n",
    "    \n",
    "    df_i['pelvis_x'] = (extract_j_pos(df_i, 'x', 'L_Hip') + extract_j_pos(df_i, 'x', 'R_Hip')) / 2\n",
    "    df_i['pelvis_y'] = (extract_j_pos(df_i, 'y', 'L_Hip') + extract_j_pos(df_i, 'y', 'R_Hip')) / 2\n",
    "    df_i['thorax_x'] = (extract_j_pos(df_i, 'x', 'L_Shoulder') + extract_j_pos(df_i, 'x', 'R_Shoulder')) / 2\n",
    "    df_i['thorax_y'] = (extract_j_pos(df_i, 'y', 'L_Shoulder') + extract_j_pos(df_i, 'y', 'R_Shoulder')) / 2\n",
    "    \n",
    "    df_i['torso_diameter'] = df_i.apply(lambda x: get_torso_diameter(x), axis=1)"
   ]
  },
  {
   "cell_type": "code",
   "execution_count": null,
   "id": "c5eb2d3c",
   "metadata": {},
   "outputs": [],
   "source": [
    "# 1) Iterate through keypoints and check \n",
    "#    - distance between predicted and true joint < 0.2 * torso diameter\n",
    "\n",
    "# 2) for row, get jX_d (joint detected)\n",
    "\n",
    "# 3) Get percent of all values detected (across all keypoints)"
   ]
  },
  {
   "cell_type": "code",
   "execution_count": null,
   "id": "a0c9d663",
   "metadata": {},
   "outputs": [],
   "source": [
    "pck_threshold_s = .20 * gt_df['torso_diameter']\n",
    "pck_threshold_s"
   ]
  },
  {
   "cell_type": "code",
   "execution_count": null,
   "id": "2f1b49f8",
   "metadata": {},
   "outputs": [],
   "source": [
    "def vect_duclidean_dist(df1, df2, cols=['x_coord','y_coord']):\n",
    "    return np.linalg.norm(df1[cols].values - df2[cols].values, axis=1)\n",
    "\n",
    "pck_df_raw = gt_df[[]] # Return just index\n",
    "for j in range(17):\n",
    "    x = \"j{}_x\".format(j)\n",
    "    y = \"j{}_y\".format(j)\n",
    "    pck_df_raw['{}_ed'.format(joint_order[j])] = vect_duclidean_dist(gt_df, df.iloc[gt_df.index], cols=[x,y])\n",
    "    # pck_df['{}'.format(joint_order[j])] = vec_euclidean_dist(gt_df[[x,y]], df.iloc[gt_df.index][[x,y]])\n",
    "\n",
    "pck_df_raw"
   ]
  },
  {
   "cell_type": "code",
   "execution_count": null,
   "id": "15e6edcc",
   "metadata": {},
   "outputs": [],
   "source": [
    "pck_df_scores = pck_df_raw.lt(pck_threshold_s, axis='index') # True if distance less than PCK threshold\n",
    "pck_df_scores = pck_df_scores.applymap(lambda x: 1 if x == True else 0)\n",
    "pck_df_scores"
   ]
  },
  {
   "cell_type": "code",
   "execution_count": null,
   "id": "ac77cc97",
   "metadata": {},
   "outputs": [],
   "source": [
    "# % Detected frames\n",
    "pck_df_scores.sum(axis=1).apply(lambda x: 1 if x > 0 else 0).sum() / pck_df_scores.sum(axis=1).count()"
   ]
  },
  {
   "cell_type": "code",
   "execution_count": null,
   "id": "b571f756",
   "metadata": {},
   "outputs": [],
   "source": [
    "# Total (all frames)\n",
    "pck_df_scores.sum(axis=1).sum() / pck_df_scores.count(axis=1).sum()"
   ]
  },
  {
   "cell_type": "code",
   "execution_count": null,
   "id": "892e9a7f",
   "metadata": {},
   "outputs": [],
   "source": [
    "# Total (detected frames)\n",
    "pck_detected_df = pck_df_scores.sum(axis=1).apply(lambda x: True if x > 0 else False)\n",
    "pck_df_scores[pck_detected_df].sum(axis=1).sum() / pck_df_scores[pck_detected_df].count(axis=1).sum()"
   ]
  },
  {
   "cell_type": "code",
   "execution_count": null,
   "id": "96367f56",
   "metadata": {},
   "outputs": [],
   "source": [
    "# By Body part\n",
    "pck_df_scores.sum() / pck_df_scores.count()"
   ]
  },
  {
   "cell_type": "code",
   "execution_count": null,
   "id": "1326539d",
   "metadata": {},
   "outputs": [],
   "source": [
    "# by frame\n",
    "# pd.DataFrame(pck_df_scores.sum(axis=1) / pck_df_scores.count(axis=1), columns=['PCK']).plot.area()\n",
    "pd.DataFrame(pck_df_scores).plot.area(title='PCK over time by joint')"
   ]
  },
  {
   "cell_type": "markdown",
   "id": "10801765",
   "metadata": {},
   "source": [
    "## PCP - Percentage of Correct Parts\n"
   ]
  },
  {
   "cell_type": "markdown",
   "id": "d4502aef",
   "metadata": {},
   "source": [
    "https://github.com/cbsudux/Human-Pose-Estimation-101#percentage-of-correct-parts---pcp\n",
    "\n",
    "### Percentage of Correct Parts - PCP\n",
    "* A limb is considered detected and a correct part if the distance between the two predicted joint locations and the true limb joint locations is at most half of the limb length (PCP at 0.5 )\n",
    "* Measures detection rate of limbs\n",
    "* Cons - penalizes shorter limbs\n",
    "\n",
    "Calculation:\n",
    "* For a specific part, PCP = (No. of correct parts for entire dataset) / (No. of total parts for entire dataset)\n",
    "* Take a dataset with 10 images and 1 pose per image. Each pose has 8 parts - ( upper arm, lower arm, upper leg, lower leg ) x2\n",
    "* No of upper arms = 10 * 2 = 20\n",
    "* No of lower arms = 20\n",
    "* No of lower legs = No of upper legs = 20\n",
    "* If upper arm is detected correct for 17 out of the 20 upper arms i.e 17 ( 10 right arms and 7 left) → PCP = 17/20 = 85%\n",
    "\n",
    "Higher the better"
   ]
  },
  {
   "cell_type": "code",
   "execution_count": null,
   "id": "8d2d8d0f",
   "metadata": {},
   "outputs": [],
   "source": [
    "# 1) ground truth limb length\n",
    "\n",
    "# 2) Euclidean distance between joints (already done) + avg between start joint and end joint euclidean distances\n",
    "\n",
    "# 3) Check if limb ed is less than threshold (ground truth limb length * .5)"
   ]
  },
  {
   "cell_type": "code",
   "execution_count": null,
   "id": "74b89238",
   "metadata": {},
   "outputs": [],
   "source": [
    "'''Ground Truth Limb Length'''\n",
    "limbs = [\n",
    "    {'name':'L_upper_arm', 'joints': [joint_order.index('L_Shoulder'), joint_order.index('L_Elbow')]},\n",
    "    {'name':'R_upper_arm', 'joints': [joint_order.index('R_Shoulder'), joint_order.index('R_Elbow')]},\n",
    "    {'name':'L_lower_arm', 'joints': [joint_order.index('L_Elbow'), joint_order.index('L_Wrist')]},\n",
    "    {'name':'R_lower_arm', 'joints': [joint_order.index('R_Elbow'), joint_order.index('R_Wrist')]},\n",
    "    {'name':'L_upper_leg', 'joints': [joint_order.index('L_Hip'), joint_order.index('L_Knee')]},\n",
    "    {'name':'R_upper_leg', 'joints': [joint_order.index('R_Hip'), joint_order.index('R_Knee')]},\n",
    "    {'name':'L_lower_leg', 'joints': [joint_order.index('L_Knee'), joint_order.index('L_Ankle')]},\n",
    "    {'name':'R_lower_leg', 'joints': [joint_order.index('R_Knee'), joint_order.index('R_Ankle')]}\n",
    "]\n",
    "\n",
    "# def get_limb_diameter(r):\n",
    "#     return euclidean_dist(np.array([r[x1], r[y1]]), np.array([r[x2], r[y2]]))\n",
    "\n",
    "pcp_gt_limb_length_df = gt_df[[]] # Return just index\n",
    "for limb in limbs:\n",
    "    # Get ground truth limb length\n",
    "    j1 = limb['joints'][0] # joint 1 index\n",
    "    j2 = limb['joints'][1] # joint 2 index\n",
    "    x1 = \"j{}_x\".format(j1)\n",
    "    y1 = \"j{}_y\".format(j1)\n",
    "    x2 = \"j{}_x\".format(j2)\n",
    "    y2 = \"j{}_y\".format(j2)\n",
    "    pcp_gt_limb_length_df[limb['name']] = gt_df.apply(lambda r: euclidean_dist(np.array([r[x1], r[y1]]), np.array([r[x2], r[y2]])), axis=1)\n",
    "\n",
    "pcp_gt_limb_length_df"
   ]
  },
  {
   "cell_type": "code",
   "execution_count": null,
   "id": "dad552c0",
   "metadata": {},
   "outputs": [],
   "source": [
    "'''PCP Theshold'''\n",
    "pcp_threshold_df = pcp_gt_limb_length_df * 0.50\n",
    "pcp_threshold_df"
   ]
  },
  {
   "cell_type": "code",
   "execution_count": null,
   "id": "00693586",
   "metadata": {},
   "outputs": [],
   "source": [
    "'''Limb Euclidean Dist'''\n",
    "limbs = [\n",
    "    {'name':'L_upper_arm', 'joints': ['L_Shoulder', 'L_Elbow']},\n",
    "    {'name':'R_upper_arm', 'joints': ['R_Shoulder', 'R_Elbow']},\n",
    "    {'name':'L_lower_arm', 'joints': ['L_Elbow', 'L_Wrist']},\n",
    "    {'name':'R_lower_arm', 'joints': ['R_Elbow', 'R_Wrist']},\n",
    "    {'name':'L_upper_leg', 'joints': ['L_Hip', 'L_Knee']},\n",
    "    {'name':'R_upper_leg', 'joints': ['R_Hip', 'R_Knee']},\n",
    "    {'name':'L_lower_leg', 'joints': ['L_Knee', 'L_Ankle']},\n",
    "    {'name':'R_lower_leg', 'joints': ['R_Knee', 'R_Ankle']}\n",
    "]\n",
    "\n",
    "pcp_limb_ed_df = gt_df[[]] # Return just index\n",
    "for limb in limbs:\n",
    "    j1 = limb['joints'][0] # joint 1 name\n",
    "    j2 = limb['joints'][1] # joint 2 name\n",
    "    \n",
    "    pcp_limb_ed_df[limb['name']] = pck_df_raw['{}_ed'.format(j1)] + pck_df_raw['{}_ed'.format(j2)] / 2\n",
    "    \n",
    "pcp_limb_ed_df"
   ]
  },
  {
   "cell_type": "code",
   "execution_count": null,
   "id": "4176794a",
   "metadata": {},
   "outputs": [],
   "source": [
    "# pcp_df_scores = pck_df_raw.lt(pck_threshold_s, axis='index') # True if distance less than PCP threshold\n",
    "# pcp_df_scores = pck_df_scores.applymap(lambda x: 1 if x == True else 0)\n",
    "# pcp_df_scores\n",
    "\n"
   ]
  },
  {
   "cell_type": "code",
   "execution_count": null,
   "id": "305f1696",
   "metadata": {},
   "outputs": [],
   "source": [
    "pcp_df_scores = pcp_limb_ed_df.lt(pcp_threshold_df)\n",
    "pcp_df_scores = pcp_df_scores.applymap(lambda x: 1 if x == True else 0)\n",
    "pcp_df_scores"
   ]
  },
  {
   "cell_type": "code",
   "execution_count": null,
   "id": "9dec0d46",
   "metadata": {},
   "outputs": [],
   "source": [
    "# % Detected frames\n",
    "pcp_df_scores.sum(axis=1).apply(lambda x: 1 if x > 0 else 0).sum() / pcp_df_scores.sum(axis=1).count()"
   ]
  },
  {
   "cell_type": "code",
   "execution_count": null,
   "id": "04947419",
   "metadata": {},
   "outputs": [],
   "source": [
    "# Total (all frames)\n",
    "pcp_df_scores.sum(axis=1).sum() / pcp_df_scores.count(axis=1).sum()"
   ]
  },
  {
   "cell_type": "code",
   "execution_count": null,
   "id": "b4befd49",
   "metadata": {},
   "outputs": [],
   "source": [
    "# Total (detected frames)\n",
    "pcp_detected_df = pcp_df_scores.sum(axis=1).apply(lambda x: True if x > 0 else False)\n",
    "pcp_df_scores[pcp_detected_df].sum(axis=1).sum() / pcp_df_scores[pcp_detected_df].count(axis=1).sum()"
   ]
  },
  {
   "cell_type": "code",
   "execution_count": null,
   "id": "78d056a0",
   "metadata": {},
   "outputs": [],
   "source": [
    "# By Limb\n",
    "pcp_df_scores.sum() / pcp_df_scores.count()"
   ]
  },
  {
   "cell_type": "code",
   "execution_count": null,
   "id": "f39ef3a8",
   "metadata": {},
   "outputs": [],
   "source": [
    "# by Frame\n",
    "pd.DataFrame(pcp_df_scores).plot.area(title='PCP over time by limb')"
   ]
  },
  {
   "cell_type": "code",
   "execution_count": null,
   "id": "1fb217a4",
   "metadata": {},
   "outputs": [],
   "source": [
    "# Update summary calcs!:\n",
    "# 1) For frames where there is an output, how accurate is that output? (if entire row = 0, then exclude row in calculation)\n",
    "# 2) Calculate number of detected frames (rows that have at least 1 value in threshold (row > 1))\n"
   ]
  },
  {
   "cell_type": "markdown",
   "id": "ee2ef9df",
   "metadata": {},
   "source": [
    "# Tests with Modules"
   ]
  },
  {
   "cell_type": "code",
   "execution_count": null,
   "id": "fb1fe1bf",
   "metadata": {},
   "outputs": [],
   "source": [
    "# from tumeke_testing_modules import load_model_data, load_gt_data\n",
    "# from tumeke_testing_modules.visualize_frame import visualize_overlap\n",
    "# from tumeke_testing_modules.pck_calc import pck_calc\n",
    "# from tumeke_testing_modules.pcp_calc import pcp_calc\n",
    "# from tumeke_testing_modules.visualize_df_scores import visualize_df_scores\n",
    "# from tumeke_testing_modules.smoothness_calc import smoothness_calc"
   ]
  },
  {
   "cell_type": "code",
   "execution_count": null,
   "id": "c2364f59",
   "metadata": {},
   "outputs": [],
   "source": [
    "# # file = 'AFG_subject_switching_close_nurses_subjects1_partial'\n",
    "# file = 'BAR-S_water_ballon_trimmed' # Need to export full annotation file, not partial\n",
    "\n",
    "# hrnet_df, wrnch_df = load_model_data.get_hrnet_wrnch_dfs(file)\n",
    "# gt_df = load_gt_data.get_gt_df(file)"
   ]
  },
  {
   "cell_type": "code",
   "execution_count": null,
   "id": "f51fa426",
   "metadata": {},
   "outputs": [],
   "source": [
    "# visualize_df_scores(hrnet_df)"
   ]
  },
  {
   "cell_type": "code",
   "execution_count": null,
   "id": "2a25246e",
   "metadata": {
    "scrolled": false
   },
   "outputs": [],
   "source": [
    "# pck_calc(gt_df, hrnet_df, wrnch_df)"
   ]
  },
  {
   "cell_type": "code",
   "execution_count": null,
   "id": "1f03f60f",
   "metadata": {},
   "outputs": [],
   "source": [
    "# visualize_overlap(gt_df, hrnet_df, wrnch_df, 300)"
   ]
  },
  {
   "cell_type": "code",
   "execution_count": null,
   "id": "a8d26135",
   "metadata": {
    "scrolled": false
   },
   "outputs": [],
   "source": [
    "# pcp_calc(gt_df, hrnet_df, wrnch_df)"
   ]
  },
  {
   "cell_type": "code",
   "execution_count": null,
   "id": "7c52508f",
   "metadata": {
    "scrolled": false
   },
   "outputs": [],
   "source": [
    "# smoothness_calc(gt_df, hrnet_df, wrnch_df)"
   ]
  },
  {
   "cell_type": "code",
   "execution_count": null,
   "id": "020b976c",
   "metadata": {},
   "outputs": [],
   "source": []
  },
  {
   "cell_type": "code",
   "execution_count": null,
   "id": "29107f9f",
   "metadata": {},
   "outputs": [],
   "source": []
  },
  {
   "cell_type": "code",
   "execution_count": null,
   "id": "cd2305c5",
   "metadata": {},
   "outputs": [],
   "source": []
  }
 ],
 "metadata": {
  "kernelspec": {
   "display_name": "Python 3 (ipykernel)",
   "language": "python",
   "name": "python3"
  },
  "language_info": {
   "codemirror_mode": {
    "name": "ipython",
    "version": 3
   },
   "file_extension": ".py",
   "mimetype": "text/x-python",
   "name": "python",
   "nbconvert_exporter": "python",
   "pygments_lexer": "ipython3",
   "version": "3.7.11"
  }
 },
 "nbformat": 4,
 "nbformat_minor": 5
}
