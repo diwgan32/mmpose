{
 "cells": [
  {
   "cell_type": "markdown",
   "id": "4baea66c",
   "metadata": {},
   "source": [
    "# Analyze a video"
   ]
  },
  {
   "cell_type": "markdown",
   "id": "e111889c",
   "metadata": {},
   "source": [
    "The functions avaliabe in this notebook allow you to quickly analyze the performance of hrnet and wrnch vs the ground truth\n",
    "\n",
    "\n",
    "#### To prep a video for analysis:\n",
    "1. Process the video with TuMeke_Testing_Framework.ipynb to store the pickled hrnet joints\n",
    "2. Upload the image files in - work_dirs/tumeke_testing/ground_truth_images\n",
    "3. Upload the full annotation file from label studio to - work_dirs/tumeke_testing/ground_truth_labels\n",
    "3. Upload the wrnch .json file to - work_dirs/tumeke_testing/wrnch_jsons\n",
    "\n",
    "<b>Important note</b>:\n",
    "- Make sure the files in everything above have the same base name (e.g. test.json, test.p), except ground truth labels. Ground truth labels must have whatever names was used in label studio.\n",
    "\n",
    "#### To format the raw data for analysis,  you have the following functions:\n",
    "1. <b>get_hrnet_wrnch_dfs</b>: Formats Hrnet and Wrnch data into a dataframe index by frame for easy analysis\n",
    "2. <b>get_gt_df</b>: Formats ground truth data  into a dataframe index by frame for easy analysis\n",
    "\n",
    "#### To analyze the videos, you have the following functions:\n",
    "1. <b>visualize_df_scores</b>: Visualize the scores of the hrnet data frame\n",
    "2. <b>visualize_overlap</b>: Visualize a specific frame and the keypoints from Ground Truth, Hrnet, and Wrnch\n",
    "3. <b>pck_calc</b>: Output summary stats on PCK (Percentage Correct Keypoints) for Ground Truth, Hrnet, and Wrnch\n",
    "4. <b>pcp_calc</b>: Output summary stats on PCP (Percentage Correct Parts) for Ground Truth, Hrnet, and Wrnch\n",
    "5. <b>smoothness_calc</b>: Output summary stats on smoothness between frames for each joint"
   ]
  },
  {
   "cell_type": "code",
   "execution_count": null,
   "id": "4cb894d3",
   "metadata": {},
   "outputs": [],
   "source": [
    "from tumeke_testing_modules.load_model_data import get_hrnet_wrnch_dfs\n",
    "from tumeke_testing_modules.load_gt_data import get_gt_df\n",
    "from tumeke_testing_modules.visualize_frame import visualize_overlap\n",
    "from tumeke_testing_modules.pck_calc import pck_calc\n",
    "from tumeke_testing_modules.pcp_calc import pcp_calc\n",
    "from tumeke_testing_modules.visualize_df_scores import visualize_df_scores\n",
    "from tumeke_testing_modules.smoothness_calc import smoothness_calc"
   ]
  },
  {
   "cell_type": "markdown",
   "id": "9cdc103e",
   "metadata": {},
   "source": [
    "### Load Data"
   ]
  },
  {
   "cell_type": "code",
   "execution_count": null,
   "id": "17c10c98",
   "metadata": {},
   "outputs": [],
   "source": [
    "# file = 'AFG_subject_switching_close_nurses_subjects1_partial'\n",
    "file = 'BAR-S_water_ballon_trimmed'\n",
    "\n",
    "# MAKE SURE YOU UPDATE THIS WHEN CHANGING VIDEOS!\n",
    "multiple_subjects = False\n",
    "\n",
    "hrnet_df, wrnch_df = get_hrnet_wrnch_dfs(file)\n",
    "gt_df = get_gt_df(file, multiple_subjects)"
   ]
  },
  {
   "cell_type": "markdown",
   "id": "b70b115c",
   "metadata": {},
   "source": [
    "### Analyze"
   ]
  },
  {
   "cell_type": "code",
   "execution_count": null,
   "id": "f94a9583",
   "metadata": {},
   "outputs": [],
   "source": [
    "visualize_df_scores(hrnet_df)"
   ]
  },
  {
   "cell_type": "code",
   "execution_count": null,
   "id": "83d4cb06",
   "metadata": {},
   "outputs": [],
   "source": [
    "visualize_overlap(gt_df, hrnet_df, wrnch_df, 600)"
   ]
  },
  {
   "cell_type": "code",
   "execution_count": null,
   "id": "98160bbc",
   "metadata": {
    "scrolled": false
   },
   "outputs": [],
   "source": [
    "pck_calc(gt_df, hrnet_df, wrnch_df)"
   ]
  },
  {
   "cell_type": "code",
   "execution_count": null,
   "id": "ddea7628",
   "metadata": {
    "scrolled": false
   },
   "outputs": [],
   "source": [
    "pcp_calc(gt_df, hrnet_df, wrnch_df)"
   ]
  },
  {
   "cell_type": "code",
   "execution_count": null,
   "id": "6506280d",
   "metadata": {
    "scrolled": false
   },
   "outputs": [],
   "source": [
    "smoothness_calc(gt_df, hrnet_df, wrnch_df)"
   ]
  },
  {
   "cell_type": "code",
   "execution_count": null,
   "id": "1b0d1214",
   "metadata": {},
   "outputs": [],
   "source": []
  },
  {
   "cell_type": "code",
   "execution_count": null,
   "id": "14df9d48",
   "metadata": {},
   "outputs": [],
   "source": []
  }
 ],
 "metadata": {
  "kernelspec": {
   "display_name": "Python 3",
   "language": "python",
   "name": "python3"
  },
  "language_info": {
   "codemirror_mode": {
    "name": "ipython",
    "version": 3
   },
   "file_extension": ".py",
   "mimetype": "text/x-python",
   "name": "python",
   "nbconvert_exporter": "python",
   "pygments_lexer": "ipython3",
   "version": "3.6.9"
  }
 },
 "nbformat": 4,
 "nbformat_minor": 5
}
